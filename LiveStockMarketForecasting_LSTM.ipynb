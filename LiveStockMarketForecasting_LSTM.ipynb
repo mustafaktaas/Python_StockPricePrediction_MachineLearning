{
 "cells": [
  {
   "cell_type": "markdown",
   "id": "eae97155-c155-4745-9949-aebddadd45fc",
   "metadata": {},
   "source": [
    "# Stock Price Prediction Using LSTM"
   ]
  },
  {
   "cell_type": "code",
   "execution_count": 1,
   "id": "f8695936-eeb3-40b8-b93e-f19ae39cd39b",
   "metadata": {
    "collapsed": true,
    "jupyter": {
     "outputs_hidden": true
    },
    "tags": []
   },
   "outputs": [
    {
     "name": "stdout",
     "output_type": "stream",
     "text": [
      "Requirement already satisfied: yfinance in c:\\users\\mustafa\\anaconda3\\lib\\site-packages (0.1.75)\n",
      "Requirement already satisfied: requests>=2.26 in c:\\users\\mustafa\\anaconda3\\lib\\site-packages (from yfinance) (2.27.1)\n",
      "Requirement already satisfied: multitasking>=0.0.7 in c:\\users\\mustafa\\anaconda3\\lib\\site-packages (from yfinance) (0.0.11)\n",
      "Requirement already satisfied: pandas>=0.24.0 in c:\\users\\mustafa\\anaconda3\\lib\\site-packages (from yfinance) (1.4.2)\n",
      "Requirement already satisfied: appdirs>=1.4.4 in c:\\users\\mustafa\\anaconda3\\lib\\site-packages (from yfinance) (1.4.4)\n",
      "Requirement already satisfied: lxml>=4.5.1 in c:\\users\\mustafa\\anaconda3\\lib\\site-packages (from yfinance) (4.8.0)\n",
      "Requirement already satisfied: numpy>=1.15 in c:\\users\\mustafa\\anaconda3\\lib\\site-packages (from yfinance) (1.21.5)\n",
      "Requirement already satisfied: pytz>=2020.1 in c:\\users\\mustafa\\anaconda3\\lib\\site-packages (from pandas>=0.24.0->yfinance) (2021.3)\n",
      "Requirement already satisfied: python-dateutil>=2.8.1 in c:\\users\\mustafa\\anaconda3\\lib\\site-packages (from pandas>=0.24.0->yfinance) (2.8.2)\n",
      "Requirement already satisfied: six>=1.5 in c:\\users\\mustafa\\anaconda3\\lib\\site-packages (from python-dateutil>=2.8.1->pandas>=0.24.0->yfinance) (1.16.0)\n",
      "Requirement already satisfied: charset-normalizer~=2.0.0 in c:\\users\\mustafa\\anaconda3\\lib\\site-packages (from requests>=2.26->yfinance) (2.0.4)\n",
      "Requirement already satisfied: certifi>=2017.4.17 in c:\\users\\mustafa\\anaconda3\\lib\\site-packages (from requests>=2.26->yfinance) (2022.9.14)\n",
      "Requirement already satisfied: urllib3<1.27,>=1.21.1 in c:\\users\\mustafa\\anaconda3\\lib\\site-packages (from requests>=2.26->yfinance) (1.26.9)\n",
      "Requirement already satisfied: idna<4,>=2.5 in c:\\users\\mustafa\\anaconda3\\lib\\site-packages (from requests>=2.26->yfinance) (3.3)\n"
     ]
    },
    {
     "name": "stderr",
     "output_type": "stream",
     "text": [
      "WARNING: Ignoring invalid distribution -atplotlib (c:\\users\\mustafa\\anaconda3\\lib\\site-packages)\n",
      "WARNING: Ignoring invalid distribution -atplotlib (c:\\users\\mustafa\\anaconda3\\lib\\site-packages)\n",
      "WARNING: Ignoring invalid distribution -atplotlib (c:\\users\\mustafa\\anaconda3\\lib\\site-packages)\n",
      "WARNING: Ignoring invalid distribution -atplotlib (c:\\users\\mustafa\\anaconda3\\lib\\site-packages)\n",
      "WARNING: Ignoring invalid distribution -atplotlib (c:\\users\\mustafa\\anaconda3\\lib\\site-packages)\n",
      "WARNING: Ignoring invalid distribution -atplotlib (c:\\users\\mustafa\\anaconda3\\lib\\site-packages)\n"
     ]
    }
   ],
   "source": [
    "!pip install yfinance"
   ]
  },
  {
   "cell_type": "code",
   "execution_count": 2,
   "id": "06b1d887-1c78-40dd-a823-62fdc86cca39",
   "metadata": {},
   "outputs": [],
   "source": [
    "import yfinance as yf"
   ]
  },
  {
   "cell_type": "code",
   "execution_count": 3,
   "id": "9ab1a7f2-88bc-45f7-9ab6-b46967268e2b",
   "metadata": {},
   "outputs": [],
   "source": [
    "stock_symbol = \"AAPL\""
   ]
  },
  {
   "cell_type": "code",
   "execution_count": 7,
   "id": "0c9abdb0-c56d-4c03-9b54-a77bbfd52a0c",
   "metadata": {},
   "outputs": [
    {
     "name": "stdout",
     "output_type": "stream",
     "text": [
      "[*********************100%***********************]  1 of 1 completed\n"
     ]
    }
   ],
   "source": [
    "data = yf.download(tickers = stock_symbol,start=\"2021-01-01\",end = \"2022-10-10\",interval = \"1h\")"
   ]
  },
  {
   "cell_type": "code",
   "execution_count": 9,
   "id": "69e60743-f76c-4e7a-a7f1-420eb6c751bb",
   "metadata": {},
   "outputs": [
    {
     "data": {
      "text/html": [
       "<div>\n",
       "<style scoped>\n",
       "    .dataframe tbody tr th:only-of-type {\n",
       "        vertical-align: middle;\n",
       "    }\n",
       "\n",
       "    .dataframe tbody tr th {\n",
       "        vertical-align: top;\n",
       "    }\n",
       "\n",
       "    .dataframe thead th {\n",
       "        text-align: right;\n",
       "    }\n",
       "</style>\n",
       "<table border=\"1\" class=\"dataframe\">\n",
       "  <thead>\n",
       "    <tr style=\"text-align: right;\">\n",
       "      <th></th>\n",
       "      <th>Open</th>\n",
       "      <th>High</th>\n",
       "      <th>Low</th>\n",
       "      <th>Close</th>\n",
       "      <th>Adj Close</th>\n",
       "      <th>Volume</th>\n",
       "    </tr>\n",
       "  </thead>\n",
       "  <tbody>\n",
       "    <tr>\n",
       "      <th>2021-01-04 09:30:00-05:00</th>\n",
       "      <td>133.570007</td>\n",
       "      <td>133.611603</td>\n",
       "      <td>130.380005</td>\n",
       "      <td>131.053604</td>\n",
       "      <td>131.053604</td>\n",
       "      <td>27653145</td>\n",
       "    </tr>\n",
       "    <tr>\n",
       "      <th>2021-01-04 10:30:00-05:00</th>\n",
       "      <td>131.054993</td>\n",
       "      <td>131.309998</td>\n",
       "      <td>129.399994</td>\n",
       "      <td>129.895004</td>\n",
       "      <td>129.895004</td>\n",
       "      <td>20134055</td>\n",
       "    </tr>\n",
       "    <tr>\n",
       "      <th>2021-01-04 11:30:00-05:00</th>\n",
       "      <td>129.889893</td>\n",
       "      <td>130.089996</td>\n",
       "      <td>126.760002</td>\n",
       "      <td>128.250000</td>\n",
       "      <td>128.250000</td>\n",
       "      <td>23694210</td>\n",
       "    </tr>\n",
       "    <tr>\n",
       "      <th>2021-01-04 12:30:00-05:00</th>\n",
       "      <td>128.246902</td>\n",
       "      <td>129.110001</td>\n",
       "      <td>127.630096</td>\n",
       "      <td>129.039795</td>\n",
       "      <td>129.039795</td>\n",
       "      <td>14745063</td>\n",
       "    </tr>\n",
       "    <tr>\n",
       "      <th>2021-01-04 13:30:00-05:00</th>\n",
       "      <td>129.039993</td>\n",
       "      <td>129.199997</td>\n",
       "      <td>128.595001</td>\n",
       "      <td>128.960007</td>\n",
       "      <td>128.960007</td>\n",
       "      <td>10861778</td>\n",
       "    </tr>\n",
       "    <tr>\n",
       "      <th>...</th>\n",
       "      <td>...</td>\n",
       "      <td>...</td>\n",
       "      <td>...</td>\n",
       "      <td>...</td>\n",
       "      <td>...</td>\n",
       "      <td>...</td>\n",
       "    </tr>\n",
       "    <tr>\n",
       "      <th>2022-10-07 11:30:00-04:00</th>\n",
       "      <td>141.240005</td>\n",
       "      <td>141.479996</td>\n",
       "      <td>140.639008</td>\n",
       "      <td>140.675003</td>\n",
       "      <td>140.675003</td>\n",
       "      <td>7405620</td>\n",
       "    </tr>\n",
       "    <tr>\n",
       "      <th>2022-10-07 12:30:00-04:00</th>\n",
       "      <td>140.669998</td>\n",
       "      <td>140.720001</td>\n",
       "      <td>139.940002</td>\n",
       "      <td>140.279999</td>\n",
       "      <td>140.279999</td>\n",
       "      <td>7685803</td>\n",
       "    </tr>\n",
       "    <tr>\n",
       "      <th>2022-10-07 13:30:00-04:00</th>\n",
       "      <td>140.145004</td>\n",
       "      <td>140.600006</td>\n",
       "      <td>140.035004</td>\n",
       "      <td>140.077896</td>\n",
       "      <td>140.077896</td>\n",
       "      <td>6175166</td>\n",
       "    </tr>\n",
       "    <tr>\n",
       "      <th>2022-10-07 14:30:00-04:00</th>\n",
       "      <td>140.070007</td>\n",
       "      <td>140.535004</td>\n",
       "      <td>139.600006</td>\n",
       "      <td>139.721893</td>\n",
       "      <td>139.721893</td>\n",
       "      <td>8536199</td>\n",
       "    </tr>\n",
       "    <tr>\n",
       "      <th>2022-10-07 15:30:00-04:00</th>\n",
       "      <td>139.720001</td>\n",
       "      <td>140.490005</td>\n",
       "      <td>139.445007</td>\n",
       "      <td>140.080002</td>\n",
       "      <td>140.080002</td>\n",
       "      <td>13306374</td>\n",
       "    </tr>\n",
       "  </tbody>\n",
       "</table>\n",
       "<p>3112 rows × 6 columns</p>\n",
       "</div>"
      ],
      "text/plain": [
       "                                 Open        High         Low       Close  \\\n",
       "2021-01-04 09:30:00-05:00  133.570007  133.611603  130.380005  131.053604   \n",
       "2021-01-04 10:30:00-05:00  131.054993  131.309998  129.399994  129.895004   \n",
       "2021-01-04 11:30:00-05:00  129.889893  130.089996  126.760002  128.250000   \n",
       "2021-01-04 12:30:00-05:00  128.246902  129.110001  127.630096  129.039795   \n",
       "2021-01-04 13:30:00-05:00  129.039993  129.199997  128.595001  128.960007   \n",
       "...                               ...         ...         ...         ...   \n",
       "2022-10-07 11:30:00-04:00  141.240005  141.479996  140.639008  140.675003   \n",
       "2022-10-07 12:30:00-04:00  140.669998  140.720001  139.940002  140.279999   \n",
       "2022-10-07 13:30:00-04:00  140.145004  140.600006  140.035004  140.077896   \n",
       "2022-10-07 14:30:00-04:00  140.070007  140.535004  139.600006  139.721893   \n",
       "2022-10-07 15:30:00-04:00  139.720001  140.490005  139.445007  140.080002   \n",
       "\n",
       "                            Adj Close    Volume  \n",
       "2021-01-04 09:30:00-05:00  131.053604  27653145  \n",
       "2021-01-04 10:30:00-05:00  129.895004  20134055  \n",
       "2021-01-04 11:30:00-05:00  128.250000  23694210  \n",
       "2021-01-04 12:30:00-05:00  129.039795  14745063  \n",
       "2021-01-04 13:30:00-05:00  128.960007  10861778  \n",
       "...                               ...       ...  \n",
       "2022-10-07 11:30:00-04:00  140.675003   7405620  \n",
       "2022-10-07 12:30:00-04:00  140.279999   7685803  \n",
       "2022-10-07 13:30:00-04:00  140.077896   6175166  \n",
       "2022-10-07 14:30:00-04:00  139.721893   8536199  \n",
       "2022-10-07 15:30:00-04:00  140.080002  13306374  \n",
       "\n",
       "[3112 rows x 6 columns]"
      ]
     },
     "execution_count": 9,
     "metadata": {},
     "output_type": "execute_result"
    }
   ],
   "source": [
    "data"
   ]
  },
  {
   "cell_type": "code",
   "execution_count": 10,
   "id": "c23e43d7-ce44-45aa-aae4-ed516961fc54",
   "metadata": {},
   "outputs": [
    {
     "name": "stdout",
     "output_type": "stream",
     "text": [
      "<class 'pandas.core.frame.DataFrame'>\n",
      "DatetimeIndex: 3112 entries, 2021-01-04 09:30:00-05:00 to 2022-10-07 15:30:00-04:00\n",
      "Data columns (total 6 columns):\n",
      " #   Column     Non-Null Count  Dtype  \n",
      "---  ------     --------------  -----  \n",
      " 0   Open       3112 non-null   float64\n",
      " 1   High       3112 non-null   float64\n",
      " 2   Low        3112 non-null   float64\n",
      " 3   Close      3112 non-null   float64\n",
      " 4   Adj Close  3112 non-null   float64\n",
      " 5   Volume     3112 non-null   int64  \n",
      "dtypes: float64(5), int64(1)\n",
      "memory usage: 170.2 KB\n"
     ]
    }
   ],
   "source": [
    "data.info()"
   ]
  },
  {
   "cell_type": "code",
   "execution_count": 14,
   "id": "7766645a-0115-4782-968f-4fe94b34f1aa",
   "metadata": {},
   "outputs": [
    {
     "data": {
      "text/plain": [
       "<AxesSubplot:>"
      ]
     },
     "execution_count": 14,
     "metadata": {},
     "output_type": "execute_result"
    },
    {
     "data": {
      "image/png": "[encoded data removed]",
      "text/plain": [
       "<Figure size 432x288 with 1 Axes>"
      ]
     },
     "metadata": {
      "needs_background": "light"
     },
     "output_type": "display_data"
    }
   ],
   "source": [
    "data[\"Open\"].plot()"
   ]
  },
  {
   "cell_type": "code",
   "execution_count": 15,
   "id": "aa6ac9d5-d482-4c07-a75d-4de2b9504016",
   "metadata": {},
   "outputs": [],
   "source": [
    "import matplotlib.pyplot as plt"
   ]
  },
  {
   "cell_type": "code",
   "execution_count": 17,
   "id": "6aa02708-b815-45a1-8827-6260e94640db",
   "metadata": {},
   "outputs": [],
   "source": [
    "ds = data[\"Open\"].values"
   ]
  },
  {
   "cell_type": "code",
   "execution_count": 18,
   "id": "b529f868-a11a-449f-8504-9696268397b2",
   "metadata": {},
   "outputs": [
    {
     "data": {
      "text/plain": [
       "array([133.57000732, 131.05499268, 129.88989258, ..., 140.14500427,\n",
       "       140.07000732, 139.72000122])"
      ]
     },
     "execution_count": 18,
     "metadata": {},
     "output_type": "execute_result"
    }
   ],
   "source": [
    "ds"
   ]
  },
  {
   "cell_type": "code",
   "execution_count": 19,
   "id": "560f1212-368f-40b9-bdce-c3c27686b9f3",
   "metadata": {},
   "outputs": [
    {
     "data": {
      "text/plain": [
       "[<matplotlib.lines.Line2D at 0x1eee9b29400>]"
      ]
     },
     "execution_count": 19,
     "metadata": {},
     "output_type": "execute_result"
    },
    {
     "data": {
      "image/png": "[encoded data removed]",
      "text/plain": [
       "<Figure size 432x288 with 1 Axes>"
      ]
     },
     "metadata": {
      "needs_background": "light"
     },
     "output_type": "display_data"
    }
   ],
   "source": [
    "plt.plot(ds)"
   ]
  },
  {
   "cell_type": "code",
   "execution_count": null,
   "id": "ad6ac4cf-3791-4b22-956a-cd2315214ed7",
   "metadata": {},
   "outputs": [],
   "source": []
  }
 ],
 "metadata": {
  "kernelspec": {
   "display_name": "Python 3 (ipykernel)",
   "language": "python",
   "name": "python3"
  },
  "language_info": {
   "codemirror_mode": {
    "name": "ipython",
    "version": 3
   },
   "file_extension": ".py",
   "mimetype": "text/x-python",
   "name": "python",
   "nbconvert_exporter": "python",
   "pygments_lexer": "ipython3",
   "version": "3.9.12"
  }
 },
 "nbformat": 4,
 "nbformat_minor": 5
}
