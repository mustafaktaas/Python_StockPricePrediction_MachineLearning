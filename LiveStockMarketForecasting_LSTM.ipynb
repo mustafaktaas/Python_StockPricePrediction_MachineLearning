{
 "cells": [
  {
   "cell_type": "markdown",
   "id": "eae97155-c155-4745-9949-aebddadd45fc",
   "metadata": {},
   "source": [
    "# Stock Price Prediction Using LSTM"
   ]
  },
  {
   "cell_type": "code",
   "execution_count": 1,
   "id": "f8695936-eeb3-40b8-b93e-f19ae39cd39b",
   "metadata": {
    "tags": []
   },
   "outputs": [
    {
     "name": "stdout",
     "output_type": "stream",
     "text": [
      "Requirement already satisfied: yfinance in c:\\users\\mustafa\\anaconda3\\lib\\site-packages (0.1.75)\n",
      "Requirement already satisfied: pandas>=0.24.0 in c:\\users\\mustafa\\anaconda3\\lib\\site-packages (from yfinance) (1.4.2)\n",
      "Requirement already satisfied: multitasking>=0.0.7 in c:\\users\\mustafa\\anaconda3\\lib\\site-packages (from yfinance) (0.0.11)\n",
      "Requirement already satisfied: appdirs>=1.4.4 in c:\\users\\mustafa\\anaconda3\\lib\\site-packages (from yfinance) (1.4.4)\n",
      "Requirement already satisfied: numpy>=1.15 in c:\\users\\mustafa\\anaconda3\\lib\\site-packages (from yfinance) (1.21.5)\n",
      "Requirement already satisfied: lxml>=4.5.1 in c:\\users\\mustafa\\anaconda3\\lib\\site-packages (from yfinance) (4.8.0)\n",
      "Requirement already satisfied: requests>=2.26 in c:\\users\\mustafa\\anaconda3\\lib\\site-packages (from yfinance) (2.27.1)\n",
      "Requirement already satisfied: pytz>=2020.1 in c:\\users\\mustafa\\anaconda3\\lib\\site-packages (from pandas>=0.24.0->yfinance) (2021.3)\n",
      "Requirement already satisfied: python-dateutil>=2.8.1 in c:\\users\\mustafa\\anaconda3\\lib\\site-packages (from pandas>=0.24.0->yfinance) (2.8.2)\n",
      "Requirement already satisfied: six>=1.5 in c:\\users\\mustafa\\anaconda3\\lib\\site-packages (from python-dateutil>=2.8.1->pandas>=0.24.0->yfinance) (1.16.0)\n",
      "Requirement already satisfied: charset-normalizer~=2.0.0 in c:\\users\\mustafa\\anaconda3\\lib\\site-packages (from requests>=2.26->yfinance) (2.0.4)\n",
      "Requirement already satisfied: idna<4,>=2.5 in c:\\users\\mustafa\\anaconda3\\lib\\site-packages (from requests>=2.26->yfinance) (3.3)\n",
      "Requirement already satisfied: certifi>=2017.4.17 in c:\\users\\mustafa\\anaconda3\\lib\\site-packages (from requests>=2.26->yfinance) (2022.9.14)\n",
      "Requirement already satisfied: urllib3<1.27,>=1.21.1 in c:\\users\\mustafa\\anaconda3\\lib\\site-packages (from requests>=2.26->yfinance) (1.26.9)\n"
     ]
    },
    {
     "name": "stderr",
     "output_type": "stream",
     "text": [
      "WARNING: Ignoring invalid distribution -atplotlib (c:\\users\\mustafa\\anaconda3\\lib\\site-packages)\n",
      "WARNING: Ignoring invalid distribution -atplotlib (c:\\users\\mustafa\\anaconda3\\lib\\site-packages)\n",
      "WARNING: Ignoring invalid distribution -atplotlib (c:\\users\\mustafa\\anaconda3\\lib\\site-packages)\n",
      "WARNING: Ignoring invalid distribution -atplotlib (c:\\users\\mustafa\\anaconda3\\lib\\site-packages)\n",
      "WARNING: Ignoring invalid distribution -atplotlib (c:\\users\\mustafa\\anaconda3\\lib\\site-packages)\n",
      "WARNING: Ignoring invalid distribution -atplotlib (c:\\users\\mustafa\\anaconda3\\lib\\site-packages)\n"
     ]
    }
   ],
   "source": [
    "!pip install yfinance"
   ]
  },
  {
   "cell_type": "code",
   "execution_count": 2,
   "id": "06b1d887-1c78-40dd-a823-62fdc86cca39",
   "metadata": {},
   "outputs": [],
   "source": [
    "import yfinance as yf"
   ]
  },
  {
   "cell_type": "code",
   "execution_count": 94,
   "id": "9ab1a7f2-88bc-45f7-9ab6-b46967268e2b",
   "metadata": {},
   "outputs": [],
   "source": [
    "stock_symbol = \"EREGL.IS\""
   ]
  },
  {
   "cell_type": "code",
   "execution_count": 95,
   "id": "0c9abdb0-c56d-4c03-9b54-a77bbfd52a0c",
   "metadata": {},
   "outputs": [
    {
     "name": "stdout",
     "output_type": "stream",
     "text": [
      "[*********************100%***********************]  1 of 1 completed\n"
     ]
    }
   ],
   "source": [
    "data = yf.download(tickers = stock_symbol,start=\"2021-01-01\",end = \"2022-10-10\",interval = \"1h\")"
   ]
  },
  {
   "cell_type": "code",
   "execution_count": 96,
   "id": "69e60743-f76c-4e7a-a7f1-420eb6c751bb",
   "metadata": {},
   "outputs": [
    {
     "data": {
      "text/html": [
       "<div>\n",
       "<style scoped>\n",
       "    .dataframe tbody tr th:only-of-type {\n",
       "        vertical-align: middle;\n",
       "    }\n",
       "\n",
       "    .dataframe tbody tr th {\n",
       "        vertical-align: top;\n",
       "    }\n",
       "\n",
       "    .dataframe thead th {\n",
       "        text-align: right;\n",
       "    }\n",
       "</style>\n",
       "<table border=\"1\" class=\"dataframe\">\n",
       "  <thead>\n",
       "    <tr style=\"text-align: right;\">\n",
       "      <th></th>\n",
       "      <th>Open</th>\n",
       "      <th>High</th>\n",
       "      <th>Low</th>\n",
       "      <th>Close</th>\n",
       "      <th>Adj Close</th>\n",
       "      <th>Volume</th>\n",
       "    </tr>\n",
       "  </thead>\n",
       "  <tbody>\n",
       "    <tr>\n",
       "      <th>2021-01-04 10:30:00+03:00</th>\n",
       "      <td>14.86</td>\n",
       "      <td>14.95</td>\n",
       "      <td>14.85</td>\n",
       "      <td>14.93</td>\n",
       "      <td>14.93</td>\n",
       "      <td>2809715</td>\n",
       "    </tr>\n",
       "    <tr>\n",
       "      <th>2021-01-04 11:30:00+03:00</th>\n",
       "      <td>14.93</td>\n",
       "      <td>14.96</td>\n",
       "      <td>14.88</td>\n",
       "      <td>14.93</td>\n",
       "      <td>14.93</td>\n",
       "      <td>1566558</td>\n",
       "    </tr>\n",
       "    <tr>\n",
       "      <th>2021-01-04 12:30:00+03:00</th>\n",
       "      <td>14.93</td>\n",
       "      <td>15.10</td>\n",
       "      <td>14.91</td>\n",
       "      <td>15.01</td>\n",
       "      <td>15.01</td>\n",
       "      <td>2856536</td>\n",
       "    </tr>\n",
       "    <tr>\n",
       "      <th>2021-01-04 13:30:00+03:00</th>\n",
       "      <td>15.01</td>\n",
       "      <td>15.04</td>\n",
       "      <td>14.90</td>\n",
       "      <td>14.92</td>\n",
       "      <td>14.92</td>\n",
       "      <td>2113516</td>\n",
       "    </tr>\n",
       "    <tr>\n",
       "      <th>2021-01-04 14:30:00+03:00</th>\n",
       "      <td>14.91</td>\n",
       "      <td>14.93</td>\n",
       "      <td>14.73</td>\n",
       "      <td>14.84</td>\n",
       "      <td>14.84</td>\n",
       "      <td>3430992</td>\n",
       "    </tr>\n",
       "    <tr>\n",
       "      <th>2021-01-04 15:30:00+03:00</th>\n",
       "      <td>14.84</td>\n",
       "      <td>14.90</td>\n",
       "      <td>14.80</td>\n",
       "      <td>14.81</td>\n",
       "      <td>14.81</td>\n",
       "      <td>2123880</td>\n",
       "    </tr>\n",
       "    <tr>\n",
       "      <th>2021-01-04 16:30:00+03:00</th>\n",
       "      <td>14.80</td>\n",
       "      <td>14.83</td>\n",
       "      <td>14.76</td>\n",
       "      <td>14.82</td>\n",
       "      <td>14.82</td>\n",
       "      <td>1844437</td>\n",
       "    </tr>\n",
       "    <tr>\n",
       "      <th>2021-01-04 17:30:00+03:00</th>\n",
       "      <td>14.82</td>\n",
       "      <td>14.82</td>\n",
       "      <td>14.79</td>\n",
       "      <td>14.80</td>\n",
       "      <td>14.80</td>\n",
       "      <td>1744276</td>\n",
       "    </tr>\n",
       "    <tr>\n",
       "      <th>2021-01-05 10:30:00+03:00</th>\n",
       "      <td>14.97</td>\n",
       "      <td>14.98</td>\n",
       "      <td>14.77</td>\n",
       "      <td>14.78</td>\n",
       "      <td>14.78</td>\n",
       "      <td>4793225</td>\n",
       "    </tr>\n",
       "    <tr>\n",
       "      <th>2021-01-05 11:30:00+03:00</th>\n",
       "      <td>14.78</td>\n",
       "      <td>14.81</td>\n",
       "      <td>14.73</td>\n",
       "      <td>14.77</td>\n",
       "      <td>14.77</td>\n",
       "      <td>2526962</td>\n",
       "    </tr>\n",
       "    <tr>\n",
       "      <th>2021-01-05 12:30:00+03:00</th>\n",
       "      <td>14.77</td>\n",
       "      <td>14.84</td>\n",
       "      <td>14.74</td>\n",
       "      <td>14.76</td>\n",
       "      <td>14.76</td>\n",
       "      <td>1846370</td>\n",
       "    </tr>\n",
       "    <tr>\n",
       "      <th>2021-01-05 13:30:00+03:00</th>\n",
       "      <td>14.76</td>\n",
       "      <td>14.80</td>\n",
       "      <td>14.73</td>\n",
       "      <td>14.76</td>\n",
       "      <td>14.76</td>\n",
       "      <td>1712082</td>\n",
       "    </tr>\n",
       "    <tr>\n",
       "      <th>2021-01-05 14:30:00+03:00</th>\n",
       "      <td>14.76</td>\n",
       "      <td>14.76</td>\n",
       "      <td>14.55</td>\n",
       "      <td>14.67</td>\n",
       "      <td>14.67</td>\n",
       "      <td>4219205</td>\n",
       "    </tr>\n",
       "    <tr>\n",
       "      <th>2021-01-05 15:30:00+03:00</th>\n",
       "      <td>14.66</td>\n",
       "      <td>14.69</td>\n",
       "      <td>14.54</td>\n",
       "      <td>14.54</td>\n",
       "      <td>14.54</td>\n",
       "      <td>2277376</td>\n",
       "    </tr>\n",
       "    <tr>\n",
       "      <th>2021-01-05 16:30:00+03:00</th>\n",
       "      <td>14.54</td>\n",
       "      <td>14.57</td>\n",
       "      <td>14.41</td>\n",
       "      <td>14.49</td>\n",
       "      <td>14.49</td>\n",
       "      <td>4348258</td>\n",
       "    </tr>\n",
       "  </tbody>\n",
       "</table>\n",
       "</div>"
      ],
      "text/plain": [
       "                            Open   High    Low  Close  Adj Close   Volume\n",
       "2021-01-04 10:30:00+03:00  14.86  14.95  14.85  14.93      14.93  2809715\n",
       "2021-01-04 11:30:00+03:00  14.93  14.96  14.88  14.93      14.93  1566558\n",
       "2021-01-04 12:30:00+03:00  14.93  15.10  14.91  15.01      15.01  2856536\n",
       "2021-01-04 13:30:00+03:00  15.01  15.04  14.90  14.92      14.92  2113516\n",
       "2021-01-04 14:30:00+03:00  14.91  14.93  14.73  14.84      14.84  3430992\n",
       "2021-01-04 15:30:00+03:00  14.84  14.90  14.80  14.81      14.81  2123880\n",
       "2021-01-04 16:30:00+03:00  14.80  14.83  14.76  14.82      14.82  1844437\n",
       "2021-01-04 17:30:00+03:00  14.82  14.82  14.79  14.80      14.80  1744276\n",
       "2021-01-05 10:30:00+03:00  14.97  14.98  14.77  14.78      14.78  4793225\n",
       "2021-01-05 11:30:00+03:00  14.78  14.81  14.73  14.77      14.77  2526962\n",
       "2021-01-05 12:30:00+03:00  14.77  14.84  14.74  14.76      14.76  1846370\n",
       "2021-01-05 13:30:00+03:00  14.76  14.80  14.73  14.76      14.76  1712082\n",
       "2021-01-05 14:30:00+03:00  14.76  14.76  14.55  14.67      14.67  4219205\n",
       "2021-01-05 15:30:00+03:00  14.66  14.69  14.54  14.54      14.54  2277376\n",
       "2021-01-05 16:30:00+03:00  14.54  14.57  14.41  14.49      14.49  4348258"
      ]
     },
     "execution_count": 96,
     "metadata": {},
     "output_type": "execute_result"
    }
   ],
   "source": [
    "data.head(15)"
   ]
  },
  {
   "cell_type": "code",
   "execution_count": 97,
   "id": "c23e43d7-ce44-45aa-aae4-ed516961fc54",
   "metadata": {},
   "outputs": [
    {
     "name": "stdout",
     "output_type": "stream",
     "text": [
      "<class 'pandas.core.frame.DataFrame'>\n",
      "DatetimeIndex: 3571 entries, 2021-01-04 10:30:00+03:00 to 2022-10-07 17:30:00+03:00\n",
      "Data columns (total 6 columns):\n",
      " #   Column     Non-Null Count  Dtype  \n",
      "---  ------     --------------  -----  \n",
      " 0   Open       3571 non-null   float64\n",
      " 1   High       3571 non-null   float64\n",
      " 2   Low        3571 non-null   float64\n",
      " 3   Close      3571 non-null   float64\n",
      " 4   Adj Close  3571 non-null   float64\n",
      " 5   Volume     3571 non-null   int64  \n",
      "dtypes: float64(5), int64(1)\n",
      "memory usage: 195.3 KB\n"
     ]
    }
   ],
   "source": [
    "data.info()"
   ]
  },
  {
   "cell_type": "code",
   "execution_count": 98,
   "id": "7766645a-0115-4782-968f-4fe94b34f1aa",
   "metadata": {},
   "outputs": [
    {
     "data": {
      "text/plain": [
       "<AxesSubplot:>"
      ]
     },
     "execution_count": 98,
     "metadata": {},
     "output_type": "execute_result"
    },
    {
     "data": {
      "image/png": "[encoded data removed]",
      "text/plain": [
       "<Figure size 432x288 with 1 Axes>"
      ]
     },
     "metadata": {
      "needs_background": "light"
     },
     "output_type": "display_data"
    }
   ],
   "source": [
    "data[\"Open\"].plot()"
   ]
  },
  {
   "cell_type": "code",
   "execution_count": 99,
   "id": "aa6ac9d5-d482-4c07-a75d-4de2b9504016",
   "metadata": {},
   "outputs": [],
   "source": [
    "import matplotlib.pyplot as plt"
   ]
  },
  {
   "cell_type": "code",
   "execution_count": 100,
   "id": "6aa02708-b815-45a1-8827-6260e94640db",
   "metadata": {},
   "outputs": [],
   "source": [
    "do = data[\"Open\"].values"
   ]
  },
  {
   "cell_type": "code",
   "execution_count": 101,
   "id": "b529f868-a11a-449f-8504-9696268397b2",
   "metadata": {},
   "outputs": [
    {
     "data": {
      "text/plain": [
       "array([14.85999966, 14.93000031, 14.93000031, ..., 30.34000015,\n",
       "       30.29999924, 30.28000069])"
      ]
     },
     "execution_count": 101,
     "metadata": {},
     "output_type": "execute_result"
    }
   ],
   "source": [
    "do"
   ]
  },
  {
   "cell_type": "code",
   "execution_count": 102,
   "id": "560f1212-368f-40b9-bdce-c3c27686b9f3",
   "metadata": {},
   "outputs": [
    {
     "data": {
      "text/plain": [
       "[<matplotlib.lines.Line2D at 0x137e9e75250>]"
      ]
     },
     "execution_count": 102,
     "metadata": {},
     "output_type": "execute_result"
    },
    {
     "data": {
      "image/png": "[encoded data removed]",
      "text/plain": [
       "<Figure size 432x288 with 1 Axes>"
      ]
     },
     "metadata": {
      "needs_background": "light"
     },
     "output_type": "display_data"
    }
   ],
   "source": [
    "plt.plot(do)"
   ]
  },
  {
   "cell_type": "code",
   "execution_count": 103,
   "id": "ad6ac4cf-3791-4b22-956a-cd2315214ed7",
   "metadata": {},
   "outputs": [],
   "source": [
    "import numpy as np"
   ]
  },
  {
   "cell_type": "code",
   "execution_count": 104,
   "id": "42857375-8f1b-4df9-a497-fba21479194c",
   "metadata": {},
   "outputs": [],
   "source": [
    "from sklearn.preprocessing import MinMaxScaler"
   ]
  },
  {
   "cell_type": "code",
   "execution_count": 105,
   "id": "ddc41bae-fa7e-40ae-8f38-40061970d652",
   "metadata": {},
   "outputs": [
    {
     "data": {
      "text/plain": [
       "array([14.85999966, 14.93000031, 14.93000031, ..., 30.34000015,\n",
       "       30.29999924, 30.28000069])"
      ]
     },
     "execution_count": 105,
     "metadata": {},
     "output_type": "execute_result"
    }
   ],
   "source": [
    "np.array(do)"
   ]
  },
  {
   "cell_type": "code",
   "execution_count": 106,
   "id": "f0efa009-e9e1-4b87-824a-2a2528f76420",
   "metadata": {},
   "outputs": [],
   "source": [
    "normalization = MinMaxScaler(feature_range=(0,1))\n",
    "do_scaled = normalization.fit_transform(np.array(do).reshape(-1,1))"
   ]
  },
  {
   "cell_type": "code",
   "execution_count": 107,
   "id": "9823f646-1881-4354-895e-8c676881a73a",
   "metadata": {},
   "outputs": [
    {
     "data": {
      "text/plain": [
       "array([[0.0613656 ],\n",
       "       [0.06439069],\n",
       "       [0.06439069],\n",
       "       ...,\n",
       "       [0.73033703],\n",
       "       [0.72860838],\n",
       "       [0.72774414]])"
      ]
     },
     "execution_count": 107,
     "metadata": {},
     "output_type": "execute_result"
    }
   ],
   "source": [
    "do_scaled"
   ]
  },
  {
   "cell_type": "code",
   "execution_count": 108,
   "id": "2fb29681-3989-47fa-9f5e-21379aff6dd6",
   "metadata": {},
   "outputs": [
    {
     "data": {
      "text/plain": [
       "True"
      ]
     },
     "execution_count": 108,
     "metadata": {},
     "output_type": "execute_result"
    }
   ],
   "source": [
    "len(do_scaled) == len(do)"
   ]
  },
  {
   "cell_type": "code",
   "execution_count": 109,
   "id": "15f5cdb3-2c87-4dac-a20a-05dd6b0baf59",
   "metadata": {},
   "outputs": [],
   "source": [
    "train_do_size = int(len(do_scaled)*0.75)"
   ]
  },
  {
   "cell_type": "code",
   "execution_count": 110,
   "id": "24ed4718-4c5b-4edf-82e4-baa41e78b3d7",
   "metadata": {},
   "outputs": [],
   "source": [
    "test_do_size = len(do_scaled) - train_do_size"
   ]
  },
  {
   "cell_type": "code",
   "execution_count": 111,
   "id": "d3cdf7fe-64bc-428f-b226-454578b2006e",
   "metadata": {},
   "outputs": [
    {
     "data": {
      "text/plain": [
       "2678"
      ]
     },
     "execution_count": 111,
     "metadata": {},
     "output_type": "execute_result"
    }
   ],
   "source": [
    "train_do_size"
   ]
  },
  {
   "cell_type": "code",
   "execution_count": 112,
   "id": "636453bd-79a2-4bd0-8383-4acd3fd6e1c6",
   "metadata": {},
   "outputs": [
    {
     "data": {
      "text/plain": [
       "893"
      ]
     },
     "execution_count": 112,
     "metadata": {},
     "output_type": "execute_result"
    }
   ],
   "source": [
    "test_do_size"
   ]
  },
  {
   "cell_type": "code",
   "execution_count": 113,
   "id": "6d35f38a-6285-4e70-8621-d27cf0eb1fa8",
   "metadata": {},
   "outputs": [],
   "source": [
    "do_train,do_test = do_scaled[0:train_do_size,:],do_scaled[train_do_size:len(do_scaled),:1]"
   ]
  },
  {
   "cell_type": "code",
   "execution_count": 114,
   "id": "59e10b18-c175-43ad-be52-95bf3025b3b2",
   "metadata": {},
   "outputs": [
    {
     "data": {
      "text/plain": [
       "(2678, 893)"
      ]
     },
     "execution_count": 114,
     "metadata": {},
     "output_type": "execute_result"
    }
   ],
   "source": [
    "len(do_train), len(do_test)"
   ]
  },
  {
   "cell_type": "code",
   "execution_count": 115,
   "id": "ad09c9be-10a0-468a-82d1-01d222aa5131",
   "metadata": {},
   "outputs": [],
   "source": [
    "#Dataseti LSTM modeli için zaman serisi ile hazırlama\n",
    "def create_do(dataset,step):\n",
    "    Xtrain, Ytrain = [], []\n",
    "    for i in range(len(dataset)-step-1):\n",
    "        a = dataset[i:(i+step), 0]\n",
    "        Xtrain.append(a)\n",
    "        Ytrain.append(dataset[i + step, 0])\n",
    "    return np.array(Xtrain), np.array(Ytrain)"
   ]
  },
  {
   "cell_type": "code",
   "execution_count": 116,
   "id": "9c4b8562-fcdd-479c-82ba-236760935a71",
   "metadata": {},
   "outputs": [],
   "source": [
    "time_stamp = 300\n",
    "X_train, y_train = create_do(do_train,time_stamp)\n",
    "X_test, y_test = create_do(do_test,time_stamp)"
   ]
  },
  {
   "cell_type": "code",
   "execution_count": 117,
   "id": "c3758792-6bb6-45b2-a4e3-e9653af6e854",
   "metadata": {},
   "outputs": [
    {
     "data": {
      "text/plain": [
       "array([[0.0613656 , 0.06439069, 0.06439069, ..., 0.04407953, 0.04451169,\n",
       "        0.04753674],\n",
       "       [0.06439069, 0.06439069, 0.0678479 , ..., 0.04451169, 0.04753674,\n",
       "        0.0462403 ],\n",
       "       [0.06439069, 0.0678479 , 0.06352637, ..., 0.04753674, 0.0462403 ,\n",
       "        0.04969751],\n",
       "       ...,\n",
       "       [0.91011229, 0.91011229, 0.90319786, ..., 0.84874677, 0.84788245,\n",
       "        0.85047526],\n",
       "       [0.91011229, 0.90319786, 0.89801208, ..., 0.84788245, 0.85047526,\n",
       "        0.85047526],\n",
       "       [0.90319786, 0.89801208, 0.89023333, ..., 0.85047526, 0.85047526,\n",
       "        0.84788245]])"
      ]
     },
     "execution_count": 117,
     "metadata": {},
     "output_type": "execute_result"
    }
   ],
   "source": [
    "X_train"
   ]
  },
  {
   "cell_type": "code",
   "execution_count": 118,
   "id": "cfa5ee6c-a05e-44d6-be07-13f79ea16a0a",
   "metadata": {},
   "outputs": [
    {
     "data": {
      "text/plain": [
       "array([0.0462403 , 0.04969751, 0.04537598, ..., 0.85047526, 0.84788245,\n",
       "       0.86862573])"
      ]
     },
     "execution_count": 118,
     "metadata": {},
     "output_type": "execute_result"
    }
   ],
   "source": [
    "y_train"
   ]
  },
  {
   "cell_type": "code",
   "execution_count": 119,
   "id": "8cb78ed5-f537-4120-a542-81c3a5a55b38",
   "metadata": {},
   "outputs": [
    {
     "data": {
      "text/plain": [
       "((2377, 300), (2377,))"
      ]
     },
     "execution_count": 119,
     "metadata": {},
     "output_type": "execute_result"
    }
   ],
   "source": [
    "X_train.shape,y_train.shape"
   ]
  },
  {
   "cell_type": "code",
   "execution_count": 120,
   "id": "97d279ae-7db0-41e2-8949-d9e0aca660de",
   "metadata": {},
   "outputs": [
    {
     "data": {
      "text/plain": [
       "((592, 300), (592,))"
      ]
     },
     "execution_count": 120,
     "metadata": {},
     "output_type": "execute_result"
    }
   ],
   "source": [
    "X_test.shape,y_test.shape"
   ]
  },
  {
   "cell_type": "code",
   "execution_count": 121,
   "id": "c3d10935-5130-4669-b962-89fd8c1c3747",
   "metadata": {},
   "outputs": [],
   "source": [
    "X_train = X_train.reshape(X_train.shape[0],X_train.shape[1] , 1)\n",
    "X_test = X_test.reshape(X_test.shape[0],X_test.shape[1] , 1)"
   ]
  },
  {
   "cell_type": "code",
   "execution_count": 122,
   "id": "2786e8ab-999c-4cba-872e-d2a2721ada57",
   "metadata": {
    "tags": []
   },
   "outputs": [
    {
     "data": {
      "text/plain": [
       "array([0.06439069])"
      ]
     },
     "execution_count": 122,
     "metadata": {},
     "output_type": "execute_result"
    }
   ],
   "source": [
    "X_train[1][1]"
   ]
  },
  {
   "cell_type": "code",
   "execution_count": 123,
   "id": "f6a29edb-debc-4f85-a58d-b70963211962",
   "metadata": {
    "tags": []
   },
   "outputs": [
    {
     "data": {
      "text/plain": [
       "array([[[0.86257563],\n",
       "        [0.85306823],\n",
       "        [0.84874677],\n",
       "        ...,\n",
       "        [0.57044073],\n",
       "        [0.56784784],\n",
       "        [0.59636987]],\n",
       "\n",
       "       [[0.85306823],\n",
       "        [0.84874677],\n",
       "        [0.85306823],\n",
       "        ...,\n",
       "        [0.56784784],\n",
       "        [0.59636987],\n",
       "        [0.59636987]],\n",
       "\n",
       "       [[0.84874677],\n",
       "        [0.85306823],\n",
       "        [0.86343979],\n",
       "        ...,\n",
       "        [0.59636987],\n",
       "        [0.59636987],\n",
       "        [0.59031977]],\n",
       "\n",
       "       ...,\n",
       "\n",
       "       [[0.7078651 ],\n",
       "        [0.69057904],\n",
       "        [0.68712182],\n",
       "        ...,\n",
       "        [0.73811578],\n",
       "        [0.73638714],\n",
       "        [0.73379425]],\n",
       "\n",
       "       [[0.69057904],\n",
       "        [0.68712182],\n",
       "        [0.69317193],\n",
       "        ...,\n",
       "        [0.73638714],\n",
       "        [0.73379425],\n",
       "        [0.72774414]],\n",
       "\n",
       "       [[0.68712182],\n",
       "        [0.69317193],\n",
       "        [0.70527222],\n",
       "        ...,\n",
       "        [0.73379425],\n",
       "        [0.72774414],\n",
       "        [0.73033703]]])"
      ]
     },
     "execution_count": 123,
     "metadata": {},
     "output_type": "execute_result"
    }
   ],
   "source": [
    "X_test"
   ]
  },
  {
   "cell_type": "code",
   "execution_count": 33,
   "id": "dd0ccae9-3b30-40b4-a55b-8233c7bf412d",
   "metadata": {
    "tags": []
   },
   "outputs": [
    {
     "name": "stdout",
     "output_type": "stream",
     "text": [
      "Requirement already satisfied: tensorflow in c:\\users\\mustafa\\anaconda3\\lib\\site-packages (2.10.0)\n",
      "Requirement already satisfied: opt-einsum>=2.3.2 in c:\\users\\mustafa\\anaconda3\\lib\\site-packages (from tensorflow) (3.3.0)\n",
      "Requirement already satisfied: gast<=0.4.0,>=0.2.1 in c:\\users\\mustafa\\anaconda3\\lib\\site-packages (from tensorflow) (0.4.0)\n",
      "Requirement already satisfied: wrapt>=1.11.0 in c:\\users\\mustafa\\anaconda3\\lib\\site-packages (from tensorflow) (1.12.1)\n",
      "Requirement already satisfied: packaging in c:\\users\\mustafa\\anaconda3\\lib\\site-packages (from tensorflow) (21.3)\n",
      "Requirement already satisfied: tensorboard<2.11,>=2.10 in c:\\users\\mustafa\\anaconda3\\lib\\site-packages (from tensorflow) (2.10.1)\n",
      "Requirement already satisfied: google-pasta>=0.1.1 in c:\\users\\mustafa\\anaconda3\\lib\\site-packages (from tensorflow) (0.2.0)\n",
      "Requirement already satisfied: libclang>=13.0.0 in c:\\users\\mustafa\\anaconda3\\lib\\site-packages (from tensorflow) (14.0.6)\n",
      "Requirement already satisfied: grpcio<2.0,>=1.24.3 in c:\\users\\mustafa\\anaconda3\\lib\\site-packages (from tensorflow) (1.42.0)\n",
      "Requirement already satisfied: termcolor>=1.1.0 in c:\\users\\mustafa\\anaconda3\\lib\\site-packages (from tensorflow) (2.0.1)\n",
      "Requirement already satisfied: tensorflow-io-gcs-filesystem>=0.23.1 in c:\\users\\mustafa\\anaconda3\\lib\\site-packages (from tensorflow) (0.27.0)\n",
      "Requirement already satisfied: six>=1.12.0 in c:\\users\\mustafa\\anaconda3\\lib\\site-packages (from tensorflow) (1.16.0)\n",
      "Requirement already satisfied: typing-extensions>=3.6.6 in c:\\users\\mustafa\\anaconda3\\lib\\site-packages (from tensorflow) (4.1.1)\n",
      "Requirement already satisfied: setuptools in c:\\users\\mustafa\\anaconda3\\lib\\site-packages (from tensorflow) (61.2.0)\n",
      "Requirement already satisfied: keras-preprocessing>=1.1.1 in c:\\users\\mustafa\\anaconda3\\lib\\site-packages (from tensorflow) (1.1.2)\n",
      "Requirement already satisfied: astunparse>=1.6.0 in c:\\users\\mustafa\\anaconda3\\lib\\site-packages (from tensorflow) (1.6.3)\n",
      "Requirement already satisfied: h5py>=2.9.0 in c:\\users\\mustafa\\anaconda3\\lib\\site-packages (from tensorflow) (3.6.0)\n",
      "Requirement already satisfied: tensorflow-estimator<2.11,>=2.10.0 in c:\\users\\mustafa\\anaconda3\\lib\\site-packages (from tensorflow) (2.10.0)\n",
      "Requirement already satisfied: keras<2.11,>=2.10.0 in c:\\users\\mustafa\\anaconda3\\lib\\site-packages (from tensorflow) (2.10.0)\n",
      "Requirement already satisfied: numpy>=1.20 in c:\\users\\mustafa\\anaconda3\\lib\\site-packages (from tensorflow) (1.21.5)\n",
      "Requirement already satisfied: protobuf<3.20,>=3.9.2 in c:\\users\\mustafa\\anaconda3\\lib\\site-packages (from tensorflow) (3.19.1)\n",
      "Requirement already satisfied: absl-py>=1.0.0 in c:\\users\\mustafa\\anaconda3\\lib\\site-packages (from tensorflow) (1.2.0)\n",
      "Requirement already satisfied: flatbuffers>=2.0 in c:\\users\\mustafa\\anaconda3\\lib\\site-packages (from tensorflow) (22.9.24)\n",
      "Requirement already satisfied: wheel<1.0,>=0.23.0 in c:\\users\\mustafa\\anaconda3\\lib\\site-packages (from astunparse>=1.6.0->tensorflow) (0.37.1)\n",
      "Requirement already satisfied: tensorboard-plugin-wit>=1.6.0 in c:\\users\\mustafa\\anaconda3\\lib\\site-packages (from tensorboard<2.11,>=2.10->tensorflow) (1.8.1)\n",
      "Requirement already satisfied: requests<3,>=2.21.0 in c:\\users\\mustafa\\anaconda3\\lib\\site-packages (from tensorboard<2.11,>=2.10->tensorflow) (2.27.1)\n",
      "Requirement already satisfied: tensorboard-data-server<0.7.0,>=0.6.0 in c:\\users\\mustafa\\anaconda3\\lib\\site-packages (from tensorboard<2.11,>=2.10->tensorflow) (0.6.1)\n",
      "Requirement already satisfied: google-auth<3,>=1.6.3 in c:\\users\\mustafa\\anaconda3\\lib\\site-packages (from tensorboard<2.11,>=2.10->tensorflow) (1.33.0)\n",
      "Requirement already satisfied: werkzeug>=1.0.1 in c:\\users\\mustafa\\anaconda3\\lib\\site-packages (from tensorboard<2.11,>=2.10->tensorflow) (2.0.3)\n",
      "Requirement already satisfied: google-auth-oauthlib<0.5,>=0.4.1 in c:\\users\\mustafa\\anaconda3\\lib\\site-packages (from tensorboard<2.11,>=2.10->tensorflow) (0.4.6)\n",
      "Requirement already satisfied: markdown>=2.6.8 in c:\\users\\mustafa\\anaconda3\\lib\\site-packages (from tensorboard<2.11,>=2.10->tensorflow) (3.3.4)\n",
      "Requirement already satisfied: cachetools<5.0,>=2.0.0 in c:\\users\\mustafa\\anaconda3\\lib\\site-packages (from google-auth<3,>=1.6.3->tensorboard<2.11,>=2.10->tensorflow) (4.2.2)\n",
      "Requirement already satisfied: rsa<5,>=3.1.4 in c:\\users\\mustafa\\anaconda3\\lib\\site-packages (from google-auth<3,>=1.6.3->tensorboard<2.11,>=2.10->tensorflow) (4.7.2)\n",
      "Requirement already satisfied: pyasn1-modules>=0.2.1 in c:\\users\\mustafa\\anaconda3\\lib\\site-packages (from google-auth<3,>=1.6.3->tensorboard<2.11,>=2.10->tensorflow) (0.2.8)\n",
      "Requirement already satisfied: requests-oauthlib>=0.7.0 in c:\\users\\mustafa\\anaconda3\\lib\\site-packages (from google-auth-oauthlib<0.5,>=0.4.1->tensorboard<2.11,>=2.10->tensorflow) (1.3.1)\n",
      "Requirement already satisfied: pyasn1<0.5.0,>=0.4.6 in c:\\users\\mustafa\\anaconda3\\lib\\site-packages (from pyasn1-modules>=0.2.1->google-auth<3,>=1.6.3->tensorboard<2.11,>=2.10->tensorflow) (0.4.8)\n",
      "Requirement already satisfied: certifi>=2017.4.17 in c:\\users\\mustafa\\anaconda3\\lib\\site-packages (from requests<3,>=2.21.0->tensorboard<2.11,>=2.10->tensorflow) (2022.9.14)\n",
      "Requirement already satisfied: idna<4,>=2.5 in c:\\users\\mustafa\\anaconda3\\lib\\site-packages (from requests<3,>=2.21.0->tensorboard<2.11,>=2.10->tensorflow) (3.3)\n",
      "Requirement already satisfied: charset-normalizer~=2.0.0 in c:\\users\\mustafa\\anaconda3\\lib\\site-packages (from requests<3,>=2.21.0->tensorboard<2.11,>=2.10->tensorflow) (2.0.4)\n",
      "Requirement already satisfied: urllib3<1.27,>=1.21.1 in c:\\users\\mustafa\\anaconda3\\lib\\site-packages (from requests<3,>=2.21.0->tensorboard<2.11,>=2.10->tensorflow) (1.26.9)\n",
      "Requirement already satisfied: oauthlib>=3.0.0 in c:\\users\\mustafa\\anaconda3\\lib\\site-packages (from requests-oauthlib>=0.7.0->google-auth-oauthlib<0.5,>=0.4.1->tensorboard<2.11,>=2.10->tensorflow) (3.2.1)\n",
      "Requirement already satisfied: pyparsing!=3.0.5,>=2.0.2 in c:\\users\\mustafa\\anaconda3\\lib\\site-packages (from packaging->tensorflow) (3.0.4)\n",
      "Note: you may need to restart the kernel to use updated packages.\n"
     ]
    },
    {
     "name": "stderr",
     "output_type": "stream",
     "text": [
      "WARNING: Ignoring invalid distribution -atplotlib (c:\\users\\mustafa\\anaconda3\\lib\\site-packages)\n",
      "WARNING: Ignoring invalid distribution -atplotlib (c:\\users\\mustafa\\anaconda3\\lib\\site-packages)\n",
      "WARNING: Ignoring invalid distribution -atplotlib (c:\\users\\mustafa\\anaconda3\\lib\\site-packages)\n",
      "WARNING: Ignoring invalid distribution -atplotlib (c:\\users\\mustafa\\anaconda3\\lib\\site-packages)\n",
      "WARNING: Ignoring invalid distribution -atplotlib (c:\\users\\mustafa\\anaconda3\\lib\\site-packages)\n",
      "WARNING: Ignoring invalid distribution -atplotlib (c:\\users\\mustafa\\anaconda3\\lib\\site-packages)\n"
     ]
    }
   ],
   "source": [
    "pip install tensorflow"
   ]
  },
  {
   "cell_type": "code",
   "execution_count": 34,
   "id": "02b8d8c6-d927-4318-939e-373e04bcc414",
   "metadata": {
    "tags": []
   },
   "outputs": [],
   "source": [
    "from keras.models import Sequential\n",
    "from keras.layers import Dense, LSTM"
   ]
  },
  {
   "cell_type": "code",
   "execution_count": 124,
   "id": "e5738cb4-8bd5-4e09-9500-9d571db39f74",
   "metadata": {},
   "outputs": [
    {
     "name": "stdout",
     "output_type": "stream",
     "text": [
      "Model: \"sequential_1\"\n",
      "_________________________________________________________________\n",
      " Layer (type)                Output Shape              Param #   \n",
      "=================================================================\n",
      " lstm_3 (LSTM)               (None, 300, 50)           10400     \n",
      "                                                                 \n",
      " lstm_4 (LSTM)               (None, 300, 50)           20200     \n",
      "                                                                 \n",
      " lstm_5 (LSTM)               (None, 50)                20200     \n",
      "                                                                 \n",
      " dense_1 (Dense)             (None, 1)                 51        \n",
      "                                                                 \n",
      "=================================================================\n",
      "Total params: 50,851\n",
      "Trainable params: 50,851\n",
      "Non-trainable params: 0\n",
      "_________________________________________________________________\n"
     ]
    }
   ],
   "source": [
    "model = Sequential()\n",
    "model.add(LSTM(units=50,return_sequences=True,input_shape=(X_train.shape[1],1)))\n",
    "model.add(LSTM(units=50,return_sequences=True))\n",
    "model.add(LSTM(units=50))\n",
    "model.add(Dense(units=1,activation='linear'))\n",
    "model.summary()"
   ]
  },
  {
   "cell_type": "code",
   "execution_count": 125,
   "id": "36c439c6-b893-45cc-afac-4b5032ffd532",
   "metadata": {},
   "outputs": [
    {
     "name": "stdout",
     "output_type": "stream",
     "text": [
      "Epoch 1/25\n",
      "38/38 [==============================] - 23s 486ms/step - loss: 0.0290 - val_loss: 0.0034\n",
      "Epoch 2/25\n",
      "38/38 [==============================] - 16s 434ms/step - loss: 0.0014 - val_loss: 0.0011\n",
      "Epoch 3/25\n",
      "38/38 [==============================] - 16s 422ms/step - loss: 0.0013 - val_loss: 0.0012\n",
      "Epoch 4/25\n",
      "38/38 [==============================] - 16s 420ms/step - loss: 0.0011 - val_loss: 0.0012\n",
      "Epoch 5/25\n",
      "38/38 [==============================] - 16s 434ms/step - loss: 0.0011 - val_loss: 0.0010\n",
      "Epoch 6/25\n",
      "38/38 [==============================] - 16s 426ms/step - loss: 9.8720e-04 - val_loss: 9.8367e-04\n",
      "Epoch 7/25\n",
      "38/38 [==============================] - 16s 428ms/step - loss: 9.2522e-04 - val_loss: 0.0011\n",
      "Epoch 8/25\n",
      "38/38 [==============================] - 16s 424ms/step - loss: 8.8602e-04 - val_loss: 9.7676e-04\n",
      "Epoch 9/25\n",
      "38/38 [==============================] - 16s 423ms/step - loss: 8.2058e-04 - val_loss: 8.3838e-04\n",
      "Epoch 10/25\n",
      "38/38 [==============================] - 16s 419ms/step - loss: 7.6967e-04 - val_loss: 8.2043e-04\n",
      "Epoch 11/25\n",
      "38/38 [==============================] - 16s 424ms/step - loss: 7.4011e-04 - val_loss: 9.9616e-04\n",
      "Epoch 12/25\n",
      "38/38 [==============================] - 16s 421ms/step - loss: 6.9251e-04 - val_loss: 8.2958e-04\n",
      "Epoch 13/25\n",
      "38/38 [==============================] - 16s 422ms/step - loss: 6.8948e-04 - val_loss: 7.3351e-04\n",
      "Epoch 14/25\n",
      "38/38 [==============================] - 15s 394ms/step - loss: 6.6206e-04 - val_loss: 9.2576e-04\n",
      "Epoch 15/25\n",
      "38/38 [==============================] - 14s 376ms/step - loss: 7.2564e-04 - val_loss: 7.9451e-04\n",
      "Epoch 16/25\n",
      "38/38 [==============================] - 14s 373ms/step - loss: 6.4196e-04 - val_loss: 7.3263e-04\n",
      "Epoch 17/25\n",
      "38/38 [==============================] - 14s 377ms/step - loss: 6.8352e-04 - val_loss: 7.9466e-04\n",
      "Epoch 18/25\n",
      "38/38 [==============================] - 14s 379ms/step - loss: 5.9867e-04 - val_loss: 6.5461e-04\n",
      "Epoch 19/25\n",
      "38/38 [==============================] - 14s 375ms/step - loss: 6.1105e-04 - val_loss: 5.9242e-04\n",
      "Epoch 20/25\n",
      "38/38 [==============================] - 14s 374ms/step - loss: 5.3906e-04 - val_loss: 5.3702e-04\n",
      "Epoch 21/25\n",
      "38/38 [==============================] - 14s 374ms/step - loss: 5.2503e-04 - val_loss: 8.9591e-04\n",
      "Epoch 22/25\n",
      "38/38 [==============================] - 14s 378ms/step - loss: 5.2280e-04 - val_loss: 6.5527e-04\n",
      "Epoch 23/25\n",
      "38/38 [==============================] - 15s 398ms/step - loss: 5.4872e-04 - val_loss: 6.0100e-04\n",
      "Epoch 24/25\n",
      "38/38 [==============================] - 14s 373ms/step - loss: 6.2231e-04 - val_loss: 5.8104e-04\n",
      "Epoch 25/25\n",
      "38/38 [==============================] - 15s 383ms/step - loss: 5.4743e-04 - val_loss: 5.9419e-04\n"
     ]
    },
    {
     "data": {
      "text/plain": [
       "<keras.callbacks.History at 0x137ed268550>"
      ]
     },
     "execution_count": 125,
     "metadata": {},
     "output_type": "execute_result"
    }
   ],
   "source": [
    "model.compile(loss='mean_squared_error',optimizer='adam')\n",
    "model.fit(X_train,y_train,validation_data=(X_test,y_test),epochs=25,batch_size=64)"
   ]
  },
  {
   "cell_type": "code",
   "execution_count": 126,
   "id": "bbbd0931-fefd-4de0-93a8-6c9019f1cf45",
   "metadata": {},
   "outputs": [
    {
     "data": {
      "text/plain": [
       "[<matplotlib.lines.Line2D at 0x137ed2381c0>]"
      ]
     },
     "execution_count": 126,
     "metadata": {},
     "output_type": "execute_result"
    },
    {
     "data": {
      "image/png": "[encoded data removed]",
      "text/plain": [
       "<Figure size 432x288 with 1 Axes>"
      ]
     },
     "metadata": {
      "needs_background": "light"
     },
     "output_type": "display_data"
    }
   ],
   "source": [
    "loss = model.history.history['loss']\n",
    "plt.plot(loss)"
   ]
  },
  {
   "cell_type": "code",
   "execution_count": 127,
   "id": "73b5355a-8e40-4f89-a2ad-10bf8242998f",
   "metadata": {},
   "outputs": [
    {
     "name": "stdout",
     "output_type": "stream",
     "text": [
      "75/75 [==============================] - 7s 83ms/step\n",
      "19/19 [==============================] - 2s 82ms/step\n"
     ]
    }
   ],
   "source": [
    "train_predict = model.predict(X_train)\n",
    "test_predict = model.predict(X_test)"
   ]
  },
  {
   "cell_type": "code",
   "execution_count": 128,
   "id": "302ecd9f-f137-4d50-9b2d-1f43cfc4c987",
   "metadata": {},
   "outputs": [],
   "source": [
    "train_predict = normalization.inverse_transform(train_predict)\n",
    "test_predict = normalization.inverse_transform(test_predict)"
   ]
  },
  {
   "cell_type": "code",
   "execution_count": 129,
   "id": "897e98fe-8c95-452a-953d-1cf131f8e1e4",
   "metadata": {},
   "outputs": [
    {
     "data": {
      "text/plain": [
       "[<matplotlib.lines.Line2D at 0x137f31f4f40>]"
      ]
     },
     "execution_count": 129,
     "metadata": {},
     "output_type": "execute_result"
    },
    {
     "data": {
      "image/png": "[encoded data removed]",
      "text/plain": [
       "<Figure size 432x288 with 1 Axes>"
      ]
     },
     "metadata": {
      "needs_background": "light"
     },
     "output_type": "display_data"
    }
   ],
   "source": [
    "plt.plot(normalization.inverse_transform(do_scaled))\n",
    "plt.plot(train_predict)\n",
    "plt.plot(test_predict)"
   ]
  },
  {
   "cell_type": "code",
   "execution_count": 130,
   "id": "ac8b2910-e446-4e18-abc0-773b3e382332",
   "metadata": {},
   "outputs": [],
   "source": [
    "test = np.vstack((train_predict,test_predict))"
   ]
  },
  {
   "cell_type": "code",
   "execution_count": 131,
   "id": "104129a3-c372-4944-a237-6802c6196e62",
   "metadata": {},
   "outputs": [
    {
     "data": {
      "text/plain": [
       "[<matplotlib.lines.Line2D at 0x137f3169430>]"
      ]
     },
     "execution_count": 131,
     "metadata": {},
     "output_type": "execute_result"
    },
    {
     "data": {
      "image/png": "[encoded data removed]",
      "text/plain": [
       "<Figure size 432x288 with 1 Axes>"
      ]
     },
     "metadata": {
      "needs_background": "light"
     },
     "output_type": "display_data"
    }
   ],
   "source": [
    "plt.plot(normalization.inverse_transform(do_scaled))\n",
    "plt.plot(test)"
   ]
  },
  {
   "cell_type": "code",
   "execution_count": 132,
   "id": "5cf012cb-aa42-458d-8ed0-ec9e422085ee",
   "metadata": {},
   "outputs": [
    {
     "data": {
      "text/plain": [
       "893"
      ]
     },
     "execution_count": 132,
     "metadata": {},
     "output_type": "execute_result"
    }
   ],
   "source": [
    "len(do_test)"
   ]
  },
  {
   "cell_type": "code",
   "execution_count": 133,
   "id": "9d8ba2b3-cb3c-43ed-8036-12b134246c04",
   "metadata": {},
   "outputs": [],
   "source": [
    "fut_inp = do_test[593:]"
   ]
  },
  {
   "cell_type": "code",
   "execution_count": 134,
   "id": "42ff9ae5-b144-425c-b5ad-226a4cb40237",
   "metadata": {},
   "outputs": [],
   "source": [
    "fut_inp = fut_inp.reshape(1,-1)"
   ]
  },
  {
   "cell_type": "code",
   "execution_count": 135,
   "id": "8a20c21c-1c07-4537-8c09-fcb92c7c8f4b",
   "metadata": {},
   "outputs": [],
   "source": [
    "tmp_inp = list(fut_inp)"
   ]
  },
  {
   "cell_type": "code",
   "execution_count": 136,
   "id": "a2231ea8-68ff-4efb-a310-9666cfde443f",
   "metadata": {},
   "outputs": [
    {
     "data": {
      "text/plain": [
       "(1, 300)"
      ]
     },
     "execution_count": 136,
     "metadata": {},
     "output_type": "execute_result"
    }
   ],
   "source": [
    "fut_inp.shape"
   ]
  },
  {
   "cell_type": "code",
   "execution_count": 137,
   "id": "9e9df9ff-0fe1-4c5f-a5be-d7a1dff926ec",
   "metadata": {},
   "outputs": [],
   "source": [
    "tmp_inp = tmp_inp[0].tolist()"
   ]
  },
  {
   "cell_type": "code",
   "execution_count": 138,
   "id": "e39d9c43-3ac6-4749-8ee5-7cfcc6f2f813",
   "metadata": {},
   "outputs": [
    {
     "name": "stdout",
     "output_type": "stream",
     "text": [
      "[[0.7191741466522217], [0.7173425555229187], [0.7149404883384705], [0.712088406085968], [0.7089244723320007], [0.7055705189704895], [0.7021204233169556], [0.6986395716667175], [0.6951694488525391], [0.691736102104187], [0.6883549690246582], [0.6850345134735107], [0.6817806363105774], [0.6785964965820312], [0.6754847764968872], [0.6724463701248169], [0.6694813370704651], [0.6665893197059631], [0.6637686491012573], [0.6610171794891357], [0.6583318710327148], [0.6557091474533081], [0.6531456112861633], [0.6506373286247253], [0.6481803059577942], [0.645770788192749], [0.6434048414230347], [0.6410790681838989], [0.6387901902198792], [0.6365352272987366], [0.6343111991882324], [0.6321159601211548], [0.6299471855163574], [0.6278031468391418], [0.6256821155548096], [0.6235826015472412], [0.6215035319328308], [0.6194438934326172], [0.6174029111862183], [0.6153799295425415], [0.6133743524551392], [0.6113858819007874], [0.6094140410423279], [0.6074585318565369], [0.6055192947387695], [0.6035959720611572], [0.6016886234283447], [0.5997968316078186], [0.5979207754135132], [0.5960601568222046], [0.5942147970199585], [0.5923846960067749], [0.5905696749687195], [0.5887696743011475], [0.5869842767715454], [0.5852137207984924], [0.5834574103355408], [0.5817153453826904], [0.5799874067306519], [0.5782732367515564], [0.5765727162361145], [0.5748854279518127], [0.5732114911079407], [0.5715503692626953], [0.5699020028114319], [0.5682660937309265], [0.5666424632072449], [0.5650308132171631], [0.5634309649467468], [0.561842679977417]]\n"
     ]
    }
   ],
   "source": [
    "lst_output=[]\n",
    "n_steps=299\n",
    "i=0\n",
    "while(i<70):\n",
    "    \n",
    "    if(len(tmp_inp)>100):\n",
    "        fut_inp = np.array(tmp_inp[1:])\n",
    "        fut_inp=fut_inp.reshape(1,-1)\n",
    "        fut_inp = fut_inp.reshape((1, n_steps, 1))\n",
    "        yhat = model.predict(fut_inp, verbose=0)\n",
    "        tmp_inp.extend(yhat[0].tolist())\n",
    "        tmp_inp = tmp_inp[1:]\n",
    "        lst_output.extend(yhat.tolist())\n",
    "        i=i+1\n",
    "    else:\n",
    "        fut_inp = fut_inp.reshape((1, n_steps,1))\n",
    "        yhat = model.predict(fut_inp, verbose=0)\n",
    "        tmp_inp.extend(yhat[0].tolist())\n",
    "        lst_output.extend(yhat.tolist())\n",
    "        i=i+1\n",
    "\n",
    "print(lst_output)"
   ]
  },
  {
   "cell_type": "code",
   "execution_count": 139,
   "id": "687b033d-eca7-4e12-970c-b358702c1373",
   "metadata": {},
   "outputs": [
    {
     "data": {
      "text/plain": [
       "3571"
      ]
     },
     "execution_count": 139,
     "metadata": {},
     "output_type": "execute_result"
    }
   ],
   "source": [
    "len(do_scaled)"
   ]
  },
  {
   "cell_type": "code",
   "execution_count": 140,
   "id": "bbc0816e-e128-41a6-a777-3e106768ceec",
   "metadata": {},
   "outputs": [],
   "source": [
    "plot_new=np.arange(1,301)\n",
    "plot_pred=np.arange(301,371)"
   ]
  },
  {
   "cell_type": "code",
   "execution_count": 142,
   "id": "d92e69e3-92ed-4009-b6af-d528a542a8b3",
   "metadata": {},
   "outputs": [
    {
     "data": {
      "text/plain": [
       "[<matplotlib.lines.Line2D at 0x137f8b871c0>]"
      ]
     },
     "execution_count": 142,
     "metadata": {},
     "output_type": "execute_result"
    },
    {
     "data": {
      "image/png": "[encoded data removed]",
      "text/plain": [
       "<Figure size 432x288 with 1 Axes>"
      ]
     },
     "metadata": {
      "needs_background": "light"
     },
     "output_type": "display_data"
    }
   ],
   "source": [
    "plt.plot(plot_new, normalization.inverse_transform(do_scaled[3271:]))\n",
    "plt.plot(plot_pred, normalization.inverse_transform(lst_output))"
   ]
  },
  {
   "cell_type": "code",
   "execution_count": 143,
   "id": "fc056a07-7d11-4683-a59c-bc0193347fce",
   "metadata": {},
   "outputs": [],
   "source": [
    "do_new = do_scaled.tolist()"
   ]
  },
  {
   "cell_type": "code",
   "execution_count": 144,
   "id": "6af9d66b-a2aa-4009-aab5-c05390e397e3",
   "metadata": {},
   "outputs": [
    {
     "data": {
      "text/plain": [
       "3571"
      ]
     },
     "execution_count": 144,
     "metadata": {},
     "output_type": "execute_result"
    }
   ],
   "source": [
    "len(do_new)"
   ]
  },
  {
   "cell_type": "code",
   "execution_count": 145,
   "id": "06f985ab-ad69-4d63-98bb-16ce6bc6baa1",
   "metadata": {},
   "outputs": [
    {
     "data": {
      "text/plain": [
       "[<matplotlib.lines.Line2D at 0x137ec49ca00>]"
      ]
     },
     "execution_count": 145,
     "metadata": {},
     "output_type": "execute_result"
    },
    {
     "data": {
      "image/png": "[encoded data removed]",
      "text/plain": [
       "<Figure size 432x288 with 1 Axes>"
      ]
     },
     "metadata": {
      "needs_background": "light"
     },
     "output_type": "display_data"
    }
   ],
   "source": [
    "do_new.extend(lst_output)\n",
    "plt.plot(do_new[3501:])"
   ]
  },
  {
   "cell_type": "code",
   "execution_count": 146,
   "id": "117f826d-4696-4c16-8097-72f087de42c3",
   "metadata": {},
   "outputs": [],
   "source": [
    "final_graph = normalization.inverse_transform(do_new).tolist()"
   ]
  },
  {
   "cell_type": "code",
   "execution_count": 147,
   "id": "ac0e733f-48ff-413d-8fdc-1f7ff5824296",
   "metadata": {},
   "outputs": [
    {
     "data": {
      "text/plain": [
       "<matplotlib.legend.Legend at 0x137ec4bd6a0>"
      ]
     },
     "execution_count": 147,
     "metadata": {},
     "output_type": "execute_result"
    },
    {
     "data": {
      "image/png": "[encoded data removed]",
      "text/plain": [
       "<Figure size 432x288 with 1 Axes>"
      ]
     },
     "metadata": {
      "needs_background": "light"
     },
     "output_type": "display_data"
    }
   ],
   "source": [
    "plt.plot(final_graph,)\n",
    "plt.ylabel(\"Price\")\n",
    "plt.xlabel(\"Time\")\n",
    "plt.title(\"{0} prediction of next week open\".format(stock_symbol))\n",
    "plt.axhline(y=final_graph[len(final_graph)-1], color = 'red', linestyle = ':', label = 'NEXT 10D: {0}'.format(round(float(*final_graph[len(final_graph)-1]),2)))\n",
    "plt.legend()"
   ]
  },
  {
   "cell_type": "code",
   "execution_count": null,
   "id": "e6a8fe5b-f6c8-4f9d-91d4-85dd52920f82",
   "metadata": {},
   "outputs": [],
   "source": []
  }
 ],
 "metadata": {
  "kernelspec": {
   "display_name": "Python 3 (ipykernel)",
   "language": "python",
   "name": "python3"
  },
  "language_info": {
   "codemirror_mode": {
    "name": "ipython",
    "version": 3
   },
   "file_extension": ".py",
   "mimetype": "text/x-python",
   "name": "python",
   "nbconvert_exporter": "python",
   "pygments_lexer": "ipython3",
   "version": "3.9.12"
  }
 },
 "nbformat": 4,
 "nbformat_minor": 5
}
