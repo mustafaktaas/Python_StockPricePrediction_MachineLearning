{
 "cells": [
  {
   "cell_type": "markdown",
   "id": "cdb98e5d-f238-4466-8638-5eda3ca6df4e",
   "metadata": {},
   "source": [
    "# Stock Market Prediction Univariate Recurrent Neural Networks"
   ]
  },
  {
   "cell_type": "markdown",
   "id": "338865f4-e433-4c6c-849e-d9b1d8d65641",
   "metadata": {},
   "source": [
    "## Veri Çekme"
   ]
  },
  {
   "cell_type": "code",
   "execution_count": 2,
   "id": "e9cb8e8d-c6d0-49e8-9a8b-6bfd4c9f0422",
   "metadata": {},
   "outputs": [
    {
     "name": "stdout",
     "output_type": "stream",
     "text": [
      "Requirement already satisfied: yfinance in c:\\users\\mustafa\\anaconda3\\lib\\site-packages (0.1.75)\n",
      "Requirement already satisfied: pandas>=0.24.0 in c:\\users\\mustafa\\anaconda3\\lib\\site-packages (from yfinance) (1.4.2)\n",
      "Requirement already satisfied: lxml>=4.5.1 in c:\\users\\mustafa\\anaconda3\\lib\\site-packages (from yfinance) (4.8.0)\n",
      "Requirement already satisfied: appdirs>=1.4.4 in c:\\users\\mustafa\\anaconda3\\lib\\site-packages (from yfinance) (1.4.4)\n",
      "Requirement already satisfied: requests>=2.26 in c:\\users\\mustafa\\anaconda3\\lib\\site-packages (from yfinance) (2.27.1)\n",
      "Requirement already satisfied: multitasking>=0.0.7 in c:\\users\\mustafa\\anaconda3\\lib\\site-packages (from yfinance) (0.0.11)\n",
      "Requirement already satisfied: numpy>=1.15 in c:\\users\\mustafa\\anaconda3\\lib\\site-packages (from yfinance) (1.21.5)\n",
      "Requirement already satisfied: python-dateutil>=2.8.1 in c:\\users\\mustafa\\anaconda3\\lib\\site-packages (from pandas>=0.24.0->yfinance) (2.8.2)\n",
      "Requirement already satisfied: pytz>=2020.1 in c:\\users\\mustafa\\anaconda3\\lib\\site-packages (from pandas>=0.24.0->yfinance) (2021.3)\n",
      "Requirement already satisfied: six>=1.5 in c:\\users\\mustafa\\anaconda3\\lib\\site-packages (from python-dateutil>=2.8.1->pandas>=0.24.0->yfinance) (1.16.0)\n",
      "Requirement already satisfied: certifi>=2017.4.17 in c:\\users\\mustafa\\anaconda3\\lib\\site-packages (from requests>=2.26->yfinance) (2022.9.14)\n",
      "Requirement already satisfied: idna<4,>=2.5 in c:\\users\\mustafa\\anaconda3\\lib\\site-packages (from requests>=2.26->yfinance) (3.3)\n",
      "Requirement already satisfied: charset-normalizer~=2.0.0 in c:\\users\\mustafa\\anaconda3\\lib\\site-packages (from requests>=2.26->yfinance) (2.0.4)\n",
      "Requirement already satisfied: urllib3<1.27,>=1.21.1 in c:\\users\\mustafa\\anaconda3\\lib\\site-packages (from requests>=2.26->yfinance) (1.26.9)\n"
     ]
    },
    {
     "name": "stderr",
     "output_type": "stream",
     "text": [
      "WARNING: Ignoring invalid distribution -atplotlib (c:\\users\\mustafa\\anaconda3\\lib\\site-packages)\n",
      "WARNING: Ignoring invalid distribution -atplotlib (c:\\users\\mustafa\\anaconda3\\lib\\site-packages)\n",
      "WARNING: Ignoring invalid distribution -atplotlib (c:\\users\\mustafa\\anaconda3\\lib\\site-packages)\n",
      "WARNING: Ignoring invalid distribution -atplotlib (c:\\users\\mustafa\\anaconda3\\lib\\site-packages)\n",
      "WARNING: Ignoring invalid distribution -atplotlib (c:\\users\\mustafa\\anaconda3\\lib\\site-packages)\n",
      "WARNING: Ignoring invalid distribution -atplotlib (c:\\users\\mustafa\\anaconda3\\lib\\site-packages)\n"
     ]
    }
   ],
   "source": [
    "!pip install yfinance"
   ]
  },
  {
   "cell_type": "code",
   "execution_count": 15,
   "id": "a6259ae0-8097-4672-b4a5-39f3735fc2b3",
   "metadata": {},
   "outputs": [],
   "source": [
    "import math \n",
    "import numpy as np \n",
    "import pandas as pd \n",
    "from datetime import date, timedelta\n",
    "import matplotlib.pyplot as plt \n",
    "import matplotlib.dates as mdates \n",
    "from sklearn.metrics import mean_absolute_error, mean_squared_error\n",
    "from sklearn.preprocessing import MinMaxScaler\n",
    "from tensorflow.keras.models import Sequential\n",
    "from tensorflow.keras.layers import LSTM, Dense\n",
    "import tensorflow as tf\n",
    "import seaborn as sns"
   ]
  },
  {
   "cell_type": "code",
   "execution_count": 16,
   "id": "94d41242-314c-4ff8-a4db-8e63ca967541",
   "metadata": {},
   "outputs": [],
   "source": [
    "stockname = \"Amazon\"\n",
    "symbol = \"AMZN\"\n",
    "start_date = \"2000-01-01\"\n",
    "end_date = str(date.today())\n",
    "today = date.today()"
   ]
  },
  {
   "cell_type": "code",
   "execution_count": 19,
   "id": "f81193c8-bcbc-4347-8c50-75574d7f8b86",
   "metadata": {},
   "outputs": [
    {
     "name": "stdout",
     "output_type": "stream",
     "text": [
      "[*********************100%***********************]  1 of 1 completed\n"
     ]
    }
   ],
   "source": [
    "import yfinance as yf \n",
    "df = yf.download(start=start_date,end =end_date,tickers =symbol, interval = \"1d\")"
   ]
  },
  {
   "cell_type": "code",
   "execution_count": 18,
   "id": "6ecb2906-8303-4bdd-80a3-c90f7a8a19e6",
   "metadata": {},
   "outputs": [
    {
     "name": "stdout",
     "output_type": "stream",
     "text": [
      "[*********************100%***********************]  1 of 1 completed\n"
     ]
    }
   ],
   "source": [
    "df_year = yf.download(start=start_date,end =end_date,tickers =symbol, interval = \"1d\")"
   ]
  },
  {
   "cell_type": "code",
   "execution_count": 20,
   "id": "5d05b457-f9fc-4c29-bdf4-f34d22837f13",
   "metadata": {},
   "outputs": [
    {
     "name": "stdout",
     "output_type": "stream",
     "text": [
      "(5762, 6)\n"
     ]
    },
    {
     "data": {
      "text/html": [
       "<div>\n",
       "<style scoped>\n",
       "    .dataframe tbody tr th:only-of-type {\n",
       "        vertical-align: middle;\n",
       "    }\n",
       "\n",
       "    .dataframe tbody tr th {\n",
       "        vertical-align: top;\n",
       "    }\n",
       "\n",
       "    .dataframe thead th {\n",
       "        text-align: right;\n",
       "    }\n",
       "</style>\n",
       "<table border=\"1\" class=\"dataframe\">\n",
       "  <thead>\n",
       "    <tr style=\"text-align: right;\">\n",
       "      <th></th>\n",
       "      <th>Open</th>\n",
       "      <th>High</th>\n",
       "      <th>Low</th>\n",
       "      <th>Close</th>\n",
       "      <th>Adj Close</th>\n",
       "      <th>Volume</th>\n",
       "    </tr>\n",
       "    <tr>\n",
       "      <th>Date</th>\n",
       "      <th></th>\n",
       "      <th></th>\n",
       "      <th></th>\n",
       "      <th></th>\n",
       "      <th></th>\n",
       "      <th></th>\n",
       "    </tr>\n",
       "  </thead>\n",
       "  <tbody>\n",
       "    <tr>\n",
       "      <th>2000-01-03 00:00:00-05:00</th>\n",
       "      <td>4.075000</td>\n",
       "      <td>4.478125</td>\n",
       "      <td>3.952344</td>\n",
       "      <td>4.468750</td>\n",
       "      <td>4.468750</td>\n",
       "      <td>322352000</td>\n",
       "    </tr>\n",
       "    <tr>\n",
       "      <th>2000-01-04 00:00:00-05:00</th>\n",
       "      <td>4.268750</td>\n",
       "      <td>4.575000</td>\n",
       "      <td>4.087500</td>\n",
       "      <td>4.096875</td>\n",
       "      <td>4.096875</td>\n",
       "      <td>349748000</td>\n",
       "    </tr>\n",
       "    <tr>\n",
       "      <th>2000-01-05 00:00:00-05:00</th>\n",
       "      <td>3.525000</td>\n",
       "      <td>3.756250</td>\n",
       "      <td>3.400000</td>\n",
       "      <td>3.487500</td>\n",
       "      <td>3.487500</td>\n",
       "      <td>769148000</td>\n",
       "    </tr>\n",
       "    <tr>\n",
       "      <th>2000-01-06 00:00:00-05:00</th>\n",
       "      <td>3.565625</td>\n",
       "      <td>3.634375</td>\n",
       "      <td>3.200000</td>\n",
       "      <td>3.278125</td>\n",
       "      <td>3.278125</td>\n",
       "      <td>375040000</td>\n",
       "    </tr>\n",
       "    <tr>\n",
       "      <th>2000-01-07 00:00:00-05:00</th>\n",
       "      <td>3.350000</td>\n",
       "      <td>3.525000</td>\n",
       "      <td>3.309375</td>\n",
       "      <td>3.478125</td>\n",
       "      <td>3.478125</td>\n",
       "      <td>210108000</td>\n",
       "    </tr>\n",
       "  </tbody>\n",
       "</table>\n",
       "</div>"
      ],
      "text/plain": [
       "                               Open      High       Low     Close  Adj Close  \\\n",
       "Date                                                                           \n",
       "2000-01-03 00:00:00-05:00  4.075000  4.478125  3.952344  4.468750   4.468750   \n",
       "2000-01-04 00:00:00-05:00  4.268750  4.575000  4.087500  4.096875   4.096875   \n",
       "2000-01-05 00:00:00-05:00  3.525000  3.756250  3.400000  3.487500   3.487500   \n",
       "2000-01-06 00:00:00-05:00  3.565625  3.634375  3.200000  3.278125   3.278125   \n",
       "2000-01-07 00:00:00-05:00  3.350000  3.525000  3.309375  3.478125   3.478125   \n",
       "\n",
       "                              Volume  \n",
       "Date                                  \n",
       "2000-01-03 00:00:00-05:00  322352000  \n",
       "2000-01-04 00:00:00-05:00  349748000  \n",
       "2000-01-05 00:00:00-05:00  769148000  \n",
       "2000-01-06 00:00:00-05:00  375040000  \n",
       "2000-01-07 00:00:00-05:00  210108000  "
      ]
     },
     "execution_count": 20,
     "metadata": {},
     "output_type": "execute_result"
    }
   ],
   "source": [
    "print(df.shape)\n",
    "df.head(5)"
   ]
  },
  {
   "cell_type": "code",
   "execution_count": 21,
   "id": "f52eedd5-183b-48b7-bed9-695fc1c9a505",
   "metadata": {},
   "outputs": [
    {
     "name": "stdout",
     "output_type": "stream",
     "text": [
      "(5762, 6)\n"
     ]
    },
    {
     "data": {
      "text/html": [
       "<div>\n",
       "<style scoped>\n",
       "    .dataframe tbody tr th:only-of-type {\n",
       "        vertical-align: middle;\n",
       "    }\n",
       "\n",
       "    .dataframe tbody tr th {\n",
       "        vertical-align: top;\n",
       "    }\n",
       "\n",
       "    .dataframe thead th {\n",
       "        text-align: right;\n",
       "    }\n",
       "</style>\n",
       "<table border=\"1\" class=\"dataframe\">\n",
       "  <thead>\n",
       "    <tr style=\"text-align: right;\">\n",
       "      <th></th>\n",
       "      <th>Open</th>\n",
       "      <th>High</th>\n",
       "      <th>Low</th>\n",
       "      <th>Close</th>\n",
       "      <th>Adj Close</th>\n",
       "      <th>Volume</th>\n",
       "    </tr>\n",
       "    <tr>\n",
       "      <th>Date</th>\n",
       "      <th></th>\n",
       "      <th></th>\n",
       "      <th></th>\n",
       "      <th></th>\n",
       "      <th></th>\n",
       "      <th></th>\n",
       "    </tr>\n",
       "  </thead>\n",
       "  <tbody>\n",
       "    <tr>\n",
       "      <th>2000-01-03 00:00:00-05:00</th>\n",
       "      <td>4.075000</td>\n",
       "      <td>4.478125</td>\n",
       "      <td>3.952344</td>\n",
       "      <td>4.468750</td>\n",
       "      <td>4.468750</td>\n",
       "      <td>322352000</td>\n",
       "    </tr>\n",
       "    <tr>\n",
       "      <th>2000-01-04 00:00:00-05:00</th>\n",
       "      <td>4.268750</td>\n",
       "      <td>4.575000</td>\n",
       "      <td>4.087500</td>\n",
       "      <td>4.096875</td>\n",
       "      <td>4.096875</td>\n",
       "      <td>349748000</td>\n",
       "    </tr>\n",
       "    <tr>\n",
       "      <th>2000-01-05 00:00:00-05:00</th>\n",
       "      <td>3.525000</td>\n",
       "      <td>3.756250</td>\n",
       "      <td>3.400000</td>\n",
       "      <td>3.487500</td>\n",
       "      <td>3.487500</td>\n",
       "      <td>769148000</td>\n",
       "    </tr>\n",
       "    <tr>\n",
       "      <th>2000-01-06 00:00:00-05:00</th>\n",
       "      <td>3.565625</td>\n",
       "      <td>3.634375</td>\n",
       "      <td>3.200000</td>\n",
       "      <td>3.278125</td>\n",
       "      <td>3.278125</td>\n",
       "      <td>375040000</td>\n",
       "    </tr>\n",
       "    <tr>\n",
       "      <th>2000-01-07 00:00:00-05:00</th>\n",
       "      <td>3.350000</td>\n",
       "      <td>3.525000</td>\n",
       "      <td>3.309375</td>\n",
       "      <td>3.478125</td>\n",
       "      <td>3.478125</td>\n",
       "      <td>210108000</td>\n",
       "    </tr>\n",
       "  </tbody>\n",
       "</table>\n",
       "</div>"
      ],
      "text/plain": [
       "                               Open      High       Low     Close  Adj Close  \\\n",
       "Date                                                                           \n",
       "2000-01-03 00:00:00-05:00  4.075000  4.478125  3.952344  4.468750   4.468750   \n",
       "2000-01-04 00:00:00-05:00  4.268750  4.575000  4.087500  4.096875   4.096875   \n",
       "2000-01-05 00:00:00-05:00  3.525000  3.756250  3.400000  3.487500   3.487500   \n",
       "2000-01-06 00:00:00-05:00  3.565625  3.634375  3.200000  3.278125   3.278125   \n",
       "2000-01-07 00:00:00-05:00  3.350000  3.525000  3.309375  3.478125   3.478125   \n",
       "\n",
       "                              Volume  \n",
       "Date                                  \n",
       "2000-01-03 00:00:00-05:00  322352000  \n",
       "2000-01-04 00:00:00-05:00  349748000  \n",
       "2000-01-05 00:00:00-05:00  769148000  \n",
       "2000-01-06 00:00:00-05:00  375040000  \n",
       "2000-01-07 00:00:00-05:00  210108000  "
      ]
     },
     "execution_count": 21,
     "metadata": {},
     "output_type": "execute_result"
    }
   ],
   "source": [
    "print(df_year.shape)\n",
    "df_year.head(5)"
   ]
  },
  {
   "cell_type": "markdown",
   "id": "9e7f6b3d-3ab6-4934-96a1-8935d074036c",
   "metadata": {
    "tags": []
   },
   "source": [
    "## Veri Görselleştirme"
   ]
  },
  {
   "cell_type": "code",
   "execution_count": 22,
   "id": "8caf867f-0a77-4c42-83c9-3a44abe3df0a",
   "metadata": {},
   "outputs": [
    {
     "data": {
      "image/png": "[encoded data removed]",
      "text/plain": [
       "<Figure size 1440x432 with 1 Axes>"
      ]
     },
     "metadata": {
      "needs_background": "light"
     },
     "output_type": "display_data"
    }
   ],
   "source": [
    "fig, ax1 = plt.subplots(figsize=(20, 6))\n",
    "ax1.xaxis.set_major_formatter(mdates.DateFormatter(\"%Y-%m-%d\"))\n",
    "ax1.legend([stockname], fontsize=15)\n",
    "plt.title(stockname + ' from '+ start_date + ' to ' + end_date)\n",
    "sns.lineplot(data=df['Close'], label=stockname, linewidth=1.5)\n",
    "plt.ylabel('Amazon Points')\n",
    "plt.show()"
   ]
  },
  {
   "cell_type": "code",
   "execution_count": 23,
   "id": "8f076a55-bdf3-46c7-8e62-78f93e519984",
   "metadata": {},
   "outputs": [
    {
     "data": {
      "image/png": "[encoded data removed]",
      "text/plain": [
       "<Figure size 1440x432 with 1 Axes>"
      ]
     },
     "metadata": {
      "needs_background": "light"
     },
     "output_type": "display_data"
    }
   ],
   "source": [
    "years = mdates.YearLocator() \n",
    "fig, ax1 = plt.subplots(figsize=(20, 6))\n",
    "ax1.xaxis.set_major_locator(years)\n",
    "ax1.legend([stockname], fontsize=12)\n",
    "plt.title(stockname + ' from '+ '2000-01-01' + ' to ' + end_date)\n",
    "sns.lineplot(data=df_year['Close'], label=stockname, linewidth=1.0)\n",
    "plt.ylabel('Amazon Points')\n",
    "plt.show()"
   ]
  },
  {
   "cell_type": "markdown",
   "id": "2314d63a-0bfd-4eea-8ccf-ba0675a2b466",
   "metadata": {},
   "source": [
    "## Veri Normalizasyonu(Ölçeklendirme)"
   ]
  },
  {
   "cell_type": "code",
   "execution_count": 24,
   "id": "26b18792-5f11-4f2d-9f05-96f3618e5940",
   "metadata": {},
   "outputs": [],
   "source": [
    "train_df = df.filter(['Close'])\n",
    "data_unscaled = train_df.values"
   ]
  },
  {
   "cell_type": "code",
   "execution_count": 25,
   "id": "95c78b92-985a-4a5c-b168-58983b89aad6",
   "metadata": {},
   "outputs": [],
   "source": [
    "train_data_length = math.ceil(len(data_unscaled) * 0.8)"
   ]
  },
  {
   "cell_type": "code",
   "execution_count": 26,
   "id": "1410bcd0-4297-4c58-811c-e587091cd911",
   "metadata": {},
   "outputs": [
    {
     "data": {
      "text/plain": [
       "4610"
      ]
     },
     "execution_count": 26,
     "metadata": {},
     "output_type": "execute_result"
    }
   ],
   "source": [
    "train_data_length"
   ]
  },
  {
   "cell_type": "code",
   "execution_count": 27,
   "id": "49490b04-4029-4723-8c44-a8d7a32c7626",
   "metadata": {},
   "outputs": [],
   "source": [
    "mmscaler = MinMaxScaler(feature_range=(0, 1))\n",
    "np_data = mmscaler.fit_transform(data_unscaled)"
   ]
  },
  {
   "cell_type": "code",
   "execution_count": 28,
   "id": "df877b88-b09e-40fa-89e2-bc1994cdf431",
   "metadata": {},
   "outputs": [
    {
     "data": {
      "text/plain": [
       "array([[0.02238796],\n",
       "       [0.02039155],\n",
       "       [0.01712013],\n",
       "       ...,\n",
       "       [0.49476841],\n",
       "       [0.49874108],\n",
       "       [0.50373378]])"
      ]
     },
     "execution_count": 28,
     "metadata": {},
     "output_type": "execute_result"
    }
   ],
   "source": [
    "np_data"
   ]
  },
  {
   "cell_type": "markdown",
   "id": "fec07029-d498-43ac-815c-fc7f5cef80da",
   "metadata": {},
   "source": [
    "## Girdiyi Düzenleme"
   ]
  },
  {
   "cell_type": "markdown",
   "id": "fcfdfc8b-d3d1-41a2-b4bb-2832e8eda2cd",
   "metadata": {},
   "source": [
    "Eğitime başlamadan veri setimizi train ve test olarak ayırmamız gerekiyor.Bu sayede test kısmı ile veriyi test edeceğiz.\n",
    "Daha sonra ise son 1 haftanın 1'er saatlik verisine göre (yani ortalama 50 veri) bir sonraki saati tahmin etmeye çalışacağız."
   ]
  },
  {
   "cell_type": "code",
   "execution_count": 29,
   "id": "3bf99755-da24-43b5-937a-4944864cf587",
   "metadata": {},
   "outputs": [
    {
     "name": "stdout",
     "output_type": "stream",
     "text": [
      "0\n"
     ]
    }
   ],
   "source": [
    "index_Close = train_df.columns.get_loc(\"Close\")\n",
    "print(index_Close)"
   ]
  },
  {
   "cell_type": "code",
   "execution_count": 30,
   "id": "fb9a90d7-de7a-4198-b655-341322785fd6",
   "metadata": {},
   "outputs": [],
   "source": [
    "train_data_len = math.ceil(np_data.shape[0] * 0.8)"
   ]
  },
  {
   "cell_type": "code",
   "execution_count": 31,
   "id": "cc976270-6cc3-438d-8d79-6dfa49a7c2cf",
   "metadata": {},
   "outputs": [
    {
     "data": {
      "text/plain": [
       "4610"
      ]
     },
     "execution_count": 31,
     "metadata": {},
     "output_type": "execute_result"
    }
   ],
   "source": [
    "train_data_len"
   ]
  },
  {
   "cell_type": "code",
   "execution_count": 32,
   "id": "201fe354-b518-441e-9582-159158111858",
   "metadata": {},
   "outputs": [],
   "source": [
    "sequence_length = 50\n",
    "train_data = np_data[0:train_data_len, :]\n",
    "test_data = np_data[train_data_len - sequence_length:, :]"
   ]
  },
  {
   "cell_type": "code",
   "execution_count": 33,
   "id": "c0efd29f-867d-4ef1-95b8-0d4a280632ce",
   "metadata": {},
   "outputs": [
    {
     "data": {
      "text/plain": [
       "(array([[0.02238796],\n",
       "        [0.02039155],\n",
       "        [0.01712013],\n",
       "        [0.0159961 ],\n",
       "        [0.0170698 ],\n",
       "        [0.01696914],\n",
       "        [0.01631485],\n",
       "        [0.01545925],\n",
       "        [0.01609676],\n",
       "        [0.01564379]]),\n",
       " array([[0.38726166],\n",
       "        [0.3925389 ],\n",
       "        [0.39644984],\n",
       "        [0.3970994 ],\n",
       "        [0.40103452],\n",
       "        [0.40692646],\n",
       "        [0.40425024],\n",
       "        [0.40437639],\n",
       "        [0.39927634],\n",
       "        [0.40110161]]))"
      ]
     },
     "execution_count": 33,
     "metadata": {},
     "output_type": "execute_result"
    }
   ],
   "source": [
    "train_data[:10],test_data[:10]"
   ]
  },
  {
   "cell_type": "code",
   "execution_count": 34,
   "id": "aba18de8-ec78-443a-bbb6-28f173b2773d",
   "metadata": {},
   "outputs": [
    {
     "data": {
      "text/plain": [
       "5762"
      ]
     },
     "execution_count": 34,
     "metadata": {},
     "output_type": "execute_result"
    }
   ],
   "source": [
    "train_df.shape[0]"
   ]
  },
  {
   "cell_type": "code",
   "execution_count": 35,
   "id": "a2a9ef7b-6fa8-4175-955c-53d055fa1fbb",
   "metadata": {},
   "outputs": [],
   "source": [
    "def partition_dataset(sequence_length, train_df):\n",
    "    x, y = [], []\n",
    "    data_len = train_df.shape[0]\n",
    "    for i in range(sequence_length, data_len):\n",
    "        x.append(train_df[i-sequence_length:i,:]) \n",
    "        y.append(train_df[i, index_Close])\n",
    "\n",
    "    x = np.array(x)\n",
    "    y = np.array(y)\n",
    "    return x, y"
   ]
  },
  {
   "cell_type": "code",
   "execution_count": 36,
   "id": "fcb5a6da-2c4e-4836-af7e-fe6f53bda520",
   "metadata": {},
   "outputs": [],
   "source": [
    "x_train, y_train = partition_dataset(sequence_length, train_data)\n",
    "x_test, y_test = partition_dataset(sequence_length, test_data)"
   ]
  },
  {
   "cell_type": "code",
   "execution_count": 37,
   "id": "ac1d13e0-f1a2-4ee9-8d89-688273b872f8",
   "metadata": {},
   "outputs": [
    {
     "name": "stdout",
     "output_type": "stream",
     "text": [
      "(4560, 50, 1) (4560,)\n",
      "(1152, 50, 1) (1152,)\n"
     ]
    }
   ],
   "source": [
    "print(x_train.shape, y_train.shape)\n",
    "print(x_test.shape, y_test.shape)"
   ]
  },
  {
   "cell_type": "code",
   "execution_count": 38,
   "id": "14e1817b-c78c-4699-83b2-fedbe738d8ca",
   "metadata": {},
   "outputs": [
    {
     "name": "stdout",
     "output_type": "stream",
     "text": [
      "0.4231151263795404\n",
      "0.4231151263795404\n"
     ]
    }
   ],
   "source": [
    "print(x_test[1][sequence_length-1][index_Close])\n",
    "print(y_test[0])"
   ]
  },
  {
   "cell_type": "code",
   "execution_count": 39,
   "id": "415bc47f-45ff-4f06-a137-372287a78cba",
   "metadata": {
    "collapsed": true,
    "jupyter": {
     "outputs_hidden": true
    },
    "tags": []
   },
   "outputs": [
    {
     "data": {
      "text/plain": [
       "array([[[0.02238796],\n",
       "        [0.02039155],\n",
       "        [0.01712013],\n",
       "        [0.0159961 ],\n",
       "        [0.0170698 ],\n",
       "        [0.01696914],\n",
       "        [0.01631485],\n",
       "        [0.01545925],\n",
       "        [0.01609676],\n",
       "        [0.01564379],\n",
       "        [0.01561024],\n",
       "        [0.01633163],\n",
       "        [0.015778  ],\n",
       "        [0.01505661],\n",
       "        [0.01722078],\n",
       "        [0.01698591],\n",
       "        [0.01579478],\n",
       "        [0.01636518],\n",
       "        [0.01495595],\n",
       "        [0.01572767],\n",
       "        [0.01649939],\n",
       "        [0.01703624],\n",
       "        [0.02099551],\n",
       "        [0.01948562],\n",
       "        [0.01852936],\n",
       "        [0.02071031],\n",
       "        [0.01993858],\n",
       "        [0.01884811],\n",
       "        [0.01884811],\n",
       "        [0.01837837],\n",
       "        [0.0182106 ],\n",
       "        [0.01737177],\n",
       "        [0.01691881],\n",
       "        [0.015778  ],\n",
       "        [0.01545925],\n",
       "        [0.01730467],\n",
       "        [0.01676782],\n",
       "        [0.01695236],\n",
       "        [0.01604643],\n",
       "        [0.01688525],\n",
       "        [0.01607998],\n",
       "        [0.01519082],\n",
       "        [0.01517405],\n",
       "        [0.01555991],\n",
       "        [0.01544247],\n",
       "        [0.01547603],\n",
       "        [0.01686848],\n",
       "        [0.0163484 ],\n",
       "        [0.01592899],\n",
       "        [0.01601287]],\n",
       "\n",
       "       [[0.02039155],\n",
       "        [0.01712013],\n",
       "        [0.0159961 ],\n",
       "        [0.0170698 ],\n",
       "        [0.01696914],\n",
       "        [0.01631485],\n",
       "        [0.01545925],\n",
       "        [0.01609676],\n",
       "        [0.01564379],\n",
       "        [0.01561024],\n",
       "        [0.01633163],\n",
       "        [0.015778  ],\n",
       "        [0.01505661],\n",
       "        [0.01722078],\n",
       "        [0.01698591],\n",
       "        [0.01579478],\n",
       "        [0.01636518],\n",
       "        [0.01495595],\n",
       "        [0.01572767],\n",
       "        [0.01649939],\n",
       "        [0.01703624],\n",
       "        [0.02099551],\n",
       "        [0.01948562],\n",
       "        [0.01852936],\n",
       "        [0.02071031],\n",
       "        [0.01993858],\n",
       "        [0.01884811],\n",
       "        [0.01884811],\n",
       "        [0.01837837],\n",
       "        [0.0182106 ],\n",
       "        [0.01737177],\n",
       "        [0.01691881],\n",
       "        [0.015778  ],\n",
       "        [0.01545925],\n",
       "        [0.01730467],\n",
       "        [0.01676782],\n",
       "        [0.01695236],\n",
       "        [0.01604643],\n",
       "        [0.01688525],\n",
       "        [0.01607998],\n",
       "        [0.01519082],\n",
       "        [0.01517405],\n",
       "        [0.01555991],\n",
       "        [0.01544247],\n",
       "        [0.01547603],\n",
       "        [0.01686848],\n",
       "        [0.0163484 ],\n",
       "        [0.01592899],\n",
       "        [0.01601287],\n",
       "        [0.01550958]]])"
      ]
     },
     "execution_count": 39,
     "metadata": {},
     "output_type": "execute_result"
    }
   ],
   "source": [
    "x_train[:2]"
   ]
  },
  {
   "cell_type": "markdown",
   "id": "e9460b31-bafc-4efb-9977-1e3fc843c5b6",
   "metadata": {},
   "source": [
    "## Model"
   ]
  },
  {
   "cell_type": "code",
   "execution_count": 40,
   "id": "33128bef-80b4-4515-97ef-a783250590ae",
   "metadata": {},
   "outputs": [],
   "source": [
    "model = Sequential()\n",
    "\n",
    "neurons = sequence_length\n",
    "\n",
    "model.add(LSTM(neurons, return_sequences=True, input_shape=(x_train.shape[1], 1))) \n",
    "model.add(LSTM(neurons, return_sequences=False))\n",
    "model.add(Dense(25, activation='relu'))\n",
    "model.add(Dense(1))\n",
    "\n",
    "model.compile(optimizer='adam', loss='mean_squared_error')"
   ]
  },
  {
   "cell_type": "code",
   "execution_count": 41,
   "id": "89848518-2f20-4569-8dd2-51a805a56914",
   "metadata": {
    "tags": []
   },
   "outputs": [
    {
     "name": "stdout",
     "output_type": "stream",
     "text": [
      "Epoch 1/25\n",
      "285/285 [==============================] - 8s 20ms/step - loss: 3.1910e-04\n",
      "Epoch 2/25\n",
      "285/285 [==============================] - 6s 20ms/step - loss: 3.2103e-05\n",
      "Epoch 3/25\n",
      "285/285 [==============================] - 6s 20ms/step - loss: 3.0450e-05\n",
      "Epoch 4/25\n",
      "285/285 [==============================] - 6s 20ms/step - loss: 2.4689e-05\n",
      "Epoch 5/25\n",
      "285/285 [==============================] - 6s 20ms/step - loss: 2.4544e-05\n",
      "Epoch 6/25\n",
      "285/285 [==============================] - 6s 20ms/step - loss: 2.1964e-05\n",
      "Epoch 7/25\n",
      "285/285 [==============================] - 6s 20ms/step - loss: 2.3793e-05\n",
      "Epoch 8/25\n",
      "285/285 [==============================] - 6s 20ms/step - loss: 2.7112e-05\n",
      "Epoch 9/25\n",
      "285/285 [==============================] - 6s 20ms/step - loss: 1.6243e-05\n",
      "Epoch 10/25\n",
      "285/285 [==============================] - 6s 20ms/step - loss: 1.7709e-05\n",
      "Epoch 11/25\n",
      "285/285 [==============================] - 6s 20ms/step - loss: 1.6594e-05\n",
      "Epoch 12/25\n",
      "285/285 [==============================] - 6s 20ms/step - loss: 1.6200e-05\n",
      "Epoch 13/25\n",
      "285/285 [==============================] - 6s 20ms/step - loss: 1.6955e-05\n",
      "Epoch 14/25\n",
      "285/285 [==============================] - 6s 20ms/step - loss: 1.6809e-05\n",
      "Epoch 15/25\n",
      "285/285 [==============================] - 6s 20ms/step - loss: 1.4166e-05\n",
      "Epoch 16/25\n",
      "285/285 [==============================] - 6s 20ms/step - loss: 1.5404e-05\n",
      "Epoch 17/25\n",
      "285/285 [==============================] - 6s 20ms/step - loss: 1.2656e-05\n",
      "Epoch 18/25\n",
      "285/285 [==============================] - 6s 20ms/step - loss: 1.2028e-05\n",
      "Epoch 19/25\n",
      "285/285 [==============================] - 6s 20ms/step - loss: 1.0328e-05\n",
      "Epoch 20/25\n",
      "285/285 [==============================] - 6s 20ms/step - loss: 1.1239e-05\n",
      "Epoch 21/25\n",
      "285/285 [==============================] - 6s 20ms/step - loss: 1.2374e-05\n",
      "Epoch 22/25\n",
      "285/285 [==============================] - 6s 20ms/step - loss: 1.5203e-05\n",
      "Epoch 23/25\n",
      "285/285 [==============================] - 6s 20ms/step - loss: 1.1012e-05\n",
      "Epoch 24/25\n",
      "285/285 [==============================] - 6s 20ms/step - loss: 9.5814e-06\n",
      "Epoch 25/25\n",
      "285/285 [==============================] - 6s 20ms/step - loss: 8.4424e-06\n"
     ]
    },
    {
     "data": {
      "text/plain": [
       "<keras.callbacks.History at 0x2361128c070>"
      ]
     },
     "execution_count": 41,
     "metadata": {},
     "output_type": "execute_result"
    }
   ],
   "source": [
    "model.fit(x_train, y_train, batch_size=16, epochs=25)"
   ]
  },
  {
   "cell_type": "markdown",
   "id": "9716067f-fa55-4869-ae3f-658a5479bfbd",
   "metadata": {},
   "source": [
    "## Prediction"
   ]
  },
  {
   "cell_type": "code",
   "execution_count": 42,
   "id": "b2ddda2b-a819-4cc2-94f9-4f6da59e814d",
   "metadata": {},
   "outputs": [
    {
     "name": "stdout",
     "output_type": "stream",
     "text": [
      "36/36 [==============================] - 1s 11ms/step\n"
     ]
    }
   ],
   "source": [
    "y_pred_scaled = model.predict(x_test)\n",
    "y_pred = mmscaler.inverse_transform(y_pred_scaled)\n",
    "y_test_unscaled = mmscaler.inverse_transform(y_test.reshape(-1, 1))"
   ]
  },
  {
   "cell_type": "code",
   "execution_count": 43,
   "id": "370decc3-e268-4ae7-8ac3-dc3cbb50710a",
   "metadata": {},
   "outputs": [
    {
     "name": "stdout",
     "output_type": "stream",
     "text": [
      "Median Absolute Error (MAE): 3.97\n",
      "Mean Absolute Percentage Error (MAPE): 2.91 %\n",
      "Median Absolute Percentage Error (MDAPE): 2.63 %\n"
     ]
    }
   ],
   "source": [
    "MAE = mean_absolute_error(y_test_unscaled, y_pred)\n",
    "print(f'Median Absolute Error (MAE): {np.round(MAE, 2)}')\n",
    "\n",
    "MAPE = np.mean((np.abs(np.subtract(y_test_unscaled, y_pred)/ y_test_unscaled))) * 100\n",
    "print(f'Mean Absolute Percentage Error (MAPE): {np.round(MAPE, 2)} %')\n",
    "\n",
    "MDAPE = np.median((np.abs(np.subtract(y_test_unscaled, y_pred)/ y_test_unscaled)) ) * 100\n",
    "print(f'Median Absolute Percentage Error (MDAPE): {np.round(MDAPE, 2)} %')"
   ]
  },
  {
   "cell_type": "code",
   "execution_count": 44,
   "id": "565eb47c-d199-4128-b487-640dab901980",
   "metadata": {},
   "outputs": [
    {
     "data": {
      "text/html": [
       "<div>\n",
       "<style scoped>\n",
       "    .dataframe tbody tr th:only-of-type {\n",
       "        vertical-align: middle;\n",
       "    }\n",
       "\n",
       "    .dataframe tbody tr th {\n",
       "        vertical-align: top;\n",
       "    }\n",
       "\n",
       "    .dataframe thead th {\n",
       "        text-align: right;\n",
       "    }\n",
       "</style>\n",
       "<table border=\"1\" class=\"dataframe\">\n",
       "  <thead>\n",
       "    <tr style=\"text-align: right;\">\n",
       "      <th></th>\n",
       "      <th>x_train</th>\n",
       "    </tr>\n",
       "    <tr>\n",
       "      <th>Date</th>\n",
       "      <th></th>\n",
       "    </tr>\n",
       "  </thead>\n",
       "  <tbody>\n",
       "    <tr>\n",
       "      <th>2000-01-03 00:00:00-05:00</th>\n",
       "      <td>4.468750</td>\n",
       "    </tr>\n",
       "    <tr>\n",
       "      <th>2000-01-04 00:00:00-05:00</th>\n",
       "      <td>4.096875</td>\n",
       "    </tr>\n",
       "    <tr>\n",
       "      <th>2000-01-05 00:00:00-05:00</th>\n",
       "      <td>3.487500</td>\n",
       "    </tr>\n",
       "    <tr>\n",
       "      <th>2000-01-06 00:00:00-05:00</th>\n",
       "      <td>3.278125</td>\n",
       "    </tr>\n",
       "    <tr>\n",
       "      <th>2000-01-07 00:00:00-05:00</th>\n",
       "      <td>3.478125</td>\n",
       "    </tr>\n",
       "    <tr>\n",
       "      <th>...</th>\n",
       "      <td>...</td>\n",
       "    </tr>\n",
       "    <tr>\n",
       "      <th>2018-04-25 00:00:00-04:00</th>\n",
       "      <td>73.008499</td>\n",
       "    </tr>\n",
       "    <tr>\n",
       "      <th>2018-04-26 00:00:00-04:00</th>\n",
       "      <td>75.898003</td>\n",
       "    </tr>\n",
       "    <tr>\n",
       "      <th>2018-04-27 00:00:00-04:00</th>\n",
       "      <td>78.630997</td>\n",
       "    </tr>\n",
       "    <tr>\n",
       "      <th>2018-04-30 00:00:00-04:00</th>\n",
       "      <td>78.306503</td>\n",
       "    </tr>\n",
       "    <tr>\n",
       "      <th>2018-05-01 00:00:00-04:00</th>\n",
       "      <td>79.112999</td>\n",
       "    </tr>\n",
       "  </tbody>\n",
       "</table>\n",
       "<p>4611 rows × 1 columns</p>\n",
       "</div>"
      ],
      "text/plain": [
       "                             x_train\n",
       "Date                                \n",
       "2000-01-03 00:00:00-05:00   4.468750\n",
       "2000-01-04 00:00:00-05:00   4.096875\n",
       "2000-01-05 00:00:00-05:00   3.487500\n",
       "2000-01-06 00:00:00-05:00   3.278125\n",
       "2000-01-07 00:00:00-05:00   3.478125\n",
       "...                              ...\n",
       "2018-04-25 00:00:00-04:00  73.008499\n",
       "2018-04-26 00:00:00-04:00  75.898003\n",
       "2018-04-27 00:00:00-04:00  78.630997\n",
       "2018-04-30 00:00:00-04:00  78.306503\n",
       "2018-05-01 00:00:00-04:00  79.112999\n",
       "\n",
       "[4611 rows x 1 columns]"
      ]
     },
     "execution_count": 44,
     "metadata": {},
     "output_type": "execute_result"
    }
   ],
   "source": [
    "train = pd.DataFrame(train_df[:train_data_length + 1]).rename(columns={'Close': 'x_train'})\n",
    "train"
   ]
  },
  {
   "cell_type": "code",
   "execution_count": 45,
   "id": "c8401508-268d-4907-bf64-f6572d157704",
   "metadata": {},
   "outputs": [
    {
     "data": {
      "image/png": "[encoded data removed]",
      "text/plain": [
       "<Figure size 1152x576 with 1 Axes>"
      ]
     },
     "metadata": {
      "needs_background": "light"
     },
     "output_type": "display_data"
    }
   ],
   "source": [
    "display_start_date = \"2019-01-01\" \n",
    "\n",
    "train = pd.DataFrame(train_df[:train_data_length + 1]).rename(columns={'Close': 'y_train'})\n",
    "valid = pd.DataFrame(train_df[train_data_length:]).rename(columns={'Close': 'y_test'})\n",
    "valid.insert(1, \"y_pred\", y_pred, True)\n",
    "valid.insert(1, \"residuals\", valid[\"y_pred\"] - valid[\"y_test\"], True)\n",
    "df_union = pd.concat([train, valid])\n",
    "\n",
    "df_union_zoom = df_union[df_union.index > display_start_date]\n",
    "\n",
    "fig, ax1 = plt.subplots(figsize=(16, 8), sharex=True)\n",
    "plt.title(\"Predictions vs Ground Truth\")\n",
    "sns.set_palette([\"#090364\", \"#1960EF\", \"#EF5919\"])\n",
    "plt.ylabel(stockname, fontsize=18)\n",
    "sns.lineplot(data=df_union_zoom[['y_train', 'y_pred', 'y_test']], linewidth=1.0, dashes=False, ax=ax1)\n",
    "\n",
    "df_sub = [\"#2BC97A\" if x > 0 else \"#C92B2B\" for x in df_union_zoom[\"residuals\"].dropna()]\n",
    "ax1.bar(height=df_union_zoom['residuals'].dropna(), x=df_union_zoom['residuals'].dropna().index, width=3, label='absolute errors', color=df_sub)\n",
    "plt.legend()\n",
    "plt.show()"
   ]
  },
  {
   "cell_type": "code",
   "execution_count": 46,
   "id": "1454a2d1-1ddd-489d-b6bc-a72fe67929cc",
   "metadata": {},
   "outputs": [
    {
     "name": "stdout",
     "output_type": "stream",
     "text": [
      "1/1 [==============================] - 1s 718ms/step\n",
      "The close price for Amazon at 2022-11-24 was 94.13\n",
      "The predicted close price for the next day is 92.41000366210938 (-1.83%)\n"
     ]
    }
   ],
   "source": [
    "df_new = df.filter(['Close'])\n",
    "\n",
    "last_days_scaled = mmscaler.transform(df_new[-sequence_length:].values)\n",
    "\n",
    "X_test = []\n",
    "X_test.append(last_days_scaled)\n",
    "\n",
    "X_test = np.array(X_test)\n",
    "X_test = np.reshape(X_test, (X_test.shape[0], X_test.shape[1], 1))\n",
    "\n",
    "pred_price = model.predict(X_test)\n",
    "pred_price_unscaled = mmscaler.inverse_transform(pred_price)\n",
    "\n",
    "price_today = round(df_new['Close'][-1], 2)\n",
    "predicted_price = round(pred_price_unscaled.ravel()[0], 2)\n",
    "percent_change = round((predicted_price * 100)/price_today - 100, 2)\n",
    "\n",
    "prefix = '+' if percent_change > 0 else ''\n",
    "print(f'The close price for {stockname} at {today} was {price_today}')\n",
    "print(f'The predicted close price for the next day is {predicted_price} ({prefix}{percent_change}%)')"
   ]
  },
  {
   "cell_type": "code",
   "execution_count": null,
   "id": "cfa107c3-9e53-45b8-acdf-009a862f2ed6",
   "metadata": {},
   "outputs": [],
   "source": []
  }
 ],
 "metadata": {
  "kernelspec": {
   "display_name": "Python 3 (ipykernel)",
   "language": "python",
   "name": "python3"
  },
  "language_info": {
   "codemirror_mode": {
    "name": "ipython",
    "version": 3
   },
   "file_extension": ".py",
   "mimetype": "text/x-python",
   "name": "python",
   "nbconvert_exporter": "python",
   "pygments_lexer": "ipython3",
   "version": "3.9.12"
  }
 },
 "nbformat": 4,
 "nbformat_minor": 5
}
