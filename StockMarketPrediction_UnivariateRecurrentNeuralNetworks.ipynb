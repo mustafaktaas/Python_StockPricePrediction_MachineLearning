{
 "cells": [
  {
   "cell_type": "markdown",
   "id": "cdb98e5d-f238-4466-8638-5eda3ca6df4e",
   "metadata": {},
   "source": [
    "# Stock Market Prediction Univariate Recurrent Neural Networks"
   ]
  },
  {
   "cell_type": "markdown",
   "id": "338865f4-e433-4c6c-849e-d9b1d8d65641",
   "metadata": {},
   "source": [
    "## Veri Çekme"
   ]
  },
  {
   "cell_type": "code",
   "execution_count": 1,
   "id": "e9cb8e8d-c6d0-49e8-9a8b-6bfd4c9f0422",
   "metadata": {},
   "outputs": [
    {
     "name": "stdout",
     "output_type": "stream",
     "text": [
      "Requirement already satisfied: yfinance in c:\\users\\mustafa\\anaconda3\\lib\\site-packages (0.1.75)\n",
      "Requirement already satisfied: appdirs>=1.4.4 in c:\\users\\mustafa\\anaconda3\\lib\\site-packages (from yfinance) (1.4.4)\n",
      "Requirement already satisfied: lxml>=4.5.1 in c:\\users\\mustafa\\anaconda3\\lib\\site-packages (from yfinance) (4.8.0)\n",
      "Requirement already satisfied: numpy>=1.15 in c:\\users\\mustafa\\anaconda3\\lib\\site-packages (from yfinance) (1.21.5)\n",
      "Requirement already satisfied: multitasking>=0.0.7 in c:\\users\\mustafa\\anaconda3\\lib\\site-packages (from yfinance) (0.0.11)\n",
      "Requirement already satisfied: requests>=2.26 in c:\\users\\mustafa\\anaconda3\\lib\\site-packages (from yfinance) (2.27.1)\n",
      "Requirement already satisfied: pandas>=0.24.0 in c:\\users\\mustafa\\anaconda3\\lib\\site-packages (from yfinance) (1.4.2)\n",
      "Requirement already satisfied: python-dateutil>=2.8.1 in c:\\users\\mustafa\\anaconda3\\lib\\site-packages (from pandas>=0.24.0->yfinance) (2.8.2)\n",
      "Requirement already satisfied: pytz>=2020.1 in c:\\users\\mustafa\\anaconda3\\lib\\site-packages (from pandas>=0.24.0->yfinance) (2021.3)\n",
      "Requirement already satisfied: six>=1.5 in c:\\users\\mustafa\\anaconda3\\lib\\site-packages (from python-dateutil>=2.8.1->pandas>=0.24.0->yfinance) (1.16.0)\n",
      "Requirement already satisfied: urllib3<1.27,>=1.21.1 in c:\\users\\mustafa\\anaconda3\\lib\\site-packages (from requests>=2.26->yfinance) (1.26.9)\n",
      "Requirement already satisfied: charset-normalizer~=2.0.0 in c:\\users\\mustafa\\anaconda3\\lib\\site-packages (from requests>=2.26->yfinance) (2.0.4)\n",
      "Requirement already satisfied: idna<4,>=2.5 in c:\\users\\mustafa\\anaconda3\\lib\\site-packages (from requests>=2.26->yfinance) (3.3)\n",
      "Requirement already satisfied: certifi>=2017.4.17 in c:\\users\\mustafa\\anaconda3\\lib\\site-packages (from requests>=2.26->yfinance) (2022.9.14)\n"
     ]
    },
    {
     "name": "stderr",
     "output_type": "stream",
     "text": [
      "WARNING: Ignoring invalid distribution -atplotlib (c:\\users\\mustafa\\anaconda3\\lib\\site-packages)\n",
      "WARNING: Ignoring invalid distribution -atplotlib (c:\\users\\mustafa\\anaconda3\\lib\\site-packages)\n",
      "WARNING: Ignoring invalid distribution -atplotlib (c:\\users\\mustafa\\anaconda3\\lib\\site-packages)\n",
      "WARNING: Ignoring invalid distribution -atplotlib (c:\\users\\mustafa\\anaconda3\\lib\\site-packages)\n",
      "WARNING: Ignoring invalid distribution -atplotlib (c:\\users\\mustafa\\anaconda3\\lib\\site-packages)\n",
      "WARNING: Ignoring invalid distribution -atplotlib (c:\\users\\mustafa\\anaconda3\\lib\\site-packages)\n"
     ]
    }
   ],
   "source": [
    "!pip install yfinance"
   ]
  },
  {
   "cell_type": "code",
   "execution_count": 10,
   "id": "a6259ae0-8097-4672-b4a5-39f3735fc2b3",
   "metadata": {},
   "outputs": [],
   "source": [
    "import math \n",
    "import numpy as np \n",
    "import pandas as pd \n",
    "from datetime import date, timedelta\n",
    "import matplotlib.pyplot as plt \n",
    "import matplotlib.dates as mdates \n",
    "from sklearn.metrics import mean_absolute_error, mean_squared_error\n",
    "from sklearn.preprocessing import MinMaxScaler\n",
    "from tensorflow.keras.models import Sequential\n",
    "from tensorflow.keras.layers import LSTM, Dense\n",
    "import tensorflow as tf\n",
    "import seaborn as sns"
   ]
  },
  {
   "cell_type": "code",
   "execution_count": 58,
   "id": "94d41242-314c-4ff8-a4db-8e63ca967541",
   "metadata": {},
   "outputs": [],
   "source": [
    "stockname = \"Amazon\"\n",
    "symbol = \"AMZN\"\n",
    "start_date = \"2020-11-01\"\n",
    "end_date = str(date.today())\n",
    "today = date.today()"
   ]
  },
  {
   "cell_type": "code",
   "execution_count": 59,
   "id": "f81193c8-bcbc-4347-8c50-75574d7f8b86",
   "metadata": {},
   "outputs": [
    {
     "name": "stdout",
     "output_type": "stream",
     "text": [
      "[*********************100%***********************]  1 of 1 completed\n"
     ]
    }
   ],
   "source": [
    "import yfinance as yf \n",
    "df = yf.download(start=start_date,end =end_date,tickers =symbol, interval = \"1h\")"
   ]
  },
  {
   "cell_type": "code",
   "execution_count": 30,
   "id": "6ecb2906-8303-4bdd-80a3-c90f7a8a19e6",
   "metadata": {},
   "outputs": [
    {
     "name": "stdout",
     "output_type": "stream",
     "text": [
      "[*********************100%***********************]  1 of 1 completed\n"
     ]
    }
   ],
   "source": [
    "df_year = yf.download(start=\"2000-01-01\",end =end_date,tickers =symbol, interval = \"1d\")"
   ]
  },
  {
   "cell_type": "code",
   "execution_count": 60,
   "id": "5d05b457-f9fc-4c29-bdf4-f34d22837f13",
   "metadata": {},
   "outputs": [
    {
     "name": "stdout",
     "output_type": "stream",
     "text": [
      "(3435, 6)\n"
     ]
    },
    {
     "data": {
      "text/html": [
       "<div>\n",
       "<style scoped>\n",
       "    .dataframe tbody tr th:only-of-type {\n",
       "        vertical-align: middle;\n",
       "    }\n",
       "\n",
       "    .dataframe tbody tr th {\n",
       "        vertical-align: top;\n",
       "    }\n",
       "\n",
       "    .dataframe thead th {\n",
       "        text-align: right;\n",
       "    }\n",
       "</style>\n",
       "<table border=\"1\" class=\"dataframe\">\n",
       "  <thead>\n",
       "    <tr style=\"text-align: right;\">\n",
       "      <th></th>\n",
       "      <th>Open</th>\n",
       "      <th>High</th>\n",
       "      <th>Low</th>\n",
       "      <th>Close</th>\n",
       "      <th>Adj Close</th>\n",
       "      <th>Volume</th>\n",
       "    </tr>\n",
       "  </thead>\n",
       "  <tbody>\n",
       "    <tr>\n",
       "      <th>2020-11-02 09:30:00-05:00</th>\n",
       "      <td>153.087006</td>\n",
       "      <td>153.985260</td>\n",
       "      <td>150.330719</td>\n",
       "      <td>150.365005</td>\n",
       "      <td>150.365005</td>\n",
       "      <td>2048581</td>\n",
       "    </tr>\n",
       "    <tr>\n",
       "      <th>2020-11-02 10:30:00-05:00</th>\n",
       "      <td>150.364502</td>\n",
       "      <td>150.659500</td>\n",
       "      <td>149.336761</td>\n",
       "      <td>149.368988</td>\n",
       "      <td>149.368988</td>\n",
       "      <td>1237275</td>\n",
       "    </tr>\n",
       "    <tr>\n",
       "      <th>2020-11-02 11:30:00-05:00</th>\n",
       "      <td>149.402496</td>\n",
       "      <td>150.550003</td>\n",
       "      <td>149.005508</td>\n",
       "      <td>149.516144</td>\n",
       "      <td>149.516144</td>\n",
       "      <td>797408</td>\n",
       "    </tr>\n",
       "    <tr>\n",
       "      <th>2020-11-02 12:30:00-05:00</th>\n",
       "      <td>149.478500</td>\n",
       "      <td>149.532990</td>\n",
       "      <td>148.025497</td>\n",
       "      <td>148.673004</td>\n",
       "      <td>148.673004</td>\n",
       "      <td>712459</td>\n",
       "    </tr>\n",
       "    <tr>\n",
       "      <th>2020-11-02 13:30:00-05:00</th>\n",
       "      <td>148.626495</td>\n",
       "      <td>148.750000</td>\n",
       "      <td>147.506012</td>\n",
       "      <td>148.572495</td>\n",
       "      <td>148.572495</td>\n",
       "      <td>708285</td>\n",
       "    </tr>\n",
       "  </tbody>\n",
       "</table>\n",
       "</div>"
      ],
      "text/plain": [
       "                                 Open        High         Low       Close  \\\n",
       "2020-11-02 09:30:00-05:00  153.087006  153.985260  150.330719  150.365005   \n",
       "2020-11-02 10:30:00-05:00  150.364502  150.659500  149.336761  149.368988   \n",
       "2020-11-02 11:30:00-05:00  149.402496  150.550003  149.005508  149.516144   \n",
       "2020-11-02 12:30:00-05:00  149.478500  149.532990  148.025497  148.673004   \n",
       "2020-11-02 13:30:00-05:00  148.626495  148.750000  147.506012  148.572495   \n",
       "\n",
       "                            Adj Close   Volume  \n",
       "2020-11-02 09:30:00-05:00  150.365005  2048581  \n",
       "2020-11-02 10:30:00-05:00  149.368988  1237275  \n",
       "2020-11-02 11:30:00-05:00  149.516144   797408  \n",
       "2020-11-02 12:30:00-05:00  148.673004   712459  \n",
       "2020-11-02 13:30:00-05:00  148.572495   708285  "
      ]
     },
     "execution_count": 60,
     "metadata": {},
     "output_type": "execute_result"
    }
   ],
   "source": [
    "print(df.shape)\n",
    "df.head(5)"
   ]
  },
  {
   "cell_type": "code",
   "execution_count": 61,
   "id": "f52eedd5-183b-48b7-bed9-695fc1c9a505",
   "metadata": {},
   "outputs": [
    {
     "name": "stdout",
     "output_type": "stream",
     "text": [
      "(5734, 6)\n"
     ]
    },
    {
     "data": {
      "text/html": [
       "<div>\n",
       "<style scoped>\n",
       "    .dataframe tbody tr th:only-of-type {\n",
       "        vertical-align: middle;\n",
       "    }\n",
       "\n",
       "    .dataframe tbody tr th {\n",
       "        vertical-align: top;\n",
       "    }\n",
       "\n",
       "    .dataframe thead th {\n",
       "        text-align: right;\n",
       "    }\n",
       "</style>\n",
       "<table border=\"1\" class=\"dataframe\">\n",
       "  <thead>\n",
       "    <tr style=\"text-align: right;\">\n",
       "      <th></th>\n",
       "      <th>Open</th>\n",
       "      <th>High</th>\n",
       "      <th>Low</th>\n",
       "      <th>Close</th>\n",
       "      <th>Adj Close</th>\n",
       "      <th>Volume</th>\n",
       "    </tr>\n",
       "    <tr>\n",
       "      <th>Date</th>\n",
       "      <th></th>\n",
       "      <th></th>\n",
       "      <th></th>\n",
       "      <th></th>\n",
       "      <th></th>\n",
       "      <th></th>\n",
       "    </tr>\n",
       "  </thead>\n",
       "  <tbody>\n",
       "    <tr>\n",
       "      <th>2000-01-03 00:00:00-05:00</th>\n",
       "      <td>4.075000</td>\n",
       "      <td>4.478125</td>\n",
       "      <td>3.952344</td>\n",
       "      <td>4.468750</td>\n",
       "      <td>4.468750</td>\n",
       "      <td>322352000</td>\n",
       "    </tr>\n",
       "    <tr>\n",
       "      <th>2000-01-04 00:00:00-05:00</th>\n",
       "      <td>4.268750</td>\n",
       "      <td>4.575000</td>\n",
       "      <td>4.087500</td>\n",
       "      <td>4.096875</td>\n",
       "      <td>4.096875</td>\n",
       "      <td>349748000</td>\n",
       "    </tr>\n",
       "    <tr>\n",
       "      <th>2000-01-05 00:00:00-05:00</th>\n",
       "      <td>3.525000</td>\n",
       "      <td>3.756250</td>\n",
       "      <td>3.400000</td>\n",
       "      <td>3.487500</td>\n",
       "      <td>3.487500</td>\n",
       "      <td>769148000</td>\n",
       "    </tr>\n",
       "    <tr>\n",
       "      <th>2000-01-06 00:00:00-05:00</th>\n",
       "      <td>3.565625</td>\n",
       "      <td>3.634375</td>\n",
       "      <td>3.200000</td>\n",
       "      <td>3.278125</td>\n",
       "      <td>3.278125</td>\n",
       "      <td>375040000</td>\n",
       "    </tr>\n",
       "    <tr>\n",
       "      <th>2000-01-07 00:00:00-05:00</th>\n",
       "      <td>3.350000</td>\n",
       "      <td>3.525000</td>\n",
       "      <td>3.309375</td>\n",
       "      <td>3.478125</td>\n",
       "      <td>3.478125</td>\n",
       "      <td>210108000</td>\n",
       "    </tr>\n",
       "  </tbody>\n",
       "</table>\n",
       "</div>"
      ],
      "text/plain": [
       "                               Open      High       Low     Close  Adj Close  \\\n",
       "Date                                                                           \n",
       "2000-01-03 00:00:00-05:00  4.075000  4.478125  3.952344  4.468750   4.468750   \n",
       "2000-01-04 00:00:00-05:00  4.268750  4.575000  4.087500  4.096875   4.096875   \n",
       "2000-01-05 00:00:00-05:00  3.525000  3.756250  3.400000  3.487500   3.487500   \n",
       "2000-01-06 00:00:00-05:00  3.565625  3.634375  3.200000  3.278125   3.278125   \n",
       "2000-01-07 00:00:00-05:00  3.350000  3.525000  3.309375  3.478125   3.478125   \n",
       "\n",
       "                              Volume  \n",
       "Date                                  \n",
       "2000-01-03 00:00:00-05:00  322352000  \n",
       "2000-01-04 00:00:00-05:00  349748000  \n",
       "2000-01-05 00:00:00-05:00  769148000  \n",
       "2000-01-06 00:00:00-05:00  375040000  \n",
       "2000-01-07 00:00:00-05:00  210108000  "
      ]
     },
     "execution_count": 61,
     "metadata": {},
     "output_type": "execute_result"
    }
   ],
   "source": [
    "print(df_year.shape)\n",
    "df_year.head(5)"
   ]
  },
  {
   "cell_type": "markdown",
   "id": "9e7f6b3d-3ab6-4934-96a1-8935d074036c",
   "metadata": {
    "tags": []
   },
   "source": [
    "## Veri Görselleştirme"
   ]
  },
  {
   "cell_type": "code",
   "execution_count": 62,
   "id": "bf69a0da-4250-47b2-923f-2fe155ab46d8",
   "metadata": {
    "collapsed": true,
    "jupyter": {
     "outputs_hidden": true
    },
    "tags": []
   },
   "outputs": [
    {
     "data": {
      "text/plain": [
       "\u001b[1;31mType:\u001b[0m        module\n",
       "\u001b[1;31mString form:\u001b[0m <module 'matplotlib.dates' from 'C:\\\\Users\\\\Mustafa\\\\anaconda3\\\\lib\\\\site-packages\\\\matplotlib\\\\dates.py'>\n",
       "\u001b[1;31mFile:\u001b[0m        c:\\users\\mustafa\\anaconda3\\lib\\site-packages\\matplotlib\\dates.py\n",
       "\u001b[1;31mDocstring:\u001b[0m  \n",
       "Matplotlib provides sophisticated date plotting capabilities, standing on the\n",
       "shoulders of python :mod:`datetime` and the add-on module :mod:`dateutil`.\n",
       "\n",
       "By default, Matplotlib uses the units machinery described in\n",
       "`~matplotlib.units` to convert `datetime.datetime`, and `numpy.datetime64`\n",
       "objects when plotted on an x- or y-axis. The user does not\n",
       "need to do anything for dates to be formatted, but dates often have strict\n",
       "formatting needs, so this module provides many axis locators and formatters.\n",
       "A basic example using `numpy.datetime64` is::\n",
       "\n",
       "    import numpy as np\n",
       "\n",
       "    times = np.arange(np.datetime64('2001-01-02'),\n",
       "                      np.datetime64('2002-02-03'), np.timedelta64(75, 'm'))\n",
       "    y = np.random.randn(len(times))\n",
       "\n",
       "    fig, ax = plt.subplots()\n",
       "    ax.plot(times, y)\n",
       "\n",
       ".. seealso::\n",
       "\n",
       "    - :doc:`/gallery/text_labels_and_annotations/date`\n",
       "    - :doc:`/gallery/ticks/date_concise_formatter`\n",
       "    - :doc:`/gallery/ticks/date_demo_convert`\n",
       "\n",
       ".. _date-format:\n",
       "\n",
       "Matplotlib date format\n",
       "----------------------\n",
       "\n",
       "Matplotlib represents dates using floating point numbers specifying the number\n",
       "of days since a default epoch of 1970-01-01 UTC; for example,\n",
       "1970-01-01, 06:00 is the floating point number 0.25. The formatters and\n",
       "locators require the use of `datetime.datetime` objects, so only dates between\n",
       "year 0001 and 9999 can be represented.  Microsecond precision\n",
       "is achievable for (approximately) 70 years on either side of the epoch, and\n",
       "20 microseconds for the rest of the allowable range of dates (year 0001 to\n",
       "9999). The epoch can be changed at import time via `.dates.set_epoch` or\n",
       ":rc:`dates.epoch` to other dates if necessary; see\n",
       ":doc:`/gallery/ticks/date_precision_and_epochs` for a discussion.\n",
       "\n",
       ".. note::\n",
       "\n",
       "   Before Matplotlib 3.3, the epoch was 0000-12-31 which lost modern\n",
       "   microsecond precision and also made the default axis limit of 0 an invalid\n",
       "   datetime.  In 3.3 the epoch was changed as above.  To convert old\n",
       "   ordinal floats to the new epoch, users can do::\n",
       "\n",
       "     new_ordinal = old_ordinal + mdates.date2num(np.datetime64('0000-12-31'))\n",
       "\n",
       "\n",
       "There are a number of helper functions to convert between :mod:`datetime`\n",
       "objects and Matplotlib dates:\n",
       "\n",
       ".. currentmodule:: matplotlib.dates\n",
       "\n",
       ".. autosummary::\n",
       "   :nosignatures:\n",
       "\n",
       "   datestr2num\n",
       "   date2num\n",
       "   num2date\n",
       "   num2timedelta\n",
       "   drange\n",
       "   set_epoch\n",
       "   get_epoch\n",
       "\n",
       ".. note::\n",
       "\n",
       "   Like Python's `datetime.datetime`, Matplotlib uses the Gregorian calendar\n",
       "   for all conversions between dates and floating point numbers. This practice\n",
       "   is not universal, and calendar differences can cause confusing\n",
       "   differences between what Python and Matplotlib give as the number of days\n",
       "   since 0001-01-01 and what other software and databases yield.  For\n",
       "   example, the US Naval Observatory uses a calendar that switches\n",
       "   from Julian to Gregorian in October, 1582.  Hence, using their\n",
       "   calculator, the number of days between 0001-01-01 and 2006-04-01 is\n",
       "   732403, whereas using the Gregorian calendar via the datetime\n",
       "   module we find::\n",
       "\n",
       "     In [1]: date(2006, 4, 1).toordinal() - date(1, 1, 1).toordinal()\n",
       "     Out[1]: 732401\n",
       "\n",
       "All the Matplotlib date converters, tickers and formatters are timezone aware.\n",
       "If no explicit timezone is provided, :rc:`timezone` is assumed.  If you want to\n",
       "use a custom time zone, pass a `datetime.tzinfo` instance with the tz keyword\n",
       "argument to `num2date`, `.Axis.axis_date`, and any custom date tickers or\n",
       "locators you create.\n",
       "\n",
       "A wide range of specific and general purpose date tick locators and\n",
       "formatters are provided in this module.  See\n",
       ":mod:`matplotlib.ticker` for general information on tick locators\n",
       "and formatters.  These are described below.\n",
       "\n",
       "The dateutil_ module provides additional code to handle date ticking, making it\n",
       "easy to place ticks on any kinds of dates.  See examples below.\n",
       "\n",
       ".. _dateutil: https://dateutil.readthedocs.io\n",
       "\n",
       "Date tickers\n",
       "------------\n",
       "\n",
       "Most of the date tickers can locate single or multiple values.  For example::\n",
       "\n",
       "    # import constants for the days of the week\n",
       "    from matplotlib.dates import MO, TU, WE, TH, FR, SA, SU\n",
       "\n",
       "    # tick on mondays every week\n",
       "    loc = WeekdayLocator(byweekday=MO, tz=tz)\n",
       "\n",
       "    # tick on mondays and saturdays\n",
       "    loc = WeekdayLocator(byweekday=(MO, SA))\n",
       "\n",
       "In addition, most of the constructors take an interval argument::\n",
       "\n",
       "    # tick on mondays every second week\n",
       "    loc = WeekdayLocator(byweekday=MO, interval=2)\n",
       "\n",
       "The rrule locator allows completely general date ticking::\n",
       "\n",
       "    # tick every 5th easter\n",
       "    rule = rrulewrapper(YEARLY, byeaster=1, interval=5)\n",
       "    loc = RRuleLocator(rule)\n",
       "\n",
       "The available date tickers are:\n",
       "\n",
       "* `MicrosecondLocator`: Locate microseconds.\n",
       "\n",
       "* `SecondLocator`: Locate seconds.\n",
       "\n",
       "* `MinuteLocator`: Locate minutes.\n",
       "\n",
       "* `HourLocator`: Locate hours.\n",
       "\n",
       "* `DayLocator`: Locate specified days of the month.\n",
       "\n",
       "* `WeekdayLocator`: Locate days of the week, e.g., MO, TU.\n",
       "\n",
       "* `MonthLocator`: Locate months, e.g., 7 for July.\n",
       "\n",
       "* `YearLocator`: Locate years that are multiples of base.\n",
       "\n",
       "* `RRuleLocator`: Locate using a `matplotlib.dates.rrulewrapper`.\n",
       "  `.rrulewrapper` is a simple wrapper around dateutil_'s `dateutil.rrule` which\n",
       "  allow almost arbitrary date tick specifications.  See :doc:`rrule example\n",
       "  </gallery/ticks/date_demo_rrule>`.\n",
       "\n",
       "* `AutoDateLocator`: On autoscale, this class picks the best `DateLocator`\n",
       "  (e.g., `RRuleLocator`) to set the view limits and the tick locations.  If\n",
       "  called with ``interval_multiples=True`` it will make ticks line up with\n",
       "  sensible multiples of the tick intervals.  E.g. if the interval is 4 hours,\n",
       "  it will pick hours 0, 4, 8, etc as ticks.  This behaviour is not guaranteed\n",
       "  by default.\n",
       "\n",
       "Date formatters\n",
       "---------------\n",
       "\n",
       "The available date formatters are:\n",
       "\n",
       "* `AutoDateFormatter`: attempts to figure out the best format to use.  This is\n",
       "  most useful when used with the `AutoDateLocator`.\n",
       "\n",
       "* `ConciseDateFormatter`: also attempts to figure out the best format to use,\n",
       "  and to make the format as compact as possible while still having complete\n",
       "  date information.  This is most useful when used with the `AutoDateLocator`.\n",
       "\n",
       "* `DateFormatter`: use `~datetime.datetime.strftime` format strings.\n"
      ]
     },
     "metadata": {},
     "output_type": "display_data"
    }
   ],
   "source": [
    "?mdates"
   ]
  },
  {
   "cell_type": "code",
   "execution_count": 68,
   "id": "99cb2654-ca50-4888-8b98-e5886da9d4a2",
   "metadata": {
    "collapsed": true,
    "jupyter": {
     "outputs_hidden": true
    },
    "tags": []
   },
   "outputs": [
    {
     "data": {
      "text/plain": [
       "\u001b[1;31mType:\u001b[0m            XAxis\n",
       "\u001b[1;31mString form:\u001b[0m     XAxis(180.0,54.0)\n",
       "\u001b[1;31mFile:\u001b[0m            c:\\users\\mustafa\\anaconda3\\lib\\site-packages\\matplotlib\\axis.py\n",
       "\u001b[1;31mDocstring:\u001b[0m       <no docstring>\n",
       "\u001b[1;31mClass docstring:\u001b[0m\n",
       "Base class for `.XAxis` and `.YAxis`.\n",
       "\n",
       "Attributes\n",
       "----------\n",
       "isDefault_label : bool\n",
       "\n",
       "axes : `matplotlib.axes.Axes`\n",
       "    The `~.axes.Axes` to which the Axis belongs.\n",
       "major : `matplotlib.axis.Ticker`\n",
       "    Determines the major tick positions and their label format.\n",
       "minor : `matplotlib.axis.Ticker`\n",
       "    Determines the minor tick positions and their label format.\n",
       "callbacks : `matplotlib.cbook.CallbackRegistry`\n",
       "\n",
       "label : `.Text`\n",
       "    The axis label.\n",
       "labelpad : float\n",
       "    The distance between the axis label and the tick labels.\n",
       "    Defaults to :rc:`axes.labelpad` = 4.\n",
       "offsetText : `.Text`\n",
       "    A `.Text` object containing the data offset of the ticks (if any).\n",
       "pickradius : float\n",
       "    The acceptance radius for containment tests. See also `.Axis.contains`.\n",
       "majorTicks : list of `.Tick`\n",
       "    The major ticks.\n",
       "minorTicks : list of `.Tick`\n",
       "    The minor ticks.\n",
       "\u001b[1;31mInit docstring:\u001b[0m \n",
       "Parameters\n",
       "----------\n",
       "axes : `matplotlib.axes.Axes`\n",
       "    The `~.axes.Axes` to which the created Axis belongs.\n",
       "pickradius : float\n",
       "    The acceptance radius for containment tests. See also\n",
       "    `.Axis.contains`.\n"
      ]
     },
     "metadata": {},
     "output_type": "display_data"
    }
   ],
   "source": [
    "?ax1.xaxis"
   ]
  },
  {
   "cell_type": "code",
   "execution_count": 75,
   "id": "8caf867f-0a77-4c42-83c9-3a44abe3df0a",
   "metadata": {},
   "outputs": [
    {
     "data": {
      "image/png": "[encoded data removed]",
      "text/plain": [
       "<Figure size 1440x432 with 1 Axes>"
      ]
     },
     "metadata": {
      "needs_background": "light"
     },
     "output_type": "display_data"
    }
   ],
   "source": [
    "fig, ax1 = plt.subplots(figsize=(20, 6))\n",
    "ax1.xaxis.set_major_formatter(mdates.DateFormatter(\"%Y-%m-%d\"))\n",
    "ax1.legend([stockname], fontsize=15)\n",
    "plt.title(stockname + ' from '+ start_date + ' to ' + end_date)\n",
    "sns.lineplot(data=df['Close'], label=stockname, linewidth=1.5)\n",
    "plt.ylabel('Amazon Points')\n",
    "plt.show()"
   ]
  },
  {
   "cell_type": "code",
   "execution_count": 38,
   "id": "8f076a55-bdf3-46c7-8e62-78f93e519984",
   "metadata": {},
   "outputs": [
    {
     "data": {
      "image/png": "[encoded data removed]",
      "text/plain": [
       "<Figure size 1440x432 with 1 Axes>"
      ]
     },
     "metadata": {
      "needs_background": "light"
     },
     "output_type": "display_data"
    }
   ],
   "source": [
    "years = mdates.YearLocator() \n",
    "fig, ax1 = plt.subplots(figsize=(20, 6))\n",
    "ax1.xaxis.set_major_locator(years)\n",
    "ax1.legend([stockname], fontsize=12)\n",
    "plt.title(stockname + ' from '+ '2000-01-01' + ' to ' + end_date)\n",
    "sns.lineplot(data=df_year['Close'], label=stockname, linewidth=1.0)\n",
    "plt.ylabel('Amazon Points')\n",
    "plt.show()"
   ]
  },
  {
   "cell_type": "markdown",
   "id": "2314d63a-0bfd-4eea-8ccf-ba0675a2b466",
   "metadata": {},
   "source": [
    "## Veri Normalizasyonu(Ölçeklendirme)"
   ]
  },
  {
   "cell_type": "code",
   "execution_count": 77,
   "id": "26b18792-5f11-4f2d-9f05-96f3618e5940",
   "metadata": {},
   "outputs": [],
   "source": [
    "train_df = df.filter(['Close'])\n",
    "data_unscaled = train_df.values"
   ]
  },
  {
   "cell_type": "code",
   "execution_count": 78,
   "id": "95c78b92-985a-4a5c-b168-58983b89aad6",
   "metadata": {},
   "outputs": [],
   "source": [
    "train_data_length = math.ceil(len(data_unscaled) * 0.8)"
   ]
  },
  {
   "cell_type": "code",
   "execution_count": 79,
   "id": "1410bcd0-4297-4c58-811c-e587091cd911",
   "metadata": {},
   "outputs": [
    {
     "data": {
      "text/plain": [
       "2748"
      ]
     },
     "execution_count": 79,
     "metadata": {},
     "output_type": "execute_result"
    }
   ],
   "source": [
    "train_data_length"
   ]
  },
  {
   "cell_type": "code",
   "execution_count": 80,
   "id": "49490b04-4029-4723-8c44-a8d7a32c7626",
   "metadata": {},
   "outputs": [],
   "source": [
    "mmscaler = MinMaxScaler(feature_range=(0, 1))\n",
    "np_data = mmscaler.fit_transform(data_unscaled)"
   ]
  },
  {
   "cell_type": "code",
   "execution_count": 81,
   "id": "df877b88-b09e-40fa-89e2-bc1994cdf431",
   "metadata": {},
   "outputs": [
    {
     "data": {
      "text/plain": [
       "array([[0.55910364],\n",
       "       [0.54753193],\n",
       "       [0.54924159],\n",
       "       ...,\n",
       "       [0.06552078],\n",
       "       [0.06028572],\n",
       "       [0.05447673]])"
      ]
     },
     "execution_count": 81,
     "metadata": {},
     "output_type": "execute_result"
    }
   ],
   "source": [
    "np_data"
   ]
  },
  {
   "cell_type": "markdown",
   "id": "fec07029-d498-43ac-815c-fc7f5cef80da",
   "metadata": {},
   "source": [
    "## Girdiyi Düzenleme"
   ]
  },
  {
   "cell_type": "markdown",
   "id": "fcfdfc8b-d3d1-41a2-b4bb-2832e8eda2cd",
   "metadata": {},
   "source": [
    "Eğitime başlamadan veri setimizi train ve test olarak ayırmamız gerekiyor.Bu sayede test kısmı ile veriyi test edeceğiz.\n",
    "Daha sonra ise son 1 haftanın 1'er saatlik verisine göre (yani ortalama 50 veri) bir sonraki saati tahmin etmeye çalışacağız."
   ]
  },
  {
   "cell_type": "code",
   "execution_count": 82,
   "id": "3bf99755-da24-43b5-937a-4944864cf587",
   "metadata": {},
   "outputs": [
    {
     "name": "stdout",
     "output_type": "stream",
     "text": [
      "0\n"
     ]
    }
   ],
   "source": [
    "index_Close = train_df.columns.get_loc(\"Close\")\n",
    "print(index_Close)"
   ]
  },
  {
   "cell_type": "code",
   "execution_count": 83,
   "id": "fb9a90d7-de7a-4198-b655-341322785fd6",
   "metadata": {},
   "outputs": [],
   "source": [
    "train_data_len = math.ceil(np_data.shape[0] * 0.8)"
   ]
  },
  {
   "cell_type": "code",
   "execution_count": 84,
   "id": "cc976270-6cc3-438d-8d79-6dfa49a7c2cf",
   "metadata": {},
   "outputs": [
    {
     "data": {
      "text/plain": [
       "2748"
      ]
     },
     "execution_count": 84,
     "metadata": {},
     "output_type": "execute_result"
    }
   ],
   "source": [
    "train_data_len"
   ]
  },
  {
   "cell_type": "code",
   "execution_count": 85,
   "id": "201fe354-b518-441e-9582-159158111858",
   "metadata": {},
   "outputs": [],
   "source": [
    "sequence_length = 50\n",
    "train_data = np_data[0:train_data_len, :]\n",
    "test_data = np_data[train_data_len - sequence_length:, :]"
   ]
  },
  {
   "cell_type": "code",
   "execution_count": 86,
   "id": "c0efd29f-867d-4ef1-95b8-0d4a280632ce",
   "metadata": {},
   "outputs": [
    {
     "data": {
      "text/plain": [
       "(array([[0.55910364],\n",
       "        [0.54753193],\n",
       "        [0.54924159],\n",
       "        [0.53944601],\n",
       "        [0.53827829],\n",
       "        [0.55027972],\n",
       "        [0.55746543],\n",
       "        [0.59029788],\n",
       "        [0.58631856],\n",
       "        [0.59464523]]),\n",
       " array([[0.10418721],\n",
       "        [0.10001918],\n",
       "        [0.11497731],\n",
       "        [0.11723413],\n",
       "        [0.12051276],\n",
       "        [0.12873297],\n",
       "        [0.11875321],\n",
       "        [0.14763266],\n",
       "        [0.15264869],\n",
       "        [0.09639441]]))"
      ]
     },
     "execution_count": 86,
     "metadata": {},
     "output_type": "execute_result"
    }
   ],
   "source": [
    "train_data[:10],test_data[:10]"
   ]
  },
  {
   "cell_type": "code",
   "execution_count": 87,
   "id": "aba18de8-ec78-443a-bbb6-28f173b2773d",
   "metadata": {},
   "outputs": [
    {
     "data": {
      "text/plain": [
       "3435"
      ]
     },
     "execution_count": 87,
     "metadata": {},
     "output_type": "execute_result"
    }
   ],
   "source": [
    "train_df.shape[0]"
   ]
  },
  {
   "cell_type": "code",
   "execution_count": 88,
   "id": "a2a9ef7b-6fa8-4175-955c-53d055fa1fbb",
   "metadata": {},
   "outputs": [],
   "source": [
    "def partition_dataset(sequence_length, train_df):\n",
    "    x, y = [], []\n",
    "    data_len = train_df.shape[0]\n",
    "    for i in range(sequence_length, data_len):\n",
    "        x.append(train_df[i-sequence_length:i,:]) \n",
    "        y.append(train_df[i, index_Close])\n",
    "\n",
    "    x = np.array(x)\n",
    "    y = np.array(y)\n",
    "    return x, y"
   ]
  },
  {
   "cell_type": "code",
   "execution_count": 90,
   "id": "fcb5a6da-2c4e-4836-af7e-fe6f53bda520",
   "metadata": {},
   "outputs": [],
   "source": [
    "x_train, y_train = partition_dataset(sequence_length, train_data)\n",
    "x_test, y_test = partition_dataset(sequence_length, test_data)"
   ]
  },
  {
   "cell_type": "code",
   "execution_count": 27,
   "id": "ac1d13e0-f1a2-4ee9-8d89-688273b872f8",
   "metadata": {},
   "outputs": [
    {
     "name": "stdout",
     "output_type": "stream",
     "text": [
      "(2469, 50, 1) (2469,)\n",
      "(629, 50, 1) (629,)\n"
     ]
    }
   ],
   "source": [
    "print(x_train.shape, y_train.shape)\n",
    "print(x_test.shape, y_test.shape)"
   ]
  },
  {
   "cell_type": "code",
   "execution_count": 28,
   "id": "14e1817b-c78c-4699-83b2-fedbe738d8ca",
   "metadata": {},
   "outputs": [
    {
     "name": "stdout",
     "output_type": "stream",
     "text": [
      "0.23043096037822242\n",
      "0.23043096037822242\n"
     ]
    }
   ],
   "source": [
    "print(x_test[1][sequence_length-1][index_Close])\n",
    "print(y_test[0])"
   ]
  },
  {
   "cell_type": "code",
   "execution_count": 105,
   "id": "415bc47f-45ff-4f06-a137-372287a78cba",
   "metadata": {},
   "outputs": [
    {
     "data": {
      "text/plain": [
       "array([[[0.55910364],\n",
       "        [0.54753193],\n",
       "        [0.54924159],\n",
       "        [0.53944601],\n",
       "        [0.53827829],\n",
       "        [0.55027972],\n",
       "        [0.55746543],\n",
       "        [0.59029788],\n",
       "        [0.58631856],\n",
       "        [0.59464523],\n",
       "        [0.5897111 ],\n",
       "        [0.58391966],\n",
       "        [0.58815444],\n",
       "        [0.58172959],\n",
       "        [0.67739247],\n",
       "        [0.68723343],\n",
       "        [0.6867328 ],\n",
       "        [0.68440339],\n",
       "        [0.68970697],\n",
       "        [0.68706981],\n",
       "        [0.69495257],\n",
       "        [0.74208094],\n",
       "        [0.75526728],\n",
       "        [0.74269679],\n",
       "        [0.75048649],\n",
       "        [0.7542217 ],\n",
       "        [0.75675445],\n",
       "        [0.74191252],\n",
       "        [0.71372542],\n",
       "        [0.71819438],\n",
       "        [0.72796514],\n",
       "        [0.73853151],\n",
       "        [0.73182214],\n",
       "        [0.72863524],\n",
       "        [0.73517975],\n",
       "        [0.70329431],\n",
       "        [0.70173179],\n",
       "        [0.68110393],\n",
       "        [0.68571045],\n",
       "        [0.67737457],\n",
       "        [0.66583158],\n",
       "        [0.63696728],\n",
       "        [0.57809897],\n",
       "        [0.58025412],\n",
       "        [0.58632441],\n",
       "        [0.57904882],\n",
       "        [0.57795449],\n",
       "        [0.58080633],\n",
       "        [0.57529907],\n",
       "        [0.62969452]],\n",
       "\n",
       "       [[0.54753193],\n",
       "        [0.54924159],\n",
       "        [0.53944601],\n",
       "        [0.53827829],\n",
       "        [0.55027972],\n",
       "        [0.55746543],\n",
       "        [0.59029788],\n",
       "        [0.58631856],\n",
       "        [0.59464523],\n",
       "        [0.5897111 ],\n",
       "        [0.58391966],\n",
       "        [0.58815444],\n",
       "        [0.58172959],\n",
       "        [0.67739247],\n",
       "        [0.68723343],\n",
       "        [0.6867328 ],\n",
       "        [0.68440339],\n",
       "        [0.68970697],\n",
       "        [0.68706981],\n",
       "        [0.69495257],\n",
       "        [0.74208094],\n",
       "        [0.75526728],\n",
       "        [0.74269679],\n",
       "        [0.75048649],\n",
       "        [0.7542217 ],\n",
       "        [0.75675445],\n",
       "        [0.74191252],\n",
       "        [0.71372542],\n",
       "        [0.71819438],\n",
       "        [0.72796514],\n",
       "        [0.73853151],\n",
       "        [0.73182214],\n",
       "        [0.72863524],\n",
       "        [0.73517975],\n",
       "        [0.70329431],\n",
       "        [0.70173179],\n",
       "        [0.68110393],\n",
       "        [0.68571045],\n",
       "        [0.67737457],\n",
       "        [0.66583158],\n",
       "        [0.63696728],\n",
       "        [0.57809897],\n",
       "        [0.58025412],\n",
       "        [0.58632441],\n",
       "        [0.57904882],\n",
       "        [0.57795449],\n",
       "        [0.58080633],\n",
       "        [0.57529907],\n",
       "        [0.62969452],\n",
       "        [0.61870375]]])"
      ]
     },
     "execution_count": 105,
     "metadata": {},
     "output_type": "execute_result"
    }
   ],
   "source": [
    "x_train[:2]"
   ]
  },
  {
   "cell_type": "markdown",
   "id": "e9460b31-bafc-4efb-9977-1e3fc843c5b6",
   "metadata": {},
   "source": [
    "## Model"
   ]
  },
  {
   "cell_type": "code",
   "execution_count": null,
   "id": "33128bef-80b4-4515-97ef-a783250590ae",
   "metadata": {},
   "outputs": [],
   "source": []
  }
 ],
 "metadata": {
  "kernelspec": {
   "display_name": "Python 3 (ipykernel)",
   "language": "python",
   "name": "python3"
  },
  "language_info": {
   "codemirror_mode": {
    "name": "ipython",
    "version": 3
   },
   "file_extension": ".py",
   "mimetype": "text/x-python",
   "name": "python",
   "nbconvert_exporter": "python",
   "pygments_lexer": "ipython3",
   "version": "3.9.12"
  }
 },
 "nbformat": 4,
 "nbformat_minor": 5
}
