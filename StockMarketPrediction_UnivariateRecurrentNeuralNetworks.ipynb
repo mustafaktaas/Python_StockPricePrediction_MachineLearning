{
 "cells": [
  {
   "cell_type": "markdown",
   "id": "cdb98e5d-f238-4466-8638-5eda3ca6df4e",
   "metadata": {},
   "source": [
    "# Stock Market Prediction Univariate Recurrent Neural Networks"
   ]
  },
  {
   "cell_type": "markdown",
   "id": "338865f4-e433-4c6c-849e-d9b1d8d65641",
   "metadata": {},
   "source": [
    "## Veri Çekme"
   ]
  },
  {
   "cell_type": "code",
   "execution_count": 1,
   "id": "e9cb8e8d-c6d0-49e8-9a8b-6bfd4c9f0422",
   "metadata": {},
   "outputs": [
    {
     "name": "stdout",
     "output_type": "stream",
     "text": [
      "Requirement already satisfied: yfinance in c:\\users\\mustafa\\anaconda3\\lib\\site-packages (0.1.75)\n",
      "Requirement already satisfied: appdirs>=1.4.4 in c:\\users\\mustafa\\anaconda3\\lib\\site-packages (from yfinance) (1.4.4)\n",
      "Requirement already satisfied: lxml>=4.5.1 in c:\\users\\mustafa\\anaconda3\\lib\\site-packages (from yfinance) (4.8.0)\n",
      "Requirement already satisfied: numpy>=1.15 in c:\\users\\mustafa\\anaconda3\\lib\\site-packages (from yfinance) (1.21.5)\n",
      "Requirement already satisfied: multitasking>=0.0.7 in c:\\users\\mustafa\\anaconda3\\lib\\site-packages (from yfinance) (0.0.11)\n",
      "Requirement already satisfied: requests>=2.26 in c:\\users\\mustafa\\anaconda3\\lib\\site-packages (from yfinance) (2.27.1)\n",
      "Requirement already satisfied: pandas>=0.24.0 in c:\\users\\mustafa\\anaconda3\\lib\\site-packages (from yfinance) (1.4.2)\n",
      "Requirement already satisfied: python-dateutil>=2.8.1 in c:\\users\\mustafa\\anaconda3\\lib\\site-packages (from pandas>=0.24.0->yfinance) (2.8.2)\n",
      "Requirement already satisfied: pytz>=2020.1 in c:\\users\\mustafa\\anaconda3\\lib\\site-packages (from pandas>=0.24.0->yfinance) (2021.3)\n",
      "Requirement already satisfied: six>=1.5 in c:\\users\\mustafa\\anaconda3\\lib\\site-packages (from python-dateutil>=2.8.1->pandas>=0.24.0->yfinance) (1.16.0)\n",
      "Requirement already satisfied: urllib3<1.27,>=1.21.1 in c:\\users\\mustafa\\anaconda3\\lib\\site-packages (from requests>=2.26->yfinance) (1.26.9)\n",
      "Requirement already satisfied: charset-normalizer~=2.0.0 in c:\\users\\mustafa\\anaconda3\\lib\\site-packages (from requests>=2.26->yfinance) (2.0.4)\n",
      "Requirement already satisfied: idna<4,>=2.5 in c:\\users\\mustafa\\anaconda3\\lib\\site-packages (from requests>=2.26->yfinance) (3.3)\n",
      "Requirement already satisfied: certifi>=2017.4.17 in c:\\users\\mustafa\\anaconda3\\lib\\site-packages (from requests>=2.26->yfinance) (2022.9.14)\n"
     ]
    },
    {
     "name": "stderr",
     "output_type": "stream",
     "text": [
      "WARNING: Ignoring invalid distribution -atplotlib (c:\\users\\mustafa\\anaconda3\\lib\\site-packages)\n",
      "WARNING: Ignoring invalid distribution -atplotlib (c:\\users\\mustafa\\anaconda3\\lib\\site-packages)\n",
      "WARNING: Ignoring invalid distribution -atplotlib (c:\\users\\mustafa\\anaconda3\\lib\\site-packages)\n",
      "WARNING: Ignoring invalid distribution -atplotlib (c:\\users\\mustafa\\anaconda3\\lib\\site-packages)\n",
      "WARNING: Ignoring invalid distribution -atplotlib (c:\\users\\mustafa\\anaconda3\\lib\\site-packages)\n",
      "WARNING: Ignoring invalid distribution -atplotlib (c:\\users\\mustafa\\anaconda3\\lib\\site-packages)\n"
     ]
    }
   ],
   "source": [
    "!pip install yfinance"
   ]
  },
  {
   "cell_type": "code",
   "execution_count": 12,
   "id": "a6259ae0-8097-4672-b4a5-39f3735fc2b3",
   "metadata": {},
   "outputs": [],
   "source": [
    "import math \n",
    "import numpy as np \n",
    "import pandas as pd \n",
    "from datetime import date, timedelta\n",
    "import matplotlib.pyplot as plt \n",
    "import matplotlib.dates as mdates \n",
    "from sklearn.metrics import mean_absolute_error, mean_squared_error\n",
    "from sklearn.preprocessing import MinMaxScaler\n",
    "from tensorflow.keras.models import Sequential\n",
    "from tensorflow.keras.layers import LSTM, Dense\n",
    "import tensorflow as tf\n",
    "import seaborn as sns"
   ]
  },
  {
   "cell_type": "code",
   "execution_count": 8,
   "id": "94d41242-314c-4ff8-a4db-8e63ca967541",
   "metadata": {},
   "outputs": [],
   "source": [
    "stockname = \"Amazon\"\n",
    "symbol = \"AMZN\"\n",
    "start_date = \"2021-01-01\"\n",
    "end_date = \"2022-10-15\"\n",
    "today = date.today()"
   ]
  },
  {
   "cell_type": "code",
   "execution_count": 9,
   "id": "f81193c8-bcbc-4347-8c50-75574d7f8b86",
   "metadata": {},
   "outputs": [
    {
     "name": "stdout",
     "output_type": "stream",
     "text": [
      "[*********************100%***********************]  1 of 1 completed\n"
     ]
    }
   ],
   "source": [
    "import yfinance as yf \n",
    "df = yf.download(start=start_date,end =end_date,tickers =symbol, interval = \"1h\")"
   ]
  },
  {
   "cell_type": "code",
   "execution_count": 10,
   "id": "5d05b457-f9fc-4c29-bdf4-f34d22837f13",
   "metadata": {},
   "outputs": [
    {
     "name": "stdout",
     "output_type": "stream",
     "text": [
      "(3148, 6)\n"
     ]
    },
    {
     "data": {
      "text/html": [
       "<div>\n",
       "<style scoped>\n",
       "    .dataframe tbody tr th:only-of-type {\n",
       "        vertical-align: middle;\n",
       "    }\n",
       "\n",
       "    .dataframe tbody tr th {\n",
       "        vertical-align: top;\n",
       "    }\n",
       "\n",
       "    .dataframe thead th {\n",
       "        text-align: right;\n",
       "    }\n",
       "</style>\n",
       "<table border=\"1\" class=\"dataframe\">\n",
       "  <thead>\n",
       "    <tr style=\"text-align: right;\">\n",
       "      <th></th>\n",
       "      <th>Open</th>\n",
       "      <th>High</th>\n",
       "      <th>Low</th>\n",
       "      <th>Close</th>\n",
       "      <th>Adj Close</th>\n",
       "      <th>Volume</th>\n",
       "    </tr>\n",
       "  </thead>\n",
       "  <tbody>\n",
       "    <tr>\n",
       "      <th>2021-01-04 09:30:00-05:00</th>\n",
       "      <td>163.551559</td>\n",
       "      <td>163.558746</td>\n",
       "      <td>160.850006</td>\n",
       "      <td>161.753998</td>\n",
       "      <td>161.753998</td>\n",
       "      <td>817344</td>\n",
       "    </tr>\n",
       "    <tr>\n",
       "      <th>2021-01-04 10:30:00-05:00</th>\n",
       "      <td>161.800003</td>\n",
       "      <td>161.966507</td>\n",
       "      <td>159.399994</td>\n",
       "      <td>159.761993</td>\n",
       "      <td>159.761993</td>\n",
       "      <td>614296</td>\n",
       "    </tr>\n",
       "    <tr>\n",
       "      <th>2021-01-04 11:30:00-05:00</th>\n",
       "      <td>159.704254</td>\n",
       "      <td>159.774506</td>\n",
       "      <td>157.250000</td>\n",
       "      <td>158.030746</td>\n",
       "      <td>158.030746</td>\n",
       "      <td>809036</td>\n",
       "    </tr>\n",
       "    <tr>\n",
       "      <th>2021-01-04 12:30:00-05:00</th>\n",
       "      <td>157.992004</td>\n",
       "      <td>159.093994</td>\n",
       "      <td>157.201004</td>\n",
       "      <td>159.026505</td>\n",
       "      <td>159.026505</td>\n",
       "      <td>559356</td>\n",
       "    </tr>\n",
       "    <tr>\n",
       "      <th>2021-01-04 13:30:00-05:00</th>\n",
       "      <td>159.039459</td>\n",
       "      <td>159.520996</td>\n",
       "      <td>158.750000</td>\n",
       "      <td>159.024994</td>\n",
       "      <td>159.024994</td>\n",
       "      <td>362154</td>\n",
       "    </tr>\n",
       "  </tbody>\n",
       "</table>\n",
       "</div>"
      ],
      "text/plain": [
       "                                 Open        High         Low       Close  \\\n",
       "2021-01-04 09:30:00-05:00  163.551559  163.558746  160.850006  161.753998   \n",
       "2021-01-04 10:30:00-05:00  161.800003  161.966507  159.399994  159.761993   \n",
       "2021-01-04 11:30:00-05:00  159.704254  159.774506  157.250000  158.030746   \n",
       "2021-01-04 12:30:00-05:00  157.992004  159.093994  157.201004  159.026505   \n",
       "2021-01-04 13:30:00-05:00  159.039459  159.520996  158.750000  159.024994   \n",
       "\n",
       "                            Adj Close  Volume  \n",
       "2021-01-04 09:30:00-05:00  161.753998  817344  \n",
       "2021-01-04 10:30:00-05:00  159.761993  614296  \n",
       "2021-01-04 11:30:00-05:00  158.030746  809036  \n",
       "2021-01-04 12:30:00-05:00  159.026505  559356  \n",
       "2021-01-04 13:30:00-05:00  159.024994  362154  "
      ]
     },
     "execution_count": 10,
     "metadata": {},
     "output_type": "execute_result"
    }
   ],
   "source": [
    "print(df.shape)\n",
    "df.head(5)"
   ]
  },
  {
   "cell_type": "markdown",
   "id": "9e7f6b3d-3ab6-4934-96a1-8935d074036c",
   "metadata": {},
   "source": [
    "## Veri Görselleştirme"
   ]
  },
  {
   "cell_type": "code",
   "execution_count": 14,
   "id": "8caf867f-0a77-4c42-83c9-3a44abe3df0a",
   "metadata": {},
   "outputs": [
    {
     "data": {
      "image/png": "[encoded data removed]",
      "text/plain": [
       "<Figure size 1152x432 with 1 Axes>"
      ]
     },
     "metadata": {
      "needs_background": "light"
     },
     "output_type": "display_data"
    }
   ],
   "source": [
    "years = mdates.YearLocator() \n",
    "fig, ax1 = plt.subplots(figsize=(16, 6))\n",
    "ax1.xaxis.set_major_locator(years)\n",
    "ax1.legend([stockname], fontsize=12)\n",
    "plt.title(stockname + ' from '+ start_date + ' to ' + end_date)\n",
    "sns.lineplot(data=df['Close'], label=stockname, linewidth=1.0)\n",
    "plt.ylabel('Amazon Points')\n",
    "plt.show()"
   ]
  },
  {
   "cell_type": "markdown",
   "id": "2314d63a-0bfd-4eea-8ccf-ba0675a2b466",
   "metadata": {},
   "source": [
    "## Veri Normalizasyonu(Ölçeklendirme)"
   ]
  },
  {
   "cell_type": "code",
   "execution_count": 15,
   "id": "26b18792-5f11-4f2d-9f05-96f3618e5940",
   "metadata": {},
   "outputs": [],
   "source": [
    "train_df = df.filter(['Close'])\n",
    "data_unscaled = train_df.values"
   ]
  },
  {
   "cell_type": "code",
   "execution_count": 16,
   "id": "95c78b92-985a-4a5c-b168-58983b89aad6",
   "metadata": {},
   "outputs": [],
   "source": [
    "train_data_length = math.ceil(len(data_unscaled) * 0.8)"
   ]
  },
  {
   "cell_type": "code",
   "execution_count": 17,
   "id": "1410bcd0-4297-4c58-811c-e587091cd911",
   "metadata": {},
   "outputs": [
    {
     "data": {
      "text/plain": [
       "2519"
      ]
     },
     "execution_count": 17,
     "metadata": {},
     "output_type": "execute_result"
    }
   ],
   "source": [
    "train_data_length"
   ]
  },
  {
   "cell_type": "code",
   "execution_count": 18,
   "id": "49490b04-4029-4723-8c44-a8d7a32c7626",
   "metadata": {},
   "outputs": [],
   "source": [
    "mmscaler = MinMaxScaler(feature_range=(0, 1))\n",
    "np_data = mmscaler.fit_transform(data_unscaled)"
   ]
  },
  {
   "cell_type": "code",
   "execution_count": 19,
   "id": "df877b88-b09e-40fa-89e2-bc1994cdf431",
   "metadata": {},
   "outputs": [
    {
     "data": {
      "text/plain": [
       "array([[0.6914207 ],\n",
       "       [0.66827764],\n",
       "       [0.64816405],\n",
       "       ...,\n",
       "       [0.06028572],\n",
       "       [0.05447673],\n",
       "       [0.05412821]])"
      ]
     },
     "execution_count": 19,
     "metadata": {},
     "output_type": "execute_result"
    }
   ],
   "source": [
    "np_data"
   ]
  },
  {
   "cell_type": "markdown",
   "id": "fec07029-d498-43ac-815c-fc7f5cef80da",
   "metadata": {},
   "source": [
    "## Girdiyi Düzenleme"
   ]
  },
  {
   "cell_type": "markdown",
   "id": "fcfdfc8b-d3d1-41a2-b4bb-2832e8eda2cd",
   "metadata": {},
   "source": [
    "Eğitime başlamadan veri setimizi train ve test olarak ayırmamız gerekiyor.Bu sayede test kısmı ile veriyi test edeceğiz.\n",
    "Daha sonra ise son 1 haftanın 1'er saatlik verisine göre (yani ortalama 50 veri) bir sonraki saati tahmin etmeye çalışacağız."
   ]
  },
  {
   "cell_type": "code",
   "execution_count": 20,
   "id": "3bf99755-da24-43b5-937a-4944864cf587",
   "metadata": {},
   "outputs": [
    {
     "name": "stdout",
     "output_type": "stream",
     "text": [
      "0\n"
     ]
    }
   ],
   "source": [
    "index_Close = train_df.columns.get_loc(\"Close\")\n",
    "print(index_Close)"
   ]
  },
  {
   "cell_type": "code",
   "execution_count": 21,
   "id": "fb9a90d7-de7a-4198-b655-341322785fd6",
   "metadata": {},
   "outputs": [],
   "source": [
    "train_data_len = math.ceil(np_data.shape[0] * 0.8)"
   ]
  },
  {
   "cell_type": "code",
   "execution_count": 39,
   "id": "cc976270-6cc3-438d-8d79-6dfa49a7c2cf",
   "metadata": {},
   "outputs": [
    {
     "data": {
      "text/plain": [
       "2519"
      ]
     },
     "execution_count": 39,
     "metadata": {},
     "output_type": "execute_result"
    }
   ],
   "source": [
    "train_data_len"
   ]
  },
  {
   "cell_type": "code",
   "execution_count": 23,
   "id": "201fe354-b518-441e-9582-159158111858",
   "metadata": {},
   "outputs": [],
   "source": [
    "sequence_length = 50\n",
    "train_data = np_data[0:train_data_len, :]\n",
    "test_data = np_data[train_data_len - sequence_length:, :]"
   ]
  },
  {
   "cell_type": "code",
   "execution_count": 35,
   "id": "c0efd29f-867d-4ef1-95b8-0d4a280632ce",
   "metadata": {},
   "outputs": [
    {
     "data": {
      "text/plain": [
       "(array([[0.6914207 ],\n",
       "        [0.66827764],\n",
       "        [0.64816405],\n",
       "        [0.65973274],\n",
       "        [0.65971519],\n",
       "        [0.65738578],\n",
       "        [0.66328766],\n",
       "        [0.67249504],\n",
       "        [0.66755736],\n",
       "        [0.66562877]]),\n",
       " array([[0.12494555],\n",
       "        [0.12696704],\n",
       "        [0.12699026],\n",
       "        [0.12820566],\n",
       "        [0.14189042],\n",
       "        [0.15019714],\n",
       "        [0.17092074],\n",
       "        [0.17622263],\n",
       "        [0.19760436],\n",
       "        [0.20076449]]))"
      ]
     },
     "execution_count": 35,
     "metadata": {},
     "output_type": "execute_result"
    }
   ],
   "source": [
    "train_data[:10],test_data[:10]"
   ]
  },
  {
   "cell_type": "code",
   "execution_count": 37,
   "id": "a2a9ef7b-6fa8-4175-955c-53d055fa1fbb",
   "metadata": {},
   "outputs": [],
   "source": [
    "def partition_dataset(sequence_length, train_df):\n",
    "    x, y = [], []\n",
    "    data_len = train_df.shape[0]\n",
    "    for i in range(sequence_length, data_len):\n",
    "        x.append(train_df[i-sequence_length:i,:]) \n",
    "        y.append(train_df[i, index_Close])\n",
    "\n",
    "    x = np.array(x)\n",
    "    y = np.array(y)\n",
    "    return x, y"
   ]
  },
  {
   "cell_type": "code",
   "execution_count": 26,
   "id": "fcb5a6da-2c4e-4836-af7e-fe6f53bda520",
   "metadata": {},
   "outputs": [],
   "source": [
    "x_train, y_train = partition_dataset(sequence_length, train_data)\n",
    "x_test, y_test = partition_dataset(sequence_length, test_data)"
   ]
  },
  {
   "cell_type": "code",
   "execution_count": 27,
   "id": "ac1d13e0-f1a2-4ee9-8d89-688273b872f8",
   "metadata": {},
   "outputs": [
    {
     "name": "stdout",
     "output_type": "stream",
     "text": [
      "(2469, 50, 1) (2469,)\n",
      "(629, 50, 1) (629,)\n"
     ]
    }
   ],
   "source": [
    "print(x_train.shape, y_train.shape)\n",
    "print(x_test.shape, y_test.shape)"
   ]
  },
  {
   "cell_type": "code",
   "execution_count": 28,
   "id": "14e1817b-c78c-4699-83b2-fedbe738d8ca",
   "metadata": {},
   "outputs": [
    {
     "name": "stdout",
     "output_type": "stream",
     "text": [
      "0.23043096037822242\n",
      "0.23043096037822242\n"
     ]
    }
   ],
   "source": [
    "print(x_test[1][sequence_length-1][index_Close])\n",
    "print(y_test[0])"
   ]
  },
  {
   "cell_type": "markdown",
   "id": "e9460b31-bafc-4efb-9977-1e3fc843c5b6",
   "metadata": {},
   "source": [
    "## Model"
   ]
  },
  {
   "cell_type": "code",
   "execution_count": null,
   "id": "33128bef-80b4-4515-97ef-a783250590ae",
   "metadata": {},
   "outputs": [],
   "source": []
  }
 ],
 "metadata": {
  "kernelspec": {
   "display_name": "Python 3 (ipykernel)",
   "language": "python",
   "name": "python3"
  },
  "language_info": {
   "codemirror_mode": {
    "name": "ipython",
    "version": 3
   },
   "file_extension": ".py",
   "mimetype": "text/x-python",
   "name": "python",
   "nbconvert_exporter": "python",
   "pygments_lexer": "ipython3",
   "version": "3.9.12"
  }
 },
 "nbformat": 4,
 "nbformat_minor": 5
}
