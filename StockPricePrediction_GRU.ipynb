{
 "cells": [
  {
   "cell_type": "markdown",
   "metadata": {},
   "source": [
    "# Stock Price Prediction with GRU"
   ]
  },
  {
   "cell_type": "code",
   "execution_count": 1,
   "metadata": {
    "tags": []
   },
   "outputs": [
    {
     "name": "stdout",
     "output_type": "stream",
     "text": [
      "[*********************100%***********************]  1 of 1 completed\n"
     ]
    },
    {
     "data": {
      "text/html": [
       "<div>\n",
       "<style scoped>\n",
       "    .dataframe tbody tr th:only-of-type {\n",
       "        vertical-align: middle;\n",
       "    }\n",
       "\n",
       "    .dataframe tbody tr th {\n",
       "        vertical-align: top;\n",
       "    }\n",
       "\n",
       "    .dataframe thead th {\n",
       "        text-align: right;\n",
       "    }\n",
       "</style>\n",
       "<table border=\"1\" class=\"dataframe\">\n",
       "  <thead>\n",
       "    <tr style=\"text-align: right;\">\n",
       "      <th></th>\n",
       "      <th>Open</th>\n",
       "      <th>High</th>\n",
       "      <th>Low</th>\n",
       "      <th>Close</th>\n",
       "      <th>Adj Close</th>\n",
       "      <th>Volume</th>\n",
       "    </tr>\n",
       "    <tr>\n",
       "      <th>Date</th>\n",
       "      <th></th>\n",
       "      <th></th>\n",
       "      <th></th>\n",
       "      <th></th>\n",
       "      <th></th>\n",
       "      <th></th>\n",
       "    </tr>\n",
       "  </thead>\n",
       "  <tbody>\n",
       "    <tr>\n",
       "      <th>2010-01-01 00:00:00+02:00</th>\n",
       "      <td>3.582293</td>\n",
       "      <td>3.582293</td>\n",
       "      <td>3.582293</td>\n",
       "      <td>3.582293</td>\n",
       "      <td>3.523511</td>\n",
       "      <td>0</td>\n",
       "    </tr>\n",
       "    <tr>\n",
       "      <th>2010-01-04 00:00:00+02:00</th>\n",
       "      <td>3.613994</td>\n",
       "      <td>3.677398</td>\n",
       "      <td>3.487188</td>\n",
       "      <td>3.645696</td>\n",
       "      <td>3.585874</td>\n",
       "      <td>11846086</td>\n",
       "    </tr>\n",
       "    <tr>\n",
       "      <th>2010-01-05 00:00:00+02:00</th>\n",
       "      <td>3.645696</td>\n",
       "      <td>3.677398</td>\n",
       "      <td>3.613994</td>\n",
       "      <td>3.645696</td>\n",
       "      <td>3.585874</td>\n",
       "      <td>7929532</td>\n",
       "    </tr>\n",
       "    <tr>\n",
       "      <th>2010-01-06 00:00:00+02:00</th>\n",
       "      <td>3.645696</td>\n",
       "      <td>3.677398</td>\n",
       "      <td>3.550591</td>\n",
       "      <td>3.613994</td>\n",
       "      <td>3.554692</td>\n",
       "      <td>9721300</td>\n",
       "    </tr>\n",
       "    <tr>\n",
       "      <th>2010-01-07 00:00:00+02:00</th>\n",
       "      <td>3.550591</td>\n",
       "      <td>3.582293</td>\n",
       "      <td>3.518889</td>\n",
       "      <td>3.550591</td>\n",
       "      <td>3.492329</td>\n",
       "      <td>7407485</td>\n",
       "    </tr>\n",
       "  </tbody>\n",
       "</table>\n",
       "</div>"
      ],
      "text/plain": [
       "                               Open      High       Low     Close  Adj Close  \\\n",
       "Date                                                                           \n",
       "2010-01-01 00:00:00+02:00  3.582293  3.582293  3.582293  3.582293   3.523511   \n",
       "2010-01-04 00:00:00+02:00  3.613994  3.677398  3.487188  3.645696   3.585874   \n",
       "2010-01-05 00:00:00+02:00  3.645696  3.677398  3.613994  3.645696   3.585874   \n",
       "2010-01-06 00:00:00+02:00  3.645696  3.677398  3.550591  3.613994   3.554692   \n",
       "2010-01-07 00:00:00+02:00  3.550591  3.582293  3.518889  3.550591   3.492329   \n",
       "\n",
       "                             Volume  \n",
       "Date                                 \n",
       "2010-01-01 00:00:00+02:00         0  \n",
       "2010-01-04 00:00:00+02:00  11846086  \n",
       "2010-01-05 00:00:00+02:00   7929532  \n",
       "2010-01-06 00:00:00+02:00   9721300  \n",
       "2010-01-07 00:00:00+02:00   7407485  "
      ]
     },
     "execution_count": 1,
     "metadata": {},
     "output_type": "execute_result"
    }
   ],
   "source": [
    "import math \n",
    "import numpy as np \n",
    "import pandas as pd \n",
    "from datetime import date, timedelta, datetime\n",
    "from pandas.plotting import register_matplotlib_converters\n",
    "import matplotlib.pyplot as plt \n",
    "import matplotlib.dates as mdates \n",
    "import tensorflow as tf\n",
    "from sklearn.metrics import mean_absolute_error, mean_squared_error, r2_score\n",
    "from tensorflow.keras import Sequential \n",
    "from tensorflow.keras.layers import LSTM, Dense, Dropout, BatchNormalization, GRU\n",
    "from tensorflow.keras.callbacks import EarlyStopping,ModelCheckpoint\n",
    "from sklearn.preprocessing import RobustScaler, MinMaxScaler \n",
    "import seaborn as sns \n",
    "\n",
    "end_date =  date.today().strftime(\"%Y-%m-%d\")\n",
    "start_date = '2010-01-01'\n",
    "\n",
    "stockname = 'Turkish Airlines'\n",
    "symbol = 'THYAO.IS'\n",
    "\n",
    "import yfinance as yf \n",
    "df = yf.download(symbol, start=start_date, end=end_date)\n",
    "\n",
    "df.head()"
   ]
  },
  {
   "cell_type": "code",
   "execution_count": 2,
   "metadata": {},
   "outputs": [],
   "source": [
    "pd.options.display.float_format = '{:.3f}'.format"
   ]
  },
  {
   "cell_type": "code",
   "execution_count": 3,
   "metadata": {},
   "outputs": [
    {
     "data": {
      "text/html": [
       "<div>\n",
       "<style scoped>\n",
       "    .dataframe tbody tr th:only-of-type {\n",
       "        vertical-align: middle;\n",
       "    }\n",
       "\n",
       "    .dataframe tbody tr th {\n",
       "        vertical-align: top;\n",
       "    }\n",
       "\n",
       "    .dataframe thead th {\n",
       "        text-align: right;\n",
       "    }\n",
       "</style>\n",
       "<table border=\"1\" class=\"dataframe\">\n",
       "  <thead>\n",
       "    <tr style=\"text-align: right;\">\n",
       "      <th></th>\n",
       "      <th>Open</th>\n",
       "      <th>High</th>\n",
       "      <th>Low</th>\n",
       "      <th>Close</th>\n",
       "      <th>Adj Close</th>\n",
       "      <th>Volume</th>\n",
       "    </tr>\n",
       "    <tr>\n",
       "      <th>Date</th>\n",
       "      <th></th>\n",
       "      <th></th>\n",
       "      <th></th>\n",
       "      <th></th>\n",
       "      <th></th>\n",
       "      <th></th>\n",
       "    </tr>\n",
       "  </thead>\n",
       "  <tbody>\n",
       "    <tr>\n",
       "      <th>2010-01-01 00:00:00+02:00</th>\n",
       "      <td>3.582</td>\n",
       "      <td>3.582</td>\n",
       "      <td>3.582</td>\n",
       "      <td>3.582</td>\n",
       "      <td>3.524</td>\n",
       "      <td>0</td>\n",
       "    </tr>\n",
       "    <tr>\n",
       "      <th>2010-01-04 00:00:00+02:00</th>\n",
       "      <td>3.614</td>\n",
       "      <td>3.677</td>\n",
       "      <td>3.487</td>\n",
       "      <td>3.646</td>\n",
       "      <td>3.586</td>\n",
       "      <td>11846086</td>\n",
       "    </tr>\n",
       "    <tr>\n",
       "      <th>2010-01-05 00:00:00+02:00</th>\n",
       "      <td>3.646</td>\n",
       "      <td>3.677</td>\n",
       "      <td>3.614</td>\n",
       "      <td>3.646</td>\n",
       "      <td>3.586</td>\n",
       "      <td>7929532</td>\n",
       "    </tr>\n",
       "    <tr>\n",
       "      <th>2010-01-06 00:00:00+02:00</th>\n",
       "      <td>3.646</td>\n",
       "      <td>3.677</td>\n",
       "      <td>3.551</td>\n",
       "      <td>3.614</td>\n",
       "      <td>3.555</td>\n",
       "      <td>9721300</td>\n",
       "    </tr>\n",
       "    <tr>\n",
       "      <th>2010-01-07 00:00:00+02:00</th>\n",
       "      <td>3.551</td>\n",
       "      <td>3.582</td>\n",
       "      <td>3.519</td>\n",
       "      <td>3.551</td>\n",
       "      <td>3.492</td>\n",
       "      <td>7407485</td>\n",
       "    </tr>\n",
       "  </tbody>\n",
       "</table>\n",
       "</div>"
      ],
      "text/plain": [
       "                           Open  High   Low  Close  Adj Close    Volume\n",
       "Date                                                                   \n",
       "2010-01-01 00:00:00+02:00 3.582 3.582 3.582  3.582      3.524         0\n",
       "2010-01-04 00:00:00+02:00 3.614 3.677 3.487  3.646      3.586  11846086\n",
       "2010-01-05 00:00:00+02:00 3.646 3.677 3.614  3.646      3.586   7929532\n",
       "2010-01-06 00:00:00+02:00 3.646 3.677 3.551  3.614      3.555   9721300\n",
       "2010-01-07 00:00:00+02:00 3.551 3.582 3.519  3.551      3.492   7407485"
      ]
     },
     "execution_count": 3,
     "metadata": {},
     "output_type": "execute_result"
    }
   ],
   "source": [
    "df.head()"
   ]
  },
  {
   "cell_type": "code",
   "execution_count": 4,
   "metadata": {},
   "outputs": [
    {
     "name": "stdout",
     "output_type": "stream",
     "text": [
      "<class 'pandas.core.frame.DataFrame'>\n",
      "DatetimeIndex: 3397 entries, 2010-01-01 00:00:00+02:00 to 2023-03-10 00:00:00+03:00\n",
      "Data columns (total 6 columns):\n",
      " #   Column     Non-Null Count  Dtype  \n",
      "---  ------     --------------  -----  \n",
      " 0   Open       3397 non-null   float64\n",
      " 1   High       3397 non-null   float64\n",
      " 2   Low        3397 non-null   float64\n",
      " 3   Close      3397 non-null   float64\n",
      " 4   Adj Close  3397 non-null   float64\n",
      " 5   Volume     3397 non-null   int64  \n",
      "dtypes: float64(5), int64(1)\n",
      "memory usage: 185.8 KB\n"
     ]
    }
   ],
   "source": [
    "df.info()"
   ]
  },
  {
   "cell_type": "code",
   "execution_count": 5,
   "metadata": {},
   "outputs": [
    {
     "data": {
      "text/plain": [
       "(3397, 6)"
      ]
     },
     "execution_count": 5,
     "metadata": {},
     "output_type": "execute_result"
    }
   ],
   "source": [
    "df.shape"
   ]
  },
  {
   "cell_type": "code",
   "execution_count": 6,
   "metadata": {},
   "outputs": [
    {
     "data": {
      "image/png": "[encoded data removed]",
      "text/plain": [
       "<Figure size 1008x504 with 6 Axes>"
      ]
     },
     "metadata": {
      "needs_background": "light"
     },
     "output_type": "display_data"
    }
   ],
   "source": [
    "df_plot = df.copy()\n",
    "\n",
    "ncols = 2\n",
    "nrows = int(round(df_plot.shape[1] / ncols, 0))\n",
    "\n",
    "fig, ax = plt.subplots(nrows=nrows, ncols=ncols, sharex=True, figsize=(14, 7))\n",
    "for i, ax in enumerate(fig.axes):\n",
    "        sns.lineplot(data = df_plot.iloc[:, i], ax=ax)\n",
    "        ax.tick_params(axis=\"x\", rotation=30, labelsize=10, length=0)\n",
    "        ax.xaxis.set_major_locator(mdates.AutoDateLocator())\n",
    "fig.tight_layout()\n",
    "plt.show()"
   ]
  },
  {
   "cell_type": "code",
   "execution_count": 7,
   "metadata": {},
   "outputs": [
    {
     "name": "stdout",
     "output_type": "stream",
     "text": [
      "FEATURE LIST\n",
      "['High', 'Low', 'Open', 'Close', 'Volume']\n"
     ]
    },
    {
     "data": {
      "text/html": [
       "<div>\n",
       "<style scoped>\n",
       "    .dataframe tbody tr th:only-of-type {\n",
       "        vertical-align: middle;\n",
       "    }\n",
       "\n",
       "    .dataframe tbody tr th {\n",
       "        vertical-align: top;\n",
       "    }\n",
       "\n",
       "    .dataframe thead th {\n",
       "        text-align: right;\n",
       "    }\n",
       "</style>\n",
       "<table border=\"1\" class=\"dataframe\">\n",
       "  <thead>\n",
       "    <tr style=\"text-align: right;\">\n",
       "      <th></th>\n",
       "      <th>High</th>\n",
       "      <th>Low</th>\n",
       "      <th>Open</th>\n",
       "      <th>Close</th>\n",
       "      <th>Volume</th>\n",
       "      <th>Prediction</th>\n",
       "    </tr>\n",
       "    <tr>\n",
       "      <th>Date</th>\n",
       "      <th></th>\n",
       "      <th></th>\n",
       "      <th></th>\n",
       "      <th></th>\n",
       "      <th></th>\n",
       "      <th></th>\n",
       "    </tr>\n",
       "  </thead>\n",
       "  <tbody>\n",
       "    <tr>\n",
       "      <th>2023-03-06 00:00:00+03:00</th>\n",
       "      <td>144.500</td>\n",
       "      <td>138.700</td>\n",
       "      <td>140.000</td>\n",
       "      <td>142.400</td>\n",
       "      <td>37723665</td>\n",
       "      <td>142.400</td>\n",
       "    </tr>\n",
       "    <tr>\n",
       "      <th>2023-03-07 00:00:00+03:00</th>\n",
       "      <td>144.900</td>\n",
       "      <td>141.000</td>\n",
       "      <td>143.500</td>\n",
       "      <td>141.000</td>\n",
       "      <td>40966650</td>\n",
       "      <td>141.000</td>\n",
       "    </tr>\n",
       "    <tr>\n",
       "      <th>2023-03-08 00:00:00+03:00</th>\n",
       "      <td>142.000</td>\n",
       "      <td>139.400</td>\n",
       "      <td>141.000</td>\n",
       "      <td>140.100</td>\n",
       "      <td>22899601</td>\n",
       "      <td>140.100</td>\n",
       "    </tr>\n",
       "    <tr>\n",
       "      <th>2023-03-09 00:00:00+03:00</th>\n",
       "      <td>143.300</td>\n",
       "      <td>140.400</td>\n",
       "      <td>140.800</td>\n",
       "      <td>140.500</td>\n",
       "      <td>27001429</td>\n",
       "      <td>140.500</td>\n",
       "    </tr>\n",
       "    <tr>\n",
       "      <th>2023-03-10 00:00:00+03:00</th>\n",
       "      <td>141.000</td>\n",
       "      <td>138.400</td>\n",
       "      <td>140.400</td>\n",
       "      <td>138.700</td>\n",
       "      <td>20220146</td>\n",
       "      <td>138.700</td>\n",
       "    </tr>\n",
       "  </tbody>\n",
       "</table>\n",
       "</div>"
      ],
      "text/plain": [
       "                             High     Low    Open   Close    Volume  \\\n",
       "Date                                                                  \n",
       "2023-03-06 00:00:00+03:00 144.500 138.700 140.000 142.400  37723665   \n",
       "2023-03-07 00:00:00+03:00 144.900 141.000 143.500 141.000  40966650   \n",
       "2023-03-08 00:00:00+03:00 142.000 139.400 141.000 140.100  22899601   \n",
       "2023-03-09 00:00:00+03:00 143.300 140.400 140.800 140.500  27001429   \n",
       "2023-03-10 00:00:00+03:00 141.000 138.400 140.400 138.700  20220146   \n",
       "\n",
       "                           Prediction  \n",
       "Date                                   \n",
       "2023-03-06 00:00:00+03:00     142.400  \n",
       "2023-03-07 00:00:00+03:00     141.000  \n",
       "2023-03-08 00:00:00+03:00     140.100  \n",
       "2023-03-09 00:00:00+03:00     140.500  \n",
       "2023-03-10 00:00:00+03:00     138.700  "
      ]
     },
     "execution_count": 7,
     "metadata": {},
     "output_type": "execute_result"
    }
   ],
   "source": [
    "train_df = df.sort_values(by=['Date']).copy()\n",
    "\n",
    "FEATURES = ['High', 'Low', 'Open', 'Close', 'Volume'\n",
    "            ,# 'Month' , 'Year', 'Adj Close'\n",
    "           ]\n",
    "\n",
    "print('FEATURE LIST')\n",
    "print([f for f in FEATURES])\n",
    "\n",
    "data = pd.DataFrame(train_df)\n",
    "data_filtered = data[FEATURES]\n",
    "\n",
    "data_filtered_ext = data_filtered.copy()\n",
    "data_filtered_ext['Prediction'] = data_filtered_ext['Close']\n",
    "\n",
    "data_filtered_ext.tail()"
   ]
  },
  {
   "cell_type": "code",
   "execution_count": 8,
   "metadata": {},
   "outputs": [
    {
     "data": {
      "text/html": [
       "<div>\n",
       "<style scoped>\n",
       "    .dataframe tbody tr th:only-of-type {\n",
       "        vertical-align: middle;\n",
       "    }\n",
       "\n",
       "    .dataframe tbody tr th {\n",
       "        vertical-align: top;\n",
       "    }\n",
       "\n",
       "    .dataframe thead th {\n",
       "        text-align: right;\n",
       "    }\n",
       "</style>\n",
       "<table border=\"1\" class=\"dataframe\">\n",
       "  <thead>\n",
       "    <tr style=\"text-align: right;\">\n",
       "      <th></th>\n",
       "      <th>High</th>\n",
       "      <th>Low</th>\n",
       "      <th>Open</th>\n",
       "      <th>Close</th>\n",
       "      <th>Volume</th>\n",
       "    </tr>\n",
       "    <tr>\n",
       "      <th>Date</th>\n",
       "      <th></th>\n",
       "      <th></th>\n",
       "      <th></th>\n",
       "      <th></th>\n",
       "      <th></th>\n",
       "    </tr>\n",
       "  </thead>\n",
       "  <tbody>\n",
       "    <tr>\n",
       "      <th>2023-03-06 00:00:00+03:00</th>\n",
       "      <td>144.500</td>\n",
       "      <td>138.700</td>\n",
       "      <td>140.000</td>\n",
       "      <td>142.400</td>\n",
       "      <td>37723665</td>\n",
       "    </tr>\n",
       "    <tr>\n",
       "      <th>2023-03-07 00:00:00+03:00</th>\n",
       "      <td>144.900</td>\n",
       "      <td>141.000</td>\n",
       "      <td>143.500</td>\n",
       "      <td>141.000</td>\n",
       "      <td>40966650</td>\n",
       "    </tr>\n",
       "    <tr>\n",
       "      <th>2023-03-08 00:00:00+03:00</th>\n",
       "      <td>142.000</td>\n",
       "      <td>139.400</td>\n",
       "      <td>141.000</td>\n",
       "      <td>140.100</td>\n",
       "      <td>22899601</td>\n",
       "    </tr>\n",
       "    <tr>\n",
       "      <th>2023-03-09 00:00:00+03:00</th>\n",
       "      <td>143.300</td>\n",
       "      <td>140.400</td>\n",
       "      <td>140.800</td>\n",
       "      <td>140.500</td>\n",
       "      <td>27001429</td>\n",
       "    </tr>\n",
       "    <tr>\n",
       "      <th>2023-03-10 00:00:00+03:00</th>\n",
       "      <td>141.000</td>\n",
       "      <td>138.400</td>\n",
       "      <td>140.400</td>\n",
       "      <td>138.700</td>\n",
       "      <td>20220146</td>\n",
       "    </tr>\n",
       "  </tbody>\n",
       "</table>\n",
       "</div>"
      ],
      "text/plain": [
       "                             High     Low    Open   Close    Volume\n",
       "Date                                                               \n",
       "2023-03-06 00:00:00+03:00 144.500 138.700 140.000 142.400  37723665\n",
       "2023-03-07 00:00:00+03:00 144.900 141.000 143.500 141.000  40966650\n",
       "2023-03-08 00:00:00+03:00 142.000 139.400 141.000 140.100  22899601\n",
       "2023-03-09 00:00:00+03:00 143.300 140.400 140.800 140.500  27001429\n",
       "2023-03-10 00:00:00+03:00 141.000 138.400 140.400 138.700  20220146"
      ]
     },
     "execution_count": 8,
     "metadata": {},
     "output_type": "execute_result"
    }
   ],
   "source": [
    "data_filtered.tail()"
   ]
  },
  {
   "cell_type": "markdown",
   "metadata": {},
   "source": [
    "#### Burada girdi verilerini numpy formatına dönüştürüp 0-1 arasında MinMaxScaler ile ölçeklendiriyoruz.Bu ölçeklendirdiğimiz veriler eğitildiğinde sonuçlar da ölçeklenmiş şekilde gelecektir bunu geri dönüştürmeyi unutmamalıyız."
   ]
  },
  {
   "cell_type": "code",
   "execution_count": 9,
   "metadata": {},
   "outputs": [
    {
     "name": "stdout",
     "output_type": "stream",
     "text": [
      "(3397, 5)\n"
     ]
    }
   ],
   "source": [
    "nrows = data_filtered.shape[0]\n",
    "\n",
    "np_data_unscaled = np.array(data_filtered)\n",
    "np_data = np.reshape(np_data_unscaled, (nrows, -1))\n",
    "print(np_data.shape)\n",
    "\n",
    "scaler = MinMaxScaler()\n",
    "np_data_scaled = scaler.fit_transform(np_data_unscaled)\n",
    "\n",
    "scaler_pred = MinMaxScaler()\n",
    "df_Close = pd.DataFrame(data_filtered_ext['Close'])\n",
    "np_Close_scaled = scaler_pred.fit_transform(df_Close)"
   ]
  },
  {
   "cell_type": "code",
   "execution_count": 10,
   "metadata": {},
   "outputs": [],
   "source": [
    "np.set_printoptions(precision=3)"
   ]
  },
  {
   "cell_type": "markdown",
   "metadata": {},
   "source": [
    "np_data = np.around(np_data, 3)"
   ]
  },
  {
   "cell_type": "code",
   "execution_count": 11,
   "metadata": {},
   "outputs": [
    {
     "data": {
      "text/plain": [
       "array([3.677e+00, 3.487e+00, 3.614e+00, 3.646e+00, 1.185e+07])"
      ]
     },
     "execution_count": 11,
     "metadata": {},
     "output_type": "execute_result"
    }
   ],
   "source": [
    "np_data[1]"
   ]
  },
  {
   "cell_type": "code",
   "execution_count": 12,
   "metadata": {},
   "outputs": [
    {
     "data": {
      "text/plain": [
       "array([0.012, 0.012, 0.012, 0.012, 0.   ])"
      ]
     },
     "execution_count": 12,
     "metadata": {},
     "output_type": "execute_result"
    }
   ],
   "source": [
    "np_data_scaled[0]"
   ]
  },
  {
   "cell_type": "code",
   "execution_count": 13,
   "metadata": {},
   "outputs": [
    {
     "data": {
      "text/plain": [
       "array([0.012])"
      ]
     },
     "execution_count": 13,
     "metadata": {},
     "output_type": "execute_result"
    }
   ],
   "source": [
    "np_Close_scaled[0]"
   ]
  },
  {
   "cell_type": "code",
   "execution_count": 14,
   "metadata": {},
   "outputs": [
    {
     "name": "stdout",
     "output_type": "stream",
     "text": [
      "(2668, 50, 5) (2668,)\n",
      "(679, 50, 5) (679,)\n",
      "0.01081344028732197\n",
      "0.01081344028732197\n"
     ]
    }
   ],
   "source": [
    "sequence_length = 50\n",
    "\n",
    "index_Close = data.columns.get_loc(\"Close\")\n",
    "\n",
    "# Verileri train test olarak ayırın.\n",
    "# Verilerin %80 ini eğitim için kullanacağız.\n",
    "train_data_len = math.ceil(np_data_scaled.shape[0] * 0.8)\n",
    "\n",
    "train_data = np_data_scaled[0:train_data_len, :]\n",
    "test_data = np_data_scaled[train_data_len - sequence_length:, :]\n",
    "\n",
    "# Model için verileri bu biçime dönüştürün : [samples, time steps, features] \n",
    "def partition_dataset(sequence_length, data):\n",
    "    x, y = [], []\n",
    "    data_len = data.shape[0]\n",
    "    for i in range(sequence_length, data_len):\n",
    "        x.append(data[i-sequence_length:i,:]) \n",
    "        y.append(data[i, index_Close]) \n",
    "\n",
    "    # Sonra bunları numpy array'e dönüştür.    \n",
    "    x = np.array(x)\n",
    "    y = np.array(y)\n",
    "    return x, y\n",
    "\n",
    "x_train, y_train = partition_dataset(sequence_length, train_data)\n",
    "x_test, y_test = partition_dataset(sequence_length, test_data)\n",
    "\n",
    "print(x_train.shape, y_train.shape)\n",
    "print(x_test.shape, y_test.shape)\n",
    "\n",
    "# İkinci girdi örneğinin son kapanış fiyatı ilk tahmin değerine eşit olmalıdır.\n",
    "print(x_train[1][sequence_length-1][index_Close])\n",
    "print(y_train[0])"
   ]
  },
  {
   "cell_type": "markdown",
   "metadata": {
    "_uuid": "89bcb2f3641ab26954a9f3abe2328c796a5aa7c0"
   },
   "source": [
    "## Gated Recurrent Units(GRU)\n",
    "\n",
    "Basit bir ifadeyle, GRU biriminin, LSTM birimi gibi bilgi akışını kontrol etmek için bir bellek birimi kullanması gerekmez. Herhangi bir kontrol olmaksızın tüm gizli durumları doğrudan kullanabilir. GRU'lar daha az parametreye sahiptir ve bu nedenle biraz daha hızlı çalışabilir veya genelleme yapmak için daha az veriye ihtiyaç duyabilir. Ancak, büyük verilerle, daha yüksek anlamlılığa sahip LSTM'ler daha iyi sonuçlara yol açabilir.\n",
    "\n",
    "İki kapısı olması dışında LSTM'lere neredeyse benzerler: sıfırlama kapısı ve güncelleme kapısı. Sıfırlama kapısı, yeni girdinin önceki belleğe nasıl birleştirileceğini belirler ve güncelleme kapısı, önceki durumun ne kadarının tutulacağını belirler. GRU'daki güncelleme kapısı, LSTM'deki giriş kapısı ve unutma kapısıdır. Çıktıyı hesaplamadan önce GRU'da ikinci doğrusal olmama durumumuz yok, onların da çıkış kapısı yok."
   ]
  },
  {
   "cell_type": "code",
   "execution_count": 15,
   "metadata": {},
   "outputs": [
    {
     "name": "stdout",
     "output_type": "stream",
     "text": [
      "250 50 5\n"
     ]
    }
   ],
   "source": [
    "n_neurons = x_train.shape[1] * x_train.shape[2]\n",
    "print(n_neurons, x_train.shape[1], x_train.shape[2])"
   ]
  },
  {
   "cell_type": "code",
   "execution_count": 16,
   "metadata": {
    "_uuid": "a5aa8587cc5b6bce6b75d8d9ffb7e8649f3bacde"
   },
   "outputs": [],
   "source": [
    "model = Sequential()\n",
    "\n",
    "model.add(GRU(n_neurons, return_sequences=True, input_shape=(x_train.shape[1], x_train.shape[2])))\n",
    "\n",
    "model.add(GRU(n_neurons, return_sequences=False))\n",
    "\n",
    "model.add(Dense(5))\n",
    "\n",
    "model.add(Dense(1))\n",
    "\n",
    "model.compile(optimizer='adam', loss='mse')"
   ]
  },
  {
   "cell_type": "code",
   "execution_count": 17,
   "metadata": {},
   "outputs": [],
   "source": [
    "callbacks = EarlyStopping(monitor = \"loss\",patience = 8,verbose = 1)"
   ]
  },
  {
   "cell_type": "code",
   "execution_count": 18,
   "metadata": {},
   "outputs": [
    {
     "name": "stdout",
     "output_type": "stream",
     "text": [
      "Epoch 1/50\n",
      "167/167 [==============================] - 16s 72ms/step - loss: 1.6559e-04 - val_loss: 4.7043e-04\n",
      "Epoch 2/50\n",
      "167/167 [==============================] - 11s 64ms/step - loss: 5.6886e-06 - val_loss: 4.8587e-04\n",
      "Epoch 3/50\n",
      "167/167 [==============================] - 10s 62ms/step - loss: 6.2228e-06 - val_loss: 6.4877e-04\n",
      "Epoch 4/50\n",
      "167/167 [==============================] - 11s 63ms/step - loss: 5.4491e-06 - val_loss: 3.5468e-04\n",
      "Epoch 5/50\n",
      "167/167 [==============================] - 10s 62ms/step - loss: 5.3517e-06 - val_loss: 2.9726e-04\n",
      "Epoch 6/50\n",
      "167/167 [==============================] - 11s 63ms/step - loss: 5.5510e-06 - val_loss: 2.6978e-04\n",
      "Epoch 7/50\n",
      "167/167 [==============================] - 11s 64ms/step - loss: 4.6742e-06 - val_loss: 2.8194e-04\n",
      "Epoch 8/50\n",
      "167/167 [==============================] - 11s 66ms/step - loss: 5.6219e-06 - val_loss: 2.5429e-04\n",
      "Epoch 9/50\n",
      "167/167 [==============================] - 11s 67ms/step - loss: 5.5763e-06 - val_loss: 2.5027e-04\n",
      "Epoch 10/50\n",
      "167/167 [==============================] - 11s 67ms/step - loss: 5.1733e-06 - val_loss: 2.7118e-04\n",
      "Epoch 11/50\n",
      "167/167 [==============================] - 11s 66ms/step - loss: 5.1146e-06 - val_loss: 3.0225e-04\n",
      "Epoch 12/50\n",
      "167/167 [==============================] - 11s 67ms/step - loss: 5.2934e-06 - val_loss: 2.8996e-04\n",
      "Epoch 13/50\n",
      "167/167 [==============================] - 11s 67ms/step - loss: 5.7395e-06 - val_loss: 4.3606e-04\n",
      "Epoch 14/50\n",
      "167/167 [==============================] - 11s 67ms/step - loss: 4.4981e-06 - val_loss: 2.1827e-04\n",
      "Epoch 15/50\n",
      "167/167 [==============================] - 11s 67ms/step - loss: 4.9998e-06 - val_loss: 2.3501e-04\n",
      "Epoch 16/50\n",
      "167/167 [==============================] - 11s 69ms/step - loss: 4.1325e-06 - val_loss: 2.3521e-04\n",
      "Epoch 17/50\n",
      "167/167 [==============================] - 11s 68ms/step - loss: 4.6031e-06 - val_loss: 3.9704e-04\n",
      "Epoch 18/50\n",
      "167/167 [==============================] - 11s 69ms/step - loss: 4.6643e-06 - val_loss: 2.6156e-04\n",
      "Epoch 19/50\n",
      "167/167 [==============================] - 11s 69ms/step - loss: 4.1012e-06 - val_loss: 2.0930e-04\n",
      "Epoch 20/50\n",
      "167/167 [==============================] - 12s 69ms/step - loss: 4.6384e-06 - val_loss: 2.2745e-04\n",
      "Epoch 21/50\n",
      "167/167 [==============================] - 12s 69ms/step - loss: 5.7741e-06 - val_loss: 2.8595e-04\n",
      "Epoch 22/50\n",
      "167/167 [==============================] - 12s 69ms/step - loss: 4.7990e-06 - val_loss: 3.1250e-04\n",
      "Epoch 23/50\n",
      "167/167 [==============================] - 12s 69ms/step - loss: 4.7295e-06 - val_loss: 2.0691e-04\n",
      "Epoch 24/50\n",
      "167/167 [==============================] - 12s 70ms/step - loss: 4.6257e-06 - val_loss: 2.1269e-04\n",
      "Epoch 25/50\n",
      "167/167 [==============================] - 12s 71ms/step - loss: 4.7639e-06 - val_loss: 2.7131e-04\n",
      "Epoch 26/50\n",
      "167/167 [==============================] - 12s 69ms/step - loss: 4.0555e-06 - val_loss: 3.7825e-04\n",
      "Epoch 27/50\n",
      "167/167 [==============================] - 12s 69ms/step - loss: 5.3705e-06 - val_loss: 3.1970e-04\n",
      "Epoch 28/50\n",
      "167/167 [==============================] - 12s 70ms/step - loss: 5.2653e-06 - val_loss: 4.3336e-04\n",
      "Epoch 29/50\n",
      "167/167 [==============================] - 12s 69ms/step - loss: 4.7834e-06 - val_loss: 2.1506e-04\n",
      "Epoch 30/50\n",
      "167/167 [==============================] - 12s 70ms/step - loss: 4.5685e-06 - val_loss: 1.8701e-04\n",
      "Epoch 31/50\n",
      "167/167 [==============================] - 12s 70ms/step - loss: 3.8507e-06 - val_loss: 2.8163e-04\n",
      "Epoch 32/50\n",
      "167/167 [==============================] - 12s 70ms/step - loss: 4.6004e-06 - val_loss: 5.1149e-04\n",
      "Epoch 33/50\n",
      "167/167 [==============================] - 12s 71ms/step - loss: 4.7030e-06 - val_loss: 3.0814e-04\n",
      "Epoch 34/50\n",
      "167/167 [==============================] - 12s 71ms/step - loss: 4.0318e-06 - val_loss: 1.8462e-04\n",
      "Epoch 35/50\n",
      "167/167 [==============================] - 12s 70ms/step - loss: 4.8843e-06 - val_loss: 1.7776e-04\n",
      "Epoch 36/50\n",
      "167/167 [==============================] - 12s 71ms/step - loss: 3.2758e-06 - val_loss: 2.3485e-04\n",
      "Epoch 37/50\n",
      "167/167 [==============================] - 12s 70ms/step - loss: 3.8478e-06 - val_loss: 2.2966e-04\n",
      "Epoch 38/50\n",
      "167/167 [==============================] - 12s 71ms/step - loss: 3.7844e-06 - val_loss: 2.2432e-04\n",
      "Epoch 39/50\n",
      "167/167 [==============================] - 12s 72ms/step - loss: 3.7078e-06 - val_loss: 4.3783e-04\n",
      "Epoch 40/50\n",
      "167/167 [==============================] - 12s 71ms/step - loss: 3.7113e-06 - val_loss: 3.4273e-04\n",
      "Epoch 41/50\n",
      "167/167 [==============================] - 12s 71ms/step - loss: 4.2595e-06 - val_loss: 2.8452e-04\n",
      "Epoch 42/50\n",
      "167/167 [==============================] - 12s 72ms/step - loss: 3.9084e-06 - val_loss: 2.6598e-04\n",
      "Epoch 43/50\n",
      "167/167 [==============================] - 12s 71ms/step - loss: 3.8922e-06 - val_loss: 8.0834e-04\n",
      "Epoch 44/50\n",
      "167/167 [==============================] - 12s 72ms/step - loss: 3.8864e-06 - val_loss: 2.5094e-04\n",
      "Epoch 44: early stopping\n"
     ]
    }
   ],
   "source": [
    "epochs = 50\n",
    "batch_size = 16\n",
    "history = model.fit(x_train, y_train, \n",
    "                    batch_size=batch_size, \n",
    "                    epochs=epochs,\n",
    "                    validation_data=(x_test, y_test),\n",
    "                    callbacks = [callbacks]                 \n",
    "                   )\n",
    "    "
   ]
  },
  {
   "cell_type": "code",
   "execution_count": 19,
   "metadata": {},
   "outputs": [
    {
     "data": {
      "image/png": "[encoded data removed]",
      "text/plain": [
       "<Figure size 1152x360 with 1 Axes>"
      ]
     },
     "metadata": {
      "needs_background": "light"
     },
     "output_type": "display_data"
    }
   ],
   "source": [
    "fig, ax = plt.subplots(figsize=(16, 5), sharex=True)\n",
    "sns.lineplot(data=history.history[\"loss\"])\n",
    "plt.title(\"Model loss\")\n",
    "plt.ylabel(\"Loss\")\n",
    "plt.xlabel(\"Epoch\")\n",
    "ax.xaxis.set_major_locator(plt.MaxNLocator(epochs))\n",
    "plt.legend([\"Train\", \"Test\"], loc=\"upper left\")\n",
    "plt.grid()\n",
    "plt.show()"
   ]
  },
  {
   "cell_type": "code",
   "execution_count": 20,
   "metadata": {
    "tags": []
   },
   "outputs": [
    {
     "name": "stdout",
     "output_type": "stream",
     "text": [
      "22/22 [==============================] - 1s 33ms/step\n",
      "R2: 0.997\n",
      "Median Absolute Error (MAE): 1.12\n",
      "Mean Absolute Percentage Error (MAPE): 2.27 %\n",
      "Median Absolute Percentage Error (MDAPE): 1.64 %\n"
     ]
    }
   ],
   "source": [
    "y_pred_scaled = model.predict(x_test)\n",
    "\n",
    "y_pred = scaler_pred.inverse_transform(y_pred_scaled)\n",
    "y_test_unscaled = scaler_pred.inverse_transform(y_test.reshape(-1, 1))\n",
    "\n",
    "R2 = r2_score(y_test_unscaled, y_pred)\n",
    "print(f'R2: {np.round(R2, 3)}')\n",
    "\n",
    "MAE = mean_absolute_error(y_test_unscaled, y_pred)\n",
    "print(f'Median Absolute Error (MAE): {np.round(MAE, 2)}')\n",
    "\n",
    "MAPE = np.mean((np.abs(np.subtract(y_test_unscaled, y_pred)/ y_test_unscaled))) * 100\n",
    "print(f'Mean Absolute Percentage Error (MAPE): {np.round(MAPE, 2)} %')\n",
    "\n",
    "MDAPE = np.median((np.abs(np.subtract(y_test_unscaled, y_pred)/ y_test_unscaled)) ) * 100\n",
    "print(f'Median Absolute Percentage Error (MDAPE): {np.round(MDAPE, 2)} %')"
   ]
  },
  {
   "cell_type": "code",
   "execution_count": 21,
   "metadata": {},
   "outputs": [
    {
     "data": {
      "image/png": "[encoded data removed]",
      "text/plain": [
       "<Figure size 1440x720 with 1 Axes>"
      ]
     },
     "metadata": {
      "needs_background": "light"
     },
     "output_type": "display_data"
    }
   ],
   "source": [
    "# Tarihin görüntülendiği tarih\n",
    "display_start_date = \"2019-01-01\" \n",
    "\n",
    "# Geçerli ve tahmini fiyatlar arasındaki fark\n",
    "train = pd.DataFrame(data_filtered_ext['Close'][:train_data_len + 1]).rename(columns={'Close': 'y_train'})\n",
    "valid = pd.DataFrame(data_filtered_ext['Close'][train_data_len:]).rename(columns={'Close': 'y_test'})\n",
    "valid.insert(1, \"y_pred\", y_pred, True)\n",
    "valid.insert(1, \"residuals\", valid[\"y_pred\"] - valid[\"y_test\"], True)\n",
    "df_union = pd.concat([train, valid])\n",
    "\n",
    "# Daha yakın bir zaman dilimine yakınlaştırın\n",
    "df_union_zoom = df_union[df_union.index > display_start_date]\n",
    "\n",
    "fig, ax1 = plt.subplots(figsize=(20, 10))\n",
    "plt.title(\"y_pred vs y_test\")\n",
    "plt.ylabel(stockname, fontsize=18)\n",
    "sns.set_palette([\"#090364\", \"#1960EF\", \"#EF5919\"])\n",
    "sns.lineplot(data=df_union_zoom[['y_pred', 'y_train', 'y_test']], linewidth=1.0, dashes=False, ax=ax1)\n",
    "\n",
    "# Farkların grafiği\n",
    "df_sub = [\"#2BC97A\" if x > 0 else \"#C92B2B\" for x in df_union_zoom[\"residuals\"].dropna()]\n",
    "ax1.bar(height=df_union_zoom['residuals'].dropna(), x=df_union_zoom['residuals'].dropna().index, width=3, label='residuals', color=df_sub)\n",
    "plt.legend()\n",
    "plt.show()"
   ]
  },
  {
   "cell_type": "code",
   "execution_count": 22,
   "metadata": {},
   "outputs": [
    {
     "name": "stdout",
     "output_type": "stream",
     "text": [
      "1/1 [==============================] - 0s 30ms/step\n",
      "The close price for Turkish Airlines at 2023-03-13 was 138.7\n",
      "The predicted close price is 135.07000732421875 (-2.69%)\n"
     ]
    }
   ],
   "source": [
    "df_temp = df[-sequence_length:]\n",
    "new_df = df_temp.filter(FEATURES)\n",
    "\n",
    "N = sequence_length\n",
    "\n",
    "# Son N günlük kapanış fiyatı değerlerini alın ve verileri 0 ile 1 arasında değerler olacak şekilde ölçeklendirin\n",
    "last_N_days = new_df[-sequence_length:].values\n",
    "last_N_days_scaled = scaler.transform(last_N_days)\n",
    "\n",
    "# Boş bir liste oluşturun ve son N günü ekleyin\n",
    "X_test_new = []\n",
    "X_test_new.append(last_N_days_scaled)\n",
    "\n",
    "# X_test veri kümesini numpy dizisine dönüştürün ve verileri tekrar eski haline çevirin\n",
    "pred_price_scaled = model.predict(np.array(X_test_new))\n",
    "pred_price_unscaled = scaler_pred.inverse_transform(pred_price_scaled.reshape(-1, 1))\n",
    "\n",
    "# Bir sonraki gün için son fiyatı ve tahmini fiyatı yazdırın\n",
    "price_today = np.round(new_df['Close'][-1], 2)\n",
    "predicted_price = np.round(pred_price_unscaled.ravel()[0], 2)\n",
    "change_percent = np.round(100 - (price_today * 100)/predicted_price, 2)\n",
    "\n",
    "plus = '+'; minus = ''\n",
    "print(f'The close price for {stockname} at {end_date} was {price_today}')\n",
    "print(f'The predicted close price is {predicted_price} ({plus if change_percent > 0 else minus}{change_percent}%)')"
   ]
  },
  {
   "cell_type": "markdown",
   "metadata": {},
   "source": [
    "## WindowSize + BatchSize Update"
   ]
  },
  {
   "cell_type": "code",
   "execution_count": 28,
   "metadata": {
    "tags": []
   },
   "outputs": [
    {
     "name": "stdout",
     "output_type": "stream",
     "text": [
      "(2654, 64, 5) (2654,)\n",
      "(679, 64, 5) (679,)\n",
      "0.01019127367921512\n",
      "0.01019127367921512\n"
     ]
    }
   ],
   "source": [
    "sequence_length = 64\n",
    "\n",
    "index_Close = data.columns.get_loc(\"Close\")\n",
    "\n",
    "# Verileri train test olarak ayırın.\n",
    "# Verilerin %80 ini eğitim için kullanacağız.\n",
    "train_data_len = math.ceil(np_data_scaled.shape[0] * 0.8)\n",
    "\n",
    "train_data = np_data_scaled[0:train_data_len, :]\n",
    "test_data = np_data_scaled[train_data_len - sequence_length:, :]\n",
    "\n",
    "# Model için verileri bu biçime dönüştürün : [samples, time steps, features] \n",
    "def partition_dataset(sequence_length, data):\n",
    "    x, y = [], []\n",
    "    data_len = data.shape[0]\n",
    "    for i in range(sequence_length, data_len):\n",
    "        x.append(data[i-sequence_length:i,:]) \n",
    "        y.append(data[i, index_Close]) \n",
    "\n",
    "    # Sonra bunları numpy array'e dönüştür.    \n",
    "    x = np.array(x)\n",
    "    y = np.array(y)\n",
    "    return x, y\n",
    "\n",
    "x_train, y_train = partition_dataset(sequence_length, train_data)\n",
    "x_test, y_test = partition_dataset(sequence_length, test_data)\n",
    "\n",
    "print(x_train.shape, y_train.shape)\n",
    "print(x_test.shape, y_test.shape)\n",
    "\n",
    "# İkinci girdi örneğinin son kapanış fiyatı ilk tahmin değerine eşit olmalıdır.\n",
    "print(x_train[1][sequence_length-1][index_Close])\n",
    "print(y_train[0])"
   ]
  },
  {
   "cell_type": "code",
   "execution_count": 29,
   "metadata": {},
   "outputs": [
    {
     "data": {
      "text/plain": [
       "(2718, 5)"
      ]
     },
     "execution_count": 29,
     "metadata": {},
     "output_type": "execute_result"
    }
   ],
   "source": [
    "train_data.shape"
   ]
  },
  {
   "cell_type": "code",
   "execution_count": 30,
   "metadata": {},
   "outputs": [
    {
     "name": "stdout",
     "output_type": "stream",
     "text": [
      "320 64 5\n",
      "Model: \"sequential_2\"\n",
      "_________________________________________________________________\n",
      " Layer (type)                Output Shape              Param #   \n",
      "=================================================================\n",
      " gru_4 (GRU)                 (None, 64, 320)           313920    \n",
      "                                                                 \n",
      " gru_5 (GRU)                 (None, 320)               616320    \n",
      "                                                                 \n",
      " dense_4 (Dense)             (None, 5)                 1605      \n",
      "                                                                 \n",
      " dense_5 (Dense)             (None, 1)                 6         \n",
      "                                                                 \n",
      "=================================================================\n",
      "Total params: 931,851\n",
      "Trainable params: 931,851\n",
      "Non-trainable params: 0\n",
      "_________________________________________________________________\n"
     ]
    }
   ],
   "source": [
    "model=Sequential()\n",
    "\n",
    "n_neurons = x_train.shape[1] * x_train.shape[2]\n",
    "print(n_neurons, x_train.shape[1], x_train.shape[2])\n",
    "\n",
    "model.add(GRU(n_neurons,return_sequences=True,input_shape=(x_train.shape[1], x_train.shape[2])))\n",
    "\n",
    "model.add(GRU(n_neurons,return_sequences=False))\n",
    "\n",
    "model.add(Dense(5))\n",
    "\n",
    "model.add(Dense(1))\n",
    "\n",
    "model.compile(loss='mean_squared_error',optimizer='adam')\n",
    "\n",
    "model.summary()"
   ]
  },
  {
   "cell_type": "code",
   "execution_count": 31,
   "metadata": {},
   "outputs": [],
   "source": [
    "callbacks = EarlyStopping(monitor = \"loss\",patience = 8,verbose = 1)"
   ]
  },
  {
   "cell_type": "code",
   "execution_count": 32,
   "metadata": {},
   "outputs": [
    {
     "name": "stdout",
     "output_type": "stream",
     "text": [
      "Epoch 1/50\n",
      "83/83 [==============================] - 24s 247ms/step - loss: 2.4418e-04 - val_loss: 3.2290e-04\n",
      "Epoch 2/50\n",
      "83/83 [==============================] - 21s 252ms/step - loss: 4.8511e-06 - val_loss: 4.5990e-04\n",
      "Epoch 3/50\n",
      "83/83 [==============================] - 21s 250ms/step - loss: 4.9348e-06 - val_loss: 4.8915e-04\n",
      "Epoch 4/50\n",
      "83/83 [==============================] - 21s 250ms/step - loss: 4.8164e-06 - val_loss: 5.3613e-04\n",
      "Epoch 5/50\n",
      "83/83 [==============================] - 22s 263ms/step - loss: 5.9956e-06 - val_loss: 4.3304e-04\n",
      "Epoch 6/50\n",
      "83/83 [==============================] - 22s 263ms/step - loss: 4.7327e-06 - val_loss: 4.7328e-04\n",
      "Epoch 7/50\n",
      "83/83 [==============================] - 22s 261ms/step - loss: 4.5203e-06 - val_loss: 4.2986e-04\n",
      "Epoch 8/50\n",
      "83/83 [==============================] - 22s 265ms/step - loss: 4.5489e-06 - val_loss: 3.6212e-04\n",
      "Epoch 9/50\n",
      "83/83 [==============================] - 22s 260ms/step - loss: 5.2885e-06 - val_loss: 3.3824e-04\n",
      "Epoch 10/50\n",
      "83/83 [==============================] - 22s 264ms/step - loss: 4.0275e-06 - val_loss: 2.6591e-04\n",
      "Epoch 11/50\n",
      "83/83 [==============================] - 22s 266ms/step - loss: 4.4758e-06 - val_loss: 3.8342e-04\n",
      "Epoch 12/50\n",
      "83/83 [==============================] - 22s 262ms/step - loss: 5.6247e-06 - val_loss: 2.6066e-04\n",
      "Epoch 13/50\n",
      "83/83 [==============================] - 22s 264ms/step - loss: 4.0990e-06 - val_loss: 2.5439e-04\n",
      "Epoch 14/50\n",
      "83/83 [==============================] - 22s 268ms/step - loss: 4.6992e-06 - val_loss: 3.4740e-04\n",
      "Epoch 15/50\n",
      "83/83 [==============================] - 22s 265ms/step - loss: 4.1412e-06 - val_loss: 4.6368e-04\n",
      "Epoch 16/50\n",
      "83/83 [==============================] - 22s 267ms/step - loss: 4.2319e-06 - val_loss: 3.8912e-04\n",
      "Epoch 17/50\n",
      "83/83 [==============================] - 22s 268ms/step - loss: 4.4501e-06 - val_loss: 2.4658e-04\n",
      "Epoch 18/50\n",
      "83/83 [==============================] - 22s 265ms/step - loss: 3.9663e-06 - val_loss: 2.6118e-04\n",
      "Epoch 19/50\n",
      "83/83 [==============================] - 22s 265ms/step - loss: 3.5574e-06 - val_loss: 2.5353e-04\n",
      "Epoch 20/50\n",
      "83/83 [==============================] - 22s 266ms/step - loss: 3.9710e-06 - val_loss: 3.7019e-04\n",
      "Epoch 21/50\n",
      "83/83 [==============================] - 22s 266ms/step - loss: 3.4492e-06 - val_loss: 2.3005e-04\n",
      "Epoch 22/50\n",
      "83/83 [==============================] - 22s 265ms/step - loss: 3.7832e-06 - val_loss: 2.4544e-04\n",
      "Epoch 23/50\n",
      "83/83 [==============================] - 22s 266ms/step - loss: 4.4647e-06 - val_loss: 2.2559e-04\n",
      "Epoch 24/50\n",
      "83/83 [==============================] - 22s 267ms/step - loss: 3.2026e-06 - val_loss: 2.9819e-04\n",
      "Epoch 25/50\n",
      "83/83 [==============================] - 22s 265ms/step - loss: 3.8654e-06 - val_loss: 2.4798e-04\n",
      "Epoch 26/50\n",
      "83/83 [==============================] - 22s 266ms/step - loss: 3.9421e-06 - val_loss: 2.8903e-04\n",
      "Epoch 27/50\n",
      "83/83 [==============================] - 22s 267ms/step - loss: 3.8256e-06 - val_loss: 3.2662e-04\n",
      "Epoch 28/50\n",
      "83/83 [==============================] - 22s 267ms/step - loss: 3.4801e-06 - val_loss: 2.9776e-04\n",
      "Epoch 29/50\n",
      "83/83 [==============================] - 22s 271ms/step - loss: 4.9119e-06 - val_loss: 2.1368e-04\n",
      "Epoch 30/50\n",
      "83/83 [==============================] - 22s 269ms/step - loss: 3.7677e-06 - val_loss: 3.6296e-04\n",
      "Epoch 31/50\n",
      "83/83 [==============================] - 22s 270ms/step - loss: 3.6513e-06 - val_loss: 3.8297e-04\n",
      "Epoch 32/50\n",
      "83/83 [==============================] - 23s 273ms/step - loss: 3.8701e-06 - val_loss: 2.0606e-04\n",
      "Epoch 32: early stopping\n"
     ]
    }
   ],
   "source": [
    "epochs = 50\n",
    "batch_size = 32\n",
    "history = model.fit(x_train, y_train, \n",
    "                    batch_size=batch_size, \n",
    "                    epochs=epochs,\n",
    "                    validation_data=(x_test, y_test),\n",
    "                    callbacks = [callbacks]                 \n",
    "                   )\n",
    "    "
   ]
  },
  {
   "cell_type": "markdown",
   "metadata": {},
   "source": [
    "#### Burada tahmin başarı anlamında bir kayıp eğrisi çizdiriyoruz."
   ]
  },
  {
   "cell_type": "code",
   "execution_count": 33,
   "metadata": {},
   "outputs": [
    {
     "data": {
      "image/png": "[encoded data removed]",
      "text/plain": [
       "<Figure size 1152x360 with 1 Axes>"
      ]
     },
     "metadata": {
      "needs_background": "light"
     },
     "output_type": "display_data"
    }
   ],
   "source": [
    "fig, ax = plt.subplots(figsize=(16, 5), sharex=True)\n",
    "sns.lineplot(data=history.history[\"loss\"])\n",
    "plt.title(\"Model loss\")\n",
    "plt.ylabel(\"Loss\")\n",
    "plt.xlabel(\"Epoch\")\n",
    "ax.xaxis.set_major_locator(plt.MaxNLocator(epochs))\n",
    "plt.legend([\"Train\", \"Test\"], loc=\"upper left\")\n",
    "plt.grid()\n",
    "plt.show()"
   ]
  },
  {
   "cell_type": "markdown",
   "metadata": {
    "tags": []
   },
   "source": [
    "#### Sinir ağı regresyon modelini eğittikten sonra performansını ölçmek istiyoruz. Önce tahminlerin ölçeklemesini tersine çevirmeliyiz. Daha sonra MAE, MAPE ve MDAPE gibi farklı hata metriklerini hesaplıyoruz. Ardından, bir çizgi grafiğindeki tahminleri gerçek değerlerle karşılaştıracağız."
   ]
  },
  {
   "cell_type": "code",
   "execution_count": 34,
   "metadata": {},
   "outputs": [
    {
     "name": "stdout",
     "output_type": "stream",
     "text": [
      "22/22 [==============================] - 2s 84ms/step\n",
      "R2: 0.997\n",
      "Median Absolute Error (MAE): 0.99\n",
      "Mean Absolute Percentage Error (MAPE): 2.2 %\n",
      "Median Absolute Percentage Error (MDAPE): 1.52 %\n"
     ]
    }
   ],
   "source": [
    "y_pred_scaled = model.predict(x_test)\n",
    "\n",
    "y_pred = scaler_pred.inverse_transform(y_pred_scaled)\n",
    "y_test_unscaled = scaler_pred.inverse_transform(y_test.reshape(-1, 1))\n",
    "\n",
    "R2 = r2_score(y_test_unscaled, y_pred)\n",
    "print(f'R2: {np.round(R2, 3)}')\n",
    "\n",
    "MAE = mean_absolute_error(y_test_unscaled, y_pred)\n",
    "print(f'Median Absolute Error (MAE): {np.round(MAE, 2)}')\n",
    "\n",
    "MAPE = np.mean((np.abs(np.subtract(y_test_unscaled, y_pred)/ y_test_unscaled))) * 100\n",
    "print(f'Mean Absolute Percentage Error (MAPE): {np.round(MAPE, 2)} %')\n",
    "\n",
    "MDAPE = np.median((np.abs(np.subtract(y_test_unscaled, y_pred)/ y_test_unscaled)) ) * 100\n",
    "print(f'Median Absolute Percentage Error (MDAPE): {np.round(MDAPE, 2)} %')"
   ]
  },
  {
   "cell_type": "markdown",
   "metadata": {},
   "source": [
    "#### Çizgi grafiği, tahminin gerçek değerlere yakın olduğunu ancak kısmen ondan saptığını gösterir. Gerçek değerler ve tahminler arasındaki sapmalara artıklar denir. Bizim modumuz için, bunlar en çok artan piyasa oynaklığının olduğu dönemlerde ve en az da istikrarlı piyasa hareketinin olduğu dönemlerde önemli görünmektedir, bu mantıklıdır çünkü ani hareketlerin genellikle tahmin edilmesi daha zordur."
   ]
  },
  {
   "cell_type": "code",
   "execution_count": 35,
   "metadata": {},
   "outputs": [
    {
     "data": {
      "image/png": "[encoded data removed]",
      "text/plain": [
       "<Figure size 1152x576 with 1 Axes>"
      ]
     },
     "metadata": {
      "needs_background": "light"
     },
     "output_type": "display_data"
    }
   ],
   "source": [
    "# Tarihin görüntülendiği tarih\n",
    "display_start_date = \"2019-01-01\" \n",
    "\n",
    "# Geçerli ve tahmini fiyatlar arasındaki fark\n",
    "train = pd.DataFrame(data_filtered_ext['Close'][:train_data_len + 1]).rename(columns={'Close': 'y_train'})\n",
    "valid = pd.DataFrame(data_filtered_ext['Close'][train_data_len:]).rename(columns={'Close': 'y_test'})\n",
    "valid.insert(1, \"y_pred\", y_pred, True)\n",
    "valid.insert(1, \"residuals\", valid[\"y_pred\"] - valid[\"y_test\"], True)\n",
    "df_union = pd.concat([train, valid])\n",
    "\n",
    "# Daha yakın bir zaman dilimine yakınlaştırın\n",
    "df_union_zoom = df_union[df_union.index > display_start_date]\n",
    "\n",
    "fig, ax1 = plt.subplots(figsize=(16, 8))\n",
    "plt.title(\"y_pred vs y_test\")\n",
    "plt.ylabel(stockname, fontsize=18)\n",
    "sns.set_palette([\"#090364\", \"#1960EF\", \"#EF5919\"])\n",
    "sns.lineplot(data=df_union_zoom[['y_pred', 'y_train', 'y_test']], linewidth=1.0, dashes=False, ax=ax1)\n",
    "\n",
    "# Farkların grafiği\n",
    "df_sub = [\"#2BC97A\" if x > 0 else \"#C92B2B\" for x in df_union_zoom[\"residuals\"].dropna()]\n",
    "ax1.bar(height=df_union_zoom['residuals'].dropna(), x=df_union_zoom['residuals'].dropna().index, width=3, label='residuals', color=df_sub)\n",
    "plt.legend()\n",
    "plt.show()"
   ]
  },
  {
   "cell_type": "code",
   "execution_count": 36,
   "metadata": {},
   "outputs": [
    {
     "name": "stdout",
     "output_type": "stream",
     "text": [
      "1/1 [==============================] - 0s 30ms/step\n",
      "The close price for Turkish Airlines at 2023-03-13 was 138.7\n",
      "The predicted close price is 139.1999969482422 (+0.36%)\n"
     ]
    }
   ],
   "source": [
    "df_temp = df[-sequence_length:]\n",
    "new_df = df_temp.filter(FEATURES)\n",
    "\n",
    "N = sequence_length\n",
    "\n",
    "# Son N günlük kapanış fiyatı değerlerini alın ve verileri 0 ile 1 arasında değerler olacak şekilde ölçeklendirin\n",
    "last_N_days = new_df[-sequence_length:].values\n",
    "last_N_days_scaled = scaler.transform(last_N_days)\n",
    "\n",
    "# Boş bir liste oluşturun ve son N günü ekleyin\n",
    "X_test_new = []\n",
    "X_test_new.append(last_N_days_scaled)\n",
    "\n",
    "# X_test veri kümesini numpy dizisine dönüştürün ve verileri tekrar eski haline çevirin\n",
    "pred_price_scaled = model.predict(np.array(X_test_new))\n",
    "pred_price_unscaled = scaler_pred.inverse_transform(pred_price_scaled.reshape(-1, 1))\n",
    "\n",
    "# Bir sonraki gün için son fiyatı ve tahmini fiyatı yazdırın\n",
    "price_today = np.round(new_df['Close'][-1], 2)\n",
    "predicted_price = np.round(pred_price_unscaled.ravel()[0], 2)\n",
    "change_percent = np.round(100 - (price_today * 100)/predicted_price, 2)\n",
    "\n",
    "plus = '+'; minus = ''\n",
    "print(f'The close price for {stockname} at {end_date} was {price_today}')\n",
    "print(f'The predicted close price is {predicted_price} ({plus if change_percent > 0 else minus}{change_percent}%)')"
   ]
  },
  {
   "cell_type": "markdown",
   "metadata": {},
   "source": [
    "## Hidden Layer + Neuron"
   ]
  },
  {
   "cell_type": "code",
   "execution_count": 37,
   "metadata": {
    "tags": []
   },
   "outputs": [
    {
     "name": "stdout",
     "output_type": "stream",
     "text": [
      "(2654, 64, 5) (2654,)\n",
      "(679, 64, 5) (679,)\n",
      "0.01019127367921512\n",
      "0.01019127367921512\n"
     ]
    }
   ],
   "source": [
    "sequence_length = 64\n",
    "\n",
    "index_Close = data.columns.get_loc(\"Close\")\n",
    "\n",
    "# Verileri train test olarak ayırın.\n",
    "# Verilerin %80 ini eğitim için kullanacağız.\n",
    "train_data_len = math.ceil(np_data_scaled.shape[0] * 0.8)\n",
    "\n",
    "train_data = np_data_scaled[0:train_data_len, :]\n",
    "test_data = np_data_scaled[train_data_len - sequence_length:, :]\n",
    "\n",
    "# Model için verileri bu biçime dönüştürün : [samples, time steps, features] \n",
    "def partition_dataset(sequence_length, data):\n",
    "    x, y = [], []\n",
    "    data_len = data.shape[0]\n",
    "    for i in range(sequence_length, data_len):\n",
    "        x.append(data[i-sequence_length:i,:]) \n",
    "        y.append(data[i, index_Close]) \n",
    "\n",
    "    # Sonra bunları numpy array'e dönüştür.    \n",
    "    x = np.array(x)\n",
    "    y = np.array(y)\n",
    "    return x, y\n",
    "\n",
    "x_train, y_train = partition_dataset(sequence_length, train_data)\n",
    "x_test, y_test = partition_dataset(sequence_length, test_data)\n",
    "\n",
    "print(x_train.shape, y_train.shape)\n",
    "print(x_test.shape, y_test.shape)\n",
    "\n",
    "# İkinci girdi örneğinin son kapanış fiyatı ilk tahmin değerine eşit olmalıdır.\n",
    "print(x_train[1][sequence_length-1][index_Close])\n",
    "print(y_train[0])"
   ]
  },
  {
   "cell_type": "code",
   "execution_count": 38,
   "metadata": {},
   "outputs": [
    {
     "data": {
      "text/plain": [
       "(2718, 5)"
      ]
     },
     "execution_count": 38,
     "metadata": {},
     "output_type": "execute_result"
    }
   ],
   "source": [
    "train_data.shape"
   ]
  },
  {
   "cell_type": "code",
   "execution_count": 39,
   "metadata": {},
   "outputs": [
    {
     "name": "stdout",
     "output_type": "stream",
     "text": [
      "320 64 5\n",
      "Model: \"sequential_3\"\n",
      "_________________________________________________________________\n",
      " Layer (type)                Output Shape              Param #   \n",
      "=================================================================\n",
      " gru_6 (GRU)                 (None, 64, 320)           313920    \n",
      "                                                                 \n",
      " gru_7 (GRU)                 (None, 64, 160)           231360    \n",
      "                                                                 \n",
      " gru_8 (GRU)                 (None, 64, 80)            58080     \n",
      "                                                                 \n",
      " gru_9 (GRU)                 (None, 40)                14640     \n",
      "                                                                 \n",
      " dense_6 (Dense)             (None, 5)                 205       \n",
      "                                                                 \n",
      " dense_7 (Dense)             (None, 1)                 6         \n",
      "                                                                 \n",
      "=================================================================\n",
      "Total params: 618,211\n",
      "Trainable params: 618,211\n",
      "Non-trainable params: 0\n",
      "_________________________________________________________________\n"
     ]
    }
   ],
   "source": [
    "model=Sequential()\n",
    "\n",
    "n_neurons = x_train.shape[1] * x_train.shape[2]\n",
    "print(n_neurons, x_train.shape[1], x_train.shape[2])\n",
    "\n",
    "model.add(GRU(n_neurons,return_sequences=True,input_shape=(x_train.shape[1], x_train.shape[2])))\n",
    "\n",
    "model.add(GRU(160,return_sequences=True,input_shape=(x_train.shape[1], x_train.shape[2])))\n",
    "\n",
    "model.add(GRU(80,return_sequences=True,input_shape=(x_train.shape[1], x_train.shape[2])))\n",
    "\n",
    "model.add(GRU(40,return_sequences=False))\n",
    "\n",
    "model.add(Dense(5))\n",
    "\n",
    "model.add(Dense(1))\n",
    "\n",
    "model.compile(loss='mean_squared_error',optimizer='adam')\n",
    "\n",
    "model.summary()"
   ]
  },
  {
   "cell_type": "code",
   "execution_count": 40,
   "metadata": {},
   "outputs": [],
   "source": [
    "callbacks = EarlyStopping(monitor = \"loss\",patience = 8,verbose = 1)"
   ]
  },
  {
   "cell_type": "code",
   "execution_count": 41,
   "metadata": {},
   "outputs": [
    {
     "name": "stdout",
     "output_type": "stream",
     "text": [
      "Epoch 1/50\n",
      "83/83 [==============================] - 30s 284ms/step - loss: 5.4659e-04 - val_loss: 8.2822e-04\n",
      "Epoch 2/50\n",
      "83/83 [==============================] - 24s 294ms/step - loss: 9.5975e-06 - val_loss: 0.0014\n",
      "Epoch 3/50\n",
      "83/83 [==============================] - 24s 287ms/step - loss: 9.0104e-06 - val_loss: 0.0014\n",
      "Epoch 4/50\n",
      "83/83 [==============================] - 24s 288ms/step - loss: 8.5549e-06 - val_loss: 0.0011\n",
      "Epoch 5/50\n",
      "83/83 [==============================] - 24s 293ms/step - loss: 8.4675e-06 - val_loss: 9.2481e-04\n",
      "Epoch 6/50\n",
      "83/83 [==============================] - 24s 289ms/step - loss: 8.4362e-06 - val_loss: 9.0871e-04\n",
      "Epoch 7/50\n",
      "83/83 [==============================] - 24s 293ms/step - loss: 8.8294e-06 - val_loss: 0.0010\n",
      "Epoch 8/50\n",
      "83/83 [==============================] - 24s 287ms/step - loss: 8.9996e-06 - val_loss: 8.7038e-04\n",
      "Epoch 9/50\n",
      "83/83 [==============================] - 24s 291ms/step - loss: 7.5262e-06 - val_loss: 8.5036e-04\n",
      "Epoch 10/50\n",
      "83/83 [==============================] - 24s 293ms/step - loss: 6.3306e-06 - val_loss: 0.0010\n",
      "Epoch 11/50\n",
      "83/83 [==============================] - 24s 288ms/step - loss: 6.5085e-06 - val_loss: 4.9522e-04\n",
      "Epoch 12/50\n",
      "83/83 [==============================] - 24s 289ms/step - loss: 5.6825e-06 - val_loss: 0.0016\n",
      "Epoch 13/50\n",
      "83/83 [==============================] - 24s 289ms/step - loss: 5.7987e-06 - val_loss: 5.9072e-04\n",
      "Epoch 14/50\n",
      "83/83 [==============================] - 24s 291ms/step - loss: 6.8113e-06 - val_loss: 0.0013\n",
      "Epoch 15/50\n",
      "83/83 [==============================] - 24s 291ms/step - loss: 6.9404e-06 - val_loss: 0.0016\n",
      "Epoch 16/50\n",
      "83/83 [==============================] - 24s 287ms/step - loss: 6.3205e-06 - val_loss: 0.0013\n",
      "Epoch 17/50\n",
      "83/83 [==============================] - 24s 285ms/step - loss: 5.6099e-06 - val_loss: 0.0013\n",
      "Epoch 18/50\n",
      "83/83 [==============================] - 24s 289ms/step - loss: 4.9583e-06 - val_loss: 0.0012\n",
      "Epoch 19/50\n",
      "83/83 [==============================] - 24s 286ms/step - loss: 4.7979e-06 - val_loss: 0.0011\n",
      "Epoch 20/50\n",
      "83/83 [==============================] - 24s 284ms/step - loss: 5.6968e-06 - val_loss: 9.4588e-04\n",
      "Epoch 21/50\n",
      "83/83 [==============================] - 24s 286ms/step - loss: 4.3406e-06 - val_loss: 0.0013\n",
      "Epoch 22/50\n",
      "83/83 [==============================] - 24s 287ms/step - loss: 5.2882e-06 - val_loss: 5.1741e-04\n",
      "Epoch 23/50\n",
      "83/83 [==============================] - 26s 312ms/step - loss: 6.0092e-06 - val_loss: 7.1229e-04\n",
      "Epoch 24/50\n",
      "83/83 [==============================] - 25s 304ms/step - loss: 5.4636e-06 - val_loss: 6.7809e-04\n",
      "Epoch 25/50\n",
      "83/83 [==============================] - 23s 282ms/step - loss: 6.4082e-06 - val_loss: 0.0026\n",
      "Epoch 26/50\n",
      "83/83 [==============================] - 23s 275ms/step - loss: 4.7790e-06 - val_loss: 9.3488e-04\n",
      "Epoch 27/50\n",
      "83/83 [==============================] - 23s 272ms/step - loss: 4.8977e-06 - val_loss: 0.0011\n",
      "Epoch 28/50\n",
      "83/83 [==============================] - 23s 274ms/step - loss: 5.3430e-06 - val_loss: 9.7975e-04\n",
      "Epoch 29/50\n",
      "83/83 [==============================] - 23s 276ms/step - loss: 5.1440e-06 - val_loss: 9.6333e-04\n",
      "Epoch 29: early stopping\n"
     ]
    }
   ],
   "source": [
    "epochs = 50\n",
    "batch_size = 32\n",
    "history = model.fit(x_train, y_train, \n",
    "                    batch_size=batch_size, \n",
    "                    epochs=epochs,\n",
    "                    validation_data=(x_test, y_test),\n",
    "                    callbacks = [callbacks]                 \n",
    "                   )\n",
    "    "
   ]
  },
  {
   "cell_type": "markdown",
   "metadata": {},
   "source": [
    "#### Burada tahmin başarı anlamında bir kayıp eğrisi çizdiriyoruz."
   ]
  },
  {
   "cell_type": "code",
   "execution_count": 42,
   "metadata": {},
   "outputs": [
    {
     "data": {
      "image/png": "[encoded data removed]",
      "text/plain": [
       "<Figure size 1152x360 with 1 Axes>"
      ]
     },
     "metadata": {
      "needs_background": "light"
     },
     "output_type": "display_data"
    }
   ],
   "source": [
    "fig, ax = plt.subplots(figsize=(16, 5), sharex=True)\n",
    "sns.lineplot(data=history.history[\"loss\"])\n",
    "plt.title(\"Model loss\")\n",
    "plt.ylabel(\"Loss\")\n",
    "plt.xlabel(\"Epoch\")\n",
    "ax.xaxis.set_major_locator(plt.MaxNLocator(epochs))\n",
    "plt.legend([\"Train\", \"Test\"], loc=\"upper left\")\n",
    "plt.grid()\n",
    "plt.show()"
   ]
  },
  {
   "cell_type": "markdown",
   "metadata": {
    "tags": []
   },
   "source": [
    "#### Sinir ağı regresyon modelini eğittikten sonra performansını ölçmek istiyoruz. Önce tahminlerin ölçeklemesini tersine çevirmeliyiz. Daha sonra MAE, MAPE ve MDAPE gibi farklı hata metriklerini hesaplıyoruz. Ardından, bir çizgi grafiğindeki tahminleri gerçek değerlerle karşılaştıracağız."
   ]
  },
  {
   "cell_type": "code",
   "execution_count": 43,
   "metadata": {},
   "outputs": [
    {
     "name": "stdout",
     "output_type": "stream",
     "text": [
      "22/22 [==============================] - 3s 77ms/step\n",
      "R2: 0.987\n",
      "Median Absolute Error (MAE): 2.18\n",
      "Mean Absolute Percentage Error (MAPE): 3.43 %\n",
      "Median Absolute Percentage Error (MDAPE): 2.33 %\n"
     ]
    }
   ],
   "source": [
    "y_pred_scaled = model.predict(x_test)\n",
    "\n",
    "y_pred = scaler_pred.inverse_transform(y_pred_scaled)\n",
    "y_test_unscaled = scaler_pred.inverse_transform(y_test.reshape(-1, 1))\n",
    "\n",
    "R2 = r2_score(y_test_unscaled, y_pred)\n",
    "print(f'R2: {np.round(R2, 3)}')\n",
    "\n",
    "MAE = mean_absolute_error(y_test_unscaled, y_pred)\n",
    "print(f'Median Absolute Error (MAE): {np.round(MAE, 2)}')\n",
    "\n",
    "MAPE = np.mean((np.abs(np.subtract(y_test_unscaled, y_pred)/ y_test_unscaled))) * 100\n",
    "print(f'Mean Absolute Percentage Error (MAPE): {np.round(MAPE, 2)} %')\n",
    "\n",
    "MDAPE = np.median((np.abs(np.subtract(y_test_unscaled, y_pred)/ y_test_unscaled)) ) * 100\n",
    "print(f'Median Absolute Percentage Error (MDAPE): {np.round(MDAPE, 2)} %')"
   ]
  },
  {
   "cell_type": "markdown",
   "metadata": {},
   "source": [
    "#### Çizgi grafiği, tahminin gerçek değerlere yakın olduğunu ancak kısmen ondan saptığını gösterir. Gerçek değerler ve tahminler arasındaki sapmalara artıklar denir. Bizim modumuz için, bunlar en çok artan piyasa oynaklığının olduğu dönemlerde ve en az da istikrarlı piyasa hareketinin olduğu dönemlerde önemli görünmektedir, bu mantıklıdır çünkü ani hareketlerin genellikle tahmin edilmesi daha zordur."
   ]
  },
  {
   "cell_type": "code",
   "execution_count": 44,
   "metadata": {},
   "outputs": [
    {
     "data": {
      "image/png": "[encoded data removed]",
      "text/plain": [
       "<Figure size 1152x576 with 1 Axes>"
      ]
     },
     "metadata": {
      "needs_background": "light"
     },
     "output_type": "display_data"
    }
   ],
   "source": [
    "# Tarihin görüntülendiği tarih\n",
    "display_start_date = \"2019-01-01\" \n",
    "\n",
    "# Geçerli ve tahmini fiyatlar arasındaki fark\n",
    "train = pd.DataFrame(data_filtered_ext['Close'][:train_data_len + 1]).rename(columns={'Close': 'y_train'})\n",
    "valid = pd.DataFrame(data_filtered_ext['Close'][train_data_len:]).rename(columns={'Close': 'y_test'})\n",
    "valid.insert(1, \"y_pred\", y_pred, True)\n",
    "valid.insert(1, \"residuals\", valid[\"y_pred\"] - valid[\"y_test\"], True)\n",
    "df_union = pd.concat([train, valid])\n",
    "\n",
    "# Daha yakın bir zaman dilimine yakınlaştırın\n",
    "df_union_zoom = df_union[df_union.index > display_start_date]\n",
    "\n",
    "fig, ax1 = plt.subplots(figsize=(16, 8))\n",
    "plt.title(\"y_pred vs y_test\")\n",
    "plt.ylabel(stockname, fontsize=18)\n",
    "sns.set_palette([\"#090364\", \"#1960EF\", \"#EF5919\"])\n",
    "sns.lineplot(data=df_union_zoom[['y_pred', 'y_train', 'y_test']], linewidth=1.0, dashes=False, ax=ax1)\n",
    "\n",
    "# Farkların grafiği\n",
    "df_sub = [\"#2BC97A\" if x > 0 else \"#C92B2B\" for x in df_union_zoom[\"residuals\"].dropna()]\n",
    "ax1.bar(height=df_union_zoom['residuals'].dropna(), x=df_union_zoom['residuals'].dropna().index, width=3, label='residuals', color=df_sub)\n",
    "plt.legend()\n",
    "plt.show()"
   ]
  },
  {
   "cell_type": "code",
   "execution_count": 45,
   "metadata": {},
   "outputs": [
    {
     "name": "stdout",
     "output_type": "stream",
     "text": [
      "1/1 [==============================] - 0s 26ms/step\n",
      "The close price for Turkish Airlines at 2023-03-13 was 138.7\n",
      "The predicted close price is 128.19000244140625 (-8.2%)\n"
     ]
    }
   ],
   "source": [
    "df_temp = df[-sequence_length:]\n",
    "new_df = df_temp.filter(FEATURES)\n",
    "\n",
    "N = sequence_length\n",
    "\n",
    "# Son N günlük kapanış fiyatı değerlerini alın ve verileri 0 ile 1 arasında değerler olacak şekilde ölçeklendirin\n",
    "last_N_days = new_df[-sequence_length:].values\n",
    "last_N_days_scaled = scaler.transform(last_N_days)\n",
    "\n",
    "# Boş bir liste oluşturun ve son N günü ekleyin\n",
    "X_test_new = []\n",
    "X_test_new.append(last_N_days_scaled)\n",
    "\n",
    "# X_test veri kümesini numpy dizisine dönüştürün ve verileri tekrar eski haline çevirin\n",
    "pred_price_scaled = model.predict(np.array(X_test_new))\n",
    "pred_price_unscaled = scaler_pred.inverse_transform(pred_price_scaled.reshape(-1, 1))\n",
    "\n",
    "# Bir sonraki gün için son fiyatı ve tahmini fiyatı yazdırın\n",
    "price_today = np.round(new_df['Close'][-1], 2)\n",
    "predicted_price = np.round(pred_price_unscaled.ravel()[0], 2)\n",
    "change_percent = np.round(100 - (price_today * 100)/predicted_price, 2)\n",
    "\n",
    "plus = '+'; minus = ''\n",
    "print(f'The close price for {stockname} at {end_date} was {price_today}')\n",
    "print(f'The predicted close price is {predicted_price} ({plus if change_percent > 0 else minus}{change_percent}%)')"
   ]
  },
  {
   "cell_type": "code",
   "execution_count": null,
   "metadata": {},
   "outputs": [],
   "source": []
  },
  {
   "cell_type": "code",
   "execution_count": 69,
   "metadata": {
    "_uuid": "a5aa8587cc5b6bce6b75d8d9ffb7e8649f3bacde"
   },
   "outputs": [],
   "source": [
    "model = Sequential()\n",
    "# First GRU layer with Dropout regularisation\n",
    "model.add(GRU(units=50, return_sequences=True, input_shape=(x_train.shape[1], x_train.shape[2]), activation='tanh'))\n",
    "model.add(Dropout(0.2))\n",
    "# Second GRU layer\n",
    "model.add(GRU(units=50, return_sequences=True, input_shape=(x_train.shape[1], x_train.shape[2]), activation='tanh'))\n",
    "model.add(Dropout(0.2))\n",
    "# Third GRU layer\n",
    "model.add(GRU(units=50, return_sequences=True, input_shape=(x_train.shape[1], x_train.shape[2]), activation='tanh'))\n",
    "model.add(Dropout(0.2))\n",
    "# Fourth GRU layer\n",
    "model.add(GRU(units=50, activation='tanh'))\n",
    "model.add(Dropout(0.2))\n",
    "# The output layer\n",
    "model.add(Dense(units=1))"
   ]
  }
 ],
 "metadata": {
  "kernelspec": {
   "display_name": "Python 3 (ipykernel)",
   "language": "python",
   "name": "python3"
  },
  "language_info": {
   "codemirror_mode": {
    "name": "ipython",
    "version": 3
   },
   "file_extension": ".py",
   "mimetype": "text/x-python",
   "name": "python",
   "nbconvert_exporter": "python",
   "pygments_lexer": "ipython3",
   "version": "3.9.12"
  }
 },
 "nbformat": 4,
 "nbformat_minor": 4
}
