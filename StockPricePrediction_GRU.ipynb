{
 "cells": [
  {
   "cell_type": "markdown",
   "metadata": {},
   "source": [
    "# Stock Price Prediction with GRU"
   ]
  },
  {
   "cell_type": "code",
   "execution_count": 1,
   "metadata": {
    "tags": []
   },
   "outputs": [
    {
     "name": "stdout",
     "output_type": "stream",
     "text": [
      "[*********************100%***********************]  1 of 1 completed\n"
     ]
    },
    {
     "data": {
      "text/html": [
       "<div>\n",
       "<style scoped>\n",
       "    .dataframe tbody tr th:only-of-type {\n",
       "        vertical-align: middle;\n",
       "    }\n",
       "\n",
       "    .dataframe tbody tr th {\n",
       "        vertical-align: top;\n",
       "    }\n",
       "\n",
       "    .dataframe thead th {\n",
       "        text-align: right;\n",
       "    }\n",
       "</style>\n",
       "<table border=\"1\" class=\"dataframe\">\n",
       "  <thead>\n",
       "    <tr style=\"text-align: right;\">\n",
       "      <th></th>\n",
       "      <th>Open</th>\n",
       "      <th>High</th>\n",
       "      <th>Low</th>\n",
       "      <th>Close</th>\n",
       "      <th>Adj Close</th>\n",
       "      <th>Volume</th>\n",
       "    </tr>\n",
       "    <tr>\n",
       "      <th>Date</th>\n",
       "      <th></th>\n",
       "      <th></th>\n",
       "      <th></th>\n",
       "      <th></th>\n",
       "      <th></th>\n",
       "      <th></th>\n",
       "    </tr>\n",
       "  </thead>\n",
       "  <tbody>\n",
       "    <tr>\n",
       "      <th>2010-01-01 00:00:00+02:00</th>\n",
       "      <td>3.582293</td>\n",
       "      <td>3.582293</td>\n",
       "      <td>3.582293</td>\n",
       "      <td>3.582293</td>\n",
       "      <td>3.523511</td>\n",
       "      <td>0</td>\n",
       "    </tr>\n",
       "    <tr>\n",
       "      <th>2010-01-04 00:00:00+02:00</th>\n",
       "      <td>3.613994</td>\n",
       "      <td>3.677398</td>\n",
       "      <td>3.487188</td>\n",
       "      <td>3.645696</td>\n",
       "      <td>3.585874</td>\n",
       "      <td>11846086</td>\n",
       "    </tr>\n",
       "    <tr>\n",
       "      <th>2010-01-05 00:00:00+02:00</th>\n",
       "      <td>3.645696</td>\n",
       "      <td>3.677398</td>\n",
       "      <td>3.613994</td>\n",
       "      <td>3.645696</td>\n",
       "      <td>3.585874</td>\n",
       "      <td>7929532</td>\n",
       "    </tr>\n",
       "    <tr>\n",
       "      <th>2010-01-06 00:00:00+02:00</th>\n",
       "      <td>3.645696</td>\n",
       "      <td>3.677398</td>\n",
       "      <td>3.550591</td>\n",
       "      <td>3.613994</td>\n",
       "      <td>3.554692</td>\n",
       "      <td>9721300</td>\n",
       "    </tr>\n",
       "    <tr>\n",
       "      <th>2010-01-07 00:00:00+02:00</th>\n",
       "      <td>3.550591</td>\n",
       "      <td>3.582293</td>\n",
       "      <td>3.518889</td>\n",
       "      <td>3.550591</td>\n",
       "      <td>3.492329</td>\n",
       "      <td>7407485</td>\n",
       "    </tr>\n",
       "  </tbody>\n",
       "</table>\n",
       "</div>"
      ],
      "text/plain": [
       "                               Open      High       Low     Close  Adj Close  \\\n",
       "Date                                                                           \n",
       "2010-01-01 00:00:00+02:00  3.582293  3.582293  3.582293  3.582293   3.523511   \n",
       "2010-01-04 00:00:00+02:00  3.613994  3.677398  3.487188  3.645696   3.585874   \n",
       "2010-01-05 00:00:00+02:00  3.645696  3.677398  3.613994  3.645696   3.585874   \n",
       "2010-01-06 00:00:00+02:00  3.645696  3.677398  3.550591  3.613994   3.554692   \n",
       "2010-01-07 00:00:00+02:00  3.550591  3.582293  3.518889  3.550591   3.492329   \n",
       "\n",
       "                             Volume  \n",
       "Date                                 \n",
       "2010-01-01 00:00:00+02:00         0  \n",
       "2010-01-04 00:00:00+02:00  11846086  \n",
       "2010-01-05 00:00:00+02:00   7929532  \n",
       "2010-01-06 00:00:00+02:00   9721300  \n",
       "2010-01-07 00:00:00+02:00   7407485  "
      ]
     },
     "execution_count": 1,
     "metadata": {},
     "output_type": "execute_result"
    }
   ],
   "source": [
    "import math \n",
    "import numpy as np \n",
    "import pandas as pd \n",
    "from datetime import date, timedelta, datetime\n",
    "from pandas.plotting import register_matplotlib_converters\n",
    "import matplotlib.pyplot as plt \n",
    "import matplotlib.dates as mdates \n",
    "import tensorflow as tf\n",
    "from sklearn.metrics import mean_absolute_error, mean_squared_error, r2_score\n",
    "from tensorflow.keras import Sequential \n",
    "from tensorflow.keras.layers import LSTM, Dense, Dropout, BatchNormalization, GRU\n",
    "from tensorflow.keras.callbacks import EarlyStopping,ModelCheckpoint\n",
    "from sklearn.preprocessing import RobustScaler, MinMaxScaler \n",
    "import seaborn as sns \n",
    "\n",
    "end_date =  date.today().strftime(\"%Y-%m-%d\")\n",
    "start_date = '2010-01-01'\n",
    "\n",
    "stockname = 'Turkish Airlines'\n",
    "symbol = 'THYAO.IS'\n",
    "\n",
    "import yfinance as yf \n",
    "df = yf.download(symbol, start=start_date, end=end_date)\n",
    "\n",
    "df.head()"
   ]
  },
  {
   "cell_type": "code",
   "execution_count": 2,
   "metadata": {},
   "outputs": [],
   "source": [
    "pd.options.display.float_format = '{:.3f}'.format"
   ]
  },
  {
   "cell_type": "code",
   "execution_count": 3,
   "metadata": {},
   "outputs": [
    {
     "data": {
      "text/html": [
       "<div>\n",
       "<style scoped>\n",
       "    .dataframe tbody tr th:only-of-type {\n",
       "        vertical-align: middle;\n",
       "    }\n",
       "\n",
       "    .dataframe tbody tr th {\n",
       "        vertical-align: top;\n",
       "    }\n",
       "\n",
       "    .dataframe thead th {\n",
       "        text-align: right;\n",
       "    }\n",
       "</style>\n",
       "<table border=\"1\" class=\"dataframe\">\n",
       "  <thead>\n",
       "    <tr style=\"text-align: right;\">\n",
       "      <th></th>\n",
       "      <th>Open</th>\n",
       "      <th>High</th>\n",
       "      <th>Low</th>\n",
       "      <th>Close</th>\n",
       "      <th>Adj Close</th>\n",
       "      <th>Volume</th>\n",
       "    </tr>\n",
       "    <tr>\n",
       "      <th>Date</th>\n",
       "      <th></th>\n",
       "      <th></th>\n",
       "      <th></th>\n",
       "      <th></th>\n",
       "      <th></th>\n",
       "      <th></th>\n",
       "    </tr>\n",
       "  </thead>\n",
       "  <tbody>\n",
       "    <tr>\n",
       "      <th>2010-01-01 00:00:00+02:00</th>\n",
       "      <td>3.582</td>\n",
       "      <td>3.582</td>\n",
       "      <td>3.582</td>\n",
       "      <td>3.582</td>\n",
       "      <td>3.524</td>\n",
       "      <td>0</td>\n",
       "    </tr>\n",
       "    <tr>\n",
       "      <th>2010-01-04 00:00:00+02:00</th>\n",
       "      <td>3.614</td>\n",
       "      <td>3.677</td>\n",
       "      <td>3.487</td>\n",
       "      <td>3.646</td>\n",
       "      <td>3.586</td>\n",
       "      <td>11846086</td>\n",
       "    </tr>\n",
       "    <tr>\n",
       "      <th>2010-01-05 00:00:00+02:00</th>\n",
       "      <td>3.646</td>\n",
       "      <td>3.677</td>\n",
       "      <td>3.614</td>\n",
       "      <td>3.646</td>\n",
       "      <td>3.586</td>\n",
       "      <td>7929532</td>\n",
       "    </tr>\n",
       "    <tr>\n",
       "      <th>2010-01-06 00:00:00+02:00</th>\n",
       "      <td>3.646</td>\n",
       "      <td>3.677</td>\n",
       "      <td>3.551</td>\n",
       "      <td>3.614</td>\n",
       "      <td>3.555</td>\n",
       "      <td>9721300</td>\n",
       "    </tr>\n",
       "    <tr>\n",
       "      <th>2010-01-07 00:00:00+02:00</th>\n",
       "      <td>3.551</td>\n",
       "      <td>3.582</td>\n",
       "      <td>3.519</td>\n",
       "      <td>3.551</td>\n",
       "      <td>3.492</td>\n",
       "      <td>7407485</td>\n",
       "    </tr>\n",
       "  </tbody>\n",
       "</table>\n",
       "</div>"
      ],
      "text/plain": [
       "                           Open  High   Low  Close  Adj Close    Volume\n",
       "Date                                                                   \n",
       "2010-01-01 00:00:00+02:00 3.582 3.582 3.582  3.582      3.524         0\n",
       "2010-01-04 00:00:00+02:00 3.614 3.677 3.487  3.646      3.586  11846086\n",
       "2010-01-05 00:00:00+02:00 3.646 3.677 3.614  3.646      3.586   7929532\n",
       "2010-01-06 00:00:00+02:00 3.646 3.677 3.551  3.614      3.555   9721300\n",
       "2010-01-07 00:00:00+02:00 3.551 3.582 3.519  3.551      3.492   7407485"
      ]
     },
     "execution_count": 3,
     "metadata": {},
     "output_type": "execute_result"
    }
   ],
   "source": [
    "df.head()"
   ]
  },
  {
   "cell_type": "code",
   "execution_count": 4,
   "metadata": {},
   "outputs": [
    {
     "name": "stdout",
     "output_type": "stream",
     "text": [
      "<class 'pandas.core.frame.DataFrame'>\n",
      "DatetimeIndex: 3375 entries, 2010-01-01 00:00:00+02:00 to 2023-02-03 00:00:00+03:00\n",
      "Data columns (total 6 columns):\n",
      " #   Column     Non-Null Count  Dtype  \n",
      "---  ------     --------------  -----  \n",
      " 0   Open       3375 non-null   float64\n",
      " 1   High       3375 non-null   float64\n",
      " 2   Low        3375 non-null   float64\n",
      " 3   Close      3375 non-null   float64\n",
      " 4   Adj Close  3375 non-null   float64\n",
      " 5   Volume     3375 non-null   int64  \n",
      "dtypes: float64(5), int64(1)\n",
      "memory usage: 184.6 KB\n"
     ]
    }
   ],
   "source": [
    "df.info()"
   ]
  },
  {
   "cell_type": "code",
   "execution_count": 5,
   "metadata": {},
   "outputs": [
    {
     "data": {
      "text/plain": [
       "(3375, 6)"
      ]
     },
     "execution_count": 5,
     "metadata": {},
     "output_type": "execute_result"
    }
   ],
   "source": [
    "df.shape"
   ]
  },
  {
   "cell_type": "code",
   "execution_count": 6,
   "metadata": {},
   "outputs": [
    {
     "data": {
      "image/png": "[encoded data removed]",
      "text/plain": [
       "<Figure size 1008x504 with 6 Axes>"
      ]
     },
     "metadata": {
      "needs_background": "light"
     },
     "output_type": "display_data"
    }
   ],
   "source": [
    "df_plot = df.copy()\n",
    "\n",
    "ncols = 2\n",
    "nrows = int(round(df_plot.shape[1] / ncols, 0))\n",
    "\n",
    "fig, ax = plt.subplots(nrows=nrows, ncols=ncols, sharex=True, figsize=(14, 7))\n",
    "for i, ax in enumerate(fig.axes):\n",
    "        sns.lineplot(data = df_plot.iloc[:, i], ax=ax)\n",
    "        ax.tick_params(axis=\"x\", rotation=30, labelsize=10, length=0)\n",
    "        ax.xaxis.set_major_locator(mdates.AutoDateLocator())\n",
    "fig.tight_layout()\n",
    "plt.show()"
   ]
  },
  {
   "cell_type": "code",
   "execution_count": 7,
   "metadata": {},
   "outputs": [
    {
     "name": "stdout",
     "output_type": "stream",
     "text": [
      "FEATURE LIST\n",
      "['High', 'Low', 'Open', 'Close', 'Volume']\n"
     ]
    },
    {
     "data": {
      "text/html": [
       "<div>\n",
       "<style scoped>\n",
       "    .dataframe tbody tr th:only-of-type {\n",
       "        vertical-align: middle;\n",
       "    }\n",
       "\n",
       "    .dataframe tbody tr th {\n",
       "        vertical-align: top;\n",
       "    }\n",
       "\n",
       "    .dataframe thead th {\n",
       "        text-align: right;\n",
       "    }\n",
       "</style>\n",
       "<table border=\"1\" class=\"dataframe\">\n",
       "  <thead>\n",
       "    <tr style=\"text-align: right;\">\n",
       "      <th></th>\n",
       "      <th>High</th>\n",
       "      <th>Low</th>\n",
       "      <th>Open</th>\n",
       "      <th>Close</th>\n",
       "      <th>Volume</th>\n",
       "      <th>Prediction</th>\n",
       "    </tr>\n",
       "    <tr>\n",
       "      <th>Date</th>\n",
       "      <th></th>\n",
       "      <th></th>\n",
       "      <th></th>\n",
       "      <th></th>\n",
       "      <th></th>\n",
       "      <th></th>\n",
       "    </tr>\n",
       "  </thead>\n",
       "  <tbody>\n",
       "    <tr>\n",
       "      <th>2023-01-30 00:00:00+03:00</th>\n",
       "      <td>150.300</td>\n",
       "      <td>144.800</td>\n",
       "      <td>150.000</td>\n",
       "      <td>144.800</td>\n",
       "      <td>48666913</td>\n",
       "      <td>144.800</td>\n",
       "    </tr>\n",
       "    <tr>\n",
       "      <th>2023-01-31 00:00:00+03:00</th>\n",
       "      <td>144.500</td>\n",
       "      <td>137.600</td>\n",
       "      <td>144.500</td>\n",
       "      <td>137.600</td>\n",
       "      <td>65737449</td>\n",
       "      <td>137.600</td>\n",
       "    </tr>\n",
       "    <tr>\n",
       "      <th>2023-02-01 00:00:00+03:00</th>\n",
       "      <td>140.300</td>\n",
       "      <td>130.800</td>\n",
       "      <td>139.100</td>\n",
       "      <td>130.800</td>\n",
       "      <td>64560389</td>\n",
       "      <td>130.800</td>\n",
       "    </tr>\n",
       "    <tr>\n",
       "      <th>2023-02-02 00:00:00+03:00</th>\n",
       "      <td>136.400</td>\n",
       "      <td>125.100</td>\n",
       "      <td>130.200</td>\n",
       "      <td>134.600</td>\n",
       "      <td>103057422</td>\n",
       "      <td>134.600</td>\n",
       "    </tr>\n",
       "    <tr>\n",
       "      <th>2023-02-03 00:00:00+03:00</th>\n",
       "      <td>143.400</td>\n",
       "      <td>133.200</td>\n",
       "      <td>134.600</td>\n",
       "      <td>142.700</td>\n",
       "      <td>77657983</td>\n",
       "      <td>142.700</td>\n",
       "    </tr>\n",
       "  </tbody>\n",
       "</table>\n",
       "</div>"
      ],
      "text/plain": [
       "                             High     Low    Open   Close     Volume  \\\n",
       "Date                                                                   \n",
       "2023-01-30 00:00:00+03:00 150.300 144.800 150.000 144.800   48666913   \n",
       "2023-01-31 00:00:00+03:00 144.500 137.600 144.500 137.600   65737449   \n",
       "2023-02-01 00:00:00+03:00 140.300 130.800 139.100 130.800   64560389   \n",
       "2023-02-02 00:00:00+03:00 136.400 125.100 130.200 134.600  103057422   \n",
       "2023-02-03 00:00:00+03:00 143.400 133.200 134.600 142.700   77657983   \n",
       "\n",
       "                           Prediction  \n",
       "Date                                   \n",
       "2023-01-30 00:00:00+03:00     144.800  \n",
       "2023-01-31 00:00:00+03:00     137.600  \n",
       "2023-02-01 00:00:00+03:00     130.800  \n",
       "2023-02-02 00:00:00+03:00     134.600  \n",
       "2023-02-03 00:00:00+03:00     142.700  "
      ]
     },
     "execution_count": 7,
     "metadata": {},
     "output_type": "execute_result"
    }
   ],
   "source": [
    "train_df = df.sort_values(by=['Date']).copy()\n",
    "\n",
    "FEATURES = ['High', 'Low', 'Open', 'Close', 'Volume'\n",
    "            ,# 'Month' , 'Year', 'Adj Close'\n",
    "           ]\n",
    "\n",
    "print('FEATURE LIST')\n",
    "print([f for f in FEATURES])\n",
    "\n",
    "data = pd.DataFrame(train_df)\n",
    "data_filtered = data[FEATURES]\n",
    "\n",
    "data_filtered_ext = data_filtered.copy()\n",
    "data_filtered_ext['Prediction'] = data_filtered_ext['Close']\n",
    "\n",
    "data_filtered_ext.tail()"
   ]
  },
  {
   "cell_type": "code",
   "execution_count": 8,
   "metadata": {},
   "outputs": [
    {
     "data": {
      "text/html": [
       "<div>\n",
       "<style scoped>\n",
       "    .dataframe tbody tr th:only-of-type {\n",
       "        vertical-align: middle;\n",
       "    }\n",
       "\n",
       "    .dataframe tbody tr th {\n",
       "        vertical-align: top;\n",
       "    }\n",
       "\n",
       "    .dataframe thead th {\n",
       "        text-align: right;\n",
       "    }\n",
       "</style>\n",
       "<table border=\"1\" class=\"dataframe\">\n",
       "  <thead>\n",
       "    <tr style=\"text-align: right;\">\n",
       "      <th></th>\n",
       "      <th>High</th>\n",
       "      <th>Low</th>\n",
       "      <th>Open</th>\n",
       "      <th>Close</th>\n",
       "      <th>Volume</th>\n",
       "    </tr>\n",
       "    <tr>\n",
       "      <th>Date</th>\n",
       "      <th></th>\n",
       "      <th></th>\n",
       "      <th></th>\n",
       "      <th></th>\n",
       "      <th></th>\n",
       "    </tr>\n",
       "  </thead>\n",
       "  <tbody>\n",
       "    <tr>\n",
       "      <th>2023-01-30 00:00:00+03:00</th>\n",
       "      <td>150.300</td>\n",
       "      <td>144.800</td>\n",
       "      <td>150.000</td>\n",
       "      <td>144.800</td>\n",
       "      <td>48666913</td>\n",
       "    </tr>\n",
       "    <tr>\n",
       "      <th>2023-01-31 00:00:00+03:00</th>\n",
       "      <td>144.500</td>\n",
       "      <td>137.600</td>\n",
       "      <td>144.500</td>\n",
       "      <td>137.600</td>\n",
       "      <td>65737449</td>\n",
       "    </tr>\n",
       "    <tr>\n",
       "      <th>2023-02-01 00:00:00+03:00</th>\n",
       "      <td>140.300</td>\n",
       "      <td>130.800</td>\n",
       "      <td>139.100</td>\n",
       "      <td>130.800</td>\n",
       "      <td>64560389</td>\n",
       "    </tr>\n",
       "    <tr>\n",
       "      <th>2023-02-02 00:00:00+03:00</th>\n",
       "      <td>136.400</td>\n",
       "      <td>125.100</td>\n",
       "      <td>130.200</td>\n",
       "      <td>134.600</td>\n",
       "      <td>103057422</td>\n",
       "    </tr>\n",
       "    <tr>\n",
       "      <th>2023-02-03 00:00:00+03:00</th>\n",
       "      <td>143.400</td>\n",
       "      <td>133.200</td>\n",
       "      <td>134.600</td>\n",
       "      <td>142.700</td>\n",
       "      <td>77657983</td>\n",
       "    </tr>\n",
       "  </tbody>\n",
       "</table>\n",
       "</div>"
      ],
      "text/plain": [
       "                             High     Low    Open   Close     Volume\n",
       "Date                                                                \n",
       "2023-01-30 00:00:00+03:00 150.300 144.800 150.000 144.800   48666913\n",
       "2023-01-31 00:00:00+03:00 144.500 137.600 144.500 137.600   65737449\n",
       "2023-02-01 00:00:00+03:00 140.300 130.800 139.100 130.800   64560389\n",
       "2023-02-02 00:00:00+03:00 136.400 125.100 130.200 134.600  103057422\n",
       "2023-02-03 00:00:00+03:00 143.400 133.200 134.600 142.700   77657983"
      ]
     },
     "execution_count": 8,
     "metadata": {},
     "output_type": "execute_result"
    }
   ],
   "source": [
    "data_filtered.tail()"
   ]
  },
  {
   "cell_type": "markdown",
   "metadata": {},
   "source": [
    "#### Burada girdi verilerini numpy formatına dönüştürüp 0-1 arasında MinMaxScaler ile ölçeklendiriyoruz.Bu ölçeklendirdiğimiz veriler eğitildiğinde sonuçlar da ölçeklenmiş şekilde gelecektir bunu geri dönüştürmeyi unutmamalıyız."
   ]
  },
  {
   "cell_type": "code",
   "execution_count": 9,
   "metadata": {},
   "outputs": [
    {
     "name": "stdout",
     "output_type": "stream",
     "text": [
      "(3375, 5)\n"
     ]
    }
   ],
   "source": [
    "nrows = data_filtered.shape[0]\n",
    "\n",
    "np_data_unscaled = np.array(data_filtered)\n",
    "np_data = np.reshape(np_data_unscaled, (nrows, -1))\n",
    "print(np_data.shape)\n",
    "\n",
    "scaler = MinMaxScaler()\n",
    "np_data_scaled = scaler.fit_transform(np_data_unscaled)\n",
    "\n",
    "scaler_pred = MinMaxScaler()\n",
    "df_Close = pd.DataFrame(data_filtered_ext['Close'])\n",
    "np_Close_scaled = scaler_pred.fit_transform(df_Close)"
   ]
  },
  {
   "cell_type": "code",
   "execution_count": 10,
   "metadata": {},
   "outputs": [],
   "source": [
    "np.set_printoptions(precision=3)"
   ]
  },
  {
   "cell_type": "markdown",
   "metadata": {},
   "source": [
    "np_data = np.around(np_data, 3)"
   ]
  },
  {
   "cell_type": "code",
   "execution_count": 11,
   "metadata": {},
   "outputs": [
    {
     "data": {
      "text/plain": [
       "array([3.677e+00, 3.487e+00, 3.614e+00, 3.646e+00, 1.185e+07])"
      ]
     },
     "execution_count": 11,
     "metadata": {},
     "output_type": "execute_result"
    }
   ],
   "source": [
    "np_data[1]"
   ]
  },
  {
   "cell_type": "code",
   "execution_count": 12,
   "metadata": {},
   "outputs": [
    {
     "data": {
      "text/plain": [
       "array([0.012, 0.012, 0.012, 0.012, 0.   ])"
      ]
     },
     "execution_count": 12,
     "metadata": {},
     "output_type": "execute_result"
    }
   ],
   "source": [
    "np_data_scaled[0]"
   ]
  },
  {
   "cell_type": "code",
   "execution_count": 13,
   "metadata": {},
   "outputs": [
    {
     "data": {
      "text/plain": [
       "array([0.012])"
      ]
     },
     "execution_count": 13,
     "metadata": {},
     "output_type": "execute_result"
    }
   ],
   "source": [
    "np_Close_scaled[0]"
   ]
  },
  {
   "cell_type": "code",
   "execution_count": 29,
   "metadata": {},
   "outputs": [
    {
     "name": "stdout",
     "output_type": "stream",
     "text": [
      "(2650, 50, 5) (2650,)\n",
      "(675, 50, 5) (675,)\n",
      "0.01081344028732197\n",
      "0.01081344028732197\n"
     ]
    }
   ],
   "source": [
    "sequence_length = 50\n",
    "\n",
    "index_Close = data.columns.get_loc(\"Close\")\n",
    "\n",
    "# Verileri train test olarak ayırın.\n",
    "# Verilerin %80 ini eğitim için kullanacağız.\n",
    "train_data_len = math.ceil(np_data_scaled.shape[0] * 0.8)\n",
    "\n",
    "train_data = np_data_scaled[0:train_data_len, :]\n",
    "test_data = np_data_scaled[train_data_len - sequence_length:, :]\n",
    "\n",
    "# Model için verileri bu biçime dönüştürün : [samples, time steps, features] \n",
    "def partition_dataset(sequence_length, data):\n",
    "    x, y = [], []\n",
    "    data_len = data.shape[0]\n",
    "    for i in range(sequence_length, data_len):\n",
    "        x.append(data[i-sequence_length:i,:]) \n",
    "        y.append(data[i, index_Close]) \n",
    "\n",
    "    # Sonra bunları numpy array'e dönüştür.    \n",
    "    x = np.array(x)\n",
    "    y = np.array(y)\n",
    "    return x, y\n",
    "\n",
    "x_train, y_train = partition_dataset(sequence_length, train_data)\n",
    "x_test, y_test = partition_dataset(sequence_length, test_data)\n",
    "\n",
    "print(x_train.shape, y_train.shape)\n",
    "print(x_test.shape, y_test.shape)\n",
    "\n",
    "# İkinci girdi örneğinin son kapanış fiyatı ilk tahmin değerine eşit olmalıdır.\n",
    "print(x_train[1][sequence_length-1][index_Close])\n",
    "print(y_train[0])"
   ]
  },
  {
   "cell_type": "markdown",
   "metadata": {
    "_uuid": "89bcb2f3641ab26954a9f3abe2328c796a5aa7c0"
   },
   "source": [
    "## Gated Recurrent Units(GRU)\n",
    "\n",
    "Basit bir ifadeyle, GRU biriminin, LSTM birimi gibi bilgi akışını kontrol etmek için bir bellek birimi kullanması gerekmez. Herhangi bir kontrol olmaksızın tüm gizli durumları doğrudan kullanabilir. GRU'lar daha az parametreye sahiptir ve bu nedenle biraz daha hızlı çalışabilir veya genelleme yapmak için daha az veriye ihtiyaç duyabilir. Ancak, büyük verilerle, daha yüksek anlamlılığa sahip LSTM'ler daha iyi sonuçlara yol açabilir.\n",
    "\n",
    "İki kapısı olması dışında LSTM'lere neredeyse benzerler: sıfırlama kapısı ve güncelleme kapısı. Sıfırlama kapısı, yeni girdinin önceki belleğe nasıl birleştirileceğini belirler ve güncelleme kapısı, önceki durumun ne kadarının tutulacağını belirler. GRU'daki güncelleme kapısı, LSTM'deki giriş kapısı ve unutma kapısıdır. Çıktıyı hesaplamadan önce GRU'da ikinci doğrusal olmama durumumuz yok, onların da çıkış kapısı yok."
   ]
  },
  {
   "cell_type": "code",
   "execution_count": 30,
   "metadata": {},
   "outputs": [
    {
     "name": "stdout",
     "output_type": "stream",
     "text": [
      "250 50 5\n"
     ]
    }
   ],
   "source": [
    "n_neurons = x_train.shape[1] * x_train.shape[2]\n",
    "print(n_neurons, x_train.shape[1], x_train.shape[2])"
   ]
  },
  {
   "cell_type": "code",
   "execution_count": 31,
   "metadata": {
    "_uuid": "a5aa8587cc5b6bce6b75d8d9ffb7e8649f3bacde"
   },
   "outputs": [],
   "source": [
    "model = Sequential()\n",
    "\n",
    "model.add(GRU(n_neurons, return_sequences=True, input_shape=(x_train.shape[1], x_train.shape[2])))\n",
    "\n",
    "model.add(GRU(n_neurons, return_sequences=False))\n",
    "\n",
    "model.add(Dense(5))\n",
    "\n",
    "model.add(Dense(1))\n",
    "\n",
    "model.compile(optimizer='adam', loss='mse')"
   ]
  },
  {
   "cell_type": "code",
   "execution_count": 32,
   "metadata": {},
   "outputs": [],
   "source": [
    "callbacks = EarlyStopping(monitor = \"loss\",patience = 8,verbose = 1)"
   ]
  },
  {
   "cell_type": "code",
   "execution_count": 33,
   "metadata": {},
   "outputs": [
    {
     "name": "stdout",
     "output_type": "stream",
     "text": [
      "Epoch 1/50\n",
      "166/166 [==============================] - 16s 77ms/step - loss: 9.1329e-05 - val_loss: 4.9336e-04\n",
      "Epoch 2/50\n",
      "166/166 [==============================] - 12s 73ms/step - loss: 6.4453e-06 - val_loss: 2.5883e-04\n",
      "Epoch 3/50\n",
      "166/166 [==============================] - 12s 73ms/step - loss: 6.4156e-06 - val_loss: 2.2740e-04\n",
      "Epoch 4/50\n",
      "166/166 [==============================] - 12s 72ms/step - loss: 6.4996e-06 - val_loss: 1.9309e-04\n",
      "Epoch 5/50\n",
      "166/166 [==============================] - 12s 74ms/step - loss: 5.6195e-06 - val_loss: 2.5344e-04\n",
      "Epoch 6/50\n",
      "166/166 [==============================] - 12s 73ms/step - loss: 6.8486e-06 - val_loss: 1.8701e-04\n",
      "Epoch 7/50\n",
      "166/166 [==============================] - 12s 73ms/step - loss: 5.1350e-06 - val_loss: 2.1912e-04\n",
      "Epoch 8/50\n",
      "166/166 [==============================] - 12s 73ms/step - loss: 5.2081e-06 - val_loss: 1.8783e-04\n",
      "Epoch 9/50\n",
      "166/166 [==============================] - 13s 77ms/step - loss: 5.4025e-06 - val_loss: 3.5317e-04\n",
      "Epoch 10/50\n",
      "166/166 [==============================] - 13s 79ms/step - loss: 4.5448e-06 - val_loss: 1.4605e-04\n",
      "Epoch 11/50\n",
      "166/166 [==============================] - 13s 78ms/step - loss: 4.0337e-06 - val_loss: 1.3945e-04\n",
      "Epoch 12/50\n",
      "166/166 [==============================] - 13s 77ms/step - loss: 5.2277e-06 - val_loss: 2.3270e-04\n",
      "Epoch 13/50\n",
      "166/166 [==============================] - 13s 78ms/step - loss: 3.5638e-06 - val_loss: 2.5689e-04\n",
      "Epoch 14/50\n",
      "166/166 [==============================] - 13s 78ms/step - loss: 5.1246e-06 - val_loss: 2.6017e-04\n",
      "Epoch 15/50\n",
      "166/166 [==============================] - 13s 80ms/step - loss: 7.4141e-06 - val_loss: 1.4802e-04\n",
      "Epoch 16/50\n",
      "166/166 [==============================] - 14s 84ms/step - loss: 4.8618e-06 - val_loss: 2.1518e-04\n",
      "Epoch 17/50\n",
      "166/166 [==============================] - 13s 81ms/step - loss: 3.9320e-06 - val_loss: 1.2705e-04\n",
      "Epoch 18/50\n",
      "166/166 [==============================] - 13s 77ms/step - loss: 4.5034e-06 - val_loss: 1.4401e-04\n",
      "Epoch 19/50\n",
      "166/166 [==============================] - 13s 77ms/step - loss: 3.9332e-06 - val_loss: 3.5613e-04\n",
      "Epoch 20/50\n",
      "166/166 [==============================] - 13s 81ms/step - loss: 4.1108e-06 - val_loss: 9.8328e-04\n",
      "Epoch 21/50\n",
      "166/166 [==============================] - 13s 79ms/step - loss: 3.6755e-06 - val_loss: 1.1531e-04\n",
      "Epoch 21: early stopping\n"
     ]
    }
   ],
   "source": [
    "epochs = 50\n",
    "batch_size = 16\n",
    "history = model.fit(x_train, y_train, \n",
    "                    batch_size=batch_size, \n",
    "                    epochs=epochs,\n",
    "                    validation_data=(x_test, y_test),\n",
    "                    callbacks = [callbacks]                 \n",
    "                   )\n",
    "    "
   ]
  },
  {
   "cell_type": "code",
   "execution_count": 34,
   "metadata": {},
   "outputs": [
    {
     "data": {
      "image/png": "[encoded data removed]",
      "text/plain": [
       "<Figure size 1152x360 with 1 Axes>"
      ]
     },
     "metadata": {
      "needs_background": "light"
     },
     "output_type": "display_data"
    }
   ],
   "source": [
    "fig, ax = plt.subplots(figsize=(16, 5), sharex=True)\n",
    "sns.lineplot(data=history.history[\"loss\"])\n",
    "plt.title(\"Model loss\")\n",
    "plt.ylabel(\"Loss\")\n",
    "plt.xlabel(\"Epoch\")\n",
    "ax.xaxis.set_major_locator(plt.MaxNLocator(epochs))\n",
    "plt.legend([\"Train\", \"Test\"], loc=\"upper left\")\n",
    "plt.grid()\n",
    "plt.show()"
   ]
  },
  {
   "cell_type": "code",
   "execution_count": 35,
   "metadata": {
    "tags": []
   },
   "outputs": [
    {
     "name": "stdout",
     "output_type": "stream",
     "text": [
      "22/22 [==============================] - 1s 35ms/step\n",
      "R2: 0.998\n",
      "Median Absolute Error (MAE): 0.82\n",
      "Mean Absolute Percentage Error (MAPE): 2.08 %\n",
      "Median Absolute Percentage Error (MDAPE): 1.43 %\n"
     ]
    }
   ],
   "source": [
    "y_pred_scaled = model.predict(x_test)\n",
    "\n",
    "y_pred = scaler_pred.inverse_transform(y_pred_scaled)\n",
    "y_test_unscaled = scaler_pred.inverse_transform(y_test.reshape(-1, 1))\n",
    "\n",
    "R2 = r2_score(y_test_unscaled, y_pred)\n",
    "print(f'R2: {np.round(R2, 3)}')\n",
    "\n",
    "MAE = mean_absolute_error(y_test_unscaled, y_pred)\n",
    "print(f'Median Absolute Error (MAE): {np.round(MAE, 2)}')\n",
    "\n",
    "MAPE = np.mean((np.abs(np.subtract(y_test_unscaled, y_pred)/ y_test_unscaled))) * 100\n",
    "print(f'Mean Absolute Percentage Error (MAPE): {np.round(MAPE, 2)} %')\n",
    "\n",
    "MDAPE = np.median((np.abs(np.subtract(y_test_unscaled, y_pred)/ y_test_unscaled)) ) * 100\n",
    "print(f'Median Absolute Percentage Error (MDAPE): {np.round(MDAPE, 2)} %')"
   ]
  },
  {
   "cell_type": "code",
   "execution_count": 39,
   "metadata": {},
   "outputs": [
    {
     "data": {
      "image/png": "[encoded data removed]",
      "text/plain": [
       "<Figure size 1440x720 with 1 Axes>"
      ]
     },
     "metadata": {
      "needs_background": "light"
     },
     "output_type": "display_data"
    }
   ],
   "source": [
    "# Tarihin görüntülendiği tarih\n",
    "display_start_date = \"2019-01-01\" \n",
    "\n",
    "# Geçerli ve tahmini fiyatlar arasındaki fark\n",
    "train = pd.DataFrame(data_filtered_ext['Close'][:train_data_len + 1]).rename(columns={'Close': 'y_train'})\n",
    "valid = pd.DataFrame(data_filtered_ext['Close'][train_data_len:]).rename(columns={'Close': 'y_test'})\n",
    "valid.insert(1, \"y_pred\", y_pred, True)\n",
    "valid.insert(1, \"residuals\", valid[\"y_pred\"] - valid[\"y_test\"], True)\n",
    "df_union = pd.concat([train, valid])\n",
    "\n",
    "# Daha yakın bir zaman dilimine yakınlaştırın\n",
    "df_union_zoom = df_union[df_union.index > display_start_date]\n",
    "\n",
    "fig, ax1 = plt.subplots(figsize=(20, 10))\n",
    "plt.title(\"y_pred vs y_test\")\n",
    "plt.ylabel(stockname, fontsize=18)\n",
    "sns.set_palette([\"#090364\", \"#1960EF\", \"#EF5919\"])\n",
    "sns.lineplot(data=df_union_zoom[['y_pred', 'y_train', 'y_test']], linewidth=1.0, dashes=False, ax=ax1)\n",
    "\n",
    "# Farkların grafiği\n",
    "df_sub = [\"#2BC97A\" if x > 0 else \"#C92B2B\" for x in df_union_zoom[\"residuals\"].dropna()]\n",
    "ax1.bar(height=df_union_zoom['residuals'].dropna(), x=df_union_zoom['residuals'].dropna().index, width=3, label='residuals', color=df_sub)\n",
    "plt.legend()\n",
    "plt.show()"
   ]
  },
  {
   "cell_type": "code",
   "execution_count": 37,
   "metadata": {},
   "outputs": [
    {
     "name": "stdout",
     "output_type": "stream",
     "text": [
      "1/1 [==============================] - 0s 15ms/step\n",
      "The close price for Turkish Airlines at 2023-02-06 was 142.7\n",
      "The predicted close price is 140.25999450683594 (-1.74%)\n"
     ]
    }
   ],
   "source": [
    "df_temp = df[-sequence_length:]\n",
    "new_df = df_temp.filter(FEATURES)\n",
    "\n",
    "N = sequence_length\n",
    "\n",
    "# Son N günlük kapanış fiyatı değerlerini alın ve verileri 0 ile 1 arasında değerler olacak şekilde ölçeklendirin\n",
    "last_N_days = new_df[-sequence_length:].values\n",
    "last_N_days_scaled = scaler.transform(last_N_days)\n",
    "\n",
    "# Boş bir liste oluşturun ve son N günü ekleyin\n",
    "X_test_new = []\n",
    "X_test_new.append(last_N_days_scaled)\n",
    "\n",
    "# X_test veri kümesini numpy dizisine dönüştürün ve verileri tekrar eski haline çevirin\n",
    "pred_price_scaled = model.predict(np.array(X_test_new))\n",
    "pred_price_unscaled = scaler_pred.inverse_transform(pred_price_scaled.reshape(-1, 1))\n",
    "\n",
    "# Bir sonraki gün için son fiyatı ve tahmini fiyatı yazdırın\n",
    "price_today = np.round(new_df['Close'][-1], 2)\n",
    "predicted_price = np.round(pred_price_unscaled.ravel()[0], 2)\n",
    "change_percent = np.round(100 - (price_today * 100)/predicted_price, 2)\n",
    "\n",
    "plus = '+'; minus = ''\n",
    "print(f'The close price for {stockname} at {end_date} was {price_today}')\n",
    "print(f'The predicted close price is {predicted_price} ({plus if change_percent > 0 else minus}{change_percent}%)')"
   ]
  },
  {
   "cell_type": "markdown",
   "metadata": {},
   "source": [
    "## WindowSize + BatchSize Update"
   ]
  },
  {
   "cell_type": "code",
   "execution_count": 26,
   "metadata": {
    "tags": []
   },
   "outputs": [
    {
     "name": "stdout",
     "output_type": "stream",
     "text": [
      "(2636, 64, 5) (2636,)\n",
      "(675, 64, 5) (675,)\n",
      "0.01019127367921512\n",
      "0.01019127367921512\n"
     ]
    }
   ],
   "source": [
    "sequence_length = 64\n",
    "\n",
    "index_Close = data.columns.get_loc(\"Close\")\n",
    "\n",
    "# Verileri train test olarak ayırın.\n",
    "# Verilerin %80 ini eğitim için kullanacağız.\n",
    "train_data_len = math.ceil(np_data_scaled.shape[0] * 0.8)\n",
    "\n",
    "train_data = np_data_scaled[0:train_data_len, :]\n",
    "test_data = np_data_scaled[train_data_len - sequence_length:, :]\n",
    "\n",
    "# Model için verileri bu biçime dönüştürün : [samples, time steps, features] \n",
    "def partition_dataset(sequence_length, data):\n",
    "    x, y = [], []\n",
    "    data_len = data.shape[0]\n",
    "    for i in range(sequence_length, data_len):\n",
    "        x.append(data[i-sequence_length:i,:]) \n",
    "        y.append(data[i, index_Close]) \n",
    "\n",
    "    # Sonra bunları numpy array'e dönüştür.    \n",
    "    x = np.array(x)\n",
    "    y = np.array(y)\n",
    "    return x, y\n",
    "\n",
    "x_train, y_train = partition_dataset(sequence_length, train_data)\n",
    "x_test, y_test = partition_dataset(sequence_length, test_data)\n",
    "\n",
    "print(x_train.shape, y_train.shape)\n",
    "print(x_test.shape, y_test.shape)\n",
    "\n",
    "# İkinci girdi örneğinin son kapanış fiyatı ilk tahmin değerine eşit olmalıdır.\n",
    "print(x_train[1][sequence_length-1][index_Close])\n",
    "print(y_train[0])"
   ]
  },
  {
   "cell_type": "code",
   "execution_count": 27,
   "metadata": {},
   "outputs": [
    {
     "data": {
      "text/plain": [
       "(2700, 5)"
      ]
     },
     "execution_count": 27,
     "metadata": {},
     "output_type": "execute_result"
    }
   ],
   "source": [
    "train_data.shape"
   ]
  },
  {
   "cell_type": "code",
   "execution_count": 28,
   "metadata": {},
   "outputs": [
    {
     "name": "stdout",
     "output_type": "stream",
     "text": [
      "320 64 5\n",
      "Model: \"sequential_1\"\n",
      "_________________________________________________________________\n",
      " Layer (type)                Output Shape              Param #   \n",
      "=================================================================\n",
      " gru_2 (GRU)                 (None, 64, 320)           313920    \n",
      "                                                                 \n",
      " gru_3 (GRU)                 (None, 320)               616320    \n",
      "                                                                 \n",
      " dense_2 (Dense)             (None, 5)                 1605      \n",
      "                                                                 \n",
      " dense_3 (Dense)             (None, 1)                 6         \n",
      "                                                                 \n",
      "=================================================================\n",
      "Total params: 931,851\n",
      "Trainable params: 931,851\n",
      "Non-trainable params: 0\n",
      "_________________________________________________________________\n"
     ]
    }
   ],
   "source": [
    "model=Sequential()\n",
    "\n",
    "n_neurons = x_train.shape[1] * x_train.shape[2]\n",
    "print(n_neurons, x_train.shape[1], x_train.shape[2])\n",
    "\n",
    "model.add(GRU(n_neurons,return_sequences=True,input_shape=(x_train.shape[1], x_train.shape[2])))\n",
    "\n",
    "model.add(GRU(n_neurons,return_sequences=False))\n",
    "\n",
    "model.add(Dense(5))\n",
    "\n",
    "model.add(Dense(1))\n",
    "\n",
    "model.compile(loss='mean_squared_error',optimizer='adam')\n",
    "\n",
    "model.summary()"
   ]
  },
  {
   "cell_type": "code",
   "execution_count": 46,
   "metadata": {},
   "outputs": [],
   "source": [
    "callbacks = EarlyStopping(monitor = \"loss\",patience = 6,verbose = 1)"
   ]
  },
  {
   "cell_type": "code",
   "execution_count": 47,
   "metadata": {},
   "outputs": [
    {
     "name": "stdout",
     "output_type": "stream",
     "text": [
      "Epoch 1/50\n",
      "83/83 [==============================] - 28s 290ms/step - loss: 3.2388e-04 - val_loss: 3.6735e-04\n",
      "Epoch 2/50\n",
      "83/83 [==============================] - 23s 280ms/step - loss: 4.7568e-06 - val_loss: 3.3827e-04\n",
      "Epoch 3/50\n",
      "83/83 [==============================] - 23s 278ms/step - loss: 4.5753e-06 - val_loss: 3.3170e-04\n",
      "Epoch 4/50\n",
      "83/83 [==============================] - 23s 282ms/step - loss: 4.6317e-06 - val_loss: 3.6253e-04\n",
      "Epoch 5/50\n",
      "83/83 [==============================] - 24s 292ms/step - loss: 4.3109e-06 - val_loss: 3.2963e-04\n",
      "Epoch 6/50\n",
      "83/83 [==============================] - 24s 290ms/step - loss: 4.3074e-06 - val_loss: 2.3451e-04\n",
      "Epoch 7/50\n",
      "83/83 [==============================] - 24s 294ms/step - loss: 4.7582e-06 - val_loss: 3.2101e-04\n",
      "Epoch 8/50\n",
      "83/83 [==============================] - 24s 290ms/step - loss: 4.8666e-06 - val_loss: 5.3623e-04\n",
      "Epoch 9/50\n",
      "83/83 [==============================] - 24s 292ms/step - loss: 4.0813e-06 - val_loss: 3.4004e-04\n",
      "Epoch 10/50\n",
      "83/83 [==============================] - 24s 292ms/step - loss: 3.8207e-06 - val_loss: 1.8269e-04\n",
      "Epoch 11/50\n",
      "83/83 [==============================] - 24s 290ms/step - loss: 4.3109e-06 - val_loss: 2.0090e-04\n",
      "Epoch 12/50\n",
      "83/83 [==============================] - 24s 288ms/step - loss: 3.9050e-06 - val_loss: 2.1298e-04\n",
      "Epoch 13/50\n",
      "83/83 [==============================] - 25s 295ms/step - loss: 3.5729e-06 - val_loss: 1.9108e-04\n",
      "Epoch 14/50\n",
      "83/83 [==============================] - 24s 290ms/step - loss: 4.4844e-06 - val_loss: 1.9709e-04\n",
      "Epoch 15/50\n",
      "83/83 [==============================] - 24s 293ms/step - loss: 3.5496e-06 - val_loss: 1.7587e-04\n",
      "Epoch 16/50\n",
      "83/83 [==============================] - 24s 293ms/step - loss: 3.5820e-06 - val_loss: 2.0358e-04\n",
      "Epoch 17/50\n",
      "83/83 [==============================] - 24s 288ms/step - loss: 5.1411e-06 - val_loss: 1.6824e-04\n",
      "Epoch 18/50\n",
      "83/83 [==============================] - 24s 295ms/step - loss: 4.1791e-06 - val_loss: 1.5521e-04\n",
      "Epoch 19/50\n",
      "83/83 [==============================] - 24s 289ms/step - loss: 3.8628e-06 - val_loss: 1.8015e-04\n",
      "Epoch 20/50\n",
      "83/83 [==============================] - 24s 290ms/step - loss: 4.0794e-06 - val_loss: 2.5677e-04\n",
      "Epoch 21/50\n",
      "83/83 [==============================] - 24s 290ms/step - loss: 3.8071e-06 - val_loss: 3.1685e-04\n",
      "Epoch 21: early stopping\n"
     ]
    }
   ],
   "source": [
    "epochs = 50\n",
    "batch_size = 32\n",
    "history = model.fit(x_train, y_train, \n",
    "                    batch_size=batch_size, \n",
    "                    epochs=epochs,\n",
    "                    validation_data=(x_test, y_test),\n",
    "                    callbacks = [callbacks]                 \n",
    "                   )\n",
    "    "
   ]
  },
  {
   "cell_type": "markdown",
   "metadata": {},
   "source": [
    "#### Burada tahmin başarı anlamında bir kayıp eğrisi çizdiriyoruz."
   ]
  },
  {
   "cell_type": "code",
   "execution_count": 48,
   "metadata": {},
   "outputs": [
    {
     "data": {
      "image/png": "[encoded data removed]",
      "text/plain": [
       "<Figure size 1152x360 with 1 Axes>"
      ]
     },
     "metadata": {
      "needs_background": "light"
     },
     "output_type": "display_data"
    }
   ],
   "source": [
    "fig, ax = plt.subplots(figsize=(16, 5), sharex=True)\n",
    "sns.lineplot(data=history.history[\"loss\"])\n",
    "plt.title(\"Model loss\")\n",
    "plt.ylabel(\"Loss\")\n",
    "plt.xlabel(\"Epoch\")\n",
    "ax.xaxis.set_major_locator(plt.MaxNLocator(epochs))\n",
    "plt.legend([\"Train\", \"Test\"], loc=\"upper left\")\n",
    "plt.grid()\n",
    "plt.show()"
   ]
  },
  {
   "cell_type": "markdown",
   "metadata": {
    "tags": []
   },
   "source": [
    "#### Sinir ağı regresyon modelini eğittikten sonra performansını ölçmek istiyoruz. Önce tahminlerin ölçeklemesini tersine çevirmeliyiz. Daha sonra MAE, MAPE ve MDAPE gibi farklı hata metriklerini hesaplıyoruz. Ardından, bir çizgi grafiğindeki tahminleri gerçek değerlerle karşılaştıracağız."
   ]
  },
  {
   "cell_type": "code",
   "execution_count": 49,
   "metadata": {},
   "outputs": [
    {
     "name": "stdout",
     "output_type": "stream",
     "text": [
      "22/22 [==============================] - 3s 91ms/step\n",
      "R2: 0.995\n",
      "Median Absolute Error (MAE): 1.37\n",
      "Mean Absolute Percentage Error (MAPE): 2.81 %\n",
      "Median Absolute Percentage Error (MDAPE): 2.04 %\n"
     ]
    }
   ],
   "source": [
    "y_pred_scaled = model.predict(x_test)\n",
    "\n",
    "y_pred = scaler_pred.inverse_transform(y_pred_scaled)\n",
    "y_test_unscaled = scaler_pred.inverse_transform(y_test.reshape(-1, 1))\n",
    "\n",
    "R2 = r2_score(y_test_unscaled, y_pred)\n",
    "print(f'R2: {np.round(R2, 3)}')\n",
    "\n",
    "MAE = mean_absolute_error(y_test_unscaled, y_pred)\n",
    "print(f'Median Absolute Error (MAE): {np.round(MAE, 2)}')\n",
    "\n",
    "MAPE = np.mean((np.abs(np.subtract(y_test_unscaled, y_pred)/ y_test_unscaled))) * 100\n",
    "print(f'Mean Absolute Percentage Error (MAPE): {np.round(MAPE, 2)} %')\n",
    "\n",
    "MDAPE = np.median((np.abs(np.subtract(y_test_unscaled, y_pred)/ y_test_unscaled)) ) * 100\n",
    "print(f'Median Absolute Percentage Error (MDAPE): {np.round(MDAPE, 2)} %')"
   ]
  },
  {
   "cell_type": "markdown",
   "metadata": {},
   "source": [
    "#### Çizgi grafiği, tahminin gerçek değerlere yakın olduğunu ancak kısmen ondan saptığını gösterir. Gerçek değerler ve tahminler arasındaki sapmalara artıklar denir. Bizim modumuz için, bunlar en çok artan piyasa oynaklığının olduğu dönemlerde ve en az da istikrarlı piyasa hareketinin olduğu dönemlerde önemli görünmektedir, bu mantıklıdır çünkü ani hareketlerin genellikle tahmin edilmesi daha zordur."
   ]
  },
  {
   "cell_type": "code",
   "execution_count": 50,
   "metadata": {},
   "outputs": [
    {
     "data": {
      "image/png": "[encoded data removed]",
      "text/plain": [
       "<Figure size 1152x576 with 1 Axes>"
      ]
     },
     "metadata": {
      "needs_background": "light"
     },
     "output_type": "display_data"
    }
   ],
   "source": [
    "# Tarihin görüntülendiği tarih\n",
    "display_start_date = \"2019-01-01\" \n",
    "\n",
    "# Geçerli ve tahmini fiyatlar arasındaki fark\n",
    "train = pd.DataFrame(data_filtered_ext['Close'][:train_data_len + 1]).rename(columns={'Close': 'y_train'})\n",
    "valid = pd.DataFrame(data_filtered_ext['Close'][train_data_len:]).rename(columns={'Close': 'y_test'})\n",
    "valid.insert(1, \"y_pred\", y_pred, True)\n",
    "valid.insert(1, \"residuals\", valid[\"y_pred\"] - valid[\"y_test\"], True)\n",
    "df_union = pd.concat([train, valid])\n",
    "\n",
    "# Daha yakın bir zaman dilimine yakınlaştırın\n",
    "df_union_zoom = df_union[df_union.index > display_start_date]\n",
    "\n",
    "fig, ax1 = plt.subplots(figsize=(16, 8))\n",
    "plt.title(\"y_pred vs y_test\")\n",
    "plt.ylabel(stockname, fontsize=18)\n",
    "sns.set_palette([\"#090364\", \"#1960EF\", \"#EF5919\"])\n",
    "sns.lineplot(data=df_union_zoom[['y_pred', 'y_train', 'y_test']], linewidth=1.0, dashes=False, ax=ax1)\n",
    "\n",
    "# Farkların grafiği\n",
    "df_sub = [\"#2BC97A\" if x > 0 else \"#C92B2B\" for x in df_union_zoom[\"residuals\"].dropna()]\n",
    "ax1.bar(height=df_union_zoom['residuals'].dropna(), x=df_union_zoom['residuals'].dropna().index, width=3, label='residuals', color=df_sub)\n",
    "plt.legend()\n",
    "plt.show()"
   ]
  },
  {
   "cell_type": "code",
   "execution_count": 51,
   "metadata": {},
   "outputs": [
    {
     "name": "stdout",
     "output_type": "stream",
     "text": [
      "1/1 [==============================] - 0s 28ms/step\n",
      "The close price for Turkish Airlines at 2023-02-05 was 142.7\n",
      "The predicted close price is 131.08999633789062 (-8.86%)\n"
     ]
    }
   ],
   "source": [
    "df_temp = df[-sequence_length:]\n",
    "new_df = df_temp.filter(FEATURES)\n",
    "\n",
    "N = sequence_length\n",
    "\n",
    "# Son N günlük kapanış fiyatı değerlerini alın ve verileri 0 ile 1 arasında değerler olacak şekilde ölçeklendirin\n",
    "last_N_days = new_df[-sequence_length:].values\n",
    "last_N_days_scaled = scaler.transform(last_N_days)\n",
    "\n",
    "# Boş bir liste oluşturun ve son N günü ekleyin\n",
    "X_test_new = []\n",
    "X_test_new.append(last_N_days_scaled)\n",
    "\n",
    "# X_test veri kümesini numpy dizisine dönüştürün ve verileri tekrar eski haline çevirin\n",
    "pred_price_scaled = model.predict(np.array(X_test_new))\n",
    "pred_price_unscaled = scaler_pred.inverse_transform(pred_price_scaled.reshape(-1, 1))\n",
    "\n",
    "# Bir sonraki gün için son fiyatı ve tahmini fiyatı yazdırın\n",
    "price_today = np.round(new_df['Close'][-1], 2)\n",
    "predicted_price = np.round(pred_price_unscaled.ravel()[0], 2)\n",
    "change_percent = np.round(100 - (price_today * 100)/predicted_price, 2)\n",
    "\n",
    "plus = '+'; minus = ''\n",
    "print(f'The close price for {stockname} at {end_date} was {price_today}')\n",
    "print(f'The predicted close price is {predicted_price} ({plus if change_percent > 0 else minus}{change_percent}%)')"
   ]
  },
  {
   "cell_type": "markdown",
   "metadata": {},
   "source": [
    "## Hidden Layer + Neuron"
   ]
  },
  {
   "cell_type": "code",
   "execution_count": 52,
   "metadata": {
    "tags": []
   },
   "outputs": [
    {
     "name": "stdout",
     "output_type": "stream",
     "text": [
      "(2636, 64, 5) (2636,)\n",
      "(675, 64, 5) (675,)\n",
      "0.01019127367921512\n",
      "0.01019127367921512\n"
     ]
    }
   ],
   "source": [
    "sequence_length = 64\n",
    "\n",
    "index_Close = data.columns.get_loc(\"Close\")\n",
    "\n",
    "# Verileri train test olarak ayırın.\n",
    "# Verilerin %80 ini eğitim için kullanacağız.\n",
    "train_data_len = math.ceil(np_data_scaled.shape[0] * 0.8)\n",
    "\n",
    "train_data = np_data_scaled[0:train_data_len, :]\n",
    "test_data = np_data_scaled[train_data_len - sequence_length:, :]\n",
    "\n",
    "# Model için verileri bu biçime dönüştürün : [samples, time steps, features] \n",
    "def partition_dataset(sequence_length, data):\n",
    "    x, y = [], []\n",
    "    data_len = data.shape[0]\n",
    "    for i in range(sequence_length, data_len):\n",
    "        x.append(data[i-sequence_length:i,:]) \n",
    "        y.append(data[i, index_Close]) \n",
    "\n",
    "    # Sonra bunları numpy array'e dönüştür.    \n",
    "    x = np.array(x)\n",
    "    y = np.array(y)\n",
    "    return x, y\n",
    "\n",
    "x_train, y_train = partition_dataset(sequence_length, train_data)\n",
    "x_test, y_test = partition_dataset(sequence_length, test_data)\n",
    "\n",
    "print(x_train.shape, y_train.shape)\n",
    "print(x_test.shape, y_test.shape)\n",
    "\n",
    "# İkinci girdi örneğinin son kapanış fiyatı ilk tahmin değerine eşit olmalıdır.\n",
    "print(x_train[1][sequence_length-1][index_Close])\n",
    "print(y_train[0])"
   ]
  },
  {
   "cell_type": "code",
   "execution_count": 53,
   "metadata": {},
   "outputs": [
    {
     "data": {
      "text/plain": [
       "(2700, 5)"
      ]
     },
     "execution_count": 53,
     "metadata": {},
     "output_type": "execute_result"
    }
   ],
   "source": [
    "train_data.shape"
   ]
  },
  {
   "cell_type": "code",
   "execution_count": 55,
   "metadata": {},
   "outputs": [
    {
     "name": "stdout",
     "output_type": "stream",
     "text": [
      "320 64 5\n",
      "Model: \"sequential_5\"\n",
      "_________________________________________________________________\n",
      " Layer (type)                Output Shape              Param #   \n",
      "=================================================================\n",
      " gru_7 (GRU)                 (None, 64, 320)           313920    \n",
      "                                                                 \n",
      " gru_8 (GRU)                 (None, 64, 160)           231360    \n",
      "                                                                 \n",
      " gru_9 (GRU)                 (None, 64, 80)            58080     \n",
      "                                                                 \n",
      " gru_10 (GRU)                (None, 40)                14640     \n",
      "                                                                 \n",
      " dense_8 (Dense)             (None, 5)                 205       \n",
      "                                                                 \n",
      " dense_9 (Dense)             (None, 1)                 6         \n",
      "                                                                 \n",
      "=================================================================\n",
      "Total params: 618,211\n",
      "Trainable params: 618,211\n",
      "Non-trainable params: 0\n",
      "_________________________________________________________________\n"
     ]
    }
   ],
   "source": [
    "model=Sequential()\n",
    "\n",
    "n_neurons = x_train.shape[1] * x_train.shape[2]\n",
    "print(n_neurons, x_train.shape[1], x_train.shape[2])\n",
    "\n",
    "model.add(GRU(n_neurons,return_sequences=True,input_shape=(x_train.shape[1], x_train.shape[2])))\n",
    "\n",
    "model.add(GRU(160,return_sequences=True,input_shape=(x_train.shape[1], x_train.shape[2])))\n",
    "\n",
    "model.add(GRU(80,return_sequences=True,input_shape=(x_train.shape[1], x_train.shape[2])))\n",
    "\n",
    "model.add(GRU(40,return_sequences=False))\n",
    "\n",
    "model.add(Dense(5))\n",
    "\n",
    "model.add(Dense(1))\n",
    "\n",
    "model.compile(loss='mean_squared_error',optimizer='adam')\n",
    "\n",
    "model.summary()"
   ]
  },
  {
   "cell_type": "code",
   "execution_count": 56,
   "metadata": {},
   "outputs": [],
   "source": [
    "callbacks = EarlyStopping(monitor = \"loss\",patience = 6,verbose = 1)"
   ]
  },
  {
   "cell_type": "code",
   "execution_count": 57,
   "metadata": {},
   "outputs": [
    {
     "name": "stdout",
     "output_type": "stream",
     "text": [
      "Epoch 1/50\n",
      "83/83 [==============================] - 34s 326ms/step - loss: 5.7002e-04 - val_loss: 0.0017\n",
      "Epoch 2/50\n",
      "83/83 [==============================] - 25s 302ms/step - loss: 9.5925e-06 - val_loss: 0.0012\n",
      "Epoch 3/50\n",
      "83/83 [==============================] - 26s 319ms/step - loss: 9.4425e-06 - val_loss: 7.9601e-04\n",
      "Epoch 4/50\n",
      "83/83 [==============================] - 28s 339ms/step - loss: 9.6042e-06 - val_loss: 7.5680e-04\n",
      "Epoch 5/50\n",
      "83/83 [==============================] - 27s 329ms/step - loss: 1.0069e-05 - val_loss: 6.3737e-04\n",
      "Epoch 6/50\n",
      "83/83 [==============================] - 26s 319ms/step - loss: 7.9477e-06 - val_loss: 8.8996e-04\n",
      "Epoch 7/50\n",
      "83/83 [==============================] - 26s 309ms/step - loss: 7.8687e-06 - val_loss: 0.0011\n",
      "Epoch 8/50\n",
      "83/83 [==============================] - 25s 304ms/step - loss: 7.5266e-06 - val_loss: 9.7738e-04\n",
      "Epoch 9/50\n",
      "83/83 [==============================] - 25s 304ms/step - loss: 7.2813e-06 - val_loss: 4.4746e-04\n",
      "Epoch 10/50\n",
      "83/83 [==============================] - 25s 299ms/step - loss: 6.4720e-06 - val_loss: 5.5573e-04\n",
      "Epoch 11/50\n",
      "83/83 [==============================] - 25s 306ms/step - loss: 6.5768e-06 - val_loss: 4.3980e-04\n",
      "Epoch 12/50\n",
      "83/83 [==============================] - 26s 315ms/step - loss: 7.2043e-06 - val_loss: 8.1995e-04\n",
      "Epoch 13/50\n",
      "83/83 [==============================] - 26s 308ms/step - loss: 6.4243e-06 - val_loss: 9.6168e-04\n",
      "Epoch 14/50\n",
      "83/83 [==============================] - 26s 313ms/step - loss: 6.0292e-06 - val_loss: 7.2905e-04\n",
      "Epoch 15/50\n",
      "83/83 [==============================] - 25s 305ms/step - loss: 5.9790e-06 - val_loss: 7.3555e-04\n",
      "Epoch 16/50\n",
      "83/83 [==============================] - 26s 312ms/step - loss: 5.5375e-06 - val_loss: 7.9653e-04\n",
      "Epoch 17/50\n",
      "83/83 [==============================] - 26s 311ms/step - loss: 5.7243e-06 - val_loss: 5.1440e-04\n",
      "Epoch 18/50\n",
      "83/83 [==============================] - 26s 311ms/step - loss: 5.8741e-06 - val_loss: 3.5365e-04\n",
      "Epoch 19/50\n",
      "83/83 [==============================] - 26s 317ms/step - loss: 6.2760e-06 - val_loss: 4.6734e-04\n",
      "Epoch 20/50\n",
      "83/83 [==============================] - 26s 312ms/step - loss: 5.1983e-06 - val_loss: 3.8832e-04\n",
      "Epoch 21/50\n",
      "83/83 [==============================] - 26s 315ms/step - loss: 4.9124e-06 - val_loss: 7.6708e-04\n",
      "Epoch 22/50\n",
      "83/83 [==============================] - 26s 318ms/step - loss: 4.5976e-06 - val_loss: 7.4786e-04\n",
      "Epoch 23/50\n",
      "83/83 [==============================] - 26s 315ms/step - loss: 5.1452e-06 - val_loss: 2.0941e-04\n",
      "Epoch 24/50\n",
      "83/83 [==============================] - 26s 318ms/step - loss: 4.8500e-06 - val_loss: 0.0013\n",
      "Epoch 25/50\n",
      "83/83 [==============================] - 26s 318ms/step - loss: 7.3801e-06 - val_loss: 5.9412e-04\n",
      "Epoch 26/50\n",
      "83/83 [==============================] - 26s 314ms/step - loss: 4.2498e-06 - val_loss: 3.7562e-04\n",
      "Epoch 27/50\n",
      "83/83 [==============================] - 27s 322ms/step - loss: 5.6874e-06 - val_loss: 4.7434e-04\n",
      "Epoch 28/50\n",
      "83/83 [==============================] - 27s 323ms/step - loss: 5.7938e-06 - val_loss: 4.1613e-04\n",
      "Epoch 29/50\n",
      "83/83 [==============================] - 27s 330ms/step - loss: 4.8013e-06 - val_loss: 6.6470e-04\n",
      "Epoch 30/50\n",
      "83/83 [==============================] - 28s 339ms/step - loss: 4.4755e-06 - val_loss: 3.0413e-04\n",
      "Epoch 31/50\n",
      "83/83 [==============================] - 27s 326ms/step - loss: 4.5386e-06 - val_loss: 5.9940e-04\n",
      "Epoch 32/50\n",
      "83/83 [==============================] - 27s 320ms/step - loss: 3.9648e-06 - val_loss: 7.6654e-04\n",
      "Epoch 33/50\n",
      "83/83 [==============================] - 26s 316ms/step - loss: 3.7131e-06 - val_loss: 5.4278e-04\n",
      "Epoch 34/50\n",
      "83/83 [==============================] - 26s 318ms/step - loss: 4.9590e-06 - val_loss: 5.9096e-04\n",
      "Epoch 35/50\n",
      "83/83 [==============================] - 26s 317ms/step - loss: 4.9250e-06 - val_loss: 7.3062e-04\n",
      "Epoch 36/50\n",
      "83/83 [==============================] - 27s 322ms/step - loss: 4.3999e-06 - val_loss: 9.1896e-04\n",
      "Epoch 37/50\n",
      "83/83 [==============================] - 27s 322ms/step - loss: 4.3454e-06 - val_loss: 4.5560e-04\n",
      "Epoch 38/50\n",
      "83/83 [==============================] - 26s 318ms/step - loss: 4.4887e-06 - val_loss: 0.0011\n",
      "Epoch 39/50\n",
      "83/83 [==============================] - 26s 317ms/step - loss: 4.7986e-06 - val_loss: 0.0013\n",
      "Epoch 39: early stopping\n"
     ]
    }
   ],
   "source": [
    "epochs = 50\n",
    "batch_size = 32\n",
    "history = model.fit(x_train, y_train, \n",
    "                    batch_size=batch_size, \n",
    "                    epochs=epochs,\n",
    "                    validation_data=(x_test, y_test),\n",
    "                    callbacks = [callbacks]                 \n",
    "                   )\n",
    "    "
   ]
  },
  {
   "cell_type": "markdown",
   "metadata": {},
   "source": [
    "#### Burada tahmin başarı anlamında bir kayıp eğrisi çizdiriyoruz."
   ]
  },
  {
   "cell_type": "code",
   "execution_count": 58,
   "metadata": {},
   "outputs": [
    {
     "data": {
      "image/png": "[encoded data removed]",
      "text/plain": [
       "<Figure size 1152x360 with 1 Axes>"
      ]
     },
     "metadata": {
      "needs_background": "light"
     },
     "output_type": "display_data"
    }
   ],
   "source": [
    "fig, ax = plt.subplots(figsize=(16, 5), sharex=True)\n",
    "sns.lineplot(data=history.history[\"loss\"])\n",
    "plt.title(\"Model loss\")\n",
    "plt.ylabel(\"Loss\")\n",
    "plt.xlabel(\"Epoch\")\n",
    "ax.xaxis.set_major_locator(plt.MaxNLocator(epochs))\n",
    "plt.legend([\"Train\", \"Test\"], loc=\"upper left\")\n",
    "plt.grid()\n",
    "plt.show()"
   ]
  },
  {
   "cell_type": "markdown",
   "metadata": {
    "tags": []
   },
   "source": [
    "#### Sinir ağı regresyon modelini eğittikten sonra performansını ölçmek istiyoruz. Önce tahminlerin ölçeklemesini tersine çevirmeliyiz. Daha sonra MAE, MAPE ve MDAPE gibi farklı hata metriklerini hesaplıyoruz. Ardından, bir çizgi grafiğindeki tahminleri gerçek değerlerle karşılaştıracağız."
   ]
  },
  {
   "cell_type": "code",
   "execution_count": 59,
   "metadata": {},
   "outputs": [
    {
     "name": "stdout",
     "output_type": "stream",
     "text": [
      "22/22 [==============================] - 3s 67ms/step\n",
      "R2: 0.979\n",
      "Median Absolute Error (MAE): 2.67\n",
      "Mean Absolute Percentage Error (MAPE): 4.41 %\n",
      "Median Absolute Percentage Error (MDAPE): 3.32 %\n"
     ]
    }
   ],
   "source": [
    "y_pred_scaled = model.predict(x_test)\n",
    "\n",
    "y_pred = scaler_pred.inverse_transform(y_pred_scaled)\n",
    "y_test_unscaled = scaler_pred.inverse_transform(y_test.reshape(-1, 1))\n",
    "\n",
    "R2 = r2_score(y_test_unscaled, y_pred)\n",
    "print(f'R2: {np.round(R2, 3)}')\n",
    "\n",
    "MAE = mean_absolute_error(y_test_unscaled, y_pred)\n",
    "print(f'Median Absolute Error (MAE): {np.round(MAE, 2)}')\n",
    "\n",
    "MAPE = np.mean((np.abs(np.subtract(y_test_unscaled, y_pred)/ y_test_unscaled))) * 100\n",
    "print(f'Mean Absolute Percentage Error (MAPE): {np.round(MAPE, 2)} %')\n",
    "\n",
    "MDAPE = np.median((np.abs(np.subtract(y_test_unscaled, y_pred)/ y_test_unscaled)) ) * 100\n",
    "print(f'Median Absolute Percentage Error (MDAPE): {np.round(MDAPE, 2)} %')"
   ]
  },
  {
   "cell_type": "markdown",
   "metadata": {},
   "source": [
    "#### Çizgi grafiği, tahminin gerçek değerlere yakın olduğunu ancak kısmen ondan saptığını gösterir. Gerçek değerler ve tahminler arasındaki sapmalara artıklar denir. Bizim modumuz için, bunlar en çok artan piyasa oynaklığının olduğu dönemlerde ve en az da istikrarlı piyasa hareketinin olduğu dönemlerde önemli görünmektedir, bu mantıklıdır çünkü ani hareketlerin genellikle tahmin edilmesi daha zordur."
   ]
  },
  {
   "cell_type": "code",
   "execution_count": 60,
   "metadata": {},
   "outputs": [
    {
     "data": {
      "image/png": "[encoded data removed]",
      "text/plain": [
       "<Figure size 1152x576 with 1 Axes>"
      ]
     },
     "metadata": {
      "needs_background": "light"
     },
     "output_type": "display_data"
    }
   ],
   "source": [
    "# Tarihin görüntülendiği tarih\n",
    "display_start_date = \"2019-01-01\" \n",
    "\n",
    "# Geçerli ve tahmini fiyatlar arasındaki fark\n",
    "train = pd.DataFrame(data_filtered_ext['Close'][:train_data_len + 1]).rename(columns={'Close': 'y_train'})\n",
    "valid = pd.DataFrame(data_filtered_ext['Close'][train_data_len:]).rename(columns={'Close': 'y_test'})\n",
    "valid.insert(1, \"y_pred\", y_pred, True)\n",
    "valid.insert(1, \"residuals\", valid[\"y_pred\"] - valid[\"y_test\"], True)\n",
    "df_union = pd.concat([train, valid])\n",
    "\n",
    "# Daha yakın bir zaman dilimine yakınlaştırın\n",
    "df_union_zoom = df_union[df_union.index > display_start_date]\n",
    "\n",
    "fig, ax1 = plt.subplots(figsize=(16, 8))\n",
    "plt.title(\"y_pred vs y_test\")\n",
    "plt.ylabel(stockname, fontsize=18)\n",
    "sns.set_palette([\"#090364\", \"#1960EF\", \"#EF5919\"])\n",
    "sns.lineplot(data=df_union_zoom[['y_pred', 'y_train', 'y_test']], linewidth=1.0, dashes=False, ax=ax1)\n",
    "\n",
    "# Farkların grafiği\n",
    "df_sub = [\"#2BC97A\" if x > 0 else \"#C92B2B\" for x in df_union_zoom[\"residuals\"].dropna()]\n",
    "ax1.bar(height=df_union_zoom['residuals'].dropna(), x=df_union_zoom['residuals'].dropna().index, width=3, label='residuals', color=df_sub)\n",
    "plt.legend()\n",
    "plt.show()"
   ]
  },
  {
   "cell_type": "code",
   "execution_count": 61,
   "metadata": {},
   "outputs": [
    {
     "name": "stdout",
     "output_type": "stream",
     "text": [
      "1/1 [==============================] - 0s 33ms/step\n",
      "The close price for Turkish Airlines at 2023-02-05 was 142.7\n",
      "The predicted close price is 123.16000366210938 (-15.87%)\n"
     ]
    }
   ],
   "source": [
    "df_temp = df[-sequence_length:]\n",
    "new_df = df_temp.filter(FEATURES)\n",
    "\n",
    "N = sequence_length\n",
    "\n",
    "# Son N günlük kapanış fiyatı değerlerini alın ve verileri 0 ile 1 arasında değerler olacak şekilde ölçeklendirin\n",
    "last_N_days = new_df[-sequence_length:].values\n",
    "last_N_days_scaled = scaler.transform(last_N_days)\n",
    "\n",
    "# Boş bir liste oluşturun ve son N günü ekleyin\n",
    "X_test_new = []\n",
    "X_test_new.append(last_N_days_scaled)\n",
    "\n",
    "# X_test veri kümesini numpy dizisine dönüştürün ve verileri tekrar eski haline çevirin\n",
    "pred_price_scaled = model.predict(np.array(X_test_new))\n",
    "pred_price_unscaled = scaler_pred.inverse_transform(pred_price_scaled.reshape(-1, 1))\n",
    "\n",
    "# Bir sonraki gün için son fiyatı ve tahmini fiyatı yazdırın\n",
    "price_today = np.round(new_df['Close'][-1], 2)\n",
    "predicted_price = np.round(pred_price_unscaled.ravel()[0], 2)\n",
    "change_percent = np.round(100 - (price_today * 100)/predicted_price, 2)\n",
    "\n",
    "plus = '+'; minus = ''\n",
    "print(f'The close price for {stockname} at {end_date} was {price_today}')\n",
    "print(f'The predicted close price is {predicted_price} ({plus if change_percent > 0 else minus}{change_percent}%)')"
   ]
  },
  {
   "cell_type": "code",
   "execution_count": null,
   "metadata": {},
   "outputs": [],
   "source": []
  },
  {
   "cell_type": "code",
   "execution_count": 69,
   "metadata": {
    "_uuid": "a5aa8587cc5b6bce6b75d8d9ffb7e8649f3bacde"
   },
   "outputs": [],
   "source": [
    "model = Sequential()\n",
    "# First GRU layer with Dropout regularisation\n",
    "model.add(GRU(units=50, return_sequences=True, input_shape=(x_train.shape[1], x_train.shape[2]), activation='tanh'))\n",
    "model.add(Dropout(0.2))\n",
    "# Second GRU layer\n",
    "model.add(GRU(units=50, return_sequences=True, input_shape=(x_train.shape[1], x_train.shape[2]), activation='tanh'))\n",
    "model.add(Dropout(0.2))\n",
    "# Third GRU layer\n",
    "model.add(GRU(units=50, return_sequences=True, input_shape=(x_train.shape[1], x_train.shape[2]), activation='tanh'))\n",
    "model.add(Dropout(0.2))\n",
    "# Fourth GRU layer\n",
    "model.add(GRU(units=50, activation='tanh'))\n",
    "model.add(Dropout(0.2))\n",
    "# The output layer\n",
    "model.add(Dense(units=1))"
   ]
  }
 ],
 "metadata": {
  "kernelspec": {
   "display_name": "Python 3 (ipykernel)",
   "language": "python",
   "name": "python3"
  },
  "language_info": {
   "codemirror_mode": {
    "name": "ipython",
    "version": 3
   },
   "file_extension": ".py",
   "mimetype": "text/x-python",
   "name": "python",
   "nbconvert_exporter": "python",
   "pygments_lexer": "ipython3",
   "version": "3.9.12"
  }
 },
 "nbformat": 4,
 "nbformat_minor": 4
}
