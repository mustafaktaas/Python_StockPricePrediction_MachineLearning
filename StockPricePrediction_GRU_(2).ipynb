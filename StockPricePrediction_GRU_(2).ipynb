{
  "cells": [
    {
      "cell_type": "markdown",
      "metadata": {
        "id": "view-in-github",
        "colab_type": "text"
      },
      "source": [
        "<a href=\"https://colab.research.google.com/github/mustafaktaas/Python_StockPricePrediction_MachineLearning/blob/main/StockPricePrediction_GRU_(2).ipynb\" target=\"_parent\"><img src=\"https://colab.research.google.com/assets/colab-badge.svg\" alt=\"Open In Colab\"/></a>"
      ]
    },
    {
      "cell_type": "markdown",
      "metadata": {
        "id": "HvEwRmkFqc4d"
      },
      "source": [
        "# Stock Price Prediction with GRU"
      ]
    },
    {
      "cell_type": "code",
      "execution_count": 2,
      "metadata": {
        "tags": [],
        "colab": {
          "base_uri": "https://localhost:8080/",
          "height": 256
        },
        "id": "croNLK5fqc4e",
        "outputId": "06ca1705-1cd7-4743-a001-1c4a34923464"
      },
      "outputs": [
        {
          "output_type": "stream",
          "name": "stdout",
          "text": [
            "\r[*********************100%***********************]  1 of 1 completed\n"
          ]
        },
        {
          "output_type": "execute_result",
          "data": {
            "text/plain": [
              "                Open      High       Low     Close  Adj Close   Volume\n",
              "Date                                                                  \n",
              "2010-01-01  4.250000  4.250000  4.250000  4.250000   1.889981        0\n",
              "2010-01-04  4.250000  4.357142  4.214285  4.321428   1.921746  5387809\n",
              "2010-01-05  4.464285  4.571428  4.428571  4.500000   2.001157  9854194\n",
              "2010-01-06  4.500000  4.535714  4.428571  4.500000   2.001157  2408007\n",
              "2010-01-07  4.464285  4.535714  4.428571  4.500000   2.001157  3059357"
            ],
            "text/html": [
              "\n",
              "  <div id=\"df-184b4e5b-3274-4ac6-a5ff-79a76958c854\">\n",
              "    <div class=\"colab-df-container\">\n",
              "      <div>\n",
              "<style scoped>\n",
              "    .dataframe tbody tr th:only-of-type {\n",
              "        vertical-align: middle;\n",
              "    }\n",
              "\n",
              "    .dataframe tbody tr th {\n",
              "        vertical-align: top;\n",
              "    }\n",
              "\n",
              "    .dataframe thead th {\n",
              "        text-align: right;\n",
              "    }\n",
              "</style>\n",
              "<table border=\"1\" class=\"dataframe\">\n",
              "  <thead>\n",
              "    <tr style=\"text-align: right;\">\n",
              "      <th></th>\n",
              "      <th>Open</th>\n",
              "      <th>High</th>\n",
              "      <th>Low</th>\n",
              "      <th>Close</th>\n",
              "      <th>Adj Close</th>\n",
              "      <th>Volume</th>\n",
              "    </tr>\n",
              "    <tr>\n",
              "      <th>Date</th>\n",
              "      <th></th>\n",
              "      <th></th>\n",
              "      <th></th>\n",
              "      <th></th>\n",
              "      <th></th>\n",
              "      <th></th>\n",
              "    </tr>\n",
              "  </thead>\n",
              "  <tbody>\n",
              "    <tr>\n",
              "      <th>2010-01-01</th>\n",
              "      <td>4.250000</td>\n",
              "      <td>4.250000</td>\n",
              "      <td>4.250000</td>\n",
              "      <td>4.250000</td>\n",
              "      <td>1.889981</td>\n",
              "      <td>0</td>\n",
              "    </tr>\n",
              "    <tr>\n",
              "      <th>2010-01-04</th>\n",
              "      <td>4.250000</td>\n",
              "      <td>4.357142</td>\n",
              "      <td>4.214285</td>\n",
              "      <td>4.321428</td>\n",
              "      <td>1.921746</td>\n",
              "      <td>5387809</td>\n",
              "    </tr>\n",
              "    <tr>\n",
              "      <th>2010-01-05</th>\n",
              "      <td>4.464285</td>\n",
              "      <td>4.571428</td>\n",
              "      <td>4.428571</td>\n",
              "      <td>4.500000</td>\n",
              "      <td>2.001157</td>\n",
              "      <td>9854194</td>\n",
              "    </tr>\n",
              "    <tr>\n",
              "      <th>2010-01-06</th>\n",
              "      <td>4.500000</td>\n",
              "      <td>4.535714</td>\n",
              "      <td>4.428571</td>\n",
              "      <td>4.500000</td>\n",
              "      <td>2.001157</td>\n",
              "      <td>2408007</td>\n",
              "    </tr>\n",
              "    <tr>\n",
              "      <th>2010-01-07</th>\n",
              "      <td>4.464285</td>\n",
              "      <td>4.535714</td>\n",
              "      <td>4.428571</td>\n",
              "      <td>4.500000</td>\n",
              "      <td>2.001157</td>\n",
              "      <td>3059357</td>\n",
              "    </tr>\n",
              "  </tbody>\n",
              "</table>\n",
              "</div>\n",
              "      <button class=\"colab-df-convert\" onclick=\"convertToInteractive('df-184b4e5b-3274-4ac6-a5ff-79a76958c854')\"\n",
              "              title=\"Convert this dataframe to an interactive table.\"\n",
              "              style=\"display:none;\">\n",
              "        \n",
              "  <svg xmlns=\"http://www.w3.org/2000/svg\" height=\"24px\"viewBox=\"0 0 24 24\"\n",
              "       width=\"24px\">\n",
              "    <path d=\"M0 0h24v24H0V0z\" fill=\"none\"/>\n",
              "    <path d=\"M18.56 5.44l.94 2.06.94-2.06 2.06-.94-2.06-.94-.94-2.06-.94 2.06-2.06.94zm-11 1L8.5 8.5l.94-2.06 2.06-.94-2.06-.94L8.5 2.5l-.94 2.06-2.06.94zm10 10l.94 2.06.94-2.06 2.06-.94-2.06-.94-.94-2.06-.94 2.06-2.06.94z\"/><path d=\"M17.41 7.96l-1.37-1.37c-.4-.4-.92-.59-1.43-.59-.52 0-1.04.2-1.43.59L10.3 9.45l-7.72 7.72c-.78.78-.78 2.05 0 2.83L4 21.41c.39.39.9.59 1.41.59.51 0 1.02-.2 1.41-.59l7.78-7.78 2.81-2.81c.8-.78.8-2.07 0-2.86zM5.41 20L4 18.59l7.72-7.72 1.47 1.35L5.41 20z\"/>\n",
              "  </svg>\n",
              "      </button>\n",
              "      \n",
              "  <style>\n",
              "    .colab-df-container {\n",
              "      display:flex;\n",
              "      flex-wrap:wrap;\n",
              "      gap: 12px;\n",
              "    }\n",
              "\n",
              "    .colab-df-convert {\n",
              "      background-color: #E8F0FE;\n",
              "      border: none;\n",
              "      border-radius: 50%;\n",
              "      cursor: pointer;\n",
              "      display: none;\n",
              "      fill: #1967D2;\n",
              "      height: 32px;\n",
              "      padding: 0 0 0 0;\n",
              "      width: 32px;\n",
              "    }\n",
              "\n",
              "    .colab-df-convert:hover {\n",
              "      background-color: #E2EBFA;\n",
              "      box-shadow: 0px 1px 2px rgba(60, 64, 67, 0.3), 0px 1px 3px 1px rgba(60, 64, 67, 0.15);\n",
              "      fill: #174EA6;\n",
              "    }\n",
              "\n",
              "    [theme=dark] .colab-df-convert {\n",
              "      background-color: #3B4455;\n",
              "      fill: #D2E3FC;\n",
              "    }\n",
              "\n",
              "    [theme=dark] .colab-df-convert:hover {\n",
              "      background-color: #434B5C;\n",
              "      box-shadow: 0px 1px 3px 1px rgba(0, 0, 0, 0.15);\n",
              "      filter: drop-shadow(0px 1px 2px rgba(0, 0, 0, 0.3));\n",
              "      fill: #FFFFFF;\n",
              "    }\n",
              "  </style>\n",
              "\n",
              "      <script>\n",
              "        const buttonEl =\n",
              "          document.querySelector('#df-184b4e5b-3274-4ac6-a5ff-79a76958c854 button.colab-df-convert');\n",
              "        buttonEl.style.display =\n",
              "          google.colab.kernel.accessAllowed ? 'block' : 'none';\n",
              "\n",
              "        async function convertToInteractive(key) {\n",
              "          const element = document.querySelector('#df-184b4e5b-3274-4ac6-a5ff-79a76958c854');\n",
              "          const dataTable =\n",
              "            await google.colab.kernel.invokeFunction('convertToInteractive',\n",
              "                                                     [key], {});\n",
              "          if (!dataTable) return;\n",
              "\n",
              "          const docLinkHtml = 'Like what you see? Visit the ' +\n",
              "            '<a target=\"_blank\" href=https://colab.research.google.com/notebooks/data_table.ipynb>data table notebook</a>'\n",
              "            + ' to learn more about interactive tables.';\n",
              "          element.innerHTML = '';\n",
              "          dataTable['output_type'] = 'display_data';\n",
              "          await google.colab.output.renderOutput(dataTable, element);\n",
              "          const docLink = document.createElement('div');\n",
              "          docLink.innerHTML = docLinkHtml;\n",
              "          element.appendChild(docLink);\n",
              "        }\n",
              "      </script>\n",
              "    </div>\n",
              "  </div>\n",
              "  "
            ]
          },
          "metadata": {},
          "execution_count": 2
        }
      ],
      "source": [
        "import math \n",
        "import numpy as np \n",
        "import pandas as pd \n",
        "from datetime import date, timedelta, datetime\n",
        "from pandas.plotting import register_matplotlib_converters\n",
        "import matplotlib.pyplot as plt \n",
        "import matplotlib.dates as mdates \n",
        "import tensorflow as tf\n",
        "from sklearn.metrics import mean_absolute_error, mean_squared_error, r2_score\n",
        "from tensorflow.keras import Sequential \n",
        "from tensorflow.keras.layers import LSTM, Dense, Dropout, BatchNormalization, GRU\n",
        "from tensorflow.keras.callbacks import EarlyStopping,ModelCheckpoint\n",
        "from sklearn.preprocessing import RobustScaler, MinMaxScaler \n",
        "import seaborn as sns \n",
        "\n",
        "end_date =  date.today().strftime(\"%Y-%m-%d\")\n",
        "start_date = '2010-01-01'\n",
        "\n",
        "stockname = 'Tupras'\n",
        "symbol = 'TUPRS.IS'\n",
        "\n",
        "import yfinance as yf \n",
        "df = yf.download(symbol, start=start_date, end=end_date)\n",
        "\n",
        "df.head()"
      ]
    },
    {
      "cell_type": "code",
      "source": [
        "df = df.drop(df.tail(3).index)"
      ],
      "metadata": {
        "id": "pOW2yr6bqkUV"
      },
      "execution_count": 3,
      "outputs": []
    },
    {
      "cell_type": "code",
      "source": [
        "df.tail(5)"
      ],
      "metadata": {
        "colab": {
          "base_uri": "https://localhost:8080/",
          "height": 237
        },
        "id": "a9qCMX_OqySG",
        "outputId": "5542a8b1-4464-4b95-e62d-dce75aca26f8"
      },
      "execution_count": 4,
      "outputs": [
        {
          "output_type": "execute_result",
          "data": {
            "text/plain": [
              "                 Open       High        Low      Close  Adj Close    Volume\n",
              "Date                                                                       \n",
              "2023-05-09  66.750000  67.400002  64.800003  65.199997  65.199997  22387077\n",
              "2023-05-10  65.300003  66.449997  64.699997  65.000000  65.000000  19602729\n",
              "2023-05-11  64.900002  71.500000  64.849998  71.500000  71.500000  54579075\n",
              "2023-05-12  71.750000  75.199997  69.699997  71.000000  71.000000  44790062\n",
              "2023-05-15  65.000000  69.050003  63.900002  64.199997  64.199997  34856015"
            ],
            "text/html": [
              "\n",
              "  <div id=\"df-11091532-4d70-497a-b9d1-80af35bb8a42\">\n",
              "    <div class=\"colab-df-container\">\n",
              "      <div>\n",
              "<style scoped>\n",
              "    .dataframe tbody tr th:only-of-type {\n",
              "        vertical-align: middle;\n",
              "    }\n",
              "\n",
              "    .dataframe tbody tr th {\n",
              "        vertical-align: top;\n",
              "    }\n",
              "\n",
              "    .dataframe thead th {\n",
              "        text-align: right;\n",
              "    }\n",
              "</style>\n",
              "<table border=\"1\" class=\"dataframe\">\n",
              "  <thead>\n",
              "    <tr style=\"text-align: right;\">\n",
              "      <th></th>\n",
              "      <th>Open</th>\n",
              "      <th>High</th>\n",
              "      <th>Low</th>\n",
              "      <th>Close</th>\n",
              "      <th>Adj Close</th>\n",
              "      <th>Volume</th>\n",
              "    </tr>\n",
              "    <tr>\n",
              "      <th>Date</th>\n",
              "      <th></th>\n",
              "      <th></th>\n",
              "      <th></th>\n",
              "      <th></th>\n",
              "      <th></th>\n",
              "      <th></th>\n",
              "    </tr>\n",
              "  </thead>\n",
              "  <tbody>\n",
              "    <tr>\n",
              "      <th>2023-05-09</th>\n",
              "      <td>66.750000</td>\n",
              "      <td>67.400002</td>\n",
              "      <td>64.800003</td>\n",
              "      <td>65.199997</td>\n",
              "      <td>65.199997</td>\n",
              "      <td>22387077</td>\n",
              "    </tr>\n",
              "    <tr>\n",
              "      <th>2023-05-10</th>\n",
              "      <td>65.300003</td>\n",
              "      <td>66.449997</td>\n",
              "      <td>64.699997</td>\n",
              "      <td>65.000000</td>\n",
              "      <td>65.000000</td>\n",
              "      <td>19602729</td>\n",
              "    </tr>\n",
              "    <tr>\n",
              "      <th>2023-05-11</th>\n",
              "      <td>64.900002</td>\n",
              "      <td>71.500000</td>\n",
              "      <td>64.849998</td>\n",
              "      <td>71.500000</td>\n",
              "      <td>71.500000</td>\n",
              "      <td>54579075</td>\n",
              "    </tr>\n",
              "    <tr>\n",
              "      <th>2023-05-12</th>\n",
              "      <td>71.750000</td>\n",
              "      <td>75.199997</td>\n",
              "      <td>69.699997</td>\n",
              "      <td>71.000000</td>\n",
              "      <td>71.000000</td>\n",
              "      <td>44790062</td>\n",
              "    </tr>\n",
              "    <tr>\n",
              "      <th>2023-05-15</th>\n",
              "      <td>65.000000</td>\n",
              "      <td>69.050003</td>\n",
              "      <td>63.900002</td>\n",
              "      <td>64.199997</td>\n",
              "      <td>64.199997</td>\n",
              "      <td>34856015</td>\n",
              "    </tr>\n",
              "  </tbody>\n",
              "</table>\n",
              "</div>\n",
              "      <button class=\"colab-df-convert\" onclick=\"convertToInteractive('df-11091532-4d70-497a-b9d1-80af35bb8a42')\"\n",
              "              title=\"Convert this dataframe to an interactive table.\"\n",
              "              style=\"display:none;\">\n",
              "        \n",
              "  <svg xmlns=\"http://www.w3.org/2000/svg\" height=\"24px\"viewBox=\"0 0 24 24\"\n",
              "       width=\"24px\">\n",
              "    <path d=\"M0 0h24v24H0V0z\" fill=\"none\"/>\n",
              "    <path d=\"M18.56 5.44l.94 2.06.94-2.06 2.06-.94-2.06-.94-.94-2.06-.94 2.06-2.06.94zm-11 1L8.5 8.5l.94-2.06 2.06-.94-2.06-.94L8.5 2.5l-.94 2.06-2.06.94zm10 10l.94 2.06.94-2.06 2.06-.94-2.06-.94-.94-2.06-.94 2.06-2.06.94z\"/><path d=\"M17.41 7.96l-1.37-1.37c-.4-.4-.92-.59-1.43-.59-.52 0-1.04.2-1.43.59L10.3 9.45l-7.72 7.72c-.78.78-.78 2.05 0 2.83L4 21.41c.39.39.9.59 1.41.59.51 0 1.02-.2 1.41-.59l7.78-7.78 2.81-2.81c.8-.78.8-2.07 0-2.86zM5.41 20L4 18.59l7.72-7.72 1.47 1.35L5.41 20z\"/>\n",
              "  </svg>\n",
              "      </button>\n",
              "      \n",
              "  <style>\n",
              "    .colab-df-container {\n",
              "      display:flex;\n",
              "      flex-wrap:wrap;\n",
              "      gap: 12px;\n",
              "    }\n",
              "\n",
              "    .colab-df-convert {\n",
              "      background-color: #E8F0FE;\n",
              "      border: none;\n",
              "      border-radius: 50%;\n",
              "      cursor: pointer;\n",
              "      display: none;\n",
              "      fill: #1967D2;\n",
              "      height: 32px;\n",
              "      padding: 0 0 0 0;\n",
              "      width: 32px;\n",
              "    }\n",
              "\n",
              "    .colab-df-convert:hover {\n",
              "      background-color: #E2EBFA;\n",
              "      box-shadow: 0px 1px 2px rgba(60, 64, 67, 0.3), 0px 1px 3px 1px rgba(60, 64, 67, 0.15);\n",
              "      fill: #174EA6;\n",
              "    }\n",
              "\n",
              "    [theme=dark] .colab-df-convert {\n",
              "      background-color: #3B4455;\n",
              "      fill: #D2E3FC;\n",
              "    }\n",
              "\n",
              "    [theme=dark] .colab-df-convert:hover {\n",
              "      background-color: #434B5C;\n",
              "      box-shadow: 0px 1px 3px 1px rgba(0, 0, 0, 0.15);\n",
              "      filter: drop-shadow(0px 1px 2px rgba(0, 0, 0, 0.3));\n",
              "      fill: #FFFFFF;\n",
              "    }\n",
              "  </style>\n",
              "\n",
              "      <script>\n",
              "        const buttonEl =\n",
              "          document.querySelector('#df-11091532-4d70-497a-b9d1-80af35bb8a42 button.colab-df-convert');\n",
              "        buttonEl.style.display =\n",
              "          google.colab.kernel.accessAllowed ? 'block' : 'none';\n",
              "\n",
              "        async function convertToInteractive(key) {\n",
              "          const element = document.querySelector('#df-11091532-4d70-497a-b9d1-80af35bb8a42');\n",
              "          const dataTable =\n",
              "            await google.colab.kernel.invokeFunction('convertToInteractive',\n",
              "                                                     [key], {});\n",
              "          if (!dataTable) return;\n",
              "\n",
              "          const docLinkHtml = 'Like what you see? Visit the ' +\n",
              "            '<a target=\"_blank\" href=https://colab.research.google.com/notebooks/data_table.ipynb>data table notebook</a>'\n",
              "            + ' to learn more about interactive tables.';\n",
              "          element.innerHTML = '';\n",
              "          dataTable['output_type'] = 'display_data';\n",
              "          await google.colab.output.renderOutput(dataTable, element);\n",
              "          const docLink = document.createElement('div');\n",
              "          docLink.innerHTML = docLinkHtml;\n",
              "          element.appendChild(docLink);\n",
              "        }\n",
              "      </script>\n",
              "    </div>\n",
              "  </div>\n",
              "  "
            ]
          },
          "metadata": {},
          "execution_count": 4
        }
      ]
    },
    {
      "cell_type": "code",
      "execution_count": 5,
      "metadata": {
        "id": "H7G6jceVqc4k"
      },
      "outputs": [],
      "source": [
        "pd.options.display.float_format = '{:.3f}'.format"
      ]
    },
    {
      "cell_type": "code",
      "execution_count": 6,
      "metadata": {
        "colab": {
          "base_uri": "https://localhost:8080/",
          "height": 237
        },
        "id": "igwLCXB3qc4l",
        "outputId": "9cd5968d-e50e-4f57-84f6-7f2e68644a6c"
      },
      "outputs": [
        {
          "output_type": "execute_result",
          "data": {
            "text/plain": [
              "            Open  High   Low  Close  Adj Close   Volume\n",
              "Date                                                   \n",
              "2010-01-01 4.250 4.250 4.250  4.250      1.890        0\n",
              "2010-01-04 4.250 4.357 4.214  4.321      1.922  5387809\n",
              "2010-01-05 4.464 4.571 4.429  4.500      2.001  9854194\n",
              "2010-01-06 4.500 4.536 4.429  4.500      2.001  2408007\n",
              "2010-01-07 4.464 4.536 4.429  4.500      2.001  3059357"
            ],
            "text/html": [
              "\n",
              "  <div id=\"df-221561d4-218b-449d-81ed-ed4a153cb8d2\">\n",
              "    <div class=\"colab-df-container\">\n",
              "      <div>\n",
              "<style scoped>\n",
              "    .dataframe tbody tr th:only-of-type {\n",
              "        vertical-align: middle;\n",
              "    }\n",
              "\n",
              "    .dataframe tbody tr th {\n",
              "        vertical-align: top;\n",
              "    }\n",
              "\n",
              "    .dataframe thead th {\n",
              "        text-align: right;\n",
              "    }\n",
              "</style>\n",
              "<table border=\"1\" class=\"dataframe\">\n",
              "  <thead>\n",
              "    <tr style=\"text-align: right;\">\n",
              "      <th></th>\n",
              "      <th>Open</th>\n",
              "      <th>High</th>\n",
              "      <th>Low</th>\n",
              "      <th>Close</th>\n",
              "      <th>Adj Close</th>\n",
              "      <th>Volume</th>\n",
              "    </tr>\n",
              "    <tr>\n",
              "      <th>Date</th>\n",
              "      <th></th>\n",
              "      <th></th>\n",
              "      <th></th>\n",
              "      <th></th>\n",
              "      <th></th>\n",
              "      <th></th>\n",
              "    </tr>\n",
              "  </thead>\n",
              "  <tbody>\n",
              "    <tr>\n",
              "      <th>2010-01-01</th>\n",
              "      <td>4.250</td>\n",
              "      <td>4.250</td>\n",
              "      <td>4.250</td>\n",
              "      <td>4.250</td>\n",
              "      <td>1.890</td>\n",
              "      <td>0</td>\n",
              "    </tr>\n",
              "    <tr>\n",
              "      <th>2010-01-04</th>\n",
              "      <td>4.250</td>\n",
              "      <td>4.357</td>\n",
              "      <td>4.214</td>\n",
              "      <td>4.321</td>\n",
              "      <td>1.922</td>\n",
              "      <td>5387809</td>\n",
              "    </tr>\n",
              "    <tr>\n",
              "      <th>2010-01-05</th>\n",
              "      <td>4.464</td>\n",
              "      <td>4.571</td>\n",
              "      <td>4.429</td>\n",
              "      <td>4.500</td>\n",
              "      <td>2.001</td>\n",
              "      <td>9854194</td>\n",
              "    </tr>\n",
              "    <tr>\n",
              "      <th>2010-01-06</th>\n",
              "      <td>4.500</td>\n",
              "      <td>4.536</td>\n",
              "      <td>4.429</td>\n",
              "      <td>4.500</td>\n",
              "      <td>2.001</td>\n",
              "      <td>2408007</td>\n",
              "    </tr>\n",
              "    <tr>\n",
              "      <th>2010-01-07</th>\n",
              "      <td>4.464</td>\n",
              "      <td>4.536</td>\n",
              "      <td>4.429</td>\n",
              "      <td>4.500</td>\n",
              "      <td>2.001</td>\n",
              "      <td>3059357</td>\n",
              "    </tr>\n",
              "  </tbody>\n",
              "</table>\n",
              "</div>\n",
              "      <button class=\"colab-df-convert\" onclick=\"convertToInteractive('df-221561d4-218b-449d-81ed-ed4a153cb8d2')\"\n",
              "              title=\"Convert this dataframe to an interactive table.\"\n",
              "              style=\"display:none;\">\n",
              "        \n",
              "  <svg xmlns=\"http://www.w3.org/2000/svg\" height=\"24px\"viewBox=\"0 0 24 24\"\n",
              "       width=\"24px\">\n",
              "    <path d=\"M0 0h24v24H0V0z\" fill=\"none\"/>\n",
              "    <path d=\"M18.56 5.44l.94 2.06.94-2.06 2.06-.94-2.06-.94-.94-2.06-.94 2.06-2.06.94zm-11 1L8.5 8.5l.94-2.06 2.06-.94-2.06-.94L8.5 2.5l-.94 2.06-2.06.94zm10 10l.94 2.06.94-2.06 2.06-.94-2.06-.94-.94-2.06-.94 2.06-2.06.94z\"/><path d=\"M17.41 7.96l-1.37-1.37c-.4-.4-.92-.59-1.43-.59-.52 0-1.04.2-1.43.59L10.3 9.45l-7.72 7.72c-.78.78-.78 2.05 0 2.83L4 21.41c.39.39.9.59 1.41.59.51 0 1.02-.2 1.41-.59l7.78-7.78 2.81-2.81c.8-.78.8-2.07 0-2.86zM5.41 20L4 18.59l7.72-7.72 1.47 1.35L5.41 20z\"/>\n",
              "  </svg>\n",
              "      </button>\n",
              "      \n",
              "  <style>\n",
              "    .colab-df-container {\n",
              "      display:flex;\n",
              "      flex-wrap:wrap;\n",
              "      gap: 12px;\n",
              "    }\n",
              "\n",
              "    .colab-df-convert {\n",
              "      background-color: #E8F0FE;\n",
              "      border: none;\n",
              "      border-radius: 50%;\n",
              "      cursor: pointer;\n",
              "      display: none;\n",
              "      fill: #1967D2;\n",
              "      height: 32px;\n",
              "      padding: 0 0 0 0;\n",
              "      width: 32px;\n",
              "    }\n",
              "\n",
              "    .colab-df-convert:hover {\n",
              "      background-color: #E2EBFA;\n",
              "      box-shadow: 0px 1px 2px rgba(60, 64, 67, 0.3), 0px 1px 3px 1px rgba(60, 64, 67, 0.15);\n",
              "      fill: #174EA6;\n",
              "    }\n",
              "\n",
              "    [theme=dark] .colab-df-convert {\n",
              "      background-color: #3B4455;\n",
              "      fill: #D2E3FC;\n",
              "    }\n",
              "\n",
              "    [theme=dark] .colab-df-convert:hover {\n",
              "      background-color: #434B5C;\n",
              "      box-shadow: 0px 1px 3px 1px rgba(0, 0, 0, 0.15);\n",
              "      filter: drop-shadow(0px 1px 2px rgba(0, 0, 0, 0.3));\n",
              "      fill: #FFFFFF;\n",
              "    }\n",
              "  </style>\n",
              "\n",
              "      <script>\n",
              "        const buttonEl =\n",
              "          document.querySelector('#df-221561d4-218b-449d-81ed-ed4a153cb8d2 button.colab-df-convert');\n",
              "        buttonEl.style.display =\n",
              "          google.colab.kernel.accessAllowed ? 'block' : 'none';\n",
              "\n",
              "        async function convertToInteractive(key) {\n",
              "          const element = document.querySelector('#df-221561d4-218b-449d-81ed-ed4a153cb8d2');\n",
              "          const dataTable =\n",
              "            await google.colab.kernel.invokeFunction('convertToInteractive',\n",
              "                                                     [key], {});\n",
              "          if (!dataTable) return;\n",
              "\n",
              "          const docLinkHtml = 'Like what you see? Visit the ' +\n",
              "            '<a target=\"_blank\" href=https://colab.research.google.com/notebooks/data_table.ipynb>data table notebook</a>'\n",
              "            + ' to learn more about interactive tables.';\n",
              "          element.innerHTML = '';\n",
              "          dataTable['output_type'] = 'display_data';\n",
              "          await google.colab.output.renderOutput(dataTable, element);\n",
              "          const docLink = document.createElement('div');\n",
              "          docLink.innerHTML = docLinkHtml;\n",
              "          element.appendChild(docLink);\n",
              "        }\n",
              "      </script>\n",
              "    </div>\n",
              "  </div>\n",
              "  "
            ]
          },
          "metadata": {},
          "execution_count": 6
        }
      ],
      "source": [
        "df.head()"
      ]
    },
    {
      "cell_type": "code",
      "execution_count": 7,
      "metadata": {
        "colab": {
          "base_uri": "https://localhost:8080/"
        },
        "id": "gERxm8yXqc4m",
        "outputId": "89efe7dd-fb57-42e0-ea00-3d9a134c7e81"
      },
      "outputs": [
        {
          "output_type": "stream",
          "name": "stdout",
          "text": [
            "<class 'pandas.core.frame.DataFrame'>\n",
            "DatetimeIndex: 3450 entries, 2010-01-01 to 2023-05-15\n",
            "Data columns (total 6 columns):\n",
            " #   Column     Non-Null Count  Dtype  \n",
            "---  ------     --------------  -----  \n",
            " 0   Open       3450 non-null   float64\n",
            " 1   High       3450 non-null   float64\n",
            " 2   Low        3450 non-null   float64\n",
            " 3   Close      3450 non-null   float64\n",
            " 4   Adj Close  3450 non-null   float64\n",
            " 5   Volume     3450 non-null   int64  \n",
            "dtypes: float64(5), int64(1)\n",
            "memory usage: 188.7 KB\n"
          ]
        }
      ],
      "source": [
        "df.info()"
      ]
    },
    {
      "cell_type": "code",
      "execution_count": 8,
      "metadata": {
        "colab": {
          "base_uri": "https://localhost:8080/"
        },
        "id": "pQXV0aElqc4m",
        "outputId": "b8e27c47-1ffc-4fc1-b5cf-a876f807e115"
      },
      "outputs": [
        {
          "output_type": "execute_result",
          "data": {
            "text/plain": [
              "(3450, 6)"
            ]
          },
          "metadata": {},
          "execution_count": 8
        }
      ],
      "source": [
        "df.shape"
      ]
    },
    {
      "cell_type": "code",
      "execution_count": 9,
      "metadata": {
        "colab": {
          "base_uri": "https://localhost:8080/",
          "height": 707
        },
        "id": "PptZ27EBqc4n",
        "outputId": "b88360f9-09db-497e-dac7-6b3a0e72389f"
      },
      "outputs": [
        {
          "output_type": "display_data",
          "data": {
            "text/plain": [
              "<Figure size 1400x700 with 6 Axes>"
            ],
            "image/png": "[encoded data removed]"
          },
          "metadata": {}
        }
      ],
      "source": [
        "df_plot = df.copy()\n",
        "\n",
        "ncols = 2\n",
        "nrows = int(round(df_plot.shape[1] / ncols, 0))\n",
        "\n",
        "fig, ax = plt.subplots(nrows=nrows, ncols=ncols, sharex=True, figsize=(14, 7))\n",
        "for i, ax in enumerate(fig.axes):\n",
        "        sns.lineplot(data = df_plot.iloc[:, i], ax=ax)\n",
        "        ax.tick_params(axis=\"x\", rotation=30, labelsize=10, length=0)\n",
        "        ax.xaxis.set_major_locator(mdates.AutoDateLocator())\n",
        "fig.tight_layout()\n",
        "plt.show()"
      ]
    },
    {
      "cell_type": "code",
      "execution_count": 10,
      "metadata": {
        "colab": {
          "base_uri": "https://localhost:8080/",
          "height": 274
        },
        "id": "8R7YhnTVqc4o",
        "outputId": "0b51df34-6784-441b-850e-9a4cc7455142"
      },
      "outputs": [
        {
          "output_type": "stream",
          "name": "stdout",
          "text": [
            "FEATURE LIST\n",
            "['High', 'Low', 'Open', 'Close', 'Volume']\n"
          ]
        },
        {
          "output_type": "execute_result",
          "data": {
            "text/plain": [
              "             High    Low   Open  Close    Volume  Prediction\n",
              "Date                                                        \n",
              "2023-05-09 67.400 64.800 66.750 65.200  22387077      65.200\n",
              "2023-05-10 66.450 64.700 65.300 65.000  19602729      65.000\n",
              "2023-05-11 71.500 64.850 64.900 71.500  54579075      71.500\n",
              "2023-05-12 75.200 69.700 71.750 71.000  44790062      71.000\n",
              "2023-05-15 69.050 63.900 65.000 64.200  34856015      64.200"
            ],
            "text/html": [
              "\n",
              "  <div id=\"df-49394e28-85eb-4cdd-9d71-facc55681b9c\">\n",
              "    <div class=\"colab-df-container\">\n",
              "      <div>\n",
              "<style scoped>\n",
              "    .dataframe tbody tr th:only-of-type {\n",
              "        vertical-align: middle;\n",
              "    }\n",
              "\n",
              "    .dataframe tbody tr th {\n",
              "        vertical-align: top;\n",
              "    }\n",
              "\n",
              "    .dataframe thead th {\n",
              "        text-align: right;\n",
              "    }\n",
              "</style>\n",
              "<table border=\"1\" class=\"dataframe\">\n",
              "  <thead>\n",
              "    <tr style=\"text-align: right;\">\n",
              "      <th></th>\n",
              "      <th>High</th>\n",
              "      <th>Low</th>\n",
              "      <th>Open</th>\n",
              "      <th>Close</th>\n",
              "      <th>Volume</th>\n",
              "      <th>Prediction</th>\n",
              "    </tr>\n",
              "    <tr>\n",
              "      <th>Date</th>\n",
              "      <th></th>\n",
              "      <th></th>\n",
              "      <th></th>\n",
              "      <th></th>\n",
              "      <th></th>\n",
              "      <th></th>\n",
              "    </tr>\n",
              "  </thead>\n",
              "  <tbody>\n",
              "    <tr>\n",
              "      <th>2023-05-09</th>\n",
              "      <td>67.400</td>\n",
              "      <td>64.800</td>\n",
              "      <td>66.750</td>\n",
              "      <td>65.200</td>\n",
              "      <td>22387077</td>\n",
              "      <td>65.200</td>\n",
              "    </tr>\n",
              "    <tr>\n",
              "      <th>2023-05-10</th>\n",
              "      <td>66.450</td>\n",
              "      <td>64.700</td>\n",
              "      <td>65.300</td>\n",
              "      <td>65.000</td>\n",
              "      <td>19602729</td>\n",
              "      <td>65.000</td>\n",
              "    </tr>\n",
              "    <tr>\n",
              "      <th>2023-05-11</th>\n",
              "      <td>71.500</td>\n",
              "      <td>64.850</td>\n",
              "      <td>64.900</td>\n",
              "      <td>71.500</td>\n",
              "      <td>54579075</td>\n",
              "      <td>71.500</td>\n",
              "    </tr>\n",
              "    <tr>\n",
              "      <th>2023-05-12</th>\n",
              "      <td>75.200</td>\n",
              "      <td>69.700</td>\n",
              "      <td>71.750</td>\n",
              "      <td>71.000</td>\n",
              "      <td>44790062</td>\n",
              "      <td>71.000</td>\n",
              "    </tr>\n",
              "    <tr>\n",
              "      <th>2023-05-15</th>\n",
              "      <td>69.050</td>\n",
              "      <td>63.900</td>\n",
              "      <td>65.000</td>\n",
              "      <td>64.200</td>\n",
              "      <td>34856015</td>\n",
              "      <td>64.200</td>\n",
              "    </tr>\n",
              "  </tbody>\n",
              "</table>\n",
              "</div>\n",
              "      <button class=\"colab-df-convert\" onclick=\"convertToInteractive('df-49394e28-85eb-4cdd-9d71-facc55681b9c')\"\n",
              "              title=\"Convert this dataframe to an interactive table.\"\n",
              "              style=\"display:none;\">\n",
              "        \n",
              "  <svg xmlns=\"http://www.w3.org/2000/svg\" height=\"24px\"viewBox=\"0 0 24 24\"\n",
              "       width=\"24px\">\n",
              "    <path d=\"M0 0h24v24H0V0z\" fill=\"none\"/>\n",
              "    <path d=\"M18.56 5.44l.94 2.06.94-2.06 2.06-.94-2.06-.94-.94-2.06-.94 2.06-2.06.94zm-11 1L8.5 8.5l.94-2.06 2.06-.94-2.06-.94L8.5 2.5l-.94 2.06-2.06.94zm10 10l.94 2.06.94-2.06 2.06-.94-2.06-.94-.94-2.06-.94 2.06-2.06.94z\"/><path d=\"M17.41 7.96l-1.37-1.37c-.4-.4-.92-.59-1.43-.59-.52 0-1.04.2-1.43.59L10.3 9.45l-7.72 7.72c-.78.78-.78 2.05 0 2.83L4 21.41c.39.39.9.59 1.41.59.51 0 1.02-.2 1.41-.59l7.78-7.78 2.81-2.81c.8-.78.8-2.07 0-2.86zM5.41 20L4 18.59l7.72-7.72 1.47 1.35L5.41 20z\"/>\n",
              "  </svg>\n",
              "      </button>\n",
              "      \n",
              "  <style>\n",
              "    .colab-df-container {\n",
              "      display:flex;\n",
              "      flex-wrap:wrap;\n",
              "      gap: 12px;\n",
              "    }\n",
              "\n",
              "    .colab-df-convert {\n",
              "      background-color: #E8F0FE;\n",
              "      border: none;\n",
              "      border-radius: 50%;\n",
              "      cursor: pointer;\n",
              "      display: none;\n",
              "      fill: #1967D2;\n",
              "      height: 32px;\n",
              "      padding: 0 0 0 0;\n",
              "      width: 32px;\n",
              "    }\n",
              "\n",
              "    .colab-df-convert:hover {\n",
              "      background-color: #E2EBFA;\n",
              "      box-shadow: 0px 1px 2px rgba(60, 64, 67, 0.3), 0px 1px 3px 1px rgba(60, 64, 67, 0.15);\n",
              "      fill: #174EA6;\n",
              "    }\n",
              "\n",
              "    [theme=dark] .colab-df-convert {\n",
              "      background-color: #3B4455;\n",
              "      fill: #D2E3FC;\n",
              "    }\n",
              "\n",
              "    [theme=dark] .colab-df-convert:hover {\n",
              "      background-color: #434B5C;\n",
              "      box-shadow: 0px 1px 3px 1px rgba(0, 0, 0, 0.15);\n",
              "      filter: drop-shadow(0px 1px 2px rgba(0, 0, 0, 0.3));\n",
              "      fill: #FFFFFF;\n",
              "    }\n",
              "  </style>\n",
              "\n",
              "      <script>\n",
              "        const buttonEl =\n",
              "          document.querySelector('#df-49394e28-85eb-4cdd-9d71-facc55681b9c button.colab-df-convert');\n",
              "        buttonEl.style.display =\n",
              "          google.colab.kernel.accessAllowed ? 'block' : 'none';\n",
              "\n",
              "        async function convertToInteractive(key) {\n",
              "          const element = document.querySelector('#df-49394e28-85eb-4cdd-9d71-facc55681b9c');\n",
              "          const dataTable =\n",
              "            await google.colab.kernel.invokeFunction('convertToInteractive',\n",
              "                                                     [key], {});\n",
              "          if (!dataTable) return;\n",
              "\n",
              "          const docLinkHtml = 'Like what you see? Visit the ' +\n",
              "            '<a target=\"_blank\" href=https://colab.research.google.com/notebooks/data_table.ipynb>data table notebook</a>'\n",
              "            + ' to learn more about interactive tables.';\n",
              "          element.innerHTML = '';\n",
              "          dataTable['output_type'] = 'display_data';\n",
              "          await google.colab.output.renderOutput(dataTable, element);\n",
              "          const docLink = document.createElement('div');\n",
              "          docLink.innerHTML = docLinkHtml;\n",
              "          element.appendChild(docLink);\n",
              "        }\n",
              "      </script>\n",
              "    </div>\n",
              "  </div>\n",
              "  "
            ]
          },
          "metadata": {},
          "execution_count": 10
        }
      ],
      "source": [
        "train_df = df.sort_values(by=['Date']).copy()\n",
        "\n",
        "FEATURES = ['High', 'Low', 'Open', 'Close', 'Volume'\n",
        "            ,# 'Month' , 'Year', 'Adj Close'\n",
        "           ]\n",
        "\n",
        "print('FEATURE LIST')\n",
        "print([f for f in FEATURES])\n",
        "\n",
        "data = pd.DataFrame(train_df)\n",
        "data_filtered = data[FEATURES]\n",
        "\n",
        "data_filtered_ext = data_filtered.copy()\n",
        "data_filtered_ext['Prediction'] = data_filtered_ext['Close']\n",
        "\n",
        "data_filtered_ext.tail()"
      ]
    },
    {
      "cell_type": "code",
      "execution_count": 11,
      "metadata": {
        "colab": {
          "base_uri": "https://localhost:8080/",
          "height": 237
        },
        "id": "ZmeIpc1Sqc4o",
        "outputId": "2c56f367-3c3f-43f0-d679-bcae7e8f0f3d"
      },
      "outputs": [
        {
          "output_type": "execute_result",
          "data": {
            "text/plain": [
              "             High    Low   Open  Close    Volume\n",
              "Date                                            \n",
              "2023-05-09 67.400 64.800 66.750 65.200  22387077\n",
              "2023-05-10 66.450 64.700 65.300 65.000  19602729\n",
              "2023-05-11 71.500 64.850 64.900 71.500  54579075\n",
              "2023-05-12 75.200 69.700 71.750 71.000  44790062\n",
              "2023-05-15 69.050 63.900 65.000 64.200  34856015"
            ],
            "text/html": [
              "\n",
              "  <div id=\"df-23a778ee-08c8-484a-a2e3-d10b9f8ae59b\">\n",
              "    <div class=\"colab-df-container\">\n",
              "      <div>\n",
              "<style scoped>\n",
              "    .dataframe tbody tr th:only-of-type {\n",
              "        vertical-align: middle;\n",
              "    }\n",
              "\n",
              "    .dataframe tbody tr th {\n",
              "        vertical-align: top;\n",
              "    }\n",
              "\n",
              "    .dataframe thead th {\n",
              "        text-align: right;\n",
              "    }\n",
              "</style>\n",
              "<table border=\"1\" class=\"dataframe\">\n",
              "  <thead>\n",
              "    <tr style=\"text-align: right;\">\n",
              "      <th></th>\n",
              "      <th>High</th>\n",
              "      <th>Low</th>\n",
              "      <th>Open</th>\n",
              "      <th>Close</th>\n",
              "      <th>Volume</th>\n",
              "    </tr>\n",
              "    <tr>\n",
              "      <th>Date</th>\n",
              "      <th></th>\n",
              "      <th></th>\n",
              "      <th></th>\n",
              "      <th></th>\n",
              "      <th></th>\n",
              "    </tr>\n",
              "  </thead>\n",
              "  <tbody>\n",
              "    <tr>\n",
              "      <th>2023-05-09</th>\n",
              "      <td>67.400</td>\n",
              "      <td>64.800</td>\n",
              "      <td>66.750</td>\n",
              "      <td>65.200</td>\n",
              "      <td>22387077</td>\n",
              "    </tr>\n",
              "    <tr>\n",
              "      <th>2023-05-10</th>\n",
              "      <td>66.450</td>\n",
              "      <td>64.700</td>\n",
              "      <td>65.300</td>\n",
              "      <td>65.000</td>\n",
              "      <td>19602729</td>\n",
              "    </tr>\n",
              "    <tr>\n",
              "      <th>2023-05-11</th>\n",
              "      <td>71.500</td>\n",
              "      <td>64.850</td>\n",
              "      <td>64.900</td>\n",
              "      <td>71.500</td>\n",
              "      <td>54579075</td>\n",
              "    </tr>\n",
              "    <tr>\n",
              "      <th>2023-05-12</th>\n",
              "      <td>75.200</td>\n",
              "      <td>69.700</td>\n",
              "      <td>71.750</td>\n",
              "      <td>71.000</td>\n",
              "      <td>44790062</td>\n",
              "    </tr>\n",
              "    <tr>\n",
              "      <th>2023-05-15</th>\n",
              "      <td>69.050</td>\n",
              "      <td>63.900</td>\n",
              "      <td>65.000</td>\n",
              "      <td>64.200</td>\n",
              "      <td>34856015</td>\n",
              "    </tr>\n",
              "  </tbody>\n",
              "</table>\n",
              "</div>\n",
              "      <button class=\"colab-df-convert\" onclick=\"convertToInteractive('df-23a778ee-08c8-484a-a2e3-d10b9f8ae59b')\"\n",
              "              title=\"Convert this dataframe to an interactive table.\"\n",
              "              style=\"display:none;\">\n",
              "        \n",
              "  <svg xmlns=\"http://www.w3.org/2000/svg\" height=\"24px\"viewBox=\"0 0 24 24\"\n",
              "       width=\"24px\">\n",
              "    <path d=\"M0 0h24v24H0V0z\" fill=\"none\"/>\n",
              "    <path d=\"M18.56 5.44l.94 2.06.94-2.06 2.06-.94-2.06-.94-.94-2.06-.94 2.06-2.06.94zm-11 1L8.5 8.5l.94-2.06 2.06-.94-2.06-.94L8.5 2.5l-.94 2.06-2.06.94zm10 10l.94 2.06.94-2.06 2.06-.94-2.06-.94-.94-2.06-.94 2.06-2.06.94z\"/><path d=\"M17.41 7.96l-1.37-1.37c-.4-.4-.92-.59-1.43-.59-.52 0-1.04.2-1.43.59L10.3 9.45l-7.72 7.72c-.78.78-.78 2.05 0 2.83L4 21.41c.39.39.9.59 1.41.59.51 0 1.02-.2 1.41-.59l7.78-7.78 2.81-2.81c.8-.78.8-2.07 0-2.86zM5.41 20L4 18.59l7.72-7.72 1.47 1.35L5.41 20z\"/>\n",
              "  </svg>\n",
              "      </button>\n",
              "      \n",
              "  <style>\n",
              "    .colab-df-container {\n",
              "      display:flex;\n",
              "      flex-wrap:wrap;\n",
              "      gap: 12px;\n",
              "    }\n",
              "\n",
              "    .colab-df-convert {\n",
              "      background-color: #E8F0FE;\n",
              "      border: none;\n",
              "      border-radius: 50%;\n",
              "      cursor: pointer;\n",
              "      display: none;\n",
              "      fill: #1967D2;\n",
              "      height: 32px;\n",
              "      padding: 0 0 0 0;\n",
              "      width: 32px;\n",
              "    }\n",
              "\n",
              "    .colab-df-convert:hover {\n",
              "      background-color: #E2EBFA;\n",
              "      box-shadow: 0px 1px 2px rgba(60, 64, 67, 0.3), 0px 1px 3px 1px rgba(60, 64, 67, 0.15);\n",
              "      fill: #174EA6;\n",
              "    }\n",
              "\n",
              "    [theme=dark] .colab-df-convert {\n",
              "      background-color: #3B4455;\n",
              "      fill: #D2E3FC;\n",
              "    }\n",
              "\n",
              "    [theme=dark] .colab-df-convert:hover {\n",
              "      background-color: #434B5C;\n",
              "      box-shadow: 0px 1px 3px 1px rgba(0, 0, 0, 0.15);\n",
              "      filter: drop-shadow(0px 1px 2px rgba(0, 0, 0, 0.3));\n",
              "      fill: #FFFFFF;\n",
              "    }\n",
              "  </style>\n",
              "\n",
              "      <script>\n",
              "        const buttonEl =\n",
              "          document.querySelector('#df-23a778ee-08c8-484a-a2e3-d10b9f8ae59b button.colab-df-convert');\n",
              "        buttonEl.style.display =\n",
              "          google.colab.kernel.accessAllowed ? 'block' : 'none';\n",
              "\n",
              "        async function convertToInteractive(key) {\n",
              "          const element = document.querySelector('#df-23a778ee-08c8-484a-a2e3-d10b9f8ae59b');\n",
              "          const dataTable =\n",
              "            await google.colab.kernel.invokeFunction('convertToInteractive',\n",
              "                                                     [key], {});\n",
              "          if (!dataTable) return;\n",
              "\n",
              "          const docLinkHtml = 'Like what you see? Visit the ' +\n",
              "            '<a target=\"_blank\" href=https://colab.research.google.com/notebooks/data_table.ipynb>data table notebook</a>'\n",
              "            + ' to learn more about interactive tables.';\n",
              "          element.innerHTML = '';\n",
              "          dataTable['output_type'] = 'display_data';\n",
              "          await google.colab.output.renderOutput(dataTable, element);\n",
              "          const docLink = document.createElement('div');\n",
              "          docLink.innerHTML = docLinkHtml;\n",
              "          element.appendChild(docLink);\n",
              "        }\n",
              "      </script>\n",
              "    </div>\n",
              "  </div>\n",
              "  "
            ]
          },
          "metadata": {},
          "execution_count": 11
        }
      ],
      "source": [
        "data_filtered.tail()"
      ]
    },
    {
      "cell_type": "markdown",
      "metadata": {
        "id": "rDqtJfCNqc4p"
      },
      "source": [
        "#### Burada girdi verilerini numpy formatına dönüştürüp 0-1 arasında MinMaxScaler ile ölçeklendiriyoruz.Bu ölçeklendirdiğimiz veriler eğitildiğinde sonuçlar da ölçeklenmiş şekilde gelecektir bunu geri dönüştürmeyi unutmamalıyız."
      ]
    },
    {
      "cell_type": "code",
      "execution_count": 12,
      "metadata": {
        "colab": {
          "base_uri": "https://localhost:8080/"
        },
        "id": "NZnzMMtsqc4q",
        "outputId": "9e7e09ee-b520-4b3f-fd00-0d3b5c2a3c1b"
      },
      "outputs": [
        {
          "output_type": "stream",
          "name": "stdout",
          "text": [
            "(3450, 5)\n"
          ]
        }
      ],
      "source": [
        "nrows = data_filtered.shape[0]\n",
        "\n",
        "np_data_unscaled = np.array(data_filtered)\n",
        "np_data = np.reshape(np_data_unscaled, (nrows, -1))\n",
        "print(np_data.shape)\n",
        "\n",
        "scaler = MinMaxScaler()\n",
        "np_data_scaled = scaler.fit_transform(np_data_unscaled)\n",
        "\n",
        "scaler_pred = MinMaxScaler()\n",
        "df_Close = pd.DataFrame(data_filtered_ext['Close'])\n",
        "np_Close_scaled = scaler_pred.fit_transform(df_Close)"
      ]
    },
    {
      "cell_type": "code",
      "execution_count": 13,
      "metadata": {
        "id": "R6WoPckwqc4r"
      },
      "outputs": [],
      "source": [
        "np.set_printoptions(precision=3)"
      ]
    },
    {
      "cell_type": "markdown",
      "metadata": {
        "id": "i-McRDftqc4s"
      },
      "source": [
        "np_data = np.around(np_data, 3)"
      ]
    },
    {
      "cell_type": "code",
      "execution_count": 14,
      "metadata": {
        "colab": {
          "base_uri": "https://localhost:8080/"
        },
        "id": "gbmNk9EJqc4s",
        "outputId": "d6d4e93e-c5fe-4510-cc83-da98a97196be"
      },
      "outputs": [
        {
          "output_type": "execute_result",
          "data": {
            "text/plain": [
              "array([4.357e+00, 4.214e+00, 4.250e+00, 4.321e+00, 5.388e+06])"
            ]
          },
          "metadata": {},
          "execution_count": 14
        }
      ],
      "source": [
        "np_data[1]"
      ]
    },
    {
      "cell_type": "code",
      "execution_count": 15,
      "metadata": {
        "colab": {
          "base_uri": "https://localhost:8080/"
        },
        "id": "rDQGfiKkqc4t",
        "outputId": "0b9f3289-7017-43a2-e2ac-c4be17a8b7aa"
      },
      "outputs": [
        {
          "output_type": "execute_result",
          "data": {
            "text/plain": [
              "array([0.   , 0.001, 0.001, 0.001, 0.   ])"
            ]
          },
          "metadata": {},
          "execution_count": 15
        }
      ],
      "source": [
        "np_data_scaled[0]"
      ]
    },
    {
      "cell_type": "code",
      "execution_count": 16,
      "metadata": {
        "colab": {
          "base_uri": "https://localhost:8080/"
        },
        "id": "BvuYfuQCqc4t",
        "outputId": "5b4a77d8-fb2b-4fc1-a322-d069fe26b001"
      },
      "outputs": [
        {
          "output_type": "execute_result",
          "data": {
            "text/plain": [
              "array([0.001])"
            ]
          },
          "metadata": {},
          "execution_count": 16
        }
      ],
      "source": [
        "np_Close_scaled[0]"
      ]
    },
    {
      "cell_type": "code",
      "execution_count": 17,
      "metadata": {
        "colab": {
          "base_uri": "https://localhost:8080/"
        },
        "id": "NGrtKjkaqc4u",
        "outputId": "ba1320c7-6f90-4cff-e0c9-3b26d89c338f"
      },
      "outputs": [
        {
          "output_type": "stream",
          "name": "stdout",
          "text": [
            "(2710, 50, 5) (2710,)\n",
            "(690, 50, 5) (690,)\n",
            "0.0009343923111671745\n",
            "0.0009343923111671745\n"
          ]
        }
      ],
      "source": [
        "sequence_length = 50\n",
        "\n",
        "index_Close = data.columns.get_loc(\"Close\")\n",
        "\n",
        "# Verileri train test olarak ayırın.\n",
        "# Verilerin %80 ini eğitim için kullanacağız.\n",
        "train_data_len = math.ceil(np_data_scaled.shape[0] * 0.8)\n",
        "\n",
        "train_data = np_data_scaled[0:train_data_len, :]\n",
        "test_data = np_data_scaled[train_data_len - sequence_length:, :]\n",
        "\n",
        "# Model için verileri bu biçime dönüştürün : [samples, time steps, features] \n",
        "def partition_dataset(sequence_length, data):\n",
        "    x, y = [], []\n",
        "    data_len = data.shape[0]\n",
        "    for i in range(sequence_length, data_len):\n",
        "        x.append(data[i-sequence_length:i,:]) \n",
        "        y.append(data[i, index_Close]) \n",
        "\n",
        "    # Sonra bunları numpy array'e dönüştür.    \n",
        "    x = np.array(x)\n",
        "    y = np.array(y)\n",
        "    return x, y\n",
        "\n",
        "x_train, y_train = partition_dataset(sequence_length, train_data)\n",
        "x_test, y_test = partition_dataset(sequence_length, test_data)\n",
        "\n",
        "print(x_train.shape, y_train.shape)\n",
        "print(x_test.shape, y_test.shape)\n",
        "\n",
        "# İkinci girdi örneğinin son kapanış fiyatı ilk tahmin değerine eşit olmalıdır.\n",
        "print(x_train[1][sequence_length-1][index_Close])\n",
        "print(y_train[0])"
      ]
    },
    {
      "cell_type": "markdown",
      "metadata": {
        "_uuid": "89bcb2f3641ab26954a9f3abe2328c796a5aa7c0",
        "id": "ro_aK5Wvqc4v"
      },
      "source": [
        "## Gated Recurrent Units(GRU)\n",
        "\n",
        "Basit bir ifadeyle, GRU biriminin, LSTM birimi gibi bilgi akışını kontrol etmek için bir bellek birimi kullanması gerekmez. Herhangi bir kontrol olmaksızın tüm gizli durumları doğrudan kullanabilir. GRU'lar daha az parametreye sahiptir ve bu nedenle biraz daha hızlı çalışabilir veya genelleme yapmak için daha az veriye ihtiyaç duyabilir. Ancak, büyük verilerle, daha yüksek anlamlılığa sahip LSTM'ler daha iyi sonuçlara yol açabilir.\n",
        "\n",
        "İki kapısı olması dışında LSTM'lere neredeyse benzerler: sıfırlama kapısı ve güncelleme kapısı. Sıfırlama kapısı, yeni girdinin önceki belleğe nasıl birleştirileceğini belirler ve güncelleme kapısı, önceki durumun ne kadarının tutulacağını belirler. GRU'daki güncelleme kapısı, LSTM'deki giriş kapısı ve unutma kapısıdır. Çıktıyı hesaplamadan önce GRU'da ikinci doğrusal olmama durumumuz yok, onların da çıkış kapısı yok."
      ]
    },
    {
      "cell_type": "code",
      "execution_count": 18,
      "metadata": {
        "colab": {
          "base_uri": "https://localhost:8080/"
        },
        "id": "6Aq9ODtjqc4w",
        "outputId": "12f44ac3-8a5c-46d5-d89c-539528cc3635"
      },
      "outputs": [
        {
          "output_type": "stream",
          "name": "stdout",
          "text": [
            "250 50 5\n"
          ]
        }
      ],
      "source": [
        "n_neurons = x_train.shape[1] * x_train.shape[2]\n",
        "print(n_neurons, x_train.shape[1], x_train.shape[2])"
      ]
    },
    {
      "cell_type": "code",
      "execution_count": 19,
      "metadata": {
        "_uuid": "a5aa8587cc5b6bce6b75d8d9ffb7e8649f3bacde",
        "id": "x0raMESBqc4x"
      },
      "outputs": [],
      "source": [
        "model = Sequential()\n",
        "\n",
        "model.add(GRU(n_neurons, return_sequences=True, input_shape=(x_train.shape[1], x_train.shape[2])))\n",
        "\n",
        "model.add(GRU(n_neurons, return_sequences=False))\n",
        "\n",
        "model.add(Dense(5))\n",
        "\n",
        "model.add(Dense(1))\n",
        "\n",
        "model.compile(optimizer='adam', loss='mse')"
      ]
    },
    {
      "cell_type": "code",
      "execution_count": 20,
      "metadata": {
        "id": "s-Fv2T18qc4x"
      },
      "outputs": [],
      "source": [
        "callbacks = EarlyStopping(monitor = \"loss\",patience = 8,verbose = 1)"
      ]
    },
    {
      "cell_type": "code",
      "execution_count": 21,
      "metadata": {
        "colab": {
          "base_uri": "https://localhost:8080/"
        },
        "id": "InCAHiBrqc4y",
        "outputId": "3b1b263a-8412-49d0-b44f-add3c1b09f65"
      },
      "outputs": [
        {
          "output_type": "stream",
          "name": "stdout",
          "text": [
            "Epoch 1/50\n",
            "170/170 [==============================] - 44s 227ms/step - loss: 4.3544e-05 - val_loss: 0.0013\n",
            "Epoch 2/50\n",
            "170/170 [==============================] - 37s 220ms/step - loss: 4.4929e-07 - val_loss: 0.0013\n",
            "Epoch 3/50\n",
            "170/170 [==============================] - 39s 232ms/step - loss: 4.9665e-07 - val_loss: 0.0013\n",
            "Epoch 4/50\n",
            "170/170 [==============================] - 39s 228ms/step - loss: 4.8802e-07 - val_loss: 0.0013\n",
            "Epoch 5/50\n",
            "170/170 [==============================] - 39s 230ms/step - loss: 5.1263e-07 - val_loss: 0.0013\n",
            "Epoch 6/50\n",
            "170/170 [==============================] - 39s 229ms/step - loss: 6.1754e-07 - val_loss: 0.0014\n",
            "Epoch 7/50\n",
            "170/170 [==============================] - 40s 234ms/step - loss: 5.3720e-07 - val_loss: 0.0014\n",
            "Epoch 8/50\n",
            "170/170 [==============================] - 39s 230ms/step - loss: 6.1160e-07 - val_loss: 0.0014\n",
            "Epoch 9/50\n",
            "170/170 [==============================] - 38s 226ms/step - loss: 7.0094e-07 - val_loss: 0.0014\n",
            "Epoch 10/50\n",
            "170/170 [==============================] - 38s 225ms/step - loss: 7.5956e-07 - val_loss: 0.0014\n",
            "Epoch 10: early stopping\n"
          ]
        }
      ],
      "source": [
        "epochs = 50\n",
        "batch_size = 16\n",
        "history = model.fit(x_train, y_train, \n",
        "                    batch_size=batch_size, \n",
        "                    epochs=epochs,\n",
        "                    validation_data=(x_test, y_test),\n",
        "                    callbacks = [callbacks]                 \n",
        "                   )\n",
        "    "
      ]
    },
    {
      "cell_type": "code",
      "execution_count": 22,
      "metadata": {
        "colab": {
          "base_uri": "https://localhost:8080/",
          "height": 487
        },
        "id": "d5MJEDIdqc4y",
        "outputId": "53df1a0b-b74d-4389-d7ff-4f278bd7fdf7"
      },
      "outputs": [
        {
          "output_type": "display_data",
          "data": {
            "text/plain": [
              "<Figure size 1600x500 with 1 Axes>"
            ],
            "image/png": "[encoded data removed]"
          },
          "metadata": {}
        }
      ],
      "source": [
        "fig, ax = plt.subplots(figsize=(16, 5), sharex=True)\n",
        "sns.lineplot(data=history.history[\"loss\"])\n",
        "plt.title(\"Model loss\")\n",
        "plt.ylabel(\"Loss\")\n",
        "plt.xlabel(\"Epoch\")\n",
        "ax.xaxis.set_major_locator(plt.MaxNLocator(epochs))\n",
        "plt.legend([\"Train\", \"Test\"], loc=\"upper left\")\n",
        "plt.grid()\n",
        "plt.show()"
      ]
    },
    {
      "cell_type": "code",
      "execution_count": 23,
      "metadata": {
        "tags": [],
        "colab": {
          "base_uri": "https://localhost:8080/"
        },
        "id": "_YtNEyJkqc4z",
        "outputId": "13602e7d-31d3-4792-8aec-16ea1d0765fe"
      },
      "outputs": [
        {
          "output_type": "stream",
          "name": "stdout",
          "text": [
            "22/22 [==============================] - 2s 73ms/step\n",
            "R2: 0.543\n",
            "Median Absolute Error (MAE): 2.51\n",
            "Mean Absolute Percentage Error (MAPE): 4.46 %\n",
            "Median Absolute Percentage Error (MDAPE): 2.85 %\n"
          ]
        }
      ],
      "source": [
        "y_pred_scaled = model.predict(x_test)\n",
        "\n",
        "y_pred = scaler_pred.inverse_transform(y_pred_scaled)\n",
        "y_test_unscaled = scaler_pred.inverse_transform(y_test.reshape(-1, 1))\n",
        "\n",
        "R2 = r2_score(y_test_unscaled, y_pred)\n",
        "print(f'R2: {np.round(R2, 3)}')\n",
        "\n",
        "MAE = mean_absolute_error(y_test_unscaled, y_pred)\n",
        "print(f'Median Absolute Error (MAE): {np.round(MAE, 2)}')\n",
        "\n",
        "MAPE = np.mean((np.abs(np.subtract(y_test_unscaled, y_pred)/ y_test_unscaled))) * 100\n",
        "print(f'Mean Absolute Percentage Error (MAPE): {np.round(MAPE, 2)} %')\n",
        "\n",
        "MDAPE = np.median((np.abs(np.subtract(y_test_unscaled, y_pred)/ y_test_unscaled)) ) * 100\n",
        "print(f'Median Absolute Percentage Error (MDAPE): {np.round(MDAPE, 2)} %')"
      ]
    },
    {
      "cell_type": "code",
      "execution_count": 24,
      "metadata": {
        "colab": {
          "base_uri": "https://localhost:8080/",
          "height": 872
        },
        "id": "yhnUK9ctqc40",
        "outputId": "8961e417-cbd2-402b-f600-a75f4fc5a5c1"
      },
      "outputs": [
        {
          "output_type": "display_data",
          "data": {
            "text/plain": [
              "<Figure size 2000x1000 with 1 Axes>"
            ],
            "image/png": "[encoded data removed]"
          },
          "metadata": {}
        }
      ],
      "source": [
        "# Tarihin görüntülendiği tarih\n",
        "display_start_date = \"2019-01-01\" \n",
        "\n",
        "# Geçerli ve tahmini fiyatlar arasındaki fark\n",
        "train = pd.DataFrame(data_filtered_ext['Close'][:train_data_len + 1]).rename(columns={'Close': 'y_train'})\n",
        "valid = pd.DataFrame(data_filtered_ext['Close'][train_data_len:]).rename(columns={'Close': 'y_test'})\n",
        "valid.insert(1, \"y_pred\", y_pred, True)\n",
        "valid.insert(1, \"residuals\", valid[\"y_pred\"] - valid[\"y_test\"], True)\n",
        "df_union = pd.concat([train, valid])\n",
        "\n",
        "# Daha yakın bir zaman dilimine yakınlaştırın\n",
        "df_union_zoom = df_union[df_union.index > display_start_date]\n",
        "\n",
        "fig, ax1 = plt.subplots(figsize=(20, 10))\n",
        "plt.title(\"y_pred vs y_test\")\n",
        "plt.ylabel(stockname, fontsize=18)\n",
        "sns.set_palette([\"#090364\", \"#1960EF\", \"#EF5919\"])\n",
        "sns.lineplot(data=df_union_zoom[['y_pred', 'y_train', 'y_test']], linewidth=1.0, dashes=False, ax=ax1)\n",
        "\n",
        "# Farkların grafiği\n",
        "df_sub = [\"#2BC97A\" if x > 0 else \"#C92B2B\" for x in df_union_zoom[\"residuals\"].dropna()]\n",
        "ax1.bar(height=df_union_zoom['residuals'].dropna(), x=df_union_zoom['residuals'].dropna().index, width=3, label='residuals', color=df_sub)\n",
        "plt.legend()\n",
        "plt.show()"
      ]
    },
    {
      "cell_type": "code",
      "execution_count": 25,
      "metadata": {
        "colab": {
          "base_uri": "https://localhost:8080/"
        },
        "id": "vrWhI8b4qc41",
        "outputId": "12650307-bd9d-4f66-b027-1e6a2c5fdc14"
      },
      "outputs": [
        {
          "output_type": "stream",
          "name": "stdout",
          "text": [
            "1/1 [==============================] - 0s 32ms/step\n",
            "The close price for Tupras at 2023-05-19 was 64.2\n",
            "The predicted close price is 69.29000091552734 (+7.35%)\n"
          ]
        }
      ],
      "source": [
        "df_temp = df[-sequence_length:]\n",
        "new_df = df_temp.filter(FEATURES)\n",
        "\n",
        "N = sequence_length\n",
        "\n",
        "# Son N günlük kapanış fiyatı değerlerini alın ve verileri 0 ile 1 arasında değerler olacak şekilde ölçeklendirin\n",
        "last_N_days = new_df[-sequence_length:].values\n",
        "last_N_days_scaled = scaler.transform(last_N_days)\n",
        "\n",
        "# Boş bir liste oluşturun ve son N günü ekleyin\n",
        "X_test_new = []\n",
        "X_test_new.append(last_N_days_scaled)\n",
        "\n",
        "# X_test veri kümesini numpy dizisine dönüştürün ve verileri tekrar eski haline çevirin\n",
        "pred_price_scaled = model.predict(np.array(X_test_new))\n",
        "pred_price_unscaled = scaler_pred.inverse_transform(pred_price_scaled.reshape(-1, 1))\n",
        "\n",
        "# Bir sonraki gün için son fiyatı ve tahmini fiyatı yazdırın\n",
        "price_today = np.round(new_df['Close'][-1], 2)\n",
        "predicted_price = np.round(pred_price_unscaled.ravel()[0], 2)\n",
        "change_percent = np.round(100 - (price_today * 100)/predicted_price, 2)\n",
        "\n",
        "plus = '+'; minus = ''\n",
        "print(f'The close price for {stockname} at {end_date} was {price_today}')\n",
        "print(f'The predicted close price is {predicted_price} ({plus if change_percent > 0 else minus}{change_percent}%)')"
      ]
    },
    {
      "cell_type": "markdown",
      "metadata": {
        "id": "IpHYS8p1qc41"
      },
      "source": [
        "## WindowSize + BatchSize Update"
      ]
    },
    {
      "cell_type": "code",
      "execution_count": 26,
      "metadata": {
        "tags": [],
        "colab": {
          "base_uri": "https://localhost:8080/"
        },
        "id": "-yh6M81dqc42",
        "outputId": "fa4b5d46-f91e-49ba-c95a-471bd4b3b7fc"
      },
      "outputs": [
        {
          "output_type": "stream",
          "name": "stdout",
          "text": [
            "(2696, 64, 5) (2696,)\n",
            "(690, 64, 5) (690,)\n",
            "0.0022024948890284144\n",
            "0.0022024948890284144\n"
          ]
        }
      ],
      "source": [
        "sequence_length = 64\n",
        "\n",
        "index_Close = data.columns.get_loc(\"Close\")\n",
        "\n",
        "# Verileri train test olarak ayırın.\n",
        "# Verilerin %80 ini eğitim için kullanacağız.\n",
        "train_data_len = math.ceil(np_data_scaled.shape[0] * 0.8)\n",
        "\n",
        "train_data = np_data_scaled[0:train_data_len, :]\n",
        "test_data = np_data_scaled[train_data_len - sequence_length:, :]\n",
        "\n",
        "# Model için verileri bu biçime dönüştürün : [samples, time steps, features] \n",
        "def partition_dataset(sequence_length, data):\n",
        "    x, y = [], []\n",
        "    data_len = data.shape[0]\n",
        "    for i in range(sequence_length, data_len):\n",
        "        x.append(data[i-sequence_length:i,:]) \n",
        "        y.append(data[i, index_Close]) \n",
        "\n",
        "    # Sonra bunları numpy array'e dönüştür.    \n",
        "    x = np.array(x)\n",
        "    y = np.array(y)\n",
        "    return x, y\n",
        "\n",
        "x_train, y_train = partition_dataset(sequence_length, train_data)\n",
        "x_test, y_test = partition_dataset(sequence_length, test_data)\n",
        "\n",
        "print(x_train.shape, y_train.shape)\n",
        "print(x_test.shape, y_test.shape)\n",
        "\n",
        "# İkinci girdi örneğinin son kapanış fiyatı ilk tahmin değerine eşit olmalıdır.\n",
        "print(x_train[1][sequence_length-1][index_Close])\n",
        "print(y_train[0])"
      ]
    },
    {
      "cell_type": "code",
      "execution_count": 27,
      "metadata": {
        "colab": {
          "base_uri": "https://localhost:8080/"
        },
        "id": "mJD2sToaqc43",
        "outputId": "63bfd85d-06c8-43fd-c990-666c70a2e4f1"
      },
      "outputs": [
        {
          "output_type": "execute_result",
          "data": {
            "text/plain": [
              "(2760, 5)"
            ]
          },
          "metadata": {},
          "execution_count": 27
        }
      ],
      "source": [
        "train_data.shape"
      ]
    },
    {
      "cell_type": "code",
      "execution_count": 28,
      "metadata": {
        "colab": {
          "base_uri": "https://localhost:8080/"
        },
        "id": "QM9Dd6vOqc43",
        "outputId": "944a637f-797e-408a-823f-e179a4252772"
      },
      "outputs": [
        {
          "output_type": "stream",
          "name": "stdout",
          "text": [
            "320 64 5\n",
            "Model: \"sequential_1\"\n",
            "_________________________________________________________________\n",
            " Layer (type)                Output Shape              Param #   \n",
            "=================================================================\n",
            " gru_2 (GRU)                 (None, 64, 320)           313920    \n",
            "                                                                 \n",
            " gru_3 (GRU)                 (None, 320)               616320    \n",
            "                                                                 \n",
            " dense_2 (Dense)             (None, 5)                 1605      \n",
            "                                                                 \n",
            " dense_3 (Dense)             (None, 1)                 6         \n",
            "                                                                 \n",
            "=================================================================\n",
            "Total params: 931,851\n",
            "Trainable params: 931,851\n",
            "Non-trainable params: 0\n",
            "_________________________________________________________________\n"
          ]
        }
      ],
      "source": [
        "model=Sequential()\n",
        "\n",
        "n_neurons = x_train.shape[1] * x_train.shape[2]\n",
        "print(n_neurons, x_train.shape[1], x_train.shape[2])\n",
        "\n",
        "model.add(GRU(n_neurons,return_sequences=True,input_shape=(x_train.shape[1], x_train.shape[2])))\n",
        "\n",
        "model.add(GRU(n_neurons,return_sequences=False))\n",
        "\n",
        "model.add(Dense(5))\n",
        "\n",
        "model.add(Dense(1))\n",
        "\n",
        "model.compile(loss='mean_squared_error',optimizer='adam')\n",
        "\n",
        "model.summary()"
      ]
    },
    {
      "cell_type": "code",
      "execution_count": 29,
      "metadata": {
        "id": "IHIFfeQCqc44"
      },
      "outputs": [],
      "source": [
        "callbacks = EarlyStopping(monitor = \"loss\",patience = 8,verbose = 1)"
      ]
    },
    {
      "cell_type": "code",
      "execution_count": 30,
      "metadata": {
        "colab": {
          "base_uri": "https://localhost:8080/"
        },
        "id": "SUc9wZYLqc44",
        "outputId": "5c6a3781-0baa-4320-bd69-55cf8d4bbc49"
      },
      "outputs": [
        {
          "output_type": "stream",
          "name": "stdout",
          "text": [
            "Epoch 1/50\n",
            "85/85 [==============================] - 51s 553ms/step - loss: 1.5835e-04 - val_loss: 0.0013\n",
            "Epoch 2/50\n",
            "85/85 [==============================] - 48s 565ms/step - loss: 4.4364e-07 - val_loss: 0.0013\n",
            "Epoch 3/50\n",
            "85/85 [==============================] - 50s 589ms/step - loss: 4.9348e-07 - val_loss: 0.0013\n",
            "Epoch 4/50\n",
            "85/85 [==============================] - 45s 535ms/step - loss: 4.5924e-07 - val_loss: 0.0013\n",
            "Epoch 5/50\n",
            "85/85 [==============================] - 47s 550ms/step - loss: 4.4357e-07 - val_loss: 0.0013\n",
            "Epoch 6/50\n",
            "85/85 [==============================] - 46s 545ms/step - loss: 4.3972e-07 - val_loss: 0.0013\n",
            "Epoch 7/50\n",
            "85/85 [==============================] - 44s 518ms/step - loss: 4.7875e-07 - val_loss: 0.0013\n",
            "Epoch 8/50\n",
            "85/85 [==============================] - 45s 531ms/step - loss: 4.1623e-07 - val_loss: 0.0013\n",
            "Epoch 9/50\n",
            "85/85 [==============================] - 44s 523ms/step - loss: 4.3567e-07 - val_loss: 0.0013\n",
            "Epoch 10/50\n",
            "85/85 [==============================] - 47s 549ms/step - loss: 4.2380e-07 - val_loss: 0.0013\n",
            "Epoch 11/50\n",
            "85/85 [==============================] - 44s 519ms/step - loss: 4.0924e-07 - val_loss: 0.0013\n",
            "Epoch 12/50\n",
            "85/85 [==============================] - 45s 532ms/step - loss: 5.0615e-07 - val_loss: 0.0014\n",
            "Epoch 13/50\n",
            "85/85 [==============================] - 44s 517ms/step - loss: 4.3567e-07 - val_loss: 0.0014\n",
            "Epoch 14/50\n",
            "85/85 [==============================] - 45s 533ms/step - loss: 5.6170e-07 - val_loss: 0.0014\n",
            "Epoch 15/50\n",
            "85/85 [==============================] - 44s 519ms/step - loss: 5.2120e-07 - val_loss: 0.0014\n",
            "Epoch 16/50\n",
            "85/85 [==============================] - 46s 546ms/step - loss: 4.1034e-07 - val_loss: 0.0014\n",
            "Epoch 17/50\n",
            "85/85 [==============================] - 44s 516ms/step - loss: 4.2999e-07 - val_loss: 0.0014\n",
            "Epoch 18/50\n",
            "85/85 [==============================] - 45s 530ms/step - loss: 4.9630e-07 - val_loss: 0.0014\n",
            "Epoch 19/50\n",
            "85/85 [==============================] - 44s 516ms/step - loss: 4.2645e-07 - val_loss: 0.0014\n",
            "Epoch 19: early stopping\n"
          ]
        }
      ],
      "source": [
        "epochs = 50\n",
        "batch_size = 32\n",
        "history = model.fit(x_train, y_train, \n",
        "                    batch_size=batch_size, \n",
        "                    epochs=epochs,\n",
        "                    validation_data=(x_test, y_test),\n",
        "                    callbacks = [callbacks]                 \n",
        "                   )\n",
        "    "
      ]
    },
    {
      "cell_type": "markdown",
      "metadata": {
        "id": "R9DCkyP9qc45"
      },
      "source": [
        "#### Burada tahmin başarı anlamında bir kayıp eğrisi çizdiriyoruz."
      ]
    },
    {
      "cell_type": "code",
      "execution_count": 31,
      "metadata": {
        "colab": {
          "base_uri": "https://localhost:8080/",
          "height": 487
        },
        "id": "TF4HI1SQqc45",
        "outputId": "cfd0fcc1-1dfe-482f-ac43-21d2b3e25d6e"
      },
      "outputs": [
        {
          "output_type": "display_data",
          "data": {
            "text/plain": [
              "<Figure size 1600x500 with 1 Axes>"
            ],
            "image/png": "[encoded data removed]"
          },
          "metadata": {}
        }
      ],
      "source": [
        "fig, ax = plt.subplots(figsize=(16, 5), sharex=True)\n",
        "sns.lineplot(data=history.history[\"loss\"])\n",
        "plt.title(\"Model loss\")\n",
        "plt.ylabel(\"Loss\")\n",
        "plt.xlabel(\"Epoch\")\n",
        "ax.xaxis.set_major_locator(plt.MaxNLocator(epochs))\n",
        "plt.legend([\"Train\", \"Test\"], loc=\"upper left\")\n",
        "plt.grid()\n",
        "plt.show()"
      ]
    },
    {
      "cell_type": "markdown",
      "metadata": {
        "tags": [],
        "id": "NECPPbXAqc46"
      },
      "source": [
        "#### Sinir ağı regresyon modelini eğittikten sonra performansını ölçmek istiyoruz. Önce tahminlerin ölçeklemesini tersine çevirmeliyiz. Daha sonra MAE, MAPE ve MDAPE gibi farklı hata metriklerini hesaplıyoruz. Ardından, bir çizgi grafiğindeki tahminleri gerçek değerlerle karşılaştıracağız."
      ]
    },
    {
      "cell_type": "code",
      "execution_count": 32,
      "metadata": {
        "colab": {
          "base_uri": "https://localhost:8080/"
        },
        "id": "5mievvLOqc46",
        "outputId": "8f374a40-7115-42cf-8a9c-df6ef20c9351"
      },
      "outputs": [
        {
          "output_type": "stream",
          "name": "stdout",
          "text": [
            "22/22 [==============================] - 4s 145ms/step\n",
            "R2: 0.548\n",
            "Median Absolute Error (MAE): 2.35\n",
            "Mean Absolute Percentage Error (MAPE): 3.68 %\n",
            "Median Absolute Percentage Error (MDAPE): 1.97 %\n"
          ]
        }
      ],
      "source": [
        "y_pred_scaled = model.predict(x_test)\n",
        "\n",
        "y_pred = scaler_pred.inverse_transform(y_pred_scaled)\n",
        "y_test_unscaled = scaler_pred.inverse_transform(y_test.reshape(-1, 1))\n",
        "\n",
        "R2 = r2_score(y_test_unscaled, y_pred)\n",
        "print(f'R2: {np.round(R2, 3)}')\n",
        "\n",
        "MAE = mean_absolute_error(y_test_unscaled, y_pred)\n",
        "print(f'Median Absolute Error (MAE): {np.round(MAE, 2)}')\n",
        "\n",
        "MAPE = np.mean((np.abs(np.subtract(y_test_unscaled, y_pred)/ y_test_unscaled))) * 100\n",
        "print(f'Mean Absolute Percentage Error (MAPE): {np.round(MAPE, 2)} %')\n",
        "\n",
        "MDAPE = np.median((np.abs(np.subtract(y_test_unscaled, y_pred)/ y_test_unscaled)) ) * 100\n",
        "print(f'Median Absolute Percentage Error (MDAPE): {np.round(MDAPE, 2)} %')"
      ]
    },
    {
      "cell_type": "markdown",
      "metadata": {
        "id": "-9O892dtqc47"
      },
      "source": [
        "#### Çizgi grafiği, tahminin gerçek değerlere yakın olduğunu ancak kısmen ondan saptığını gösterir. Gerçek değerler ve tahminler arasındaki sapmalara artıklar denir. Bizim modumuz için, bunlar en çok artan piyasa oynaklığının olduğu dönemlerde ve en az da istikrarlı piyasa hareketinin olduğu dönemlerde önemli görünmektedir, bu mantıklıdır çünkü ani hareketlerin genellikle tahmin edilmesi daha zordur."
      ]
    },
    {
      "cell_type": "code",
      "execution_count": 33,
      "metadata": {
        "colab": {
          "base_uri": "https://localhost:8080/",
          "height": 718
        },
        "id": "SaHWDE2-qc47",
        "outputId": "65588548-7f5a-4ce7-e148-8cd57f3d2dd6"
      },
      "outputs": [
        {
          "output_type": "display_data",
          "data": {
            "text/plain": [
              "<Figure size 1600x800 with 1 Axes>"
            ],
            "image/png": "[encoded data removed]"
          },
          "metadata": {}
        }
      ],
      "source": [
        "# Tarihin görüntülendiği tarih\n",
        "display_start_date = \"2019-01-01\" \n",
        "\n",
        "# Geçerli ve tahmini fiyatlar arasındaki fark\n",
        "train = pd.DataFrame(data_filtered_ext['Close'][:train_data_len + 1]).rename(columns={'Close': 'y_train'})\n",
        "valid = pd.DataFrame(data_filtered_ext['Close'][train_data_len:]).rename(columns={'Close': 'y_test'})\n",
        "valid.insert(1, \"y_pred\", y_pred, True)\n",
        "valid.insert(1, \"residuals\", valid[\"y_pred\"] - valid[\"y_test\"], True)\n",
        "df_union = pd.concat([train, valid])\n",
        "\n",
        "# Daha yakın bir zaman dilimine yakınlaştırın\n",
        "df_union_zoom = df_union[df_union.index > display_start_date]\n",
        "\n",
        "fig, ax1 = plt.subplots(figsize=(16, 8))\n",
        "plt.title(\"y_pred vs y_test\")\n",
        "plt.ylabel(stockname, fontsize=18)\n",
        "sns.set_palette([\"#090364\", \"#1960EF\", \"#EF5919\"])\n",
        "sns.lineplot(data=df_union_zoom[['y_pred', 'y_train', 'y_test']], linewidth=1.0, dashes=False, ax=ax1)\n",
        "\n",
        "# Farkların grafiği\n",
        "df_sub = [\"#2BC97A\" if x > 0 else \"#C92B2B\" for x in df_union_zoom[\"residuals\"].dropna()]\n",
        "ax1.bar(height=df_union_zoom['residuals'].dropna(), x=df_union_zoom['residuals'].dropna().index, width=3, label='residuals', color=df_sub)\n",
        "plt.legend()\n",
        "plt.show()"
      ]
    },
    {
      "cell_type": "code",
      "execution_count": 34,
      "metadata": {
        "colab": {
          "base_uri": "https://localhost:8080/"
        },
        "id": "JKCgeuGaqc48",
        "outputId": "5796c8ea-8c52-4eec-c322-195db6044c29"
      },
      "outputs": [
        {
          "output_type": "stream",
          "name": "stdout",
          "text": [
            "1/1 [==============================] - 0s 40ms/step\n",
            "The close price for Tupras at 2023-05-19 was 64.2\n",
            "The predicted close price is 68.51000213623047 (+6.29%)\n"
          ]
        }
      ],
      "source": [
        "df_temp = df[-sequence_length:]\n",
        "new_df = df_temp.filter(FEATURES)\n",
        "\n",
        "N = sequence_length\n",
        "\n",
        "# Son N günlük kapanış fiyatı değerlerini alın ve verileri 0 ile 1 arasında değerler olacak şekilde ölçeklendirin\n",
        "last_N_days = new_df[-sequence_length:].values\n",
        "last_N_days_scaled = scaler.transform(last_N_days)\n",
        "\n",
        "# Boş bir liste oluşturun ve son N günü ekleyin\n",
        "X_test_new = []\n",
        "X_test_new.append(last_N_days_scaled)\n",
        "\n",
        "# X_test veri kümesini numpy dizisine dönüştürün ve verileri tekrar eski haline çevirin\n",
        "pred_price_scaled = model.predict(np.array(X_test_new))\n",
        "pred_price_unscaled = scaler_pred.inverse_transform(pred_price_scaled.reshape(-1, 1))\n",
        "\n",
        "# Bir sonraki gün için son fiyatı ve tahmini fiyatı yazdırın\n",
        "price_today = np.round(new_df['Close'][-1], 2)\n",
        "predicted_price = np.round(pred_price_unscaled.ravel()[0], 2)\n",
        "change_percent = np.round(100 - (price_today * 100)/predicted_price, 2)\n",
        "\n",
        "plus = '+'; minus = ''\n",
        "print(f'The close price for {stockname} at {end_date} was {price_today}')\n",
        "print(f'The predicted close price is {predicted_price} ({plus if change_percent > 0 else minus}{change_percent}%)')"
      ]
    },
    {
      "cell_type": "markdown",
      "metadata": {
        "id": "qvqs9f9Wqc5F"
      },
      "source": [
        "## Hidden Layer + Neuron"
      ]
    },
    {
      "cell_type": "code",
      "execution_count": 35,
      "metadata": {
        "tags": [],
        "colab": {
          "base_uri": "https://localhost:8080/"
        },
        "id": "4X6REngrqc5F",
        "outputId": "e4f4f4f8-9c8c-4dd9-8c51-cae16ffefe3f"
      },
      "outputs": [
        {
          "output_type": "stream",
          "name": "stdout",
          "text": [
            "(2696, 64, 5) (2696,)\n",
            "(690, 64, 5) (690,)\n",
            "0.0022024948890284144\n",
            "0.0022024948890284144\n"
          ]
        }
      ],
      "source": [
        "sequence_length = 64\n",
        "\n",
        "index_Close = data.columns.get_loc(\"Close\")\n",
        "\n",
        "# Verileri train test olarak ayırın.\n",
        "# Verilerin %80 ini eğitim için kullanacağız.\n",
        "train_data_len = math.ceil(np_data_scaled.shape[0] * 0.8)\n",
        "\n",
        "train_data = np_data_scaled[0:train_data_len, :]\n",
        "test_data = np_data_scaled[train_data_len - sequence_length:, :]\n",
        "\n",
        "# Model için verileri bu biçime dönüştürün : [samples, time steps, features] \n",
        "def partition_dataset(sequence_length, data):\n",
        "    x, y = [], []\n",
        "    data_len = data.shape[0]\n",
        "    for i in range(sequence_length, data_len):\n",
        "        x.append(data[i-sequence_length:i,:]) \n",
        "        y.append(data[i, index_Close]) \n",
        "\n",
        "    # Sonra bunları numpy array'e dönüştür.    \n",
        "    x = np.array(x)\n",
        "    y = np.array(y)\n",
        "    return x, y\n",
        "\n",
        "x_train, y_train = partition_dataset(sequence_length, train_data)\n",
        "x_test, y_test = partition_dataset(sequence_length, test_data)\n",
        "\n",
        "print(x_train.shape, y_train.shape)\n",
        "print(x_test.shape, y_test.shape)\n",
        "\n",
        "# İkinci girdi örneğinin son kapanış fiyatı ilk tahmin değerine eşit olmalıdır.\n",
        "print(x_train[1][sequence_length-1][index_Close])\n",
        "print(y_train[0])"
      ]
    },
    {
      "cell_type": "code",
      "execution_count": 36,
      "metadata": {
        "colab": {
          "base_uri": "https://localhost:8080/"
        },
        "id": "etwDoUC1qc5G",
        "outputId": "904b2188-9f02-4bfd-d6ab-ab8cb4a5c7b4"
      },
      "outputs": [
        {
          "output_type": "execute_result",
          "data": {
            "text/plain": [
              "(2760, 5)"
            ]
          },
          "metadata": {},
          "execution_count": 36
        }
      ],
      "source": [
        "train_data.shape"
      ]
    },
    {
      "cell_type": "code",
      "execution_count": 37,
      "metadata": {
        "colab": {
          "base_uri": "https://localhost:8080/"
        },
        "id": "avsEsuoqqc5G",
        "outputId": "7aece1d6-bb5d-4292-c8a2-5cc289d3d33a"
      },
      "outputs": [
        {
          "output_type": "stream",
          "name": "stdout",
          "text": [
            "320 64 5\n",
            "Model: \"sequential_2\"\n",
            "_________________________________________________________________\n",
            " Layer (type)                Output Shape              Param #   \n",
            "=================================================================\n",
            " gru_4 (GRU)                 (None, 64, 320)           313920    \n",
            "                                                                 \n",
            " gru_5 (GRU)                 (None, 64, 160)           231360    \n",
            "                                                                 \n",
            " gru_6 (GRU)                 (None, 64, 80)            58080     \n",
            "                                                                 \n",
            " gru_7 (GRU)                 (None, 40)                14640     \n",
            "                                                                 \n",
            " dense_4 (Dense)             (None, 5)                 205       \n",
            "                                                                 \n",
            " dense_5 (Dense)             (None, 1)                 6         \n",
            "                                                                 \n",
            "=================================================================\n",
            "Total params: 618,211\n",
            "Trainable params: 618,211\n",
            "Non-trainable params: 0\n",
            "_________________________________________________________________\n"
          ]
        }
      ],
      "source": [
        "model=Sequential()\n",
        "\n",
        "n_neurons = x_train.shape[1] * x_train.shape[2]\n",
        "print(n_neurons, x_train.shape[1], x_train.shape[2])\n",
        "\n",
        "model.add(GRU(n_neurons,return_sequences=True,input_shape=(x_train.shape[1], x_train.shape[2])))\n",
        "\n",
        "model.add(GRU(160,return_sequences=True,input_shape=(x_train.shape[1], x_train.shape[2])))\n",
        "\n",
        "model.add(GRU(80,return_sequences=True,input_shape=(x_train.shape[1], x_train.shape[2])))\n",
        "\n",
        "model.add(GRU(40,return_sequences=False))\n",
        "\n",
        "model.add(Dense(5))\n",
        "\n",
        "model.add(Dense(1))\n",
        "\n",
        "model.compile(loss='mean_squared_error',optimizer='adam')\n",
        "\n",
        "model.summary()"
      ]
    },
    {
      "cell_type": "code",
      "execution_count": 38,
      "metadata": {
        "id": "WCs4LCTAqc5G"
      },
      "outputs": [],
      "source": [
        "callbacks = EarlyStopping(monitor = \"loss\",patience = 8,verbose = 1)"
      ]
    },
    {
      "cell_type": "code",
      "execution_count": 39,
      "metadata": {
        "colab": {
          "base_uri": "https://localhost:8080/"
        },
        "id": "-7inaU1Jqc5H",
        "outputId": "ff451bce-9327-4b4e-dea5-6e171a7626a2"
      },
      "outputs": [
        {
          "output_type": "stream",
          "name": "stdout",
          "text": [
            "Epoch 1/50\n",
            "85/85 [==============================] - 48s 462ms/step - loss: 1.7289e-04 - val_loss: 0.0012\n",
            "Epoch 2/50\n",
            "85/85 [==============================] - 37s 440ms/step - loss: 9.4130e-07 - val_loss: 0.0012\n",
            "Epoch 3/50\n",
            "85/85 [==============================] - 39s 458ms/step - loss: 9.3028e-07 - val_loss: 0.0012\n",
            "Epoch 4/50\n",
            "85/85 [==============================] - 38s 450ms/step - loss: 1.0256e-06 - val_loss: 0.0012\n",
            "Epoch 5/50\n",
            "85/85 [==============================] - 38s 449ms/step - loss: 8.4403e-07 - val_loss: 0.0012\n",
            "Epoch 6/50\n",
            "85/85 [==============================] - 38s 447ms/step - loss: 9.1887e-07 - val_loss: 0.0012\n",
            "Epoch 7/50\n",
            "85/85 [==============================] - 38s 449ms/step - loss: 8.4400e-07 - val_loss: 0.0012\n",
            "Epoch 8/50\n",
            "85/85 [==============================] - 38s 451ms/step - loss: 8.7594e-07 - val_loss: 0.0012\n",
            "Epoch 9/50\n",
            "85/85 [==============================] - 38s 447ms/step - loss: 8.1685e-07 - val_loss: 0.0012\n",
            "Epoch 10/50\n",
            "85/85 [==============================] - 39s 460ms/step - loss: 7.3797e-07 - val_loss: 0.0012\n",
            "Epoch 11/50\n",
            "85/85 [==============================] - 38s 443ms/step - loss: 8.2017e-07 - val_loss: 0.0012\n",
            "Epoch 12/50\n",
            "85/85 [==============================] - 38s 443ms/step - loss: 1.1257e-06 - val_loss: 0.0012\n",
            "Epoch 13/50\n",
            "85/85 [==============================] - 37s 442ms/step - loss: 8.4901e-07 - val_loss: 0.0012\n",
            "Epoch 14/50\n",
            "85/85 [==============================] - 37s 438ms/step - loss: 7.9201e-07 - val_loss: 0.0012\n",
            "Epoch 15/50\n",
            "85/85 [==============================] - 37s 437ms/step - loss: 7.9077e-07 - val_loss: 0.0013\n",
            "Epoch 16/50\n",
            "85/85 [==============================] - 38s 447ms/step - loss: 1.0268e-06 - val_loss: 0.0013\n",
            "Epoch 17/50\n",
            "85/85 [==============================] - 41s 481ms/step - loss: 7.4237e-07 - val_loss: 0.0013\n",
            "Epoch 18/50\n",
            "85/85 [==============================] - 42s 497ms/step - loss: 7.2341e-07 - val_loss: 0.0013\n",
            "Epoch 19/50\n",
            "85/85 [==============================] - 39s 465ms/step - loss: 9.0969e-07 - val_loss: 0.0013\n",
            "Epoch 20/50\n",
            "85/85 [==============================] - 40s 466ms/step - loss: 7.7854e-07 - val_loss: 0.0013\n",
            "Epoch 21/50\n",
            "85/85 [==============================] - 41s 478ms/step - loss: 8.5890e-07 - val_loss: 0.0013\n",
            "Epoch 22/50\n",
            "85/85 [==============================] - 40s 473ms/step - loss: 7.5302e-07 - val_loss: 0.0013\n",
            "Epoch 23/50\n",
            "85/85 [==============================] - 41s 477ms/step - loss: 1.0165e-06 - val_loss: 0.0013\n",
            "Epoch 24/50\n",
            "85/85 [==============================] - 40s 471ms/step - loss: 6.7745e-07 - val_loss: 0.0013\n",
            "Epoch 25/50\n",
            "85/85 [==============================] - 41s 487ms/step - loss: 7.5553e-07 - val_loss: 0.0013\n",
            "Epoch 26/50\n",
            "85/85 [==============================] - 39s 466ms/step - loss: 7.9657e-07 - val_loss: 0.0013\n",
            "Epoch 27/50\n",
            "85/85 [==============================] - 40s 470ms/step - loss: 6.7867e-07 - val_loss: 0.0013\n",
            "Epoch 28/50\n",
            "85/85 [==============================] - 39s 462ms/step - loss: 9.5822e-07 - val_loss: 0.0013\n",
            "Epoch 29/50\n",
            "85/85 [==============================] - 39s 461ms/step - loss: 8.6422e-07 - val_loss: 0.0013\n",
            "Epoch 30/50\n",
            "85/85 [==============================] - 40s 465ms/step - loss: 6.5948e-07 - val_loss: 0.0013\n",
            "Epoch 31/50\n",
            "85/85 [==============================] - 40s 463ms/step - loss: 7.8445e-07 - val_loss: 0.0013\n",
            "Epoch 32/50\n",
            "85/85 [==============================] - 40s 477ms/step - loss: 6.0516e-07 - val_loss: 0.0013\n",
            "Epoch 33/50\n",
            "85/85 [==============================] - 39s 461ms/step - loss: 9.0491e-07 - val_loss: 0.0013\n",
            "Epoch 34/50\n",
            "85/85 [==============================] - 39s 461ms/step - loss: 6.8513e-07 - val_loss: 0.0013\n",
            "Epoch 35/50\n",
            "85/85 [==============================] - 39s 462ms/step - loss: 8.8359e-07 - val_loss: 0.0014\n",
            "Epoch 36/50\n",
            "85/85 [==============================] - 39s 462ms/step - loss: 8.2999e-07 - val_loss: 0.0014\n",
            "Epoch 37/50\n",
            "85/85 [==============================] - 39s 460ms/step - loss: 7.2233e-07 - val_loss: 0.0014\n",
            "Epoch 38/50\n",
            "85/85 [==============================] - 39s 465ms/step - loss: 7.5851e-07 - val_loss: 0.0014\n",
            "Epoch 39/50\n",
            "85/85 [==============================] - 41s 479ms/step - loss: 7.1522e-07 - val_loss: 0.0014\n",
            "Epoch 40/50\n",
            "85/85 [==============================] - 42s 495ms/step - loss: 7.0484e-07 - val_loss: 0.0014\n",
            "Epoch 40: early stopping\n"
          ]
        }
      ],
      "source": [
        "epochs = 50\n",
        "batch_size = 32\n",
        "history = model.fit(x_train, y_train, \n",
        "                    batch_size=batch_size, \n",
        "                    epochs=epochs,\n",
        "                    validation_data=(x_test, y_test),\n",
        "                    callbacks = [callbacks]                 \n",
        "                   )\n",
        "    "
      ]
    },
    {
      "cell_type": "markdown",
      "metadata": {
        "id": "Ag09Znk0qc5H"
      },
      "source": [
        "#### Burada tahmin başarı anlamında bir kayıp eğrisi çizdiriyoruz."
      ]
    },
    {
      "cell_type": "code",
      "execution_count": 40,
      "metadata": {
        "colab": {
          "base_uri": "https://localhost:8080/",
          "height": 487
        },
        "id": "B2uUctGPqc5H",
        "outputId": "ffce0761-9e3c-4154-9847-0f871f3bcb43"
      },
      "outputs": [
        {
          "output_type": "display_data",
          "data": {
            "text/plain": [
              "<Figure size 1600x500 with 1 Axes>"
            ],
            "image/png": "[encoded data removed]"
          },
          "metadata": {}
        }
      ],
      "source": [
        "fig, ax = plt.subplots(figsize=(16, 5), sharex=True)\n",
        "sns.lineplot(data=history.history[\"loss\"])\n",
        "plt.title(\"Model loss\")\n",
        "plt.ylabel(\"Loss\")\n",
        "plt.xlabel(\"Epoch\")\n",
        "ax.xaxis.set_major_locator(plt.MaxNLocator(epochs))\n",
        "plt.legend([\"Train\", \"Test\"], loc=\"upper left\")\n",
        "plt.grid()\n",
        "plt.show()"
      ]
    },
    {
      "cell_type": "markdown",
      "metadata": {
        "tags": [],
        "id": "MCbj-RcQqc5H"
      },
      "source": [
        "#### Sinir ağı regresyon modelini eğittikten sonra performansını ölçmek istiyoruz. Önce tahminlerin ölçeklemesini tersine çevirmeliyiz. Daha sonra MAE, MAPE ve MDAPE gibi farklı hata metriklerini hesaplıyoruz. Ardından, bir çizgi grafiğindeki tahminleri gerçek değerlerle karşılaştıracağız."
      ]
    },
    {
      "cell_type": "code",
      "execution_count": 41,
      "metadata": {
        "colab": {
          "base_uri": "https://localhost:8080/"
        },
        "id": "Q-wijccXqc5I",
        "outputId": "72bc45b2-8969-4c5e-a465-f5f96d94ef4c"
      },
      "outputs": [
        {
          "output_type": "stream",
          "name": "stdout",
          "text": [
            "22/22 [==============================] - 4s 118ms/step\n",
            "R2: 0.569\n",
            "Median Absolute Error (MAE): 2.48\n",
            "Mean Absolute Percentage Error (MAPE): 4.02 %\n",
            "Median Absolute Percentage Error (MDAPE): 2.2 %\n"
          ]
        }
      ],
      "source": [
        "y_pred_scaled = model.predict(x_test)\n",
        "\n",
        "y_pred = scaler_pred.inverse_transform(y_pred_scaled)\n",
        "y_test_unscaled = scaler_pred.inverse_transform(y_test.reshape(-1, 1))\n",
        "\n",
        "R2 = r2_score(y_test_unscaled, y_pred)\n",
        "print(f'R2: {np.round(R2, 3)}')\n",
        "\n",
        "MAE = mean_absolute_error(y_test_unscaled, y_pred)\n",
        "print(f'Median Absolute Error (MAE): {np.round(MAE, 2)}')\n",
        "\n",
        "MAPE = np.mean((np.abs(np.subtract(y_test_unscaled, y_pred)/ y_test_unscaled))) * 100\n",
        "print(f'Mean Absolute Percentage Error (MAPE): {np.round(MAPE, 2)} %')\n",
        "\n",
        "MDAPE = np.median((np.abs(np.subtract(y_test_unscaled, y_pred)/ y_test_unscaled)) ) * 100\n",
        "print(f'Median Absolute Percentage Error (MDAPE): {np.round(MDAPE, 2)} %')"
      ]
    },
    {
      "cell_type": "markdown",
      "metadata": {
        "id": "5HNWK_iwqc5I"
      },
      "source": [
        "#### Çizgi grafiği, tahminin gerçek değerlere yakın olduğunu ancak kısmen ondan saptığını gösterir. Gerçek değerler ve tahminler arasındaki sapmalara artıklar denir. Bizim modumuz için, bunlar en çok artan piyasa oynaklığının olduğu dönemlerde ve en az da istikrarlı piyasa hareketinin olduğu dönemlerde önemli görünmektedir, bu mantıklıdır çünkü ani hareketlerin genellikle tahmin edilmesi daha zordur."
      ]
    },
    {
      "cell_type": "code",
      "execution_count": 42,
      "metadata": {
        "colab": {
          "base_uri": "https://localhost:8080/",
          "height": 718
        },
        "id": "A5HMurPwqc5I",
        "outputId": "d8d73db9-fd1c-4f56-b533-a5a211858220"
      },
      "outputs": [
        {
          "output_type": "display_data",
          "data": {
            "text/plain": [
              "<Figure size 1600x800 with 1 Axes>"
            ],
            "image/png": "[encoded data removed]"
          },
          "metadata": {}
        }
      ],
      "source": [
        "# Tarihin görüntülendiği tarih\n",
        "display_start_date = \"2019-01-01\" \n",
        "\n",
        "# Geçerli ve tahmini fiyatlar arasındaki fark\n",
        "train = pd.DataFrame(data_filtered_ext['Close'][:train_data_len + 1]).rename(columns={'Close': 'y_train'})\n",
        "valid = pd.DataFrame(data_filtered_ext['Close'][train_data_len:]).rename(columns={'Close': 'y_test'})\n",
        "valid.insert(1, \"y_pred\", y_pred, True)\n",
        "valid.insert(1, \"residuals\", valid[\"y_pred\"] - valid[\"y_test\"], True)\n",
        "df_union = pd.concat([train, valid])\n",
        "\n",
        "# Daha yakın bir zaman dilimine yakınlaştırın\n",
        "df_union_zoom = df_union[df_union.index > display_start_date]\n",
        "\n",
        "fig, ax1 = plt.subplots(figsize=(16, 8))\n",
        "plt.title(\"y_pred vs y_test\")\n",
        "plt.ylabel(stockname, fontsize=18)\n",
        "sns.set_palette([\"#090364\", \"#1960EF\", \"#EF5919\"])\n",
        "sns.lineplot(data=df_union_zoom[['y_pred', 'y_train', 'y_test']], linewidth=1.0, dashes=False, ax=ax1)\n",
        "\n",
        "# Farkların grafiği\n",
        "df_sub = [\"#2BC97A\" if x > 0 else \"#C92B2B\" for x in df_union_zoom[\"residuals\"].dropna()]\n",
        "ax1.bar(height=df_union_zoom['residuals'].dropna(), x=df_union_zoom['residuals'].dropna().index, width=3, label='residuals', color=df_sub)\n",
        "plt.legend()\n",
        "plt.show()"
      ]
    },
    {
      "cell_type": "code",
      "execution_count": 43,
      "metadata": {
        "colab": {
          "base_uri": "https://localhost:8080/"
        },
        "id": "iXUU_nQqqc5I",
        "outputId": "6c5fa47a-d154-432b-e85c-95eab28cfa0b"
      },
      "outputs": [
        {
          "output_type": "stream",
          "name": "stdout",
          "text": [
            "1/1 [==============================] - 0s 44ms/step\n",
            "The close price for Tupras at 2023-05-19 was 64.2\n",
            "The predicted close price is 68.69000244140625 (+6.54%)\n"
          ]
        }
      ],
      "source": [
        "df_temp = df[-sequence_length:]\n",
        "new_df = df_temp.filter(FEATURES)\n",
        "\n",
        "N = sequence_length\n",
        "\n",
        "# Son N günlük kapanış fiyatı değerlerini alın ve verileri 0 ile 1 arasında değerler olacak şekilde ölçeklendirin\n",
        "last_N_days = new_df[-sequence_length:].values\n",
        "last_N_days_scaled = scaler.transform(last_N_days)\n",
        "\n",
        "# Boş bir liste oluşturun ve son N günü ekleyin\n",
        "X_test_new = []\n",
        "X_test_new.append(last_N_days_scaled)\n",
        "\n",
        "# X_test veri kümesini numpy dizisine dönüştürün ve verileri tekrar eski haline çevirin\n",
        "pred_price_scaled = model.predict(np.array(X_test_new))\n",
        "pred_price_unscaled = scaler_pred.inverse_transform(pred_price_scaled.reshape(-1, 1))\n",
        "\n",
        "# Bir sonraki gün için son fiyatı ve tahmini fiyatı yazdırın\n",
        "price_today = np.round(new_df['Close'][-1], 2)\n",
        "predicted_price = np.round(pred_price_unscaled.ravel()[0], 2)\n",
        "change_percent = np.round(100 - (price_today * 100)/predicted_price, 2)\n",
        "\n",
        "plus = '+'; minus = ''\n",
        "print(f'The close price for {stockname} at {end_date} was {price_today}')\n",
        "print(f'The predicted close price is {predicted_price} ({plus if change_percent > 0 else minus}{change_percent}%)')"
      ]
    },
    {
      "cell_type": "code",
      "execution_count": 43,
      "metadata": {
        "id": "0_1j3-uRqc5J"
      },
      "outputs": [],
      "source": []
    }
  ],
  "metadata": {
    "kernelspec": {
      "display_name": "Python 3 (ipykernel)",
      "language": "python",
      "name": "python3"
    },
    "language_info": {
      "codemirror_mode": {
        "name": "ipython",
        "version": 3
      },
      "file_extension": ".py",
      "mimetype": "text/x-python",
      "name": "python",
      "nbconvert_exporter": "python",
      "pygments_lexer": "ipython3",
      "version": "3.9.12"
    },
    "colab": {
      "provenance": [],
      "include_colab_link": true
    }
  },
  "nbformat": 4,
  "nbformat_minor": 0
}