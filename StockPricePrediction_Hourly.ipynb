{
 "cells": [
  {
   "cell_type": "code",
   "execution_count": 2,
   "id": "72723e18-8df1-4fb9-bb50-e32ae5beb29d",
   "metadata": {
    "tags": []
   },
   "outputs": [
    {
     "name": "stdout",
     "output_type": "stream",
     "text": [
      "[*********************100%***********************]  1 of 1 completed\n"
     ]
    },
    {
     "data": {
      "text/html": [
       "<div>\n",
       "<style scoped>\n",
       "    .dataframe tbody tr th:only-of-type {\n",
       "        vertical-align: middle;\n",
       "    }\n",
       "\n",
       "    .dataframe tbody tr th {\n",
       "        vertical-align: top;\n",
       "    }\n",
       "\n",
       "    .dataframe thead th {\n",
       "        text-align: right;\n",
       "    }\n",
       "</style>\n",
       "<table border=\"1\" class=\"dataframe\">\n",
       "  <thead>\n",
       "    <tr style=\"text-align: right;\">\n",
       "      <th></th>\n",
       "      <th>Open</th>\n",
       "      <th>High</th>\n",
       "      <th>Low</th>\n",
       "      <th>Close</th>\n",
       "      <th>Adj Close</th>\n",
       "      <th>Volume</th>\n",
       "    </tr>\n",
       "  </thead>\n",
       "  <tbody>\n",
       "    <tr>\n",
       "      <th>2021-03-01 10:30:00+03:00</th>\n",
       "      <td>13.77</td>\n",
       "      <td>13.85</td>\n",
       "      <td>13.71</td>\n",
       "      <td>13.76</td>\n",
       "      <td>13.76</td>\n",
       "      <td>21521935</td>\n",
       "    </tr>\n",
       "    <tr>\n",
       "      <th>2021-03-01 11:30:00+03:00</th>\n",
       "      <td>13.75</td>\n",
       "      <td>13.79</td>\n",
       "      <td>13.73</td>\n",
       "      <td>13.78</td>\n",
       "      <td>13.78</td>\n",
       "      <td>7746918</td>\n",
       "    </tr>\n",
       "    <tr>\n",
       "      <th>2021-03-01 12:30:00+03:00</th>\n",
       "      <td>13.78</td>\n",
       "      <td>13.89</td>\n",
       "      <td>13.75</td>\n",
       "      <td>13.88</td>\n",
       "      <td>13.88</td>\n",
       "      <td>12583176</td>\n",
       "    </tr>\n",
       "    <tr>\n",
       "      <th>2021-03-01 13:30:00+03:00</th>\n",
       "      <td>13.87</td>\n",
       "      <td>13.92</td>\n",
       "      <td>13.82</td>\n",
       "      <td>13.84</td>\n",
       "      <td>13.84</td>\n",
       "      <td>12688402</td>\n",
       "    </tr>\n",
       "    <tr>\n",
       "      <th>2021-03-01 14:30:00+03:00</th>\n",
       "      <td>13.84</td>\n",
       "      <td>13.88</td>\n",
       "      <td>13.79</td>\n",
       "      <td>13.84</td>\n",
       "      <td>13.84</td>\n",
       "      <td>6893867</td>\n",
       "    </tr>\n",
       "  </tbody>\n",
       "</table>\n",
       "</div>"
      ],
      "text/plain": [
       "                            Open   High    Low  Close  Adj Close    Volume\n",
       "2021-03-01 10:30:00+03:00  13.77  13.85  13.71  13.76      13.76  21521935\n",
       "2021-03-01 11:30:00+03:00  13.75  13.79  13.73  13.78      13.78   7746918\n",
       "2021-03-01 12:30:00+03:00  13.78  13.89  13.75  13.88      13.88  12583176\n",
       "2021-03-01 13:30:00+03:00  13.87  13.92  13.82  13.84      13.84  12688402\n",
       "2021-03-01 14:30:00+03:00  13.84  13.88  13.79  13.84      13.84   6893867"
      ]
     },
     "execution_count": 2,
     "metadata": {},
     "output_type": "execute_result"
    }
   ],
   "source": [
    "import math \n",
    "import numpy as np \n",
    "import pandas as pd \n",
    "from datetime import date, timedelta, datetime\n",
    "from pandas.plotting import register_matplotlib_converters\n",
    "import matplotlib.pyplot as plt \n",
    "import matplotlib.dates as mdates \n",
    "import tensorflow as tf\n",
    "from sklearn.metrics import mean_absolute_error, mean_squared_error, r2_score\n",
    "from tensorflow.keras import Sequential \n",
    "from tensorflow.keras.layers import LSTM, Dense, Dropout, BatchNormalization\n",
    "from tensorflow.keras.callbacks import EarlyStopping,ModelCheckpoint\n",
    "from sklearn.preprocessing import RobustScaler, MinMaxScaler \n",
    "import seaborn as sns \n",
    "\n",
    "end_date =  date.today().strftime(\"%Y-%m-%d\")\n",
    "start_date = '2021-03-01'\n",
    "\n",
    "stockname = 'Turkish Airlines'\n",
    "symbol = 'THYAO.IS'\n",
    "\n",
    "import yfinance as yf \n",
    "df = yf.download(symbol, start=start_date, end=end_date, interval = \"1h\")\n",
    "\n",
    "df.head()"
   ]
  },
  {
   "cell_type": "code",
   "execution_count": 23,
   "id": "1a26046c-c474-430d-bb5a-a9f59b1de7c9",
   "metadata": {},
   "outputs": [],
   "source": [
    "df = df.rename_axis('Date')"
   ]
  },
  {
   "cell_type": "code",
   "execution_count": 24,
   "id": "719d93a7-780e-47e3-8fda-2e30a2fe9f50",
   "metadata": {},
   "outputs": [],
   "source": [
    "pd.options.display.float_format = '{:.3f}'.format"
   ]
  },
  {
   "cell_type": "code",
   "execution_count": 25,
   "id": "797a2f89-eb2d-4772-86bf-c0a6a71040dc",
   "metadata": {},
   "outputs": [
    {
     "data": {
      "text/html": [
       "<div>\n",
       "<style scoped>\n",
       "    .dataframe tbody tr th:only-of-type {\n",
       "        vertical-align: middle;\n",
       "    }\n",
       "\n",
       "    .dataframe tbody tr th {\n",
       "        vertical-align: top;\n",
       "    }\n",
       "\n",
       "    .dataframe thead th {\n",
       "        text-align: right;\n",
       "    }\n",
       "</style>\n",
       "<table border=\"1\" class=\"dataframe\">\n",
       "  <thead>\n",
       "    <tr style=\"text-align: right;\">\n",
       "      <th></th>\n",
       "      <th>Open</th>\n",
       "      <th>High</th>\n",
       "      <th>Low</th>\n",
       "      <th>Close</th>\n",
       "      <th>Adj Close</th>\n",
       "      <th>Volume</th>\n",
       "    </tr>\n",
       "    <tr>\n",
       "      <th>Date</th>\n",
       "      <th></th>\n",
       "      <th></th>\n",
       "      <th></th>\n",
       "      <th></th>\n",
       "      <th></th>\n",
       "      <th></th>\n",
       "    </tr>\n",
       "  </thead>\n",
       "  <tbody>\n",
       "    <tr>\n",
       "      <th>2021-03-01 10:30:00+03:00</th>\n",
       "      <td>13.770</td>\n",
       "      <td>13.850</td>\n",
       "      <td>13.710</td>\n",
       "      <td>13.760</td>\n",
       "      <td>13.760</td>\n",
       "      <td>21521935</td>\n",
       "    </tr>\n",
       "    <tr>\n",
       "      <th>2021-03-01 11:30:00+03:00</th>\n",
       "      <td>13.750</td>\n",
       "      <td>13.790</td>\n",
       "      <td>13.730</td>\n",
       "      <td>13.780</td>\n",
       "      <td>13.780</td>\n",
       "      <td>7746918</td>\n",
       "    </tr>\n",
       "    <tr>\n",
       "      <th>2021-03-01 12:30:00+03:00</th>\n",
       "      <td>13.780</td>\n",
       "      <td>13.890</td>\n",
       "      <td>13.750</td>\n",
       "      <td>13.880</td>\n",
       "      <td>13.880</td>\n",
       "      <td>12583176</td>\n",
       "    </tr>\n",
       "    <tr>\n",
       "      <th>2021-03-01 13:30:00+03:00</th>\n",
       "      <td>13.870</td>\n",
       "      <td>13.920</td>\n",
       "      <td>13.820</td>\n",
       "      <td>13.840</td>\n",
       "      <td>13.840</td>\n",
       "      <td>12688402</td>\n",
       "    </tr>\n",
       "    <tr>\n",
       "      <th>2021-03-01 14:30:00+03:00</th>\n",
       "      <td>13.840</td>\n",
       "      <td>13.880</td>\n",
       "      <td>13.790</td>\n",
       "      <td>13.840</td>\n",
       "      <td>13.840</td>\n",
       "      <td>6893867</td>\n",
       "    </tr>\n",
       "  </tbody>\n",
       "</table>\n",
       "</div>"
      ],
      "text/plain": [
       "                            Open   High    Low  Close  Adj Close    Volume\n",
       "Date                                                                      \n",
       "2021-03-01 10:30:00+03:00 13.770 13.850 13.710 13.760     13.760  21521935\n",
       "2021-03-01 11:30:00+03:00 13.750 13.790 13.730 13.780     13.780   7746918\n",
       "2021-03-01 12:30:00+03:00 13.780 13.890 13.750 13.880     13.880  12583176\n",
       "2021-03-01 13:30:00+03:00 13.870 13.920 13.820 13.840     13.840  12688402\n",
       "2021-03-01 14:30:00+03:00 13.840 13.880 13.790 13.840     13.840   6893867"
      ]
     },
     "execution_count": 25,
     "metadata": {},
     "output_type": "execute_result"
    }
   ],
   "source": [
    "df.head()"
   ]
  },
  {
   "cell_type": "code",
   "execution_count": 26,
   "id": "5c271218-eb45-477a-bd85-5202b60b5c0e",
   "metadata": {},
   "outputs": [
    {
     "name": "stdout",
     "output_type": "stream",
     "text": [
      "<class 'pandas.core.frame.DataFrame'>\n",
      "DatetimeIndex: 3933 entries, 2021-03-01 10:30:00+03:00 to 2023-02-02 17:30:00+03:00\n",
      "Data columns (total 6 columns):\n",
      " #   Column     Non-Null Count  Dtype  \n",
      "---  ------     --------------  -----  \n",
      " 0   Open       3933 non-null   float64\n",
      " 1   High       3933 non-null   float64\n",
      " 2   Low        3933 non-null   float64\n",
      " 3   Close      3933 non-null   float64\n",
      " 4   Adj Close  3933 non-null   float64\n",
      " 5   Volume     3933 non-null   int64  \n",
      "dtypes: float64(5), int64(1)\n",
      "memory usage: 215.1 KB\n"
     ]
    }
   ],
   "source": [
    "df.info()"
   ]
  },
  {
   "cell_type": "code",
   "execution_count": 27,
   "id": "c0f33db2-b40d-4be3-b5bf-fe8c88e450f5",
   "metadata": {},
   "outputs": [
    {
     "data": {
      "text/plain": [
       "(3933, 6)"
      ]
     },
     "execution_count": 27,
     "metadata": {},
     "output_type": "execute_result"
    }
   ],
   "source": [
    "df.shape"
   ]
  },
  {
   "cell_type": "code",
   "execution_count": 28,
   "id": "7b1f32d5-8ed5-452c-9850-046ae54306c5",
   "metadata": {},
   "outputs": [
    {
     "data": {
      "image/png": "[encoded data removed]",
      "text/plain": [
       "<Figure size 1008x504 with 6 Axes>"
      ]
     },
     "metadata": {
      "needs_background": "light"
     },
     "output_type": "display_data"
    }
   ],
   "source": [
    "df_plot = df.copy()\n",
    "\n",
    "ncols = 2\n",
    "nrows = int(round(df_plot.shape[1] / ncols, 0))\n",
    "\n",
    "fig, ax = plt.subplots(nrows=nrows, ncols=ncols, sharex=True, figsize=(14, 7))\n",
    "for i, ax in enumerate(fig.axes):\n",
    "        sns.lineplot(data = df_plot.iloc[:, i], ax=ax)\n",
    "        ax.tick_params(axis=\"x\", rotation=30, labelsize=10, length=0)\n",
    "        ax.xaxis.set_major_locator(mdates.AutoDateLocator())\n",
    "fig.tight_layout()\n",
    "plt.show()"
   ]
  },
  {
   "cell_type": "code",
   "execution_count": 29,
   "id": "b8bb7440-ed38-4d03-8147-3be7b286e8cc",
   "metadata": {},
   "outputs": [
    {
     "name": "stdout",
     "output_type": "stream",
     "text": [
      "FEATURE LIST\n",
      "['High', 'Low', 'Open', 'Close', 'Volume']\n"
     ]
    },
    {
     "data": {
      "text/html": [
       "<div>\n",
       "<style scoped>\n",
       "    .dataframe tbody tr th:only-of-type {\n",
       "        vertical-align: middle;\n",
       "    }\n",
       "\n",
       "    .dataframe tbody tr th {\n",
       "        vertical-align: top;\n",
       "    }\n",
       "\n",
       "    .dataframe thead th {\n",
       "        text-align: right;\n",
       "    }\n",
       "</style>\n",
       "<table border=\"1\" class=\"dataframe\">\n",
       "  <thead>\n",
       "    <tr style=\"text-align: right;\">\n",
       "      <th></th>\n",
       "      <th>High</th>\n",
       "      <th>Low</th>\n",
       "      <th>Open</th>\n",
       "      <th>Close</th>\n",
       "      <th>Volume</th>\n",
       "      <th>Prediction</th>\n",
       "    </tr>\n",
       "    <tr>\n",
       "      <th>Date</th>\n",
       "      <th></th>\n",
       "      <th></th>\n",
       "      <th></th>\n",
       "      <th></th>\n",
       "      <th></th>\n",
       "      <th></th>\n",
       "    </tr>\n",
       "  </thead>\n",
       "  <tbody>\n",
       "    <tr>\n",
       "      <th>2023-02-02 13:30:00+03:00</th>\n",
       "      <td>134.300</td>\n",
       "      <td>132.800</td>\n",
       "      <td>133.500</td>\n",
       "      <td>132.900</td>\n",
       "      <td>3395831</td>\n",
       "      <td>132.900</td>\n",
       "    </tr>\n",
       "    <tr>\n",
       "      <th>2023-02-02 14:30:00+03:00</th>\n",
       "      <td>133.300</td>\n",
       "      <td>131.600</td>\n",
       "      <td>132.900</td>\n",
       "      <td>132.000</td>\n",
       "      <td>4626281</td>\n",
       "      <td>132.000</td>\n",
       "    </tr>\n",
       "    <tr>\n",
       "      <th>2023-02-02 15:30:00+03:00</th>\n",
       "      <td>132.100</td>\n",
       "      <td>125.100</td>\n",
       "      <td>132.000</td>\n",
       "      <td>126.800</td>\n",
       "      <td>16885054</td>\n",
       "      <td>126.800</td>\n",
       "    </tr>\n",
       "    <tr>\n",
       "      <th>2023-02-02 16:30:00+03:00</th>\n",
       "      <td>131.100</td>\n",
       "      <td>126.500</td>\n",
       "      <td>126.800</td>\n",
       "      <td>130.200</td>\n",
       "      <td>14529607</td>\n",
       "      <td>130.200</td>\n",
       "    </tr>\n",
       "    <tr>\n",
       "      <th>2023-02-02 17:30:00+03:00</th>\n",
       "      <td>134.700</td>\n",
       "      <td>130.700</td>\n",
       "      <td>131.200</td>\n",
       "      <td>134.600</td>\n",
       "      <td>12981878</td>\n",
       "      <td>134.600</td>\n",
       "    </tr>\n",
       "  </tbody>\n",
       "</table>\n",
       "</div>"
      ],
      "text/plain": [
       "                             High     Low    Open   Close    Volume  \\\n",
       "Date                                                                  \n",
       "2023-02-02 13:30:00+03:00 134.300 132.800 133.500 132.900   3395831   \n",
       "2023-02-02 14:30:00+03:00 133.300 131.600 132.900 132.000   4626281   \n",
       "2023-02-02 15:30:00+03:00 132.100 125.100 132.000 126.800  16885054   \n",
       "2023-02-02 16:30:00+03:00 131.100 126.500 126.800 130.200  14529607   \n",
       "2023-02-02 17:30:00+03:00 134.700 130.700 131.200 134.600  12981878   \n",
       "\n",
       "                           Prediction  \n",
       "Date                                   \n",
       "2023-02-02 13:30:00+03:00     132.900  \n",
       "2023-02-02 14:30:00+03:00     132.000  \n",
       "2023-02-02 15:30:00+03:00     126.800  \n",
       "2023-02-02 16:30:00+03:00     130.200  \n",
       "2023-02-02 17:30:00+03:00     134.600  "
      ]
     },
     "execution_count": 29,
     "metadata": {},
     "output_type": "execute_result"
    }
   ],
   "source": [
    "train_df = df.sort_values(by=['Date']).copy()\n",
    "\n",
    "FEATURES = ['High', 'Low', 'Open', 'Close', 'Volume'\n",
    "            ,# 'Month' , 'Year', 'Adj Close'\n",
    "           ]\n",
    "\n",
    "print('FEATURE LIST')\n",
    "print([f for f in FEATURES])\n",
    "\n",
    "data = pd.DataFrame(train_df)\n",
    "data_filtered = data[FEATURES]\n",
    "\n",
    "data_filtered_ext = data_filtered.copy()\n",
    "data_filtered_ext['Prediction'] = data_filtered_ext['Close']\n",
    "\n",
    "data_filtered_ext.tail()"
   ]
  },
  {
   "cell_type": "code",
   "execution_count": 30,
   "id": "8e5a78d8-5c5c-466a-925e-f787d60846c9",
   "metadata": {},
   "outputs": [
    {
     "data": {
      "text/html": [
       "<div>\n",
       "<style scoped>\n",
       "    .dataframe tbody tr th:only-of-type {\n",
       "        vertical-align: middle;\n",
       "    }\n",
       "\n",
       "    .dataframe tbody tr th {\n",
       "        vertical-align: top;\n",
       "    }\n",
       "\n",
       "    .dataframe thead th {\n",
       "        text-align: right;\n",
       "    }\n",
       "</style>\n",
       "<table border=\"1\" class=\"dataframe\">\n",
       "  <thead>\n",
       "    <tr style=\"text-align: right;\">\n",
       "      <th></th>\n",
       "      <th>High</th>\n",
       "      <th>Low</th>\n",
       "      <th>Open</th>\n",
       "      <th>Close</th>\n",
       "      <th>Volume</th>\n",
       "    </tr>\n",
       "    <tr>\n",
       "      <th>Date</th>\n",
       "      <th></th>\n",
       "      <th></th>\n",
       "      <th></th>\n",
       "      <th></th>\n",
       "      <th></th>\n",
       "    </tr>\n",
       "  </thead>\n",
       "  <tbody>\n",
       "    <tr>\n",
       "      <th>2023-02-02 13:30:00+03:00</th>\n",
       "      <td>134.300</td>\n",
       "      <td>132.800</td>\n",
       "      <td>133.500</td>\n",
       "      <td>132.900</td>\n",
       "      <td>3395831</td>\n",
       "    </tr>\n",
       "    <tr>\n",
       "      <th>2023-02-02 14:30:00+03:00</th>\n",
       "      <td>133.300</td>\n",
       "      <td>131.600</td>\n",
       "      <td>132.900</td>\n",
       "      <td>132.000</td>\n",
       "      <td>4626281</td>\n",
       "    </tr>\n",
       "    <tr>\n",
       "      <th>2023-02-02 15:30:00+03:00</th>\n",
       "      <td>132.100</td>\n",
       "      <td>125.100</td>\n",
       "      <td>132.000</td>\n",
       "      <td>126.800</td>\n",
       "      <td>16885054</td>\n",
       "    </tr>\n",
       "    <tr>\n",
       "      <th>2023-02-02 16:30:00+03:00</th>\n",
       "      <td>131.100</td>\n",
       "      <td>126.500</td>\n",
       "      <td>126.800</td>\n",
       "      <td>130.200</td>\n",
       "      <td>14529607</td>\n",
       "    </tr>\n",
       "    <tr>\n",
       "      <th>2023-02-02 17:30:00+03:00</th>\n",
       "      <td>134.700</td>\n",
       "      <td>130.700</td>\n",
       "      <td>131.200</td>\n",
       "      <td>134.600</td>\n",
       "      <td>12981878</td>\n",
       "    </tr>\n",
       "  </tbody>\n",
       "</table>\n",
       "</div>"
      ],
      "text/plain": [
       "                             High     Low    Open   Close    Volume\n",
       "Date                                                               \n",
       "2023-02-02 13:30:00+03:00 134.300 132.800 133.500 132.900   3395831\n",
       "2023-02-02 14:30:00+03:00 133.300 131.600 132.900 132.000   4626281\n",
       "2023-02-02 15:30:00+03:00 132.100 125.100 132.000 126.800  16885054\n",
       "2023-02-02 16:30:00+03:00 131.100 126.500 126.800 130.200  14529607\n",
       "2023-02-02 17:30:00+03:00 134.700 130.700 131.200 134.600  12981878"
      ]
     },
     "execution_count": 30,
     "metadata": {},
     "output_type": "execute_result"
    }
   ],
   "source": [
    "data_filtered.tail()"
   ]
  },
  {
   "cell_type": "markdown",
   "id": "725094ba-aadd-42fa-a9f1-0c962325876c",
   "metadata": {},
   "source": [
    "data_filtered = data_filtered.drop(\"Close\",axis = 1)"
   ]
  },
  {
   "cell_type": "code",
   "execution_count": 31,
   "id": "4c9acd69-be7a-46cb-86f5-9fb90695b423",
   "metadata": {},
   "outputs": [
    {
     "data": {
      "text/html": [
       "<div>\n",
       "<style scoped>\n",
       "    .dataframe tbody tr th:only-of-type {\n",
       "        vertical-align: middle;\n",
       "    }\n",
       "\n",
       "    .dataframe tbody tr th {\n",
       "        vertical-align: top;\n",
       "    }\n",
       "\n",
       "    .dataframe thead th {\n",
       "        text-align: right;\n",
       "    }\n",
       "</style>\n",
       "<table border=\"1\" class=\"dataframe\">\n",
       "  <thead>\n",
       "    <tr style=\"text-align: right;\">\n",
       "      <th></th>\n",
       "      <th>High</th>\n",
       "      <th>Low</th>\n",
       "      <th>Open</th>\n",
       "      <th>Close</th>\n",
       "      <th>Volume</th>\n",
       "    </tr>\n",
       "    <tr>\n",
       "      <th>Date</th>\n",
       "      <th></th>\n",
       "      <th></th>\n",
       "      <th></th>\n",
       "      <th></th>\n",
       "      <th></th>\n",
       "    </tr>\n",
       "  </thead>\n",
       "  <tbody>\n",
       "    <tr>\n",
       "      <th>2023-02-02 13:30:00+03:00</th>\n",
       "      <td>134.300</td>\n",
       "      <td>132.800</td>\n",
       "      <td>133.500</td>\n",
       "      <td>132.900</td>\n",
       "      <td>3395831</td>\n",
       "    </tr>\n",
       "    <tr>\n",
       "      <th>2023-02-02 14:30:00+03:00</th>\n",
       "      <td>133.300</td>\n",
       "      <td>131.600</td>\n",
       "      <td>132.900</td>\n",
       "      <td>132.000</td>\n",
       "      <td>4626281</td>\n",
       "    </tr>\n",
       "    <tr>\n",
       "      <th>2023-02-02 15:30:00+03:00</th>\n",
       "      <td>132.100</td>\n",
       "      <td>125.100</td>\n",
       "      <td>132.000</td>\n",
       "      <td>126.800</td>\n",
       "      <td>16885054</td>\n",
       "    </tr>\n",
       "    <tr>\n",
       "      <th>2023-02-02 16:30:00+03:00</th>\n",
       "      <td>131.100</td>\n",
       "      <td>126.500</td>\n",
       "      <td>126.800</td>\n",
       "      <td>130.200</td>\n",
       "      <td>14529607</td>\n",
       "    </tr>\n",
       "    <tr>\n",
       "      <th>2023-02-02 17:30:00+03:00</th>\n",
       "      <td>134.700</td>\n",
       "      <td>130.700</td>\n",
       "      <td>131.200</td>\n",
       "      <td>134.600</td>\n",
       "      <td>12981878</td>\n",
       "    </tr>\n",
       "  </tbody>\n",
       "</table>\n",
       "</div>"
      ],
      "text/plain": [
       "                             High     Low    Open   Close    Volume\n",
       "Date                                                               \n",
       "2023-02-02 13:30:00+03:00 134.300 132.800 133.500 132.900   3395831\n",
       "2023-02-02 14:30:00+03:00 133.300 131.600 132.900 132.000   4626281\n",
       "2023-02-02 15:30:00+03:00 132.100 125.100 132.000 126.800  16885054\n",
       "2023-02-02 16:30:00+03:00 131.100 126.500 126.800 130.200  14529607\n",
       "2023-02-02 17:30:00+03:00 134.700 130.700 131.200 134.600  12981878"
      ]
     },
     "execution_count": 31,
     "metadata": {},
     "output_type": "execute_result"
    }
   ],
   "source": [
    "data_filtered.tail()"
   ]
  },
  {
   "cell_type": "code",
   "execution_count": 32,
   "id": "216f754d-bdc2-4746-b3f3-e21c4e7eab29",
   "metadata": {},
   "outputs": [
    {
     "name": "stdout",
     "output_type": "stream",
     "text": [
      "(3933, 5)\n"
     ]
    }
   ],
   "source": [
    "nrows = data_filtered.shape[0]\n",
    "\n",
    "np_data_unscaled = np.array(data_filtered)\n",
    "np_data = np.reshape(np_data_unscaled, (nrows, -1))\n",
    "print(np_data.shape)\n",
    "\n",
    "scaler = MinMaxScaler()\n",
    "np_data_scaled = scaler.fit_transform(np_data_unscaled)\n",
    "\n",
    "scaler_pred = MinMaxScaler()\n",
    "df_Close = pd.DataFrame(data_filtered_ext['Close'])\n",
    "np_Close_scaled = scaler_pred.fit_transform(df_Close)"
   ]
  },
  {
   "cell_type": "code",
   "execution_count": 33,
   "id": "ab77fa2a-3a01-4701-b38c-f881a2f997b3",
   "metadata": {},
   "outputs": [],
   "source": [
    "np.set_printoptions(precision=3)"
   ]
  },
  {
   "cell_type": "markdown",
   "id": "ae0cd3a1-74e5-47b4-8a96-10e4544eca73",
   "metadata": {},
   "source": [
    "np_data = np.around(np_data, 3)"
   ]
  },
  {
   "cell_type": "code",
   "execution_count": 34,
   "id": "6e553964-f12d-4a55-82ee-dbfb7ef09f93",
   "metadata": {},
   "outputs": [
    {
     "data": {
      "text/plain": [
       "array([1.379e+01, 1.373e+01, 1.375e+01, 1.378e+01, 7.747e+06])"
      ]
     },
     "execution_count": 34,
     "metadata": {},
     "output_type": "execute_result"
    }
   ],
   "source": [
    "np_data[1]"
   ]
  },
  {
   "cell_type": "code",
   "execution_count": 35,
   "id": "24238638-8ae6-4ab7-bde2-90f1a4a7106b",
   "metadata": {},
   "outputs": [
    {
     "data": {
      "text/plain": [
       "array([0.02 , 0.021, 0.021, 0.021, 0.191])"
      ]
     },
     "execution_count": 35,
     "metadata": {},
     "output_type": "execute_result"
    }
   ],
   "source": [
    "np_data_scaled[0]"
   ]
  },
  {
   "cell_type": "code",
   "execution_count": 36,
   "id": "d4f83e46-4d58-490b-961e-1d929a775e47",
   "metadata": {},
   "outputs": [
    {
     "data": {
      "text/plain": [
       "array([0.021])"
      ]
     },
     "execution_count": 36,
     "metadata": {},
     "output_type": "execute_result"
    }
   ],
   "source": [
    "np_Close_scaled[0]"
   ]
  },
  {
   "cell_type": "code",
   "execution_count": 37,
   "id": "1a7de22f-53b0-4ac9-bcc6-d12a4dbf621d",
   "metadata": {},
   "outputs": [
    {
     "name": "stdout",
     "output_type": "stream",
     "text": [
      "(3097, 50, 5) (3097,)\n",
      "(786, 50, 5) (786,)\n",
      "0.02898849478580552\n",
      "0.02898849478580552\n"
     ]
    }
   ],
   "source": [
    "sequence_length = 50\n",
    "\n",
    "index_Close = data.columns.get_loc(\"Close\")\n",
    "\n",
    "# Verileri train test olarak ayırın.\n",
    "# Verilerin %80 ini eğitim için kullanacağız.\n",
    "train_data_len = math.ceil(np_data_scaled.shape[0] * 0.8)\n",
    "\n",
    "train_data = np_data_scaled[0:train_data_len, :]\n",
    "test_data = np_data_scaled[train_data_len - sequence_length:, :]\n",
    "\n",
    "# Model için verileri bu biçime dönüştürün : [samples, time steps, features] \n",
    "def partition_dataset(sequence_length, data):\n",
    "    x, y = [], []\n",
    "    data_len = data.shape[0]\n",
    "    for i in range(sequence_length, data_len):\n",
    "        x.append(data[i-sequence_length:i,:]) \n",
    "        y.append(data[i, index_Close]) \n",
    "\n",
    "    # Sonra bunları numpy array'e dönüştür.    \n",
    "    x = np.array(x)\n",
    "    y = np.array(y)\n",
    "    return x, y\n",
    "\n",
    "x_train, y_train = partition_dataset(sequence_length, train_data)\n",
    "x_test, y_test = partition_dataset(sequence_length, test_data)\n",
    "\n",
    "print(x_train.shape, y_train.shape)\n",
    "print(x_test.shape, y_test.shape)\n",
    "\n",
    "# İkinci girdi örneğinin son kapanış fiyatı ilk tahmin değerine eşit olmalıdır.\n",
    "print(x_train[1][sequence_length-1][index_Close])\n",
    "print(y_train[0])"
   ]
  },
  {
   "cell_type": "code",
   "execution_count": 38,
   "id": "2504af88-4776-49d0-9815-515ba80a6fe8",
   "metadata": {},
   "outputs": [
    {
     "name": "stdout",
     "output_type": "stream",
     "text": [
      "250 50 5\n"
     ]
    }
   ],
   "source": [
    "model = Sequential()\n",
    "\n",
    "n_neurons = x_train.shape[1] * x_train.shape[2]\n",
    "print(n_neurons, x_train.shape[1], x_train.shape[2])\n",
    "\n",
    "model.add(LSTM(n_neurons, return_sequences=True, input_shape=(x_train.shape[1], x_train.shape[2]))) \n",
    "\n",
    "model.add(LSTM(n_neurons, return_sequences=False))\n",
    "\n",
    "model.add(Dense(5))\n",
    "\n",
    "model.add(Dense(1))\n",
    "\n",
    "model.compile(optimizer='adam', loss='mse')"
   ]
  },
  {
   "cell_type": "code",
   "execution_count": 40,
   "id": "986fbd11-3ec0-48b5-8826-28bbefb5493f",
   "metadata": {},
   "outputs": [],
   "source": [
    "callbacks = EarlyStopping(monitor = \"loss\",patience = 6,verbose = 1)"
   ]
  },
  {
   "cell_type": "code",
   "execution_count": 41,
   "id": "c785e159-5855-44b7-8551-9191d4fcb15f",
   "metadata": {},
   "outputs": [
    {
     "name": "stdout",
     "output_type": "stream",
     "text": [
      "Epoch 1/50\n",
      "194/194 [==============================] - 23s 100ms/step - loss: 2.8920e-04 - val_loss: 0.0023\n",
      "Epoch 2/50\n",
      "194/194 [==============================] - 18s 92ms/step - loss: 3.7471e-05 - val_loss: 5.5585e-04\n",
      "Epoch 3/50\n",
      "194/194 [==============================] - 18s 92ms/step - loss: 3.2814e-05 - val_loss: 0.0019\n",
      "Epoch 4/50\n",
      "194/194 [==============================] - 17s 90ms/step - loss: 4.5571e-05 - val_loss: 0.0018\n",
      "Epoch 5/50\n",
      "194/194 [==============================] - 18s 91ms/step - loss: 2.3282e-05 - val_loss: 1.7190e-04\n",
      "Epoch 6/50\n",
      "194/194 [==============================] - 18s 93ms/step - loss: 2.0590e-05 - val_loss: 0.0010\n",
      "Epoch 7/50\n",
      "194/194 [==============================] - 19s 98ms/step - loss: 2.8127e-05 - val_loss: 3.1952e-04\n",
      "Epoch 8/50\n",
      "194/194 [==============================] - 18s 94ms/step - loss: 2.5940e-05 - val_loss: 2.2287e-04\n",
      "Epoch 9/50\n",
      "194/194 [==============================] - 19s 96ms/step - loss: 1.7438e-05 - val_loss: 1.9299e-04\n",
      "Epoch 10/50\n",
      "194/194 [==============================] - 18s 94ms/step - loss: 1.9292e-05 - val_loss: 1.3266e-04\n",
      "Epoch 11/50\n",
      "194/194 [==============================] - 18s 95ms/step - loss: 1.8788e-05 - val_loss: 1.6954e-04\n",
      "Epoch 12/50\n",
      "194/194 [==============================] - 18s 95ms/step - loss: 1.8534e-05 - val_loss: 2.8840e-04\n",
      "Epoch 13/50\n",
      "194/194 [==============================] - 19s 97ms/step - loss: 2.1703e-05 - val_loss: 1.6201e-04\n",
      "Epoch 14/50\n",
      "194/194 [==============================] - 19s 97ms/step - loss: 1.6721e-05 - val_loss: 1.3147e-04\n",
      "Epoch 15/50\n",
      "194/194 [==============================] - 19s 96ms/step - loss: 1.7963e-05 - val_loss: 1.9345e-04\n",
      "Epoch 16/50\n",
      "194/194 [==============================] - 19s 98ms/step - loss: 2.0411e-05 - val_loss: 2.5379e-04\n",
      "Epoch 17/50\n",
      "194/194 [==============================] - 19s 97ms/step - loss: 2.3854e-05 - val_loss: 1.1828e-04\n",
      "Epoch 18/50\n",
      "194/194 [==============================] - 19s 98ms/step - loss: 1.0922e-05 - val_loss: 3.6946e-04\n",
      "Epoch 19/50\n",
      "194/194 [==============================] - 19s 98ms/step - loss: 1.5478e-05 - val_loss: 1.9126e-04\n",
      "Epoch 20/50\n",
      "194/194 [==============================] - 19s 97ms/step - loss: 2.1616e-05 - val_loss: 4.9111e-04\n",
      "Epoch 21/50\n",
      "194/194 [==============================] - 19s 96ms/step - loss: 3.4852e-05 - val_loss: 1.3225e-04\n",
      "Epoch 22/50\n",
      "194/194 [==============================] - 19s 97ms/step - loss: 1.4916e-05 - val_loss: 1.6225e-04\n",
      "Epoch 23/50\n",
      "194/194 [==============================] - 19s 99ms/step - loss: 1.5588e-05 - val_loss: 1.1707e-04\n",
      "Epoch 24/50\n",
      "194/194 [==============================] - 19s 99ms/step - loss: 1.2532e-05 - val_loss: 7.3874e-04\n",
      "Epoch 24: early stopping\n"
     ]
    }
   ],
   "source": [
    "epochs = 50\n",
    "batch_size = 16\n",
    "history = model.fit(x_train, y_train, \n",
    "                    batch_size=batch_size, \n",
    "                    epochs=epochs,\n",
    "                    validation_data=(x_test, y_test),\n",
    "                    callbacks = [callbacks]                 \n",
    "                   )\n",
    "    "
   ]
  },
  {
   "cell_type": "code",
   "execution_count": 42,
   "id": "1e7b9d8f-a96d-4423-94d1-08215ea42f23",
   "metadata": {},
   "outputs": [
    {
     "data": {
      "image/png": "[encoded data removed]",
      "text/plain": [
       "<Figure size 1152x360 with 1 Axes>"
      ]
     },
     "metadata": {
      "needs_background": "light"
     },
     "output_type": "display_data"
    }
   ],
   "source": [
    "fig, ax = plt.subplots(figsize=(16, 5), sharex=True)\n",
    "sns.lineplot(data=history.history[\"loss\"])\n",
    "plt.title(\"Model loss\")\n",
    "plt.ylabel(\"Loss\")\n",
    "plt.xlabel(\"Epoch\")\n",
    "ax.xaxis.set_major_locator(plt.MaxNLocator(epochs))\n",
    "plt.legend([\"Train\", \"Test\"], loc=\"upper left\")\n",
    "plt.grid()\n",
    "plt.show()"
   ]
  },
  {
   "cell_type": "code",
   "execution_count": 43,
   "id": "6a5bd905-f3f7-455e-8340-494125cd89bc",
   "metadata": {},
   "outputs": [
    {
     "name": "stdout",
     "output_type": "stream",
     "text": [
      "25/25 [==============================] - 2s 69ms/step\n",
      "R2: 0.976\n",
      "Median Absolute Error (MAE): 3.52\n",
      "Mean Absolute Percentage Error (MAPE): 2.89 %\n",
      "Median Absolute Percentage Error (MDAPE): 2.85 %\n"
     ]
    }
   ],
   "source": [
    "y_pred_scaled = model.predict(x_test)\n",
    "\n",
    "y_pred = scaler_pred.inverse_transform(y_pred_scaled)\n",
    "y_test_unscaled = scaler_pred.inverse_transform(y_test.reshape(-1, 1))\n",
    "\n",
    "R2 = r2_score(y_test_unscaled, y_pred)\n",
    "print(f'R2: {np.round(R2, 3)}')\n",
    "\n",
    "MAE = mean_absolute_error(y_test_unscaled, y_pred)\n",
    "print(f'Median Absolute Error (MAE): {np.round(MAE, 2)}')\n",
    "\n",
    "MAPE = np.mean((np.abs(np.subtract(y_test_unscaled, y_pred)/ y_test_unscaled))) * 100\n",
    "print(f'Mean Absolute Percentage Error (MAPE): {np.round(MAPE, 2)} %')\n",
    "\n",
    "MDAPE = np.median((np.abs(np.subtract(y_test_unscaled, y_pred)/ y_test_unscaled)) ) * 100\n",
    "print(f'Median Absolute Percentage Error (MDAPE): {np.round(MDAPE, 2)} %')"
   ]
  },
  {
   "cell_type": "code",
   "execution_count": 44,
   "id": "16e779f0-e0ea-4a60-bad0-af15744a8b84",
   "metadata": {},
   "outputs": [
    {
     "data": {
      "image/png": "[encoded data removed]",
      "text/plain": [
       "<Figure size 1152x576 with 1 Axes>"
      ]
     },
     "metadata": {
      "needs_background": "light"
     },
     "output_type": "display_data"
    }
   ],
   "source": [
    "# Tarihin görüntülendiği tarih\n",
    "display_start_date = \"2019-01-01\" \n",
    "\n",
    "# Geçerli ve tahmini fiyatlar arasındaki fark\n",
    "train = pd.DataFrame(data_filtered_ext['Close'][:train_data_len + 1]).rename(columns={'Close': 'y_train'})\n",
    "valid = pd.DataFrame(data_filtered_ext['Close'][train_data_len:]).rename(columns={'Close': 'y_test'})\n",
    "valid.insert(1, \"y_pred\", y_pred, True)\n",
    "valid.insert(1, \"residuals\", valid[\"y_pred\"] - valid[\"y_test\"], True)\n",
    "df_union = pd.concat([train, valid])\n",
    "\n",
    "# Daha yakın bir zaman dilimine yakınlaştırın\n",
    "df_union_zoom = df_union[df_union.index > display_start_date]\n",
    "\n",
    "fig, ax1 = plt.subplots(figsize=(16, 8))\n",
    "plt.title(\"y_pred vs y_test\")\n",
    "plt.ylabel(stockname, fontsize=18)\n",
    "sns.set_palette([\"#090364\", \"#1960EF\", \"#EF5919\"])\n",
    "sns.lineplot(data=df_union_zoom[['y_pred', 'y_train', 'y_test']], linewidth=1.0, dashes=False, ax=ax1)\n",
    "\n",
    "# Farkların grafiği\n",
    "df_sub = [\"#2BC97A\" if x > 0 else \"#C92B2B\" for x in df_union_zoom[\"residuals\"].dropna()]\n",
    "ax1.bar(height=df_union_zoom['residuals'].dropna(), x=df_union_zoom['residuals'].dropna().index, width=3, label='residuals', color=df_sub)\n",
    "plt.legend()\n",
    "plt.show()"
   ]
  },
  {
   "cell_type": "code",
   "execution_count": 45,
   "id": "01e91341-f3e0-4ad1-8367-88f9779c975f",
   "metadata": {},
   "outputs": [
    {
     "name": "stdout",
     "output_type": "stream",
     "text": [
      "1/1 [==============================] - 0s 32ms/step\n",
      "The close price for Turkish Airlines at 2023-02-03 was 134.6\n",
      "The predicted close price is 128.42999267578125 (-4.8%)\n"
     ]
    }
   ],
   "source": [
    "df_temp = df[-sequence_length:]\n",
    "new_df = df_temp.filter(FEATURES)\n",
    "\n",
    "N = sequence_length\n",
    "\n",
    "# Son N günlük kapanış fiyatı değerlerini alın ve verileri 0 ile 1 arasında değerler olacak şekilde ölçeklendirin\n",
    "last_N_days = new_df[-sequence_length:].values\n",
    "last_N_days_scaled = scaler.transform(last_N_days)\n",
    "\n",
    "# Boş bir liste oluşturun ve son N günü ekleyin\n",
    "X_test_new = []\n",
    "X_test_new.append(last_N_days_scaled)\n",
    "\n",
    "# X_test veri kümesini numpy dizisine dönüştürün ve verileri tekrar eski haline çevirin\n",
    "pred_price_scaled = model.predict(np.array(X_test_new))\n",
    "pred_price_unscaled = scaler_pred.inverse_transform(pred_price_scaled.reshape(-1, 1))\n",
    "\n",
    "# Bir sonraki gün için son fiyatı ve tahmini fiyatı yazdırın\n",
    "price_today = np.round(new_df['Close'][-1], 2)\n",
    "predicted_price = np.round(pred_price_unscaled.ravel()[0], 2)\n",
    "change_percent = np.round(100 - (price_today * 100)/predicted_price, 2)\n",
    "\n",
    "plus = '+'; minus = ''\n",
    "print(f'The close price for {stockname} at {end_date} was {price_today}')\n",
    "print(f'The predicted close price is {predicted_price} ({plus if change_percent > 0 else minus}{change_percent}%)')"
   ]
  },
  {
   "cell_type": "code",
   "execution_count": null,
   "id": "4bfdb00c-140e-4925-a8a6-4a0bd9c5d7b0",
   "metadata": {},
   "outputs": [],
   "source": []
  },
  {
   "cell_type": "markdown",
   "id": "1a5c1811-658d-4e4f-b282-e9f3621ae3de",
   "metadata": {},
   "source": [
    "## WindowSize + BatchSize Update"
   ]
  },
  {
   "cell_type": "code",
   "execution_count": 55,
   "id": "f723ca3a-737e-4975-a7f3-706f43750c70",
   "metadata": {
    "tags": []
   },
   "outputs": [
    {
     "name": "stdout",
     "output_type": "stream",
     "text": [
      "(3083, 64, 5) (3083,)\n",
      "(786, 64, 5) (786,)\n",
      "0.028437644934134282\n",
      "0.028437644934134282\n"
     ]
    }
   ],
   "source": [
    "sequence_length = 64\n",
    "\n",
    "index_Close = data.columns.get_loc(\"Close\")\n",
    "\n",
    "# Verileri train test olarak ayırın.\n",
    "# Verilerin %80 ini eğitim için kullanacağız.\n",
    "train_data_len = math.ceil(np_data_scaled.shape[0] * 0.8)\n",
    "\n",
    "train_data = np_data_scaled[0:train_data_len, :]\n",
    "test_data = np_data_scaled[train_data_len - sequence_length:, :]\n",
    "\n",
    "# Model için verileri bu biçime dönüştürün : [samples, time steps, features] \n",
    "def partition_dataset(sequence_length, data):\n",
    "    x, y = [], []\n",
    "    data_len = data.shape[0]\n",
    "    for i in range(sequence_length, data_len):\n",
    "        x.append(data[i-sequence_length:i,:]) \n",
    "        y.append(data[i, index_Close]) \n",
    "\n",
    "    # Sonra bunları numpy array'e dönüştür.    \n",
    "    x = np.array(x)\n",
    "    y = np.array(y)\n",
    "    return x, y\n",
    "\n",
    "x_train, y_train = partition_dataset(sequence_length, train_data)\n",
    "x_test, y_test = partition_dataset(sequence_length, test_data)\n",
    "\n",
    "print(x_train.shape, y_train.shape)\n",
    "print(x_test.shape, y_test.shape)\n",
    "\n",
    "# İkinci girdi örneğinin son kapanış fiyatı ilk tahmin değerine eşit olmalıdır.\n",
    "print(x_train[1][sequence_length-1][index_Close])\n",
    "print(y_train[0])"
   ]
  },
  {
   "cell_type": "code",
   "execution_count": 56,
   "id": "a641cd7f-d969-447b-ae54-745074c0ae1f",
   "metadata": {},
   "outputs": [
    {
     "data": {
      "text/plain": [
       "(3147, 5)"
      ]
     },
     "execution_count": 56,
     "metadata": {},
     "output_type": "execute_result"
    }
   ],
   "source": [
    "train_data.shape"
   ]
  },
  {
   "cell_type": "code",
   "execution_count": 57,
   "id": "3b3b333b-a327-48db-8550-788838c2761e",
   "metadata": {},
   "outputs": [
    {
     "name": "stdout",
     "output_type": "stream",
     "text": [
      "320 64 5\n",
      "Model: \"sequential_2\"\n",
      "_________________________________________________________________\n",
      " Layer (type)                Output Shape              Param #   \n",
      "=================================================================\n",
      " lstm_4 (LSTM)               (None, 64, 320)           417280    \n",
      "                                                                 \n",
      " lstm_5 (LSTM)               (None, 320)               820480    \n",
      "                                                                 \n",
      " dense_4 (Dense)             (None, 5)                 1605      \n",
      "                                                                 \n",
      " dense_5 (Dense)             (None, 1)                 6         \n",
      "                                                                 \n",
      "=================================================================\n",
      "Total params: 1,239,371\n",
      "Trainable params: 1,239,371\n",
      "Non-trainable params: 0\n",
      "_________________________________________________________________\n"
     ]
    }
   ],
   "source": [
    "model=Sequential()\n",
    "\n",
    "n_neurons = x_train.shape[1] * x_train.shape[2]\n",
    "print(n_neurons, x_train.shape[1], x_train.shape[2])\n",
    "\n",
    "model.add(LSTM(n_neurons,return_sequences=True,input_shape=(x_train.shape[1], x_train.shape[2])))\n",
    "\n",
    "model.add(LSTM(n_neurons,return_sequences=False))\n",
    "\n",
    "model.add(Dense(5))\n",
    "\n",
    "model.add(Dense(1))\n",
    "\n",
    "model.compile(loss='mean_squared_error',optimizer='adam')\n",
    "\n",
    "model.summary()"
   ]
  },
  {
   "cell_type": "code",
   "execution_count": 58,
   "id": "14e0f45b-6d3c-4db5-979f-32e22a7cfa31",
   "metadata": {},
   "outputs": [],
   "source": [
    "callbacks = EarlyStopping(monitor = \"loss\",patience = 8,verbose = 1)"
   ]
  },
  {
   "cell_type": "code",
   "execution_count": 59,
   "id": "92b2b81d-2e57-4b66-8b23-774b6ff5363e",
   "metadata": {},
   "outputs": [
    {
     "name": "stdout",
     "output_type": "stream",
     "text": [
      "Epoch 1/50\n",
      "97/97 [==============================] - 43s 402ms/step - loss: 8.3369e-04 - val_loss: 0.0011\n",
      "Epoch 2/50\n",
      "97/97 [==============================] - 37s 384ms/step - loss: 1.8448e-05 - val_loss: 5.2218e-04\n",
      "Epoch 3/50\n",
      "97/97 [==============================] - 38s 393ms/step - loss: 1.8962e-05 - val_loss: 2.7322e-04\n",
      "Epoch 4/50\n",
      "97/97 [==============================] - 38s 396ms/step - loss: 2.3699e-05 - val_loss: 2.0763e-04\n",
      "Epoch 5/50\n",
      "97/97 [==============================] - 39s 405ms/step - loss: 2.2252e-05 - val_loss: 2.1059e-04\n",
      "Epoch 6/50\n",
      "97/97 [==============================] - 39s 403ms/step - loss: 2.2695e-05 - val_loss: 3.2641e-04\n",
      "Epoch 7/50\n",
      "97/97 [==============================] - 39s 407ms/step - loss: 1.8176e-05 - val_loss: 1.9437e-04\n",
      "Epoch 8/50\n",
      "97/97 [==============================] - 39s 401ms/step - loss: 2.7099e-05 - val_loss: 2.3578e-04\n",
      "Epoch 9/50\n",
      "97/97 [==============================] - 39s 401ms/step - loss: 1.9837e-05 - val_loss: 0.0010\n",
      "Epoch 10/50\n",
      "97/97 [==============================] - 39s 402ms/step - loss: 1.9502e-05 - val_loss: 2.1956e-04\n",
      "Epoch 11/50\n",
      "97/97 [==============================] - 39s 407ms/step - loss: 1.9389e-05 - val_loss: 3.2607e-04\n",
      "Epoch 12/50\n",
      "97/97 [==============================] - 39s 398ms/step - loss: 1.9535e-05 - val_loss: 5.8945e-04\n",
      "Epoch 13/50\n",
      "97/97 [==============================] - 38s 393ms/step - loss: 1.8360e-05 - val_loss: 1.8099e-04\n",
      "Epoch 14/50\n",
      "97/97 [==============================] - 38s 396ms/step - loss: 2.2859e-05 - val_loss: 1.9641e-04\n",
      "Epoch 15/50\n",
      "97/97 [==============================] - 38s 395ms/step - loss: 1.8441e-05 - val_loss: 1.9406e-04\n",
      "Epoch 15: early stopping\n"
     ]
    }
   ],
   "source": [
    "epochs = 50\n",
    "batch_size = 32\n",
    "history = model.fit(x_train, y_train, \n",
    "                    batch_size=batch_size, \n",
    "                    epochs=epochs,\n",
    "                    validation_data=(x_test, y_test),\n",
    "                    callbacks = [callbacks]                 \n",
    "                   )\n",
    "    "
   ]
  },
  {
   "cell_type": "code",
   "execution_count": 60,
   "id": "6bfbbb15-e809-4f65-b208-9168a46913d5",
   "metadata": {},
   "outputs": [
    {
     "data": {
      "image/png": "[encoded data removed]",
      "text/plain": [
       "<Figure size 1152x360 with 1 Axes>"
      ]
     },
     "metadata": {
      "needs_background": "light"
     },
     "output_type": "display_data"
    }
   ],
   "source": [
    "fig, ax = plt.subplots(figsize=(16, 5), sharex=True)\n",
    "sns.lineplot(data=history.history[\"loss\"])\n",
    "plt.title(\"Model loss\")\n",
    "plt.ylabel(\"Loss\")\n",
    "plt.xlabel(\"Epoch\")\n",
    "ax.xaxis.set_major_locator(plt.MaxNLocator(epochs))\n",
    "plt.legend([\"Train\", \"Test\"], loc=\"upper left\")\n",
    "plt.grid()\n",
    "plt.show()"
   ]
  },
  {
   "cell_type": "code",
   "execution_count": 61,
   "id": "f1205f6b-f3f0-4f5e-bebc-a549e7e531c1",
   "metadata": {},
   "outputs": [
    {
     "name": "stdout",
     "output_type": "stream",
     "text": [
      "25/25 [==============================] - 4s 125ms/step\n",
      "R2: 0.994\n",
      "Median Absolute Error (MAE): 1.47\n",
      "Mean Absolute Percentage Error (MAPE): 1.22 %\n",
      "Median Absolute Percentage Error (MDAPE): 0.94 %\n"
     ]
    }
   ],
   "source": [
    "y_pred_scaled = model.predict(x_test)\n",
    "\n",
    "y_pred = scaler_pred.inverse_transform(y_pred_scaled)\n",
    "y_test_unscaled = scaler_pred.inverse_transform(y_test.reshape(-1, 1))\n",
    "\n",
    "R2 = r2_score(y_test_unscaled, y_pred)\n",
    "print(f'R2: {np.round(R2, 3)}')\n",
    "\n",
    "MAE = mean_absolute_error(y_test_unscaled, y_pred)\n",
    "print(f'Median Absolute Error (MAE): {np.round(MAE, 2)}')\n",
    "\n",
    "MAPE = np.mean((np.abs(np.subtract(y_test_unscaled, y_pred)/ y_test_unscaled))) * 100\n",
    "print(f'Mean Absolute Percentage Error (MAPE): {np.round(MAPE, 2)} %')\n",
    "\n",
    "MDAPE = np.median((np.abs(np.subtract(y_test_unscaled, y_pred)/ y_test_unscaled)) ) * 100\n",
    "print(f'Median Absolute Percentage Error (MDAPE): {np.round(MDAPE, 2)} %')"
   ]
  },
  {
   "cell_type": "code",
   "execution_count": 62,
   "id": "1565a775-d190-438b-a2f6-044b616ebb47",
   "metadata": {},
   "outputs": [
    {
     "data": {
      "image/png": "[encoded data removed]",
      "text/plain": [
       "<Figure size 1152x576 with 1 Axes>"
      ]
     },
     "metadata": {
      "needs_background": "light"
     },
     "output_type": "display_data"
    }
   ],
   "source": [
    "# Tarihin görüntülendiği tarih\n",
    "display_start_date = \"2019-01-01\" \n",
    "\n",
    "# Geçerli ve tahmini fiyatlar arasındaki fark\n",
    "train = pd.DataFrame(data_filtered_ext['Close'][:train_data_len + 1]).rename(columns={'Close': 'y_train'})\n",
    "valid = pd.DataFrame(data_filtered_ext['Close'][train_data_len:]).rename(columns={'Close': 'y_test'})\n",
    "valid.insert(1, \"y_pred\", y_pred, True)\n",
    "valid.insert(1, \"residuals\", valid[\"y_pred\"] - valid[\"y_test\"], True)\n",
    "df_union = pd.concat([train, valid])\n",
    "\n",
    "# Daha yakın bir zaman dilimine yakınlaştırın\n",
    "df_union_zoom = df_union[df_union.index > display_start_date]\n",
    "\n",
    "fig, ax1 = plt.subplots(figsize=(16, 8))\n",
    "plt.title(\"y_pred vs y_test\")\n",
    "plt.ylabel(stockname, fontsize=18)\n",
    "sns.set_palette([\"#090364\", \"#1960EF\", \"#EF5919\"])\n",
    "sns.lineplot(data=df_union_zoom[['y_pred', 'y_train', 'y_test']], linewidth=1.0, dashes=False, ax=ax1)\n",
    "\n",
    "# Farkların grafiği\n",
    "df_sub = [\"#2BC97A\" if x > 0 else \"#C92B2B\" for x in df_union_zoom[\"residuals\"].dropna()]\n",
    "ax1.bar(height=df_union_zoom['residuals'].dropna(), x=df_union_zoom['residuals'].dropna().index, width=3, label='residuals', color=df_sub)\n",
    "plt.legend()\n",
    "plt.show()"
   ]
  },
  {
   "cell_type": "code",
   "execution_count": 63,
   "id": "d647f790-9d68-4eba-ad4f-5d0342a573e3",
   "metadata": {},
   "outputs": [
    {
     "name": "stdout",
     "output_type": "stream",
     "text": [
      "1/1 [==============================] - 0s 31ms/step\n",
      "The close price for Turkish Airlines at 2023-02-03 was 134.6\n",
      "The predicted close price is 130.44000244140625 (-3.19%)\n"
     ]
    }
   ],
   "source": [
    "df_temp = df[-sequence_length:]\n",
    "new_df = df_temp.filter(FEATURES)\n",
    "\n",
    "N = sequence_length\n",
    "\n",
    "# Son N günlük kapanış fiyatı değerlerini alın ve verileri 0 ile 1 arasında değerler olacak şekilde ölçeklendirin\n",
    "last_N_days = new_df[-sequence_length:].values\n",
    "last_N_days_scaled = scaler.transform(last_N_days)\n",
    "\n",
    "# Boş bir liste oluşturun ve son N günü ekleyin\n",
    "X_test_new = []\n",
    "X_test_new.append(last_N_days_scaled)\n",
    "\n",
    "# X_test veri kümesini numpy dizisine dönüştürün ve verileri tekrar eski haline çevirin\n",
    "pred_price_scaled = model.predict(np.array(X_test_new))\n",
    "pred_price_unscaled = scaler_pred.inverse_transform(pred_price_scaled.reshape(-1, 1))\n",
    "\n",
    "# Bir sonraki gün için son fiyatı ve tahmini fiyatı yazdırın\n",
    "price_today = np.round(new_df['Close'][-1], 2)\n",
    "predicted_price = np.round(pred_price_unscaled.ravel()[0], 2)\n",
    "change_percent = np.round(100 - (price_today * 100)/predicted_price, 2)\n",
    "\n",
    "plus = '+'; minus = ''\n",
    "print(f'The close price for {stockname} at {end_date} was {price_today}')\n",
    "print(f'The predicted close price is {predicted_price} ({plus if change_percent > 0 else minus}{change_percent}%)')"
   ]
  },
  {
   "cell_type": "code",
   "execution_count": null,
   "id": "d6bc689d-f479-4383-8e0a-021f64cc2890",
   "metadata": {},
   "outputs": [],
   "source": []
  }
 ],
 "metadata": {
  "kernelspec": {
   "display_name": "Python 3 (ipykernel)",
   "language": "python",
   "name": "python3"
  },
  "language_info": {
   "codemirror_mode": {
    "name": "ipython",
    "version": 3
   },
   "file_extension": ".py",
   "mimetype": "text/x-python",
   "name": "python",
   "nbconvert_exporter": "python",
   "pygments_lexer": "ipython3",
   "version": "3.9.12"
  }
 },
 "nbformat": 4,
 "nbformat_minor": 5
}
