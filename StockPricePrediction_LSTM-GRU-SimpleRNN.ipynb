{
 "cells": [
  {
   "cell_type": "markdown",
   "metadata": {},
   "source": [
    "# Stock Price Prediction with LSTM-GRU-SimpleRNN"
   ]
  },
  {
   "cell_type": "code",
   "execution_count": 1,
   "metadata": {
    "_cell_guid": "b1076dfc-b9ad-4769-8c92-a6c4dae69d19",
    "_uuid": "8f2839f25d086af736a60e9eeb907d3b93b6e0e5"
   },
   "outputs": [],
   "source": [
    "import numpy as np \n",
    "import pandas as pd "
   ]
  },
  {
   "cell_type": "code",
   "execution_count": 7,
   "metadata": {
    "_uuid": "2545b193ed4ff111eef238d84452280d8fe7630d"
   },
   "outputs": [],
   "source": [
    "import matplotlib.pyplot as plt\n",
    "plt.style.use(\"fivethirtyeight\")\n",
    "\n",
    "from keras.models import Sequential\n",
    "from keras.layers import Dense, Dropout, LSTM, GRU, Bidirectional\n",
    "from keras.optimizers import SGD\n",
    "\n",
    "from sklearn.preprocessing import MinMaxScaler\n",
    "from sklearn.metrics import mean_squared_error\n",
    "\n",
    "import math\n",
    "\n",
    "import warnings\n",
    "warnings.filterwarnings(\"ignore\")"
   ]
  },
  {
   "cell_type": "code",
   "execution_count": 34,
   "metadata": {
    "tags": []
   },
   "outputs": [
    {
     "name": "stdout",
     "output_type": "stream",
     "text": [
      "[*********************100%***********************]  1 of 1 completed\n"
     ]
    },
    {
     "data": {
      "text/html": [
       "<div>\n",
       "<style scoped>\n",
       "    .dataframe tbody tr th:only-of-type {\n",
       "        vertical-align: middle;\n",
       "    }\n",
       "\n",
       "    .dataframe tbody tr th {\n",
       "        vertical-align: top;\n",
       "    }\n",
       "\n",
       "    .dataframe thead th {\n",
       "        text-align: right;\n",
       "    }\n",
       "</style>\n",
       "<table border=\"1\" class=\"dataframe\">\n",
       "  <thead>\n",
       "    <tr style=\"text-align: right;\">\n",
       "      <th></th>\n",
       "      <th>Open</th>\n",
       "      <th>High</th>\n",
       "      <th>Low</th>\n",
       "      <th>Close</th>\n",
       "      <th>Adj Close</th>\n",
       "      <th>Volume</th>\n",
       "    </tr>\n",
       "    <tr>\n",
       "      <th>Date</th>\n",
       "      <th></th>\n",
       "      <th></th>\n",
       "      <th></th>\n",
       "      <th></th>\n",
       "      <th></th>\n",
       "      <th></th>\n",
       "    </tr>\n",
       "  </thead>\n",
       "  <tbody>\n",
       "    <tr>\n",
       "      <th>2010-01-01 00:00:00+02:00</th>\n",
       "      <td>3.582293</td>\n",
       "      <td>3.582293</td>\n",
       "      <td>3.582293</td>\n",
       "      <td>3.582293</td>\n",
       "      <td>3.523511</td>\n",
       "      <td>0</td>\n",
       "    </tr>\n",
       "    <tr>\n",
       "      <th>2010-01-04 00:00:00+02:00</th>\n",
       "      <td>3.613994</td>\n",
       "      <td>3.677398</td>\n",
       "      <td>3.487188</td>\n",
       "      <td>3.645696</td>\n",
       "      <td>3.585874</td>\n",
       "      <td>11846086</td>\n",
       "    </tr>\n",
       "    <tr>\n",
       "      <th>2010-01-05 00:00:00+02:00</th>\n",
       "      <td>3.645696</td>\n",
       "      <td>3.677398</td>\n",
       "      <td>3.613994</td>\n",
       "      <td>3.645696</td>\n",
       "      <td>3.585874</td>\n",
       "      <td>7929532</td>\n",
       "    </tr>\n",
       "    <tr>\n",
       "      <th>2010-01-06 00:00:00+02:00</th>\n",
       "      <td>3.645696</td>\n",
       "      <td>3.677398</td>\n",
       "      <td>3.550591</td>\n",
       "      <td>3.613994</td>\n",
       "      <td>3.554692</td>\n",
       "      <td>9721300</td>\n",
       "    </tr>\n",
       "    <tr>\n",
       "      <th>2010-01-07 00:00:00+02:00</th>\n",
       "      <td>3.550591</td>\n",
       "      <td>3.582293</td>\n",
       "      <td>3.518889</td>\n",
       "      <td>3.550591</td>\n",
       "      <td>3.492329</td>\n",
       "      <td>7407485</td>\n",
       "    </tr>\n",
       "  </tbody>\n",
       "</table>\n",
       "</div>"
      ],
      "text/plain": [
       "                               Open      High       Low     Close  Adj Close  \\\n",
       "Date                                                                           \n",
       "2010-01-01 00:00:00+02:00  3.582293  3.582293  3.582293  3.582293   3.523511   \n",
       "2010-01-04 00:00:00+02:00  3.613994  3.677398  3.487188  3.645696   3.585874   \n",
       "2010-01-05 00:00:00+02:00  3.645696  3.677398  3.613994  3.645696   3.585874   \n",
       "2010-01-06 00:00:00+02:00  3.645696  3.677398  3.550591  3.613994   3.554692   \n",
       "2010-01-07 00:00:00+02:00  3.550591  3.582293  3.518889  3.550591   3.492329   \n",
       "\n",
       "                             Volume  \n",
       "Date                                 \n",
       "2010-01-01 00:00:00+02:00         0  \n",
       "2010-01-04 00:00:00+02:00  11846086  \n",
       "2010-01-05 00:00:00+02:00   7929532  \n",
       "2010-01-06 00:00:00+02:00   9721300  \n",
       "2010-01-07 00:00:00+02:00   7407485  "
      ]
     },
     "execution_count": 34,
     "metadata": {},
     "output_type": "execute_result"
    }
   ],
   "source": [
    "import math \n",
    "import numpy as np \n",
    "import pandas as pd \n",
    "from datetime import date, timedelta, datetime\n",
    "from pandas.plotting import register_matplotlib_converters\n",
    "import matplotlib.pyplot as plt \n",
    "import matplotlib.dates as mdates \n",
    "import tensorflow as tf\n",
    "from sklearn.metrics import mean_absolute_error, mean_squared_error, r2_score\n",
    "from tensorflow.keras import Sequential \n",
    "from tensorflow.keras.layers import LSTM, Dense, Dropout, BatchNormalization\n",
    "from tensorflow.keras.callbacks import EarlyStopping,ModelCheckpoint\n",
    "from sklearn.preprocessing import RobustScaler, MinMaxScaler \n",
    "import seaborn as sns \n",
    "\n",
    "end_date =  date.today().strftime(\"%Y-%m-%d\")\n",
    "start_date = '2010-01-01'\n",
    "\n",
    "stockname = 'Turkish Airlines'\n",
    "symbol = 'THYAO.IS'\n",
    "\n",
    "import yfinance as yf \n",
    "df = yf.download(symbol, start=start_date, end=end_date)\n",
    "\n",
    "df.head()"
   ]
  },
  {
   "cell_type": "code",
   "execution_count": 35,
   "metadata": {
    "_uuid": "517e677ade18c27821c140575d46d675f347f18f"
   },
   "outputs": [],
   "source": [
    "# function which plots ibm stock prices: real and predicted both\n",
    "\n",
    "def plot_predictions(test, predicted):\n",
    "    plt.plot(test, color=\"red\", label=\"real THYAO stock price\")\n",
    "    plt.plot(predicted, color=\"blue\", label=\"predicted stock price\")\n",
    "    plt.title(\"THYAO stock price prediction\")\n",
    "    plt.xlabel(\"time\")\n",
    "    plt.ylabel(\"THYAO stock price\")\n",
    "    plt.legend()\n",
    "    plt.show()"
   ]
  },
  {
   "cell_type": "code",
   "execution_count": 37,
   "metadata": {
    "_uuid": "d0be4371f7b67cda99e0d25788fe7134fadeca78"
   },
   "outputs": [
    {
     "data": {
      "text/plain": [
       "(3375, 6)"
      ]
     },
     "execution_count": 37,
     "metadata": {},
     "output_type": "execute_result"
    }
   ],
   "source": [
    "df.shape"
   ]
  },
  {
   "cell_type": "code",
   "execution_count": 38,
   "metadata": {
    "_uuid": "6452a30f49d0dc061e3bd9253881a9cac2f84470"
   },
   "outputs": [
    {
     "data": {
      "text/html": [
       "<div>\n",
       "<style scoped>\n",
       "    .dataframe tbody tr th:only-of-type {\n",
       "        vertical-align: middle;\n",
       "    }\n",
       "\n",
       "    .dataframe tbody tr th {\n",
       "        vertical-align: top;\n",
       "    }\n",
       "\n",
       "    .dataframe thead th {\n",
       "        text-align: right;\n",
       "    }\n",
       "</style>\n",
       "<table border=\"1\" class=\"dataframe\">\n",
       "  <thead>\n",
       "    <tr style=\"text-align: right;\">\n",
       "      <th></th>\n",
       "      <th>Open</th>\n",
       "      <th>High</th>\n",
       "      <th>Low</th>\n",
       "      <th>Close</th>\n",
       "      <th>Adj Close</th>\n",
       "      <th>Volume</th>\n",
       "    </tr>\n",
       "    <tr>\n",
       "      <th>Date</th>\n",
       "      <th></th>\n",
       "      <th></th>\n",
       "      <th></th>\n",
       "      <th></th>\n",
       "      <th></th>\n",
       "      <th></th>\n",
       "    </tr>\n",
       "  </thead>\n",
       "  <tbody>\n",
       "    <tr>\n",
       "      <th>2010-01-01 00:00:00+02:00</th>\n",
       "      <td>3.582293</td>\n",
       "      <td>3.582293</td>\n",
       "      <td>3.582293</td>\n",
       "      <td>3.582293</td>\n",
       "      <td>3.523511</td>\n",
       "      <td>0</td>\n",
       "    </tr>\n",
       "    <tr>\n",
       "      <th>2010-01-04 00:00:00+02:00</th>\n",
       "      <td>3.613994</td>\n",
       "      <td>3.677398</td>\n",
       "      <td>3.487188</td>\n",
       "      <td>3.645696</td>\n",
       "      <td>3.585874</td>\n",
       "      <td>11846086</td>\n",
       "    </tr>\n",
       "    <tr>\n",
       "      <th>2010-01-05 00:00:00+02:00</th>\n",
       "      <td>3.645696</td>\n",
       "      <td>3.677398</td>\n",
       "      <td>3.613994</td>\n",
       "      <td>3.645696</td>\n",
       "      <td>3.585874</td>\n",
       "      <td>7929532</td>\n",
       "    </tr>\n",
       "    <tr>\n",
       "      <th>2010-01-06 00:00:00+02:00</th>\n",
       "      <td>3.645696</td>\n",
       "      <td>3.677398</td>\n",
       "      <td>3.550591</td>\n",
       "      <td>3.613994</td>\n",
       "      <td>3.554692</td>\n",
       "      <td>9721300</td>\n",
       "    </tr>\n",
       "    <tr>\n",
       "      <th>2010-01-07 00:00:00+02:00</th>\n",
       "      <td>3.550591</td>\n",
       "      <td>3.582293</td>\n",
       "      <td>3.518889</td>\n",
       "      <td>3.550591</td>\n",
       "      <td>3.492329</td>\n",
       "      <td>7407485</td>\n",
       "    </tr>\n",
       "  </tbody>\n",
       "</table>\n",
       "</div>"
      ],
      "text/plain": [
       "                               Open      High       Low     Close  Adj Close  \\\n",
       "Date                                                                           \n",
       "2010-01-01 00:00:00+02:00  3.582293  3.582293  3.582293  3.582293   3.523511   \n",
       "2010-01-04 00:00:00+02:00  3.613994  3.677398  3.487188  3.645696   3.585874   \n",
       "2010-01-05 00:00:00+02:00  3.645696  3.677398  3.613994  3.645696   3.585874   \n",
       "2010-01-06 00:00:00+02:00  3.645696  3.677398  3.550591  3.613994   3.554692   \n",
       "2010-01-07 00:00:00+02:00  3.550591  3.582293  3.518889  3.550591   3.492329   \n",
       "\n",
       "                             Volume  \n",
       "Date                                 \n",
       "2010-01-01 00:00:00+02:00         0  \n",
       "2010-01-04 00:00:00+02:00  11846086  \n",
       "2010-01-05 00:00:00+02:00   7929532  \n",
       "2010-01-06 00:00:00+02:00   9721300  \n",
       "2010-01-07 00:00:00+02:00   7407485  "
      ]
     },
     "execution_count": 38,
     "metadata": {},
     "output_type": "execute_result"
    }
   ],
   "source": [
    "df.head(5)"
   ]
  },
  {
   "cell_type": "code",
   "execution_count": 39,
   "metadata": {},
   "outputs": [
    {
     "name": "stdout",
     "output_type": "stream",
     "text": [
      "FEATURE LIST\n",
      "['High', 'Low', 'Open', 'Close', 'Volume']\n"
     ]
    },
    {
     "data": {
      "text/html": [
       "<div>\n",
       "<style scoped>\n",
       "    .dataframe tbody tr th:only-of-type {\n",
       "        vertical-align: middle;\n",
       "    }\n",
       "\n",
       "    .dataframe tbody tr th {\n",
       "        vertical-align: top;\n",
       "    }\n",
       "\n",
       "    .dataframe thead th {\n",
       "        text-align: right;\n",
       "    }\n",
       "</style>\n",
       "<table border=\"1\" class=\"dataframe\">\n",
       "  <thead>\n",
       "    <tr style=\"text-align: right;\">\n",
       "      <th></th>\n",
       "      <th>High</th>\n",
       "      <th>Low</th>\n",
       "      <th>Open</th>\n",
       "      <th>Close</th>\n",
       "      <th>Volume</th>\n",
       "      <th>Prediction</th>\n",
       "    </tr>\n",
       "    <tr>\n",
       "      <th>Date</th>\n",
       "      <th></th>\n",
       "      <th></th>\n",
       "      <th></th>\n",
       "      <th></th>\n",
       "      <th></th>\n",
       "      <th></th>\n",
       "    </tr>\n",
       "  </thead>\n",
       "  <tbody>\n",
       "    <tr>\n",
       "      <th>2023-01-30 00:00:00+03:00</th>\n",
       "      <td>150.300003</td>\n",
       "      <td>144.800003</td>\n",
       "      <td>150.000000</td>\n",
       "      <td>144.800003</td>\n",
       "      <td>48666913</td>\n",
       "      <td>144.800003</td>\n",
       "    </tr>\n",
       "    <tr>\n",
       "      <th>2023-01-31 00:00:00+03:00</th>\n",
       "      <td>144.500000</td>\n",
       "      <td>137.600006</td>\n",
       "      <td>144.500000</td>\n",
       "      <td>137.600006</td>\n",
       "      <td>65737449</td>\n",
       "      <td>137.600006</td>\n",
       "    </tr>\n",
       "    <tr>\n",
       "      <th>2023-02-01 00:00:00+03:00</th>\n",
       "      <td>140.300003</td>\n",
       "      <td>130.800003</td>\n",
       "      <td>139.100006</td>\n",
       "      <td>130.800003</td>\n",
       "      <td>64560389</td>\n",
       "      <td>130.800003</td>\n",
       "    </tr>\n",
       "    <tr>\n",
       "      <th>2023-02-02 00:00:00+03:00</th>\n",
       "      <td>136.399994</td>\n",
       "      <td>125.099998</td>\n",
       "      <td>130.199997</td>\n",
       "      <td>134.600006</td>\n",
       "      <td>103057422</td>\n",
       "      <td>134.600006</td>\n",
       "    </tr>\n",
       "    <tr>\n",
       "      <th>2023-02-03 00:00:00+03:00</th>\n",
       "      <td>143.399994</td>\n",
       "      <td>133.199997</td>\n",
       "      <td>134.600006</td>\n",
       "      <td>142.699997</td>\n",
       "      <td>77657983</td>\n",
       "      <td>142.699997</td>\n",
       "    </tr>\n",
       "  </tbody>\n",
       "</table>\n",
       "</div>"
      ],
      "text/plain": [
       "                                 High         Low        Open       Close  \\\n",
       "Date                                                                        \n",
       "2023-01-30 00:00:00+03:00  150.300003  144.800003  150.000000  144.800003   \n",
       "2023-01-31 00:00:00+03:00  144.500000  137.600006  144.500000  137.600006   \n",
       "2023-02-01 00:00:00+03:00  140.300003  130.800003  139.100006  130.800003   \n",
       "2023-02-02 00:00:00+03:00  136.399994  125.099998  130.199997  134.600006   \n",
       "2023-02-03 00:00:00+03:00  143.399994  133.199997  134.600006  142.699997   \n",
       "\n",
       "                              Volume  Prediction  \n",
       "Date                                              \n",
       "2023-01-30 00:00:00+03:00   48666913  144.800003  \n",
       "2023-01-31 00:00:00+03:00   65737449  137.600006  \n",
       "2023-02-01 00:00:00+03:00   64560389  130.800003  \n",
       "2023-02-02 00:00:00+03:00  103057422  134.600006  \n",
       "2023-02-03 00:00:00+03:00   77657983  142.699997  "
      ]
     },
     "execution_count": 39,
     "metadata": {},
     "output_type": "execute_result"
    }
   ],
   "source": [
    "train_df = df.sort_values(by=['Date']).copy()\n",
    "\n",
    "FEATURES = ['High', 'Low', 'Open', 'Close', 'Volume'\n",
    "            ,# 'Month' , 'Year', 'Adj Close'\n",
    "           ]\n",
    "\n",
    "print('FEATURE LIST')\n",
    "print([f for f in FEATURES])\n",
    "\n",
    "data = pd.DataFrame(train_df)\n",
    "data_filtered = data[FEATURES]\n",
    "\n",
    "data_filtered_ext = data_filtered.copy()\n",
    "data_filtered_ext['Prediction'] = data_filtered_ext['Close']\n",
    "\n",
    "data_filtered_ext.tail()"
   ]
  },
  {
   "cell_type": "code",
   "execution_count": 40,
   "metadata": {},
   "outputs": [
    {
     "name": "stdout",
     "output_type": "stream",
     "text": [
      "(3375, 5)\n"
     ]
    }
   ],
   "source": [
    "nrows = data_filtered.shape[0]\n",
    "\n",
    "np_data_unscaled = np.array(data_filtered)\n",
    "np_data = np.reshape(np_data_unscaled, (nrows, -1))\n",
    "print(np_data.shape)\n",
    "\n",
    "scaler = MinMaxScaler()\n",
    "np_data_scaled = scaler.fit_transform(np_data_unscaled)\n",
    "\n",
    "scaler_pred = MinMaxScaler()\n",
    "df_Close = pd.DataFrame(data_filtered_ext['Close'])\n",
    "np_Close_scaled = scaler_pred.fit_transform(df_Close)"
   ]
  },
  {
   "cell_type": "code",
   "execution_count": 41,
   "metadata": {},
   "outputs": [],
   "source": [
    "np.set_printoptions(precision=3)"
   ]
  },
  {
   "cell_type": "markdown",
   "metadata": {},
   "source": [
    "np_data = np.around(np_data, 3)"
   ]
  },
  {
   "cell_type": "code",
   "execution_count": 42,
   "metadata": {},
   "outputs": [
    {
     "data": {
      "text/plain": [
       "array([3.677e+00, 3.487e+00, 3.614e+00, 3.646e+00, 1.185e+07])"
      ]
     },
     "execution_count": 42,
     "metadata": {},
     "output_type": "execute_result"
    }
   ],
   "source": [
    "np_data[1]"
   ]
  },
  {
   "cell_type": "code",
   "execution_count": 43,
   "metadata": {},
   "outputs": [
    {
     "data": {
      "text/plain": [
       "array([0.012, 0.012, 0.012, 0.012, 0.   ])"
      ]
     },
     "execution_count": 43,
     "metadata": {},
     "output_type": "execute_result"
    }
   ],
   "source": [
    "np_data_scaled[0]"
   ]
  },
  {
   "cell_type": "code",
   "execution_count": 44,
   "metadata": {},
   "outputs": [
    {
     "data": {
      "text/plain": [
       "array([0.012])"
      ]
     },
     "execution_count": 44,
     "metadata": {},
     "output_type": "execute_result"
    }
   ],
   "source": [
    "np_Close_scaled[0]"
   ]
  },
  {
   "cell_type": "code",
   "execution_count": 45,
   "metadata": {},
   "outputs": [
    {
     "name": "stdout",
     "output_type": "stream",
     "text": [
      "(2650, 50, 5) (2650,)\n",
      "(675, 50, 5) (675,)\n",
      "0.01081344028732197\n",
      "0.01081344028732197\n"
     ]
    }
   ],
   "source": [
    "sequence_length = 50\n",
    "\n",
    "index_Close = data.columns.get_loc(\"Close\")\n",
    "\n",
    "# Verileri train test olarak ayırın.\n",
    "# Verilerin %80 ini eğitim için kullanacağız.\n",
    "train_data_len = math.ceil(np_data_scaled.shape[0] * 0.8)\n",
    "\n",
    "train_data = np_data_scaled[0:train_data_len, :]\n",
    "test_data = np_data_scaled[train_data_len - sequence_length:, :]\n",
    "\n",
    "# Model için verileri bu biçime dönüştürün : [samples, time steps, features] \n",
    "def partition_dataset(sequence_length, data):\n",
    "    x, y = [], []\n",
    "    data_len = data.shape[0]\n",
    "    for i in range(sequence_length, data_len):\n",
    "        x.append(data[i-sequence_length:i,:]) \n",
    "        y.append(data[i, index_Close]) \n",
    "\n",
    "    # Sonra bunları numpy array'e dönüştür.    \n",
    "    x = np.array(x)\n",
    "    y = np.array(y)\n",
    "    return x, y\n",
    "\n",
    "x_train, y_train = partition_dataset(sequence_length, train_data)\n",
    "x_test, y_test = partition_dataset(sequence_length, test_data)\n",
    "\n",
    "print(x_train.shape, y_train.shape)\n",
    "print(x_test.shape, y_test.shape)\n",
    "\n",
    "# İkinci girdi örneğinin son kapanış fiyatı ilk tahmin değerine eşit olmalıdır.\n",
    "print(x_train[1][sequence_length-1][index_Close])\n",
    "print(y_train[0])"
   ]
  },
  {
   "cell_type": "code",
   "execution_count": 46,
   "metadata": {
    "_uuid": "3ff1fb2983bce02934f606a96d6d04fd5ab4778b",
    "collapsed": true,
    "jupyter": {
     "outputs_hidden": true
    },
    "tags": []
   },
   "outputs": [
    {
     "data": {
      "text/plain": [
       "array([[0.012, 0.012, 0.012, 0.012, 0.   ],\n",
       "       [0.012, 0.012, 0.012, 0.012, 0.024],\n",
       "       [0.012, 0.013, 0.012, 0.012, 0.016],\n",
       "       [0.012, 0.012, 0.012, 0.012, 0.02 ],\n",
       "       [0.012, 0.012, 0.012, 0.012, 0.015],\n",
       "       [0.012, 0.012, 0.012, 0.011, 0.017],\n",
       "       [0.011, 0.011, 0.012, 0.011, 0.022],\n",
       "       [0.011, 0.011, 0.011, 0.011, 0.02 ],\n",
       "       [0.011, 0.011, 0.011, 0.012, 0.027],\n",
       "       [0.012, 0.012, 0.012, 0.012, 0.041],\n",
       "       [0.012, 0.012, 0.012, 0.012, 0.015],\n",
       "       [0.011, 0.012, 0.012, 0.012, 0.009],\n",
       "       [0.012, 0.012, 0.012, 0.012, 0.016],\n",
       "       [0.012, 0.012, 0.012, 0.012, 0.024],\n",
       "       [0.011, 0.011, 0.012, 0.011, 0.019],\n",
       "       [0.011, 0.011, 0.011, 0.011, 0.014],\n",
       "       [0.011, 0.011, 0.011, 0.011, 0.01 ],\n",
       "       [0.011, 0.011, 0.011, 0.012, 0.009],\n",
       "       [0.012, 0.012, 0.011, 0.011, 0.021],\n",
       "       [0.011, 0.011, 0.012, 0.011, 0.012],\n",
       "       [0.011, 0.011, 0.011, 0.011, 0.011],\n",
       "       [0.011, 0.011, 0.011, 0.012, 0.011],\n",
       "       [0.011, 0.011, 0.012, 0.011, 0.012],\n",
       "       [0.012, 0.012, 0.012, 0.012, 0.025],\n",
       "       [0.011, 0.012, 0.012, 0.012, 0.007],\n",
       "       [0.011, 0.01 , 0.011, 0.01 , 0.034],\n",
       "       [0.01 , 0.009, 0.01 , 0.009, 0.029],\n",
       "       [0.01 , 0.01 , 0.009, 0.01 , 0.022],\n",
       "       [0.01 , 0.01 , 0.01 , 0.01 , 0.015],\n",
       "       [0.01 , 0.01 , 0.01 , 0.01 , 0.01 ],\n",
       "       [0.01 , 0.01 , 0.01 , 0.01 , 0.019],\n",
       "       [0.011, 0.01 , 0.01 , 0.011, 0.021],\n",
       "       [0.011, 0.011, 0.011, 0.011, 0.014],\n",
       "       [0.011, 0.011, 0.011, 0.011, 0.008],\n",
       "       [0.011, 0.011, 0.011, 0.011, 0.027],\n",
       "       [0.011, 0.011, 0.011, 0.011, 0.022],\n",
       "       [0.011, 0.011, 0.011, 0.011, 0.036],\n",
       "       [0.011, 0.011, 0.011, 0.011, 0.021],\n",
       "       [0.01 , 0.009, 0.009, 0.009, 0.038],\n",
       "       [0.009, 0.008, 0.009, 0.009, 0.071],\n",
       "       [0.009, 0.009, 0.009, 0.009, 0.044],\n",
       "       [0.009, 0.009, 0.01 , 0.01 , 0.033],\n",
       "       [0.01 , 0.009, 0.01 , 0.01 , 0.052],\n",
       "       [0.01 , 0.01 , 0.01 , 0.01 , 0.041],\n",
       "       [0.01 , 0.01 , 0.01 , 0.01 , 0.012],\n",
       "       [0.011, 0.01 , 0.011, 0.011, 0.019],\n",
       "       [0.011, 0.011, 0.011, 0.011, 0.026],\n",
       "       [0.011, 0.01 , 0.011, 0.011, 0.028],\n",
       "       [0.011, 0.011, 0.011, 0.011, 0.02 ],\n",
       "       [0.01 , 0.011, 0.011, 0.011, 0.006]])"
      ]
     },
     "execution_count": 46,
     "metadata": {},
     "output_type": "execute_result"
    }
   ],
   "source": [
    "x_train[0]"
   ]
  },
  {
   "cell_type": "code",
   "execution_count": 47,
   "metadata": {
    "_uuid": "3ed21c8133e4096caed6e286c88889271d0f03f8"
   },
   "outputs": [
    {
     "data": {
      "text/plain": [
       "0.01081344028732197"
      ]
     },
     "execution_count": 47,
     "metadata": {},
     "output_type": "execute_result"
    }
   ],
   "source": [
    "y_train[0]"
   ]
  },
  {
   "cell_type": "code",
   "execution_count": 48,
   "metadata": {
    "_uuid": "bb698ff1d566c8a01af0d1e25970bcb0e166ee79"
   },
   "outputs": [
    {
     "data": {
      "text/plain": [
       "2650"
      ]
     },
     "execution_count": 48,
     "metadata": {},
     "output_type": "execute_result"
    }
   ],
   "source": [
    "len(x_train)"
   ]
  },
  {
   "cell_type": "code",
   "execution_count": 49,
   "metadata": {
    "_uuid": "53b8e2e42c4e492dca18f153dc7b82eae0cc9f94"
   },
   "outputs": [
    {
     "data": {
      "text/plain": [
       "2650"
      ]
     },
     "execution_count": 49,
     "metadata": {},
     "output_type": "execute_result"
    }
   ],
   "source": [
    "len(y_train)"
   ]
  },
  {
   "cell_type": "code",
   "execution_count": 50,
   "metadata": {
    "_uuid": "d9f57a2e556633dfef966879b7ea0545d1f7799a"
   },
   "outputs": [
    {
     "data": {
      "text/plain": [
       "(2650, 50, 5)"
      ]
     },
     "execution_count": 50,
     "metadata": {},
     "output_type": "execute_result"
    }
   ],
   "source": [
    "x_train.shape"
   ]
  },
  {
   "cell_type": "code",
   "execution_count": 59,
   "metadata": {
    "_uuid": "adc9e6c1ab319176837c05657aa6837b0dd38f65"
   },
   "outputs": [],
   "source": [
    "# LSTM architecture\n",
    "\n",
    "regressor = Sequential()\n",
    "\n",
    "# add first layer with dropout\n",
    "\n",
    "regressor.add(LSTM(50, return_sequences=True, input_shape=(x_train.shape[1], x_train.shape[2])))\n",
    "regressor.add(Dropout(0.2))\n",
    "\n",
    "# add second layer\n",
    "\n",
    "regressor.add(LSTM(50, return_sequences=True))\n",
    "regressor.add(Dropout(0.2))\n",
    "\n",
    "# add third layer\n",
    "\n",
    "regressor.add(LSTM(50, return_sequences=True))\n",
    "regressor.add(Dropout(0.2))\n",
    "\n",
    "# add fourth layer\n",
    "\n",
    "regressor.add(LSTM(50))\n",
    "regressor.add(Dropout(0.2))\n",
    "\n",
    "# the output layer\n",
    "\n",
    "regressor.add(Dense(1))"
   ]
  },
  {
   "cell_type": "code",
   "execution_count": 60,
   "metadata": {
    "_uuid": "782aebfb5fbdce9f98927c6ca97e1bbf393ffba6"
   },
   "outputs": [
    {
     "name": "stdout",
     "output_type": "stream",
     "text": [
      "Epoch 1/5\n",
      "83/83 [==============================] - 11s 56ms/step - loss: 3.5901e-04\n",
      "Epoch 2/5\n",
      "83/83 [==============================] - 5s 56ms/step - loss: 1.5864e-04\n",
      "Epoch 3/5\n",
      "83/83 [==============================] - 4s 54ms/step - loss: 1.0927e-04\n",
      "Epoch 4/5\n",
      "83/83 [==============================] - 5s 55ms/step - loss: 9.0163e-05\n",
      "Epoch 5/5\n",
      "83/83 [==============================] - 5s 56ms/step - loss: 7.5538e-05\n"
     ]
    },
    {
     "data": {
      "text/plain": [
       "<keras.callbacks.History at 0x26729a01250>"
      ]
     },
     "execution_count": 60,
     "metadata": {},
     "output_type": "execute_result"
    }
   ],
   "source": [
    "# compiling the LSTM RNN network\n",
    "\n",
    "regressor.compile(optimizer='rmsprop', loss='mean_squared_error')\n",
    "\n",
    "# fit to the training set\n",
    "\n",
    "regressor.fit(x_train, y_train, epochs=5, batch_size=32)"
   ]
  },
  {
   "cell_type": "code",
   "execution_count": 63,
   "metadata": {
    "_uuid": "c8ff70bd546c233ed21fa48a2ff0713927607d7d"
   },
   "outputs": [
    {
     "name": "stdout",
     "output_type": "stream",
     "text": [
      "22/22 [==============================] - 2s 20ms/step\n"
     ]
    }
   ],
   "source": [
    "# predicting the stock prices for test set\n",
    "\n",
    "predicted = regressor.predict(x_test)\n",
    "predicted = sc.inverse_transform(predicted)"
   ]
  },
  {
   "cell_type": "code",
   "execution_count": 64,
   "metadata": {
    "_uuid": "5fe6fcfd25cf8fee081e1c1e6e953aefb03d1a9d"
   },
   "outputs": [
    {
     "data": {
      "image/png": "[encoded data removed]",
      "text/plain": [
       "<Figure size 432x288 with 1 Axes>"
      ]
     },
     "metadata": {},
     "output_type": "display_data"
    }
   ],
   "source": [
    "# visualizing the results: predicted vs test\n",
    "\n",
    "plot_predictions(test, predicted)"
   ]
  },
  {
   "cell_type": "code",
   "execution_count": 68,
   "metadata": {},
   "outputs": [
    {
     "name": "stdout",
     "output_type": "stream",
     "text": [
      "22/22 [==============================] - 0s 19ms/step\n",
      "R2: 0.677\n",
      "Median Absolute Error (MAE): 9.63\n",
      "Mean Absolute Percentage Error (MAPE): 13.05 %\n",
      "Median Absolute Percentage Error (MDAPE): 7.96 %\n"
     ]
    }
   ],
   "source": [
    "y_pred_scaled = regressor.predict(x_test)\n",
    "\n",
    "y_pred = scaler_pred.inverse_transform(y_pred_scaled)\n",
    "y_test_unscaled = scaler_pred.inverse_transform(y_test.reshape(-1, 1))\n",
    "\n",
    "R2 = r2_score(y_test_unscaled, y_pred)\n",
    "print(f'R2: {np.round(R2, 3)}')\n",
    "\n",
    "MAE = mean_absolute_error(y_test_unscaled, y_pred)\n",
    "print(f'Median Absolute Error (MAE): {np.round(MAE, 2)}')\n",
    "\n",
    "MAPE = np.mean((np.abs(np.subtract(y_test_unscaled, y_pred)/ y_test_unscaled))) * 100\n",
    "print(f'Mean Absolute Percentage Error (MAPE): {np.round(MAPE, 2)} %')\n",
    "\n",
    "MDAPE = np.median((np.abs(np.subtract(y_test_unscaled, y_pred)/ y_test_unscaled)) ) * 100\n",
    "print(f'Median Absolute Percentage Error (MDAPE): {np.round(MDAPE, 2)} %')"
   ]
  },
  {
   "cell_type": "markdown",
   "metadata": {
    "_uuid": "89bcb2f3641ab26954a9f3abe2328c796a5aa7c0"
   },
   "source": [
    "Gated Recurrent Units\n",
    "\n",
    "In simple words, the GRU unit does not have to use a memory unit to control the flow of information like the LSTM unit. It can directly makes use of the all hidden states without any control. GRUs have fewer parameters and thus may train a bit faster or need less data to generalize. But, with large data, the LSTMs with higher expressiveness may lead to better results.\n",
    "\n",
    "They are almost similar to LSTMs except that they have two gates: reset gate and update gate. Reset gate determines how to combine new input to previous memory and update gate determines how much of the previous state to keep. Update gate in GRU is what input gate and forget gate were in LSTM. We don't have the second non linearity in GRU before calculating the output, .neither they have the output gate."
   ]
  },
  {
   "cell_type": "code",
   "execution_count": 69,
   "metadata": {
    "_uuid": "a5aa8587cc5b6bce6b75d8d9ffb7e8649f3bacde"
   },
   "outputs": [],
   "source": [
    "# The GRU architecture\n",
    "regressorGRU = Sequential()\n",
    "# First GRU layer with Dropout regularisation\n",
    "regressorGRU.add(GRU(units=50, return_sequences=True, input_shape=(x_train.shape[1], x_train.shape[2]), activation='tanh'))\n",
    "regressorGRU.add(Dropout(0.2))\n",
    "# Second GRU layer\n",
    "regressorGRU.add(GRU(units=50, return_sequences=True, input_shape=(x_train.shape[1], x_train.shape[2]), activation='tanh'))\n",
    "regressorGRU.add(Dropout(0.2))\n",
    "# Third GRU layer\n",
    "regressorGRU.add(GRU(units=50, return_sequences=True, input_shape=(x_train.shape[1], x_train.shape[2]), activation='tanh'))\n",
    "regressorGRU.add(Dropout(0.2))\n",
    "# Fourth GRU layer\n",
    "regressorGRU.add(GRU(units=50, activation='tanh'))\n",
    "regressorGRU.add(Dropout(0.2))\n",
    "# The output layer\n",
    "regressorGRU.add(Dense(units=1))"
   ]
  },
  {
   "cell_type": "code",
   "execution_count": 70,
   "metadata": {
    "_uuid": "8a8fc071fea6be62a872f82682526410dde9affa"
   },
   "outputs": [
    {
     "name": "stdout",
     "output_type": "stream",
     "text": [
      "Epoch 1/5\n",
      "18/18 [==============================] - 9s 148ms/step - loss: 0.0016\n",
      "Epoch 2/5\n",
      "18/18 [==============================] - 3s 156ms/step - loss: 0.0011\n",
      "Epoch 3/5\n",
      "18/18 [==============================] - 3s 154ms/step - loss: 9.5053e-04\n",
      "Epoch 4/5\n",
      "18/18 [==============================] - 3s 138ms/step - loss: 8.9323e-04\n",
      "Epoch 5/5\n",
      "18/18 [==============================] - 3s 148ms/step - loss: 8.5113e-04\n"
     ]
    },
    {
     "data": {
      "text/plain": [
       "<keras.callbacks.History at 0x2673fe641f0>"
      ]
     },
     "execution_count": 70,
     "metadata": {},
     "output_type": "execute_result"
    }
   ],
   "source": [
    "# compiling the model\n",
    "\n",
    "regressorGRU.compile(optimizer=SGD(lr=0.01, decay=1e-7, momentum=0.9, nesterov=False), loss='mean_squared_error')\n",
    "\n",
    "# fitting the model\n",
    "\n",
    "regressorGRU.fit(x_train, y_train, epochs=5, batch_size=150)"
   ]
  },
  {
   "cell_type": "code",
   "execution_count": 71,
   "metadata": {
    "_uuid": "376daab22d311bb7734af6a12549389b920dafc0"
   },
   "outputs": [
    {
     "name": "stdout",
     "output_type": "stream",
     "text": [
      "22/22 [==============================] - 2s 17ms/step\n"
     ]
    },
    {
     "data": {
      "image/png": "[encoded data removed]",
      "text/plain": [
       "<Figure size 432x288 with 1 Axes>"
      ]
     },
     "metadata": {},
     "output_type": "display_data"
    }
   ],
   "source": [
    "# predicting the stock prices for test set and visualization\n",
    "\n",
    "predicted_with_gru = regressorGRU.predict(x_test)\n",
    "predicted_with_gru = sc.inverse_transform(predicted_with_gru)\n",
    "\n",
    "plot_predictions(test, predicted_with_gru)"
   ]
  },
  {
   "cell_type": "code",
   "execution_count": 73,
   "metadata": {},
   "outputs": [
    {
     "name": "stdout",
     "output_type": "stream",
     "text": [
      "22/22 [==============================] - 0s 17ms/step\n",
      "R2: -0.529\n",
      "Median Absolute Error (MAE): 28.08\n",
      "Mean Absolute Percentage Error (MAPE): 56.03 %\n",
      "Median Absolute Percentage Error (MDAPE): 43.89 %\n"
     ]
    }
   ],
   "source": [
    "y_pred_scaled = regressorGRU.predict(x_test)\n",
    "\n",
    "y_pred = scaler_pred.inverse_transform(y_pred_scaled)\n",
    "y_test_unscaled = scaler_pred.inverse_transform(y_test.reshape(-1, 1))\n",
    "\n",
    "R2 = r2_score(y_test_unscaled, y_pred)\n",
    "print(f'R2: {np.round(R2, 3)}')\n",
    "\n",
    "MAE = mean_absolute_error(y_test_unscaled, y_pred)\n",
    "print(f'Median Absolute Error (MAE): {np.round(MAE, 2)}')\n",
    "\n",
    "MAPE = np.mean((np.abs(np.subtract(y_test_unscaled, y_pred)/ y_test_unscaled))) * 100\n",
    "print(f'Mean Absolute Percentage Error (MAPE): {np.round(MAPE, 2)} %')\n",
    "\n",
    "MDAPE = np.median((np.abs(np.subtract(y_test_unscaled, y_pred)/ y_test_unscaled)) ) * 100\n",
    "print(f'Median Absolute Percentage Error (MDAPE): {np.round(MDAPE, 2)} %')"
   ]
  },
  {
   "cell_type": "code",
   "execution_count": 30,
   "metadata": {
    "_uuid": "582cb4a4b06dd42697de8f96826c32f73fc868f6"
   },
   "outputs": [],
   "source": []
  }
 ],
 "metadata": {
  "kernelspec": {
   "display_name": "Python 3 (ipykernel)",
   "language": "python",
   "name": "python3"
  },
  "language_info": {
   "codemirror_mode": {
    "name": "ipython",
    "version": 3
   },
   "file_extension": ".py",
   "mimetype": "text/x-python",
   "name": "python",
   "nbconvert_exporter": "python",
   "pygments_lexer": "ipython3",
   "version": "3.9.12"
  }
 },
 "nbformat": 4,
 "nbformat_minor": 4
}
