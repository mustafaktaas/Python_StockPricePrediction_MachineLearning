{
 "cells": [
  {
   "cell_type": "markdown",
   "id": "06df1b61-4e37-496f-8519-a714230728a2",
   "metadata": {
    "tags": []
   },
   "source": [
    "# Stock Market Prediction using Multivariate LSTM Time Series"
   ]
  },
  {
   "cell_type": "code",
   "execution_count": 1,
   "id": "ea7bd5fa-9841-4b17-8a95-be443d51ed1d",
   "metadata": {
    "tags": []
   },
   "outputs": [
    {
     "name": "stdout",
     "output_type": "stream",
     "text": [
      "[*********************100%***********************]  1 of 1 completed\n"
     ]
    },
    {
     "data": {
      "text/html": [
       "<div>\n",
       "<style scoped>\n",
       "    .dataframe tbody tr th:only-of-type {\n",
       "        vertical-align: middle;\n",
       "    }\n",
       "\n",
       "    .dataframe tbody tr th {\n",
       "        vertical-align: top;\n",
       "    }\n",
       "\n",
       "    .dataframe thead th {\n",
       "        text-align: right;\n",
       "    }\n",
       "</style>\n",
       "<table border=\"1\" class=\"dataframe\">\n",
       "  <thead>\n",
       "    <tr style=\"text-align: right;\">\n",
       "      <th></th>\n",
       "      <th>Open</th>\n",
       "      <th>High</th>\n",
       "      <th>Low</th>\n",
       "      <th>Close</th>\n",
       "      <th>Adj Close</th>\n",
       "      <th>Volume</th>\n",
       "    </tr>\n",
       "    <tr>\n",
       "      <th>Date</th>\n",
       "      <th></th>\n",
       "      <th></th>\n",
       "      <th></th>\n",
       "      <th></th>\n",
       "      <th></th>\n",
       "      <th></th>\n",
       "    </tr>\n",
       "  </thead>\n",
       "  <tbody>\n",
       "    <tr>\n",
       "      <th>2010-01-01 00:00:00+02:00</th>\n",
       "      <td>3.582293</td>\n",
       "      <td>3.582293</td>\n",
       "      <td>3.582293</td>\n",
       "      <td>3.582293</td>\n",
       "      <td>3.523511</td>\n",
       "      <td>0</td>\n",
       "    </tr>\n",
       "    <tr>\n",
       "      <th>2010-01-04 00:00:00+02:00</th>\n",
       "      <td>3.613994</td>\n",
       "      <td>3.677398</td>\n",
       "      <td>3.487188</td>\n",
       "      <td>3.645696</td>\n",
       "      <td>3.585874</td>\n",
       "      <td>11846086</td>\n",
       "    </tr>\n",
       "    <tr>\n",
       "      <th>2010-01-05 00:00:00+02:00</th>\n",
       "      <td>3.645696</td>\n",
       "      <td>3.677398</td>\n",
       "      <td>3.613994</td>\n",
       "      <td>3.645696</td>\n",
       "      <td>3.585874</td>\n",
       "      <td>7929532</td>\n",
       "    </tr>\n",
       "    <tr>\n",
       "      <th>2010-01-06 00:00:00+02:00</th>\n",
       "      <td>3.645696</td>\n",
       "      <td>3.677398</td>\n",
       "      <td>3.550591</td>\n",
       "      <td>3.613994</td>\n",
       "      <td>3.554692</td>\n",
       "      <td>9721300</td>\n",
       "    </tr>\n",
       "    <tr>\n",
       "      <th>2010-01-07 00:00:00+02:00</th>\n",
       "      <td>3.550591</td>\n",
       "      <td>3.582293</td>\n",
       "      <td>3.518889</td>\n",
       "      <td>3.550591</td>\n",
       "      <td>3.492329</td>\n",
       "      <td>7407485</td>\n",
       "    </tr>\n",
       "  </tbody>\n",
       "</table>\n",
       "</div>"
      ],
      "text/plain": [
       "                               Open      High       Low     Close  Adj Close  \\\n",
       "Date                                                                           \n",
       "2010-01-01 00:00:00+02:00  3.582293  3.582293  3.582293  3.582293   3.523511   \n",
       "2010-01-04 00:00:00+02:00  3.613994  3.677398  3.487188  3.645696   3.585874   \n",
       "2010-01-05 00:00:00+02:00  3.645696  3.677398  3.613994  3.645696   3.585874   \n",
       "2010-01-06 00:00:00+02:00  3.645696  3.677398  3.550591  3.613994   3.554692   \n",
       "2010-01-07 00:00:00+02:00  3.550591  3.582293  3.518889  3.550591   3.492329   \n",
       "\n",
       "                             Volume  \n",
       "Date                                 \n",
       "2010-01-01 00:00:00+02:00         0  \n",
       "2010-01-04 00:00:00+02:00  11846086  \n",
       "2010-01-05 00:00:00+02:00   7929532  \n",
       "2010-01-06 00:00:00+02:00   9721300  \n",
       "2010-01-07 00:00:00+02:00   7407485  "
      ]
     },
     "execution_count": 1,
     "metadata": {},
     "output_type": "execute_result"
    }
   ],
   "source": [
    "import math \n",
    "import numpy as np \n",
    "import pandas as pd \n",
    "from datetime import date, timedelta, datetime\n",
    "from pandas.plotting import register_matplotlib_converters\n",
    "import matplotlib.pyplot as plt \n",
    "import matplotlib.dates as mdates \n",
    "import tensorflow as tf\n",
    "from sklearn.metrics import mean_absolute_error, mean_squared_error, r2_score\n",
    "from tensorflow.keras import Sequential \n",
    "from tensorflow.keras.layers import LSTM, Dense, Dropout, BatchNormalization\n",
    "from tensorflow.keras.callbacks import EarlyStopping,ModelCheckpoint\n",
    "from sklearn.preprocessing import RobustScaler, MinMaxScaler \n",
    "import seaborn as sns \n",
    "\n",
    "end_date =  date.today().strftime(\"%Y-%m-%d\")\n",
    "start_date = '2010-01-01'\n",
    "\n",
    "stockname = 'Turkish Airlines'\n",
    "symbol = 'THYAO.IS'\n",
    "\n",
    "import yfinance as yf \n",
    "df = yf.download(symbol, start=start_date, end=end_date)\n",
    "\n",
    "df.head()"
   ]
  },
  {
   "cell_type": "code",
   "execution_count": 2,
   "id": "39f009ee-7567-444e-a23f-08a580893a41",
   "metadata": {},
   "outputs": [],
   "source": [
    "pd.options.display.float_format = '{:.3f}'.format"
   ]
  },
  {
   "cell_type": "code",
   "execution_count": 3,
   "id": "66c9aca5-b34e-4891-8660-96aa44dd6601",
   "metadata": {},
   "outputs": [
    {
     "data": {
      "text/html": [
       "<div>\n",
       "<style scoped>\n",
       "    .dataframe tbody tr th:only-of-type {\n",
       "        vertical-align: middle;\n",
       "    }\n",
       "\n",
       "    .dataframe tbody tr th {\n",
       "        vertical-align: top;\n",
       "    }\n",
       "\n",
       "    .dataframe thead th {\n",
       "        text-align: right;\n",
       "    }\n",
       "</style>\n",
       "<table border=\"1\" class=\"dataframe\">\n",
       "  <thead>\n",
       "    <tr style=\"text-align: right;\">\n",
       "      <th></th>\n",
       "      <th>Open</th>\n",
       "      <th>High</th>\n",
       "      <th>Low</th>\n",
       "      <th>Close</th>\n",
       "      <th>Adj Close</th>\n",
       "      <th>Volume</th>\n",
       "    </tr>\n",
       "    <tr>\n",
       "      <th>Date</th>\n",
       "      <th></th>\n",
       "      <th></th>\n",
       "      <th></th>\n",
       "      <th></th>\n",
       "      <th></th>\n",
       "      <th></th>\n",
       "    </tr>\n",
       "  </thead>\n",
       "  <tbody>\n",
       "    <tr>\n",
       "      <th>2010-01-01 00:00:00+02:00</th>\n",
       "      <td>3.582</td>\n",
       "      <td>3.582</td>\n",
       "      <td>3.582</td>\n",
       "      <td>3.582</td>\n",
       "      <td>3.524</td>\n",
       "      <td>0</td>\n",
       "    </tr>\n",
       "    <tr>\n",
       "      <th>2010-01-04 00:00:00+02:00</th>\n",
       "      <td>3.614</td>\n",
       "      <td>3.677</td>\n",
       "      <td>3.487</td>\n",
       "      <td>3.646</td>\n",
       "      <td>3.586</td>\n",
       "      <td>11846086</td>\n",
       "    </tr>\n",
       "    <tr>\n",
       "      <th>2010-01-05 00:00:00+02:00</th>\n",
       "      <td>3.646</td>\n",
       "      <td>3.677</td>\n",
       "      <td>3.614</td>\n",
       "      <td>3.646</td>\n",
       "      <td>3.586</td>\n",
       "      <td>7929532</td>\n",
       "    </tr>\n",
       "    <tr>\n",
       "      <th>2010-01-06 00:00:00+02:00</th>\n",
       "      <td>3.646</td>\n",
       "      <td>3.677</td>\n",
       "      <td>3.551</td>\n",
       "      <td>3.614</td>\n",
       "      <td>3.555</td>\n",
       "      <td>9721300</td>\n",
       "    </tr>\n",
       "    <tr>\n",
       "      <th>2010-01-07 00:00:00+02:00</th>\n",
       "      <td>3.551</td>\n",
       "      <td>3.582</td>\n",
       "      <td>3.519</td>\n",
       "      <td>3.551</td>\n",
       "      <td>3.492</td>\n",
       "      <td>7407485</td>\n",
       "    </tr>\n",
       "  </tbody>\n",
       "</table>\n",
       "</div>"
      ],
      "text/plain": [
       "                           Open  High   Low  Close  Adj Close    Volume\n",
       "Date                                                                   \n",
       "2010-01-01 00:00:00+02:00 3.582 3.582 3.582  3.582      3.524         0\n",
       "2010-01-04 00:00:00+02:00 3.614 3.677 3.487  3.646      3.586  11846086\n",
       "2010-01-05 00:00:00+02:00 3.646 3.677 3.614  3.646      3.586   7929532\n",
       "2010-01-06 00:00:00+02:00 3.646 3.677 3.551  3.614      3.555   9721300\n",
       "2010-01-07 00:00:00+02:00 3.551 3.582 3.519  3.551      3.492   7407485"
      ]
     },
     "execution_count": 3,
     "metadata": {},
     "output_type": "execute_result"
    }
   ],
   "source": [
    "df.head()"
   ]
  },
  {
   "cell_type": "code",
   "execution_count": 4,
   "id": "157decb5-635e-46dc-8f8c-d38edd0d620c",
   "metadata": {},
   "outputs": [
    {
     "name": "stdout",
     "output_type": "stream",
     "text": [
      "<class 'pandas.core.frame.DataFrame'>\n",
      "DatetimeIndex: 3387 entries, 2010-01-01 00:00:00+02:00 to 2023-02-24 00:00:00+03:00\n",
      "Data columns (total 6 columns):\n",
      " #   Column     Non-Null Count  Dtype  \n",
      "---  ------     --------------  -----  \n",
      " 0   Open       3387 non-null   float64\n",
      " 1   High       3387 non-null   float64\n",
      " 2   Low        3387 non-null   float64\n",
      " 3   Close      3387 non-null   float64\n",
      " 4   Adj Close  3387 non-null   float64\n",
      " 5   Volume     3387 non-null   int64  \n",
      "dtypes: float64(5), int64(1)\n",
      "memory usage: 185.2 KB\n"
     ]
    }
   ],
   "source": [
    "df.info()"
   ]
  },
  {
   "cell_type": "code",
   "execution_count": 5,
   "id": "905a24f9-dfbf-4283-8736-ca0384a1b0a5",
   "metadata": {},
   "outputs": [
    {
     "data": {
      "text/plain": [
       "(3387, 6)"
      ]
     },
     "execution_count": 5,
     "metadata": {},
     "output_type": "execute_result"
    }
   ],
   "source": [
    "df.shape"
   ]
  },
  {
   "cell_type": "markdown",
   "id": "0e83a701-5d28-4243-913e-d98cf53ae173",
   "metadata": {
    "tags": []
   },
   "source": [
    " #### Aldığımız değişkenleri önce bir çizgi grafiği ile çizdiriyoruz."
   ]
  },
  {
   "cell_type": "code",
   "execution_count": 6,
   "id": "447f171e-743a-4b54-8d6f-77ed9b71cda7",
   "metadata": {},
   "outputs": [
    {
     "data": {
      "image/png": "[encoded data removed]",
      "text/plain": [
       "<Figure size 1008x504 with 6 Axes>"
      ]
     },
     "metadata": {
      "needs_background": "light"
     },
     "output_type": "display_data"
    }
   ],
   "source": [
    "df_plot = df.copy()\n",
    "\n",
    "ncols = 2\n",
    "nrows = int(round(df_plot.shape[1] / ncols, 0))\n",
    "\n",
    "fig, ax = plt.subplots(nrows=nrows, ncols=ncols, sharex=True, figsize=(14, 7))\n",
    "for i, ax in enumerate(fig.axes):\n",
    "        sns.lineplot(data = df_plot.iloc[:, i], ax=ax)\n",
    "        ax.tick_params(axis=\"x\", rotation=30, labelsize=10, length=0)\n",
    "        ax.xaxis.set_major_locator(mdates.AutoDateLocator())\n",
    "fig.tight_layout()\n",
    "plt.show()"
   ]
  },
  {
   "cell_type": "markdown",
   "id": "84c36495-28e0-48cf-aa6b-d86592c1a079",
   "metadata": {},
   "source": [
    "#### Bu değişkenleri 0-1 arasında ölçeklendirdiğimizde de aynı grafiğin ortaya çıkmasını bekliyoruz.MinMaxScaler ölçeklendirme işlemi tüm veri değerlerinden en küçük değeri çıkarıp daha sonra bu değerleri en yüksek ile en düşük değerin farkına bölerek uygulanır.x"
   ]
  },
  {
   "cell_type": "markdown",
   "id": "9e5b3be1-5b31-44b0-a4bf-e2d838fb5339",
   "metadata": {},
   "source": [
    "normalized_df=(df-df.min())/(df.max()-df.min())"
   ]
  },
  {
   "cell_type": "markdown",
   "id": "e7a569fb-5b5a-4ee1-bd9b-34183fad197e",
   "metadata": {},
   "source": [
    "normalized_df.head()"
   ]
  },
  {
   "cell_type": "markdown",
   "id": "f199f9c4-dd12-4dc5-bdf2-b6c01bfbd9c7",
   "metadata": {},
   "source": [
    "df_plot = normalized_df.copy()\n",
    "\n",
    "ncols = 2\n",
    "nrows = int(round(df_plot.shape[1] / ncols, 0))\n",
    "\n",
    "fig, ax = plt.subplots(nrows=nrows, ncols=ncols, sharex=True, figsize=(14, 7))\n",
    "for i, ax in enumerate(fig.axes):\n",
    "        sns.lineplot(data = df_plot.iloc[:, i], ax=ax)\n",
    "        ax.tick_params(axis=\"x\", rotation=30, labelsize=10, length=0)\n",
    "        ax.xaxis.set_major_locator(mdates.AutoDateLocator())\n",
    "fig.tight_layout()\n",
    "plt.show()"
   ]
  },
  {
   "cell_type": "markdown",
   "id": "11d237ab-5cdc-4a73-83b5-ea60acda032e",
   "metadata": {},
   "source": [
    "#### Burada sinir ağını eğiteceğimiz özelliklerimizi listeliyoruz ve tahmin edeceğimiz fiyatı kapanış fiyatı olarak belirliyoruz."
   ]
  },
  {
   "cell_type": "code",
   "execution_count": 7,
   "id": "07733d0e-69f5-4288-9c02-10335c1ca838",
   "metadata": {},
   "outputs": [
    {
     "name": "stdout",
     "output_type": "stream",
     "text": [
      "FEATURE LIST\n",
      "['High', 'Low', 'Open', 'Close', 'Volume']\n"
     ]
    },
    {
     "data": {
      "text/html": [
       "<div>\n",
       "<style scoped>\n",
       "    .dataframe tbody tr th:only-of-type {\n",
       "        vertical-align: middle;\n",
       "    }\n",
       "\n",
       "    .dataframe tbody tr th {\n",
       "        vertical-align: top;\n",
       "    }\n",
       "\n",
       "    .dataframe thead th {\n",
       "        text-align: right;\n",
       "    }\n",
       "</style>\n",
       "<table border=\"1\" class=\"dataframe\">\n",
       "  <thead>\n",
       "    <tr style=\"text-align: right;\">\n",
       "      <th></th>\n",
       "      <th>High</th>\n",
       "      <th>Low</th>\n",
       "      <th>Open</th>\n",
       "      <th>Close</th>\n",
       "      <th>Volume</th>\n",
       "      <th>Prediction</th>\n",
       "    </tr>\n",
       "    <tr>\n",
       "      <th>Date</th>\n",
       "      <th></th>\n",
       "      <th></th>\n",
       "      <th></th>\n",
       "      <th></th>\n",
       "      <th></th>\n",
       "      <th></th>\n",
       "    </tr>\n",
       "  </thead>\n",
       "  <tbody>\n",
       "    <tr>\n",
       "      <th>2023-02-20 00:00:00+03:00</th>\n",
       "      <td>142.400</td>\n",
       "      <td>139.700</td>\n",
       "      <td>141.800</td>\n",
       "      <td>141.300</td>\n",
       "      <td>30150790</td>\n",
       "      <td>141.300</td>\n",
       "    </tr>\n",
       "    <tr>\n",
       "      <th>2023-02-21 00:00:00+03:00</th>\n",
       "      <td>141.700</td>\n",
       "      <td>137.500</td>\n",
       "      <td>140.500</td>\n",
       "      <td>137.500</td>\n",
       "      <td>29105005</td>\n",
       "      <td>137.500</td>\n",
       "    </tr>\n",
       "    <tr>\n",
       "      <th>2023-02-22 00:00:00+03:00</th>\n",
       "      <td>140.400</td>\n",
       "      <td>135.700</td>\n",
       "      <td>137.700</td>\n",
       "      <td>136.400</td>\n",
       "      <td>29363923</td>\n",
       "      <td>136.400</td>\n",
       "    </tr>\n",
       "    <tr>\n",
       "      <th>2023-02-23 00:00:00+03:00</th>\n",
       "      <td>139.000</td>\n",
       "      <td>136.100</td>\n",
       "      <td>136.700</td>\n",
       "      <td>136.600</td>\n",
       "      <td>22470917</td>\n",
       "      <td>136.600</td>\n",
       "    </tr>\n",
       "    <tr>\n",
       "      <th>2023-02-24 00:00:00+03:00</th>\n",
       "      <td>137.500</td>\n",
       "      <td>134.900</td>\n",
       "      <td>137.000</td>\n",
       "      <td>135.000</td>\n",
       "      <td>19057041</td>\n",
       "      <td>135.000</td>\n",
       "    </tr>\n",
       "  </tbody>\n",
       "</table>\n",
       "</div>"
      ],
      "text/plain": [
       "                             High     Low    Open   Close    Volume  \\\n",
       "Date                                                                  \n",
       "2023-02-20 00:00:00+03:00 142.400 139.700 141.800 141.300  30150790   \n",
       "2023-02-21 00:00:00+03:00 141.700 137.500 140.500 137.500  29105005   \n",
       "2023-02-22 00:00:00+03:00 140.400 135.700 137.700 136.400  29363923   \n",
       "2023-02-23 00:00:00+03:00 139.000 136.100 136.700 136.600  22470917   \n",
       "2023-02-24 00:00:00+03:00 137.500 134.900 137.000 135.000  19057041   \n",
       "\n",
       "                           Prediction  \n",
       "Date                                   \n",
       "2023-02-20 00:00:00+03:00     141.300  \n",
       "2023-02-21 00:00:00+03:00     137.500  \n",
       "2023-02-22 00:00:00+03:00     136.400  \n",
       "2023-02-23 00:00:00+03:00     136.600  \n",
       "2023-02-24 00:00:00+03:00     135.000  "
      ]
     },
     "execution_count": 7,
     "metadata": {},
     "output_type": "execute_result"
    }
   ],
   "source": [
    "train_df = df.sort_values(by=['Date']).copy()\n",
    "\n",
    "FEATURES = ['High', 'Low', 'Open', 'Close', 'Volume'\n",
    "            ,# 'Month' , 'Year', 'Adj Close'\n",
    "           ]\n",
    "\n",
    "print('FEATURE LIST')\n",
    "print([f for f in FEATURES])\n",
    "\n",
    "data = pd.DataFrame(train_df)\n",
    "data_filtered = data[FEATURES]\n",
    "\n",
    "data_filtered_ext = data_filtered.copy()\n",
    "data_filtered_ext['Prediction'] = data_filtered_ext['Close']\n",
    "\n",
    "data_filtered_ext.tail()"
   ]
  },
  {
   "cell_type": "code",
   "execution_count": 8,
   "id": "404f1bdf-d432-4f4e-9e07-f4dcadba7bcc",
   "metadata": {},
   "outputs": [
    {
     "data": {
      "text/html": [
       "<div>\n",
       "<style scoped>\n",
       "    .dataframe tbody tr th:only-of-type {\n",
       "        vertical-align: middle;\n",
       "    }\n",
       "\n",
       "    .dataframe tbody tr th {\n",
       "        vertical-align: top;\n",
       "    }\n",
       "\n",
       "    .dataframe thead th {\n",
       "        text-align: right;\n",
       "    }\n",
       "</style>\n",
       "<table border=\"1\" class=\"dataframe\">\n",
       "  <thead>\n",
       "    <tr style=\"text-align: right;\">\n",
       "      <th></th>\n",
       "      <th>High</th>\n",
       "      <th>Low</th>\n",
       "      <th>Open</th>\n",
       "      <th>Close</th>\n",
       "      <th>Volume</th>\n",
       "    </tr>\n",
       "    <tr>\n",
       "      <th>Date</th>\n",
       "      <th></th>\n",
       "      <th></th>\n",
       "      <th></th>\n",
       "      <th></th>\n",
       "      <th></th>\n",
       "    </tr>\n",
       "  </thead>\n",
       "  <tbody>\n",
       "    <tr>\n",
       "      <th>2023-02-20 00:00:00+03:00</th>\n",
       "      <td>142.400</td>\n",
       "      <td>139.700</td>\n",
       "      <td>141.800</td>\n",
       "      <td>141.300</td>\n",
       "      <td>30150790</td>\n",
       "    </tr>\n",
       "    <tr>\n",
       "      <th>2023-02-21 00:00:00+03:00</th>\n",
       "      <td>141.700</td>\n",
       "      <td>137.500</td>\n",
       "      <td>140.500</td>\n",
       "      <td>137.500</td>\n",
       "      <td>29105005</td>\n",
       "    </tr>\n",
       "    <tr>\n",
       "      <th>2023-02-22 00:00:00+03:00</th>\n",
       "      <td>140.400</td>\n",
       "      <td>135.700</td>\n",
       "      <td>137.700</td>\n",
       "      <td>136.400</td>\n",
       "      <td>29363923</td>\n",
       "    </tr>\n",
       "    <tr>\n",
       "      <th>2023-02-23 00:00:00+03:00</th>\n",
       "      <td>139.000</td>\n",
       "      <td>136.100</td>\n",
       "      <td>136.700</td>\n",
       "      <td>136.600</td>\n",
       "      <td>22470917</td>\n",
       "    </tr>\n",
       "    <tr>\n",
       "      <th>2023-02-24 00:00:00+03:00</th>\n",
       "      <td>137.500</td>\n",
       "      <td>134.900</td>\n",
       "      <td>137.000</td>\n",
       "      <td>135.000</td>\n",
       "      <td>19057041</td>\n",
       "    </tr>\n",
       "  </tbody>\n",
       "</table>\n",
       "</div>"
      ],
      "text/plain": [
       "                             High     Low    Open   Close    Volume\n",
       "Date                                                               \n",
       "2023-02-20 00:00:00+03:00 142.400 139.700 141.800 141.300  30150790\n",
       "2023-02-21 00:00:00+03:00 141.700 137.500 140.500 137.500  29105005\n",
       "2023-02-22 00:00:00+03:00 140.400 135.700 137.700 136.400  29363923\n",
       "2023-02-23 00:00:00+03:00 139.000 136.100 136.700 136.600  22470917\n",
       "2023-02-24 00:00:00+03:00 137.500 134.900 137.000 135.000  19057041"
      ]
     },
     "execution_count": 8,
     "metadata": {},
     "output_type": "execute_result"
    }
   ],
   "source": [
    "data_filtered.tail()"
   ]
  },
  {
   "cell_type": "markdown",
   "id": "8190a995-84a7-4b3e-82c8-10fa6cee88df",
   "metadata": {},
   "source": [
    "## Sor"
   ]
  },
  {
   "cell_type": "markdown",
   "id": "b29657d1-3653-452d-944b-c6bfdf40e6b5",
   "metadata": {},
   "source": [
    "data_filtered = data_filtered.drop(\"Close\",axis = 1)"
   ]
  },
  {
   "cell_type": "code",
   "execution_count": 9,
   "id": "b18da55a-997e-4326-8d7a-d1dffae26522",
   "metadata": {},
   "outputs": [
    {
     "data": {
      "text/html": [
       "<div>\n",
       "<style scoped>\n",
       "    .dataframe tbody tr th:only-of-type {\n",
       "        vertical-align: middle;\n",
       "    }\n",
       "\n",
       "    .dataframe tbody tr th {\n",
       "        vertical-align: top;\n",
       "    }\n",
       "\n",
       "    .dataframe thead th {\n",
       "        text-align: right;\n",
       "    }\n",
       "</style>\n",
       "<table border=\"1\" class=\"dataframe\">\n",
       "  <thead>\n",
       "    <tr style=\"text-align: right;\">\n",
       "      <th></th>\n",
       "      <th>High</th>\n",
       "      <th>Low</th>\n",
       "      <th>Open</th>\n",
       "      <th>Close</th>\n",
       "      <th>Volume</th>\n",
       "    </tr>\n",
       "    <tr>\n",
       "      <th>Date</th>\n",
       "      <th></th>\n",
       "      <th></th>\n",
       "      <th></th>\n",
       "      <th></th>\n",
       "      <th></th>\n",
       "    </tr>\n",
       "  </thead>\n",
       "  <tbody>\n",
       "    <tr>\n",
       "      <th>2023-02-20 00:00:00+03:00</th>\n",
       "      <td>142.400</td>\n",
       "      <td>139.700</td>\n",
       "      <td>141.800</td>\n",
       "      <td>141.300</td>\n",
       "      <td>30150790</td>\n",
       "    </tr>\n",
       "    <tr>\n",
       "      <th>2023-02-21 00:00:00+03:00</th>\n",
       "      <td>141.700</td>\n",
       "      <td>137.500</td>\n",
       "      <td>140.500</td>\n",
       "      <td>137.500</td>\n",
       "      <td>29105005</td>\n",
       "    </tr>\n",
       "    <tr>\n",
       "      <th>2023-02-22 00:00:00+03:00</th>\n",
       "      <td>140.400</td>\n",
       "      <td>135.700</td>\n",
       "      <td>137.700</td>\n",
       "      <td>136.400</td>\n",
       "      <td>29363923</td>\n",
       "    </tr>\n",
       "    <tr>\n",
       "      <th>2023-02-23 00:00:00+03:00</th>\n",
       "      <td>139.000</td>\n",
       "      <td>136.100</td>\n",
       "      <td>136.700</td>\n",
       "      <td>136.600</td>\n",
       "      <td>22470917</td>\n",
       "    </tr>\n",
       "    <tr>\n",
       "      <th>2023-02-24 00:00:00+03:00</th>\n",
       "      <td>137.500</td>\n",
       "      <td>134.900</td>\n",
       "      <td>137.000</td>\n",
       "      <td>135.000</td>\n",
       "      <td>19057041</td>\n",
       "    </tr>\n",
       "  </tbody>\n",
       "</table>\n",
       "</div>"
      ],
      "text/plain": [
       "                             High     Low    Open   Close    Volume\n",
       "Date                                                               \n",
       "2023-02-20 00:00:00+03:00 142.400 139.700 141.800 141.300  30150790\n",
       "2023-02-21 00:00:00+03:00 141.700 137.500 140.500 137.500  29105005\n",
       "2023-02-22 00:00:00+03:00 140.400 135.700 137.700 136.400  29363923\n",
       "2023-02-23 00:00:00+03:00 139.000 136.100 136.700 136.600  22470917\n",
       "2023-02-24 00:00:00+03:00 137.500 134.900 137.000 135.000  19057041"
      ]
     },
     "execution_count": 9,
     "metadata": {},
     "output_type": "execute_result"
    }
   ],
   "source": [
    "data_filtered.tail()"
   ]
  },
  {
   "cell_type": "markdown",
   "id": "c2a4bdc6-8ad8-4ae9-9482-c3fb7621c8fc",
   "metadata": {},
   "source": [
    "#### Burada girdi verilerini numpy formatına dönüştürüp 0-1 arasında MinMaxScaler ile ölçeklendiriyoruz.Bu ölçeklendirdiğimiz veriler eğitildiğinde sonuçlar da ölçeklenmiş şekilde gelecektir bunu geri dönüştürmeyi unutmamalıyız."
   ]
  },
  {
   "cell_type": "code",
   "execution_count": 10,
   "id": "2025ffb3-f424-42d7-bc62-00e918a2232c",
   "metadata": {},
   "outputs": [
    {
     "name": "stdout",
     "output_type": "stream",
     "text": [
      "(3387, 5)\n"
     ]
    }
   ],
   "source": [
    "nrows = data_filtered.shape[0]\n",
    "\n",
    "np_data_unscaled = np.array(data_filtered)\n",
    "np_data = np.reshape(np_data_unscaled, (nrows, -1))\n",
    "print(np_data.shape)\n",
    "\n",
    "scaler = MinMaxScaler()\n",
    "np_data_scaled = scaler.fit_transform(np_data_unscaled)\n",
    "\n",
    "scaler_pred = MinMaxScaler()\n",
    "df_Close = pd.DataFrame(data_filtered_ext['Close'])\n",
    "np_Close_scaled = scaler_pred.fit_transform(df_Close)"
   ]
  },
  {
   "cell_type": "code",
   "execution_count": 11,
   "id": "c94c7665-2c3a-4b74-896c-73f7b7194b93",
   "metadata": {},
   "outputs": [],
   "source": [
    "np.set_printoptions(precision=3)"
   ]
  },
  {
   "cell_type": "markdown",
   "id": "7186d0f8-5cf8-4843-965c-a7031117197a",
   "metadata": {},
   "source": [
    "np_data = np.around(np_data, 3)"
   ]
  },
  {
   "cell_type": "code",
   "execution_count": 12,
   "id": "860e7a64-75ae-4633-b987-485659a5114a",
   "metadata": {},
   "outputs": [
    {
     "data": {
      "text/plain": [
       "array([3.677e+00, 3.487e+00, 3.614e+00, 3.646e+00, 1.185e+07])"
      ]
     },
     "execution_count": 12,
     "metadata": {},
     "output_type": "execute_result"
    }
   ],
   "source": [
    "np_data[1]"
   ]
  },
  {
   "cell_type": "code",
   "execution_count": 13,
   "id": "81b421b9-610a-44fe-9fd0-1f56ac25ca00",
   "metadata": {},
   "outputs": [
    {
     "data": {
      "text/plain": [
       "array([0.012, 0.012, 0.012, 0.012, 0.   ])"
      ]
     },
     "execution_count": 13,
     "metadata": {},
     "output_type": "execute_result"
    }
   ],
   "source": [
    "np_data_scaled[0]"
   ]
  },
  {
   "cell_type": "code",
   "execution_count": 14,
   "id": "8e02db2a-0a08-46b6-aae9-403a5b08fc4a",
   "metadata": {},
   "outputs": [
    {
     "data": {
      "text/plain": [
       "array([0.012])"
      ]
     },
     "execution_count": 14,
     "metadata": {},
     "output_type": "execute_result"
    }
   ],
   "source": [
    "np_Close_scaled[0]"
   ]
  },
  {
   "cell_type": "markdown",
   "id": "251e5951-c146-44f4-a821-bdb5e3b1e5a2",
   "metadata": {},
   "source": [
    "#### Çok değişkenli modelimizi üç boyutlu veri yapısına yönelik eğitiyoruz.\n",
    "#### Birinci : Sequences(Diziler)\n",
    "#### İkinci : Time Steps(Mini-Batches)\n",
    "#### Üçüncü : Features(Özellikler)\n",
    "#### Birincil hedefimiz verileri ilişkili hedef girdi değerleriyle birden çok girdi veri dizisine dilimlemektir. Kayan pencere kullanımı sağlayan bir python kodu yazıyoruz. Bu yaklaşım, her adımda girdi verilerine birden çok veri noktası dizisi ekleyerek bir pencereyi zaman serisi verileri arasında hareket ettirir. Hedef değer (örn. Kapanış Fiyatı) bu sırayı takip eder ve biz onu ayrı bir hedef veri setinde saklarız. Ardından pencereyi bir adım daha ileri iterek bu etkinlikleri tekrarlıyoruz. Bu işlem, her biri hedef kayıtta karşılık gelen bir hedef değere sahip birçok giriş dizisine (mini yığınlar) sahip bir veri seti ile sonuçlanır. Bu süreç hem eğitim hem de test verileri için geçerlidir.\n",
    "#### Sonuç olarak her biri 5 özellik içeren 2535 train verimiz oluyor."
   ]
  },
  {
   "cell_type": "code",
   "execution_count": 15,
   "id": "f80b3e57-bd4b-4dcd-a8df-20efa2b8bed3",
   "metadata": {},
   "outputs": [
    {
     "name": "stdout",
     "output_type": "stream",
     "text": [
      "(2660, 50, 5) (2660,)\n",
      "(677, 50, 5) (677,)\n",
      "0.01081344028732197\n",
      "0.01081344028732197\n"
     ]
    }
   ],
   "source": [
    "sequence_length = 50\n",
    "\n",
    "index_Close = data.columns.get_loc(\"Close\")\n",
    "\n",
    "# Verileri train test olarak ayırın.\n",
    "# Verilerin %80 ini eğitim için kullanacağız.\n",
    "train_data_len = math.ceil(np_data_scaled.shape[0] * 0.8)\n",
    "\n",
    "train_data = np_data_scaled[0:train_data_len, :]\n",
    "test_data = np_data_scaled[train_data_len - sequence_length:, :]\n",
    "\n",
    "# Model için verileri bu biçime dönüştürün : [samples, time steps, features] \n",
    "def partition_dataset(sequence_length, data):\n",
    "    x, y = [], []\n",
    "    data_len = data.shape[0]\n",
    "    for i in range(sequence_length, data_len):\n",
    "        x.append(data[i-sequence_length:i,:]) \n",
    "        y.append(data[i, index_Close]) \n",
    "\n",
    "    # Sonra bunları numpy array'e dönüştür.    \n",
    "    x = np.array(x)\n",
    "    y = np.array(y)\n",
    "    return x, y\n",
    "\n",
    "x_train, y_train = partition_dataset(sequence_length, train_data)\n",
    "x_test, y_test = partition_dataset(sequence_length, test_data)\n",
    "\n",
    "print(x_train.shape, y_train.shape)\n",
    "print(x_test.shape, y_test.shape)\n",
    "\n",
    "# İkinci girdi örneğinin son kapanış fiyatı ilk tahmin değerine eşit olmalıdır.\n",
    "print(x_train[1][sequence_length-1][index_Close])\n",
    "print(y_train[0])"
   ]
  },
  {
   "cell_type": "markdown",
   "id": "0083e934-ed22-40cc-9e6b-3b08917e16bd",
   "metadata": {},
   "source": [
    "#### Sinir ağımızın mimarisi aşağıdaki dört katmandan oluşur:\n",
    "#### Mini gruplarımızı girdi olarak alan ve tüm diziyi döndüren bir LSTM katmanı\n",
    "#### Diziyi önceki katmandan alan ancak yalnızca beş değer döndüren başka bir LSTM katmanı\n",
    "#### Beş nöronlu yoğun katman\n",
    "#### Öngörülen değeri veren son yoğun katman\n",
    "#### İlk katmandaki nöronların sayısı, girdi verilerinin bir mini partisinin boyutuna eşit olmalıdır. Veri kümemizdeki her mini parti, 50 adım ve beş özellik içeren bir matristen oluşur. Böylece, tekrarlayan sinir ağımızın giriş katmanı 250 nörondan oluşur. Bu mimariyi akılda tutmak önemlidir çünkü daha sonra yeni bir veri kümesini tahmin etmek istediğimizde verileri aynı şekle getirmemiz gerekir. Aşağıdaki kodu çalıştırmak model mimarisini oluşturur ve modeli derler."
   ]
  },
  {
   "cell_type": "code",
   "execution_count": 16,
   "id": "653a3234-c542-447b-aee3-fee7e3818cbb",
   "metadata": {},
   "outputs": [
    {
     "name": "stdout",
     "output_type": "stream",
     "text": [
      "250 50 5\n"
     ]
    }
   ],
   "source": [
    "model = Sequential()\n",
    "\n",
    "n_neurons = x_train.shape[1] * x_train.shape[2]\n",
    "print(n_neurons, x_train.shape[1], x_train.shape[2])\n",
    "\n",
    "model.add(LSTM(n_neurons, return_sequences=True, input_shape=(x_train.shape[1], x_train.shape[2]))) \n",
    "\n",
    "model.add(LSTM(n_neurons, return_sequences=False))\n",
    "\n",
    "model.add(Dense(5))\n",
    "\n",
    "model.add(Dense(1))\n",
    "\n",
    "model.compile(optimizer='adam', loss='mse')"
   ]
  },
  {
   "cell_type": "code",
   "execution_count": 17,
   "id": "2ff7c83c-1e34-4c4f-9bad-108e9f03f19c",
   "metadata": {},
   "outputs": [],
   "source": [
    "callbacks = EarlyStopping(monitor = \"loss\",patience = 8,verbose = 1)"
   ]
  },
  {
   "cell_type": "code",
   "execution_count": 18,
   "id": "cf0ab148-d0b5-4357-8721-1e5bb7932501",
   "metadata": {},
   "outputs": [
    {
     "name": "stdout",
     "output_type": "stream",
     "text": [
      "Epoch 1/50\n",
      "167/167 [==============================] - 18s 86ms/step - loss: 1.2952e-04 - val_loss: 8.0927e-04\n",
      "Epoch 2/50\n",
      "167/167 [==============================] - 14s 84ms/step - loss: 1.1647e-05 - val_loss: 5.6451e-04\n",
      "Epoch 3/50\n",
      "167/167 [==============================] - 14s 81ms/step - loss: 9.1032e-06 - val_loss: 7.3483e-04\n",
      "Epoch 4/50\n",
      "167/167 [==============================] - 14s 82ms/step - loss: 8.7921e-06 - val_loss: 6.1476e-04\n",
      "Epoch 5/50\n",
      "167/167 [==============================] - 14s 82ms/step - loss: 7.8968e-06 - val_loss: 7.3068e-04\n",
      "Epoch 6/50\n",
      "167/167 [==============================] - 14s 82ms/step - loss: 8.3027e-06 - val_loss: 6.1266e-04\n",
      "Epoch 7/50\n",
      "167/167 [==============================] - 14s 82ms/step - loss: 6.5306e-06 - val_loss: 8.7761e-04\n",
      "Epoch 8/50\n",
      "167/167 [==============================] - 14s 84ms/step - loss: 7.9500e-06 - val_loss: 9.9553e-04\n",
      "Epoch 9/50\n",
      "167/167 [==============================] - 14s 86ms/step - loss: 6.3865e-06 - val_loss: 0.0015\n",
      "Epoch 10/50\n",
      "167/167 [==============================] - 14s 86ms/step - loss: 5.9306e-06 - val_loss: 5.1625e-04\n",
      "Epoch 11/50\n",
      "167/167 [==============================] - 14s 87ms/step - loss: 6.3930e-06 - val_loss: 6.1694e-04\n",
      "Epoch 12/50\n",
      "167/167 [==============================] - 15s 87ms/step - loss: 5.9593e-06 - val_loss: 3.0989e-04\n",
      "Epoch 13/50\n",
      "167/167 [==============================] - 15s 87ms/step - loss: 5.9948e-06 - val_loss: 4.0311e-04\n",
      "Epoch 14/50\n",
      "167/167 [==============================] - 15s 92ms/step - loss: 6.1144e-06 - val_loss: 3.6475e-04\n",
      "Epoch 15/50\n",
      "167/167 [==============================] - 15s 87ms/step - loss: 5.2825e-06 - val_loss: 4.9627e-04\n",
      "Epoch 16/50\n",
      "167/167 [==============================] - 15s 88ms/step - loss: 4.8561e-06 - val_loss: 5.1279e-04\n",
      "Epoch 17/50\n",
      "167/167 [==============================] - 14s 86ms/step - loss: 5.0359e-06 - val_loss: 4.0926e-04\n",
      "Epoch 18/50\n",
      "167/167 [==============================] - 14s 85ms/step - loss: 4.4067e-06 - val_loss: 6.4929e-04\n",
      "Epoch 19/50\n",
      "167/167 [==============================] - 15s 87ms/step - loss: 5.2003e-06 - val_loss: 7.0586e-04\n",
      "Epoch 20/50\n",
      "167/167 [==============================] - 14s 85ms/step - loss: 5.1573e-06 - val_loss: 5.1590e-04\n",
      "Epoch 21/50\n",
      "167/167 [==============================] - 14s 85ms/step - loss: 4.8241e-06 - val_loss: 2.4108e-04\n",
      "Epoch 22/50\n",
      "167/167 [==============================] - 14s 85ms/step - loss: 4.5766e-06 - val_loss: 2.4555e-04\n",
      "Epoch 23/50\n",
      "167/167 [==============================] - 14s 86ms/step - loss: 5.2742e-06 - val_loss: 3.4581e-04\n",
      "Epoch 24/50\n",
      "167/167 [==============================] - 14s 86ms/step - loss: 4.6676e-06 - val_loss: 2.2095e-04\n",
      "Epoch 25/50\n",
      "167/167 [==============================] - 14s 86ms/step - loss: 4.7120e-06 - val_loss: 2.6463e-04\n",
      "Epoch 26/50\n",
      "167/167 [==============================] - 14s 86ms/step - loss: 3.6388e-06 - val_loss: 2.8029e-04\n",
      "Epoch 27/50\n",
      "167/167 [==============================] - 14s 85ms/step - loss: 3.8134e-06 - val_loss: 3.4520e-04\n",
      "Epoch 28/50\n",
      "167/167 [==============================] - 14s 87ms/step - loss: 4.5894e-06 - val_loss: 2.2747e-04\n",
      "Epoch 29/50\n",
      "167/167 [==============================] - 14s 87ms/step - loss: 5.0184e-06 - val_loss: 3.9413e-04\n",
      "Epoch 30/50\n",
      "167/167 [==============================] - 14s 87ms/step - loss: 3.8668e-06 - val_loss: 2.7521e-04\n",
      "Epoch 31/50\n",
      "167/167 [==============================] - 14s 86ms/step - loss: 3.9626e-06 - val_loss: 2.1124e-04\n",
      "Epoch 32/50\n",
      "167/167 [==============================] - 15s 89ms/step - loss: 3.7021e-06 - val_loss: 2.2631e-04\n",
      "Epoch 33/50\n",
      "167/167 [==============================] - 15s 89ms/step - loss: 3.6197e-06 - val_loss: 2.9670e-04\n",
      "Epoch 34/50\n",
      "167/167 [==============================] - 15s 88ms/step - loss: 4.4511e-06 - val_loss: 3.2771e-04\n",
      "Epoch 35/50\n",
      "167/167 [==============================] - 15s 88ms/step - loss: 3.4005e-06 - val_loss: 2.4374e-04\n",
      "Epoch 36/50\n",
      "167/167 [==============================] - 15s 88ms/step - loss: 4.6430e-06 - val_loss: 1.8523e-04\n",
      "Epoch 37/50\n",
      "167/167 [==============================] - 15s 89ms/step - loss: 3.7748e-06 - val_loss: 1.8770e-04\n",
      "Epoch 38/50\n",
      "167/167 [==============================] - 15s 88ms/step - loss: 3.5977e-06 - val_loss: 2.0016e-04\n",
      "Epoch 39/50\n",
      "167/167 [==============================] - 15s 87ms/step - loss: 4.1439e-06 - val_loss: 4.4080e-04\n",
      "Epoch 40/50\n",
      "167/167 [==============================] - 15s 88ms/step - loss: 4.4650e-06 - val_loss: 1.9165e-04\n",
      "Epoch 41/50\n",
      "167/167 [==============================] - 15s 88ms/step - loss: 3.7271e-06 - val_loss: 3.9437e-04\n",
      "Epoch 42/50\n",
      "167/167 [==============================] - 15s 87ms/step - loss: 3.2199e-06 - val_loss: 2.0591e-04\n",
      "Epoch 43/50\n",
      "167/167 [==============================] - 15s 87ms/step - loss: 4.3723e-06 - val_loss: 2.0065e-04\n",
      "Epoch 44/50\n",
      "167/167 [==============================] - 15s 88ms/step - loss: 3.3898e-06 - val_loss: 3.0286e-04\n",
      "Epoch 45/50\n",
      "167/167 [==============================] - 15s 88ms/step - loss: 3.7737e-06 - val_loss: 1.9122e-04\n",
      "Epoch 46/50\n",
      "167/167 [==============================] - 15s 89ms/step - loss: 3.4254e-06 - val_loss: 1.8913e-04\n",
      "Epoch 47/50\n",
      "167/167 [==============================] - 15s 88ms/step - loss: 3.6611e-06 - val_loss: 2.6644e-04\n",
      "Epoch 48/50\n",
      "167/167 [==============================] - 15s 89ms/step - loss: 3.2782e-06 - val_loss: 2.4586e-04\n",
      "Epoch 49/50\n",
      "167/167 [==============================] - 15s 89ms/step - loss: 3.2884e-06 - val_loss: 3.6324e-04\n",
      "Epoch 50/50\n",
      "167/167 [==============================] - 15s 93ms/step - loss: 4.7536e-06 - val_loss: 6.7583e-04\n",
      "Epoch 50: early stopping\n"
     ]
    }
   ],
   "source": [
    "epochs = 50\n",
    "batch_size = 16\n",
    "history = model.fit(x_train, y_train, \n",
    "                    batch_size=batch_size, \n",
    "                    epochs=epochs,\n",
    "                    validation_data=(x_test, y_test),\n",
    "                    callbacks = [callbacks]                 \n",
    "                   )\n",
    "    "
   ]
  },
  {
   "cell_type": "markdown",
   "id": "14f8743e-6cee-4a6a-860d-bb515460c84d",
   "metadata": {},
   "source": [
    "#### Burada tahmin başarı anlamında bir kayıp eğrisi çizdiriyoruz."
   ]
  },
  {
   "cell_type": "code",
   "execution_count": 19,
   "id": "3101aad7-c61a-46d3-bf24-4796eb2e34b4",
   "metadata": {},
   "outputs": [
    {
     "data": {
      "image/png": "[encoded data removed]",
      "text/plain": [
       "<Figure size 1152x360 with 1 Axes>"
      ]
     },
     "metadata": {
      "needs_background": "light"
     },
     "output_type": "display_data"
    }
   ],
   "source": [
    "fig, ax = plt.subplots(figsize=(16, 5), sharex=True)\n",
    "sns.lineplot(data=history.history[\"loss\"])\n",
    "plt.title(\"Model loss\")\n",
    "plt.ylabel(\"Loss\")\n",
    "plt.xlabel(\"Epoch\")\n",
    "ax.xaxis.set_major_locator(plt.MaxNLocator(epochs))\n",
    "plt.legend([\"Train\", \"Test\"], loc=\"upper left\")\n",
    "plt.grid()\n",
    "plt.show()"
   ]
  },
  {
   "cell_type": "markdown",
   "id": "9dc4bfa1-64c1-419f-aa04-a1224b5bd4bb",
   "metadata": {
    "tags": []
   },
   "source": [
    "#### Sinir ağı regresyon modelini eğittikten sonra performansını ölçmek istiyoruz. Önce tahminlerin ölçeklemesini tersine çevirmeliyiz. Daha sonra MAE, MAPE ve MDAPE gibi farklı hata metriklerini hesaplıyoruz. Ardından, bir çizgi grafiğindeki tahminleri gerçek değerlerle karşılaştıracağız."
   ]
  },
  {
   "cell_type": "code",
   "execution_count": 20,
   "id": "c06285ab-bcba-4985-a86f-8012d59dec47",
   "metadata": {},
   "outputs": [
    {
     "name": "stdout",
     "output_type": "stream",
     "text": [
      "22/22 [==============================] - 2s 64ms/step\n",
      "R2: 0.99\n",
      "Median Absolute Error (MAE): 2.13\n",
      "Mean Absolute Percentage Error (MAPE): 4.46 %\n",
      "Median Absolute Percentage Error (MDAPE): 4.08 %\n"
     ]
    }
   ],
   "source": [
    "y_pred_scaled = model.predict(x_test)\n",
    "\n",
    "y_pred = scaler_pred.inverse_transform(y_pred_scaled)\n",
    "y_test_unscaled = scaler_pred.inverse_transform(y_test.reshape(-1, 1))\n",
    "\n",
    "R2 = r2_score(y_test_unscaled, y_pred)\n",
    "print(f'R2: {np.round(R2, 3)}')\n",
    "\n",
    "MAE = mean_absolute_error(y_test_unscaled, y_pred)\n",
    "print(f'Median Absolute Error (MAE): {np.round(MAE, 2)}')\n",
    "\n",
    "MAPE = np.mean((np.abs(np.subtract(y_test_unscaled, y_pred)/ y_test_unscaled))) * 100\n",
    "print(f'Mean Absolute Percentage Error (MAPE): {np.round(MAPE, 2)} %')\n",
    "\n",
    "MDAPE = np.median((np.abs(np.subtract(y_test_unscaled, y_pred)/ y_test_unscaled)) ) * 100\n",
    "print(f'Median Absolute Percentage Error (MDAPE): {np.round(MDAPE, 2)} %')"
   ]
  },
  {
   "cell_type": "markdown",
   "id": "ca72f20e-707f-4ddc-9b32-e0f536985f90",
   "metadata": {
    "tags": []
   },
   "source": [
    "#### Çizgi grafiği, tahminin gerçek değerlere yakın olduğunu ancak kısmen ondan saptığını gösterir. Gerçek değerler ve tahminler arasındaki sapmalara artıklar denir. Bizim modumuz için, bunlar en çok artan piyasa oynaklığının olduğu dönemlerde ve en az da istikrarlı piyasa hareketinin olduğu dönemlerde önemli görünmektedir, bu mantıklıdır çünkü ani hareketlerin genellikle tahmin edilmesi daha zordur."
   ]
  },
  {
   "cell_type": "code",
   "execution_count": 21,
   "id": "d268be67-bb91-4793-bcae-a86cdd529927",
   "metadata": {
    "tags": []
   },
   "outputs": [
    {
     "data": {
      "image/png": "[encoded data removed]",
      "text/plain": [
       "<Figure size 1152x576 with 1 Axes>"
      ]
     },
     "metadata": {
      "needs_background": "light"
     },
     "output_type": "display_data"
    }
   ],
   "source": [
    "# Tarihin görüntülendiği tarih\n",
    "display_start_date = \"2019-01-01\" \n",
    "\n",
    "# Geçerli ve tahmini fiyatlar arasındaki fark\n",
    "train = pd.DataFrame(data_filtered_ext['Close'][:train_data_len + 1]).rename(columns={'Close': 'y_train'})\n",
    "valid = pd.DataFrame(data_filtered_ext['Close'][train_data_len:]).rename(columns={'Close': 'y_test'})\n",
    "valid.insert(1, \"y_pred\", y_pred, True)\n",
    "valid.insert(1, \"residuals\", valid[\"y_pred\"] - valid[\"y_test\"], True)\n",
    "df_union = pd.concat([train, valid])\n",
    "\n",
    "# Daha yakın bir zaman dilimine yakınlaştırın\n",
    "df_union_zoom = df_union[df_union.index > display_start_date]\n",
    "\n",
    "fig, ax1 = plt.subplots(figsize=(16, 8))\n",
    "plt.title(\"y_pred vs y_test\")\n",
    "plt.ylabel(stockname, fontsize=18)\n",
    "sns.set_palette([\"#090364\", \"#1960EF\", \"#EF5919\"])\n",
    "sns.lineplot(data=df_union_zoom[['y_pred', 'y_train', 'y_test']], linewidth=1.0, dashes=False, ax=ax1)\n",
    "\n",
    "# Farkların grafiği\n",
    "df_sub = [\"#2BC97A\" if x > 0 else \"#C92B2B\" for x in df_union_zoom[\"residuals\"].dropna()]\n",
    "ax1.bar(height=df_union_zoom['residuals'].dropna(), x=df_union_zoom['residuals'].dropna().index, width=3, label='residuals', color=df_sub)\n",
    "plt.legend()\n",
    "plt.show()"
   ]
  },
  {
   "cell_type": "code",
   "execution_count": 22,
   "id": "5c3e8716-f8e9-4a7a-99de-2db140a104e2",
   "metadata": {},
   "outputs": [
    {
     "name": "stdout",
     "output_type": "stream",
     "text": [
      "1/1 [==============================] - 0s 30ms/step\n",
      "The close price for Turkish Airlines at 2023-02-26 was 135.0\n",
      "The predicted close price is 126.38999938964844 (-6.81%)\n"
     ]
    }
   ],
   "source": [
    "df_temp = df[-sequence_length:]\n",
    "new_df = df_temp.filter(FEATURES)\n",
    "\n",
    "N = sequence_length\n",
    "\n",
    "# Son N günlük kapanış fiyatı değerlerini alın ve verileri 0 ile 1 arasında değerler olacak şekilde ölçeklendirin\n",
    "last_N_days = new_df[-sequence_length:].values\n",
    "last_N_days_scaled = scaler.transform(last_N_days)\n",
    "\n",
    "# Boş bir liste oluşturun ve son N günü ekleyin\n",
    "X_test_new = []\n",
    "X_test_new.append(last_N_days_scaled)\n",
    "\n",
    "# X_test veri kümesini numpy dizisine dönüştürün ve verileri tekrar eski haline çevirin\n",
    "pred_price_scaled = model.predict(np.array(X_test_new))\n",
    "pred_price_unscaled = scaler_pred.inverse_transform(pred_price_scaled.reshape(-1, 1))\n",
    "\n",
    "# Bir sonraki gün için son fiyatı ve tahmini fiyatı yazdırın\n",
    "price_today = np.round(new_df['Close'][-1], 2)\n",
    "predicted_price = np.round(pred_price_unscaled.ravel()[0], 2)\n",
    "change_percent = np.round(100 - (price_today * 100)/predicted_price, 2)\n",
    "\n",
    "plus = '+'; minus = ''\n",
    "print(f'The close price for {stockname} at {end_date} was {price_today}')\n",
    "print(f'The predicted close price is {predicted_price} ({plus if change_percent > 0 else minus}{change_percent}%)')"
   ]
  },
  {
   "cell_type": "code",
   "execution_count": null,
   "id": "2d15e342-4b2a-4c82-b7d4-63da7341540f",
   "metadata": {},
   "outputs": [],
   "source": []
  },
  {
   "cell_type": "markdown",
   "id": "d9cf85ab-2b08-4e17-b318-5529d25e2877",
   "metadata": {},
   "source": [
    "## WindowSize + BatchSize Update"
   ]
  },
  {
   "cell_type": "code",
   "execution_count": 23,
   "id": "df236e70-9026-426e-9bc7-c643a5c907e7",
   "metadata": {
    "tags": []
   },
   "outputs": [
    {
     "name": "stdout",
     "output_type": "stream",
     "text": [
      "(2646, 64, 5) (2646,)\n",
      "(677, 64, 5) (677,)\n",
      "0.01019127367921512\n",
      "0.01019127367921512\n"
     ]
    }
   ],
   "source": [
    "sequence_length = 64\n",
    "\n",
    "index_Close = data.columns.get_loc(\"Close\")\n",
    "\n",
    "# Verileri train test olarak ayırın.\n",
    "# Verilerin %80 ini eğitim için kullanacağız.\n",
    "train_data_len = math.ceil(np_data_scaled.shape[0] * 0.8)\n",
    "\n",
    "train_data = np_data_scaled[0:train_data_len, :]\n",
    "test_data = np_data_scaled[train_data_len - sequence_length:, :]\n",
    "\n",
    "# Model için verileri bu biçime dönüştürün : [samples, time steps, features] \n",
    "def partition_dataset(sequence_length, data):\n",
    "    x, y = [], []\n",
    "    data_len = data.shape[0]\n",
    "    for i in range(sequence_length, data_len):\n",
    "        x.append(data[i-sequence_length:i,:]) \n",
    "        y.append(data[i, index_Close]) \n",
    "\n",
    "    # Sonra bunları numpy array'e dönüştür.    \n",
    "    x = np.array(x)\n",
    "    y = np.array(y)\n",
    "    return x, y\n",
    "\n",
    "x_train, y_train = partition_dataset(sequence_length, train_data)\n",
    "x_test, y_test = partition_dataset(sequence_length, test_data)\n",
    "\n",
    "print(x_train.shape, y_train.shape)\n",
    "print(x_test.shape, y_test.shape)\n",
    "\n",
    "# İkinci girdi örneğinin son kapanış fiyatı ilk tahmin değerine eşit olmalıdır.\n",
    "print(x_train[1][sequence_length-1][index_Close])\n",
    "print(y_train[0])"
   ]
  },
  {
   "cell_type": "code",
   "execution_count": 24,
   "id": "d61abcb0-986d-4c19-a7be-b5a2fd1c4c61",
   "metadata": {},
   "outputs": [
    {
     "data": {
      "text/plain": [
       "(2710, 5)"
      ]
     },
     "execution_count": 24,
     "metadata": {},
     "output_type": "execute_result"
    }
   ],
   "source": [
    "train_data.shape"
   ]
  },
  {
   "cell_type": "code",
   "execution_count": 25,
   "id": "b3f38eeb-dceb-4afb-9359-a103d215a89d",
   "metadata": {},
   "outputs": [
    {
     "name": "stdout",
     "output_type": "stream",
     "text": [
      "320 64 5\n",
      "Model: \"sequential_1\"\n",
      "_________________________________________________________________\n",
      " Layer (type)                Output Shape              Param #   \n",
      "=================================================================\n",
      " lstm_2 (LSTM)               (None, 64, 320)           417280    \n",
      "                                                                 \n",
      " lstm_3 (LSTM)               (None, 320)               820480    \n",
      "                                                                 \n",
      " dense_2 (Dense)             (None, 5)                 1605      \n",
      "                                                                 \n",
      " dense_3 (Dense)             (None, 1)                 6         \n",
      "                                                                 \n",
      "=================================================================\n",
      "Total params: 1,239,371\n",
      "Trainable params: 1,239,371\n",
      "Non-trainable params: 0\n",
      "_________________________________________________________________\n"
     ]
    }
   ],
   "source": [
    "model=Sequential()\n",
    "\n",
    "n_neurons = x_train.shape[1] * x_train.shape[2]\n",
    "print(n_neurons, x_train.shape[1], x_train.shape[2])\n",
    "\n",
    "model.add(LSTM(n_neurons,return_sequences=True,input_shape=(x_train.shape[1], x_train.shape[2])))\n",
    "\n",
    "model.add(LSTM(n_neurons,return_sequences=False))\n",
    "\n",
    "model.add(Dense(5))\n",
    "\n",
    "model.add(Dense(1))\n",
    "\n",
    "model.compile(loss='mean_squared_error',optimizer='adam')\n",
    "\n",
    "model.summary()"
   ]
  },
  {
   "cell_type": "code",
   "execution_count": 26,
   "id": "df70a7a2-4cd1-4171-a76b-72b410068817",
   "metadata": {},
   "outputs": [],
   "source": [
    "callbacks = EarlyStopping(monitor = \"loss\",patience = 6,verbose = 1)"
   ]
  },
  {
   "cell_type": "code",
   "execution_count": 27,
   "id": "9fe720c6-17ef-448d-a780-b37dd2ef5c18",
   "metadata": {},
   "outputs": [
    {
     "name": "stdout",
     "output_type": "stream",
     "text": [
      "Epoch 1/50\n",
      "83/83 [==============================] - 29s 305ms/step - loss: 1.6753e-04 - val_loss: 0.0010\n",
      "Epoch 2/50\n",
      "83/83 [==============================] - 25s 306ms/step - loss: 9.1632e-06 - val_loss: 8.1137e-04\n",
      "Epoch 3/50\n",
      "83/83 [==============================] - 26s 307ms/step - loss: 8.6542e-06 - val_loss: 9.2338e-04\n",
      "Epoch 4/50\n",
      "83/83 [==============================] - 25s 305ms/step - loss: 8.3755e-06 - val_loss: 5.5754e-04\n",
      "Epoch 5/50\n",
      "83/83 [==============================] - 26s 313ms/step - loss: 8.5894e-06 - val_loss: 0.0012\n",
      "Epoch 6/50\n",
      "83/83 [==============================] - 26s 316ms/step - loss: 8.4383e-06 - val_loss: 9.6068e-04\n",
      "Epoch 7/50\n",
      "83/83 [==============================] - 26s 313ms/step - loss: 6.7071e-06 - val_loss: 0.0011\n",
      "Epoch 8/50\n",
      "83/83 [==============================] - 26s 316ms/step - loss: 7.0725e-06 - val_loss: 9.0189e-04\n",
      "Epoch 9/50\n",
      "83/83 [==============================] - 26s 315ms/step - loss: 7.7155e-06 - val_loss: 9.3151e-04\n",
      "Epoch 10/50\n",
      "83/83 [==============================] - 26s 315ms/step - loss: 6.1734e-06 - val_loss: 5.1172e-04\n",
      "Epoch 11/50\n",
      "83/83 [==============================] - 26s 314ms/step - loss: 7.5970e-06 - val_loss: 5.9528e-04\n",
      "Epoch 12/50\n",
      "83/83 [==============================] - 26s 315ms/step - loss: 6.1703e-06 - val_loss: 4.7579e-04\n",
      "Epoch 13/50\n",
      "83/83 [==============================] - 26s 315ms/step - loss: 5.3848e-06 - val_loss: 9.8781e-04\n",
      "Epoch 14/50\n",
      "83/83 [==============================] - 26s 313ms/step - loss: 5.5402e-06 - val_loss: 7.8590e-04\n",
      "Epoch 15/50\n",
      "83/83 [==============================] - 26s 312ms/step - loss: 5.1188e-06 - val_loss: 4.5519e-04\n",
      "Epoch 16/50\n",
      "83/83 [==============================] - 26s 316ms/step - loss: 4.8833e-06 - val_loss: 4.3220e-04\n",
      "Epoch 17/50\n",
      "83/83 [==============================] - 27s 330ms/step - loss: 5.1697e-06 - val_loss: 7.7171e-04\n",
      "Epoch 18/50\n",
      "83/83 [==============================] - 28s 336ms/step - loss: 6.6190e-06 - val_loss: 6.7453e-04\n",
      "Epoch 19/50\n",
      "83/83 [==============================] - 26s 313ms/step - loss: 5.1378e-06 - val_loss: 4.4389e-04\n",
      "Epoch 20/50\n",
      "83/83 [==============================] - 26s 313ms/step - loss: 4.6816e-06 - val_loss: 0.0010\n",
      "Epoch 21/50\n",
      "83/83 [==============================] - 26s 312ms/step - loss: 4.5132e-06 - val_loss: 5.9316e-04\n",
      "Epoch 22/50\n",
      "83/83 [==============================] - 26s 310ms/step - loss: 4.5131e-06 - val_loss: 3.7857e-04\n",
      "Epoch 23/50\n",
      "83/83 [==============================] - 26s 314ms/step - loss: 4.0519e-06 - val_loss: 8.1223e-04\n",
      "Epoch 24/50\n",
      "83/83 [==============================] - 26s 310ms/step - loss: 4.2609e-06 - val_loss: 8.1556e-04\n",
      "Epoch 25/50\n",
      "83/83 [==============================] - 27s 325ms/step - loss: 4.3703e-06 - val_loss: 6.5411e-04\n",
      "Epoch 26/50\n",
      "83/83 [==============================] - 26s 313ms/step - loss: 3.9674e-06 - val_loss: 6.5680e-04\n",
      "Epoch 27/50\n",
      "83/83 [==============================] - 26s 311ms/step - loss: 5.4128e-06 - val_loss: 3.5120e-04\n",
      "Epoch 28/50\n",
      "83/83 [==============================] - 26s 313ms/step - loss: 4.5547e-06 - val_loss: 6.6975e-04\n",
      "Epoch 29/50\n",
      "83/83 [==============================] - 26s 312ms/step - loss: 4.3036e-06 - val_loss: 4.5421e-04\n",
      "Epoch 30/50\n",
      "83/83 [==============================] - 28s 336ms/step - loss: 4.1251e-06 - val_loss: 4.3482e-04\n",
      "Epoch 31/50\n",
      "83/83 [==============================] - 28s 334ms/step - loss: 3.6685e-06 - val_loss: 2.7528e-04\n",
      "Epoch 32/50\n",
      "83/83 [==============================] - 27s 321ms/step - loss: 4.9287e-06 - val_loss: 2.6002e-04\n",
      "Epoch 33/50\n",
      "83/83 [==============================] - 27s 320ms/step - loss: 3.6552e-06 - val_loss: 4.5858e-04\n",
      "Epoch 34/50\n",
      "83/83 [==============================] - 27s 327ms/step - loss: 3.7088e-06 - val_loss: 3.3881e-04\n",
      "Epoch 35/50\n",
      "83/83 [==============================] - 27s 325ms/step - loss: 4.7660e-06 - val_loss: 3.2702e-04\n",
      "Epoch 36/50\n",
      "83/83 [==============================] - 27s 331ms/step - loss: 4.0510e-06 - val_loss: 2.9098e-04\n",
      "Epoch 37/50\n",
      "83/83 [==============================] - 27s 326ms/step - loss: 3.5958e-06 - val_loss: 5.1093e-04\n",
      "Epoch 38/50\n",
      "83/83 [==============================] - 27s 329ms/step - loss: 4.2776e-06 - val_loss: 3.1269e-04\n",
      "Epoch 39/50\n",
      "83/83 [==============================] - 27s 324ms/step - loss: 3.9667e-06 - val_loss: 5.6514e-04\n",
      "Epoch 40/50\n",
      "83/83 [==============================] - 27s 330ms/step - loss: 3.6391e-06 - val_loss: 2.4259e-04\n",
      "Epoch 41/50\n",
      "83/83 [==============================] - 28s 337ms/step - loss: 3.7017e-06 - val_loss: 4.9086e-04\n",
      "Epoch 42/50\n",
      "83/83 [==============================] - 27s 330ms/step - loss: 3.9640e-06 - val_loss: 2.3581e-04\n",
      "Epoch 43/50\n",
      "83/83 [==============================] - 27s 324ms/step - loss: 3.4137e-06 - val_loss: 3.4930e-04\n",
      "Epoch 44/50\n",
      "83/83 [==============================] - 30s 356ms/step - loss: 3.6743e-06 - val_loss: 4.1846e-04\n",
      "Epoch 45/50\n",
      "83/83 [==============================] - 27s 323ms/step - loss: 3.4983e-06 - val_loss: 2.3810e-04\n",
      "Epoch 46/50\n",
      "83/83 [==============================] - 27s 327ms/step - loss: 3.2749e-06 - val_loss: 2.5584e-04\n",
      "Epoch 47/50\n",
      "83/83 [==============================] - 28s 339ms/step - loss: 3.7081e-06 - val_loss: 2.4341e-04\n",
      "Epoch 48/50\n",
      "83/83 [==============================] - 30s 357ms/step - loss: 3.8711e-06 - val_loss: 2.5582e-04\n",
      "Epoch 49/50\n",
      "83/83 [==============================] - 29s 351ms/step - loss: 3.0120e-06 - val_loss: 3.1938e-04\n",
      "Epoch 50/50\n",
      "83/83 [==============================] - 28s 337ms/step - loss: 4.3123e-06 - val_loss: 2.1993e-04\n"
     ]
    }
   ],
   "source": [
    "epochs = 50\n",
    "batch_size = 32\n",
    "history = model.fit(x_train, y_train, \n",
    "                    batch_size=batch_size, \n",
    "                    epochs=epochs,\n",
    "                    validation_data=(x_test, y_test),\n",
    "                    callbacks = [callbacks]                 \n",
    "                   )\n",
    "    "
   ]
  },
  {
   "cell_type": "markdown",
   "id": "24f405b7-a10e-4041-a011-59dbaa7faa4a",
   "metadata": {},
   "source": [
    "#### Burada tahmin başarı anlamında bir kayıp eğrisi çizdiriyoruz."
   ]
  },
  {
   "cell_type": "code",
   "execution_count": 28,
   "id": "32f8cd69-c0b7-460b-8bb2-c02a7cc80703",
   "metadata": {},
   "outputs": [
    {
     "data": {
      "image/png": "[encoded data removed]",
      "text/plain": [
       "<Figure size 1152x360 with 1 Axes>"
      ]
     },
     "metadata": {
      "needs_background": "light"
     },
     "output_type": "display_data"
    }
   ],
   "source": [
    "fig, ax = plt.subplots(figsize=(16, 5), sharex=True)\n",
    "sns.lineplot(data=history.history[\"loss\"])\n",
    "plt.title(\"Model loss\")\n",
    "plt.ylabel(\"Loss\")\n",
    "plt.xlabel(\"Epoch\")\n",
    "ax.xaxis.set_major_locator(plt.MaxNLocator(epochs))\n",
    "plt.legend([\"Train\", \"Test\"], loc=\"upper left\")\n",
    "plt.grid()\n",
    "plt.show()"
   ]
  },
  {
   "cell_type": "markdown",
   "id": "70432094-d66f-47db-954c-18225d57290a",
   "metadata": {
    "tags": []
   },
   "source": [
    "#### Sinir ağı regresyon modelini eğittikten sonra performansını ölçmek istiyoruz. Önce tahminlerin ölçeklemesini tersine çevirmeliyiz. Daha sonra MAE, MAPE ve MDAPE gibi farklı hata metriklerini hesaplıyoruz. Ardından, bir çizgi grafiğindeki tahminleri gerçek değerlerle karşılaştıracağız."
   ]
  },
  {
   "cell_type": "code",
   "execution_count": 29,
   "id": "d7fac5f1-661b-47a7-bd5c-63b4d1e77d0d",
   "metadata": {},
   "outputs": [
    {
     "name": "stdout",
     "output_type": "stream",
     "text": [
      "22/22 [==============================] - 3s 113ms/step\n",
      "R2: 0.997\n",
      "Median Absolute Error (MAE): 1.0\n",
      "Mean Absolute Percentage Error (MAPE): 2.26 %\n",
      "Median Absolute Percentage Error (MDAPE): 1.59 %\n"
     ]
    }
   ],
   "source": [
    "y_pred_scaled = model.predict(x_test)\n",
    "\n",
    "y_pred = scaler_pred.inverse_transform(y_pred_scaled)\n",
    "y_test_unscaled = scaler_pred.inverse_transform(y_test.reshape(-1, 1))\n",
    "\n",
    "R2 = r2_score(y_test_unscaled, y_pred)\n",
    "print(f'R2: {np.round(R2, 3)}')\n",
    "\n",
    "MAE = mean_absolute_error(y_test_unscaled, y_pred)\n",
    "print(f'Median Absolute Error (MAE): {np.round(MAE, 2)}')\n",
    "\n",
    "MAPE = np.mean((np.abs(np.subtract(y_test_unscaled, y_pred)/ y_test_unscaled))) * 100\n",
    "print(f'Mean Absolute Percentage Error (MAPE): {np.round(MAPE, 2)} %')\n",
    "\n",
    "MDAPE = np.median((np.abs(np.subtract(y_test_unscaled, y_pred)/ y_test_unscaled)) ) * 100\n",
    "print(f'Median Absolute Percentage Error (MDAPE): {np.round(MDAPE, 2)} %')"
   ]
  },
  {
   "cell_type": "markdown",
   "id": "5427eb8e-894f-44c8-8acb-469a572ca58f",
   "metadata": {},
   "source": [
    "#### Çizgi grafiği, tahminin gerçek değerlere yakın olduğunu ancak kısmen ondan saptığını gösterir. Gerçek değerler ve tahminler arasındaki sapmalara artıklar denir. Bizim modumuz için, bunlar en çok artan piyasa oynaklığının olduğu dönemlerde ve en az da istikrarlı piyasa hareketinin olduğu dönemlerde önemli görünmektedir, bu mantıklıdır çünkü ani hareketlerin genellikle tahmin edilmesi daha zordur."
   ]
  },
  {
   "cell_type": "code",
   "execution_count": 30,
   "id": "65af7f39-e5f7-4996-bac6-767ced0e6da2",
   "metadata": {},
   "outputs": [
    {
     "data": {
      "image/png": "[encoded data removed]",
      "text/plain": [
       "<Figure size 1152x576 with 1 Axes>"
      ]
     },
     "metadata": {
      "needs_background": "light"
     },
     "output_type": "display_data"
    }
   ],
   "source": [
    "# Tarihin görüntülendiği tarih\n",
    "display_start_date = \"2019-01-01\" \n",
    "\n",
    "# Geçerli ve tahmini fiyatlar arasındaki fark\n",
    "train = pd.DataFrame(data_filtered_ext['Close'][:train_data_len + 1]).rename(columns={'Close': 'y_train'})\n",
    "valid = pd.DataFrame(data_filtered_ext['Close'][train_data_len:]).rename(columns={'Close': 'y_test'})\n",
    "valid.insert(1, \"y_pred\", y_pred, True)\n",
    "valid.insert(1, \"residuals\", valid[\"y_pred\"] - valid[\"y_test\"], True)\n",
    "df_union = pd.concat([train, valid])\n",
    "\n",
    "# Daha yakın bir zaman dilimine yakınlaştırın\n",
    "df_union_zoom = df_union[df_union.index > display_start_date]\n",
    "\n",
    "fig, ax1 = plt.subplots(figsize=(16, 8))\n",
    "plt.title(\"y_pred vs y_test\")\n",
    "plt.ylabel(stockname, fontsize=18)\n",
    "sns.set_palette([\"#090364\", \"#1960EF\", \"#EF5919\"])\n",
    "sns.lineplot(data=df_union_zoom[['y_pred', 'y_train', 'y_test']], linewidth=1.0, dashes=False, ax=ax1)\n",
    "\n",
    "# Farkların grafiği\n",
    "df_sub = [\"#2BC97A\" if x > 0 else \"#C92B2B\" for x in df_union_zoom[\"residuals\"].dropna()]\n",
    "ax1.bar(height=df_union_zoom['residuals'].dropna(), x=df_union_zoom['residuals'].dropna().index, width=3, label='residuals', color=df_sub)\n",
    "plt.legend()\n",
    "plt.show()"
   ]
  },
  {
   "cell_type": "code",
   "execution_count": 31,
   "id": "c2ce9b56-9050-4817-90af-5d7bf9a4152f",
   "metadata": {},
   "outputs": [
    {
     "name": "stdout",
     "output_type": "stream",
     "text": [
      "1/1 [==============================] - 0s 31ms/step\n",
      "The close price for Turkish Airlines at 2023-02-26 was 135.0\n",
      "The predicted close price is 134.07000732421875 (-0.69%)\n"
     ]
    }
   ],
   "source": [
    "df_temp = df[-sequence_length:]\n",
    "new_df = df_temp.filter(FEATURES)\n",
    "\n",
    "N = sequence_length\n",
    "\n",
    "# Son N günlük kapanış fiyatı değerlerini alın ve verileri 0 ile 1 arasında değerler olacak şekilde ölçeklendirin\n",
    "last_N_days = new_df[-sequence_length:].values\n",
    "last_N_days_scaled = scaler.transform(last_N_days)\n",
    "\n",
    "# Boş bir liste oluşturun ve son N günü ekleyin\n",
    "X_test_new = []\n",
    "X_test_new.append(last_N_days_scaled)\n",
    "\n",
    "# X_test veri kümesini numpy dizisine dönüştürün ve verileri tekrar eski haline çevirin\n",
    "pred_price_scaled = model.predict(np.array(X_test_new))\n",
    "pred_price_unscaled = scaler_pred.inverse_transform(pred_price_scaled.reshape(-1, 1))\n",
    "\n",
    "# Bir sonraki gün için son fiyatı ve tahmini fiyatı yazdırın\n",
    "price_today = np.round(new_df['Close'][-1], 2)\n",
    "predicted_price = np.round(pred_price_unscaled.ravel()[0], 2)\n",
    "change_percent = np.round(100 - (price_today * 100)/predicted_price, 2)\n",
    "\n",
    "plus = '+'; minus = ''\n",
    "print(f'The close price for {stockname} at {end_date} was {price_today}')\n",
    "print(f'The predicted close price is {predicted_price} ({plus if change_percent > 0 else minus}{change_percent}%)')"
   ]
  },
  {
   "cell_type": "code",
   "execution_count": null,
   "id": "03053c3d-d558-4695-94d3-933c3e6c31b5",
   "metadata": {},
   "outputs": [],
   "source": []
  },
  {
   "cell_type": "code",
   "execution_count": null,
   "id": "949ee53f-de3a-483b-8e4f-bfd023f0ae17",
   "metadata": {},
   "outputs": [],
   "source": []
  },
  {
   "cell_type": "markdown",
   "id": "4ab52c0a-8040-4e95-bfdb-d23497fb5869",
   "metadata": {},
   "source": [
    "## Hidden Layer and Neuron Update"
   ]
  },
  {
   "cell_type": "code",
   "execution_count": 33,
   "id": "9fd4fdf8-ff13-499e-bf2a-703e21fecd3c",
   "metadata": {},
   "outputs": [
    {
     "data": {
      "text/plain": [
       "(2695, 5)"
      ]
     },
     "execution_count": 33,
     "metadata": {},
     "output_type": "execute_result"
    }
   ],
   "source": [
    "train_data.shape"
   ]
  },
  {
   "cell_type": "code",
   "execution_count": 34,
   "id": "8fb7fa45-73f9-4d23-99b2-769bbf8e8875",
   "metadata": {},
   "outputs": [
    {
     "name": "stdout",
     "output_type": "stream",
     "text": [
      "320 64 5\n",
      "Model: \"sequential_2\"\n",
      "_________________________________________________________________\n",
      " Layer (type)                Output Shape              Param #   \n",
      "=================================================================\n",
      " lstm_4 (LSTM)               (None, 64, 320)           417280    \n",
      "                                                                 \n",
      " lstm_5 (LSTM)               (None, 200)               416800    \n",
      "                                                                 \n",
      " dense_4 (Dense)             (None, 5)                 1005      \n",
      "                                                                 \n",
      " dense_5 (Dense)             (None, 1)                 6         \n",
      "                                                                 \n",
      "=================================================================\n",
      "Total params: 835,091\n",
      "Trainable params: 835,091\n",
      "Non-trainable params: 0\n",
      "_________________________________________________________________\n"
     ]
    }
   ],
   "source": [
    "model=Sequential()\n",
    "\n",
    "n_neurons = x_train.shape[1] * x_train.shape[2]\n",
    "print(n_neurons, x_train.shape[1], x_train.shape[2])\n",
    "\n",
    "model.add(LSTM(n_neurons,return_sequences=True,input_shape=(x_train.shape[1], x_train.shape[2])))\n",
    "\n",
    "model.add(LSTM(200,return_sequences=False))\n",
    "\n",
    "model.add(Dense(5))\n",
    "\n",
    "model.add(Dense(1))\n",
    "\n",
    "model.compile(loss='mean_squared_error',optimizer='adam')\n",
    "\n",
    "model.summary()"
   ]
  },
  {
   "cell_type": "code",
   "execution_count": 35,
   "id": "3054ec44-9332-418b-93a3-b771c6e990ec",
   "metadata": {},
   "outputs": [],
   "source": [
    "callbacks = EarlyStopping(monitor = \"loss\",patience = 6,verbose = 1)"
   ]
  },
  {
   "cell_type": "code",
   "execution_count": 36,
   "id": "c39e1ec8-5fc1-4908-b08b-ec92bf569383",
   "metadata": {},
   "outputs": [
    {
     "name": "stdout",
     "output_type": "stream",
     "text": [
      "Epoch 1/50\n",
      "83/83 [==============================] - 30s 321ms/step - loss: 1.9503e-04 - val_loss: 0.0011\n",
      "Epoch 2/50\n",
      "83/83 [==============================] - 29s 344ms/step - loss: 9.1213e-06 - val_loss: 4.9937e-04\n",
      "Epoch 3/50\n",
      "83/83 [==============================] - 28s 336ms/step - loss: 8.5719e-06 - val_loss: 3.6200e-04\n",
      "Epoch 4/50\n",
      "83/83 [==============================] - 28s 340ms/step - loss: 8.4171e-06 - val_loss: 6.8947e-04\n",
      "Epoch 5/50\n",
      "83/83 [==============================] - 29s 346ms/step - loss: 7.7399e-06 - val_loss: 6.3658e-04\n",
      "Epoch 6/50\n",
      "83/83 [==============================] - 27s 326ms/step - loss: 7.8864e-06 - val_loss: 4.7057e-04\n",
      "Epoch 7/50\n",
      "83/83 [==============================] - 28s 332ms/step - loss: 9.3451e-06 - val_loss: 5.5240e-04\n",
      "Epoch 8/50\n",
      "83/83 [==============================] - 27s 327ms/step - loss: 7.3347e-06 - val_loss: 7.7700e-04\n",
      "Epoch 9/50\n",
      "83/83 [==============================] - 27s 328ms/step - loss: 7.8898e-06 - val_loss: 4.1075e-04\n",
      "Epoch 10/50\n",
      "83/83 [==============================] - 27s 327ms/step - loss: 5.8030e-06 - val_loss: 5.3581e-04\n",
      "Epoch 11/50\n",
      "83/83 [==============================] - 27s 329ms/step - loss: 5.9403e-06 - val_loss: 4.6310e-04\n",
      "Epoch 12/50\n",
      "83/83 [==============================] - 27s 326ms/step - loss: 5.4818e-06 - val_loss: 4.8779e-04\n",
      "Epoch 13/50\n",
      "83/83 [==============================] - 27s 324ms/step - loss: 6.2896e-06 - val_loss: 8.4517e-04\n",
      "Epoch 14/50\n",
      "83/83 [==============================] - 28s 334ms/step - loss: 5.9233e-06 - val_loss: 9.3268e-04\n",
      "Epoch 15/50\n",
      "83/83 [==============================] - 27s 328ms/step - loss: 6.8902e-06 - val_loss: 3.8062e-04\n",
      "Epoch 16/50\n",
      "83/83 [==============================] - 27s 326ms/step - loss: 5.3354e-06 - val_loss: 2.6044e-04\n",
      "Epoch 17/50\n",
      "83/83 [==============================] - 27s 330ms/step - loss: 5.7033e-06 - val_loss: 3.9576e-04\n",
      "Epoch 18/50\n",
      "83/83 [==============================] - 28s 338ms/step - loss: 5.0593e-06 - val_loss: 3.2145e-04\n",
      "Epoch 19/50\n",
      "83/83 [==============================] - 28s 341ms/step - loss: 7.1018e-06 - val_loss: 2.1336e-04\n",
      "Epoch 20/50\n",
      "83/83 [==============================] - 28s 336ms/step - loss: 4.7212e-06 - val_loss: 3.4674e-04\n",
      "Epoch 21/50\n",
      "83/83 [==============================] - 29s 350ms/step - loss: 5.2899e-06 - val_loss: 2.9338e-04\n",
      "Epoch 22/50\n",
      "83/83 [==============================] - 29s 344ms/step - loss: 5.0207e-06 - val_loss: 5.5981e-04\n",
      "Epoch 23/50\n",
      "83/83 [==============================] - 28s 343ms/step - loss: 5.2229e-06 - val_loss: 0.0012\n",
      "Epoch 24/50\n",
      "83/83 [==============================] - 28s 341ms/step - loss: 5.2502e-06 - val_loss: 3.1961e-04\n",
      "Epoch 25/50\n",
      "83/83 [==============================] - 28s 336ms/step - loss: 4.1405e-06 - val_loss: 2.1535e-04\n",
      "Epoch 26/50\n",
      "83/83 [==============================] - 29s 344ms/step - loss: 4.7236e-06 - val_loss: 2.6487e-04\n",
      "Epoch 27/50\n",
      "83/83 [==============================] - 28s 339ms/step - loss: 4.7903e-06 - val_loss: 3.4177e-04\n",
      "Epoch 28/50\n",
      "83/83 [==============================] - 29s 348ms/step - loss: 4.2236e-06 - val_loss: 3.1193e-04\n",
      "Epoch 29/50\n",
      "83/83 [==============================] - 29s 346ms/step - loss: 3.8023e-06 - val_loss: 1.6623e-04\n",
      "Epoch 30/50\n",
      "83/83 [==============================] - 29s 347ms/step - loss: 4.0576e-06 - val_loss: 6.4982e-04\n",
      "Epoch 31/50\n",
      "83/83 [==============================] - 29s 350ms/step - loss: 5.4032e-06 - val_loss: 3.4988e-04\n",
      "Epoch 32/50\n",
      "83/83 [==============================] - 28s 339ms/step - loss: 4.0488e-06 - val_loss: 2.0594e-04\n",
      "Epoch 33/50\n",
      "83/83 [==============================] - 29s 347ms/step - loss: 4.1340e-06 - val_loss: 1.4721e-04\n",
      "Epoch 34/50\n",
      "83/83 [==============================] - 28s 343ms/step - loss: 5.1779e-06 - val_loss: 2.1453e-04\n",
      "Epoch 35/50\n",
      "83/83 [==============================] - 29s 345ms/step - loss: 5.0514e-06 - val_loss: 3.9968e-04\n",
      "Epoch 35: early stopping\n"
     ]
    }
   ],
   "source": [
    "epochs = 50\n",
    "batch_size = 32\n",
    "history = model.fit(x_train, y_train, \n",
    "                    batch_size=batch_size, \n",
    "                    epochs=epochs,\n",
    "                    validation_data=(x_test, y_test),\n",
    "                    callbacks = [callbacks]                 \n",
    "                   )\n",
    "    "
   ]
  },
  {
   "cell_type": "markdown",
   "id": "98182cb3-fb78-4d4a-b336-f051ce705a9d",
   "metadata": {},
   "source": [
    "#### Burada tahmin başarı anlamında bir kayıp eğrisi çizdiriyoruz."
   ]
  },
  {
   "cell_type": "code",
   "execution_count": 37,
   "id": "a2b62e2a-2f9a-48a7-8871-ee989bc80fd8",
   "metadata": {},
   "outputs": [
    {
     "data": {
      "image/png": "[encoded data removed]",
      "text/plain": [
       "<Figure size 1152x360 with 1 Axes>"
      ]
     },
     "metadata": {
      "needs_background": "light"
     },
     "output_type": "display_data"
    }
   ],
   "source": [
    "fig, ax = plt.subplots(figsize=(16, 5), sharex=True)\n",
    "sns.lineplot(data=history.history[\"loss\"])\n",
    "plt.title(\"Model loss\")\n",
    "plt.ylabel(\"Loss\")\n",
    "plt.xlabel(\"Epoch\")\n",
    "ax.xaxis.set_major_locator(plt.MaxNLocator(epochs))\n",
    "plt.legend([\"Train\", \"Test\"], loc=\"upper left\")\n",
    "plt.grid()\n",
    "plt.show()"
   ]
  },
  {
   "cell_type": "markdown",
   "id": "18aee26b-7626-4ad7-a0c6-3a60f3157048",
   "metadata": {
    "tags": []
   },
   "source": [
    "#### Sinir ağı regresyon modelini eğittikten sonra performansını ölçmek istiyoruz. Önce tahminlerin ölçeklemesini tersine çevirmeliyiz. Daha sonra MAE, MAPE ve MDAPE gibi farklı hata metriklerini hesaplıyoruz. Ardından, bir çizgi grafiğindeki tahminleri gerçek değerlerle karşılaştıracağız."
   ]
  },
  {
   "cell_type": "code",
   "execution_count": 38,
   "id": "2b457b81-b9d5-4747-aad5-cdf603ee209c",
   "metadata": {},
   "outputs": [
    {
     "name": "stdout",
     "output_type": "stream",
     "text": [
      "22/22 [==============================] - 3s 85ms/step\n",
      "R2: 0.993\n",
      "Median Absolute Error (MAE): 1.54\n",
      "Mean Absolute Percentage Error (MAPE): 3.26 %\n",
      "Median Absolute Percentage Error (MDAPE): 2.46 %\n"
     ]
    }
   ],
   "source": [
    "y_pred_scaled = model.predict(x_test)\n",
    "\n",
    "y_pred = scaler_pred.inverse_transform(y_pred_scaled)\n",
    "y_test_unscaled = scaler_pred.inverse_transform(y_test.reshape(-1, 1))\n",
    "\n",
    "R2 = r2_score(y_test_unscaled, y_pred)\n",
    "print(f'R2: {np.round(R2, 3)}')\n",
    "\n",
    "MAE = mean_absolute_error(y_test_unscaled, y_pred)\n",
    "print(f'Median Absolute Error (MAE): {np.round(MAE, 2)}')\n",
    "\n",
    "MAPE = np.mean((np.abs(np.subtract(y_test_unscaled, y_pred)/ y_test_unscaled))) * 100\n",
    "print(f'Mean Absolute Percentage Error (MAPE): {np.round(MAPE, 2)} %')\n",
    "\n",
    "MDAPE = np.median((np.abs(np.subtract(y_test_unscaled, y_pred)/ y_test_unscaled)) ) * 100\n",
    "print(f'Median Absolute Percentage Error (MDAPE): {np.round(MDAPE, 2)} %')"
   ]
  },
  {
   "cell_type": "markdown",
   "id": "86ab78c3-19dd-414e-ab7b-b1e7229df338",
   "metadata": {},
   "source": [
    "#### Çizgi grafiği, tahminin gerçek değerlere yakın olduğunu ancak kısmen ondan saptığını gösterir. Gerçek değerler ve tahminler arasındaki sapmalara artıklar denir. Bizim modumuz için, bunlar en çok artan piyasa oynaklığının olduğu dönemlerde ve en az da istikrarlı piyasa hareketinin olduğu dönemlerde önemli görünmektedir, bu mantıklıdır çünkü ani hareketlerin genellikle tahmin edilmesi daha zordur."
   ]
  },
  {
   "cell_type": "code",
   "execution_count": 39,
   "id": "c2590fbe-4899-4d8d-8945-bf9ecc97239f",
   "metadata": {},
   "outputs": [
    {
     "data": {
      "image/png": "[encoded data removed]",
      "text/plain": [
       "<Figure size 1152x576 with 1 Axes>"
      ]
     },
     "metadata": {
      "needs_background": "light"
     },
     "output_type": "display_data"
    }
   ],
   "source": [
    "# Tarihin görüntülendiği tarih\n",
    "display_start_date = \"2019-01-01\" \n",
    "\n",
    "# Geçerli ve tahmini fiyatlar arasındaki fark\n",
    "train = pd.DataFrame(data_filtered_ext['Close'][:train_data_len + 1]).rename(columns={'Close': 'y_train'})\n",
    "valid = pd.DataFrame(data_filtered_ext['Close'][train_data_len:]).rename(columns={'Close': 'y_test'})\n",
    "valid.insert(1, \"y_pred\", y_pred, True)\n",
    "valid.insert(1, \"residuals\", valid[\"y_pred\"] - valid[\"y_test\"], True)\n",
    "df_union = pd.concat([train, valid])\n",
    "\n",
    "# Daha yakın bir zaman dilimine yakınlaştırın\n",
    "df_union_zoom = df_union[df_union.index > display_start_date]\n",
    "\n",
    "fig, ax1 = plt.subplots(figsize=(16, 8))\n",
    "plt.title(\"y_pred vs y_test\")\n",
    "plt.ylabel(stockname, fontsize=18)\n",
    "sns.set_palette([\"#090364\", \"#1960EF\", \"#EF5919\"])\n",
    "sns.lineplot(data=df_union_zoom[['y_pred', 'y_train', 'y_test']], linewidth=1.0, dashes=False, ax=ax1)\n",
    "\n",
    "# Farkların grafiği\n",
    "df_sub = [\"#2BC97A\" if x > 0 else \"#C92B2B\" for x in df_union_zoom[\"residuals\"].dropna()]\n",
    "ax1.bar(height=df_union_zoom['residuals'].dropna(), x=df_union_zoom['residuals'].dropna().index, width=3, label='residuals', color=df_sub)\n",
    "plt.legend()\n",
    "plt.show()"
   ]
  },
  {
   "cell_type": "code",
   "execution_count": 40,
   "id": "8269996c-2b91-4cf3-83a8-d6770f66289c",
   "metadata": {},
   "outputs": [
    {
     "name": "stdout",
     "output_type": "stream",
     "text": [
      "1/1 [==============================] - 0s 20ms/step\n",
      "The close price for Turkish Airlines at 2023-01-26 was 151.8\n",
      "The predicted close price is 142.72000122070312 (-6.36%)\n"
     ]
    }
   ],
   "source": [
    "df_temp = df[-sequence_length:]\n",
    "new_df = df_temp.filter(FEATURES)\n",
    "\n",
    "N = sequence_length\n",
    "\n",
    "# Son N günlük kapanış fiyatı değerlerini alın ve verileri 0 ile 1 arasında değerler olacak şekilde ölçeklendirin\n",
    "last_N_days = new_df[-sequence_length:].values\n",
    "last_N_days_scaled = scaler.transform(last_N_days)\n",
    "\n",
    "# Boş bir liste oluşturun ve son N günü ekleyin\n",
    "X_test_new = []\n",
    "X_test_new.append(last_N_days_scaled)\n",
    "\n",
    "# X_test veri kümesini numpy dizisine dönüştürün ve verileri tekrar eski haline çevirin\n",
    "pred_price_scaled = model.predict(np.array(X_test_new))\n",
    "pred_price_unscaled = scaler_pred.inverse_transform(pred_price_scaled.reshape(-1, 1))\n",
    "\n",
    "# Bir sonraki gün için son fiyatı ve tahmini fiyatı yazdırın\n",
    "price_today = np.round(new_df['Close'][-1], 2)\n",
    "predicted_price = np.round(pred_price_unscaled.ravel()[0], 2)\n",
    "change_percent = np.round(100 - (price_today * 100)/predicted_price, 2)\n",
    "\n",
    "plus = '+'; minus = ''\n",
    "print(f'The close price for {stockname} at {end_date} was {price_today}')\n",
    "print(f'The predicted close price is {predicted_price} ({plus if change_percent > 0 else minus}{change_percent}%)')"
   ]
  }
 ],
 "metadata": {
  "kernelspec": {
   "display_name": "Python 3 (ipykernel)",
   "language": "python",
   "name": "python3"
  },
  "language_info": {
   "codemirror_mode": {
    "name": "ipython",
    "version": 3
   },
   "file_extension": ".py",
   "mimetype": "text/x-python",
   "name": "python",
   "nbconvert_exporter": "python",
   "pygments_lexer": "ipython3",
   "version": "3.9.12"
  }
 },
 "nbformat": 4,
 "nbformat_minor": 5
}
