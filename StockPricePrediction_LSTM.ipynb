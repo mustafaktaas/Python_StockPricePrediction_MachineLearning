{
  "cells": [
    {
      "cell_type": "markdown",
      "metadata": {
        "id": "view-in-github",
        "colab_type": "text"
      },
      "source": [
        "<a href=\"https://colab.research.google.com/github/mustafaktaas/Python_StockPricePrediction_MachineLearning/blob/main/StockPricePrediction_LSTM.ipynb\" target=\"_parent\"><img src=\"https://colab.research.google.com/assets/colab-badge.svg\" alt=\"Open In Colab\"/></a>"
      ]
    },
    {
      "cell_type": "markdown",
      "id": "06df1b61-4e37-496f-8519-a714230728a2",
      "metadata": {
        "tags": [],
        "id": "06df1b61-4e37-496f-8519-a714230728a2"
      },
      "source": [
        "# Stock Market Prediction using Multivariate LSTM Time Series"
      ]
    },
    {
      "cell_type": "code",
      "execution_count": 2,
      "id": "ea7bd5fa-9841-4b17-8a95-be443d51ed1d",
      "metadata": {
        "tags": [],
        "colab": {
          "base_uri": "https://localhost:8080/",
          "height": 256
        },
        "id": "ea7bd5fa-9841-4b17-8a95-be443d51ed1d",
        "outputId": "fb183bbe-4ff1-4e24-88af-6971388df26a"
      },
      "outputs": [
        {
          "output_type": "stream",
          "name": "stdout",
          "text": [
            "\r[*********************100%***********************]  1 of 1 completed\n"
          ]
        },
        {
          "output_type": "execute_result",
          "data": {
            "text/plain": [
              "                Open      High       Low     Close  Adj Close   Volume\n",
              "Date                                                                  \n",
              "2010-01-01  4.250000  4.250000  4.250000  4.250000   1.889981        0\n",
              "2010-01-04  4.250000  4.357142  4.214285  4.321428   1.921745  5387809\n",
              "2010-01-05  4.464285  4.571428  4.428571  4.500000   2.001157  9854194\n",
              "2010-01-06  4.500000  4.535714  4.428571  4.500000   2.001157  2408007\n",
              "2010-01-07  4.464285  4.535714  4.428571  4.500000   2.001157  3059357"
            ],
            "text/html": [
              "\n",
              "  <div id=\"df-8feb6822-8076-40a3-abcf-80ccff3fcb3d\">\n",
              "    <div class=\"colab-df-container\">\n",
              "      <div>\n",
              "<style scoped>\n",
              "    .dataframe tbody tr th:only-of-type {\n",
              "        vertical-align: middle;\n",
              "    }\n",
              "\n",
              "    .dataframe tbody tr th {\n",
              "        vertical-align: top;\n",
              "    }\n",
              "\n",
              "    .dataframe thead th {\n",
              "        text-align: right;\n",
              "    }\n",
              "</style>\n",
              "<table border=\"1\" class=\"dataframe\">\n",
              "  <thead>\n",
              "    <tr style=\"text-align: right;\">\n",
              "      <th></th>\n",
              "      <th>Open</th>\n",
              "      <th>High</th>\n",
              "      <th>Low</th>\n",
              "      <th>Close</th>\n",
              "      <th>Adj Close</th>\n",
              "      <th>Volume</th>\n",
              "    </tr>\n",
              "    <tr>\n",
              "      <th>Date</th>\n",
              "      <th></th>\n",
              "      <th></th>\n",
              "      <th></th>\n",
              "      <th></th>\n",
              "      <th></th>\n",
              "      <th></th>\n",
              "    </tr>\n",
              "  </thead>\n",
              "  <tbody>\n",
              "    <tr>\n",
              "      <th>2010-01-01</th>\n",
              "      <td>4.250000</td>\n",
              "      <td>4.250000</td>\n",
              "      <td>4.250000</td>\n",
              "      <td>4.250000</td>\n",
              "      <td>1.889981</td>\n",
              "      <td>0</td>\n",
              "    </tr>\n",
              "    <tr>\n",
              "      <th>2010-01-04</th>\n",
              "      <td>4.250000</td>\n",
              "      <td>4.357142</td>\n",
              "      <td>4.214285</td>\n",
              "      <td>4.321428</td>\n",
              "      <td>1.921745</td>\n",
              "      <td>5387809</td>\n",
              "    </tr>\n",
              "    <tr>\n",
              "      <th>2010-01-05</th>\n",
              "      <td>4.464285</td>\n",
              "      <td>4.571428</td>\n",
              "      <td>4.428571</td>\n",
              "      <td>4.500000</td>\n",
              "      <td>2.001157</td>\n",
              "      <td>9854194</td>\n",
              "    </tr>\n",
              "    <tr>\n",
              "      <th>2010-01-06</th>\n",
              "      <td>4.500000</td>\n",
              "      <td>4.535714</td>\n",
              "      <td>4.428571</td>\n",
              "      <td>4.500000</td>\n",
              "      <td>2.001157</td>\n",
              "      <td>2408007</td>\n",
              "    </tr>\n",
              "    <tr>\n",
              "      <th>2010-01-07</th>\n",
              "      <td>4.464285</td>\n",
              "      <td>4.535714</td>\n",
              "      <td>4.428571</td>\n",
              "      <td>4.500000</td>\n",
              "      <td>2.001157</td>\n",
              "      <td>3059357</td>\n",
              "    </tr>\n",
              "  </tbody>\n",
              "</table>\n",
              "</div>\n",
              "      <button class=\"colab-df-convert\" onclick=\"convertToInteractive('df-8feb6822-8076-40a3-abcf-80ccff3fcb3d')\"\n",
              "              title=\"Convert this dataframe to an interactive table.\"\n",
              "              style=\"display:none;\">\n",
              "        \n",
              "  <svg xmlns=\"http://www.w3.org/2000/svg\" height=\"24px\"viewBox=\"0 0 24 24\"\n",
              "       width=\"24px\">\n",
              "    <path d=\"M0 0h24v24H0V0z\" fill=\"none\"/>\n",
              "    <path d=\"M18.56 5.44l.94 2.06.94-2.06 2.06-.94-2.06-.94-.94-2.06-.94 2.06-2.06.94zm-11 1L8.5 8.5l.94-2.06 2.06-.94-2.06-.94L8.5 2.5l-.94 2.06-2.06.94zm10 10l.94 2.06.94-2.06 2.06-.94-2.06-.94-.94-2.06-.94 2.06-2.06.94z\"/><path d=\"M17.41 7.96l-1.37-1.37c-.4-.4-.92-.59-1.43-.59-.52 0-1.04.2-1.43.59L10.3 9.45l-7.72 7.72c-.78.78-.78 2.05 0 2.83L4 21.41c.39.39.9.59 1.41.59.51 0 1.02-.2 1.41-.59l7.78-7.78 2.81-2.81c.8-.78.8-2.07 0-2.86zM5.41 20L4 18.59l7.72-7.72 1.47 1.35L5.41 20z\"/>\n",
              "  </svg>\n",
              "      </button>\n",
              "      \n",
              "  <style>\n",
              "    .colab-df-container {\n",
              "      display:flex;\n",
              "      flex-wrap:wrap;\n",
              "      gap: 12px;\n",
              "    }\n",
              "\n",
              "    .colab-df-convert {\n",
              "      background-color: #E8F0FE;\n",
              "      border: none;\n",
              "      border-radius: 50%;\n",
              "      cursor: pointer;\n",
              "      display: none;\n",
              "      fill: #1967D2;\n",
              "      height: 32px;\n",
              "      padding: 0 0 0 0;\n",
              "      width: 32px;\n",
              "    }\n",
              "\n",
              "    .colab-df-convert:hover {\n",
              "      background-color: #E2EBFA;\n",
              "      box-shadow: 0px 1px 2px rgba(60, 64, 67, 0.3), 0px 1px 3px 1px rgba(60, 64, 67, 0.15);\n",
              "      fill: #174EA6;\n",
              "    }\n",
              "\n",
              "    [theme=dark] .colab-df-convert {\n",
              "      background-color: #3B4455;\n",
              "      fill: #D2E3FC;\n",
              "    }\n",
              "\n",
              "    [theme=dark] .colab-df-convert:hover {\n",
              "      background-color: #434B5C;\n",
              "      box-shadow: 0px 1px 3px 1px rgba(0, 0, 0, 0.15);\n",
              "      filter: drop-shadow(0px 1px 2px rgba(0, 0, 0, 0.3));\n",
              "      fill: #FFFFFF;\n",
              "    }\n",
              "  </style>\n",
              "\n",
              "      <script>\n",
              "        const buttonEl =\n",
              "          document.querySelector('#df-8feb6822-8076-40a3-abcf-80ccff3fcb3d button.colab-df-convert');\n",
              "        buttonEl.style.display =\n",
              "          google.colab.kernel.accessAllowed ? 'block' : 'none';\n",
              "\n",
              "        async function convertToInteractive(key) {\n",
              "          const element = document.querySelector('#df-8feb6822-8076-40a3-abcf-80ccff3fcb3d');\n",
              "          const dataTable =\n",
              "            await google.colab.kernel.invokeFunction('convertToInteractive',\n",
              "                                                     [key], {});\n",
              "          if (!dataTable) return;\n",
              "\n",
              "          const docLinkHtml = 'Like what you see? Visit the ' +\n",
              "            '<a target=\"_blank\" href=https://colab.research.google.com/notebooks/data_table.ipynb>data table notebook</a>'\n",
              "            + ' to learn more about interactive tables.';\n",
              "          element.innerHTML = '';\n",
              "          dataTable['output_type'] = 'display_data';\n",
              "          await google.colab.output.renderOutput(dataTable, element);\n",
              "          const docLink = document.createElement('div');\n",
              "          docLink.innerHTML = docLinkHtml;\n",
              "          element.appendChild(docLink);\n",
              "        }\n",
              "      </script>\n",
              "    </div>\n",
              "  </div>\n",
              "  "
            ]
          },
          "metadata": {},
          "execution_count": 2
        }
      ],
      "source": [
        "import math \n",
        "import numpy as np \n",
        "import pandas as pd \n",
        "from datetime import date, timedelta, datetime\n",
        "from pandas.plotting import register_matplotlib_converters\n",
        "import matplotlib.pyplot as plt \n",
        "import matplotlib.dates as mdates \n",
        "import tensorflow as tf\n",
        "from sklearn.metrics import mean_absolute_error, mean_squared_error, r2_score\n",
        "from tensorflow.keras import Sequential \n",
        "from tensorflow.keras.layers import LSTM, Dense, Dropout, BatchNormalization\n",
        "from tensorflow.keras.callbacks import EarlyStopping,ModelCheckpoint\n",
        "from sklearn.preprocessing import RobustScaler, MinMaxScaler \n",
        "import seaborn as sns \n",
        "\n",
        "end_date =  date.today().strftime(\"%Y-%m-%d\")\n",
        "start_date = '2010-01-01'\n",
        "\n",
        "stockname = 'TUPRAS'\n",
        "symbol = 'TUPRS.IS'\n",
        "\n",
        "import yfinance as yf \n",
        "df = yf.download(symbol, start=start_date, end=end_date)\n",
        "\n",
        "df.head()"
      ]
    },
    {
      "cell_type": "code",
      "execution_count": 3,
      "id": "39f009ee-7567-444e-a23f-08a580893a41",
      "metadata": {
        "id": "39f009ee-7567-444e-a23f-08a580893a41"
      },
      "outputs": [],
      "source": [
        "pd.options.display.float_format = '{:.3f}'.format"
      ]
    },
    {
      "cell_type": "code",
      "execution_count": 4,
      "id": "66c9aca5-b34e-4891-8660-96aa44dd6601",
      "metadata": {
        "colab": {
          "base_uri": "https://localhost:8080/",
          "height": 237
        },
        "id": "66c9aca5-b34e-4891-8660-96aa44dd6601",
        "outputId": "d1c75569-dff2-43ca-86aa-50ab4926129f"
      },
      "outputs": [
        {
          "output_type": "execute_result",
          "data": {
            "text/plain": [
              "            Open  High   Low  Close  Adj Close   Volume\n",
              "Date                                                   \n",
              "2010-01-01 4.250 4.250 4.250  4.250      1.890        0\n",
              "2010-01-04 4.250 4.357 4.214  4.321      1.922  5387809\n",
              "2010-01-05 4.464 4.571 4.429  4.500      2.001  9854194\n",
              "2010-01-06 4.500 4.536 4.429  4.500      2.001  2408007\n",
              "2010-01-07 4.464 4.536 4.429  4.500      2.001  3059357"
            ],
            "text/html": [
              "\n",
              "  <div id=\"df-22973984-bc9b-4141-a67d-3d5dc94e1989\">\n",
              "    <div class=\"colab-df-container\">\n",
              "      <div>\n",
              "<style scoped>\n",
              "    .dataframe tbody tr th:only-of-type {\n",
              "        vertical-align: middle;\n",
              "    }\n",
              "\n",
              "    .dataframe tbody tr th {\n",
              "        vertical-align: top;\n",
              "    }\n",
              "\n",
              "    .dataframe thead th {\n",
              "        text-align: right;\n",
              "    }\n",
              "</style>\n",
              "<table border=\"1\" class=\"dataframe\">\n",
              "  <thead>\n",
              "    <tr style=\"text-align: right;\">\n",
              "      <th></th>\n",
              "      <th>Open</th>\n",
              "      <th>High</th>\n",
              "      <th>Low</th>\n",
              "      <th>Close</th>\n",
              "      <th>Adj Close</th>\n",
              "      <th>Volume</th>\n",
              "    </tr>\n",
              "    <tr>\n",
              "      <th>Date</th>\n",
              "      <th></th>\n",
              "      <th></th>\n",
              "      <th></th>\n",
              "      <th></th>\n",
              "      <th></th>\n",
              "      <th></th>\n",
              "    </tr>\n",
              "  </thead>\n",
              "  <tbody>\n",
              "    <tr>\n",
              "      <th>2010-01-01</th>\n",
              "      <td>4.250</td>\n",
              "      <td>4.250</td>\n",
              "      <td>4.250</td>\n",
              "      <td>4.250</td>\n",
              "      <td>1.890</td>\n",
              "      <td>0</td>\n",
              "    </tr>\n",
              "    <tr>\n",
              "      <th>2010-01-04</th>\n",
              "      <td>4.250</td>\n",
              "      <td>4.357</td>\n",
              "      <td>4.214</td>\n",
              "      <td>4.321</td>\n",
              "      <td>1.922</td>\n",
              "      <td>5387809</td>\n",
              "    </tr>\n",
              "    <tr>\n",
              "      <th>2010-01-05</th>\n",
              "      <td>4.464</td>\n",
              "      <td>4.571</td>\n",
              "      <td>4.429</td>\n",
              "      <td>4.500</td>\n",
              "      <td>2.001</td>\n",
              "      <td>9854194</td>\n",
              "    </tr>\n",
              "    <tr>\n",
              "      <th>2010-01-06</th>\n",
              "      <td>4.500</td>\n",
              "      <td>4.536</td>\n",
              "      <td>4.429</td>\n",
              "      <td>4.500</td>\n",
              "      <td>2.001</td>\n",
              "      <td>2408007</td>\n",
              "    </tr>\n",
              "    <tr>\n",
              "      <th>2010-01-07</th>\n",
              "      <td>4.464</td>\n",
              "      <td>4.536</td>\n",
              "      <td>4.429</td>\n",
              "      <td>4.500</td>\n",
              "      <td>2.001</td>\n",
              "      <td>3059357</td>\n",
              "    </tr>\n",
              "  </tbody>\n",
              "</table>\n",
              "</div>\n",
              "      <button class=\"colab-df-convert\" onclick=\"convertToInteractive('df-22973984-bc9b-4141-a67d-3d5dc94e1989')\"\n",
              "              title=\"Convert this dataframe to an interactive table.\"\n",
              "              style=\"display:none;\">\n",
              "        \n",
              "  <svg xmlns=\"http://www.w3.org/2000/svg\" height=\"24px\"viewBox=\"0 0 24 24\"\n",
              "       width=\"24px\">\n",
              "    <path d=\"M0 0h24v24H0V0z\" fill=\"none\"/>\n",
              "    <path d=\"M18.56 5.44l.94 2.06.94-2.06 2.06-.94-2.06-.94-.94-2.06-.94 2.06-2.06.94zm-11 1L8.5 8.5l.94-2.06 2.06-.94-2.06-.94L8.5 2.5l-.94 2.06-2.06.94zm10 10l.94 2.06.94-2.06 2.06-.94-2.06-.94-.94-2.06-.94 2.06-2.06.94z\"/><path d=\"M17.41 7.96l-1.37-1.37c-.4-.4-.92-.59-1.43-.59-.52 0-1.04.2-1.43.59L10.3 9.45l-7.72 7.72c-.78.78-.78 2.05 0 2.83L4 21.41c.39.39.9.59 1.41.59.51 0 1.02-.2 1.41-.59l7.78-7.78 2.81-2.81c.8-.78.8-2.07 0-2.86zM5.41 20L4 18.59l7.72-7.72 1.47 1.35L5.41 20z\"/>\n",
              "  </svg>\n",
              "      </button>\n",
              "      \n",
              "  <style>\n",
              "    .colab-df-container {\n",
              "      display:flex;\n",
              "      flex-wrap:wrap;\n",
              "      gap: 12px;\n",
              "    }\n",
              "\n",
              "    .colab-df-convert {\n",
              "      background-color: #E8F0FE;\n",
              "      border: none;\n",
              "      border-radius: 50%;\n",
              "      cursor: pointer;\n",
              "      display: none;\n",
              "      fill: #1967D2;\n",
              "      height: 32px;\n",
              "      padding: 0 0 0 0;\n",
              "      width: 32px;\n",
              "    }\n",
              "\n",
              "    .colab-df-convert:hover {\n",
              "      background-color: #E2EBFA;\n",
              "      box-shadow: 0px 1px 2px rgba(60, 64, 67, 0.3), 0px 1px 3px 1px rgba(60, 64, 67, 0.15);\n",
              "      fill: #174EA6;\n",
              "    }\n",
              "\n",
              "    [theme=dark] .colab-df-convert {\n",
              "      background-color: #3B4455;\n",
              "      fill: #D2E3FC;\n",
              "    }\n",
              "\n",
              "    [theme=dark] .colab-df-convert:hover {\n",
              "      background-color: #434B5C;\n",
              "      box-shadow: 0px 1px 3px 1px rgba(0, 0, 0, 0.15);\n",
              "      filter: drop-shadow(0px 1px 2px rgba(0, 0, 0, 0.3));\n",
              "      fill: #FFFFFF;\n",
              "    }\n",
              "  </style>\n",
              "\n",
              "      <script>\n",
              "        const buttonEl =\n",
              "          document.querySelector('#df-22973984-bc9b-4141-a67d-3d5dc94e1989 button.colab-df-convert');\n",
              "        buttonEl.style.display =\n",
              "          google.colab.kernel.accessAllowed ? 'block' : 'none';\n",
              "\n",
              "        async function convertToInteractive(key) {\n",
              "          const element = document.querySelector('#df-22973984-bc9b-4141-a67d-3d5dc94e1989');\n",
              "          const dataTable =\n",
              "            await google.colab.kernel.invokeFunction('convertToInteractive',\n",
              "                                                     [key], {});\n",
              "          if (!dataTable) return;\n",
              "\n",
              "          const docLinkHtml = 'Like what you see? Visit the ' +\n",
              "            '<a target=\"_blank\" href=https://colab.research.google.com/notebooks/data_table.ipynb>data table notebook</a>'\n",
              "            + ' to learn more about interactive tables.';\n",
              "          element.innerHTML = '';\n",
              "          dataTable['output_type'] = 'display_data';\n",
              "          await google.colab.output.renderOutput(dataTable, element);\n",
              "          const docLink = document.createElement('div');\n",
              "          docLink.innerHTML = docLinkHtml;\n",
              "          element.appendChild(docLink);\n",
              "        }\n",
              "      </script>\n",
              "    </div>\n",
              "  </div>\n",
              "  "
            ]
          },
          "metadata": {},
          "execution_count": 4
        }
      ],
      "source": [
        "df.head()"
      ]
    },
    {
      "cell_type": "code",
      "execution_count": 5,
      "id": "157decb5-635e-46dc-8f8c-d38edd0d620c",
      "metadata": {
        "colab": {
          "base_uri": "https://localhost:8080/"
        },
        "id": "157decb5-635e-46dc-8f8c-d38edd0d620c",
        "outputId": "5145fddd-3923-43b3-b67e-823cc197c85e"
      },
      "outputs": [
        {
          "output_type": "stream",
          "name": "stdout",
          "text": [
            "<class 'pandas.core.frame.DataFrame'>\n",
            "DatetimeIndex: 3429 entries, 2010-01-01 to 2023-04-12\n",
            "Data columns (total 6 columns):\n",
            " #   Column     Non-Null Count  Dtype  \n",
            "---  ------     --------------  -----  \n",
            " 0   Open       3429 non-null   float64\n",
            " 1   High       3429 non-null   float64\n",
            " 2   Low        3429 non-null   float64\n",
            " 3   Close      3429 non-null   float64\n",
            " 4   Adj Close  3429 non-null   float64\n",
            " 5   Volume     3429 non-null   int64  \n",
            "dtypes: float64(5), int64(1)\n",
            "memory usage: 187.5 KB\n"
          ]
        }
      ],
      "source": [
        "df.info()"
      ]
    },
    {
      "cell_type": "code",
      "execution_count": 6,
      "id": "905a24f9-dfbf-4283-8736-ca0384a1b0a5",
      "metadata": {
        "colab": {
          "base_uri": "https://localhost:8080/"
        },
        "id": "905a24f9-dfbf-4283-8736-ca0384a1b0a5",
        "outputId": "6caea42d-abfe-49e7-a8a2-cf9df7b7fdcd"
      },
      "outputs": [
        {
          "output_type": "execute_result",
          "data": {
            "text/plain": [
              "(3429, 6)"
            ]
          },
          "metadata": {},
          "execution_count": 6
        }
      ],
      "source": [
        "df.shape"
      ]
    },
    {
      "cell_type": "markdown",
      "id": "0e83a701-5d28-4243-913e-d98cf53ae173",
      "metadata": {
        "tags": [],
        "id": "0e83a701-5d28-4243-913e-d98cf53ae173"
      },
      "source": [
        " #### Aldığımız değişkenleri önce bir çizgi grafiği ile çizdiriyoruz."
      ]
    },
    {
      "cell_type": "code",
      "execution_count": 7,
      "id": "447f171e-743a-4b54-8d6f-77ed9b71cda7",
      "metadata": {
        "colab": {
          "base_uri": "https://localhost:8080/",
          "height": 707
        },
        "id": "447f171e-743a-4b54-8d6f-77ed9b71cda7",
        "outputId": "94366e6c-da36-4be7-947b-07bb43cdd4a6"
      },
      "outputs": [
        {
          "output_type": "display_data",
          "data": {
            "text/plain": [
              "<Figure size 1400x700 with 6 Axes>"
            ],
            "image/png": "[encoded data removed]"
          },
          "metadata": {}
        }
      ],
      "source": [
        "df_plot = df.copy()\n",
        "\n",
        "ncols = 2\n",
        "nrows = int(round(df_plot.shape[1] / ncols, 0))\n",
        "\n",
        "fig, ax = plt.subplots(nrows=nrows, ncols=ncols, sharex=True, figsize=(14, 7))\n",
        "for i, ax in enumerate(fig.axes):\n",
        "        sns.lineplot(data = df_plot.iloc[:, i], ax=ax)\n",
        "        ax.tick_params(axis=\"x\", rotation=30, labelsize=10, length=0)\n",
        "        ax.xaxis.set_major_locator(mdates.AutoDateLocator())\n",
        "fig.tight_layout()\n",
        "plt.show()"
      ]
    },
    {
      "cell_type": "markdown",
      "id": "84c36495-28e0-48cf-aa6b-d86592c1a079",
      "metadata": {
        "id": "84c36495-28e0-48cf-aa6b-d86592c1a079"
      },
      "source": [
        "#### Bu değişkenleri 0-1 arasında ölçeklendirdiğimizde de aynı grafiğin ortaya çıkmasını bekliyoruz.MinMaxScaler ölçeklendirme işlemi tüm veri değerlerinden en küçük değeri çıkarıp daha sonra bu değerleri en yüksek ile en düşük değerin farkına bölerek uygulanır.x"
      ]
    },
    {
      "cell_type": "markdown",
      "id": "9e5b3be1-5b31-44b0-a4bf-e2d838fb5339",
      "metadata": {
        "id": "9e5b3be1-5b31-44b0-a4bf-e2d838fb5339"
      },
      "source": [
        "normalized_df=(df-df.min())/(df.max()-df.min())"
      ]
    },
    {
      "cell_type": "markdown",
      "id": "e7a569fb-5b5a-4ee1-bd9b-34183fad197e",
      "metadata": {
        "id": "e7a569fb-5b5a-4ee1-bd9b-34183fad197e"
      },
      "source": [
        "normalized_df.head()"
      ]
    },
    {
      "cell_type": "markdown",
      "id": "f199f9c4-dd12-4dc5-bdf2-b6c01bfbd9c7",
      "metadata": {
        "id": "f199f9c4-dd12-4dc5-bdf2-b6c01bfbd9c7"
      },
      "source": [
        "df_plot = normalized_df.copy()\n",
        "\n",
        "ncols = 2\n",
        "nrows = int(round(df_plot.shape[1] / ncols, 0))\n",
        "\n",
        "fig, ax = plt.subplots(nrows=nrows, ncols=ncols, sharex=True, figsize=(14, 7))\n",
        "for i, ax in enumerate(fig.axes):\n",
        "        sns.lineplot(data = df_plot.iloc[:, i], ax=ax)\n",
        "        ax.tick_params(axis=\"x\", rotation=30, labelsize=10, length=0)\n",
        "        ax.xaxis.set_major_locator(mdates.AutoDateLocator())\n",
        "fig.tight_layout()\n",
        "plt.show()"
      ]
    },
    {
      "cell_type": "markdown",
      "id": "11d237ab-5cdc-4a73-83b5-ea60acda032e",
      "metadata": {
        "id": "11d237ab-5cdc-4a73-83b5-ea60acda032e"
      },
      "source": [
        "#### Burada sinir ağını eğiteceğimiz özelliklerimizi listeliyoruz ve tahmin edeceğimiz fiyatı kapanış fiyatı olarak belirliyoruz."
      ]
    },
    {
      "cell_type": "code",
      "execution_count": 8,
      "id": "07733d0e-69f5-4288-9c02-10335c1ca838",
      "metadata": {
        "colab": {
          "base_uri": "https://localhost:8080/",
          "height": 274
        },
        "id": "07733d0e-69f5-4288-9c02-10335c1ca838",
        "outputId": "e5ca4883-4cf3-4e68-bf2b-cd1b31fbaab2"
      },
      "outputs": [
        {
          "output_type": "stream",
          "name": "stdout",
          "text": [
            "FEATURE LIST\n",
            "['High', 'Low', 'Open', 'Close', 'Volume']\n"
          ]
        },
        {
          "output_type": "execute_result",
          "data": {
            "text/plain": [
              "             High    Low   Open  Close    Volume  Prediction\n",
              "Date                                                        \n",
              "2023-04-06 80.350 77.200 79.450 77.600  24185354      77.600\n",
              "2023-04-07 78.500 76.500 77.650 76.750  18275008      76.750\n",
              "2023-04-10 78.950 77.000 77.000 78.800  16039443      78.800\n",
              "2023-04-11 80.000 77.550 79.200 78.300  18006892      78.300\n",
              "2023-04-12 79.100 78.100 78.300 78.100  16920172      78.100"
            ],
            "text/html": [
              "\n",
              "  <div id=\"df-35d4129c-cb87-43e1-a9cb-3e6dbc02efdc\">\n",
              "    <div class=\"colab-df-container\">\n",
              "      <div>\n",
              "<style scoped>\n",
              "    .dataframe tbody tr th:only-of-type {\n",
              "        vertical-align: middle;\n",
              "    }\n",
              "\n",
              "    .dataframe tbody tr th {\n",
              "        vertical-align: top;\n",
              "    }\n",
              "\n",
              "    .dataframe thead th {\n",
              "        text-align: right;\n",
              "    }\n",
              "</style>\n",
              "<table border=\"1\" class=\"dataframe\">\n",
              "  <thead>\n",
              "    <tr style=\"text-align: right;\">\n",
              "      <th></th>\n",
              "      <th>High</th>\n",
              "      <th>Low</th>\n",
              "      <th>Open</th>\n",
              "      <th>Close</th>\n",
              "      <th>Volume</th>\n",
              "      <th>Prediction</th>\n",
              "    </tr>\n",
              "    <tr>\n",
              "      <th>Date</th>\n",
              "      <th></th>\n",
              "      <th></th>\n",
              "      <th></th>\n",
              "      <th></th>\n",
              "      <th></th>\n",
              "      <th></th>\n",
              "    </tr>\n",
              "  </thead>\n",
              "  <tbody>\n",
              "    <tr>\n",
              "      <th>2023-04-06</th>\n",
              "      <td>80.350</td>\n",
              "      <td>77.200</td>\n",
              "      <td>79.450</td>\n",
              "      <td>77.600</td>\n",
              "      <td>24185354</td>\n",
              "      <td>77.600</td>\n",
              "    </tr>\n",
              "    <tr>\n",
              "      <th>2023-04-07</th>\n",
              "      <td>78.500</td>\n",
              "      <td>76.500</td>\n",
              "      <td>77.650</td>\n",
              "      <td>76.750</td>\n",
              "      <td>18275008</td>\n",
              "      <td>76.750</td>\n",
              "    </tr>\n",
              "    <tr>\n",
              "      <th>2023-04-10</th>\n",
              "      <td>78.950</td>\n",
              "      <td>77.000</td>\n",
              "      <td>77.000</td>\n",
              "      <td>78.800</td>\n",
              "      <td>16039443</td>\n",
              "      <td>78.800</td>\n",
              "    </tr>\n",
              "    <tr>\n",
              "      <th>2023-04-11</th>\n",
              "      <td>80.000</td>\n",
              "      <td>77.550</td>\n",
              "      <td>79.200</td>\n",
              "      <td>78.300</td>\n",
              "      <td>18006892</td>\n",
              "      <td>78.300</td>\n",
              "    </tr>\n",
              "    <tr>\n",
              "      <th>2023-04-12</th>\n",
              "      <td>79.100</td>\n",
              "      <td>78.100</td>\n",
              "      <td>78.300</td>\n",
              "      <td>78.100</td>\n",
              "      <td>16920172</td>\n",
              "      <td>78.100</td>\n",
              "    </tr>\n",
              "  </tbody>\n",
              "</table>\n",
              "</div>\n",
              "      <button class=\"colab-df-convert\" onclick=\"convertToInteractive('df-35d4129c-cb87-43e1-a9cb-3e6dbc02efdc')\"\n",
              "              title=\"Convert this dataframe to an interactive table.\"\n",
              "              style=\"display:none;\">\n",
              "        \n",
              "  <svg xmlns=\"http://www.w3.org/2000/svg\" height=\"24px\"viewBox=\"0 0 24 24\"\n",
              "       width=\"24px\">\n",
              "    <path d=\"M0 0h24v24H0V0z\" fill=\"none\"/>\n",
              "    <path d=\"M18.56 5.44l.94 2.06.94-2.06 2.06-.94-2.06-.94-.94-2.06-.94 2.06-2.06.94zm-11 1L8.5 8.5l.94-2.06 2.06-.94-2.06-.94L8.5 2.5l-.94 2.06-2.06.94zm10 10l.94 2.06.94-2.06 2.06-.94-2.06-.94-.94-2.06-.94 2.06-2.06.94z\"/><path d=\"M17.41 7.96l-1.37-1.37c-.4-.4-.92-.59-1.43-.59-.52 0-1.04.2-1.43.59L10.3 9.45l-7.72 7.72c-.78.78-.78 2.05 0 2.83L4 21.41c.39.39.9.59 1.41.59.51 0 1.02-.2 1.41-.59l7.78-7.78 2.81-2.81c.8-.78.8-2.07 0-2.86zM5.41 20L4 18.59l7.72-7.72 1.47 1.35L5.41 20z\"/>\n",
              "  </svg>\n",
              "      </button>\n",
              "      \n",
              "  <style>\n",
              "    .colab-df-container {\n",
              "      display:flex;\n",
              "      flex-wrap:wrap;\n",
              "      gap: 12px;\n",
              "    }\n",
              "\n",
              "    .colab-df-convert {\n",
              "      background-color: #E8F0FE;\n",
              "      border: none;\n",
              "      border-radius: 50%;\n",
              "      cursor: pointer;\n",
              "      display: none;\n",
              "      fill: #1967D2;\n",
              "      height: 32px;\n",
              "      padding: 0 0 0 0;\n",
              "      width: 32px;\n",
              "    }\n",
              "\n",
              "    .colab-df-convert:hover {\n",
              "      background-color: #E2EBFA;\n",
              "      box-shadow: 0px 1px 2px rgba(60, 64, 67, 0.3), 0px 1px 3px 1px rgba(60, 64, 67, 0.15);\n",
              "      fill: #174EA6;\n",
              "    }\n",
              "\n",
              "    [theme=dark] .colab-df-convert {\n",
              "      background-color: #3B4455;\n",
              "      fill: #D2E3FC;\n",
              "    }\n",
              "\n",
              "    [theme=dark] .colab-df-convert:hover {\n",
              "      background-color: #434B5C;\n",
              "      box-shadow: 0px 1px 3px 1px rgba(0, 0, 0, 0.15);\n",
              "      filter: drop-shadow(0px 1px 2px rgba(0, 0, 0, 0.3));\n",
              "      fill: #FFFFFF;\n",
              "    }\n",
              "  </style>\n",
              "\n",
              "      <script>\n",
              "        const buttonEl =\n",
              "          document.querySelector('#df-35d4129c-cb87-43e1-a9cb-3e6dbc02efdc button.colab-df-convert');\n",
              "        buttonEl.style.display =\n",
              "          google.colab.kernel.accessAllowed ? 'block' : 'none';\n",
              "\n",
              "        async function convertToInteractive(key) {\n",
              "          const element = document.querySelector('#df-35d4129c-cb87-43e1-a9cb-3e6dbc02efdc');\n",
              "          const dataTable =\n",
              "            await google.colab.kernel.invokeFunction('convertToInteractive',\n",
              "                                                     [key], {});\n",
              "          if (!dataTable) return;\n",
              "\n",
              "          const docLinkHtml = 'Like what you see? Visit the ' +\n",
              "            '<a target=\"_blank\" href=https://colab.research.google.com/notebooks/data_table.ipynb>data table notebook</a>'\n",
              "            + ' to learn more about interactive tables.';\n",
              "          element.innerHTML = '';\n",
              "          dataTable['output_type'] = 'display_data';\n",
              "          await google.colab.output.renderOutput(dataTable, element);\n",
              "          const docLink = document.createElement('div');\n",
              "          docLink.innerHTML = docLinkHtml;\n",
              "          element.appendChild(docLink);\n",
              "        }\n",
              "      </script>\n",
              "    </div>\n",
              "  </div>\n",
              "  "
            ]
          },
          "metadata": {},
          "execution_count": 8
        }
      ],
      "source": [
        "train_df = df.sort_values(by=['Date']).copy()\n",
        "\n",
        "FEATURES = ['High', 'Low', 'Open', 'Close', 'Volume'\n",
        "            ,# 'Month' , 'Year', 'Adj Close'\n",
        "           ]\n",
        "\n",
        "print('FEATURE LIST')\n",
        "print([f for f in FEATURES])\n",
        "\n",
        "data = pd.DataFrame(train_df)\n",
        "data_filtered = data[FEATURES]\n",
        "\n",
        "data_filtered_ext = data_filtered.copy()\n",
        "data_filtered_ext['Prediction'] = data_filtered_ext['Close']\n",
        "\n",
        "data_filtered_ext.tail()"
      ]
    },
    {
      "cell_type": "code",
      "execution_count": 9,
      "id": "404f1bdf-d432-4f4e-9e07-f4dcadba7bcc",
      "metadata": {
        "colab": {
          "base_uri": "https://localhost:8080/",
          "height": 237
        },
        "id": "404f1bdf-d432-4f4e-9e07-f4dcadba7bcc",
        "outputId": "cc2cd529-7eb5-4311-931f-2413112d18cc"
      },
      "outputs": [
        {
          "output_type": "execute_result",
          "data": {
            "text/plain": [
              "             High    Low   Open  Close    Volume\n",
              "Date                                            \n",
              "2023-04-06 80.350 77.200 79.450 77.600  24185354\n",
              "2023-04-07 78.500 76.500 77.650 76.750  18275008\n",
              "2023-04-10 78.950 77.000 77.000 78.800  16039443\n",
              "2023-04-11 80.000 77.550 79.200 78.300  18006892\n",
              "2023-04-12 79.100 78.100 78.300 78.100  16920172"
            ],
            "text/html": [
              "\n",
              "  <div id=\"df-a51722b8-8f12-4ce1-b915-4d1a96130ad5\">\n",
              "    <div class=\"colab-df-container\">\n",
              "      <div>\n",
              "<style scoped>\n",
              "    .dataframe tbody tr th:only-of-type {\n",
              "        vertical-align: middle;\n",
              "    }\n",
              "\n",
              "    .dataframe tbody tr th {\n",
              "        vertical-align: top;\n",
              "    }\n",
              "\n",
              "    .dataframe thead th {\n",
              "        text-align: right;\n",
              "    }\n",
              "</style>\n",
              "<table border=\"1\" class=\"dataframe\">\n",
              "  <thead>\n",
              "    <tr style=\"text-align: right;\">\n",
              "      <th></th>\n",
              "      <th>High</th>\n",
              "      <th>Low</th>\n",
              "      <th>Open</th>\n",
              "      <th>Close</th>\n",
              "      <th>Volume</th>\n",
              "    </tr>\n",
              "    <tr>\n",
              "      <th>Date</th>\n",
              "      <th></th>\n",
              "      <th></th>\n",
              "      <th></th>\n",
              "      <th></th>\n",
              "      <th></th>\n",
              "    </tr>\n",
              "  </thead>\n",
              "  <tbody>\n",
              "    <tr>\n",
              "      <th>2023-04-06</th>\n",
              "      <td>80.350</td>\n",
              "      <td>77.200</td>\n",
              "      <td>79.450</td>\n",
              "      <td>77.600</td>\n",
              "      <td>24185354</td>\n",
              "    </tr>\n",
              "    <tr>\n",
              "      <th>2023-04-07</th>\n",
              "      <td>78.500</td>\n",
              "      <td>76.500</td>\n",
              "      <td>77.650</td>\n",
              "      <td>76.750</td>\n",
              "      <td>18275008</td>\n",
              "    </tr>\n",
              "    <tr>\n",
              "      <th>2023-04-10</th>\n",
              "      <td>78.950</td>\n",
              "      <td>77.000</td>\n",
              "      <td>77.000</td>\n",
              "      <td>78.800</td>\n",
              "      <td>16039443</td>\n",
              "    </tr>\n",
              "    <tr>\n",
              "      <th>2023-04-11</th>\n",
              "      <td>80.000</td>\n",
              "      <td>77.550</td>\n",
              "      <td>79.200</td>\n",
              "      <td>78.300</td>\n",
              "      <td>18006892</td>\n",
              "    </tr>\n",
              "    <tr>\n",
              "      <th>2023-04-12</th>\n",
              "      <td>79.100</td>\n",
              "      <td>78.100</td>\n",
              "      <td>78.300</td>\n",
              "      <td>78.100</td>\n",
              "      <td>16920172</td>\n",
              "    </tr>\n",
              "  </tbody>\n",
              "</table>\n",
              "</div>\n",
              "      <button class=\"colab-df-convert\" onclick=\"convertToInteractive('df-a51722b8-8f12-4ce1-b915-4d1a96130ad5')\"\n",
              "              title=\"Convert this dataframe to an interactive table.\"\n",
              "              style=\"display:none;\">\n",
              "        \n",
              "  <svg xmlns=\"http://www.w3.org/2000/svg\" height=\"24px\"viewBox=\"0 0 24 24\"\n",
              "       width=\"24px\">\n",
              "    <path d=\"M0 0h24v24H0V0z\" fill=\"none\"/>\n",
              "    <path d=\"M18.56 5.44l.94 2.06.94-2.06 2.06-.94-2.06-.94-.94-2.06-.94 2.06-2.06.94zm-11 1L8.5 8.5l.94-2.06 2.06-.94-2.06-.94L8.5 2.5l-.94 2.06-2.06.94zm10 10l.94 2.06.94-2.06 2.06-.94-2.06-.94-.94-2.06-.94 2.06-2.06.94z\"/><path d=\"M17.41 7.96l-1.37-1.37c-.4-.4-.92-.59-1.43-.59-.52 0-1.04.2-1.43.59L10.3 9.45l-7.72 7.72c-.78.78-.78 2.05 0 2.83L4 21.41c.39.39.9.59 1.41.59.51 0 1.02-.2 1.41-.59l7.78-7.78 2.81-2.81c.8-.78.8-2.07 0-2.86zM5.41 20L4 18.59l7.72-7.72 1.47 1.35L5.41 20z\"/>\n",
              "  </svg>\n",
              "      </button>\n",
              "      \n",
              "  <style>\n",
              "    .colab-df-container {\n",
              "      display:flex;\n",
              "      flex-wrap:wrap;\n",
              "      gap: 12px;\n",
              "    }\n",
              "\n",
              "    .colab-df-convert {\n",
              "      background-color: #E8F0FE;\n",
              "      border: none;\n",
              "      border-radius: 50%;\n",
              "      cursor: pointer;\n",
              "      display: none;\n",
              "      fill: #1967D2;\n",
              "      height: 32px;\n",
              "      padding: 0 0 0 0;\n",
              "      width: 32px;\n",
              "    }\n",
              "\n",
              "    .colab-df-convert:hover {\n",
              "      background-color: #E2EBFA;\n",
              "      box-shadow: 0px 1px 2px rgba(60, 64, 67, 0.3), 0px 1px 3px 1px rgba(60, 64, 67, 0.15);\n",
              "      fill: #174EA6;\n",
              "    }\n",
              "\n",
              "    [theme=dark] .colab-df-convert {\n",
              "      background-color: #3B4455;\n",
              "      fill: #D2E3FC;\n",
              "    }\n",
              "\n",
              "    [theme=dark] .colab-df-convert:hover {\n",
              "      background-color: #434B5C;\n",
              "      box-shadow: 0px 1px 3px 1px rgba(0, 0, 0, 0.15);\n",
              "      filter: drop-shadow(0px 1px 2px rgba(0, 0, 0, 0.3));\n",
              "      fill: #FFFFFF;\n",
              "    }\n",
              "  </style>\n",
              "\n",
              "      <script>\n",
              "        const buttonEl =\n",
              "          document.querySelector('#df-a51722b8-8f12-4ce1-b915-4d1a96130ad5 button.colab-df-convert');\n",
              "        buttonEl.style.display =\n",
              "          google.colab.kernel.accessAllowed ? 'block' : 'none';\n",
              "\n",
              "        async function convertToInteractive(key) {\n",
              "          const element = document.querySelector('#df-a51722b8-8f12-4ce1-b915-4d1a96130ad5');\n",
              "          const dataTable =\n",
              "            await google.colab.kernel.invokeFunction('convertToInteractive',\n",
              "                                                     [key], {});\n",
              "          if (!dataTable) return;\n",
              "\n",
              "          const docLinkHtml = 'Like what you see? Visit the ' +\n",
              "            '<a target=\"_blank\" href=https://colab.research.google.com/notebooks/data_table.ipynb>data table notebook</a>'\n",
              "            + ' to learn more about interactive tables.';\n",
              "          element.innerHTML = '';\n",
              "          dataTable['output_type'] = 'display_data';\n",
              "          await google.colab.output.renderOutput(dataTable, element);\n",
              "          const docLink = document.createElement('div');\n",
              "          docLink.innerHTML = docLinkHtml;\n",
              "          element.appendChild(docLink);\n",
              "        }\n",
              "      </script>\n",
              "    </div>\n",
              "  </div>\n",
              "  "
            ]
          },
          "metadata": {},
          "execution_count": 9
        }
      ],
      "source": [
        "data_filtered.tail()"
      ]
    },
    {
      "cell_type": "markdown",
      "id": "8190a995-84a7-4b3e-82c8-10fa6cee88df",
      "metadata": {
        "id": "8190a995-84a7-4b3e-82c8-10fa6cee88df"
      },
      "source": [
        "## Sor"
      ]
    },
    {
      "cell_type": "markdown",
      "id": "b29657d1-3653-452d-944b-c6bfdf40e6b5",
      "metadata": {
        "id": "b29657d1-3653-452d-944b-c6bfdf40e6b5"
      },
      "source": [
        "data_filtered = data_filtered.drop(\"Close\",axis = 1)"
      ]
    },
    {
      "cell_type": "code",
      "execution_count": 10,
      "id": "b18da55a-997e-4326-8d7a-d1dffae26522",
      "metadata": {
        "colab": {
          "base_uri": "https://localhost:8080/",
          "height": 237
        },
        "id": "b18da55a-997e-4326-8d7a-d1dffae26522",
        "outputId": "e85bbb8c-0c73-46d6-8a94-d4e13566d9aa"
      },
      "outputs": [
        {
          "output_type": "execute_result",
          "data": {
            "text/plain": [
              "             High    Low   Open  Close    Volume\n",
              "Date                                            \n",
              "2023-04-06 80.350 77.200 79.450 77.600  24185354\n",
              "2023-04-07 78.500 76.500 77.650 76.750  18275008\n",
              "2023-04-10 78.950 77.000 77.000 78.800  16039443\n",
              "2023-04-11 80.000 77.550 79.200 78.300  18006892\n",
              "2023-04-12 79.100 78.100 78.300 78.100  16920172"
            ],
            "text/html": [
              "\n",
              "  <div id=\"df-a9e33a99-efb6-4978-a8b3-659088ffeca9\">\n",
              "    <div class=\"colab-df-container\">\n",
              "      <div>\n",
              "<style scoped>\n",
              "    .dataframe tbody tr th:only-of-type {\n",
              "        vertical-align: middle;\n",
              "    }\n",
              "\n",
              "    .dataframe tbody tr th {\n",
              "        vertical-align: top;\n",
              "    }\n",
              "\n",
              "    .dataframe thead th {\n",
              "        text-align: right;\n",
              "    }\n",
              "</style>\n",
              "<table border=\"1\" class=\"dataframe\">\n",
              "  <thead>\n",
              "    <tr style=\"text-align: right;\">\n",
              "      <th></th>\n",
              "      <th>High</th>\n",
              "      <th>Low</th>\n",
              "      <th>Open</th>\n",
              "      <th>Close</th>\n",
              "      <th>Volume</th>\n",
              "    </tr>\n",
              "    <tr>\n",
              "      <th>Date</th>\n",
              "      <th></th>\n",
              "      <th></th>\n",
              "      <th></th>\n",
              "      <th></th>\n",
              "      <th></th>\n",
              "    </tr>\n",
              "  </thead>\n",
              "  <tbody>\n",
              "    <tr>\n",
              "      <th>2023-04-06</th>\n",
              "      <td>80.350</td>\n",
              "      <td>77.200</td>\n",
              "      <td>79.450</td>\n",
              "      <td>77.600</td>\n",
              "      <td>24185354</td>\n",
              "    </tr>\n",
              "    <tr>\n",
              "      <th>2023-04-07</th>\n",
              "      <td>78.500</td>\n",
              "      <td>76.500</td>\n",
              "      <td>77.650</td>\n",
              "      <td>76.750</td>\n",
              "      <td>18275008</td>\n",
              "    </tr>\n",
              "    <tr>\n",
              "      <th>2023-04-10</th>\n",
              "      <td>78.950</td>\n",
              "      <td>77.000</td>\n",
              "      <td>77.000</td>\n",
              "      <td>78.800</td>\n",
              "      <td>16039443</td>\n",
              "    </tr>\n",
              "    <tr>\n",
              "      <th>2023-04-11</th>\n",
              "      <td>80.000</td>\n",
              "      <td>77.550</td>\n",
              "      <td>79.200</td>\n",
              "      <td>78.300</td>\n",
              "      <td>18006892</td>\n",
              "    </tr>\n",
              "    <tr>\n",
              "      <th>2023-04-12</th>\n",
              "      <td>79.100</td>\n",
              "      <td>78.100</td>\n",
              "      <td>78.300</td>\n",
              "      <td>78.100</td>\n",
              "      <td>16920172</td>\n",
              "    </tr>\n",
              "  </tbody>\n",
              "</table>\n",
              "</div>\n",
              "      <button class=\"colab-df-convert\" onclick=\"convertToInteractive('df-a9e33a99-efb6-4978-a8b3-659088ffeca9')\"\n",
              "              title=\"Convert this dataframe to an interactive table.\"\n",
              "              style=\"display:none;\">\n",
              "        \n",
              "  <svg xmlns=\"http://www.w3.org/2000/svg\" height=\"24px\"viewBox=\"0 0 24 24\"\n",
              "       width=\"24px\">\n",
              "    <path d=\"M0 0h24v24H0V0z\" fill=\"none\"/>\n",
              "    <path d=\"M18.56 5.44l.94 2.06.94-2.06 2.06-.94-2.06-.94-.94-2.06-.94 2.06-2.06.94zm-11 1L8.5 8.5l.94-2.06 2.06-.94-2.06-.94L8.5 2.5l-.94 2.06-2.06.94zm10 10l.94 2.06.94-2.06 2.06-.94-2.06-.94-.94-2.06-.94 2.06-2.06.94z\"/><path d=\"M17.41 7.96l-1.37-1.37c-.4-.4-.92-.59-1.43-.59-.52 0-1.04.2-1.43.59L10.3 9.45l-7.72 7.72c-.78.78-.78 2.05 0 2.83L4 21.41c.39.39.9.59 1.41.59.51 0 1.02-.2 1.41-.59l7.78-7.78 2.81-2.81c.8-.78.8-2.07 0-2.86zM5.41 20L4 18.59l7.72-7.72 1.47 1.35L5.41 20z\"/>\n",
              "  </svg>\n",
              "      </button>\n",
              "      \n",
              "  <style>\n",
              "    .colab-df-container {\n",
              "      display:flex;\n",
              "      flex-wrap:wrap;\n",
              "      gap: 12px;\n",
              "    }\n",
              "\n",
              "    .colab-df-convert {\n",
              "      background-color: #E8F0FE;\n",
              "      border: none;\n",
              "      border-radius: 50%;\n",
              "      cursor: pointer;\n",
              "      display: none;\n",
              "      fill: #1967D2;\n",
              "      height: 32px;\n",
              "      padding: 0 0 0 0;\n",
              "      width: 32px;\n",
              "    }\n",
              "\n",
              "    .colab-df-convert:hover {\n",
              "      background-color: #E2EBFA;\n",
              "      box-shadow: 0px 1px 2px rgba(60, 64, 67, 0.3), 0px 1px 3px 1px rgba(60, 64, 67, 0.15);\n",
              "      fill: #174EA6;\n",
              "    }\n",
              "\n",
              "    [theme=dark] .colab-df-convert {\n",
              "      background-color: #3B4455;\n",
              "      fill: #D2E3FC;\n",
              "    }\n",
              "\n",
              "    [theme=dark] .colab-df-convert:hover {\n",
              "      background-color: #434B5C;\n",
              "      box-shadow: 0px 1px 3px 1px rgba(0, 0, 0, 0.15);\n",
              "      filter: drop-shadow(0px 1px 2px rgba(0, 0, 0, 0.3));\n",
              "      fill: #FFFFFF;\n",
              "    }\n",
              "  </style>\n",
              "\n",
              "      <script>\n",
              "        const buttonEl =\n",
              "          document.querySelector('#df-a9e33a99-efb6-4978-a8b3-659088ffeca9 button.colab-df-convert');\n",
              "        buttonEl.style.display =\n",
              "          google.colab.kernel.accessAllowed ? 'block' : 'none';\n",
              "\n",
              "        async function convertToInteractive(key) {\n",
              "          const element = document.querySelector('#df-a9e33a99-efb6-4978-a8b3-659088ffeca9');\n",
              "          const dataTable =\n",
              "            await google.colab.kernel.invokeFunction('convertToInteractive',\n",
              "                                                     [key], {});\n",
              "          if (!dataTable) return;\n",
              "\n",
              "          const docLinkHtml = 'Like what you see? Visit the ' +\n",
              "            '<a target=\"_blank\" href=https://colab.research.google.com/notebooks/data_table.ipynb>data table notebook</a>'\n",
              "            + ' to learn more about interactive tables.';\n",
              "          element.innerHTML = '';\n",
              "          dataTable['output_type'] = 'display_data';\n",
              "          await google.colab.output.renderOutput(dataTable, element);\n",
              "          const docLink = document.createElement('div');\n",
              "          docLink.innerHTML = docLinkHtml;\n",
              "          element.appendChild(docLink);\n",
              "        }\n",
              "      </script>\n",
              "    </div>\n",
              "  </div>\n",
              "  "
            ]
          },
          "metadata": {},
          "execution_count": 10
        }
      ],
      "source": [
        "data_filtered.tail()"
      ]
    },
    {
      "cell_type": "markdown",
      "id": "c2a4bdc6-8ad8-4ae9-9482-c3fb7621c8fc",
      "metadata": {
        "id": "c2a4bdc6-8ad8-4ae9-9482-c3fb7621c8fc"
      },
      "source": [
        "#### Burada girdi verilerini numpy formatına dönüştürüp 0-1 arasında MinMaxScaler ile ölçeklendiriyoruz.Bu ölçeklendirdiğimiz veriler eğitildiğinde sonuçlar da ölçeklenmiş şekilde gelecektir bunu geri dönüştürmeyi unutmamalıyız."
      ]
    },
    {
      "cell_type": "code",
      "execution_count": 11,
      "id": "2025ffb3-f424-42d7-bc62-00e918a2232c",
      "metadata": {
        "colab": {
          "base_uri": "https://localhost:8080/"
        },
        "id": "2025ffb3-f424-42d7-bc62-00e918a2232c",
        "outputId": "d2beceee-cce5-4827-99d4-6d07a68c540a"
      },
      "outputs": [
        {
          "output_type": "stream",
          "name": "stdout",
          "text": [
            "(3429, 5)\n"
          ]
        }
      ],
      "source": [
        "nrows = data_filtered.shape[0]\n",
        "\n",
        "np_data_unscaled = np.array(data_filtered)\n",
        "np_data = np.reshape(np_data_unscaled, (nrows, -1))\n",
        "print(np_data.shape)\n",
        "\n",
        "scaler = MinMaxScaler()\n",
        "np_data_scaled = scaler.fit_transform(np_data_unscaled)\n",
        "\n",
        "scaler_pred = MinMaxScaler()\n",
        "df_Close = pd.DataFrame(data_filtered_ext['Close'])\n",
        "np_Close_scaled = scaler_pred.fit_transform(df_Close)"
      ]
    },
    {
      "cell_type": "code",
      "execution_count": 12,
      "id": "c94c7665-2c3a-4b74-896c-73f7b7194b93",
      "metadata": {
        "id": "c94c7665-2c3a-4b74-896c-73f7b7194b93"
      },
      "outputs": [],
      "source": [
        "np.set_printoptions(precision=3)"
      ]
    },
    {
      "cell_type": "markdown",
      "id": "7186d0f8-5cf8-4843-965c-a7031117197a",
      "metadata": {
        "id": "7186d0f8-5cf8-4843-965c-a7031117197a"
      },
      "source": [
        "np_data = np.around(np_data, 3)"
      ]
    },
    {
      "cell_type": "code",
      "execution_count": 13,
      "id": "860e7a64-75ae-4633-b987-485659a5114a",
      "metadata": {
        "colab": {
          "base_uri": "https://localhost:8080/"
        },
        "id": "860e7a64-75ae-4633-b987-485659a5114a",
        "outputId": "cf2149d1-20d2-499b-efda-fec760710951"
      },
      "outputs": [
        {
          "output_type": "execute_result",
          "data": {
            "text/plain": [
              "array([4.357e+00, 4.214e+00, 4.250e+00, 4.321e+00, 5.388e+06])"
            ]
          },
          "metadata": {},
          "execution_count": 13
        }
      ],
      "source": [
        "np_data[1]"
      ]
    },
    {
      "cell_type": "code",
      "execution_count": 14,
      "id": "81b421b9-610a-44fe-9fd0-1f56ac25ca00",
      "metadata": {
        "colab": {
          "base_uri": "https://localhost:8080/"
        },
        "id": "81b421b9-610a-44fe-9fd0-1f56ac25ca00",
        "outputId": "6dd82e9b-6824-426f-c09a-8569f7923619"
      },
      "outputs": [
        {
          "output_type": "execute_result",
          "data": {
            "text/plain": [
              "array([0.   , 0.001, 0.001, 0.001, 0.   ])"
            ]
          },
          "metadata": {},
          "execution_count": 14
        }
      ],
      "source": [
        "np_data_scaled[0]"
      ]
    },
    {
      "cell_type": "code",
      "execution_count": 15,
      "id": "8e02db2a-0a08-46b6-aae9-403a5b08fc4a",
      "metadata": {
        "colab": {
          "base_uri": "https://localhost:8080/"
        },
        "id": "8e02db2a-0a08-46b6-aae9-403a5b08fc4a",
        "outputId": "af268f0c-640a-4f55-cd15-406beff4f286"
      },
      "outputs": [
        {
          "output_type": "execute_result",
          "data": {
            "text/plain": [
              "array([0.001])"
            ]
          },
          "metadata": {},
          "execution_count": 15
        }
      ],
      "source": [
        "np_Close_scaled[0]"
      ]
    },
    {
      "cell_type": "markdown",
      "id": "251e5951-c146-44f4-a821-bdb5e3b1e5a2",
      "metadata": {
        "id": "251e5951-c146-44f4-a821-bdb5e3b1e5a2"
      },
      "source": [
        "#### Çok değişkenli modelimizi üç boyutlu veri yapısına yönelik eğitiyoruz.\n",
        "#### Birinci : Sequences(Diziler)\n",
        "#### İkinci : Time Steps(Mini-Batches)\n",
        "#### Üçüncü : Features(Özellikler)\n",
        "#### Birincil hedefimiz verileri ilişkili hedef girdi değerleriyle birden çok girdi veri dizisine dilimlemektir. Kayan pencere kullanımı sağlayan bir python kodu yazıyoruz. Bu yaklaşım, her adımda girdi verilerine birden çok veri noktası dizisi ekleyerek bir pencereyi zaman serisi verileri arasında hareket ettirir. Hedef değer (örn. Kapanış Fiyatı) bu sırayı takip eder ve biz onu ayrı bir hedef veri setinde saklarız. Ardından pencereyi bir adım daha ileri iterek bu etkinlikleri tekrarlıyoruz. Bu işlem, her biri hedef kayıtta karşılık gelen bir hedef değere sahip birçok giriş dizisine (mini yığınlar) sahip bir veri seti ile sonuçlanır. Bu süreç hem eğitim hem de test verileri için geçerlidir.\n",
        "#### Sonuç olarak her biri 5 özellik içeren 2535 train verimiz oluyor."
      ]
    },
    {
      "cell_type": "code",
      "execution_count": 16,
      "id": "f80b3e57-bd4b-4dcd-a8df-20efa2b8bed3",
      "metadata": {
        "colab": {
          "base_uri": "https://localhost:8080/"
        },
        "id": "f80b3e57-bd4b-4dcd-a8df-20efa2b8bed3",
        "outputId": "f365e289-7417-4d00-c8b1-ac8e5e42d046"
      },
      "outputs": [
        {
          "output_type": "stream",
          "name": "stdout",
          "text": [
            "(2694, 50, 5) (2694,)\n",
            "(685, 50, 5) (685,)\n",
            "0.0009343923111671745\n",
            "0.0009343923111671745\n"
          ]
        }
      ],
      "source": [
        "sequence_length = 50\n",
        "\n",
        "index_Close = data.columns.get_loc(\"Close\")\n",
        "\n",
        "# Verileri train test olarak ayırın.\n",
        "# Verilerin %80 ini eğitim için kullanacağız.\n",
        "train_data_len = math.ceil(np_data_scaled.shape[0] * 0.8)\n",
        "\n",
        "train_data = np_data_scaled[0:train_data_len, :]\n",
        "test_data = np_data_scaled[train_data_len - sequence_length:, :]\n",
        "\n",
        "# Model için verileri bu biçime dönüştürün : [samples, time steps, features] \n",
        "def partition_dataset(sequence_length, data):\n",
        "    x, y = [], []\n",
        "    data_len = data.shape[0]\n",
        "    for i in range(sequence_length, data_len):\n",
        "        x.append(data[i-sequence_length:i,:]) \n",
        "        y.append(data[i, index_Close]) \n",
        "\n",
        "    # Sonra bunları numpy array'e dönüştür.    \n",
        "    x = np.array(x)\n",
        "    y = np.array(y)\n",
        "    return x, y\n",
        "\n",
        "x_train, y_train = partition_dataset(sequence_length, train_data)\n",
        "x_test, y_test = partition_dataset(sequence_length, test_data)\n",
        "\n",
        "print(x_train.shape, y_train.shape)\n",
        "print(x_test.shape, y_test.shape)\n",
        "\n",
        "# İkinci girdi örneğinin son kapanış fiyatı ilk tahmin değerine eşit olmalıdır.\n",
        "print(x_train[1][sequence_length-1][index_Close])\n",
        "print(y_train[0])"
      ]
    },
    {
      "cell_type": "markdown",
      "id": "0083e934-ed22-40cc-9e6b-3b08917e16bd",
      "metadata": {
        "id": "0083e934-ed22-40cc-9e6b-3b08917e16bd"
      },
      "source": [
        "#### Sinir ağımızın mimarisi aşağıdaki dört katmandan oluşur:\n",
        "#### Mini gruplarımızı girdi olarak alan ve tüm diziyi döndüren bir LSTM katmanı\n",
        "#### Diziyi önceki katmandan alan ancak yalnızca beş değer döndüren başka bir LSTM katmanı\n",
        "#### Beş nöronlu yoğun katman\n",
        "#### Öngörülen değeri veren son yoğun katman\n",
        "#### İlk katmandaki nöronların sayısı, girdi verilerinin bir mini partisinin boyutuna eşit olmalıdır. Veri kümemizdeki her mini parti, 50 adım ve beş özellik içeren bir matristen oluşur. Böylece, tekrarlayan sinir ağımızın giriş katmanı 250 nörondan oluşur. Bu mimariyi akılda tutmak önemlidir çünkü daha sonra yeni bir veri kümesini tahmin etmek istediğimizde verileri aynı şekle getirmemiz gerekir. Aşağıdaki kodu çalıştırmak model mimarisini oluşturur ve modeli derler."
      ]
    },
    {
      "cell_type": "code",
      "execution_count": 17,
      "id": "653a3234-c542-447b-aee3-fee7e3818cbb",
      "metadata": {
        "colab": {
          "base_uri": "https://localhost:8080/"
        },
        "id": "653a3234-c542-447b-aee3-fee7e3818cbb",
        "outputId": "6cab6147-dbdc-4069-a016-50bade575589"
      },
      "outputs": [
        {
          "output_type": "stream",
          "name": "stdout",
          "text": [
            "250 50 5\n"
          ]
        }
      ],
      "source": [
        "model = Sequential()\n",
        "\n",
        "n_neurons = x_train.shape[1] * x_train.shape[2]\n",
        "print(n_neurons, x_train.shape[1], x_train.shape[2])\n",
        "\n",
        "model.add(LSTM(n_neurons, return_sequences=True, input_shape=(x_train.shape[1], x_train.shape[2]))) \n",
        "\n",
        "model.add(LSTM(n_neurons, return_sequences=False))\n",
        "\n",
        "model.add(Dense(5))\n",
        "\n",
        "model.add(Dense(1))\n",
        "\n",
        "model.compile(optimizer='adam', loss='mse')"
      ]
    },
    {
      "cell_type": "code",
      "execution_count": 18,
      "id": "2ff7c83c-1e34-4c4f-9bad-108e9f03f19c",
      "metadata": {
        "id": "2ff7c83c-1e34-4c4f-9bad-108e9f03f19c"
      },
      "outputs": [],
      "source": [
        "callbacks = EarlyStopping(monitor = \"loss\",patience = 8,verbose = 1)"
      ]
    },
    {
      "cell_type": "code",
      "execution_count": 19,
      "id": "cf0ab148-d0b5-4357-8721-1e5bb7932501",
      "metadata": {
        "colab": {
          "base_uri": "https://localhost:8080/"
        },
        "id": "cf0ab148-d0b5-4357-8721-1e5bb7932501",
        "outputId": "02fe0670-5d8b-486e-eeeb-94100b40d885"
      },
      "outputs": [
        {
          "output_type": "stream",
          "name": "stdout",
          "text": [
            "Epoch 1/50\n",
            "169/169 [==============================] - 51s 279ms/step - loss: 1.1346e-05 - val_loss: 0.0012\n",
            "Epoch 2/50\n",
            "169/169 [==============================] - 45s 269ms/step - loss: 9.7281e-07 - val_loss: 0.0012\n",
            "Epoch 3/50\n",
            "169/169 [==============================] - 46s 275ms/step - loss: 9.6591e-07 - val_loss: 0.0012\n",
            "Epoch 4/50\n",
            "169/169 [==============================] - 45s 268ms/step - loss: 9.5587e-07 - val_loss: 0.0012\n",
            "Epoch 5/50\n",
            "169/169 [==============================] - 47s 278ms/step - loss: 9.5969e-07 - val_loss: 0.0012\n",
            "Epoch 6/50\n",
            "169/169 [==============================] - 45s 267ms/step - loss: 8.9378e-07 - val_loss: 0.0013\n",
            "Epoch 7/50\n",
            "169/169 [==============================] - 47s 277ms/step - loss: 7.0669e-07 - val_loss: 0.0013\n",
            "Epoch 8/50\n",
            "169/169 [==============================] - 48s 285ms/step - loss: 8.3868e-07 - val_loss: 0.0013\n",
            "Epoch 9/50\n",
            "169/169 [==============================] - 46s 271ms/step - loss: 7.1352e-07 - val_loss: 0.0013\n",
            "Epoch 10/50\n",
            "169/169 [==============================] - 48s 282ms/step - loss: 7.2685e-07 - val_loss: 0.0013\n",
            "Epoch 11/50\n",
            "169/169 [==============================] - 46s 270ms/step - loss: 6.8947e-07 - val_loss: 0.0013\n",
            "Epoch 12/50\n",
            "169/169 [==============================] - 47s 276ms/step - loss: 6.8939e-07 - val_loss: 0.0013\n",
            "Epoch 13/50\n",
            "169/169 [==============================] - 46s 275ms/step - loss: 7.4046e-07 - val_loss: 0.0014\n",
            "Epoch 14/50\n",
            "169/169 [==============================] - 46s 270ms/step - loss: 8.6077e-07 - val_loss: 0.0014\n",
            "Epoch 15/50\n",
            "169/169 [==============================] - 46s 275ms/step - loss: 7.1196e-07 - val_loss: 0.0014\n",
            "Epoch 16/50\n",
            "169/169 [==============================] - 45s 266ms/step - loss: 6.2470e-07 - val_loss: 0.0014\n",
            "Epoch 17/50\n",
            "169/169 [==============================] - 46s 270ms/step - loss: 7.1217e-07 - val_loss: 0.0014\n",
            "Epoch 18/50\n",
            "169/169 [==============================] - 45s 267ms/step - loss: 6.3000e-07 - val_loss: 0.0014\n",
            "Epoch 19/50\n",
            "169/169 [==============================] - 48s 283ms/step - loss: 6.5725e-07 - val_loss: 0.0014\n",
            "Epoch 20/50\n",
            "169/169 [==============================] - 45s 268ms/step - loss: 6.8353e-07 - val_loss: 0.0014\n",
            "Epoch 21/50\n",
            "169/169 [==============================] - 46s 274ms/step - loss: 5.8745e-07 - val_loss: 0.0014\n",
            "Epoch 22/50\n",
            "169/169 [==============================] - 46s 271ms/step - loss: 5.1522e-07 - val_loss: 0.0014\n",
            "Epoch 23/50\n",
            "169/169 [==============================] - 47s 277ms/step - loss: 5.0901e-07 - val_loss: 0.0014\n",
            "Epoch 24/50\n",
            "169/169 [==============================] - 45s 267ms/step - loss: 5.4592e-07 - val_loss: 0.0015\n",
            "Epoch 25/50\n",
            "169/169 [==============================] - 47s 277ms/step - loss: 4.7708e-07 - val_loss: 0.0015\n",
            "Epoch 26/50\n",
            "169/169 [==============================] - 46s 271ms/step - loss: 4.5791e-07 - val_loss: 0.0015\n",
            "Epoch 27/50\n",
            "169/169 [==============================] - 47s 274ms/step - loss: 5.5653e-07 - val_loss: 0.0015\n",
            "Epoch 28/50\n",
            "169/169 [==============================] - 47s 277ms/step - loss: 4.4910e-07 - val_loss: 0.0015\n",
            "Epoch 29/50\n",
            "169/169 [==============================] - 45s 267ms/step - loss: 4.5599e-07 - val_loss: 0.0015\n",
            "Epoch 30/50\n",
            "169/169 [==============================] - 46s 274ms/step - loss: 5.8523e-07 - val_loss: 0.0015\n",
            "Epoch 31/50\n",
            "169/169 [==============================] - 45s 268ms/step - loss: 5.3606e-07 - val_loss: 0.0015\n",
            "Epoch 32/50\n",
            "169/169 [==============================] - 47s 278ms/step - loss: 4.6205e-07 - val_loss: 0.0016\n",
            "Epoch 33/50\n",
            "169/169 [==============================] - 45s 267ms/step - loss: 5.1201e-07 - val_loss: 0.0015\n",
            "Epoch 34/50\n",
            "169/169 [==============================] - 46s 275ms/step - loss: 4.0526e-07 - val_loss: 0.0016\n",
            "Epoch 35/50\n",
            "169/169 [==============================] - 45s 269ms/step - loss: 4.3579e-07 - val_loss: 0.0016\n",
            "Epoch 36/50\n",
            "169/169 [==============================] - 47s 277ms/step - loss: 3.7405e-07 - val_loss: 0.0016\n",
            "Epoch 37/50\n",
            "169/169 [==============================] - 45s 267ms/step - loss: 5.5258e-07 - val_loss: 0.0016\n",
            "Epoch 38/50\n",
            "169/169 [==============================] - 46s 275ms/step - loss: 4.1557e-07 - val_loss: 0.0016\n",
            "Epoch 39/50\n",
            "169/169 [==============================] - 45s 268ms/step - loss: 4.3402e-07 - val_loss: 0.0016\n",
            "Epoch 40/50\n",
            "169/169 [==============================] - 46s 275ms/step - loss: 3.8398e-07 - val_loss: 0.0016\n",
            "Epoch 41/50\n",
            "169/169 [==============================] - 45s 267ms/step - loss: 4.4121e-07 - val_loss: 0.0016\n",
            "Epoch 42/50\n",
            "169/169 [==============================] - 47s 274ms/step - loss: 3.4097e-07 - val_loss: 0.0016\n",
            "Epoch 43/50\n",
            "169/169 [==============================] - 45s 269ms/step - loss: 4.5558e-07 - val_loss: 0.0016\n",
            "Epoch 44/50\n",
            "169/169 [==============================] - 47s 276ms/step - loss: 5.7792e-07 - val_loss: 0.0017\n",
            "Epoch 45/50\n",
            "169/169 [==============================] - 47s 276ms/step - loss: 3.7412e-07 - val_loss: 0.0017\n",
            "Epoch 46/50\n",
            "169/169 [==============================] - 45s 267ms/step - loss: 3.8525e-07 - val_loss: 0.0017\n",
            "Epoch 47/50\n",
            "169/169 [==============================] - 46s 273ms/step - loss: 4.7616e-07 - val_loss: 0.0017\n",
            "Epoch 48/50\n",
            "169/169 [==============================] - 46s 271ms/step - loss: 3.2407e-07 - val_loss: 0.0017\n",
            "Epoch 49/50\n",
            "169/169 [==============================] - 46s 275ms/step - loss: 4.1017e-07 - val_loss: 0.0017\n",
            "Epoch 50/50\n",
            "169/169 [==============================] - 45s 268ms/step - loss: 4.1243e-07 - val_loss: 0.0017\n"
          ]
        }
      ],
      "source": [
        "epochs = 50\n",
        "batch_size = 16\n",
        "history = model.fit(x_train, y_train, \n",
        "                    batch_size=batch_size, \n",
        "                    epochs=epochs,\n",
        "                    validation_data=(x_test, y_test),\n",
        "                    callbacks = [callbacks]                 \n",
        "                   )\n",
        "    "
      ]
    },
    {
      "cell_type": "markdown",
      "id": "14f8743e-6cee-4a6a-860d-bb515460c84d",
      "metadata": {
        "id": "14f8743e-6cee-4a6a-860d-bb515460c84d"
      },
      "source": [
        "#### Burada tahmin başarı anlamında bir kayıp eğrisi çizdiriyoruz."
      ]
    },
    {
      "cell_type": "code",
      "execution_count": 20,
      "id": "3101aad7-c61a-46d3-bf24-4796eb2e34b4",
      "metadata": {
        "colab": {
          "base_uri": "https://localhost:8080/",
          "height": 487
        },
        "id": "3101aad7-c61a-46d3-bf24-4796eb2e34b4",
        "outputId": "8c824f08-def0-4ec5-aa7a-fe62386d698e"
      },
      "outputs": [
        {
          "output_type": "display_data",
          "data": {
            "text/plain": [
              "<Figure size 1600x500 with 1 Axes>"
            ],
            "image/png": "[encoded data removed]"
          },
          "metadata": {}
        }
      ],
      "source": [
        "fig, ax = plt.subplots(figsize=(16, 5), sharex=True)\n",
        "sns.lineplot(data=history.history[\"loss\"])\n",
        "plt.title(\"Model loss\")\n",
        "plt.ylabel(\"Loss\")\n",
        "plt.xlabel(\"Epoch\")\n",
        "ax.xaxis.set_major_locator(plt.MaxNLocator(epochs))\n",
        "plt.legend([\"Train\", \"Test\"], loc=\"upper left\")\n",
        "plt.grid()\n",
        "plt.show()"
      ]
    },
    {
      "cell_type": "markdown",
      "id": "9dc4bfa1-64c1-419f-aa04-a1224b5bd4bb",
      "metadata": {
        "tags": [],
        "id": "9dc4bfa1-64c1-419f-aa04-a1224b5bd4bb"
      },
      "source": [
        "#### Sinir ağı regresyon modelini eğittikten sonra performansını ölçmek istiyoruz. Önce tahminlerin ölçeklemesini tersine çevirmeliyiz. Daha sonra MAE, MAPE ve MDAPE gibi farklı hata metriklerini hesaplıyoruz. Ardından, bir çizgi grafiğindeki tahminleri gerçek değerlerle karşılaştıracağız."
      ]
    },
    {
      "cell_type": "code",
      "execution_count": 21,
      "id": "c06285ab-bcba-4985-a86f-8012d59dec47",
      "metadata": {
        "colab": {
          "base_uri": "https://localhost:8080/"
        },
        "id": "c06285ab-bcba-4985-a86f-8012d59dec47",
        "outputId": "8cab8b38-0b88-4218-8ae5-67d4704bd5e6"
      },
      "outputs": [
        {
          "output_type": "stream",
          "name": "stdout",
          "text": [
            "22/22 [==============================] - 3s 115ms/step\n",
            "R2: 0.442\n",
            "Median Absolute Error (MAE): 2.17\n",
            "Mean Absolute Percentage Error (MAPE): 3.51 %\n",
            "Median Absolute Percentage Error (MDAPE): 2.05 %\n"
          ]
        }
      ],
      "source": [
        "y_pred_scaled = model.predict(x_test)\n",
        "\n",
        "y_pred = scaler_pred.inverse_transform(y_pred_scaled)\n",
        "y_test_unscaled = scaler_pred.inverse_transform(y_test.reshape(-1, 1))\n",
        "\n",
        "R2 = r2_score(y_test_unscaled, y_pred)\n",
        "print(f'R2: {np.round(R2, 3)}')\n",
        "\n",
        "MAE = mean_absolute_error(y_test_unscaled, y_pred)\n",
        "print(f'Median Absolute Error (MAE): {np.round(MAE, 2)}')\n",
        "\n",
        "MAPE = np.mean((np.abs(np.subtract(y_test_unscaled, y_pred)/ y_test_unscaled))) * 100\n",
        "print(f'Mean Absolute Percentage Error (MAPE): {np.round(MAPE, 2)} %')\n",
        "\n",
        "MDAPE = np.median((np.abs(np.subtract(y_test_unscaled, y_pred)/ y_test_unscaled)) ) * 100\n",
        "print(f'Median Absolute Percentage Error (MDAPE): {np.round(MDAPE, 2)} %')"
      ]
    },
    {
      "cell_type": "markdown",
      "id": "ca72f20e-707f-4ddc-9b32-e0f536985f90",
      "metadata": {
        "tags": [],
        "id": "ca72f20e-707f-4ddc-9b32-e0f536985f90"
      },
      "source": [
        "#### Çizgi grafiği, tahminin gerçek değerlere yakın olduğunu ancak kısmen ondan saptığını gösterir. Gerçek değerler ve tahminler arasındaki sapmalara artıklar denir. Bizim modumuz için, bunlar en çok artan piyasa oynaklığının olduğu dönemlerde ve en az da istikrarlı piyasa hareketinin olduğu dönemlerde önemli görünmektedir, bu mantıklıdır çünkü ani hareketlerin genellikle tahmin edilmesi daha zordur."
      ]
    },
    {
      "cell_type": "code",
      "execution_count": 22,
      "id": "d268be67-bb91-4793-bcae-a86cdd529927",
      "metadata": {
        "tags": [],
        "colab": {
          "base_uri": "https://localhost:8080/",
          "height": 718
        },
        "id": "d268be67-bb91-4793-bcae-a86cdd529927",
        "outputId": "1be23948-0fc3-4a51-f73e-e8a323add301"
      },
      "outputs": [
        {
          "output_type": "display_data",
          "data": {
            "text/plain": [
              "<Figure size 1600x800 with 1 Axes>"
            ],
            "image/png": "[encoded data removed]"
          },
          "metadata": {}
        }
      ],
      "source": [
        "# Tarihin görüntülendiği tarih\n",
        "display_start_date = \"2019-01-01\" \n",
        "\n",
        "# Geçerli ve tahmini fiyatlar arasındaki fark\n",
        "train = pd.DataFrame(data_filtered_ext['Close'][:train_data_len + 1]).rename(columns={'Close': 'y_train'})\n",
        "valid = pd.DataFrame(data_filtered_ext['Close'][train_data_len:]).rename(columns={'Close': 'y_test'})\n",
        "valid.insert(1, \"y_pred\", y_pred, True)\n",
        "valid.insert(1, \"residuals\", valid[\"y_pred\"] - valid[\"y_test\"], True)\n",
        "df_union = pd.concat([train, valid])\n",
        "\n",
        "# Daha yakın bir zaman dilimine yakınlaştırın\n",
        "df_union_zoom = df_union[df_union.index > display_start_date]\n",
        "\n",
        "fig, ax1 = plt.subplots(figsize=(16, 8))\n",
        "plt.title(\"y_pred vs y_test\")\n",
        "plt.ylabel(stockname, fontsize=18)\n",
        "sns.set_palette([\"#090364\", \"#1960EF\", \"#EF5919\"])\n",
        "sns.lineplot(data=df_union_zoom[['y_pred', 'y_train', 'y_test']], linewidth=1.0, dashes=False, ax=ax1)\n",
        "\n",
        "# Farkların grafiği\n",
        "df_sub = [\"#2BC97A\" if x > 0 else \"#C92B2B\" for x in df_union_zoom[\"residuals\"].dropna()]\n",
        "ax1.bar(height=df_union_zoom['residuals'].dropna(), x=df_union_zoom['residuals'].dropna().index, width=3, label='residuals', color=df_sub)\n",
        "plt.legend()\n",
        "plt.show()"
      ]
    },
    {
      "cell_type": "code",
      "execution_count": 23,
      "id": "5c3e8716-f8e9-4a7a-99de-2db140a104e2",
      "metadata": {
        "colab": {
          "base_uri": "https://localhost:8080/"
        },
        "id": "5c3e8716-f8e9-4a7a-99de-2db140a104e2",
        "outputId": "25adbebf-f682-442a-f542-7e7a4b7fc3ab"
      },
      "outputs": [
        {
          "output_type": "stream",
          "name": "stdout",
          "text": [
            "1/1 [==============================] - 0s 91ms/step\n",
            "The close price for TUPRAS at 2023-04-13 was 78.1\n",
            "The predicted close price is 79.25 (+1.45%)\n"
          ]
        }
      ],
      "source": [
        "df_temp = df[-sequence_length:]\n",
        "new_df = df_temp.filter(FEATURES)\n",
        "\n",
        "N = sequence_length\n",
        "\n",
        "# Son N günlük kapanış fiyatı değerlerini alın ve verileri 0 ile 1 arasında değerler olacak şekilde ölçeklendirin\n",
        "last_N_days = new_df[-sequence_length:].values\n",
        "last_N_days_scaled = scaler.transform(last_N_days)\n",
        "\n",
        "# Boş bir liste oluşturun ve son N günü ekleyin\n",
        "X_test_new = []\n",
        "X_test_new.append(last_N_days_scaled)\n",
        "\n",
        "# X_test veri kümesini numpy dizisine dönüştürün ve verileri tekrar eski haline çevirin\n",
        "pred_price_scaled = model.predict(np.array(X_test_new))\n",
        "pred_price_unscaled = scaler_pred.inverse_transform(pred_price_scaled.reshape(-1, 1))\n",
        "\n",
        "# Bir sonraki gün için son fiyatı ve tahmini fiyatı yazdırın\n",
        "price_today = np.round(new_df['Close'][-1], 2)\n",
        "predicted_price = np.round(pred_price_unscaled.ravel()[0], 2)\n",
        "change_percent = np.round(100 - (price_today * 100)/predicted_price, 2)\n",
        "\n",
        "plus = '+'; minus = ''\n",
        "print(f'The close price for {stockname} at {end_date} was {price_today}')\n",
        "print(f'The predicted close price is {predicted_price} ({plus if change_percent > 0 else minus}{change_percent}%)')"
      ]
    },
    {
      "cell_type": "code",
      "execution_count": 23,
      "id": "2d15e342-4b2a-4c82-b7d4-63da7341540f",
      "metadata": {
        "id": "2d15e342-4b2a-4c82-b7d4-63da7341540f"
      },
      "outputs": [],
      "source": []
    },
    {
      "cell_type": "markdown",
      "id": "d9cf85ab-2b08-4e17-b318-5529d25e2877",
      "metadata": {
        "id": "d9cf85ab-2b08-4e17-b318-5529d25e2877"
      },
      "source": [
        "## WindowSize + BatchSize Update"
      ]
    },
    {
      "cell_type": "code",
      "execution_count": 24,
      "id": "df236e70-9026-426e-9bc7-c643a5c907e7",
      "metadata": {
        "tags": [],
        "colab": {
          "base_uri": "https://localhost:8080/"
        },
        "id": "df236e70-9026-426e-9bc7-c643a5c907e7",
        "outputId": "b799e910-0ae8-4da1-88b0-5eba7e5cc159"
      },
      "outputs": [
        {
          "output_type": "stream",
          "name": "stdout",
          "text": [
            "(2680, 64, 5) (2680,)\n",
            "(685, 64, 5) (685,)\n",
            "0.0022024948890284144\n",
            "0.0022024948890284144\n"
          ]
        }
      ],
      "source": [
        "sequence_length = 64\n",
        "\n",
        "index_Close = data.columns.get_loc(\"Close\")\n",
        "\n",
        "# Verileri train test olarak ayırın.\n",
        "# Verilerin %80 ini eğitim için kullanacağız.\n",
        "train_data_len = math.ceil(np_data_scaled.shape[0] * 0.8)\n",
        "\n",
        "train_data = np_data_scaled[0:train_data_len, :]\n",
        "test_data = np_data_scaled[train_data_len - sequence_length:, :]\n",
        "\n",
        "# Model için verileri bu biçime dönüştürün : [samples, time steps, features] \n",
        "def partition_dataset(sequence_length, data):\n",
        "    x, y = [], []\n",
        "    data_len = data.shape[0]\n",
        "    for i in range(sequence_length, data_len):\n",
        "        x.append(data[i-sequence_length:i,:]) \n",
        "        y.append(data[i, index_Close]) \n",
        "\n",
        "    # Sonra bunları numpy array'e dönüştür.    \n",
        "    x = np.array(x)\n",
        "    y = np.array(y)\n",
        "    return x, y\n",
        "\n",
        "x_train, y_train = partition_dataset(sequence_length, train_data)\n",
        "x_test, y_test = partition_dataset(sequence_length, test_data)\n",
        "\n",
        "print(x_train.shape, y_train.shape)\n",
        "print(x_test.shape, y_test.shape)\n",
        "\n",
        "# İkinci girdi örneğinin son kapanış fiyatı ilk tahmin değerine eşit olmalıdır.\n",
        "print(x_train[1][sequence_length-1][index_Close])\n",
        "print(y_train[0])"
      ]
    },
    {
      "cell_type": "code",
      "execution_count": 25,
      "id": "d61abcb0-986d-4c19-a7be-b5a2fd1c4c61",
      "metadata": {
        "colab": {
          "base_uri": "https://localhost:8080/"
        },
        "id": "d61abcb0-986d-4c19-a7be-b5a2fd1c4c61",
        "outputId": "ca6bb41a-6907-497f-98dd-328c3d9202ed"
      },
      "outputs": [
        {
          "output_type": "execute_result",
          "data": {
            "text/plain": [
              "(2744, 5)"
            ]
          },
          "metadata": {},
          "execution_count": 25
        }
      ],
      "source": [
        "train_data.shape"
      ]
    },
    {
      "cell_type": "code",
      "execution_count": 26,
      "id": "b3f38eeb-dceb-4afb-9359-a103d215a89d",
      "metadata": {
        "colab": {
          "base_uri": "https://localhost:8080/"
        },
        "id": "b3f38eeb-dceb-4afb-9359-a103d215a89d",
        "outputId": "5927dba8-15f6-447c-85b4-0a694fbb8d28"
      },
      "outputs": [
        {
          "output_type": "stream",
          "name": "stdout",
          "text": [
            "320 64 5\n",
            "Model: \"sequential_1\"\n",
            "_________________________________________________________________\n",
            " Layer (type)                Output Shape              Param #   \n",
            "=================================================================\n",
            " lstm_2 (LSTM)               (None, 64, 320)           417280    \n",
            "                                                                 \n",
            " lstm_3 (LSTM)               (None, 320)               820480    \n",
            "                                                                 \n",
            " dense_2 (Dense)             (None, 5)                 1605      \n",
            "                                                                 \n",
            " dense_3 (Dense)             (None, 1)                 6         \n",
            "                                                                 \n",
            "=================================================================\n",
            "Total params: 1,239,371\n",
            "Trainable params: 1,239,371\n",
            "Non-trainable params: 0\n",
            "_________________________________________________________________\n"
          ]
        }
      ],
      "source": [
        "model=Sequential()\n",
        "\n",
        "n_neurons = x_train.shape[1] * x_train.shape[2]\n",
        "print(n_neurons, x_train.shape[1], x_train.shape[2])\n",
        "\n",
        "model.add(LSTM(n_neurons,return_sequences=True,input_shape=(x_train.shape[1], x_train.shape[2])))\n",
        "\n",
        "model.add(LSTM(n_neurons,return_sequences=False))\n",
        "\n",
        "model.add(Dense(5))\n",
        "\n",
        "model.add(Dense(1))\n",
        "\n",
        "model.compile(loss='mean_squared_error',optimizer='adam')\n",
        "\n",
        "model.summary()"
      ]
    },
    {
      "cell_type": "code",
      "execution_count": 27,
      "id": "df70a7a2-4cd1-4171-a76b-72b410068817",
      "metadata": {
        "id": "df70a7a2-4cd1-4171-a76b-72b410068817"
      },
      "outputs": [],
      "source": [
        "callbacks = EarlyStopping(monitor = \"loss\",patience = 6,verbose = 1)"
      ]
    },
    {
      "cell_type": "code",
      "execution_count": 28,
      "id": "9fe720c6-17ef-448d-a780-b37dd2ef5c18",
      "metadata": {
        "colab": {
          "base_uri": "https://localhost:8080/"
        },
        "id": "9fe720c6-17ef-448d-a780-b37dd2ef5c18",
        "outputId": "8d58014f-e57d-4635-8cc8-68fe98652510"
      },
      "outputs": [
        {
          "output_type": "stream",
          "name": "stdout",
          "text": [
            "Epoch 1/50\n",
            "84/84 [==============================] - 76s 781ms/step - loss: 4.7950e-05 - val_loss: 0.0012\n",
            "Epoch 2/50\n",
            "84/84 [==============================] - 63s 750ms/step - loss: 8.4891e-07 - val_loss: 0.0012\n",
            "Epoch 3/50\n",
            "84/84 [==============================] - 62s 740ms/step - loss: 8.1578e-07 - val_loss: 0.0012\n",
            "Epoch 4/50\n",
            "84/84 [==============================] - 62s 730ms/step - loss: 9.2354e-07 - val_loss: 0.0012\n",
            "Epoch 5/50\n",
            "84/84 [==============================] - 62s 734ms/step - loss: 7.8856e-07 - val_loss: 0.0012\n",
            "Epoch 6/50\n",
            "84/84 [==============================] - 62s 745ms/step - loss: 8.1252e-07 - val_loss: 0.0012\n",
            "Epoch 7/50\n",
            "84/84 [==============================] - 61s 729ms/step - loss: 7.4493e-07 - val_loss: 0.0012\n",
            "Epoch 8/50\n",
            "84/84 [==============================] - 61s 726ms/step - loss: 8.1345e-07 - val_loss: 0.0012\n",
            "Epoch 9/50\n",
            "84/84 [==============================] - 63s 746ms/step - loss: 7.9109e-07 - val_loss: 0.0012\n",
            "Epoch 10/50\n",
            "84/84 [==============================] - 61s 732ms/step - loss: 7.4203e-07 - val_loss: 0.0012\n",
            "Epoch 11/50\n",
            "84/84 [==============================] - 60s 718ms/step - loss: 6.9349e-07 - val_loss: 0.0012\n",
            "Epoch 12/50\n",
            "84/84 [==============================] - 61s 724ms/step - loss: 8.2517e-07 - val_loss: 0.0013\n",
            "Epoch 13/50\n",
            "84/84 [==============================] - 62s 734ms/step - loss: 8.6096e-07 - val_loss: 0.0013\n",
            "Epoch 14/50\n",
            "84/84 [==============================] - 61s 732ms/step - loss: 8.0203e-07 - val_loss: 0.0013\n",
            "Epoch 15/50\n",
            "84/84 [==============================] - 61s 723ms/step - loss: 6.3843e-07 - val_loss: 0.0013\n",
            "Epoch 16/50\n",
            "84/84 [==============================] - 63s 749ms/step - loss: 5.3892e-07 - val_loss: 0.0013\n",
            "Epoch 17/50\n",
            "84/84 [==============================] - 61s 730ms/step - loss: 6.7888e-07 - val_loss: 0.0013\n",
            "Epoch 18/50\n",
            "84/84 [==============================] - 62s 739ms/step - loss: 7.5384e-07 - val_loss: 0.0013\n",
            "Epoch 19/50\n",
            "84/84 [==============================] - 62s 736ms/step - loss: 5.1955e-07 - val_loss: 0.0013\n",
            "Epoch 20/50\n",
            "84/84 [==============================] - 62s 736ms/step - loss: 5.9269e-07 - val_loss: 0.0013\n",
            "Epoch 21/50\n",
            "84/84 [==============================] - 63s 745ms/step - loss: 6.0736e-07 - val_loss: 0.0013\n",
            "Epoch 22/50\n",
            "84/84 [==============================] - 62s 743ms/step - loss: 5.2351e-07 - val_loss: 0.0013\n",
            "Epoch 23/50\n",
            "84/84 [==============================] - 62s 744ms/step - loss: 5.7719e-07 - val_loss: 0.0013\n",
            "Epoch 24/50\n",
            "84/84 [==============================] - 61s 731ms/step - loss: 5.6279e-07 - val_loss: 0.0013\n",
            "Epoch 25/50\n",
            "84/84 [==============================] - 62s 742ms/step - loss: 4.9641e-07 - val_loss: 0.0013\n",
            "Epoch 26/50\n",
            "84/84 [==============================] - 63s 746ms/step - loss: 5.4654e-07 - val_loss: 0.0013\n",
            "Epoch 27/50\n",
            "84/84 [==============================] - 62s 744ms/step - loss: 5.9483e-07 - val_loss: 0.0013\n",
            "Epoch 28/50\n",
            "84/84 [==============================] - 63s 750ms/step - loss: 8.2388e-07 - val_loss: 0.0013\n",
            "Epoch 29/50\n",
            "84/84 [==============================] - 61s 722ms/step - loss: 5.4366e-07 - val_loss: 0.0014\n",
            "Epoch 30/50\n",
            "84/84 [==============================] - 63s 750ms/step - loss: 5.5307e-07 - val_loss: 0.0014\n",
            "Epoch 31/50\n",
            "84/84 [==============================] - 63s 749ms/step - loss: 5.7978e-07 - val_loss: 0.0014\n",
            "Epoch 31: early stopping\n"
          ]
        }
      ],
      "source": [
        "epochs = 50\n",
        "batch_size = 32\n",
        "history = model.fit(x_train, y_train, \n",
        "                    batch_size=batch_size, \n",
        "                    epochs=epochs,\n",
        "                    validation_data=(x_test, y_test),\n",
        "                    callbacks = [callbacks]                 \n",
        "                   )\n",
        "    "
      ]
    },
    {
      "cell_type": "markdown",
      "id": "24f405b7-a10e-4041-a011-59dbaa7faa4a",
      "metadata": {
        "id": "24f405b7-a10e-4041-a011-59dbaa7faa4a"
      },
      "source": [
        "#### Burada tahmin başarı anlamında bir kayıp eğrisi çizdiriyoruz."
      ]
    },
    {
      "cell_type": "code",
      "execution_count": 29,
      "id": "32f8cd69-c0b7-460b-8bb2-c02a7cc80703",
      "metadata": {
        "colab": {
          "base_uri": "https://localhost:8080/",
          "height": 487
        },
        "id": "32f8cd69-c0b7-460b-8bb2-c02a7cc80703",
        "outputId": "54d37cad-98ac-416f-9518-cde4e9212cb6"
      },
      "outputs": [
        {
          "output_type": "display_data",
          "data": {
            "text/plain": [
              "<Figure size 1600x500 with 1 Axes>"
            ],
            "image/png": "[encoded data removed]"
          },
          "metadata": {}
        }
      ],
      "source": [
        "fig, ax = plt.subplots(figsize=(16, 5), sharex=True)\n",
        "sns.lineplot(data=history.history[\"loss\"])\n",
        "plt.title(\"Model loss\")\n",
        "plt.ylabel(\"Loss\")\n",
        "plt.xlabel(\"Epoch\")\n",
        "ax.xaxis.set_major_locator(plt.MaxNLocator(epochs))\n",
        "plt.legend([\"Train\", \"Test\"], loc=\"upper left\")\n",
        "plt.grid()\n",
        "plt.show()"
      ]
    },
    {
      "cell_type": "markdown",
      "id": "70432094-d66f-47db-954c-18225d57290a",
      "metadata": {
        "tags": [],
        "id": "70432094-d66f-47db-954c-18225d57290a"
      },
      "source": [
        "#### Sinir ağı regresyon modelini eğittikten sonra performansını ölçmek istiyoruz. Önce tahminlerin ölçeklemesini tersine çevirmeliyiz. Daha sonra MAE, MAPE ve MDAPE gibi farklı hata metriklerini hesaplıyoruz. Ardından, bir çizgi grafiğindeki tahminleri gerçek değerlerle karşılaştıracağız."
      ]
    },
    {
      "cell_type": "code",
      "execution_count": 30,
      "id": "d7fac5f1-661b-47a7-bd5c-63b4d1e77d0d",
      "metadata": {
        "colab": {
          "base_uri": "https://localhost:8080/"
        },
        "id": "d7fac5f1-661b-47a7-bd5c-63b4d1e77d0d",
        "outputId": "22656e46-644d-4292-c778-a752c3e1fe03"
      },
      "outputs": [
        {
          "output_type": "stream",
          "name": "stdout",
          "text": [
            "22/22 [==============================] - 5s 208ms/step\n",
            "R2: 0.558\n",
            "Median Absolute Error (MAE): 2.55\n",
            "Mean Absolute Percentage Error (MAPE): 4.49 %\n",
            "Median Absolute Percentage Error (MDAPE): 2.77 %\n"
          ]
        }
      ],
      "source": [
        "y_pred_scaled = model.predict(x_test)\n",
        "\n",
        "y_pred = scaler_pred.inverse_transform(y_pred_scaled)\n",
        "y_test_unscaled = scaler_pred.inverse_transform(y_test.reshape(-1, 1))\n",
        "\n",
        "R2 = r2_score(y_test_unscaled, y_pred)\n",
        "print(f'R2: {np.round(R2, 3)}')\n",
        "\n",
        "MAE = mean_absolute_error(y_test_unscaled, y_pred)\n",
        "print(f'Median Absolute Error (MAE): {np.round(MAE, 2)}')\n",
        "\n",
        "MAPE = np.mean((np.abs(np.subtract(y_test_unscaled, y_pred)/ y_test_unscaled))) * 100\n",
        "print(f'Mean Absolute Percentage Error (MAPE): {np.round(MAPE, 2)} %')\n",
        "\n",
        "MDAPE = np.median((np.abs(np.subtract(y_test_unscaled, y_pred)/ y_test_unscaled)) ) * 100\n",
        "print(f'Median Absolute Percentage Error (MDAPE): {np.round(MDAPE, 2)} %')"
      ]
    },
    {
      "cell_type": "markdown",
      "id": "5427eb8e-894f-44c8-8acb-469a572ca58f",
      "metadata": {
        "id": "5427eb8e-894f-44c8-8acb-469a572ca58f"
      },
      "source": [
        "#### Çizgi grafiği, tahminin gerçek değerlere yakın olduğunu ancak kısmen ondan saptığını gösterir. Gerçek değerler ve tahminler arasındaki sapmalara artıklar denir. Bizim modumuz için, bunlar en çok artan piyasa oynaklığının olduğu dönemlerde ve en az da istikrarlı piyasa hareketinin olduğu dönemlerde önemli görünmektedir, bu mantıklıdır çünkü ani hareketlerin genellikle tahmin edilmesi daha zordur."
      ]
    },
    {
      "cell_type": "code",
      "execution_count": 31,
      "id": "65af7f39-e5f7-4996-bac6-767ced0e6da2",
      "metadata": {
        "colab": {
          "base_uri": "https://localhost:8080/",
          "height": 718
        },
        "id": "65af7f39-e5f7-4996-bac6-767ced0e6da2",
        "outputId": "54a40577-1f6c-49a2-8760-7305904667bb"
      },
      "outputs": [
        {
          "output_type": "display_data",
          "data": {
            "text/plain": [
              "<Figure size 1600x800 with 1 Axes>"
            ],
            "image/png": "[encoded data removed]"
          },
          "metadata": {}
        }
      ],
      "source": [
        "# Tarihin görüntülendiği tarih\n",
        "display_start_date = \"2019-01-01\" \n",
        "\n",
        "# Geçerli ve tahmini fiyatlar arasındaki fark\n",
        "train = pd.DataFrame(data_filtered_ext['Close'][:train_data_len + 1]).rename(columns={'Close': 'y_train'})\n",
        "valid = pd.DataFrame(data_filtered_ext['Close'][train_data_len:]).rename(columns={'Close': 'y_test'})\n",
        "valid.insert(1, \"y_pred\", y_pred, True)\n",
        "valid.insert(1, \"residuals\", valid[\"y_pred\"] - valid[\"y_test\"], True)\n",
        "df_union = pd.concat([train, valid])\n",
        "\n",
        "# Daha yakın bir zaman dilimine yakınlaştırın\n",
        "df_union_zoom = df_union[df_union.index > display_start_date]\n",
        "\n",
        "fig, ax1 = plt.subplots(figsize=(16, 8))\n",
        "plt.title(\"y_pred vs y_test\")\n",
        "plt.ylabel(stockname, fontsize=18)\n",
        "sns.set_palette([\"#090364\", \"#1960EF\", \"#EF5919\"])\n",
        "sns.lineplot(data=df_union_zoom[['y_pred', 'y_train', 'y_test']], linewidth=1.0, dashes=False, ax=ax1)\n",
        "\n",
        "# Farkların grafiği\n",
        "df_sub = [\"#2BC97A\" if x > 0 else \"#C92B2B\" for x in df_union_zoom[\"residuals\"].dropna()]\n",
        "ax1.bar(height=df_union_zoom['residuals'].dropna(), x=df_union_zoom['residuals'].dropna().index, width=3, label='residuals', color=df_sub)\n",
        "plt.legend()\n",
        "plt.show()"
      ]
    },
    {
      "cell_type": "code",
      "execution_count": 32,
      "id": "c2ce9b56-9050-4817-90af-5d7bf9a4152f",
      "metadata": {
        "colab": {
          "base_uri": "https://localhost:8080/"
        },
        "id": "c2ce9b56-9050-4817-90af-5d7bf9a4152f",
        "outputId": "40a862c9-29d1-4eeb-c358-fb897b0b2883"
      },
      "outputs": [
        {
          "output_type": "stream",
          "name": "stdout",
          "text": [
            "1/1 [==============================] - 0s 50ms/step\n",
            "The close price for TUPRAS at 2023-04-13 was 78.1\n",
            "The predicted close price is 69.26000213623047 (-12.76%)\n"
          ]
        }
      ],
      "source": [
        "df_temp = df[-sequence_length:]\n",
        "new_df = df_temp.filter(FEATURES)\n",
        "\n",
        "N = sequence_length\n",
        "\n",
        "# Son N günlük kapanış fiyatı değerlerini alın ve verileri 0 ile 1 arasında değerler olacak şekilde ölçeklendirin\n",
        "last_N_days = new_df[-sequence_length:].values\n",
        "last_N_days_scaled = scaler.transform(last_N_days)\n",
        "\n",
        "# Boş bir liste oluşturun ve son N günü ekleyin\n",
        "X_test_new = []\n",
        "X_test_new.append(last_N_days_scaled)\n",
        "\n",
        "# X_test veri kümesini numpy dizisine dönüştürün ve verileri tekrar eski haline çevirin\n",
        "pred_price_scaled = model.predict(np.array(X_test_new))\n",
        "pred_price_unscaled = scaler_pred.inverse_transform(pred_price_scaled.reshape(-1, 1))\n",
        "\n",
        "# Bir sonraki gün için son fiyatı ve tahmini fiyatı yazdırın\n",
        "price_today = np.round(new_df['Close'][-1], 2)\n",
        "predicted_price = np.round(pred_price_unscaled.ravel()[0], 2)\n",
        "change_percent = np.round(100 - (price_today * 100)/predicted_price, 2)\n",
        "\n",
        "plus = '+'; minus = ''\n",
        "print(f'The close price for {stockname} at {end_date} was {price_today}')\n",
        "print(f'The predicted close price is {predicted_price} ({plus if change_percent > 0 else minus}{change_percent}%)')"
      ]
    },
    {
      "cell_type": "code",
      "execution_count": 32,
      "id": "03053c3d-d558-4695-94d3-933c3e6c31b5",
      "metadata": {
        "id": "03053c3d-d558-4695-94d3-933c3e6c31b5"
      },
      "outputs": [],
      "source": []
    },
    {
      "cell_type": "code",
      "execution_count": 32,
      "id": "949ee53f-de3a-483b-8e4f-bfd023f0ae17",
      "metadata": {
        "id": "949ee53f-de3a-483b-8e4f-bfd023f0ae17"
      },
      "outputs": [],
      "source": []
    },
    {
      "cell_type": "markdown",
      "id": "4ab52c0a-8040-4e95-bfdb-d23497fb5869",
      "metadata": {
        "id": "4ab52c0a-8040-4e95-bfdb-d23497fb5869"
      },
      "source": [
        "## Hidden Layer and Neuron Update"
      ]
    },
    {
      "cell_type": "code",
      "execution_count": 33,
      "id": "9fd4fdf8-ff13-499e-bf2a-703e21fecd3c",
      "metadata": {
        "id": "9fd4fdf8-ff13-499e-bf2a-703e21fecd3c",
        "outputId": "e1911c17-b844-450b-8eb0-7fbf8171caf5",
        "colab": {
          "base_uri": "https://localhost:8080/"
        }
      },
      "outputs": [
        {
          "output_type": "execute_result",
          "data": {
            "text/plain": [
              "(2744, 5)"
            ]
          },
          "metadata": {},
          "execution_count": 33
        }
      ],
      "source": [
        "train_data.shape"
      ]
    },
    {
      "cell_type": "code",
      "execution_count": 34,
      "id": "8fb7fa45-73f9-4d23-99b2-769bbf8e8875",
      "metadata": {
        "id": "8fb7fa45-73f9-4d23-99b2-769bbf8e8875",
        "outputId": "f154ceb7-99c0-4d84-adb3-2e6c777e4864",
        "colab": {
          "base_uri": "https://localhost:8080/"
        }
      },
      "outputs": [
        {
          "output_type": "stream",
          "name": "stdout",
          "text": [
            "320 64 5\n",
            "Model: \"sequential_2\"\n",
            "_________________________________________________________________\n",
            " Layer (type)                Output Shape              Param #   \n",
            "=================================================================\n",
            " lstm_4 (LSTM)               (None, 64, 320)           417280    \n",
            "                                                                 \n",
            " lstm_5 (LSTM)               (None, 200)               416800    \n",
            "                                                                 \n",
            " dense_4 (Dense)             (None, 5)                 1005      \n",
            "                                                                 \n",
            " dense_5 (Dense)             (None, 1)                 6         \n",
            "                                                                 \n",
            "=================================================================\n",
            "Total params: 835,091\n",
            "Trainable params: 835,091\n",
            "Non-trainable params: 0\n",
            "_________________________________________________________________\n"
          ]
        }
      ],
      "source": [
        "model=Sequential()\n",
        "\n",
        "n_neurons = x_train.shape[1] * x_train.shape[2]\n",
        "print(n_neurons, x_train.shape[1], x_train.shape[2])\n",
        "\n",
        "model.add(LSTM(n_neurons,return_sequences=True,input_shape=(x_train.shape[1], x_train.shape[2])))\n",
        "\n",
        "model.add(LSTM(200,return_sequences=False))\n",
        "\n",
        "model.add(Dense(5))\n",
        "\n",
        "model.add(Dense(1))\n",
        "\n",
        "model.compile(loss='mean_squared_error',optimizer='adam')\n",
        "\n",
        "model.summary()"
      ]
    },
    {
      "cell_type": "code",
      "execution_count": 35,
      "id": "3054ec44-9332-418b-93a3-b771c6e990ec",
      "metadata": {
        "id": "3054ec44-9332-418b-93a3-b771c6e990ec"
      },
      "outputs": [],
      "source": [
        "callbacks = EarlyStopping(monitor = \"loss\",patience = 6,verbose = 1)"
      ]
    },
    {
      "cell_type": "code",
      "execution_count": 36,
      "id": "c39e1ec8-5fc1-4908-b08b-ec92bf569383",
      "metadata": {
        "id": "c39e1ec8-5fc1-4908-b08b-ec92bf569383",
        "outputId": "a068f8f5-fd63-46f3-ad35-4e49b9b841e1",
        "colab": {
          "base_uri": "https://localhost:8080/"
        }
      },
      "outputs": [
        {
          "output_type": "stream",
          "name": "stdout",
          "text": [
            "Epoch 1/50\n",
            "84/84 [==============================] - 51s 557ms/step - loss: 6.8458e-05 - val_loss: 0.0012\n",
            "Epoch 2/50\n",
            "84/84 [==============================] - 44s 525ms/step - loss: 7.8322e-07 - val_loss: 0.0012\n",
            "Epoch 3/50\n",
            "84/84 [==============================] - 44s 531ms/step - loss: 8.2849e-07 - val_loss: 0.0012\n",
            "Epoch 4/50\n",
            "84/84 [==============================] - 45s 536ms/step - loss: 7.9474e-07 - val_loss: 0.0012\n",
            "Epoch 5/50\n",
            "84/84 [==============================] - 47s 561ms/step - loss: 7.2497e-07 - val_loss: 0.0012\n",
            "Epoch 6/50\n",
            "84/84 [==============================] - 44s 522ms/step - loss: 8.2379e-07 - val_loss: 0.0012\n",
            "Epoch 7/50\n",
            "84/84 [==============================] - 48s 575ms/step - loss: 7.4809e-07 - val_loss: 0.0012\n",
            "Epoch 8/50\n",
            "84/84 [==============================] - 44s 524ms/step - loss: 6.7898e-07 - val_loss: 0.0012\n",
            "Epoch 9/50\n",
            "84/84 [==============================] - 46s 547ms/step - loss: 7.9703e-07 - val_loss: 0.0012\n",
            "Epoch 10/50\n",
            "84/84 [==============================] - 46s 549ms/step - loss: 7.1297e-07 - val_loss: 0.0012\n",
            "Epoch 11/50\n",
            "84/84 [==============================] - 47s 555ms/step - loss: 7.0889e-07 - val_loss: 0.0012\n",
            "Epoch 12/50\n",
            "84/84 [==============================] - 44s 526ms/step - loss: 6.6054e-07 - val_loss: 0.0013\n",
            "Epoch 13/50\n",
            "84/84 [==============================] - 45s 537ms/step - loss: 6.1726e-07 - val_loss: 0.0013\n",
            "Epoch 14/50\n",
            "84/84 [==============================] - 44s 529ms/step - loss: 6.6863e-07 - val_loss: 0.0013\n",
            "Epoch 15/50\n",
            "84/84 [==============================] - 46s 552ms/step - loss: 8.7631e-07 - val_loss: 0.0013\n",
            "Epoch 16/50\n",
            "84/84 [==============================] - 45s 540ms/step - loss: 6.1459e-07 - val_loss: 0.0013\n",
            "Epoch 17/50\n",
            "84/84 [==============================] - 47s 556ms/step - loss: 7.4826e-07 - val_loss: 0.0013\n",
            "Epoch 18/50\n",
            "84/84 [==============================] - 44s 519ms/step - loss: 6.6145e-07 - val_loss: 0.0013\n",
            "Epoch 19/50\n",
            "84/84 [==============================] - 46s 548ms/step - loss: 6.8714e-07 - val_loss: 0.0013\n",
            "Epoch 20/50\n",
            "84/84 [==============================] - 43s 515ms/step - loss: 7.6537e-07 - val_loss: 0.0013\n",
            "Epoch 21/50\n",
            "84/84 [==============================] - 45s 531ms/step - loss: 7.5194e-07 - val_loss: 0.0013\n",
            "Epoch 22/50\n",
            "84/84 [==============================] - 44s 520ms/step - loss: 5.9833e-07 - val_loss: 0.0013\n",
            "Epoch 23/50\n",
            "84/84 [==============================] - 42s 502ms/step - loss: 7.5868e-07 - val_loss: 0.0013\n",
            "Epoch 24/50\n",
            "84/84 [==============================] - 43s 508ms/step - loss: 6.5597e-07 - val_loss: 0.0013\n",
            "Epoch 25/50\n",
            "84/84 [==============================] - 42s 497ms/step - loss: 5.9960e-07 - val_loss: 0.0013\n",
            "Epoch 26/50\n",
            "84/84 [==============================] - 41s 487ms/step - loss: 7.1406e-07 - val_loss: 0.0013\n",
            "Epoch 27/50\n",
            "84/84 [==============================] - 42s 505ms/step - loss: 5.6241e-07 - val_loss: 0.0013\n",
            "Epoch 28/50\n",
            "84/84 [==============================] - 43s 512ms/step - loss: 6.0729e-07 - val_loss: 0.0013\n",
            "Epoch 29/50\n",
            "84/84 [==============================] - 43s 513ms/step - loss: 6.7026e-07 - val_loss: 0.0013\n",
            "Epoch 30/50\n",
            "84/84 [==============================] - 45s 540ms/step - loss: 6.9310e-07 - val_loss: 0.0013\n",
            "Epoch 31/50\n",
            "84/84 [==============================] - 42s 505ms/step - loss: 9.0482e-07 - val_loss: 0.0013\n",
            "Epoch 32/50\n",
            "84/84 [==============================] - 43s 518ms/step - loss: 6.9469e-07 - val_loss: 0.0014\n",
            "Epoch 33/50\n",
            "84/84 [==============================] - 42s 502ms/step - loss: 5.4726e-07 - val_loss: 0.0014\n",
            "Epoch 34/50\n",
            "84/84 [==============================] - 43s 513ms/step - loss: 5.1475e-07 - val_loss: 0.0014\n",
            "Epoch 35/50\n",
            "84/84 [==============================] - 42s 504ms/step - loss: 5.2194e-07 - val_loss: 0.0014\n",
            "Epoch 36/50\n",
            "84/84 [==============================] - 43s 511ms/step - loss: 5.6786e-07 - val_loss: 0.0014\n",
            "Epoch 37/50\n",
            "84/84 [==============================] - 42s 502ms/step - loss: 5.1356e-07 - val_loss: 0.0014\n",
            "Epoch 38/50\n",
            "84/84 [==============================] - 43s 517ms/step - loss: 6.7747e-07 - val_loss: 0.0014\n",
            "Epoch 39/50\n",
            "84/84 [==============================] - 42s 505ms/step - loss: 4.5011e-07 - val_loss: 0.0014\n",
            "Epoch 40/50\n",
            "84/84 [==============================] - 43s 512ms/step - loss: 7.4713e-07 - val_loss: 0.0014\n",
            "Epoch 41/50\n",
            "84/84 [==============================] - 45s 531ms/step - loss: 6.1632e-07 - val_loss: 0.0014\n",
            "Epoch 42/50\n",
            "84/84 [==============================] - 42s 504ms/step - loss: 5.7888e-07 - val_loss: 0.0014\n",
            "Epoch 43/50\n",
            "84/84 [==============================] - 43s 514ms/step - loss: 5.2472e-07 - val_loss: 0.0014\n",
            "Epoch 44/50\n",
            "84/84 [==============================] - 42s 503ms/step - loss: 4.7411e-07 - val_loss: 0.0014\n",
            "Epoch 45/50\n",
            "84/84 [==============================] - 43s 512ms/step - loss: 6.0460e-07 - val_loss: 0.0014\n",
            "Epoch 45: early stopping\n"
          ]
        }
      ],
      "source": [
        "epochs = 50\n",
        "batch_size = 32\n",
        "history = model.fit(x_train, y_train, \n",
        "                    batch_size=batch_size, \n",
        "                    epochs=epochs,\n",
        "                    validation_data=(x_test, y_test),\n",
        "                    callbacks = [callbacks]                 \n",
        "                   )\n",
        "    "
      ]
    },
    {
      "cell_type": "markdown",
      "id": "98182cb3-fb78-4d4a-b336-f051ce705a9d",
      "metadata": {
        "id": "98182cb3-fb78-4d4a-b336-f051ce705a9d"
      },
      "source": [
        "#### Burada tahmin başarı anlamında bir kayıp eğrisi çizdiriyoruz."
      ]
    },
    {
      "cell_type": "code",
      "execution_count": 37,
      "id": "a2b62e2a-2f9a-48a7-8871-ee989bc80fd8",
      "metadata": {
        "id": "a2b62e2a-2f9a-48a7-8871-ee989bc80fd8",
        "outputId": "5ab8aa06-65f7-4373-9557-15a008f99f96",
        "colab": {
          "base_uri": "https://localhost:8080/",
          "height": 487
        }
      },
      "outputs": [
        {
          "output_type": "display_data",
          "data": {
            "text/plain": [
              "<Figure size 1600x500 with 1 Axes>"
            ],
            "image/png": "[encoded data removed]"
          },
          "metadata": {}
        }
      ],
      "source": [
        "fig, ax = plt.subplots(figsize=(16, 5), sharex=True)\n",
        "sns.lineplot(data=history.history[\"loss\"])\n",
        "plt.title(\"Model loss\")\n",
        "plt.ylabel(\"Loss\")\n",
        "plt.xlabel(\"Epoch\")\n",
        "ax.xaxis.set_major_locator(plt.MaxNLocator(epochs))\n",
        "plt.legend([\"Train\", \"Test\"], loc=\"upper left\")\n",
        "plt.grid()\n",
        "plt.show()"
      ]
    },
    {
      "cell_type": "markdown",
      "id": "18aee26b-7626-4ad7-a0c6-3a60f3157048",
      "metadata": {
        "tags": [],
        "id": "18aee26b-7626-4ad7-a0c6-3a60f3157048"
      },
      "source": [
        "#### Sinir ağı regresyon modelini eğittikten sonra performansını ölçmek istiyoruz. Önce tahminlerin ölçeklemesini tersine çevirmeliyiz. Daha sonra MAE, MAPE ve MDAPE gibi farklı hata metriklerini hesaplıyoruz. Ardından, bir çizgi grafiğindeki tahminleri gerçek değerlerle karşılaştıracağız."
      ]
    },
    {
      "cell_type": "code",
      "execution_count": 38,
      "id": "2b457b81-b9d5-4747-aad5-cdf603ee209c",
      "metadata": {
        "id": "2b457b81-b9d5-4747-aad5-cdf603ee209c",
        "outputId": "52adfa02-766c-4255-a0d8-61ba51debda4",
        "colab": {
          "base_uri": "https://localhost:8080/"
        }
      },
      "outputs": [
        {
          "output_type": "stream",
          "name": "stdout",
          "text": [
            "22/22 [==============================] - 4s 130ms/step\n",
            "R2: 0.539\n",
            "Median Absolute Error (MAE): 2.41\n",
            "Mean Absolute Percentage Error (MAPE): 3.92 %\n",
            "Median Absolute Percentage Error (MDAPE): 2.11 %\n"
          ]
        }
      ],
      "source": [
        "y_pred_scaled = model.predict(x_test)\n",
        "\n",
        "y_pred = scaler_pred.inverse_transform(y_pred_scaled)\n",
        "y_test_unscaled = scaler_pred.inverse_transform(y_test.reshape(-1, 1))\n",
        "\n",
        "R2 = r2_score(y_test_unscaled, y_pred)\n",
        "print(f'R2: {np.round(R2, 3)}')\n",
        "\n",
        "MAE = mean_absolute_error(y_test_unscaled, y_pred)\n",
        "print(f'Median Absolute Error (MAE): {np.round(MAE, 2)}')\n",
        "\n",
        "MAPE = np.mean((np.abs(np.subtract(y_test_unscaled, y_pred)/ y_test_unscaled))) * 100\n",
        "print(f'Mean Absolute Percentage Error (MAPE): {np.round(MAPE, 2)} %')\n",
        "\n",
        "MDAPE = np.median((np.abs(np.subtract(y_test_unscaled, y_pred)/ y_test_unscaled)) ) * 100\n",
        "print(f'Median Absolute Percentage Error (MDAPE): {np.round(MDAPE, 2)} %')"
      ]
    },
    {
      "cell_type": "markdown",
      "id": "86ab78c3-19dd-414e-ab7b-b1e7229df338",
      "metadata": {
        "id": "86ab78c3-19dd-414e-ab7b-b1e7229df338"
      },
      "source": [
        "#### Çizgi grafiği, tahminin gerçek değerlere yakın olduğunu ancak kısmen ondan saptığını gösterir. Gerçek değerler ve tahminler arasındaki sapmalara artıklar denir. Bizim modumuz için, bunlar en çok artan piyasa oynaklığının olduğu dönemlerde ve en az da istikrarlı piyasa hareketinin olduğu dönemlerde önemli görünmektedir, bu mantıklıdır çünkü ani hareketlerin genellikle tahmin edilmesi daha zordur."
      ]
    },
    {
      "cell_type": "code",
      "execution_count": 39,
      "id": "c2590fbe-4899-4d8d-8945-bf9ecc97239f",
      "metadata": {
        "id": "c2590fbe-4899-4d8d-8945-bf9ecc97239f",
        "outputId": "458b5295-4826-48b1-a943-a4fd9dbf08fd",
        "colab": {
          "base_uri": "https://localhost:8080/",
          "height": 718
        }
      },
      "outputs": [
        {
          "output_type": "display_data",
          "data": {
            "text/plain": [
              "<Figure size 1600x800 with 1 Axes>"
            ],
            "image/png": "[encoded data removed]"
          },
          "metadata": {}
        }
      ],
      "source": [
        "# Tarihin görüntülendiği tarih\n",
        "display_start_date = \"2019-01-01\" \n",
        "\n",
        "# Geçerli ve tahmini fiyatlar arasındaki fark\n",
        "train = pd.DataFrame(data_filtered_ext['Close'][:train_data_len + 1]).rename(columns={'Close': 'y_train'})\n",
        "valid = pd.DataFrame(data_filtered_ext['Close'][train_data_len:]).rename(columns={'Close': 'y_test'})\n",
        "valid.insert(1, \"y_pred\", y_pred, True)\n",
        "valid.insert(1, \"residuals\", valid[\"y_pred\"] - valid[\"y_test\"], True)\n",
        "df_union = pd.concat([train, valid])\n",
        "\n",
        "# Daha yakın bir zaman dilimine yakınlaştırın\n",
        "df_union_zoom = df_union[df_union.index > display_start_date]\n",
        "\n",
        "fig, ax1 = plt.subplots(figsize=(16, 8))\n",
        "plt.title(\"y_pred vs y_test\")\n",
        "plt.ylabel(stockname, fontsize=18)\n",
        "sns.set_palette([\"#090364\", \"#1960EF\", \"#EF5919\"])\n",
        "sns.lineplot(data=df_union_zoom[['y_pred', 'y_train', 'y_test']], linewidth=1.0, dashes=False, ax=ax1)\n",
        "\n",
        "# Farkların grafiği\n",
        "df_sub = [\"#2BC97A\" if x > 0 else \"#C92B2B\" for x in df_union_zoom[\"residuals\"].dropna()]\n",
        "ax1.bar(height=df_union_zoom['residuals'].dropna(), x=df_union_zoom['residuals'].dropna().index, width=3, label='residuals', color=df_sub)\n",
        "plt.legend()\n",
        "plt.show()"
      ]
    },
    {
      "cell_type": "code",
      "execution_count": 40,
      "id": "8269996c-2b91-4cf3-83a8-d6770f66289c",
      "metadata": {
        "id": "8269996c-2b91-4cf3-83a8-d6770f66289c",
        "outputId": "2bec35a1-b562-4db5-d188-e0161e5afe28",
        "colab": {
          "base_uri": "https://localhost:8080/"
        }
      },
      "outputs": [
        {
          "output_type": "stream",
          "name": "stdout",
          "text": [
            "1/1 [==============================] - 0s 44ms/step\n",
            "The close price for TUPRAS at 2023-04-13 was 78.1\n",
            "The predicted close price is 70.48999786376953 (-10.8%)\n"
          ]
        }
      ],
      "source": [
        "df_temp = df[-sequence_length:]\n",
        "new_df = df_temp.filter(FEATURES)\n",
        "\n",
        "N = sequence_length\n",
        "\n",
        "# Son N günlük kapanış fiyatı değerlerini alın ve verileri 0 ile 1 arasında değerler olacak şekilde ölçeklendirin\n",
        "last_N_days = new_df[-sequence_length:].values\n",
        "last_N_days_scaled = scaler.transform(last_N_days)\n",
        "\n",
        "# Boş bir liste oluşturun ve son N günü ekleyin\n",
        "X_test_new = []\n",
        "X_test_new.append(last_N_days_scaled)\n",
        "\n",
        "# X_test veri kümesini numpy dizisine dönüştürün ve verileri tekrar eski haline çevirin\n",
        "pred_price_scaled = model.predict(np.array(X_test_new))\n",
        "pred_price_unscaled = scaler_pred.inverse_transform(pred_price_scaled.reshape(-1, 1))\n",
        "\n",
        "# Bir sonraki gün için son fiyatı ve tahmini fiyatı yazdırın\n",
        "price_today = np.round(new_df['Close'][-1], 2)\n",
        "predicted_price = np.round(pred_price_unscaled.ravel()[0], 2)\n",
        "change_percent = np.round(100 - (price_today * 100)/predicted_price, 2)\n",
        "\n",
        "plus = '+'; minus = ''\n",
        "print(f'The close price for {stockname} at {end_date} was {price_today}')\n",
        "print(f'The predicted close price is {predicted_price} ({plus if change_percent > 0 else minus}{change_percent}%)')"
      ]
    },
    {
      "cell_type": "code",
      "source": [],
      "metadata": {
        "id": "FPoPEZZ053sA"
      },
      "id": "FPoPEZZ053sA",
      "execution_count": 40,
      "outputs": []
    }
  ],
  "metadata": {
    "kernelspec": {
      "display_name": "Python 3 (ipykernel)",
      "language": "python",
      "name": "python3"
    },
    "language_info": {
      "codemirror_mode": {
        "name": "ipython",
        "version": 3
      },
      "file_extension": ".py",
      "mimetype": "text/x-python",
      "name": "python",
      "nbconvert_exporter": "python",
      "pygments_lexer": "ipython3",
      "version": "3.9.12"
    },
    "colab": {
      "provenance": [],
      "include_colab_link": true
    }
  },
  "nbformat": 4,
  "nbformat_minor": 5
}