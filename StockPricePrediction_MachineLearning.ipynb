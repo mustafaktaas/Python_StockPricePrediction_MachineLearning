{
 "cells": [
  {
   "cell_type": "markdown",
   "id": "0328b1a9-0a40-4a4c-aec5-875282e70d7f",
   "metadata": {},
   "source": [
    "# Stock Price Prediction Using Machine Learning"
   ]
  },
  {
   "cell_type": "markdown",
   "id": "e24a2582-e465-467d-8727-864e2e000acc",
   "metadata": {},
   "source": [
    "## Getting Data and First Looking"
   ]
  },
  {
   "cell_type": "code",
   "execution_count": 29,
   "id": "f98b336c-85c1-4685-9b62-59c35763302c",
   "metadata": {},
   "outputs": [],
   "source": [
    "import numpy as np\n",
    "import pandas as pd\n",
    "import matplotlib.pyplot as plt\n",
    "import seaborn as sb\n",
    " \n",
    "from sklearn.model_selection import train_test_split\n",
    "from sklearn.preprocessing import StandardScaler\n",
    "from sklearn.linear_model import LogisticRegression\n",
    "from sklearn.svm import SVC\n",
    "from xgboost import XGBClassifier\n",
    "from sklearn import metrics\n",
    " \n",
    "import warnings\n",
    "warnings.filterwarnings('ignore')"
   ]
  },
  {
   "cell_type": "code",
   "execution_count": 30,
   "id": "122f65fa-c282-4bc5-a93b-004277db9111",
   "metadata": {},
   "outputs": [
    {
     "name": "stdout",
     "output_type": "stream",
     "text": [
      "Requirement already satisfied: yfinance in c:\\users\\mustafa\\anaconda3\\lib\\site-packages (0.1.75)\n",
      "Requirement already satisfied: multitasking>=0.0.7 in c:\\users\\mustafa\\anaconda3\\lib\\site-packages (from yfinance) (0.0.11)\n",
      "Requirement already satisfied: appdirs>=1.4.4 in c:\\users\\mustafa\\anaconda3\\lib\\site-packages (from yfinance) (1.4.4)\n",
      "Requirement already satisfied: requests>=2.26 in c:\\users\\mustafa\\anaconda3\\lib\\site-packages (from yfinance) (2.27.1)\n",
      "Requirement already satisfied: lxml>=4.5.1 in c:\\users\\mustafa\\anaconda3\\lib\\site-packages (from yfinance) (4.8.0)\n",
      "Requirement already satisfied: pandas>=0.24.0 in c:\\users\\mustafa\\anaconda3\\lib\\site-packages (from yfinance) (1.4.2)\n",
      "Requirement already satisfied: numpy>=1.15 in c:\\users\\mustafa\\anaconda3\\lib\\site-packages (from yfinance) (1.21.5)\n",
      "Requirement already satisfied: python-dateutil>=2.8.1 in c:\\users\\mustafa\\anaconda3\\lib\\site-packages (from pandas>=0.24.0->yfinance) (2.8.2)\n",
      "Requirement already satisfied: pytz>=2020.1 in c:\\users\\mustafa\\anaconda3\\lib\\site-packages (from pandas>=0.24.0->yfinance) (2021.3)\n",
      "Requirement already satisfied: six>=1.5 in c:\\users\\mustafa\\anaconda3\\lib\\site-packages (from python-dateutil>=2.8.1->pandas>=0.24.0->yfinance) (1.16.0)\n",
      "Requirement already satisfied: certifi>=2017.4.17 in c:\\users\\mustafa\\anaconda3\\lib\\site-packages (from requests>=2.26->yfinance) (2022.9.14)\n",
      "Requirement already satisfied: charset-normalizer~=2.0.0 in c:\\users\\mustafa\\anaconda3\\lib\\site-packages (from requests>=2.26->yfinance) (2.0.4)\n",
      "Requirement already satisfied: idna<4,>=2.5 in c:\\users\\mustafa\\anaconda3\\lib\\site-packages (from requests>=2.26->yfinance) (3.3)\n",
      "Requirement already satisfied: urllib3<1.27,>=1.21.1 in c:\\users\\mustafa\\anaconda3\\lib\\site-packages (from requests>=2.26->yfinance) (1.26.9)\n"
     ]
    },
    {
     "name": "stderr",
     "output_type": "stream",
     "text": [
      "WARNING: Ignoring invalid distribution -atplotlib (c:\\users\\mustafa\\anaconda3\\lib\\site-packages)\n",
      "WARNING: Ignoring invalid distribution -atplotlib (c:\\users\\mustafa\\anaconda3\\lib\\site-packages)\n",
      "WARNING: Ignoring invalid distribution -atplotlib (c:\\users\\mustafa\\anaconda3\\lib\\site-packages)\n",
      "WARNING: Ignoring invalid distribution -atplotlib (c:\\users\\mustafa\\anaconda3\\lib\\site-packages)\n",
      "WARNING: Ignoring invalid distribution -atplotlib (c:\\users\\mustafa\\anaconda3\\lib\\site-packages)\n",
      "WARNING: Ignoring invalid distribution -atplotlib (c:\\users\\mustafa\\anaconda3\\lib\\site-packages)\n"
     ]
    }
   ],
   "source": [
    "!pip install yfinance"
   ]
  },
  {
   "cell_type": "code",
   "execution_count": 31,
   "id": "a1db4842-2b38-49f1-94f0-979840f6dadd",
   "metadata": {},
   "outputs": [
    {
     "name": "stdout",
     "output_type": "stream",
     "text": [
      "[*********************100%***********************]  1 of 1 completed\n",
      "                                 Open        High         Low       Close  \\\n",
      "Date                                                                        \n",
      "2022-09-29 00:00:00-04:00   98.639999   98.639999   95.959999   97.419998   \n",
      "2022-09-30 00:00:00-04:00   97.050003   98.900002   95.559998   95.650002   \n",
      "2022-10-03 00:00:00-04:00   96.760002   99.290001   96.519997   98.639999   \n",
      "2022-10-04 00:00:00-04:00  100.440002  101.839996  100.379997  101.639999   \n",
      "2022-10-05 00:00:00-04:00   99.830002  101.930000   98.800003  101.430000   \n",
      "\n",
      "                            Adj Close    Volume  \n",
      "Date                                             \n",
      "2022-09-29 00:00:00-04:00   97.419998  31047200  \n",
      "2022-09-30 00:00:00-04:00   95.650002  32910100  \n",
      "2022-10-03 00:00:00-04:00   98.639999  27982000  \n",
      "2022-10-04 00:00:00-04:00  101.639999  28850800  \n",
      "2022-10-05 00:00:00-04:00  101.430000  22176900  \n"
     ]
    }
   ],
   "source": [
    "# Paketi import ediyoruz.\n",
    "import yfinance as yf\n",
    " \n",
    "# Hangi tarihler olduğunu seçiyoruz.\n",
    "start_date = '2020-01-01'\n",
    "end_date = '2022-10-6'\n",
    " \n",
    "# Hangi verisini çekeceğimizi belirliyoruz.\n",
    "ticker = 'GOOGL'\n",
    " \n",
    "# Veriyi alıyoruz.\n",
    "data = yf.download(ticker, start_date, end_date)\n",
    "\n",
    "# Son 5 günün verisi :\n",
    "print(data.tail())"
   ]
  },
  {
   "cell_type": "code",
   "execution_count": 32,
   "id": "9a8101d9-2f5f-4e8a-8246-14d371f74284",
   "metadata": {},
   "outputs": [
    {
     "data": {
      "text/plain": [
       "(696, 6)"
      ]
     },
     "execution_count": 32,
     "metadata": {},
     "output_type": "execute_result"
    }
   ],
   "source": [
    "data.shape"
   ]
  },
  {
   "cell_type": "code",
   "execution_count": 33,
   "id": "3b5228b0-d655-4eb3-8eb7-aa04d0e003e4",
   "metadata": {},
   "outputs": [],
   "source": [
    "df = pd.DataFrame(data)"
   ]
  },
  {
   "cell_type": "code",
   "execution_count": 34,
   "id": "d0d95233-1562-4308-9c17-19befb32ee2e",
   "metadata": {},
   "outputs": [
    {
     "data": {
      "text/html": [
       "<div>\n",
       "<style scoped>\n",
       "    .dataframe tbody tr th:only-of-type {\n",
       "        vertical-align: middle;\n",
       "    }\n",
       "\n",
       "    .dataframe tbody tr th {\n",
       "        vertical-align: top;\n",
       "    }\n",
       "\n",
       "    .dataframe thead th {\n",
       "        text-align: right;\n",
       "    }\n",
       "</style>\n",
       "<table border=\"1\" class=\"dataframe\">\n",
       "  <thead>\n",
       "    <tr style=\"text-align: right;\">\n",
       "      <th></th>\n",
       "      <th>Open</th>\n",
       "      <th>High</th>\n",
       "      <th>Low</th>\n",
       "      <th>Close</th>\n",
       "      <th>Adj Close</th>\n",
       "      <th>Volume</th>\n",
       "    </tr>\n",
       "    <tr>\n",
       "      <th>Date</th>\n",
       "      <th></th>\n",
       "      <th></th>\n",
       "      <th></th>\n",
       "      <th></th>\n",
       "      <th></th>\n",
       "      <th></th>\n",
       "    </tr>\n",
       "  </thead>\n",
       "  <tbody>\n",
       "    <tr>\n",
       "      <th>2020-01-02 00:00:00-05:00</th>\n",
       "      <td>67.420502</td>\n",
       "      <td>68.433998</td>\n",
       "      <td>67.324501</td>\n",
       "      <td>68.433998</td>\n",
       "      <td>68.433998</td>\n",
       "      <td>27278000</td>\n",
       "    </tr>\n",
       "    <tr>\n",
       "      <th>2020-01-03 00:00:00-05:00</th>\n",
       "      <td>67.400002</td>\n",
       "      <td>68.687500</td>\n",
       "      <td>67.365997</td>\n",
       "      <td>68.075996</td>\n",
       "      <td>68.075996</td>\n",
       "      <td>23408000</td>\n",
       "    </tr>\n",
       "    <tr>\n",
       "      <th>2020-01-06 00:00:00-05:00</th>\n",
       "      <td>67.581497</td>\n",
       "      <td>69.916000</td>\n",
       "      <td>67.550003</td>\n",
       "      <td>69.890503</td>\n",
       "      <td>69.890503</td>\n",
       "      <td>46768000</td>\n",
       "    </tr>\n",
       "    <tr>\n",
       "      <th>2020-01-07 00:00:00-05:00</th>\n",
       "      <td>70.023003</td>\n",
       "      <td>70.175003</td>\n",
       "      <td>69.578003</td>\n",
       "      <td>69.755501</td>\n",
       "      <td>69.755501</td>\n",
       "      <td>34330000</td>\n",
       "    </tr>\n",
       "    <tr>\n",
       "      <th>2020-01-08 00:00:00-05:00</th>\n",
       "      <td>69.740997</td>\n",
       "      <td>70.592499</td>\n",
       "      <td>69.631500</td>\n",
       "      <td>70.251999</td>\n",
       "      <td>70.251999</td>\n",
       "      <td>35314000</td>\n",
       "    </tr>\n",
       "    <tr>\n",
       "      <th>...</th>\n",
       "      <td>...</td>\n",
       "      <td>...</td>\n",
       "      <td>...</td>\n",
       "      <td>...</td>\n",
       "      <td>...</td>\n",
       "      <td>...</td>\n",
       "    </tr>\n",
       "    <tr>\n",
       "      <th>2022-09-29 00:00:00-04:00</th>\n",
       "      <td>98.639999</td>\n",
       "      <td>98.639999</td>\n",
       "      <td>95.959999</td>\n",
       "      <td>97.419998</td>\n",
       "      <td>97.419998</td>\n",
       "      <td>31047200</td>\n",
       "    </tr>\n",
       "    <tr>\n",
       "      <th>2022-09-30 00:00:00-04:00</th>\n",
       "      <td>97.050003</td>\n",
       "      <td>98.900002</td>\n",
       "      <td>95.559998</td>\n",
       "      <td>95.650002</td>\n",
       "      <td>95.650002</td>\n",
       "      <td>32910100</td>\n",
       "    </tr>\n",
       "    <tr>\n",
       "      <th>2022-10-03 00:00:00-04:00</th>\n",
       "      <td>96.760002</td>\n",
       "      <td>99.290001</td>\n",
       "      <td>96.519997</td>\n",
       "      <td>98.639999</td>\n",
       "      <td>98.639999</td>\n",
       "      <td>27982000</td>\n",
       "    </tr>\n",
       "    <tr>\n",
       "      <th>2022-10-04 00:00:00-04:00</th>\n",
       "      <td>100.440002</td>\n",
       "      <td>101.839996</td>\n",
       "      <td>100.379997</td>\n",
       "      <td>101.639999</td>\n",
       "      <td>101.639999</td>\n",
       "      <td>28850800</td>\n",
       "    </tr>\n",
       "    <tr>\n",
       "      <th>2022-10-05 00:00:00-04:00</th>\n",
       "      <td>99.830002</td>\n",
       "      <td>101.930000</td>\n",
       "      <td>98.800003</td>\n",
       "      <td>101.430000</td>\n",
       "      <td>101.430000</td>\n",
       "      <td>22176900</td>\n",
       "    </tr>\n",
       "  </tbody>\n",
       "</table>\n",
       "<p>696 rows × 6 columns</p>\n",
       "</div>"
      ],
      "text/plain": [
       "                                 Open        High         Low       Close  \\\n",
       "Date                                                                        \n",
       "2020-01-02 00:00:00-05:00   67.420502   68.433998   67.324501   68.433998   \n",
       "2020-01-03 00:00:00-05:00   67.400002   68.687500   67.365997   68.075996   \n",
       "2020-01-06 00:00:00-05:00   67.581497   69.916000   67.550003   69.890503   \n",
       "2020-01-07 00:00:00-05:00   70.023003   70.175003   69.578003   69.755501   \n",
       "2020-01-08 00:00:00-05:00   69.740997   70.592499   69.631500   70.251999   \n",
       "...                               ...         ...         ...         ...   \n",
       "2022-09-29 00:00:00-04:00   98.639999   98.639999   95.959999   97.419998   \n",
       "2022-09-30 00:00:00-04:00   97.050003   98.900002   95.559998   95.650002   \n",
       "2022-10-03 00:00:00-04:00   96.760002   99.290001   96.519997   98.639999   \n",
       "2022-10-04 00:00:00-04:00  100.440002  101.839996  100.379997  101.639999   \n",
       "2022-10-05 00:00:00-04:00   99.830002  101.930000   98.800003  101.430000   \n",
       "\n",
       "                            Adj Close    Volume  \n",
       "Date                                             \n",
       "2020-01-02 00:00:00-05:00   68.433998  27278000  \n",
       "2020-01-03 00:00:00-05:00   68.075996  23408000  \n",
       "2020-01-06 00:00:00-05:00   69.890503  46768000  \n",
       "2020-01-07 00:00:00-05:00   69.755501  34330000  \n",
       "2020-01-08 00:00:00-05:00   70.251999  35314000  \n",
       "...                               ...       ...  \n",
       "2022-09-29 00:00:00-04:00   97.419998  31047200  \n",
       "2022-09-30 00:00:00-04:00   95.650002  32910100  \n",
       "2022-10-03 00:00:00-04:00   98.639999  27982000  \n",
       "2022-10-04 00:00:00-04:00  101.639999  28850800  \n",
       "2022-10-05 00:00:00-04:00  101.430000  22176900  \n",
       "\n",
       "[696 rows x 6 columns]"
      ]
     },
     "execution_count": 34,
     "metadata": {},
     "output_type": "execute_result"
    }
   ],
   "source": [
    "df"
   ]
  },
  {
   "cell_type": "code",
   "execution_count": 35,
   "id": "2f6f9cc2-f0b9-48de-b012-f85fa35a6619",
   "metadata": {},
   "outputs": [
    {
     "data": {
      "text/plain": [
       "DatetimeIndex(['2020-01-02 00:00:00-05:00', '2020-01-03 00:00:00-05:00',\n",
       "               '2020-01-06 00:00:00-05:00', '2020-01-07 00:00:00-05:00',\n",
       "               '2020-01-08 00:00:00-05:00', '2020-01-09 00:00:00-05:00',\n",
       "               '2020-01-10 00:00:00-05:00', '2020-01-13 00:00:00-05:00',\n",
       "               '2020-01-14 00:00:00-05:00', '2020-01-15 00:00:00-05:00',\n",
       "               ...\n",
       "               '2022-09-22 00:00:00-04:00', '2022-09-23 00:00:00-04:00',\n",
       "               '2022-09-26 00:00:00-04:00', '2022-09-27 00:00:00-04:00',\n",
       "               '2022-09-28 00:00:00-04:00', '2022-09-29 00:00:00-04:00',\n",
       "               '2022-09-30 00:00:00-04:00', '2022-10-03 00:00:00-04:00',\n",
       "               '2022-10-04 00:00:00-04:00', '2022-10-05 00:00:00-04:00'],\n",
       "              dtype='datetime64[ns, America/New_York]', name='Date', length=696, freq=None)"
      ]
     },
     "execution_count": 35,
     "metadata": {},
     "output_type": "execute_result"
    }
   ],
   "source": [
    "df.index"
   ]
  },
  {
   "cell_type": "code",
   "execution_count": 36,
   "id": "cd899a6a-b341-4d4d-8ce6-85aeaeb9d59b",
   "metadata": {},
   "outputs": [
    {
     "data": {
      "text/html": [
       "<div>\n",
       "<style scoped>\n",
       "    .dataframe tbody tr th:only-of-type {\n",
       "        vertical-align: middle;\n",
       "    }\n",
       "\n",
       "    .dataframe tbody tr th {\n",
       "        vertical-align: top;\n",
       "    }\n",
       "\n",
       "    .dataframe thead th {\n",
       "        text-align: right;\n",
       "    }\n",
       "</style>\n",
       "<table border=\"1\" class=\"dataframe\">\n",
       "  <thead>\n",
       "    <tr style=\"text-align: right;\">\n",
       "      <th></th>\n",
       "      <th>count</th>\n",
       "      <th>mean</th>\n",
       "      <th>std</th>\n",
       "      <th>min</th>\n",
       "      <th>25%</th>\n",
       "      <th>50%</th>\n",
       "      <th>75%</th>\n",
       "      <th>max</th>\n",
       "    </tr>\n",
       "  </thead>\n",
       "  <tbody>\n",
       "    <tr>\n",
       "      <th>Open</th>\n",
       "      <td>696.0</td>\n",
       "      <td>1.050583e+02</td>\n",
       "      <td>2.748902e+01</td>\n",
       "      <td>5.281850e+01</td>\n",
       "      <td>7.634650e+01</td>\n",
       "      <td>1.084775e+02</td>\n",
       "      <td>1.307728e+02</td>\n",
       "      <td>1.512500e+02</td>\n",
       "    </tr>\n",
       "    <tr>\n",
       "      <th>High</th>\n",
       "      <td>696.0</td>\n",
       "      <td>1.062635e+02</td>\n",
       "      <td>2.760457e+01</td>\n",
       "      <td>5.334550e+01</td>\n",
       "      <td>7.776275e+01</td>\n",
       "      <td>1.107950e+02</td>\n",
       "      <td>1.321145e+02</td>\n",
       "      <td>1.515465e+02</td>\n",
       "    </tr>\n",
       "    <tr>\n",
       "      <th>Low</th>\n",
       "      <td>696.0</td>\n",
       "      <td>1.038388e+02</td>\n",
       "      <td>2.723866e+01</td>\n",
       "      <td>5.044350e+01</td>\n",
       "      <td>7.557225e+01</td>\n",
       "      <td>1.070300e+02</td>\n",
       "      <td>1.277844e+02</td>\n",
       "      <td>1.488990e+02</td>\n",
       "    </tr>\n",
       "    <tr>\n",
       "      <th>Close</th>\n",
       "      <td>696.0</td>\n",
       "      <td>1.050766e+02</td>\n",
       "      <td>2.739923e+01</td>\n",
       "      <td>5.270650e+01</td>\n",
       "      <td>7.628775e+01</td>\n",
       "      <td>1.089240e+02</td>\n",
       "      <td>1.298278e+02</td>\n",
       "      <td>1.498385e+02</td>\n",
       "    </tr>\n",
       "    <tr>\n",
       "      <th>Adj Close</th>\n",
       "      <td>696.0</td>\n",
       "      <td>1.050766e+02</td>\n",
       "      <td>2.739923e+01</td>\n",
       "      <td>5.270650e+01</td>\n",
       "      <td>7.628775e+01</td>\n",
       "      <td>1.089240e+02</td>\n",
       "      <td>1.298278e+02</td>\n",
       "      <td>1.498385e+02</td>\n",
       "    </tr>\n",
       "    <tr>\n",
       "      <th>Volume</th>\n",
       "      <td>696.0</td>\n",
       "      <td>3.534782e+07</td>\n",
       "      <td>1.568067e+07</td>\n",
       "      <td>9.312000e+06</td>\n",
       "      <td>2.513400e+07</td>\n",
       "      <td>3.155600e+07</td>\n",
       "      <td>4.038300e+07</td>\n",
       "      <td>1.232000e+08</td>\n",
       "    </tr>\n",
       "  </tbody>\n",
       "</table>\n",
       "</div>"
      ],
      "text/plain": [
       "           count          mean           std           min           25%  \\\n",
       "Open       696.0  1.050583e+02  2.748902e+01  5.281850e+01  7.634650e+01   \n",
       "High       696.0  1.062635e+02  2.760457e+01  5.334550e+01  7.776275e+01   \n",
       "Low        696.0  1.038388e+02  2.723866e+01  5.044350e+01  7.557225e+01   \n",
       "Close      696.0  1.050766e+02  2.739923e+01  5.270650e+01  7.628775e+01   \n",
       "Adj Close  696.0  1.050766e+02  2.739923e+01  5.270650e+01  7.628775e+01   \n",
       "Volume     696.0  3.534782e+07  1.568067e+07  9.312000e+06  2.513400e+07   \n",
       "\n",
       "                    50%           75%           max  \n",
       "Open       1.084775e+02  1.307728e+02  1.512500e+02  \n",
       "High       1.107950e+02  1.321145e+02  1.515465e+02  \n",
       "Low        1.070300e+02  1.277844e+02  1.488990e+02  \n",
       "Close      1.089240e+02  1.298278e+02  1.498385e+02  \n",
       "Adj Close  1.089240e+02  1.298278e+02  1.498385e+02  \n",
       "Volume     3.155600e+07  4.038300e+07  1.232000e+08  "
      ]
     },
     "execution_count": 36,
     "metadata": {},
     "output_type": "execute_result"
    }
   ],
   "source": [
    "df.describe().T"
   ]
  },
  {
   "cell_type": "code",
   "execution_count": 37,
   "id": "1ddc0761-fd71-4a14-8720-b83da57653d1",
   "metadata": {},
   "outputs": [
    {
     "name": "stdout",
     "output_type": "stream",
     "text": [
      "<class 'pandas.core.frame.DataFrame'>\n",
      "DatetimeIndex: 696 entries, 2020-01-02 00:00:00-05:00 to 2022-10-05 00:00:00-04:00\n",
      "Data columns (total 6 columns):\n",
      " #   Column     Non-Null Count  Dtype  \n",
      "---  ------     --------------  -----  \n",
      " 0   Open       696 non-null    float64\n",
      " 1   High       696 non-null    float64\n",
      " 2   Low        696 non-null    float64\n",
      " 3   Close      696 non-null    float64\n",
      " 4   Adj Close  696 non-null    float64\n",
      " 5   Volume     696 non-null    int64  \n",
      "dtypes: float64(5), int64(1)\n",
      "memory usage: 38.1 KB\n"
     ]
    }
   ],
   "source": [
    "df.info()"
   ]
  },
  {
   "cell_type": "code",
   "execution_count": 38,
   "id": "ec493362-4851-4e3e-947e-389e75d8f40f",
   "metadata": {},
   "outputs": [
    {
     "data": {
      "image/png": "[encoded data removed]",
      "text/plain": [
       "<Figure size 1080x360 with 1 Axes>"
      ]
     },
     "metadata": {
      "needs_background": "light"
     },
     "output_type": "display_data"
    }
   ],
   "source": [
    "plt.figure(figsize=(15,5))\n",
    "plt.plot(df['Close'])\n",
    "plt.title('Google Close price.', fontsize=15)\n",
    "plt.ylabel('Price in dollars.')\n",
    "plt.xlabel('Date')\n",
    "plt.show()"
   ]
  },
  {
   "cell_type": "markdown",
   "id": "83fd88e2-66d1-43da-bbf4-086187d16d12",
   "metadata": {},
   "source": [
    "## Data Manipulation"
   ]
  },
  {
   "cell_type": "code",
   "execution_count": 39,
   "id": "9b91d6a0-51b4-4870-a053-ac73d2f8ea1d",
   "metadata": {},
   "outputs": [],
   "source": [
    "df = df.reset_index()"
   ]
  },
  {
   "cell_type": "code",
   "execution_count": 40,
   "id": "9b084b48-361f-4926-8f64-0bacab4bd586",
   "metadata": {},
   "outputs": [
    {
     "data": {
      "text/html": [
       "<div>\n",
       "<style scoped>\n",
       "    .dataframe tbody tr th:only-of-type {\n",
       "        vertical-align: middle;\n",
       "    }\n",
       "\n",
       "    .dataframe tbody tr th {\n",
       "        vertical-align: top;\n",
       "    }\n",
       "\n",
       "    .dataframe thead th {\n",
       "        text-align: right;\n",
       "    }\n",
       "</style>\n",
       "<table border=\"1\" class=\"dataframe\">\n",
       "  <thead>\n",
       "    <tr style=\"text-align: right;\">\n",
       "      <th></th>\n",
       "      <th>Date</th>\n",
       "      <th>Open</th>\n",
       "      <th>High</th>\n",
       "      <th>Low</th>\n",
       "      <th>Close</th>\n",
       "      <th>Adj Close</th>\n",
       "      <th>Volume</th>\n",
       "    </tr>\n",
       "  </thead>\n",
       "  <tbody>\n",
       "    <tr>\n",
       "      <th>0</th>\n",
       "      <td>2020-01-02 00:00:00-05:00</td>\n",
       "      <td>67.420502</td>\n",
       "      <td>68.433998</td>\n",
       "      <td>67.324501</td>\n",
       "      <td>68.433998</td>\n",
       "      <td>68.433998</td>\n",
       "      <td>27278000</td>\n",
       "    </tr>\n",
       "    <tr>\n",
       "      <th>1</th>\n",
       "      <td>2020-01-03 00:00:00-05:00</td>\n",
       "      <td>67.400002</td>\n",
       "      <td>68.687500</td>\n",
       "      <td>67.365997</td>\n",
       "      <td>68.075996</td>\n",
       "      <td>68.075996</td>\n",
       "      <td>23408000</td>\n",
       "    </tr>\n",
       "    <tr>\n",
       "      <th>2</th>\n",
       "      <td>2020-01-06 00:00:00-05:00</td>\n",
       "      <td>67.581497</td>\n",
       "      <td>69.916000</td>\n",
       "      <td>67.550003</td>\n",
       "      <td>69.890503</td>\n",
       "      <td>69.890503</td>\n",
       "      <td>46768000</td>\n",
       "    </tr>\n",
       "    <tr>\n",
       "      <th>3</th>\n",
       "      <td>2020-01-07 00:00:00-05:00</td>\n",
       "      <td>70.023003</td>\n",
       "      <td>70.175003</td>\n",
       "      <td>69.578003</td>\n",
       "      <td>69.755501</td>\n",
       "      <td>69.755501</td>\n",
       "      <td>34330000</td>\n",
       "    </tr>\n",
       "    <tr>\n",
       "      <th>4</th>\n",
       "      <td>2020-01-08 00:00:00-05:00</td>\n",
       "      <td>69.740997</td>\n",
       "      <td>70.592499</td>\n",
       "      <td>69.631500</td>\n",
       "      <td>70.251999</td>\n",
       "      <td>70.251999</td>\n",
       "      <td>35314000</td>\n",
       "    </tr>\n",
       "    <tr>\n",
       "      <th>...</th>\n",
       "      <td>...</td>\n",
       "      <td>...</td>\n",
       "      <td>...</td>\n",
       "      <td>...</td>\n",
       "      <td>...</td>\n",
       "      <td>...</td>\n",
       "      <td>...</td>\n",
       "    </tr>\n",
       "    <tr>\n",
       "      <th>691</th>\n",
       "      <td>2022-09-29 00:00:00-04:00</td>\n",
       "      <td>98.639999</td>\n",
       "      <td>98.639999</td>\n",
       "      <td>95.959999</td>\n",
       "      <td>97.419998</td>\n",
       "      <td>97.419998</td>\n",
       "      <td>31047200</td>\n",
       "    </tr>\n",
       "    <tr>\n",
       "      <th>692</th>\n",
       "      <td>2022-09-30 00:00:00-04:00</td>\n",
       "      <td>97.050003</td>\n",
       "      <td>98.900002</td>\n",
       "      <td>95.559998</td>\n",
       "      <td>95.650002</td>\n",
       "      <td>95.650002</td>\n",
       "      <td>32910100</td>\n",
       "    </tr>\n",
       "    <tr>\n",
       "      <th>693</th>\n",
       "      <td>2022-10-03 00:00:00-04:00</td>\n",
       "      <td>96.760002</td>\n",
       "      <td>99.290001</td>\n",
       "      <td>96.519997</td>\n",
       "      <td>98.639999</td>\n",
       "      <td>98.639999</td>\n",
       "      <td>27982000</td>\n",
       "    </tr>\n",
       "    <tr>\n",
       "      <th>694</th>\n",
       "      <td>2022-10-04 00:00:00-04:00</td>\n",
       "      <td>100.440002</td>\n",
       "      <td>101.839996</td>\n",
       "      <td>100.379997</td>\n",
       "      <td>101.639999</td>\n",
       "      <td>101.639999</td>\n",
       "      <td>28850800</td>\n",
       "    </tr>\n",
       "    <tr>\n",
       "      <th>695</th>\n",
       "      <td>2022-10-05 00:00:00-04:00</td>\n",
       "      <td>99.830002</td>\n",
       "      <td>101.930000</td>\n",
       "      <td>98.800003</td>\n",
       "      <td>101.430000</td>\n",
       "      <td>101.430000</td>\n",
       "      <td>22176900</td>\n",
       "    </tr>\n",
       "  </tbody>\n",
       "</table>\n",
       "<p>696 rows × 7 columns</p>\n",
       "</div>"
      ],
      "text/plain": [
       "                         Date        Open        High         Low       Close  \\\n",
       "0   2020-01-02 00:00:00-05:00   67.420502   68.433998   67.324501   68.433998   \n",
       "1   2020-01-03 00:00:00-05:00   67.400002   68.687500   67.365997   68.075996   \n",
       "2   2020-01-06 00:00:00-05:00   67.581497   69.916000   67.550003   69.890503   \n",
       "3   2020-01-07 00:00:00-05:00   70.023003   70.175003   69.578003   69.755501   \n",
       "4   2020-01-08 00:00:00-05:00   69.740997   70.592499   69.631500   70.251999   \n",
       "..                        ...         ...         ...         ...         ...   \n",
       "691 2022-09-29 00:00:00-04:00   98.639999   98.639999   95.959999   97.419998   \n",
       "692 2022-09-30 00:00:00-04:00   97.050003   98.900002   95.559998   95.650002   \n",
       "693 2022-10-03 00:00:00-04:00   96.760002   99.290001   96.519997   98.639999   \n",
       "694 2022-10-04 00:00:00-04:00  100.440002  101.839996  100.379997  101.639999   \n",
       "695 2022-10-05 00:00:00-04:00   99.830002  101.930000   98.800003  101.430000   \n",
       "\n",
       "      Adj Close    Volume  \n",
       "0     68.433998  27278000  \n",
       "1     68.075996  23408000  \n",
       "2     69.890503  46768000  \n",
       "3     69.755501  34330000  \n",
       "4     70.251999  35314000  \n",
       "..          ...       ...  \n",
       "691   97.419998  31047200  \n",
       "692   95.650002  32910100  \n",
       "693   98.639999  27982000  \n",
       "694  101.639999  28850800  \n",
       "695  101.430000  22176900  \n",
       "\n",
       "[696 rows x 7 columns]"
      ]
     },
     "execution_count": 40,
     "metadata": {},
     "output_type": "execute_result"
    }
   ],
   "source": [
    "df"
   ]
  },
  {
   "cell_type": "code",
   "execution_count": 41,
   "id": "bd991c2b-bfa9-4cee-8446-e12e120f97d5",
   "metadata": {},
   "outputs": [],
   "source": [
    "df.columns = df.columns.str.lower()"
   ]
  },
  {
   "cell_type": "code",
   "execution_count": 42,
   "id": "1e2cbdc1-7abc-401c-ab41-f270f5ee4e3a",
   "metadata": {},
   "outputs": [
    {
     "data": {
      "text/html": [
       "<div>\n",
       "<style scoped>\n",
       "    .dataframe tbody tr th:only-of-type {\n",
       "        vertical-align: middle;\n",
       "    }\n",
       "\n",
       "    .dataframe tbody tr th {\n",
       "        vertical-align: top;\n",
       "    }\n",
       "\n",
       "    .dataframe thead th {\n",
       "        text-align: right;\n",
       "    }\n",
       "</style>\n",
       "<table border=\"1\" class=\"dataframe\">\n",
       "  <thead>\n",
       "    <tr style=\"text-align: right;\">\n",
       "      <th></th>\n",
       "      <th>date</th>\n",
       "      <th>open</th>\n",
       "      <th>high</th>\n",
       "      <th>low</th>\n",
       "      <th>close</th>\n",
       "      <th>adj close</th>\n",
       "      <th>volume</th>\n",
       "    </tr>\n",
       "  </thead>\n",
       "  <tbody>\n",
       "    <tr>\n",
       "      <th>0</th>\n",
       "      <td>2020-01-02 00:00:00-05:00</td>\n",
       "      <td>67.420502</td>\n",
       "      <td>68.433998</td>\n",
       "      <td>67.324501</td>\n",
       "      <td>68.433998</td>\n",
       "      <td>68.433998</td>\n",
       "      <td>27278000</td>\n",
       "    </tr>\n",
       "    <tr>\n",
       "      <th>1</th>\n",
       "      <td>2020-01-03 00:00:00-05:00</td>\n",
       "      <td>67.400002</td>\n",
       "      <td>68.687500</td>\n",
       "      <td>67.365997</td>\n",
       "      <td>68.075996</td>\n",
       "      <td>68.075996</td>\n",
       "      <td>23408000</td>\n",
       "    </tr>\n",
       "    <tr>\n",
       "      <th>2</th>\n",
       "      <td>2020-01-06 00:00:00-05:00</td>\n",
       "      <td>67.581497</td>\n",
       "      <td>69.916000</td>\n",
       "      <td>67.550003</td>\n",
       "      <td>69.890503</td>\n",
       "      <td>69.890503</td>\n",
       "      <td>46768000</td>\n",
       "    </tr>\n",
       "    <tr>\n",
       "      <th>3</th>\n",
       "      <td>2020-01-07 00:00:00-05:00</td>\n",
       "      <td>70.023003</td>\n",
       "      <td>70.175003</td>\n",
       "      <td>69.578003</td>\n",
       "      <td>69.755501</td>\n",
       "      <td>69.755501</td>\n",
       "      <td>34330000</td>\n",
       "    </tr>\n",
       "    <tr>\n",
       "      <th>4</th>\n",
       "      <td>2020-01-08 00:00:00-05:00</td>\n",
       "      <td>69.740997</td>\n",
       "      <td>70.592499</td>\n",
       "      <td>69.631500</td>\n",
       "      <td>70.251999</td>\n",
       "      <td>70.251999</td>\n",
       "      <td>35314000</td>\n",
       "    </tr>\n",
       "    <tr>\n",
       "      <th>...</th>\n",
       "      <td>...</td>\n",
       "      <td>...</td>\n",
       "      <td>...</td>\n",
       "      <td>...</td>\n",
       "      <td>...</td>\n",
       "      <td>...</td>\n",
       "      <td>...</td>\n",
       "    </tr>\n",
       "    <tr>\n",
       "      <th>691</th>\n",
       "      <td>2022-09-29 00:00:00-04:00</td>\n",
       "      <td>98.639999</td>\n",
       "      <td>98.639999</td>\n",
       "      <td>95.959999</td>\n",
       "      <td>97.419998</td>\n",
       "      <td>97.419998</td>\n",
       "      <td>31047200</td>\n",
       "    </tr>\n",
       "    <tr>\n",
       "      <th>692</th>\n",
       "      <td>2022-09-30 00:00:00-04:00</td>\n",
       "      <td>97.050003</td>\n",
       "      <td>98.900002</td>\n",
       "      <td>95.559998</td>\n",
       "      <td>95.650002</td>\n",
       "      <td>95.650002</td>\n",
       "      <td>32910100</td>\n",
       "    </tr>\n",
       "    <tr>\n",
       "      <th>693</th>\n",
       "      <td>2022-10-03 00:00:00-04:00</td>\n",
       "      <td>96.760002</td>\n",
       "      <td>99.290001</td>\n",
       "      <td>96.519997</td>\n",
       "      <td>98.639999</td>\n",
       "      <td>98.639999</td>\n",
       "      <td>27982000</td>\n",
       "    </tr>\n",
       "    <tr>\n",
       "      <th>694</th>\n",
       "      <td>2022-10-04 00:00:00-04:00</td>\n",
       "      <td>100.440002</td>\n",
       "      <td>101.839996</td>\n",
       "      <td>100.379997</td>\n",
       "      <td>101.639999</td>\n",
       "      <td>101.639999</td>\n",
       "      <td>28850800</td>\n",
       "    </tr>\n",
       "    <tr>\n",
       "      <th>695</th>\n",
       "      <td>2022-10-05 00:00:00-04:00</td>\n",
       "      <td>99.830002</td>\n",
       "      <td>101.930000</td>\n",
       "      <td>98.800003</td>\n",
       "      <td>101.430000</td>\n",
       "      <td>101.430000</td>\n",
       "      <td>22176900</td>\n",
       "    </tr>\n",
       "  </tbody>\n",
       "</table>\n",
       "<p>696 rows × 7 columns</p>\n",
       "</div>"
      ],
      "text/plain": [
       "                         date        open        high         low       close  \\\n",
       "0   2020-01-02 00:00:00-05:00   67.420502   68.433998   67.324501   68.433998   \n",
       "1   2020-01-03 00:00:00-05:00   67.400002   68.687500   67.365997   68.075996   \n",
       "2   2020-01-06 00:00:00-05:00   67.581497   69.916000   67.550003   69.890503   \n",
       "3   2020-01-07 00:00:00-05:00   70.023003   70.175003   69.578003   69.755501   \n",
       "4   2020-01-08 00:00:00-05:00   69.740997   70.592499   69.631500   70.251999   \n",
       "..                        ...         ...         ...         ...         ...   \n",
       "691 2022-09-29 00:00:00-04:00   98.639999   98.639999   95.959999   97.419998   \n",
       "692 2022-09-30 00:00:00-04:00   97.050003   98.900002   95.559998   95.650002   \n",
       "693 2022-10-03 00:00:00-04:00   96.760002   99.290001   96.519997   98.639999   \n",
       "694 2022-10-04 00:00:00-04:00  100.440002  101.839996  100.379997  101.639999   \n",
       "695 2022-10-05 00:00:00-04:00   99.830002  101.930000   98.800003  101.430000   \n",
       "\n",
       "      adj close    volume  \n",
       "0     68.433998  27278000  \n",
       "1     68.075996  23408000  \n",
       "2     69.890503  46768000  \n",
       "3     69.755501  34330000  \n",
       "4     70.251999  35314000  \n",
       "..          ...       ...  \n",
       "691   97.419998  31047200  \n",
       "692   95.650002  32910100  \n",
       "693   98.639999  27982000  \n",
       "694  101.639999  28850800  \n",
       "695  101.430000  22176900  \n",
       "\n",
       "[696 rows x 7 columns]"
      ]
     },
     "execution_count": 42,
     "metadata": {},
     "output_type": "execute_result"
    }
   ],
   "source": [
    "df"
   ]
  },
  {
   "cell_type": "code",
   "execution_count": 73,
   "id": "1557e716-04a1-4ad3-8aaa-646a4491a6e5",
   "metadata": {},
   "outputs": [],
   "source": [
    "dfx = df.copy"
   ]
  },
  {
   "cell_type": "code",
   "execution_count": 78,
   "id": "c31ec003-2f7a-4c3a-8148-53c6141abfbc",
   "metadata": {},
   "outputs": [],
   "source": [
    "df['date'] = df['date'].dt.strftime('%m/%d/%Y')"
   ]
  },
  {
   "cell_type": "code",
   "execution_count": 79,
   "id": "b6224402-2364-4b98-8915-8de79dc3ead6",
   "metadata": {},
   "outputs": [
    {
     "data": {
      "text/html": [
       "<div>\n",
       "<style scoped>\n",
       "    .dataframe tbody tr th:only-of-type {\n",
       "        vertical-align: middle;\n",
       "    }\n",
       "\n",
       "    .dataframe tbody tr th {\n",
       "        vertical-align: top;\n",
       "    }\n",
       "\n",
       "    .dataframe thead th {\n",
       "        text-align: right;\n",
       "    }\n",
       "</style>\n",
       "<table border=\"1\" class=\"dataframe\">\n",
       "  <thead>\n",
       "    <tr style=\"text-align: right;\">\n",
       "      <th></th>\n",
       "      <th>date</th>\n",
       "      <th>open</th>\n",
       "      <th>high</th>\n",
       "      <th>low</th>\n",
       "      <th>close</th>\n",
       "      <th>volume</th>\n",
       "    </tr>\n",
       "  </thead>\n",
       "  <tbody>\n",
       "    <tr>\n",
       "      <th>0</th>\n",
       "      <td>01/02/2020</td>\n",
       "      <td>67.420502</td>\n",
       "      <td>68.433998</td>\n",
       "      <td>67.324501</td>\n",
       "      <td>68.433998</td>\n",
       "      <td>27278000</td>\n",
       "    </tr>\n",
       "    <tr>\n",
       "      <th>1</th>\n",
       "      <td>01/03/2020</td>\n",
       "      <td>67.400002</td>\n",
       "      <td>68.687500</td>\n",
       "      <td>67.365997</td>\n",
       "      <td>68.075996</td>\n",
       "      <td>23408000</td>\n",
       "    </tr>\n",
       "    <tr>\n",
       "      <th>2</th>\n",
       "      <td>01/06/2020</td>\n",
       "      <td>67.581497</td>\n",
       "      <td>69.916000</td>\n",
       "      <td>67.550003</td>\n",
       "      <td>69.890503</td>\n",
       "      <td>46768000</td>\n",
       "    </tr>\n",
       "    <tr>\n",
       "      <th>3</th>\n",
       "      <td>01/07/2020</td>\n",
       "      <td>70.023003</td>\n",
       "      <td>70.175003</td>\n",
       "      <td>69.578003</td>\n",
       "      <td>69.755501</td>\n",
       "      <td>34330000</td>\n",
       "    </tr>\n",
       "    <tr>\n",
       "      <th>4</th>\n",
       "      <td>01/08/2020</td>\n",
       "      <td>69.740997</td>\n",
       "      <td>70.592499</td>\n",
       "      <td>69.631500</td>\n",
       "      <td>70.251999</td>\n",
       "      <td>35314000</td>\n",
       "    </tr>\n",
       "    <tr>\n",
       "      <th>...</th>\n",
       "      <td>...</td>\n",
       "      <td>...</td>\n",
       "      <td>...</td>\n",
       "      <td>...</td>\n",
       "      <td>...</td>\n",
       "      <td>...</td>\n",
       "    </tr>\n",
       "    <tr>\n",
       "      <th>691</th>\n",
       "      <td>09/29/2022</td>\n",
       "      <td>98.639999</td>\n",
       "      <td>98.639999</td>\n",
       "      <td>95.959999</td>\n",
       "      <td>97.419998</td>\n",
       "      <td>31047200</td>\n",
       "    </tr>\n",
       "    <tr>\n",
       "      <th>692</th>\n",
       "      <td>09/30/2022</td>\n",
       "      <td>97.050003</td>\n",
       "      <td>98.900002</td>\n",
       "      <td>95.559998</td>\n",
       "      <td>95.650002</td>\n",
       "      <td>32910100</td>\n",
       "    </tr>\n",
       "    <tr>\n",
       "      <th>693</th>\n",
       "      <td>10/03/2022</td>\n",
       "      <td>96.760002</td>\n",
       "      <td>99.290001</td>\n",
       "      <td>96.519997</td>\n",
       "      <td>98.639999</td>\n",
       "      <td>27982000</td>\n",
       "    </tr>\n",
       "    <tr>\n",
       "      <th>694</th>\n",
       "      <td>10/04/2022</td>\n",
       "      <td>100.440002</td>\n",
       "      <td>101.839996</td>\n",
       "      <td>100.379997</td>\n",
       "      <td>101.639999</td>\n",
       "      <td>28850800</td>\n",
       "    </tr>\n",
       "    <tr>\n",
       "      <th>695</th>\n",
       "      <td>10/05/2022</td>\n",
       "      <td>99.830002</td>\n",
       "      <td>101.930000</td>\n",
       "      <td>98.800003</td>\n",
       "      <td>101.430000</td>\n",
       "      <td>22176900</td>\n",
       "    </tr>\n",
       "  </tbody>\n",
       "</table>\n",
       "<p>696 rows × 6 columns</p>\n",
       "</div>"
      ],
      "text/plain": [
       "           date        open        high         low       close    volume\n",
       "0    01/02/2020   67.420502   68.433998   67.324501   68.433998  27278000\n",
       "1    01/03/2020   67.400002   68.687500   67.365997   68.075996  23408000\n",
       "2    01/06/2020   67.581497   69.916000   67.550003   69.890503  46768000\n",
       "3    01/07/2020   70.023003   70.175003   69.578003   69.755501  34330000\n",
       "4    01/08/2020   69.740997   70.592499   69.631500   70.251999  35314000\n",
       "..          ...         ...         ...         ...         ...       ...\n",
       "691  09/29/2022   98.639999   98.639999   95.959999   97.419998  31047200\n",
       "692  09/30/2022   97.050003   98.900002   95.559998   95.650002  32910100\n",
       "693  10/03/2022   96.760002   99.290001   96.519997   98.639999  27982000\n",
       "694  10/04/2022  100.440002  101.839996  100.379997  101.639999  28850800\n",
       "695  10/05/2022   99.830002  101.930000   98.800003  101.430000  22176900\n",
       "\n",
       "[696 rows x 6 columns]"
      ]
     },
     "execution_count": 79,
     "metadata": {},
     "output_type": "execute_result"
    }
   ],
   "source": [
    "df"
   ]
  },
  {
   "cell_type": "markdown",
   "id": "7c190d7b-c38b-454a-bcc5-4cb08bb7b8b9",
   "metadata": {},
   "source": [
    "## Close ve Adj Close her satır aynı mı kontrol et."
   ]
  },
  {
   "cell_type": "code",
   "execution_count": 44,
   "id": "6a2838cd-4144-4a21-800f-e06ac90a8763",
   "metadata": {},
   "outputs": [
    {
     "data": {
      "text/plain": [
       "(696, 7)"
      ]
     },
     "execution_count": 44,
     "metadata": {},
     "output_type": "execute_result"
    }
   ],
   "source": [
    "df[df['close'] == df['adj close']].shape"
   ]
  },
  {
   "cell_type": "code",
   "execution_count": 46,
   "id": "8934678c-46ab-4ce3-b339-8a47ca15c006",
   "metadata": {},
   "outputs": [],
   "source": [
    "df = df.drop([\"adj close\"], axis = 1)"
   ]
  },
  {
   "cell_type": "code",
   "execution_count": 47,
   "id": "be8c1e03-e50a-4e44-862b-559f932381d0",
   "metadata": {},
   "outputs": [
    {
     "data": {
      "text/html": [
       "<div>\n",
       "<style scoped>\n",
       "    .dataframe tbody tr th:only-of-type {\n",
       "        vertical-align: middle;\n",
       "    }\n",
       "\n",
       "    .dataframe tbody tr th {\n",
       "        vertical-align: top;\n",
       "    }\n",
       "\n",
       "    .dataframe thead th {\n",
       "        text-align: right;\n",
       "    }\n",
       "</style>\n",
       "<table border=\"1\" class=\"dataframe\">\n",
       "  <thead>\n",
       "    <tr style=\"text-align: right;\">\n",
       "      <th></th>\n",
       "      <th>date</th>\n",
       "      <th>open</th>\n",
       "      <th>high</th>\n",
       "      <th>low</th>\n",
       "      <th>close</th>\n",
       "      <th>volume</th>\n",
       "    </tr>\n",
       "  </thead>\n",
       "  <tbody>\n",
       "    <tr>\n",
       "      <th>0</th>\n",
       "      <td>2020-01-02 00:00:00-05:00</td>\n",
       "      <td>67.420502</td>\n",
       "      <td>68.433998</td>\n",
       "      <td>67.324501</td>\n",
       "      <td>68.433998</td>\n",
       "      <td>27278000</td>\n",
       "    </tr>\n",
       "    <tr>\n",
       "      <th>1</th>\n",
       "      <td>2020-01-03 00:00:00-05:00</td>\n",
       "      <td>67.400002</td>\n",
       "      <td>68.687500</td>\n",
       "      <td>67.365997</td>\n",
       "      <td>68.075996</td>\n",
       "      <td>23408000</td>\n",
       "    </tr>\n",
       "    <tr>\n",
       "      <th>2</th>\n",
       "      <td>2020-01-06 00:00:00-05:00</td>\n",
       "      <td>67.581497</td>\n",
       "      <td>69.916000</td>\n",
       "      <td>67.550003</td>\n",
       "      <td>69.890503</td>\n",
       "      <td>46768000</td>\n",
       "    </tr>\n",
       "    <tr>\n",
       "      <th>3</th>\n",
       "      <td>2020-01-07 00:00:00-05:00</td>\n",
       "      <td>70.023003</td>\n",
       "      <td>70.175003</td>\n",
       "      <td>69.578003</td>\n",
       "      <td>69.755501</td>\n",
       "      <td>34330000</td>\n",
       "    </tr>\n",
       "    <tr>\n",
       "      <th>4</th>\n",
       "      <td>2020-01-08 00:00:00-05:00</td>\n",
       "      <td>69.740997</td>\n",
       "      <td>70.592499</td>\n",
       "      <td>69.631500</td>\n",
       "      <td>70.251999</td>\n",
       "      <td>35314000</td>\n",
       "    </tr>\n",
       "    <tr>\n",
       "      <th>...</th>\n",
       "      <td>...</td>\n",
       "      <td>...</td>\n",
       "      <td>...</td>\n",
       "      <td>...</td>\n",
       "      <td>...</td>\n",
       "      <td>...</td>\n",
       "    </tr>\n",
       "    <tr>\n",
       "      <th>691</th>\n",
       "      <td>2022-09-29 00:00:00-04:00</td>\n",
       "      <td>98.639999</td>\n",
       "      <td>98.639999</td>\n",
       "      <td>95.959999</td>\n",
       "      <td>97.419998</td>\n",
       "      <td>31047200</td>\n",
       "    </tr>\n",
       "    <tr>\n",
       "      <th>692</th>\n",
       "      <td>2022-09-30 00:00:00-04:00</td>\n",
       "      <td>97.050003</td>\n",
       "      <td>98.900002</td>\n",
       "      <td>95.559998</td>\n",
       "      <td>95.650002</td>\n",
       "      <td>32910100</td>\n",
       "    </tr>\n",
       "    <tr>\n",
       "      <th>693</th>\n",
       "      <td>2022-10-03 00:00:00-04:00</td>\n",
       "      <td>96.760002</td>\n",
       "      <td>99.290001</td>\n",
       "      <td>96.519997</td>\n",
       "      <td>98.639999</td>\n",
       "      <td>27982000</td>\n",
       "    </tr>\n",
       "    <tr>\n",
       "      <th>694</th>\n",
       "      <td>2022-10-04 00:00:00-04:00</td>\n",
       "      <td>100.440002</td>\n",
       "      <td>101.839996</td>\n",
       "      <td>100.379997</td>\n",
       "      <td>101.639999</td>\n",
       "      <td>28850800</td>\n",
       "    </tr>\n",
       "    <tr>\n",
       "      <th>695</th>\n",
       "      <td>2022-10-05 00:00:00-04:00</td>\n",
       "      <td>99.830002</td>\n",
       "      <td>101.930000</td>\n",
       "      <td>98.800003</td>\n",
       "      <td>101.430000</td>\n",
       "      <td>22176900</td>\n",
       "    </tr>\n",
       "  </tbody>\n",
       "</table>\n",
       "<p>696 rows × 6 columns</p>\n",
       "</div>"
      ],
      "text/plain": [
       "                         date        open        high         low       close  \\\n",
       "0   2020-01-02 00:00:00-05:00   67.420502   68.433998   67.324501   68.433998   \n",
       "1   2020-01-03 00:00:00-05:00   67.400002   68.687500   67.365997   68.075996   \n",
       "2   2020-01-06 00:00:00-05:00   67.581497   69.916000   67.550003   69.890503   \n",
       "3   2020-01-07 00:00:00-05:00   70.023003   70.175003   69.578003   69.755501   \n",
       "4   2020-01-08 00:00:00-05:00   69.740997   70.592499   69.631500   70.251999   \n",
       "..                        ...         ...         ...         ...         ...   \n",
       "691 2022-09-29 00:00:00-04:00   98.639999   98.639999   95.959999   97.419998   \n",
       "692 2022-09-30 00:00:00-04:00   97.050003   98.900002   95.559998   95.650002   \n",
       "693 2022-10-03 00:00:00-04:00   96.760002   99.290001   96.519997   98.639999   \n",
       "694 2022-10-04 00:00:00-04:00  100.440002  101.839996  100.379997  101.639999   \n",
       "695 2022-10-05 00:00:00-04:00   99.830002  101.930000   98.800003  101.430000   \n",
       "\n",
       "       volume  \n",
       "0    27278000  \n",
       "1    23408000  \n",
       "2    46768000  \n",
       "3    34330000  \n",
       "4    35314000  \n",
       "..        ...  \n",
       "691  31047200  \n",
       "692  32910100  \n",
       "693  27982000  \n",
       "694  28850800  \n",
       "695  22176900  \n",
       "\n",
       "[696 rows x 6 columns]"
      ]
     },
     "execution_count": 47,
     "metadata": {},
     "output_type": "execute_result"
    }
   ],
   "source": [
    "df"
   ]
  },
  {
   "cell_type": "code",
   "execution_count": 48,
   "id": "90cc01e2-43fb-4295-b289-20745b02c6c5",
   "metadata": {},
   "outputs": [
    {
     "data": {
      "text/plain": [
       "date      0\n",
       "open      0\n",
       "high      0\n",
       "low       0\n",
       "close     0\n",
       "volume    0\n",
       "dtype: int64"
      ]
     },
     "execution_count": 48,
     "metadata": {},
     "output_type": "execute_result"
    }
   ],
   "source": [
    "df.isnull().sum()"
   ]
  },
  {
   "cell_type": "code",
   "execution_count": 81,
   "id": "f48f95c4-09fc-412c-8935-11334818dd72",
   "metadata": {},
   "outputs": [
    {
     "data": {
      "image/png": "[encoded data removed]",
      "text/plain": [
       "<Figure size 1440x720 with 1 Axes>"
      ]
     },
     "metadata": {
      "needs_background": "light"
     },
     "output_type": "display_data"
    },
    {
     "data": {
      "image/png": "[encoded data removed]",
      "text/plain": [
       "<Figure size 432x288 with 1 Axes>"
      ]
     },
     "metadata": {
      "needs_background": "light"
     },
     "output_type": "display_data"
    },
    {
     "data": {
      "image/png": "[encoded data removed]",
      "text/plain": [
       "<Figure size 432x288 with 1 Axes>"
      ]
     },
     "metadata": {
      "needs_background": "light"
     },
     "output_type": "display_data"
    },
    {
     "data": {
      "image/png": "[encoded data removed]",
      "text/plain": [
       "<Figure size 432x288 with 1 Axes>"
      ]
     },
     "metadata": {
      "needs_background": "light"
     },
     "output_type": "display_data"
    },
    {
     "data": {
      "image/png": "[encoded data removed]",
      "text/plain": [
       "<Figure size 432x288 with 1 Axes>"
      ]
     },
     "metadata": {
      "needs_background": "light"
     },
     "output_type": "display_data"
    }
   ],
   "source": [
    "features = ['open', 'high', 'low', 'close', 'volume']\n",
    "\n",
    "plt.subplots(figsize=(20,10))\n",
    "\n",
    "for i, col in enumerate(features):\n",
    "    plt.subplot(2,3,i+1)\n",
    "    sb.distplot(df[col])\n",
    "    plt.show()\n"
   ]
  },
  {
   "cell_type": "markdown",
   "id": "2171a811-21b9-41b5-becc-9cb9d606df89",
   "metadata": {},
   "source": [
    " Veriler 3 er kez tepe noktası oluşturmuş."
   ]
  },
  {
   "cell_type": "code",
   "execution_count": 56,
   "id": "57bc582e-e329-4375-b817-38ae6909463e",
   "metadata": {},
   "outputs": [
    {
     "data": {
      "image/png": "[encoded data removed]",
      "text/plain": [
       "<Figure size 1440x720 with 1 Axes>"
      ]
     },
     "metadata": {
      "needs_background": "light"
     },
     "output_type": "display_data"
    },
    {
     "data": {
      "image/png": "[encoded data removed]",
      "text/plain": [
       "<Figure size 432x288 with 1 Axes>"
      ]
     },
     "metadata": {
      "needs_background": "light"
     },
     "output_type": "display_data"
    },
    {
     "data": {
      "image/png": "[encoded data removed]",
      "text/plain": [
       "<Figure size 432x288 with 1 Axes>"
      ]
     },
     "metadata": {
      "needs_background": "light"
     },
     "output_type": "display_data"
    },
    {
     "data": {
      "image/png": "[encoded data removed]",
      "text/plain": [
       "<Figure size 432x288 with 1 Axes>"
      ]
     },
     "metadata": {
      "needs_background": "light"
     },
     "output_type": "display_data"
    },
    {
     "data": {
      "image/png": "[encoded data removed]",
      "text/plain": [
       "<Figure size 432x288 with 1 Axes>"
      ]
     },
     "metadata": {
      "needs_background": "light"
     },
     "output_type": "display_data"
    }
   ],
   "source": [
    "plt.subplots(figsize=(20,10))\n",
    "for i, col in enumerate(features):\n",
    "    plt.subplot(2,3,i+1)\n",
    "    sb.boxplot(df[col])\n",
    "    plt.show()\n"
   ]
  },
  {
   "cell_type": "markdown",
   "id": "a72932e6-f675-49c1-931f-25df9c6d897c",
   "metadata": {},
   "source": [
    "Yalnızca hacim verileri aykırı değerler içeriyor."
   ]
  },
  {
   "cell_type": "markdown",
   "id": "9367170f-b28d-436e-9ce8-3f7158cd0901",
   "metadata": {},
   "source": [
    "## Feature Engineering"
   ]
  },
  {
   "cell_type": "markdown",
   "id": "48bcab58-23be-4dee-bdef-de5514770062",
   "metadata": {},
   "source": [
    "Bazı özelliklerin daha iyi anlaşılmasını sağlar ve modele anlama açısından da kolaylık sağlayarak performansını artırmasını sağlar."
   ]
  },
  {
   "cell_type": "code",
   "execution_count": 84,
   "id": "15b6ee97-9f4f-4e7a-8785-b889d1d557ac",
   "metadata": {},
   "outputs": [
    {
     "data": {
      "text/html": [
       "<div>\n",
       "<style scoped>\n",
       "    .dataframe tbody tr th:only-of-type {\n",
       "        vertical-align: middle;\n",
       "    }\n",
       "\n",
       "    .dataframe tbody tr th {\n",
       "        vertical-align: top;\n",
       "    }\n",
       "\n",
       "    .dataframe thead th {\n",
       "        text-align: right;\n",
       "    }\n",
       "</style>\n",
       "<table border=\"1\" class=\"dataframe\">\n",
       "  <thead>\n",
       "    <tr style=\"text-align: right;\">\n",
       "      <th></th>\n",
       "      <th>date</th>\n",
       "      <th>open</th>\n",
       "      <th>high</th>\n",
       "      <th>low</th>\n",
       "      <th>close</th>\n",
       "      <th>volume</th>\n",
       "      <th>day</th>\n",
       "      <th>month</th>\n",
       "      <th>year</th>\n",
       "      <th>is_quarter_end</th>\n",
       "    </tr>\n",
       "  </thead>\n",
       "  <tbody>\n",
       "    <tr>\n",
       "      <th>0</th>\n",
       "      <td>01/02/2020</td>\n",
       "      <td>67.420502</td>\n",
       "      <td>68.433998</td>\n",
       "      <td>67.324501</td>\n",
       "      <td>68.433998</td>\n",
       "      <td>27278000</td>\n",
       "      <td>2</td>\n",
       "      <td>1</td>\n",
       "      <td>2020</td>\n",
       "      <td>0</td>\n",
       "    </tr>\n",
       "    <tr>\n",
       "      <th>1</th>\n",
       "      <td>01/03/2020</td>\n",
       "      <td>67.400002</td>\n",
       "      <td>68.687500</td>\n",
       "      <td>67.365997</td>\n",
       "      <td>68.075996</td>\n",
       "      <td>23408000</td>\n",
       "      <td>3</td>\n",
       "      <td>1</td>\n",
       "      <td>2020</td>\n",
       "      <td>0</td>\n",
       "    </tr>\n",
       "    <tr>\n",
       "      <th>2</th>\n",
       "      <td>01/06/2020</td>\n",
       "      <td>67.581497</td>\n",
       "      <td>69.916000</td>\n",
       "      <td>67.550003</td>\n",
       "      <td>69.890503</td>\n",
       "      <td>46768000</td>\n",
       "      <td>6</td>\n",
       "      <td>1</td>\n",
       "      <td>2020</td>\n",
       "      <td>0</td>\n",
       "    </tr>\n",
       "    <tr>\n",
       "      <th>3</th>\n",
       "      <td>01/07/2020</td>\n",
       "      <td>70.023003</td>\n",
       "      <td>70.175003</td>\n",
       "      <td>69.578003</td>\n",
       "      <td>69.755501</td>\n",
       "      <td>34330000</td>\n",
       "      <td>7</td>\n",
       "      <td>1</td>\n",
       "      <td>2020</td>\n",
       "      <td>0</td>\n",
       "    </tr>\n",
       "    <tr>\n",
       "      <th>4</th>\n",
       "      <td>01/08/2020</td>\n",
       "      <td>69.740997</td>\n",
       "      <td>70.592499</td>\n",
       "      <td>69.631500</td>\n",
       "      <td>70.251999</td>\n",
       "      <td>35314000</td>\n",
       "      <td>8</td>\n",
       "      <td>1</td>\n",
       "      <td>2020</td>\n",
       "      <td>0</td>\n",
       "    </tr>\n",
       "  </tbody>\n",
       "</table>\n",
       "</div>"
      ],
      "text/plain": [
       "         date       open       high        low      close    volume  day  \\\n",
       "0  01/02/2020  67.420502  68.433998  67.324501  68.433998  27278000    2   \n",
       "1  01/03/2020  67.400002  68.687500  67.365997  68.075996  23408000    3   \n",
       "2  01/06/2020  67.581497  69.916000  67.550003  69.890503  46768000    6   \n",
       "3  01/07/2020  70.023003  70.175003  69.578003  69.755501  34330000    7   \n",
       "4  01/08/2020  69.740997  70.592499  69.631500  70.251999  35314000    8   \n",
       "\n",
       "   month  year  is_quarter_end  \n",
       "0      1  2020               0  \n",
       "1      1  2020               0  \n",
       "2      1  2020               0  \n",
       "3      1  2020               0  \n",
       "4      1  2020               0  "
      ]
     },
     "execution_count": 84,
     "metadata": {},
     "output_type": "execute_result"
    }
   ],
   "source": [
    "splitted = df['date'].str.split('/', expand=True)\n",
    "\n",
    "df['day'] = splitted[1].astype('int')\n",
    "df['month'] = splitted[0].astype('int')\n",
    "df['year'] = splitted[2].astype('int')\n",
    "\n",
    "df.head()"
   ]
  },
  {
   "cell_type": "code",
   "execution_count": 96,
   "id": "e45aeb89-c686-4450-ad7a-68d3d6b5988b",
   "metadata": {},
   "outputs": [
    {
     "data": {
      "text/html": [
       "<div>\n",
       "<style scoped>\n",
       "    .dataframe tbody tr th:only-of-type {\n",
       "        vertical-align: middle;\n",
       "    }\n",
       "\n",
       "    .dataframe tbody tr th {\n",
       "        vertical-align: top;\n",
       "    }\n",
       "\n",
       "    .dataframe thead th {\n",
       "        text-align: right;\n",
       "    }\n",
       "</style>\n",
       "<table border=\"1\" class=\"dataframe\">\n",
       "  <thead>\n",
       "    <tr style=\"text-align: right;\">\n",
       "      <th></th>\n",
       "      <th>date</th>\n",
       "      <th>open</th>\n",
       "      <th>high</th>\n",
       "      <th>low</th>\n",
       "      <th>close</th>\n",
       "      <th>volume</th>\n",
       "      <th>day</th>\n",
       "      <th>month</th>\n",
       "      <th>year</th>\n",
       "      <th>is_quarter_end</th>\n",
       "    </tr>\n",
       "  </thead>\n",
       "  <tbody>\n",
       "    <tr>\n",
       "      <th>0</th>\n",
       "      <td>01/02/2020</td>\n",
       "      <td>67.420502</td>\n",
       "      <td>68.433998</td>\n",
       "      <td>67.324501</td>\n",
       "      <td>68.433998</td>\n",
       "      <td>27278000</td>\n",
       "      <td>2</td>\n",
       "      <td>1</td>\n",
       "      <td>2020</td>\n",
       "      <td>0</td>\n",
       "    </tr>\n",
       "    <tr>\n",
       "      <th>1</th>\n",
       "      <td>01/03/2020</td>\n",
       "      <td>67.400002</td>\n",
       "      <td>68.687500</td>\n",
       "      <td>67.365997</td>\n",
       "      <td>68.075996</td>\n",
       "      <td>23408000</td>\n",
       "      <td>3</td>\n",
       "      <td>1</td>\n",
       "      <td>2020</td>\n",
       "      <td>0</td>\n",
       "    </tr>\n",
       "    <tr>\n",
       "      <th>2</th>\n",
       "      <td>01/06/2020</td>\n",
       "      <td>67.581497</td>\n",
       "      <td>69.916000</td>\n",
       "      <td>67.550003</td>\n",
       "      <td>69.890503</td>\n",
       "      <td>46768000</td>\n",
       "      <td>6</td>\n",
       "      <td>1</td>\n",
       "      <td>2020</td>\n",
       "      <td>0</td>\n",
       "    </tr>\n",
       "    <tr>\n",
       "      <th>3</th>\n",
       "      <td>01/07/2020</td>\n",
       "      <td>70.023003</td>\n",
       "      <td>70.175003</td>\n",
       "      <td>69.578003</td>\n",
       "      <td>69.755501</td>\n",
       "      <td>34330000</td>\n",
       "      <td>7</td>\n",
       "      <td>1</td>\n",
       "      <td>2020</td>\n",
       "      <td>0</td>\n",
       "    </tr>\n",
       "    <tr>\n",
       "      <th>4</th>\n",
       "      <td>01/08/2020</td>\n",
       "      <td>69.740997</td>\n",
       "      <td>70.592499</td>\n",
       "      <td>69.631500</td>\n",
       "      <td>70.251999</td>\n",
       "      <td>35314000</td>\n",
       "      <td>8</td>\n",
       "      <td>1</td>\n",
       "      <td>2020</td>\n",
       "      <td>0</td>\n",
       "    </tr>\n",
       "    <tr>\n",
       "      <th>...</th>\n",
       "      <td>...</td>\n",
       "      <td>...</td>\n",
       "      <td>...</td>\n",
       "      <td>...</td>\n",
       "      <td>...</td>\n",
       "      <td>...</td>\n",
       "      <td>...</td>\n",
       "      <td>...</td>\n",
       "      <td>...</td>\n",
       "      <td>...</td>\n",
       "    </tr>\n",
       "    <tr>\n",
       "      <th>295</th>\n",
       "      <td>03/05/2021</td>\n",
       "      <td>103.057503</td>\n",
       "      <td>105.309998</td>\n",
       "      <td>101.389000</td>\n",
       "      <td>104.853500</td>\n",
       "      <td>53100000</td>\n",
       "      <td>5</td>\n",
       "      <td>3</td>\n",
       "      <td>2021</td>\n",
       "      <td>1</td>\n",
       "    </tr>\n",
       "    <tr>\n",
       "      <th>296</th>\n",
       "      <td>03/08/2021</td>\n",
       "      <td>104.203003</td>\n",
       "      <td>105.686996</td>\n",
       "      <td>100.259499</td>\n",
       "      <td>100.375000</td>\n",
       "      <td>36868000</td>\n",
       "      <td>8</td>\n",
       "      <td>3</td>\n",
       "      <td>2021</td>\n",
       "      <td>1</td>\n",
       "    </tr>\n",
       "    <tr>\n",
       "      <th>297</th>\n",
       "      <td>03/09/2021</td>\n",
       "      <td>102.487503</td>\n",
       "      <td>103.195999</td>\n",
       "      <td>101.779999</td>\n",
       "      <td>102.017998</td>\n",
       "      <td>33920000</td>\n",
       "      <td>9</td>\n",
       "      <td>3</td>\n",
       "      <td>2021</td>\n",
       "      <td>1</td>\n",
       "    </tr>\n",
       "    <tr>\n",
       "      <th>298</th>\n",
       "      <td>03/10/2021</td>\n",
       "      <td>103.070000</td>\n",
       "      <td>103.070000</td>\n",
       "      <td>100.966499</td>\n",
       "      <td>101.809502</td>\n",
       "      <td>27100000</td>\n",
       "      <td>10</td>\n",
       "      <td>3</td>\n",
       "      <td>2021</td>\n",
       "      <td>1</td>\n",
       "    </tr>\n",
       "    <tr>\n",
       "      <th>299</th>\n",
       "      <td>03/11/2021</td>\n",
       "      <td>102.911003</td>\n",
       "      <td>105.563499</td>\n",
       "      <td>102.822502</td>\n",
       "      <td>105.027000</td>\n",
       "      <td>27702000</td>\n",
       "      <td>11</td>\n",
       "      <td>3</td>\n",
       "      <td>2021</td>\n",
       "      <td>1</td>\n",
       "    </tr>\n",
       "  </tbody>\n",
       "</table>\n",
       "<p>300 rows × 10 columns</p>\n",
       "</div>"
      ],
      "text/plain": [
       "           date        open        high         low       close    volume  \\\n",
       "0    01/02/2020   67.420502   68.433998   67.324501   68.433998  27278000   \n",
       "1    01/03/2020   67.400002   68.687500   67.365997   68.075996  23408000   \n",
       "2    01/06/2020   67.581497   69.916000   67.550003   69.890503  46768000   \n",
       "3    01/07/2020   70.023003   70.175003   69.578003   69.755501  34330000   \n",
       "4    01/08/2020   69.740997   70.592499   69.631500   70.251999  35314000   \n",
       "..          ...         ...         ...         ...         ...       ...   \n",
       "295  03/05/2021  103.057503  105.309998  101.389000  104.853500  53100000   \n",
       "296  03/08/2021  104.203003  105.686996  100.259499  100.375000  36868000   \n",
       "297  03/09/2021  102.487503  103.195999  101.779999  102.017998  33920000   \n",
       "298  03/10/2021  103.070000  103.070000  100.966499  101.809502  27100000   \n",
       "299  03/11/2021  102.911003  105.563499  102.822502  105.027000  27702000   \n",
       "\n",
       "     day  month  year  is_quarter_end  \n",
       "0      2      1  2020               0  \n",
       "1      3      1  2020               0  \n",
       "2      6      1  2020               0  \n",
       "3      7      1  2020               0  \n",
       "4      8      1  2020               0  \n",
       "..   ...    ...   ...             ...  \n",
       "295    5      3  2021               1  \n",
       "296    8      3  2021               1  \n",
       "297    9      3  2021               1  \n",
       "298   10      3  2021               1  \n",
       "299   11      3  2021               1  \n",
       "\n",
       "[300 rows x 10 columns]"
      ]
     },
     "execution_count": 96,
     "metadata": {},
     "output_type": "execute_result"
    }
   ],
   "source": [
    "df['is_quarter_end'] = np.where(df['month']%3==0,1,0)\n",
    "df.head(300)"
   ]
  },
  {
   "cell_type": "markdown",
   "id": "145d6c31-a180-41d8-ac0a-a4a8189d80de",
   "metadata": {},
   "source": [
    "Her şirket 3 aylık sonuçlarını yayınladığı için insanlar genelde şirket performansını böyle analiz eder.\n",
    "Bu 3 aylık veriler borsa verilerini çok etkiler.\n",
    "Bu özelliği eklememizin nedeni ise modelin için iyi bir parametre olacağıdır."
   ]
  },
  {
   "cell_type": "code",
   "execution_count": 90,
   "id": "a86d6b8c-8586-4b93-8344-7cd2a9e7d3e6",
   "metadata": {},
   "outputs": [
    {
     "data": {
      "image/png": "[encoded data removed]",
      "text/plain": [
       "<Figure size 720x720 with 1 Axes>"
      ]
     },
     "metadata": {
      "needs_background": "light"
     },
     "output_type": "display_data"
    },
    {
     "data": {
      "image/png": "[encoded data removed]",
      "text/plain": [
       "<Figure size 432x288 with 1 Axes>"
      ]
     },
     "metadata": {
      "needs_background": "light"
     },
     "output_type": "display_data"
    },
    {
     "data": {
      "image/png": "[encoded data removed]",
      "text/plain": [
       "<Figure size 432x288 with 1 Axes>"
      ]
     },
     "metadata": {
      "needs_background": "light"
     },
     "output_type": "display_data"
    },
    {
     "data": {
      "image/png": "[encoded data removed]",
      "text/plain": [
       "<Figure size 432x288 with 1 Axes>"
      ]
     },
     "metadata": {
      "needs_background": "light"
     },
     "output_type": "display_data"
    }
   ],
   "source": [
    "data_grouped = df.groupby('year').mean()\n",
    "plt.subplots(figsize=(10,10))\n",
    "\n",
    "for i, col in enumerate(['open', 'high', 'low', 'close']):\n",
    "    plt.subplot(2,2,i+1)\n",
    "    data_grouped[col].plot.bar()\n",
    "    plt.show()"
   ]
  },
  {
   "cell_type": "markdown",
   "id": "15f6efaf-e58d-4e84-9a23-447df4dde59e",
   "metadata": {},
   "source": [
    "Bu grafiklere göre fiyatların 2020 yılından 2021 e neredeyse iki kat arttığını görebiliriz."
   ]
  },
  {
   "cell_type": "code",
   "execution_count": 91,
   "id": "9311b346-799a-4de9-9f48-a567f7024f12",
   "metadata": {},
   "outputs": [
    {
     "data": {
      "text/html": [
       "<div>\n",
       "<style scoped>\n",
       "    .dataframe tbody tr th:only-of-type {\n",
       "        vertical-align: middle;\n",
       "    }\n",
       "\n",
       "    .dataframe tbody tr th {\n",
       "        vertical-align: top;\n",
       "    }\n",
       "\n",
       "    .dataframe thead th {\n",
       "        text-align: right;\n",
       "    }\n",
       "</style>\n",
       "<table border=\"1\" class=\"dataframe\">\n",
       "  <thead>\n",
       "    <tr style=\"text-align: right;\">\n",
       "      <th></th>\n",
       "      <th>open</th>\n",
       "      <th>high</th>\n",
       "      <th>low</th>\n",
       "      <th>close</th>\n",
       "      <th>volume</th>\n",
       "      <th>day</th>\n",
       "      <th>month</th>\n",
       "      <th>year</th>\n",
       "    </tr>\n",
       "    <tr>\n",
       "      <th>is_quarter_end</th>\n",
       "      <th></th>\n",
       "      <th></th>\n",
       "      <th></th>\n",
       "      <th></th>\n",
       "      <th></th>\n",
       "      <th></th>\n",
       "      <th></th>\n",
       "      <th></th>\n",
       "    </tr>\n",
       "  </thead>\n",
       "  <tbody>\n",
       "    <tr>\n",
       "      <th>0</th>\n",
       "      <td>105.005711</td>\n",
       "      <td>106.234416</td>\n",
       "      <td>103.831439</td>\n",
       "      <td>105.070197</td>\n",
       "      <td>3.540937e+07</td>\n",
       "      <td>15.633772</td>\n",
       "      <td>5.717105</td>\n",
       "      <td>2020.912281</td>\n",
       "    </tr>\n",
       "    <tr>\n",
       "      <th>1</th>\n",
       "      <td>105.158261</td>\n",
       "      <td>106.318625</td>\n",
       "      <td>103.852900</td>\n",
       "      <td>105.088865</td>\n",
       "      <td>3.523087e+07</td>\n",
       "      <td>15.758333</td>\n",
       "      <td>7.037500</td>\n",
       "      <td>2020.908333</td>\n",
       "    </tr>\n",
       "  </tbody>\n",
       "</table>\n",
       "</div>"
      ],
      "text/plain": [
       "                      open        high         low       close        volume  \\\n",
       "is_quarter_end                                                                 \n",
       "0               105.005711  106.234416  103.831439  105.070197  3.540937e+07   \n",
       "1               105.158261  106.318625  103.852900  105.088865  3.523087e+07   \n",
       "\n",
       "                      day     month         year  \n",
       "is_quarter_end                                    \n",
       "0               15.633772  5.717105  2020.912281  \n",
       "1               15.758333  7.037500  2020.908333  "
      ]
     },
     "execution_count": 91,
     "metadata": {},
     "output_type": "execute_result"
    }
   ],
   "source": [
    "df.groupby('is_quarter_end').mean()"
   ]
  },
  {
   "cell_type": "markdown",
   "id": "af550c03-54e4-4552-87d5-9b37b500e54d",
   "metadata": {},
   "source": [
    "Buradan çok anlamlı sonuçlar gelmedi."
   ]
  },
  {
   "cell_type": "code",
   "execution_count": 98,
   "id": "b6f0c3c7-bf26-4aaf-b0a7-49818c972b8d",
   "metadata": {},
   "outputs": [],
   "source": [
    "df['open-close'] = df['open'] - df['close']\n",
    "df['low-high'] = df['low'] - df['high']\n",
    "df['target'] = np.where(df['close'].shift(-1) > df['close'], 1, 0)"
   ]
  },
  {
   "cell_type": "markdown",
   "id": "b0b10139-3052-4b1f-b5ad-0d466b6405aa",
   "metadata": {},
   "source": [
    "Shift close satırını bir satır aşağı kaydırır."
   ]
  },
  {
   "cell_type": "code",
   "execution_count": 100,
   "id": "bb4fcb96-c6c8-4b1e-85fb-4897209cbfa0",
   "metadata": {},
   "outputs": [
    {
     "data": {
      "text/plain": [
       "0     -1.013496\n",
       "1     -0.675995\n",
       "2     -2.309006\n",
       "3      0.267502\n",
       "4     -0.511002\n",
       "         ...   \n",
       "691    1.220001\n",
       "692    1.400002\n",
       "693   -1.879997\n",
       "694   -1.199997\n",
       "695   -1.599998\n",
       "Name: open-close, Length: 696, dtype: float64"
      ]
     },
     "execution_count": 100,
     "metadata": {},
     "output_type": "execute_result"
    }
   ],
   "source": [
    "df['open-close']"
   ]
  },
  {
   "cell_type": "markdown",
   "id": "992f286c-6a88-402f-92ed-fcb0471fefb7",
   "metadata": {},
   "source": [
    "Şimdi satın alıp almama durumunu belirleyecek target değişkenini ekliyoruz ve modele sokmaya hazır hale getiriyoruz."
   ]
  },
  {
   "cell_type": "code",
   "execution_count": 99,
   "id": "1313bb54-e0fe-4c08-88fd-917678eaa25d",
   "metadata": {},
   "outputs": [
    {
     "data": {
      "image/png": "[encoded data removed]",
      "text/plain": [
       "<Figure size 432x288 with 1 Axes>"
      ]
     },
     "metadata": {},
     "output_type": "display_data"
    }
   ],
   "source": [
    "plt.pie(df['target'].value_counts().values,\n",
    "\t\tlabels=[0, 1], autopct='%1.1f%%')\n",
    "plt.show()"
   ]
  },
  {
   "cell_type": "markdown",
   "id": "8c3ae1eb-9f33-41e6-a166-9fdc95223e38",
   "metadata": {},
   "source": [
    "Eklediğimiz özelliğin ne kadar anlamlı olduğuna bakıyoruz."
   ]
  },
  {
   "cell_type": "code",
   "execution_count": 101,
   "id": "e351d475-8613-46fe-97bf-1d1b62758140",
   "metadata": {},
   "outputs": [
    {
     "data": {
      "image/png": "[encoded data removed]",
      "text/plain": [
       "<Figure size 720x720 with 1 Axes>"
      ]
     },
     "metadata": {
      "needs_background": "light"
     },
     "output_type": "display_data"
    }
   ],
   "source": [
    "plt.figure(figsize=(10, 10))\n",
    "sb.heatmap(df.corr() > 0.9, annot=True, cbar=False)\n",
    "plt.show()"
   ]
  },
  {
   "cell_type": "markdown",
   "id": "7be00b52-7ab8-4e1a-9ce8-ffe45df295ff",
   "metadata": {},
   "source": [
    "Son olarak ısı haritasına bakarak sadece ilk değişkenlerin birbiri ile korelasyonu yüksek olup daha sonra eklenen özelliklerin korelasyonu olmadığından verimizin modele hazır hale geldiğini anlıyoruz."
   ]
  },
  {
   "cell_type": "markdown",
   "id": "424a2380-113e-4780-b20e-8809cff75623",
   "metadata": {},
   "source": [
    "## Train-Test Ayırma ve Normalizasyon"
   ]
  },
  {
   "cell_type": "code",
   "execution_count": 103,
   "id": "339a7564-af02-40fa-8fc6-fbc185e060bc",
   "metadata": {},
   "outputs": [
    {
     "name": "stdout",
     "output_type": "stream",
     "text": [
      "(626, 3) (70, 3)\n"
     ]
    }
   ],
   "source": [
    "features = df[['open-close', 'low-high', 'is_quarter_end']]\n",
    "target = df['target']\n",
    "\n",
    "scaler = StandardScaler()\n",
    "features = scaler.fit_transform(features)\n",
    "\n",
    "X_train, X_valid, Y_train, Y_valid = train_test_split(\n",
    "\tfeatures, target, test_size=0.1, random_state=2022)\n",
    "print(X_train.shape, X_valid.shape)"
   ]
  },
  {
   "cell_type": "markdown",
   "id": "0ef34d26-0ebc-42d4-b7eb-f96aa320581e",
   "metadata": {},
   "source": [
    "Seçilen özelliklerimizi standart scaler fonksiyonu ile normalize ediyoruz. Daha sonra %90 Train %10 Test olarak verimizi ayırıyoruz."
   ]
  },
  {
   "cell_type": "markdown",
   "id": "a018282d-8f9a-4d23-84e0-9af915aeed7d",
   "metadata": {},
   "source": [
    "## Model Geliştirme ve Tahmin"
   ]
  },
  {
   "cell_type": "markdown",
   "id": "ec1069a2-8692-47f3-aa7b-440d451a0d40",
   "metadata": {},
   "source": [
    "Lojistik Regresyon, Karar Destek Makineleri ve XGBSınıflandırma model yöntemlerini kullanacağız.\n",
    "Değerlendirme metriği olarak ROC-AUC eğrisi kullanacağız. Bunun nedeni 0 veya 1 demek yerine 0 ile 1 arasındaki sürekli değerleri tahmin ettirmektir.\n",
    "Genelikle tahminlerin doğruluğunu ölçmek için kullanılır."
   ]
  },
  {
   "cell_type": "markdown",
   "id": "a85f14bc-c0b3-4db5-a335-b209d18d7033",
   "metadata": {},
   "source": [
    "ROC eğrisi sınıflandırma problemleri için çok önemli bir performans ölçümüdür. ROC bir olasılık eğrisidir ve altında kalan alan olan AUC ayrılabilirliğin derecesini veya ölçüsünü temsil eder."
   ]
  },
  {
   "cell_type": "code",
   "execution_count": 105,
   "id": "93c5b30a-ed21-45ed-b893-f2ba98c245ef",
   "metadata": {},
   "outputs": [
    {
     "name": "stdout",
     "output_type": "stream",
     "text": [
      "LogisticRegression() : \n",
      "Training Accuracy :  0.5471198251690582\n",
      "Validation Accuracy :  0.5435855263157895\n",
      "\n",
      "SVC(kernel='poly', probability=True) : \n",
      "Training Accuracy :  0.44235526966848093\n",
      "Validation Accuracy :  0.41611842105263164\n",
      "\n",
      "XGBClassifier(base_score=0.5, booster='gbtree', callbacks=None,\n",
      "              colsample_bylevel=1, colsample_bynode=1, colsample_bytree=1,\n",
      "              early_stopping_rounds=None, enable_categorical=False,\n",
      "              eval_metric=None, gamma=0, gpu_id=-1, grow_policy='depthwise',\n",
      "              importance_type=None, interaction_constraints='',\n",
      "              learning_rate=0.300000012, max_bin=256, max_cat_to_onehot=4,\n",
      "              max_delta_step=0, max_depth=6, max_leaves=0, min_child_weight=1,\n",
      "              missing=nan, monotone_constraints='()', n_estimators=100,\n",
      "              n_jobs=0, num_parallel_tree=1, predictor='auto', random_state=0,\n",
      "              reg_alpha=0, reg_lambda=1, ...) : \n",
      "Training Accuracy :  0.9975878278080159\n",
      "Validation Accuracy :  0.665296052631579\n",
      "\n"
     ]
    }
   ],
   "source": [
    "models = [LogisticRegression(), SVC(\n",
    "kernel='poly', probability=True), XGBClassifier()]\n",
    "\n",
    "for i in range(3):\n",
    "    models[i].fit(X_train, Y_train)\n",
    "\n",
    "    print(f'{models[i]} : ')\n",
    "    print('Training Accuracy : ', metrics.roc_auc_score(\n",
    "    Y_train, models[i].predict_proba(X_train)[:,1]))\n",
    "    print('Validation Accuracy : ', metrics.roc_auc_score(\n",
    "    Y_valid, models[i].predict_proba(X_valid)[:,1]))\n",
    "    print()"
   ]
  },
  {
   "cell_type": "code",
   "execution_count": 106,
   "id": "6401001c-e087-4681-b9c8-ca781c90e287",
   "metadata": {},
   "outputs": [
    {
     "data": {
      "image/png": "[encoded data removed]",
      "text/plain": [
       "<Figure size 432x288 with 2 Axes>"
      ]
     },
     "metadata": {
      "needs_background": "light"
     },
     "output_type": "display_data"
    }
   ],
   "source": [
    "metrics.plot_confusion_matrix(models[0], X_valid, Y_valid)\n",
    "plt.show()"
   ]
  },
  {
   "cell_type": "code",
   "execution_count": null,
   "id": "9c4df8a2-a227-4966-b042-4a553e169859",
   "metadata": {},
   "outputs": [],
   "source": []
  }
 ],
 "metadata": {
  "kernelspec": {
   "display_name": "Python 3 (ipykernel)",
   "language": "python",
   "name": "python3"
  },
  "language_info": {
   "codemirror_mode": {
    "name": "ipython",
    "version": 3
   },
   "file_extension": ".py",
   "mimetype": "text/x-python",
   "name": "python",
   "nbconvert_exporter": "python",
   "pygments_lexer": "ipython3",
   "version": "3.9.12"
  }
 },
 "nbformat": 4,
 "nbformat_minor": 5
}
